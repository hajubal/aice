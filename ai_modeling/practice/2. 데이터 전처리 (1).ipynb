{
 "cells": [
  {
   "attachments": {},
   "cell_type": "markdown",
   "id": "55add5c1",
   "metadata": {},
   "source": [
    "# 안녕하세요, 여러분 ^^ \n",
    "\n",
    "# 디지코 디그리 AI 모델링 과정 \n",
    "# 🎈\"도전 머신러닝\" 시간에 오신 여러분을 환영합니다!\n",
    "\n",
    "## 오늘은 <font color=\"#01918a\">'타이타닉 생존자 예측'</font> 문제를 해결해 보겠습니다."
   ]
  },
  {
   "attachments": {},
   "cell_type": "markdown",
   "id": "68fe315e",
   "metadata": {},
   "source": [
    "<img src = \"https://images.unsplash.com/photo-1654170816607-f355d5cd5619?ixlib=rb-4.0.3&ixid=M3wxMjA3fDB8MHxwaG90by1wYWdlfHx8fGVufDB8fHx8fA%3D%3D&auto=format&fit=crop&w=2664&q=80\" width=100% align=\"center\"/>\n",
    "\n",
    "<div align=\"right\">사진: <a href=\"https://unsplash.com/ko/%EC%82%AC%EC%A7%84/TQAWPDbuwrc?utm_source=unsplash&utm_medium=referral&utm_content=creditCopyText\">Unsplash</a>의<a href=\"https://unsplash.com/@ep_petrus?utm_source=unsplash&utm_medium=referral&utm_content=creditCopyText\">Edwin Petrus</a></div>"
   ]
  },
  {
   "attachments": {},
   "cell_type": "markdown",
   "id": "84008ade",
   "metadata": {},
   "source": [
    "---"
   ]
  },
  {
   "attachments": {},
   "cell_type": "markdown",
   "id": "587d060b",
   "metadata": {},
   "source": [
    "## 1. 데이터 수집 및 분석\n",
    "### 1) 데이터 불러오기"
   ]
  },
  {
   "cell_type": "code",
   "id": "8eca0b38",
   "metadata": {},
   "source": [
    "# 기본 라이브러리 불러오기\n",
    "import warnings\n",
    "warnings.filterwarnings('ignore')\n",
    "\n",
    "import pandas as pd\n",
    "import matplotlib.pyplot as plt\n",
    "import seaborn as sns\n",
    "%matplotlib inline"
   ],
   "outputs": [],
   "execution_count": null
  },
  {
   "cell_type": "code",
   "id": "1c9406df",
   "metadata": {},
   "source": [
    "# 데이터 불러오기\n",
    "df = pd.read_csv(\"./data/train.csv\")"
   ],
   "outputs": [],
   "execution_count": null
  },
  {
   "cell_type": "code",
   "id": "cf836926",
   "metadata": {
    "scrolled": true
   },
   "source": [
    "df.head()"
   ],
   "outputs": [],
   "execution_count": null
  },
  {
   "attachments": {},
   "cell_type": "markdown",
   "id": "af89e79e",
   "metadata": {},
   "source": [
    "---"
   ]
  },
  {
   "attachments": {},
   "cell_type": "markdown",
   "id": "7a5a6bf3",
   "metadata": {},
   "source": [
    "## 2. 데이터 전처리 (1)\n",
    "불필요한 컬럼을 삭제하거나 기존 데이터로 부터 새로운 컬럼을 생성합니다. <br>\n",
    "데이터의 결측치를 확인하고 처리합니다. <br>"
   ]
  },
  {
   "attachments": {},
   "cell_type": "markdown",
   "id": "71e23e83",
   "metadata": {},
   "source": [
    "### 1) 데이터 가공하기\n",
    "#### ① 기존 데이터에서 유용한 정보 추출하여 새로운 컬럼 만들기\n"
   ]
  },
  {
   "attachments": {},
   "cell_type": "markdown",
   "id": "9d647ca8",
   "metadata": {},
   "source": [
    "- **'Name' 컬럼에서 호칭('Mr, 'Mrs', 'Miss' 등)을 따로 분리해서 'Title' 컬럼을 새로 만들어 보세요.**<br>"
   ]
  },
  {
   "cell_type": "code",
   "id": "1ea6dee9",
   "metadata": {
    "scrolled": true
   },
   "source": [
    "df['Name'].head(30)"
   ],
   "outputs": [],
   "execution_count": null
  },
  {
   "attachments": {},
   "cell_type": "markdown",
   "id": "755ad82f",
   "metadata": {},
   "source": [
    "- **pandas의 'str.extract' 메서드를 사용하여 정규표현식 패턴을 추출할 수 있습니다.**\n",
    "> **정규 표현식이란?** <br>\n",
    "> 특정한 조건의 문자를 '검색'하거나 '치환'하는 과정을 매우 간편하게 처리하기 위한 방법<br>\n",
    "> [0-9] 또는 [a-zA-Z] 등은 무척 자주 사용하는 정규 표현식입니다.<br>\n",
    "> [참고] 정규 표현식 (https://wikidocs.net/4308)\n",
    "\n",
    "***\"뛰어쓰기로 시작되며, 모든 알파벳을 포함한 문자가 반복되다가 dot(.)으로 마무리 되는 문자열을 찾아보세요.\"***"
   ]
  },
  {
   "cell_type": "code",
   "id": "88df72df",
   "metadata": {
    "scrolled": true
   },
   "source": [
    "df['Name'].str.extract(' ([a-zA-Z]+)\\.')\n",
    "\n",
    "df['Title'] = df['Name'].str.extract(' ([a-zA-Z]+)\\.')"
   ],
   "outputs": [],
   "execution_count": null
  },
  {
   "cell_type": "code",
   "id": "9c3fd714",
   "metadata": {},
   "source": [
    "df.head()"
   ],
   "outputs": [],
   "execution_count": null
  },
  {
   "attachments": {},
   "cell_type": "markdown",
   "id": "c83fbc87",
   "metadata": {},
   "source": [
    "- **새로 생성한 호칭(Title) 컬럼의 데이터 분포를 확인하고 고유값 중 개수가 전체의 10% 미만일 경우 그 값을 'Others'로 변경해 주세요.**\n",
    "> value_counts() 함수를 사용하면 고유값의 개수를 확인할 수 있습니다. <br>또한, normalize 옵션을 True로 하면 전체합이 1인 상태에서 모든 값을 비중으로 나누어서 반환하게 됩니다."
   ]
  },
  {
   "cell_type": "code",
   "id": "e860d360",
   "metadata": {},
   "source": [
    "df['Title'].value_counts()"
   ],
   "outputs": [],
   "execution_count": null
  },
  {
   "cell_type": "code",
   "id": "2b4716fe",
   "metadata": {
    "scrolled": true
   },
   "source": [
    "# normalize 옵션을 주면 컬럼 값의 비율을 알 수 있다.\n",
    "df['Title'].value_counts(normalize=True)"
   ],
   "outputs": [],
   "execution_count": null
  },
  {
   "cell_type": "code",
   "id": "6b9f6636",
   "metadata": {},
   "source": [
    "# 대표 호칭 이외는 Others로 변경\n",
    "df.loc[df['Title'].isin(['Mr', 'Miss', 'Mrs'])==False, ['Title']] = 'Others'"
   ],
   "outputs": [],
   "execution_count": null
  },
  {
   "cell_type": "code",
   "id": "5cadf765",
   "metadata": {},
   "source": [
    "df.head()"
   ],
   "outputs": [],
   "execution_count": null
  },
  {
   "attachments": {},
   "cell_type": "markdown",
   "id": "5736bb4d",
   "metadata": {},
   "source": [
    "### 2) 결측치 처리하기\n",
    "결측치 처리는 데이터셋에서 누락된 값이나 비어 있는 값인 결측치를 다루는 과정을 말합니다. 결측치는 데이터 수집 과정에서 발생할 수 있는 실수, 누락된 정보, 기록 오류 등으로 인해 발생할 수 있습니다. 결측치 처리는 데이터 분석이나 기계 학습 모델 학습에 필수적인 단계로 간주됩니다.\n",
    "\n",
    "결측치 처리 방법은 데이터의 특성과 분석 목적에 따라 선택되어야 합니다. 주어진 상황과 데이터에 맞는 적절한 결측치 처리 방법을 선택하여 데이터의 유효성을 유지하고 정확한 분석 결과를 얻을 수 있도록 해야 합니다.\n",
    "\n",
    "#### 🚨<font color=\"red\"> 결측치 처리 시 주의사항</font>\n",
    ">**데이터 결측치 처리 시 반드시 원본 데이터를 복사해서 사용하여 원본 데이터의 손실을 예방합니다.<br>\n",
    "><u>파이썬에서 Copy 메소드를 사용하지 않으면 주소값을 복사해서 사용기 때문에 원본 값을 변경 시키게 됩니다.</u><br>\n",
    ">따라서, 원본 항목을 보전하면서 데이터를 보정하려면 copy() 메소드를 사용하여 백업해두는 것이 필요합니다.**\n"
   ]
  },
  {
   "cell_type": "code",
   "id": "f42d39de",
   "metadata": {
    "scrolled": true
   },
   "source": [
    "# 원본 데이터프레임 'df' 를 copy한 데이터프레임 'df_copy'\n",
    "df_copy = df.copy()\n",
    "df_copy.head(3)"
   ],
   "outputs": [],
   "execution_count": null
  },
  {
   "cell_type": "code",
   "id": "024f39b6",
   "metadata": {
    "scrolled": false
   },
   "source": [
    "# 원본 데이터프레임 'df' 를 copy하지 않고 새로운 변수에 할당 'df_nocopy'\n",
    "# 이렇게 하면 같은 메모리 주소 값을 참조 한다.\n",
    "df_nocopy=df\n",
    "df_nocopy.head(3)"
   ],
   "outputs": [],
   "execution_count": null
  },
  {
   "cell_type": "code",
   "id": "2d9efcff",
   "metadata": {},
   "source": [
    "# df_nocopy 변수의 승객ID(PassengerId)를 모두 0으로 변경\n",
    "df_nocopy['PassengerId']=0\n",
    "df_nocopy.head(3)"
   ],
   "outputs": [],
   "execution_count": null
  },
  {
   "cell_type": "code",
   "id": "9f7abf39",
   "metadata": {
    "scrolled": true
   },
   "source": [
    "# 원본 데이터 프레임 df가 함께 변경된 것을 확인할 수 있습니다.\n",
    "df.head(3)"
   ],
   "outputs": [],
   "execution_count": null
  },
  {
   "cell_type": "code",
   "id": "ca4c0aa5",
   "metadata": {},
   "source": [
    "id(df), id(df_nocopy), id(df_copy)"
   ],
   "outputs": [],
   "execution_count": null
  },
  {
   "cell_type": "code",
   "id": "86a14d13",
   "metadata": {
    "scrolled": false
   },
   "source": [
    "df_copy.head(3)"
   ],
   "outputs": [],
   "execution_count": null
  },
  {
   "cell_type": "code",
   "id": "81ee9814",
   "metadata": {},
   "source": [
    "df = df_copy.copy()"
   ],
   "outputs": [],
   "execution_count": null
  },
  {
   "attachments": {},
   "cell_type": "markdown",
   "id": "b47c38c3",
   "metadata": {},
   "source": [
    "#### ① 결측치 확인하기\n",
    "- **결측치 행 확인하기**"
   ]
  },
  {
   "cell_type": "code",
   "id": "6e966a6e",
   "metadata": {
    "scrolled": true
   },
   "source": [
    "df.isnull()"
   ],
   "outputs": [],
   "execution_count": null
  },
  {
   "attachments": {},
   "cell_type": "markdown",
   "id": "b3f61621",
   "metadata": {},
   "source": [
    "- **결측치 개수 확인하기**"
   ]
  },
  {
   "cell_type": "code",
   "id": "73d381de",
   "metadata": {
    "scrolled": true
   },
   "source": [
    "df.isnull().sum()"
   ],
   "outputs": [],
   "execution_count": null
  },
  {
   "attachments": {},
   "cell_type": "markdown",
   "id": "acde00ce",
   "metadata": {},
   "source": [
    "데이터셋에서 누락된 값(결측치)을 다른 값으로 대체하는 과정을 말합니다. <br>\n",
    "결측치를 채우는 방법은 데이터의 특성과 분석 목적에 따라 다양하게 선택될 수 있습니다. 일반적으로 사용되는 결측치 대체 방법은 다음과 같습니다. <br>\n",
    "\n",
    "1. 평균, 중앙값, 최빈값 등의 대표적인 통계량 사용\n",
    "2. 결측치 Imputer 활용하여 결측치를 대체하는 방법\n",
    "3. 도메인 지식 또는 전문가 지식 활용\n",
    "\n",
    "각각의 방법은 데이터의 특성과 분석 목적에 따라 선택됩니다. 데이터셋과 분석 환경을 고려하여 가장 적합한 방법을 선택하여 결측치를 처리할 수 있습니다.\n",
    "\n",
    "1. **통계량을 사용하여 결측치 채우기**\n",
    "    \n",
    "- **나이(Age) 컬럼을 호칭(Title) 컬럼을 기준으로 하여 그룹 별 나이의 중앙값으로 채워 주세요.**\n",
    "> 간단한 집계를 넘어서 조건부로 집계하고 싶은 경우, pandas의 ***groupby*** 함수를 활용할 수 있습니다.<br>\n",
    "> ***groupby*** 함수를 이용하면 키 값을 기준으로 그룹으로 묶을 수 있고, <br>묶은 그룹별로 ***연산(평균, 중간값 등)***이 가능합니다.<br> \n",
    "> 또, ***transform***을 사용하면 그룹별로 연산을 수행한 결과를 원본 데이터 프레임에 적용할 수 도 있습니다. "
   ]
  },
  {
   "cell_type": "code",
   "id": "ac1263d3",
   "metadata": {
    "scrolled": false
   },
   "source": [
    "# Age 컬럼의 Title 별 중앙값 확인하기\n",
    "df.groupby('Title')['Age'].median()"
   ],
   "outputs": [],
   "execution_count": null
  },
  {
   "cell_type": "code",
   "id": "372b3b29",
   "metadata": {
    "scrolled": true
   },
   "source": [
    "# Age 결측치를 Title 별 중앙값으로 채우기\n",
    "df_simple = df.copy()\n",
    "\n",
    "df_simple['Age'] = df['Age'].fillna(df.groupby('Title')['Age'].transform('median'))"
   ],
   "outputs": [],
   "execution_count": null
  },
  {
   "cell_type": "code",
   "id": "648de3d5",
   "metadata": {},
   "source": [
    "df_simple.isnull().sum()"
   ],
   "outputs": [],
   "execution_count": null
  },
  {
   "attachments": {},
   "cell_type": "markdown",
   "id": "9d0ca5e3",
   "metadata": {},
   "source": [
    "**2. 결측치 Imputer 활용하여 결측치를 대체하는 방법**<br>\n",
    "sklearn.impute 모듈에서 다양한 결측치 imputer 클래스를 제공합니다. 이러한 imputer 클래스들은 결측치 대체를 위한 여러 가지 전략을 지원합니다. \n",
    "\n",
    "> - **'SimpleImputer'**: 결측치를 특정한 값(평균, 중앙값, 최빈값 등)으로 대체합니다. 주로 수치형 데이터에 사용됩니다.<br\n",
    "> - **'IterativeImputer'**: 다중 회귀(Multiple Regression)를 사용하여 결측치를 예측하여 대체합니다. 반복적으로 결측치를 예측하고 모델을 업데이트하여 대체합니다.<br>\n",
    "> - **'KNNImputer'**: K-최근접 이웃(K-Nearest Neighbors) 알고리즘을 사용하여 결측치를 예측하여 대체합니다. 주변 샘플들의 값을 기반으로 결측치를 추정합니다.<br>\n",
    "<img src=\"https://miro.medium.com/v2/resize:fit:720/format:webp/1*X87BpgaCcr4IYZqP8lxH0Q.png\" width=400>\n",
    "<div align=\"right\">Image by <a href=\"https://towardsdatascience.com/implementation-and-limitations-of-imputation-methods-b6576bf31a6c\">Implementation and Limitations of Imputation Methods</a></div>"
   ]
  },
  {
   "attachments": {},
   "cell_type": "markdown",
   "id": "7b1ca5a2",
   "metadata": {},
   "source": [
    "- **나이(Age) 컬럼의 결측치를 KNNImputer를 활용하여 대체해 주세요.**"
   ]
  },
  {
   "cell_type": "code",
   "id": "b025d48b",
   "metadata": {},
   "source": [
    "df_imputer = df_copy.copy()"
   ],
   "outputs": [],
   "execution_count": null
  },
  {
   "cell_type": "code",
   "id": "8c308588",
   "metadata": {},
   "source": [
    "# Imputer 라이브러리 불러오기\n",
    "from sklearn.impute import KNNImputer\n",
    "\n",
    "# KNNImputer를 사용하여 결측치를 예측하여 대체\n",
    "imputer = KNNImputer(n_neighbors=3)\n",
    "df_imputer['Age'] = imputer.fit_transform(df[['Age']])\n",
    "\n",
    "# KNNImputer로 대체한 값의 결과가 소수점이 있을 수 있으니 정수로 변환\n",
    "df_imputer['Age'] = df_imputer['Age'].astype(int)"
   ],
   "outputs": [],
   "execution_count": null
  },
  {
   "attachments": {},
   "cell_type": "markdown",
   "id": "e82dc1ff",
   "metadata": {},
   "source": [
    "- **원본 데이터와 각각의 결측치 처리한 결과를 비교해보세요.**"
   ]
  },
  {
   "cell_type": "code",
   "id": "40f4b4d3",
   "metadata": {},
   "source": [
    "# 결측치를 처리한 결과 비교를 위해 데이터프레임에서 나이(Age)만 추출하여 데이터프레임을 합칩니다.\n",
    "df_age = pd.concat([df['Age'], df_simple['Age']], axis=1)\n",
    "df_age = pd.concat([df_age, df_imputer['Age']], axis=1)\n",
    "df_age.columns=['Orgin', 'Median', 'KNN']"
   ],
   "outputs": [],
   "execution_count": null
  },
  {
   "cell_type": "code",
   "id": "6f76ea42",
   "metadata": {
    "scrolled": true
   },
   "source": [
    "# describe 함수를 활용하여 수학적 통계 비교\n",
    "df_age.describe()"
   ],
   "outputs": [],
   "execution_count": null
  },
  {
   "attachments": {},
   "cell_type": "markdown",
   "id": "61df62cf",
   "metadata": {},
   "source": [
    "- **결측치 처리한 결과를 데이터프레임에 저장하고, df_copy(백업 데이터)도 업데이트 해주세요.**"
   ]
  },
  {
   "cell_type": "code",
   "id": "c3e5f66a",
   "metadata": {},
   "source": [
    "df = df_imputer\n",
    "df_copy = df.copy()"
   ],
   "outputs": [],
   "execution_count": null
  },
  {
   "attachments": {},
   "cell_type": "markdown",
   "id": "228489e8",
   "metadata": {},
   "source": [
    "---"
   ]
  },
  {
   "attachments": {},
   "cell_type": "markdown",
   "id": "b4e8186a",
   "metadata": {},
   "source": [
    "### <font color=\"red\"> [실습 문제]</font> "
   ]
  },
  {
   "attachments": {},
   "cell_type": "markdown",
   "id": "5833eb80",
   "metadata": {},
   "source": [
    "**<font color=red>[Q]</font> 'df' 데이터프레임에서 결측치를 확인해 보세요.**"
   ]
  },
  {
   "cell_type": "code",
   "id": "4e41f44c",
   "metadata": {
    "scrolled": false
   },
   "source": [
    "# 여기에 입력하세요.\n",
    "\n",
    "df.isnull()\n"
   ],
   "outputs": [],
   "execution_count": null
  },
  {
   "cell_type": "code",
   "id": "733adb32",
   "metadata": {},
   "source": [
    "df.isnull().sum()"
   ],
   "outputs": [],
   "execution_count": null
  },
  {
   "attachments": {},
   "cell_type": "markdown",
   "id": "88095065",
   "metadata": {},
   "source": [
    "**<font color=red>[Q]</font> 컬럼 탑승항구(Embarked)의 결측치를 최빈값으로 채운 후 'df' 데이터프레임을 변경하세요.**\n",
    "\n",
    "    📌 Hint.\n",
    "> - 최빈값은 mode() 함수를 사용하거나, value_counts()를 활용하면 확인 가능합니다.\n",
    "> - pandas의 fillna()를 사용하거나 sklearn의 SimpleImputer를 사용할 수 있습니다.\n",
    "> - SimpleImputer 사용 시 최빈값은 strategy 옵션을 'most_frequent'로 지정할 수 있습니다."
   ]
  },
  {
   "cell_type": "code",
   "id": "30d28c40",
   "metadata": {},
   "source": [
    "df = df_copy.copy()\n",
    "df['Embarked'].mode()"
   ],
   "outputs": [],
   "execution_count": null
  },
  {
   "cell_type": "code",
   "id": "5613ff0e",
   "metadata": {},
   "source": [
    "# 여기에 입력하세요.\n",
    "\n",
    "df = df_copy.copy()\n",
    "df['Embarked'] = df['Embarked'].fillna(df['Embarked'].mode().var)\n"
   ],
   "outputs": [],
   "execution_count": null
  },
  {
   "cell_type": "code",
   "id": "209dcb83",
   "metadata": {},
   "source": [
    "df['Embarked'].isnull().sum()"
   ],
   "outputs": [],
   "execution_count": null
  },
  {
   "attachments": {},
   "cell_type": "markdown",
   "id": "585bdb84",
   "metadata": {},
   "source": [
    "**<font color=red>[Q]</font> 결측치가 남아있는 컬럼 중 해당 컬럼의 결측치 값이 전체 데이터(891개)의 50% 이상(445개보다 많은 경우)인 경우 해당 열을 삭제 후 'df' 데이터프레임을 변경하세요.**\n",
    "\n",
    "    📌 Hint.\n",
    "> - 결측치 제거는 pandas의 dropna()를 사용할 수 있습니다.\n",
    "> - thresh 옵션을 사용하면 임계값을 설정할 수 있습니다."
   ]
  },
  {
   "cell_type": "code",
   "id": "c5d05576",
   "metadata": {},
   "source": [
    "df = df_copy.copy()"
   ],
   "outputs": [],
   "execution_count": null
  },
  {
   "cell_type": "code",
   "id": "279f4394",
   "metadata": {},
   "source": [
    "missing_ratio = df.isnull().sum() / len(df)\n",
    "\n",
    "missing_ratio"
   ],
   "outputs": [],
   "execution_count": null
  },
  {
   "cell_type": "code",
   "id": "fbe1a998",
   "metadata": {},
   "source": [
    "cols_to_drop = missing_ratio[missing_ratio > 0.5].index\n",
    "\n",
    "cols_to_drop"
   ],
   "outputs": [],
   "execution_count": null
  },
  {
   "cell_type": "code",
   "id": "813f2166",
   "metadata": {},
   "source": [
    "# 여기에 입력하세요.\n",
    "# 결측치 비율 계산\n",
    "missing_ratio = df.isnull().sum() / len(df)\n",
    "\n",
    "# 결측치 비율이 50% 이상인 컬럼 선택\n",
    "cols_to_drop = missing_ratio[missing_ratio > 0.5].index\n",
    "\n",
    "# 해당 컬럼 삭제\n",
    "df = df.drop(cols_to_drop, axis=1)\n"
   ],
   "outputs": [],
   "execution_count": null
  },
  {
   "cell_type": "code",
   "id": "62dc3d52",
   "metadata": {},
   "source": [
    "df.isnull().sum()"
   ],
   "outputs": [],
   "execution_count": null
  },
  {
   "attachments": {},
   "cell_type": "markdown",
   "id": "f22a7ddc",
   "metadata": {},
   "source": [
    "**<font color=red>[Q]</font> 승객의 Id, 이름, 티켓 번호와 같이 고유한 값들의 가진 불필요한 컬럼을 삭제해 주세요.**\n",
    "\n",
    "#### 🚨<font color=\"red\"> 고유한 값들의 컬럼을 삭제하는 이유</font>\n",
    ">**고유한 값들은 개별적인 식별자 정보로 머신러닝 모델에게 유용한 예측 패턴을 제공하지 않으며, <br>\n",
    ">오히려 과적합을 유발할 수 있으므로 삭제하여 모델의 일반화 성능을 향상시키고,<br>\n",
    ">불필요한 복잡성을 줄이기 위해 제거합니다.**\n",
    "\n",
    "    📌 Hint.\n",
    "> - 컬럼 제거는 pandas의 drop()을 사용할 수 있습니다.\n",
    "> - axis 옵션을 꼭 1로 하여 컬럼을 삭제하셔야 합니다."
   ]
  },
  {
   "cell_type": "code",
   "id": "032eaf1b",
   "metadata": {},
   "source": [
    "# 여기에 입력하세요.\n",
    "df = df.drop(['PassengerId', 'Name', 'Ticket'], axis=1)\n",
    "\n",
    "df"
   ],
   "outputs": [],
   "execution_count": null
  },
  {
   "attachments": {},
   "cell_type": "markdown",
   "id": "a83d3d9d",
   "metadata": {},
   "source": [
    "---"
   ]
  },
  {
   "attachments": {},
   "cell_type": "markdown",
   "id": "aa984e60",
   "metadata": {},
   "source": [
    "### 📥<font color=\"red\"> 다음 실습을 위해 가공이 완료된 데이터 'df'를 파일로 저장합니다.</font>\n",
    "\n",
    "- pandas의 to_csv 메소드를 사용하면 파일 저장할 수 있습니다. \n",
    "- [참고] 컬럼명에 한글이 있을 경우 저장 시 encoding 옵션을 'utf-8-sig'로 지정하여야 한글 깨짐을 방지할 수 있습니다."
   ]
  },
  {
   "cell_type": "code",
   "id": "48b841ac",
   "metadata": {},
   "source": [
    "df.to_csv(\"./data/train_preprocessing_1.csv\", encoding='utf-8', index=False)"
   ],
   "outputs": [],
   "execution_count": null
  },
  {
   "attachments": {},
   "cell_type": "markdown",
   "id": "503daa42",
   "metadata": {},
   "source": [
    "---"
   ]
  },
  {
   "attachments": {},
   "cell_type": "markdown",
   "id": "b70ee587",
   "metadata": {},
   "source": [
    "---"
   ]
  }
 ],
 "metadata": {
  "kernelspec": {
   "display_name": "Python 3 (ipykernel)",
   "language": "python",
   "name": "python3"
  },
  "language_info": {
   "codemirror_mode": {
    "name": "ipython",
    "version": 3
   },
   "file_extension": ".py",
   "mimetype": "text/x-python",
   "name": "python",
   "nbconvert_exporter": "python",
   "pygments_lexer": "ipython3",
   "version": "3.10.10"
  },
  "vscode": {
   "interpreter": {
    "hash": "f08154012ddadd8e950e6e9e035c7a7b32c136e7647e9b7c77e02eb723a8bedb"
   }
  }
 },
 "nbformat": 4,
 "nbformat_minor": 5
}
