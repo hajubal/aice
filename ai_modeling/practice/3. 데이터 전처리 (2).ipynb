{
 "cells": [
  {
   "attachments": {},
   "cell_type": "markdown",
   "id": "55add5c1",
   "metadata": {},
   "source": [
    "# 안녕하세요, 여러분 ^^ \n",
    "\n",
    "# 디지코 디그리 AI 모델링 과정 \n",
    "# 🎈\"도전 머신러닝\" 시간에 오신 여러분을 환영합니다!\n",
    "\n",
    "## 오늘은 <font color=\"#01918a\">'타이타닉 생존자 예측'</font> 문제를 해결해 보겠습니다."
   ]
  },
  {
   "attachments": {},
   "cell_type": "markdown",
   "id": "68fe315e",
   "metadata": {},
   "source": [
    "<img src = \"https://images.unsplash.com/photo-1654170816607-f355d5cd5619?ixlib=rb-4.0.3&ixid=M3wxMjA3fDB8MHxwaG90by1wYWdlfHx8fGVufDB8fHx8fA%3D%3D&auto=format&fit=crop&w=2664&q=80\" width=100% align=\"center\"/>\n",
    "\n",
    "<div align=\"right\">사진: <a href=\"https://unsplash.com/ko/%EC%82%AC%EC%A7%84/TQAWPDbuwrc?utm_source=unsplash&utm_medium=referral&utm_content=creditCopyText\">Unsplash</a>의<a href=\"https://unsplash.com/@ep_petrus?utm_source=unsplash&utm_medium=referral&utm_content=creditCopyText\">Edwin Petrus</a></div>"
   ]
  },
  {
   "attachments": {},
   "cell_type": "markdown",
   "id": "84008ade",
   "metadata": {},
   "source": [
    "---"
   ]
  },
  {
   "attachments": {},
   "cell_type": "markdown",
   "id": "587d060b",
   "metadata": {},
   "source": [
    "## 1. 데이터 수집 및 분석\n",
    "### 1) 데이터 불러오기"
   ]
  },
  {
   "cell_type": "code",
   "execution_count": 1,
   "id": "8eca0b38",
   "metadata": {},
   "outputs": [],
   "source": [
    "# 기본 라이브러리 불러오기\n",
    "import warnings\n",
    "warnings.filterwarnings('ignore')\n",
    "\n",
    "import pandas as pd\n",
    "import matplotlib.pyplot as plt\n",
    "import seaborn as sns\n",
    "%matplotlib inline"
   ]
  },
  {
   "cell_type": "code",
   "execution_count": 2,
   "id": "1c9406df",
   "metadata": {},
   "outputs": [],
   "source": [
    "# 데이터 불러오기\n",
    "df = pd.read_csv(\"./data/train_preprocessing_1.csv\")"
   ]
  },
  {
   "cell_type": "code",
   "execution_count": 3,
   "id": "cf836926",
   "metadata": {
    "scrolled": false
   },
   "outputs": [
    {
     "data": {
      "text/html": [
       "<div>\n",
       "<style scoped>\n",
       "    .dataframe tbody tr th:only-of-type {\n",
       "        vertical-align: middle;\n",
       "    }\n",
       "\n",
       "    .dataframe tbody tr th {\n",
       "        vertical-align: top;\n",
       "    }\n",
       "\n",
       "    .dataframe thead th {\n",
       "        text-align: right;\n",
       "    }\n",
       "</style>\n",
       "<table border=\"1\" class=\"dataframe\">\n",
       "  <thead>\n",
       "    <tr style=\"text-align: right;\">\n",
       "      <th></th>\n",
       "      <th>Survived</th>\n",
       "      <th>Pclass</th>\n",
       "      <th>Sex</th>\n",
       "      <th>Age</th>\n",
       "      <th>SibSp</th>\n",
       "      <th>Parch</th>\n",
       "      <th>Fare</th>\n",
       "      <th>Embarked</th>\n",
       "      <th>Title</th>\n",
       "    </tr>\n",
       "  </thead>\n",
       "  <tbody>\n",
       "    <tr>\n",
       "      <th>0</th>\n",
       "      <td>0</td>\n",
       "      <td>3</td>\n",
       "      <td>male</td>\n",
       "      <td>22</td>\n",
       "      <td>1</td>\n",
       "      <td>0</td>\n",
       "      <td>7.2500</td>\n",
       "      <td>S</td>\n",
       "      <td>Mr</td>\n",
       "    </tr>\n",
       "    <tr>\n",
       "      <th>1</th>\n",
       "      <td>1</td>\n",
       "      <td>1</td>\n",
       "      <td>female</td>\n",
       "      <td>38</td>\n",
       "      <td>1</td>\n",
       "      <td>0</td>\n",
       "      <td>71.2833</td>\n",
       "      <td>C</td>\n",
       "      <td>Mrs</td>\n",
       "    </tr>\n",
       "    <tr>\n",
       "      <th>2</th>\n",
       "      <td>1</td>\n",
       "      <td>3</td>\n",
       "      <td>female</td>\n",
       "      <td>26</td>\n",
       "      <td>0</td>\n",
       "      <td>0</td>\n",
       "      <td>7.9250</td>\n",
       "      <td>S</td>\n",
       "      <td>Miss</td>\n",
       "    </tr>\n",
       "    <tr>\n",
       "      <th>3</th>\n",
       "      <td>1</td>\n",
       "      <td>1</td>\n",
       "      <td>female</td>\n",
       "      <td>35</td>\n",
       "      <td>1</td>\n",
       "      <td>0</td>\n",
       "      <td>53.1000</td>\n",
       "      <td>S</td>\n",
       "      <td>Mrs</td>\n",
       "    </tr>\n",
       "    <tr>\n",
       "      <th>4</th>\n",
       "      <td>0</td>\n",
       "      <td>3</td>\n",
       "      <td>male</td>\n",
       "      <td>35</td>\n",
       "      <td>0</td>\n",
       "      <td>0</td>\n",
       "      <td>8.0500</td>\n",
       "      <td>S</td>\n",
       "      <td>Mr</td>\n",
       "    </tr>\n",
       "  </tbody>\n",
       "</table>\n",
       "</div>"
      ],
      "text/plain": [
       "   Survived  Pclass     Sex  Age  SibSp  Parch     Fare Embarked Title\n",
       "0         0       3    male   22      1      0   7.2500        S    Mr\n",
       "1         1       1  female   38      1      0  71.2833        C   Mrs\n",
       "2         1       3  female   26      0      0   7.9250        S  Miss\n",
       "3         1       1  female   35      1      0  53.1000        S   Mrs\n",
       "4         0       3    male   35      0      0   8.0500        S    Mr"
      ]
     },
     "execution_count": 3,
     "metadata": {},
     "output_type": "execute_result"
    }
   ],
   "source": [
    "df.head()"
   ]
  },
  {
   "cell_type": "code",
   "execution_count": 4,
   "id": "d4989cd7",
   "metadata": {},
   "outputs": [],
   "source": [
    "# 데이터 백업해두기\n",
    "df_copy = df.copy()"
   ]
  },
  {
   "attachments": {},
   "cell_type": "markdown",
   "id": "7ea8e6e0",
   "metadata": {},
   "source": [
    "---"
   ]
  },
  {
   "attachments": {},
   "cell_type": "markdown",
   "id": "68e7ccf6",
   "metadata": {},
   "source": [
    "## 2. 데이터 전처리 (1)\n",
    "불필요한 컬럼을 삭제하거나 기존 데이터로 부터 새로운 컬럼을 생성합니다.\n",
    "데이터의 결측치를 확인하고 처리합니다\n",
    "- 데이터 가공하기\n",
    "- 결측치 제거하기\n",
    "- 불필요한 컬럼 삭제하기"
   ]
  },
  {
   "attachments": {},
   "cell_type": "markdown",
   "id": "49b5b4d8",
   "metadata": {},
   "source": [
    "---"
   ]
  },
  {
   "attachments": {},
   "cell_type": "markdown",
   "id": "7a5a6bf3",
   "metadata": {},
   "source": [
    "## 3. 데이터 전처리 (2)\n",
    "범주형 변수를 수치형 데이터로 변환하고, 다양한 특성들의 스케일을 조정하여 데이터를 모델링에 적합한 형태로 전처리하는 과정입니다.\n",
    "\n",
    "- 범주형 데이터 인코딩\n",
    "- 특성 스케일링/정규화"
   ]
  },
  {
   "attachments": {},
   "cell_type": "markdown",
   "id": "71e23e83",
   "metadata": {},
   "source": [
    "### 1) 범주형 데이터 인코딩\n",
    "기계 학습의 주요 문제 중 하나는 많은 알고리즘이 범주형 데이터를 입력값으로 수용하지 않는다는 점인데,<br> 이를 해결하기 위해 범주형 변수를 숫자로 변환하기 위한 인코딩을 수행합니다. <br>\n",
    "일반적으로 레이블 인코딩, 원-핫 인코딩 등의 방법을 사용합니다."
   ]
  },
  {
   "attachments": {},
   "cell_type": "markdown",
   "id": "e90e1920",
   "metadata": {},
   "source": [
    "#### ① 범주형 변수의 각 범주를 수치형으로 대체하기\n",
    "<img src=\"https://miro.medium.com/max/640/1*QQe-4476Oy3_dI1vhb3dDg.png\" width=\"400\" ><br>"
   ]
  },
  {
   "attachments": {},
   "cell_type": "markdown",
   "id": "387689a4",
   "metadata": {},
   "source": [
    "- **성별(Sex) 컬럼의 값 'female', 'male'을 0과 1로 변형해 보세요.**<br>\n",
    "> 1. **pandas의 replace 함수를 사용하여 직접 변경하는 방법**\n",
    "> 2. **sklearn의 LableEncoding을 사용해서 변경하는 방법**"
   ]
  },
  {
   "attachments": {},
   "cell_type": "markdown",
   "id": "fab7867d",
   "metadata": {},
   "source": [
    "1. **pandas의 replace 함수를 사용하여 직접 변경하는 방법**"
   ]
  },
  {
   "cell_type": "code",
   "execution_count": 5,
   "id": "c3e0bdb3",
   "metadata": {
    "scrolled": true
   },
   "outputs": [
    {
     "data": {
      "text/html": [
       "<div>\n",
       "<style scoped>\n",
       "    .dataframe tbody tr th:only-of-type {\n",
       "        vertical-align: middle;\n",
       "    }\n",
       "\n",
       "    .dataframe tbody tr th {\n",
       "        vertical-align: top;\n",
       "    }\n",
       "\n",
       "    .dataframe thead th {\n",
       "        text-align: right;\n",
       "    }\n",
       "</style>\n",
       "<table border=\"1\" class=\"dataframe\">\n",
       "  <thead>\n",
       "    <tr style=\"text-align: right;\">\n",
       "      <th></th>\n",
       "      <th>Survived</th>\n",
       "      <th>Pclass</th>\n",
       "      <th>Sex</th>\n",
       "      <th>Age</th>\n",
       "      <th>SibSp</th>\n",
       "      <th>Parch</th>\n",
       "      <th>Fare</th>\n",
       "      <th>Embarked</th>\n",
       "      <th>Title</th>\n",
       "    </tr>\n",
       "  </thead>\n",
       "  <tbody>\n",
       "    <tr>\n",
       "      <th>0</th>\n",
       "      <td>0</td>\n",
       "      <td>3</td>\n",
       "      <td>1</td>\n",
       "      <td>22</td>\n",
       "      <td>1</td>\n",
       "      <td>0</td>\n",
       "      <td>7.2500</td>\n",
       "      <td>S</td>\n",
       "      <td>Mr</td>\n",
       "    </tr>\n",
       "    <tr>\n",
       "      <th>1</th>\n",
       "      <td>1</td>\n",
       "      <td>1</td>\n",
       "      <td>0</td>\n",
       "      <td>38</td>\n",
       "      <td>1</td>\n",
       "      <td>0</td>\n",
       "      <td>71.2833</td>\n",
       "      <td>C</td>\n",
       "      <td>Mrs</td>\n",
       "    </tr>\n",
       "    <tr>\n",
       "      <th>2</th>\n",
       "      <td>1</td>\n",
       "      <td>3</td>\n",
       "      <td>0</td>\n",
       "      <td>26</td>\n",
       "      <td>0</td>\n",
       "      <td>0</td>\n",
       "      <td>7.9250</td>\n",
       "      <td>S</td>\n",
       "      <td>Miss</td>\n",
       "    </tr>\n",
       "  </tbody>\n",
       "</table>\n",
       "</div>"
      ],
      "text/plain": [
       "   Survived  Pclass  Sex  Age  SibSp  Parch     Fare Embarked Title\n",
       "0         0       3    1   22      1      0   7.2500        S    Mr\n",
       "1         1       1    0   38      1      0  71.2833        C   Mrs\n",
       "2         1       3    0   26      0      0   7.9250        S  Miss"
      ]
     },
     "execution_count": 5,
     "metadata": {},
     "output_type": "execute_result"
    }
   ],
   "source": [
    "df['Sex'].replace('female', 0, inplace=True)\n",
    "df['Sex'].replace('male', 1, inplace=True)\n",
    "\n",
    "df.head(3)"
   ]
  },
  {
   "cell_type": "code",
   "execution_count": 6,
   "id": "e81e95ae",
   "metadata": {},
   "outputs": [],
   "source": [
    "# 백업 데이터 불러오기\n",
    "df = df_copy.copy()"
   ]
  },
  {
   "attachments": {},
   "cell_type": "markdown",
   "id": "daae9b8c",
   "metadata": {},
   "source": [
    "2. **sklearn의 LableEncoding을 사용해서 변경하는 방법**"
   ]
  },
  {
   "cell_type": "code",
   "execution_count": 7,
   "id": "137e1f28",
   "metadata": {
    "scrolled": true
   },
   "outputs": [
    {
     "data": {
      "text/html": [
       "<div>\n",
       "<style scoped>\n",
       "    .dataframe tbody tr th:only-of-type {\n",
       "        vertical-align: middle;\n",
       "    }\n",
       "\n",
       "    .dataframe tbody tr th {\n",
       "        vertical-align: top;\n",
       "    }\n",
       "\n",
       "    .dataframe thead th {\n",
       "        text-align: right;\n",
       "    }\n",
       "</style>\n",
       "<table border=\"1\" class=\"dataframe\">\n",
       "  <thead>\n",
       "    <tr style=\"text-align: right;\">\n",
       "      <th></th>\n",
       "      <th>Survived</th>\n",
       "      <th>Pclass</th>\n",
       "      <th>Sex</th>\n",
       "      <th>Age</th>\n",
       "      <th>SibSp</th>\n",
       "      <th>Parch</th>\n",
       "      <th>Fare</th>\n",
       "      <th>Embarked</th>\n",
       "      <th>Title</th>\n",
       "    </tr>\n",
       "  </thead>\n",
       "  <tbody>\n",
       "    <tr>\n",
       "      <th>0</th>\n",
       "      <td>0</td>\n",
       "      <td>3</td>\n",
       "      <td>1</td>\n",
       "      <td>22</td>\n",
       "      <td>1</td>\n",
       "      <td>0</td>\n",
       "      <td>7.2500</td>\n",
       "      <td>S</td>\n",
       "      <td>Mr</td>\n",
       "    </tr>\n",
       "    <tr>\n",
       "      <th>1</th>\n",
       "      <td>1</td>\n",
       "      <td>1</td>\n",
       "      <td>0</td>\n",
       "      <td>38</td>\n",
       "      <td>1</td>\n",
       "      <td>0</td>\n",
       "      <td>71.2833</td>\n",
       "      <td>C</td>\n",
       "      <td>Mrs</td>\n",
       "    </tr>\n",
       "    <tr>\n",
       "      <th>2</th>\n",
       "      <td>1</td>\n",
       "      <td>3</td>\n",
       "      <td>0</td>\n",
       "      <td>26</td>\n",
       "      <td>0</td>\n",
       "      <td>0</td>\n",
       "      <td>7.9250</td>\n",
       "      <td>S</td>\n",
       "      <td>Miss</td>\n",
       "    </tr>\n",
       "  </tbody>\n",
       "</table>\n",
       "</div>"
      ],
      "text/plain": [
       "   Survived  Pclass  Sex  Age  SibSp  Parch     Fare Embarked Title\n",
       "0         0       3    1   22      1      0   7.2500        S    Mr\n",
       "1         1       1    0   38      1      0  71.2833        C   Mrs\n",
       "2         1       3    0   26      0      0   7.9250        S  Miss"
      ]
     },
     "execution_count": 7,
     "metadata": {},
     "output_type": "execute_result"
    }
   ],
   "source": [
    "# 라이브러리 불러오기\n",
    "from sklearn.preprocessing import LabelEncoder\n",
    "\n",
    "# 인코더 생성하기\n",
    "le = LabelEncoder()\n",
    "df['Sex'] = le.fit_transform(df['Sex'])\n",
    "\n",
    "df.head(3)"
   ]
  },
  {
   "cell_type": "code",
   "execution_count": null,
   "id": "edf5cbfa",
   "metadata": {},
   "outputs": [],
   "source": [
    "# 백업 데이터 불러오기\n",
    "df = df_copy.copy()"
   ]
  },
  {
   "attachments": {},
   "cell_type": "markdown",
   "id": "df5babab",
   "metadata": {},
   "source": [
    "#### 🚨<font color=\"red\"> 레이블 인코딩 시 주의사항</font>\n",
    ">**여러 개의 카테고리 값을 가질 경우 일괄적으로 숫자 값으로 변환이 되면서 몇몇 머신러닝 알고리즘에는 이를 적용할 경우 예측 성능이 떨어지는 경우가 발생할 수 있습니다. <br>\n",
    "><u>숫자로 되어 있어 잘못하면 해당 값이 가중치로 인식하여 값에 왜곡이 생기게 되는 것입니다.</u><br>\n",
    ">이러한 특성 때문에 레이블 인코딩은 선형 회귀에는 적용하지 않습니다.**"
   ]
  },
  {
   "attachments": {},
   "cell_type": "markdown",
   "id": "f8fe1cfb",
   "metadata": {},
   "source": [
    "#### ② 범주형 데이터를 가변수화 하기\n",
    "<img src=\"https://miro.medium.com/max/720/1*80tflY8LxDFRmkD16u25RQ.png\" width=\"600\" ><br>\n",
    "원-핫 인코딩은 간단히 말해 한 개의 요소는 True, 나머지 요소는 False로 만들어 주는 기법입니다.<br>  \n",
    "행 형태로 돼 있는 피처의 고유 값을 열 형태로 차원을 변환한 뒤, <br>\n",
    "고유 값에 해당하는 칼럼에만 1을 표시하고 나머지 칼럼에는 0을 표시합니다.<br> \n",
    "Pandas의 get_dummies()를 사용하면 간단하게 원-핫 인코딩을 진행할 수 있습니다."
   ]
  },
  {
   "attachments": {},
   "cell_type": "markdown",
   "id": "d6220b24",
   "metadata": {},
   "source": [
    "- **pandas 라이브러리 'get_dummies' 활용하여 범주형 컬럼 가변수화하기**"
   ]
  },
  {
   "cell_type": "code",
   "execution_count": 8,
   "id": "90c4901e",
   "metadata": {
    "scrolled": true
   },
   "outputs": [],
   "source": [
    "# pandas에서는 get_dummies함수를 사용하면 쉽게 One-Hot Encording이 가능\n",
    "\n",
    "# 범주형 컬럼 리스트\n",
    "dummy_vars = ['Title', 'Pclass', 'Sex', 'Embarked']\n",
    "\n",
    "df = pd.get_dummies(df, columns=dummy_vars)"
   ]
  },
  {
   "cell_type": "code",
   "execution_count": 9,
   "id": "9636eda5",
   "metadata": {
    "scrolled": true
   },
   "outputs": [
    {
     "data": {
      "text/html": [
       "<div>\n",
       "<style scoped>\n",
       "    .dataframe tbody tr th:only-of-type {\n",
       "        vertical-align: middle;\n",
       "    }\n",
       "\n",
       "    .dataframe tbody tr th {\n",
       "        vertical-align: top;\n",
       "    }\n",
       "\n",
       "    .dataframe thead th {\n",
       "        text-align: right;\n",
       "    }\n",
       "</style>\n",
       "<table border=\"1\" class=\"dataframe\">\n",
       "  <thead>\n",
       "    <tr style=\"text-align: right;\">\n",
       "      <th></th>\n",
       "      <th>Survived</th>\n",
       "      <th>Age</th>\n",
       "      <th>SibSp</th>\n",
       "      <th>Parch</th>\n",
       "      <th>Fare</th>\n",
       "      <th>Title_Miss</th>\n",
       "      <th>Title_Mr</th>\n",
       "      <th>Title_Mrs</th>\n",
       "      <th>Title_Others</th>\n",
       "      <th>Pclass_1</th>\n",
       "      <th>Pclass_2</th>\n",
       "      <th>Pclass_3</th>\n",
       "      <th>Sex_0</th>\n",
       "      <th>Sex_1</th>\n",
       "      <th>Embarked_C</th>\n",
       "      <th>Embarked_Q</th>\n",
       "      <th>Embarked_S</th>\n",
       "    </tr>\n",
       "  </thead>\n",
       "  <tbody>\n",
       "    <tr>\n",
       "      <th>0</th>\n",
       "      <td>0</td>\n",
       "      <td>22</td>\n",
       "      <td>1</td>\n",
       "      <td>0</td>\n",
       "      <td>7.2500</td>\n",
       "      <td>0</td>\n",
       "      <td>1</td>\n",
       "      <td>0</td>\n",
       "      <td>0</td>\n",
       "      <td>0</td>\n",
       "      <td>0</td>\n",
       "      <td>1</td>\n",
       "      <td>0</td>\n",
       "      <td>1</td>\n",
       "      <td>0</td>\n",
       "      <td>0</td>\n",
       "      <td>1</td>\n",
       "    </tr>\n",
       "    <tr>\n",
       "      <th>1</th>\n",
       "      <td>1</td>\n",
       "      <td>38</td>\n",
       "      <td>1</td>\n",
       "      <td>0</td>\n",
       "      <td>71.2833</td>\n",
       "      <td>0</td>\n",
       "      <td>0</td>\n",
       "      <td>1</td>\n",
       "      <td>0</td>\n",
       "      <td>1</td>\n",
       "      <td>0</td>\n",
       "      <td>0</td>\n",
       "      <td>1</td>\n",
       "      <td>0</td>\n",
       "      <td>1</td>\n",
       "      <td>0</td>\n",
       "      <td>0</td>\n",
       "    </tr>\n",
       "    <tr>\n",
       "      <th>2</th>\n",
       "      <td>1</td>\n",
       "      <td>26</td>\n",
       "      <td>0</td>\n",
       "      <td>0</td>\n",
       "      <td>7.9250</td>\n",
       "      <td>1</td>\n",
       "      <td>0</td>\n",
       "      <td>0</td>\n",
       "      <td>0</td>\n",
       "      <td>0</td>\n",
       "      <td>0</td>\n",
       "      <td>1</td>\n",
       "      <td>1</td>\n",
       "      <td>0</td>\n",
       "      <td>0</td>\n",
       "      <td>0</td>\n",
       "      <td>1</td>\n",
       "    </tr>\n",
       "  </tbody>\n",
       "</table>\n",
       "</div>"
      ],
      "text/plain": [
       "   Survived  Age  SibSp  Parch     Fare  Title_Miss  Title_Mr  Title_Mrs  \\\n",
       "0         0   22      1      0   7.2500           0         1          0   \n",
       "1         1   38      1      0  71.2833           0         0          1   \n",
       "2         1   26      0      0   7.9250           1         0          0   \n",
       "\n",
       "   Title_Others  Pclass_1  Pclass_2  Pclass_3  Sex_0  Sex_1  Embarked_C  \\\n",
       "0             0         0         0         1      0      1           0   \n",
       "1             0         1         0         0      1      0           1   \n",
       "2             0         0         0         1      1      0           0   \n",
       "\n",
       "   Embarked_Q  Embarked_S  \n",
       "0           0           1  \n",
       "1           0           0  \n",
       "2           0           1  "
      ]
     },
     "execution_count": 9,
     "metadata": {},
     "output_type": "execute_result"
    }
   ],
   "source": [
    "df.head(3)"
   ]
  },
  {
   "attachments": {},
   "cell_type": "markdown",
   "id": "2a718959",
   "metadata": {},
   "source": [
    "#### 🚨<font color=\"red\"> 'get_dummies' 가변수화 시 주의사항</font>\n",
    ">**가변수화 시 첫번째 열을 삭제하는 옵션(drop_first)을 주어, 범주 정보의 중복성을 피할 수 있습니다.  <br>\n",
    "><u>이러한 중복성을 제거함으로써, 데이터프레임의 차원을 줄일 수 있고, 연산 비용을 절약할 수 있습니다. </u><br>\n",
    ">또한, 모델 학습 시에도 중복된 정보가 포함된 열을 제거함으로써, 다중공선성 문제를 방지할 수 있습니다.**"
   ]
  },
  {
   "cell_type": "code",
   "execution_count": 10,
   "id": "8ff99776",
   "metadata": {},
   "outputs": [],
   "source": [
    "# 백업 데이터 불러오기\n",
    "df = df_copy.copy()"
   ]
  },
  {
   "cell_type": "code",
   "execution_count": 12,
   "id": "a50bcfec",
   "metadata": {},
   "outputs": [],
   "source": [
    "# drop_first 옵션을 사용하여 범주를 가변수화 열의 중복 데이터를 제거합니다.\n",
    "df = pd.get_dummies(df, columns=dummy_vars, drop_first=True)"
   ]
  },
  {
   "cell_type": "code",
   "execution_count": 13,
   "id": "4b6e9200",
   "metadata": {
    "scrolled": false
   },
   "outputs": [
    {
     "name": "stdout",
     "output_type": "stream",
     "text": [
      "<class 'pandas.core.frame.DataFrame'>\n",
      "RangeIndex: 891 entries, 0 to 890\n",
      "Data columns (total 13 columns):\n",
      " #   Column        Non-Null Count  Dtype  \n",
      "---  ------        --------------  -----  \n",
      " 0   Survived      891 non-null    int64  \n",
      " 1   Age           891 non-null    int64  \n",
      " 2   SibSp         891 non-null    int64  \n",
      " 3   Parch         891 non-null    int64  \n",
      " 4   Fare          891 non-null    float64\n",
      " 5   Title_Mr      891 non-null    uint8  \n",
      " 6   Title_Mrs     891 non-null    uint8  \n",
      " 7   Title_Others  891 non-null    uint8  \n",
      " 8   Pclass_2      891 non-null    uint8  \n",
      " 9   Pclass_3      891 non-null    uint8  \n",
      " 10  Sex_male      891 non-null    uint8  \n",
      " 11  Embarked_Q    891 non-null    uint8  \n",
      " 12  Embarked_S    891 non-null    uint8  \n",
      "dtypes: float64(1), int64(4), uint8(8)\n",
      "memory usage: 41.9 KB\n"
     ]
    }
   ],
   "source": [
    "# 데이터 타입 변경 내용 확인하기\n",
    "df.info()"
   ]
  },
  {
   "cell_type": "code",
   "execution_count": 14,
   "id": "bdbd7477",
   "metadata": {},
   "outputs": [],
   "source": [
    "# 가변수화 완료한 데이터로 백업 데이터 업데이트하기\n",
    "df_copy = df.copy()"
   ]
  },
  {
   "attachments": {},
   "cell_type": "markdown",
   "id": "8df8c05b",
   "metadata": {},
   "source": [
    "### 2) 특성 스케일링/정규화\n",
    "입력 변수(Feature)들의 값을 일정한 수준으로 맞춰 주는 것은 Feature Scalining 이라 합니다.<br> \n",
    "데이터 스케일링의 목적은 컬럼 별 차이를 왜곡하지 않고 공통 척도로 변경하기 위함입니다. <br>\n",
    "가령 나이의 범위는 (0 ~ 100) 이고 , 소득의 범위는 (0 ~ 10,000,000) 이라고 하면 소득은 나이의 약 100,000배이며 범위의 Range도 넓습니다.<br> \n",
    "이 데이터를 그대로 사용하면 소득을 본질적으로 더 큰 값이기 때문에 나이 피쳐보다 더 큰 영향을 미치게 됩니다."
   ]
  },
  {
   "attachments": {},
   "cell_type": "markdown",
   "id": "ae4d8487",
   "metadata": {},
   "source": [
    "#### ① Min-Max Scaler (정규화)\n",
    " Min-Max Scaling은 모든 피처가 정확하게 [0,1] 사이에 위치하도록 데이터를 변경한다.\n",
    "<img src=\"https://ashutoshtripathicom.files.wordpress.com/2021/06/image-3.png\" width=600>\n",
    "<div align=\"right\">이미지 출처 <a href=\"https://ashutoshtripathi.com/2021/06/12/what-is-feature-scaling-in-machine-learning-normalization-vs-standardization/\">\"WHAT IS FEATURE SCALING IN MACHINE LEARNING\"</a> on <a href=\"https://ashutoshtripathi.com/\" >Data Science Duniya</a></div>"
   ]
  },
  {
   "attachments": {},
   "cell_type": "markdown",
   "id": "9d647ca8",
   "metadata": {},
   "source": [
    "- **MinMaxScaler를 사용하여 데이터들을 스케일링하세요.**<br>"
   ]
  },
  {
   "cell_type": "code",
   "execution_count": 15,
   "id": "d68a1203",
   "metadata": {},
   "outputs": [
    {
     "data": {
      "text/html": [
       "<div>\n",
       "<style scoped>\n",
       "    .dataframe tbody tr th:only-of-type {\n",
       "        vertical-align: middle;\n",
       "    }\n",
       "\n",
       "    .dataframe tbody tr th {\n",
       "        vertical-align: top;\n",
       "    }\n",
       "\n",
       "    .dataframe thead th {\n",
       "        text-align: right;\n",
       "    }\n",
       "</style>\n",
       "<table border=\"1\" class=\"dataframe\">\n",
       "  <thead>\n",
       "    <tr style=\"text-align: right;\">\n",
       "      <th></th>\n",
       "      <th>Age</th>\n",
       "      <th>SibSp</th>\n",
       "      <th>Parch</th>\n",
       "      <th>Fare</th>\n",
       "      <th>Title_Mr</th>\n",
       "      <th>Title_Mrs</th>\n",
       "      <th>Title_Others</th>\n",
       "      <th>Pclass_2</th>\n",
       "      <th>Pclass_3</th>\n",
       "      <th>Sex_male</th>\n",
       "      <th>Embarked_Q</th>\n",
       "      <th>Embarked_S</th>\n",
       "    </tr>\n",
       "  </thead>\n",
       "  <tbody>\n",
       "    <tr>\n",
       "      <th>0</th>\n",
       "      <td>22</td>\n",
       "      <td>1</td>\n",
       "      <td>0</td>\n",
       "      <td>7.2500</td>\n",
       "      <td>1</td>\n",
       "      <td>0</td>\n",
       "      <td>0</td>\n",
       "      <td>0</td>\n",
       "      <td>1</td>\n",
       "      <td>1</td>\n",
       "      <td>0</td>\n",
       "      <td>1</td>\n",
       "    </tr>\n",
       "    <tr>\n",
       "      <th>1</th>\n",
       "      <td>38</td>\n",
       "      <td>1</td>\n",
       "      <td>0</td>\n",
       "      <td>71.2833</td>\n",
       "      <td>0</td>\n",
       "      <td>1</td>\n",
       "      <td>0</td>\n",
       "      <td>0</td>\n",
       "      <td>0</td>\n",
       "      <td>0</td>\n",
       "      <td>0</td>\n",
       "      <td>0</td>\n",
       "    </tr>\n",
       "    <tr>\n",
       "      <th>2</th>\n",
       "      <td>26</td>\n",
       "      <td>0</td>\n",
       "      <td>0</td>\n",
       "      <td>7.9250</td>\n",
       "      <td>0</td>\n",
       "      <td>0</td>\n",
       "      <td>0</td>\n",
       "      <td>0</td>\n",
       "      <td>1</td>\n",
       "      <td>0</td>\n",
       "      <td>0</td>\n",
       "      <td>1</td>\n",
       "    </tr>\n",
       "    <tr>\n",
       "      <th>3</th>\n",
       "      <td>35</td>\n",
       "      <td>1</td>\n",
       "      <td>0</td>\n",
       "      <td>53.1000</td>\n",
       "      <td>0</td>\n",
       "      <td>1</td>\n",
       "      <td>0</td>\n",
       "      <td>0</td>\n",
       "      <td>0</td>\n",
       "      <td>0</td>\n",
       "      <td>0</td>\n",
       "      <td>1</td>\n",
       "    </tr>\n",
       "    <tr>\n",
       "      <th>4</th>\n",
       "      <td>35</td>\n",
       "      <td>0</td>\n",
       "      <td>0</td>\n",
       "      <td>8.0500</td>\n",
       "      <td>1</td>\n",
       "      <td>0</td>\n",
       "      <td>0</td>\n",
       "      <td>0</td>\n",
       "      <td>1</td>\n",
       "      <td>1</td>\n",
       "      <td>0</td>\n",
       "      <td>1</td>\n",
       "    </tr>\n",
       "    <tr>\n",
       "      <th>...</th>\n",
       "      <td>...</td>\n",
       "      <td>...</td>\n",
       "      <td>...</td>\n",
       "      <td>...</td>\n",
       "      <td>...</td>\n",
       "      <td>...</td>\n",
       "      <td>...</td>\n",
       "      <td>...</td>\n",
       "      <td>...</td>\n",
       "      <td>...</td>\n",
       "      <td>...</td>\n",
       "      <td>...</td>\n",
       "    </tr>\n",
       "    <tr>\n",
       "      <th>886</th>\n",
       "      <td>27</td>\n",
       "      <td>0</td>\n",
       "      <td>0</td>\n",
       "      <td>13.0000</td>\n",
       "      <td>0</td>\n",
       "      <td>0</td>\n",
       "      <td>1</td>\n",
       "      <td>1</td>\n",
       "      <td>0</td>\n",
       "      <td>1</td>\n",
       "      <td>0</td>\n",
       "      <td>1</td>\n",
       "    </tr>\n",
       "    <tr>\n",
       "      <th>887</th>\n",
       "      <td>19</td>\n",
       "      <td>0</td>\n",
       "      <td>0</td>\n",
       "      <td>30.0000</td>\n",
       "      <td>0</td>\n",
       "      <td>0</td>\n",
       "      <td>0</td>\n",
       "      <td>0</td>\n",
       "      <td>0</td>\n",
       "      <td>0</td>\n",
       "      <td>0</td>\n",
       "      <td>1</td>\n",
       "    </tr>\n",
       "    <tr>\n",
       "      <th>888</th>\n",
       "      <td>29</td>\n",
       "      <td>1</td>\n",
       "      <td>2</td>\n",
       "      <td>23.4500</td>\n",
       "      <td>0</td>\n",
       "      <td>0</td>\n",
       "      <td>0</td>\n",
       "      <td>0</td>\n",
       "      <td>1</td>\n",
       "      <td>0</td>\n",
       "      <td>0</td>\n",
       "      <td>1</td>\n",
       "    </tr>\n",
       "    <tr>\n",
       "      <th>889</th>\n",
       "      <td>26</td>\n",
       "      <td>0</td>\n",
       "      <td>0</td>\n",
       "      <td>30.0000</td>\n",
       "      <td>1</td>\n",
       "      <td>0</td>\n",
       "      <td>0</td>\n",
       "      <td>0</td>\n",
       "      <td>0</td>\n",
       "      <td>1</td>\n",
       "      <td>0</td>\n",
       "      <td>0</td>\n",
       "    </tr>\n",
       "    <tr>\n",
       "      <th>890</th>\n",
       "      <td>32</td>\n",
       "      <td>0</td>\n",
       "      <td>0</td>\n",
       "      <td>7.7500</td>\n",
       "      <td>1</td>\n",
       "      <td>0</td>\n",
       "      <td>0</td>\n",
       "      <td>0</td>\n",
       "      <td>1</td>\n",
       "      <td>1</td>\n",
       "      <td>1</td>\n",
       "      <td>0</td>\n",
       "    </tr>\n",
       "  </tbody>\n",
       "</table>\n",
       "<p>891 rows × 12 columns</p>\n",
       "</div>"
      ],
      "text/plain": [
       "     Age  SibSp  Parch     Fare  Title_Mr  Title_Mrs  Title_Others  Pclass_2  \\\n",
       "0     22      1      0   7.2500         1          0             0         0   \n",
       "1     38      1      0  71.2833         0          1             0         0   \n",
       "2     26      0      0   7.9250         0          0             0         0   \n",
       "3     35      1      0  53.1000         0          1             0         0   \n",
       "4     35      0      0   8.0500         1          0             0         0   \n",
       "..   ...    ...    ...      ...       ...        ...           ...       ...   \n",
       "886   27      0      0  13.0000         0          0             1         1   \n",
       "887   19      0      0  30.0000         0          0             0         0   \n",
       "888   29      1      2  23.4500         0          0             0         0   \n",
       "889   26      0      0  30.0000         1          0             0         0   \n",
       "890   32      0      0   7.7500         1          0             0         0   \n",
       "\n",
       "     Pclass_3  Sex_male  Embarked_Q  Embarked_S  \n",
       "0           1         1           0           1  \n",
       "1           0         0           0           0  \n",
       "2           1         0           0           1  \n",
       "3           0         0           0           1  \n",
       "4           1         1           0           1  \n",
       "..        ...       ...         ...         ...  \n",
       "886         0         1           0           1  \n",
       "887         0         0           0           1  \n",
       "888         1         0           0           1  \n",
       "889         0         1           0           0  \n",
       "890         1         1           1           0  \n",
       "\n",
       "[891 rows x 12 columns]"
      ]
     },
     "execution_count": 15,
     "metadata": {},
     "output_type": "execute_result"
    }
   ],
   "source": [
    "df.iloc[:,1:]"
   ]
  },
  {
   "cell_type": "code",
   "execution_count": 16,
   "id": "c1dd8499",
   "metadata": {},
   "outputs": [],
   "source": [
    "from sklearn.preprocessing import MinMaxScaler\n",
    "\n",
    "# 데이터 컬럼명 저장\n",
    "columns_name = df.columns\n",
    "\n",
    "# 스케일러 생성하기\n",
    "scaler = MinMaxScaler()\n",
    "\n",
    "# 데이터 스케일링하기\n",
    "# 스케일링 작업 시 Target('Survived')는 제외하고 Feature만 작업해야 합니다.\n",
    "df_feature = df.drop(columns=['Survived'])\n",
    "df_feature = scaler.fit_transform(df_feature)\n",
    "\n",
    "#데이터 프레임\n",
    "df.iloc[:,1:]=df_feature"
   ]
  },
  {
   "cell_type": "code",
   "execution_count": 17,
   "id": "30901ce3",
   "metadata": {},
   "outputs": [
    {
     "data": {
      "text/html": [
       "<div>\n",
       "<style scoped>\n",
       "    .dataframe tbody tr th:only-of-type {\n",
       "        vertical-align: middle;\n",
       "    }\n",
       "\n",
       "    .dataframe tbody tr th {\n",
       "        vertical-align: top;\n",
       "    }\n",
       "\n",
       "    .dataframe thead th {\n",
       "        text-align: right;\n",
       "    }\n",
       "</style>\n",
       "<table border=\"1\" class=\"dataframe\">\n",
       "  <thead>\n",
       "    <tr style=\"text-align: right;\">\n",
       "      <th></th>\n",
       "      <th>Survived</th>\n",
       "      <th>Age</th>\n",
       "      <th>SibSp</th>\n",
       "      <th>Parch</th>\n",
       "      <th>Fare</th>\n",
       "      <th>Title_Mr</th>\n",
       "      <th>Title_Mrs</th>\n",
       "      <th>Title_Others</th>\n",
       "      <th>Pclass_2</th>\n",
       "      <th>Pclass_3</th>\n",
       "      <th>Sex_male</th>\n",
       "      <th>Embarked_Q</th>\n",
       "      <th>Embarked_S</th>\n",
       "    </tr>\n",
       "  </thead>\n",
       "  <tbody>\n",
       "    <tr>\n",
       "      <th>0</th>\n",
       "      <td>0</td>\n",
       "      <td>0.275</td>\n",
       "      <td>0.125</td>\n",
       "      <td>0.0</td>\n",
       "      <td>0.014151</td>\n",
       "      <td>1.0</td>\n",
       "      <td>0.0</td>\n",
       "      <td>0.0</td>\n",
       "      <td>0.0</td>\n",
       "      <td>1.0</td>\n",
       "      <td>1.0</td>\n",
       "      <td>0.0</td>\n",
       "      <td>1.0</td>\n",
       "    </tr>\n",
       "    <tr>\n",
       "      <th>1</th>\n",
       "      <td>1</td>\n",
       "      <td>0.475</td>\n",
       "      <td>0.125</td>\n",
       "      <td>0.0</td>\n",
       "      <td>0.139136</td>\n",
       "      <td>0.0</td>\n",
       "      <td>1.0</td>\n",
       "      <td>0.0</td>\n",
       "      <td>0.0</td>\n",
       "      <td>0.0</td>\n",
       "      <td>0.0</td>\n",
       "      <td>0.0</td>\n",
       "      <td>0.0</td>\n",
       "    </tr>\n",
       "    <tr>\n",
       "      <th>2</th>\n",
       "      <td>1</td>\n",
       "      <td>0.325</td>\n",
       "      <td>0.000</td>\n",
       "      <td>0.0</td>\n",
       "      <td>0.015469</td>\n",
       "      <td>0.0</td>\n",
       "      <td>0.0</td>\n",
       "      <td>0.0</td>\n",
       "      <td>0.0</td>\n",
       "      <td>1.0</td>\n",
       "      <td>0.0</td>\n",
       "      <td>0.0</td>\n",
       "      <td>1.0</td>\n",
       "    </tr>\n",
       "  </tbody>\n",
       "</table>\n",
       "</div>"
      ],
      "text/plain": [
       "   Survived    Age  SibSp  Parch      Fare  Title_Mr  Title_Mrs  Title_Others  \\\n",
       "0         0  0.275  0.125    0.0  0.014151       1.0        0.0           0.0   \n",
       "1         1  0.475  0.125    0.0  0.139136       0.0        1.0           0.0   \n",
       "2         1  0.325  0.000    0.0  0.015469       0.0        0.0           0.0   \n",
       "\n",
       "   Pclass_2  Pclass_3  Sex_male  Embarked_Q  Embarked_S  \n",
       "0       0.0       1.0       1.0         0.0         1.0  \n",
       "1       0.0       0.0       0.0         0.0         0.0  \n",
       "2       0.0       1.0       0.0         0.0         1.0  "
      ]
     },
     "execution_count": 17,
     "metadata": {},
     "output_type": "execute_result"
    }
   ],
   "source": [
    "df.head(3)"
   ]
  },
  {
   "attachments": {},
   "cell_type": "markdown",
   "id": "9209f901",
   "metadata": {},
   "source": [
    "####  📏학습용 데이터를 스케일링한 스케일러는 저장해두어 새로운 테스트 데이터 입력 시 사용할 수 있도록 합니다."
   ]
  },
  {
   "cell_type": "code",
   "execution_count": 18,
   "id": "eb04c0d8",
   "metadata": {},
   "outputs": [
    {
     "data": {
      "text/plain": [
       "['./scaler.pkl']"
      ]
     },
     "execution_count": 18,
     "metadata": {},
     "output_type": "execute_result"
    }
   ],
   "source": [
    "# 라이브러리 임포트\n",
    "import joblib\n",
    "\n",
    "# 학습한 스케일러 저장\n",
    "joblib.dump(scaler, './scaler.pkl')"
   ]
  },
  {
   "attachments": {},
   "cell_type": "markdown",
   "id": "22279adb",
   "metadata": {},
   "source": [
    "---"
   ]
  },
  {
   "attachments": {},
   "cell_type": "markdown",
   "id": "09ddeb59",
   "metadata": {},
   "source": [
    "### 📥<font color=\"red\"> 다음 실습을 위해 가공이 완료된 데이터 'df'를 파일로 저장합니다.</font>\n",
    "\n",
    "- pandas의 to_csv 메소드를 사용하면 파일 저장할 수 있습니다. \n",
    "- [참고] 컬럼명에 한글이 있을 경우 저장 시 encoding 옵션을 'utf-8-sig'로 지정하여야 한글 깨짐을 방지할 수 있습니다."
   ]
  },
  {
   "cell_type": "code",
   "execution_count": 19,
   "id": "9ada1476",
   "metadata": {},
   "outputs": [],
   "source": [
    "df.to_csv(\"./data/train_preprocessing_2.csv\", encoding='utf-8', index=False)"
   ]
  },
  {
   "attachments": {},
   "cell_type": "markdown",
   "id": "b70ee587",
   "metadata": {},
   "source": [
    "---"
   ]
  }
 ],
 "metadata": {
  "kernelspec": {
   "display_name": "Python 3 (ipykernel)",
   "language": "python",
   "name": "python3"
  },
  "language_info": {
   "codemirror_mode": {
    "name": "ipython",
    "version": 3
   },
   "file_extension": ".py",
   "mimetype": "text/x-python",
   "name": "python",
   "nbconvert_exporter": "python",
   "pygments_lexer": "ipython3",
   "version": "3.10.10"
  },
  "vscode": {
   "interpreter": {
    "hash": "f08154012ddadd8e950e6e9e035c7a7b32c136e7647e9b7c77e02eb723a8bedb"
   }
  }
 },
 "nbformat": 4,
 "nbformat_minor": 5
}
