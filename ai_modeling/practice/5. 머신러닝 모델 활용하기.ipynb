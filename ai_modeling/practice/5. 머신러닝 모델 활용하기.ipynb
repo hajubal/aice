{
 "cells": [
  {
   "cell_type": "markdown",
   "id": "22f7625f",
   "metadata": {},
   "source": [
    "# 안녕하세요, 여러분 ^^ \n",
    "\n",
    "# 디지코 디그리 AI 모델링 과정 \n",
    "# 🎈\"도전 머신러닝\" 시간에 오신 여러분을 환영합니다!\n",
    "\n",
    "## 오늘은 <font color=\"#01918a\">'타이타닉 생존자 예측'</font> 문제를 해결해 보겠습니다."
   ]
  },
  {
   "cell_type": "markdown",
   "id": "325d774e",
   "metadata": {},
   "source": [
    "<img src = \"https://images.unsplash.com/photo-1654170816607-f355d5cd5619?ixlib=rb-4.0.3&ixid=M3wxMjA3fDB8MHxwaG90by1wYWdlfHx8fGVufDB8fHx8fA%3D%3D&auto=format&fit=crop&w=2664&q=80\" width=100% align=\"center\"/>\n",
    "\n",
    "<div align=\"right\">사진: <a href=\"https://unsplash.com/ko/%EC%82%AC%EC%A7%84/TQAWPDbuwrc?utm_source=unsplash&utm_medium=referral&utm_content=creditCopyText\">Unsplash</a>의<a href=\"https://unsplash.com/@ep_petrus?utm_source=unsplash&utm_medium=referral&utm_content=creditCopyText\">Edwin Petrus</a></div>"
   ]
  },
  {
   "cell_type": "markdown",
   "id": "04b1edbb",
   "metadata": {},
   "source": [
    "---"
   ]
  },
  {
   "cell_type": "markdown",
   "id": "15623d6c",
   "metadata": {},
   "source": [
    "## 1. 데이터 수집 및 분석\n",
    "### 1) 데이터 불러오기"
   ]
  },
  {
   "cell_type": "code",
   "id": "9ec46e13",
   "metadata": {
    "ExecuteTime": {
     "end_time": "2024-08-13T07:45:35.354884Z",
     "start_time": "2024-08-13T07:45:33.628021Z"
    }
   },
   "source": [
    "# pip 이용해서 필요 라이브러리 설치(앞선 실습에서 미 설치 시 실행)\n",
    "\n",
    "# 사내 컴퓨터 사용 시\n",
    "#!pip install --trusted-host pypi.python.org --trusted-host files.pythonhosted.org --trusted-host pypi.org -U graphviz\n",
    "\n",
    "import os\n",
    "os.environ[\"PATH\"] += os.pathsep + os.path.abspath(\"./bin\")\n",
    "\n",
    "# 사외 컴퓨터 사용 시\n",
    "!pip install ydata-profiling seaborn graphviz\n",
    "\n",
    "from ydata_profiling import ProfileReport"
   ],
   "outputs": [
    {
     "name": "stdout",
     "output_type": "stream",
     "text": [
      "Requirement already satisfied: ydata-profiling in /opt/anaconda3/envs/aice/lib/python3.11/site-packages (4.9.0)\r\n",
      "Requirement already satisfied: seaborn in /opt/anaconda3/envs/aice/lib/python3.11/site-packages (0.13.2)\r\n",
      "Requirement already satisfied: graphviz in /opt/anaconda3/envs/aice/lib/python3.11/site-packages (0.20.3)\r\n",
      "Requirement already satisfied: scipy<1.14,>=1.4.1 in /opt/anaconda3/envs/aice/lib/python3.11/site-packages (from ydata-profiling) (1.13.1)\r\n",
      "Requirement already satisfied: pandas!=1.4.0,<3,>1.1 in /opt/anaconda3/envs/aice/lib/python3.11/site-packages (from ydata-profiling) (2.2.2)\r\n",
      "Requirement already satisfied: matplotlib<3.10,>=3.5 in /opt/anaconda3/envs/aice/lib/python3.11/site-packages (from ydata-profiling) (3.8.4)\r\n",
      "Requirement already satisfied: pydantic>=2 in /opt/anaconda3/envs/aice/lib/python3.11/site-packages (from ydata-profiling) (2.8.2)\r\n",
      "Requirement already satisfied: PyYAML<6.1,>=5.0.0 in /opt/anaconda3/envs/aice/lib/python3.11/site-packages (from ydata-profiling) (6.0.1)\r\n",
      "Requirement already satisfied: jinja2<3.2,>=2.11.1 in /opt/anaconda3/envs/aice/lib/python3.11/site-packages (from ydata-profiling) (3.1.4)\r\n",
      "Requirement already satisfied: visions<0.7.7,>=0.7.5 in /opt/anaconda3/envs/aice/lib/python3.11/site-packages (from visions[type_image_path]<0.7.7,>=0.7.5->ydata-profiling) (0.7.6)\r\n",
      "Requirement already satisfied: numpy<2,>=1.16.0 in /opt/anaconda3/envs/aice/lib/python3.11/site-packages (from ydata-profiling) (1.26.4)\r\n",
      "Requirement already satisfied: htmlmin==0.1.12 in /opt/anaconda3/envs/aice/lib/python3.11/site-packages (from ydata-profiling) (0.1.12)\r\n",
      "Requirement already satisfied: phik<0.13,>=0.11.1 in /opt/anaconda3/envs/aice/lib/python3.11/site-packages (from ydata-profiling) (0.12.4)\r\n",
      "Requirement already satisfied: requests<3,>=2.24.0 in /opt/anaconda3/envs/aice/lib/python3.11/site-packages (from ydata-profiling) (2.32.3)\r\n",
      "Requirement already satisfied: tqdm<5,>=4.48.2 in /opt/anaconda3/envs/aice/lib/python3.11/site-packages (from ydata-profiling) (4.66.5)\r\n",
      "Requirement already satisfied: multimethod<2,>=1.4 in /opt/anaconda3/envs/aice/lib/python3.11/site-packages (from ydata-profiling) (1.12)\r\n",
      "Requirement already satisfied: statsmodels<1,>=0.13.2 in /opt/anaconda3/envs/aice/lib/python3.11/site-packages (from ydata-profiling) (0.14.2)\r\n",
      "Requirement already satisfied: typeguard<5,>=3 in /opt/anaconda3/envs/aice/lib/python3.11/site-packages (from ydata-profiling) (4.3.0)\r\n",
      "Requirement already satisfied: imagehash==4.3.1 in /opt/anaconda3/envs/aice/lib/python3.11/site-packages (from ydata-profiling) (4.3.1)\r\n",
      "Requirement already satisfied: wordcloud>=1.9.1 in /opt/anaconda3/envs/aice/lib/python3.11/site-packages (from ydata-profiling) (1.9.3)\r\n",
      "Requirement already satisfied: dacite>=1.8 in /opt/anaconda3/envs/aice/lib/python3.11/site-packages (from ydata-profiling) (1.8.1)\r\n",
      "Requirement already satisfied: numba<1,>=0.56.0 in /opt/anaconda3/envs/aice/lib/python3.11/site-packages (from ydata-profiling) (0.60.0)\r\n",
      "Requirement already satisfied: PyWavelets in /opt/anaconda3/envs/aice/lib/python3.11/site-packages (from imagehash==4.3.1->ydata-profiling) (1.6.0)\r\n",
      "Requirement already satisfied: pillow in /opt/anaconda3/envs/aice/lib/python3.11/site-packages (from imagehash==4.3.1->ydata-profiling) (10.4.0)\r\n",
      "Requirement already satisfied: MarkupSafe>=2.0 in /opt/anaconda3/envs/aice/lib/python3.11/site-packages (from jinja2<3.2,>=2.11.1->ydata-profiling) (2.1.3)\r\n",
      "Requirement already satisfied: contourpy>=1.0.1 in /opt/anaconda3/envs/aice/lib/python3.11/site-packages (from matplotlib<3.10,>=3.5->ydata-profiling) (1.2.0)\r\n",
      "Requirement already satisfied: cycler>=0.10 in /opt/anaconda3/envs/aice/lib/python3.11/site-packages (from matplotlib<3.10,>=3.5->ydata-profiling) (0.11.0)\r\n",
      "Requirement already satisfied: fonttools>=4.22.0 in /opt/anaconda3/envs/aice/lib/python3.11/site-packages (from matplotlib<3.10,>=3.5->ydata-profiling) (4.51.0)\r\n",
      "Requirement already satisfied: kiwisolver>=1.3.1 in /opt/anaconda3/envs/aice/lib/python3.11/site-packages (from matplotlib<3.10,>=3.5->ydata-profiling) (1.4.4)\r\n",
      "Requirement already satisfied: packaging>=20.0 in /opt/anaconda3/envs/aice/lib/python3.11/site-packages (from matplotlib<3.10,>=3.5->ydata-profiling) (24.1)\r\n",
      "Requirement already satisfied: pyparsing>=2.3.1 in /opt/anaconda3/envs/aice/lib/python3.11/site-packages (from matplotlib<3.10,>=3.5->ydata-profiling) (3.0.9)\r\n",
      "Requirement already satisfied: python-dateutil>=2.7 in /opt/anaconda3/envs/aice/lib/python3.11/site-packages (from matplotlib<3.10,>=3.5->ydata-profiling) (2.9.0.post0)\r\n",
      "Requirement already satisfied: llvmlite<0.44,>=0.43.0dev0 in /opt/anaconda3/envs/aice/lib/python3.11/site-packages (from numba<1,>=0.56.0->ydata-profiling) (0.43.0)\r\n",
      "Requirement already satisfied: pytz>=2020.1 in /opt/anaconda3/envs/aice/lib/python3.11/site-packages (from pandas!=1.4.0,<3,>1.1->ydata-profiling) (2024.1)\r\n",
      "Requirement already satisfied: tzdata>=2022.7 in /opt/anaconda3/envs/aice/lib/python3.11/site-packages (from pandas!=1.4.0,<3,>1.1->ydata-profiling) (2023.3)\r\n",
      "Requirement already satisfied: joblib>=0.14.1 in /opt/anaconda3/envs/aice/lib/python3.11/site-packages (from phik<0.13,>=0.11.1->ydata-profiling) (1.1.1)\r\n",
      "Requirement already satisfied: annotated-types>=0.4.0 in /opt/anaconda3/envs/aice/lib/python3.11/site-packages (from pydantic>=2->ydata-profiling) (0.7.0)\r\n",
      "Requirement already satisfied: pydantic-core==2.20.1 in /opt/anaconda3/envs/aice/lib/python3.11/site-packages (from pydantic>=2->ydata-profiling) (2.20.1)\r\n",
      "Requirement already satisfied: typing-extensions>=4.6.1 in /opt/anaconda3/envs/aice/lib/python3.11/site-packages (from pydantic>=2->ydata-profiling) (4.11.0)\r\n",
      "Requirement already satisfied: charset-normalizer<4,>=2 in /opt/anaconda3/envs/aice/lib/python3.11/site-packages (from requests<3,>=2.24.0->ydata-profiling) (3.3.2)\r\n",
      "Requirement already satisfied: idna<4,>=2.5 in /opt/anaconda3/envs/aice/lib/python3.11/site-packages (from requests<3,>=2.24.0->ydata-profiling) (3.7)\r\n",
      "Requirement already satisfied: urllib3<3,>=1.21.1 in /opt/anaconda3/envs/aice/lib/python3.11/site-packages (from requests<3,>=2.24.0->ydata-profiling) (2.2.2)\r\n",
      "Requirement already satisfied: certifi>=2017.4.17 in /opt/anaconda3/envs/aice/lib/python3.11/site-packages (from requests<3,>=2.24.0->ydata-profiling) (2024.7.4)\r\n",
      "Requirement already satisfied: patsy>=0.5.6 in /opt/anaconda3/envs/aice/lib/python3.11/site-packages (from statsmodels<1,>=0.13.2->ydata-profiling) (0.5.6)\r\n",
      "Requirement already satisfied: attrs>=19.3.0 in /opt/anaconda3/envs/aice/lib/python3.11/site-packages (from visions<0.7.7,>=0.7.5->visions[type_image_path]<0.7.7,>=0.7.5->ydata-profiling) (23.1.0)\r\n",
      "Requirement already satisfied: networkx>=2.4 in /opt/anaconda3/envs/aice/lib/python3.11/site-packages (from visions<0.7.7,>=0.7.5->visions[type_image_path]<0.7.7,>=0.7.5->ydata-profiling) (3.3)\r\n",
      "Requirement already satisfied: six in /opt/anaconda3/envs/aice/lib/python3.11/site-packages (from patsy>=0.5.6->statsmodels<1,>=0.13.2->ydata-profiling) (1.16.0)\r\n"
     ]
    }
   ],
   "execution_count": 1
  },
  {
   "cell_type": "code",
   "id": "d85f0f4e",
   "metadata": {
    "ExecuteTime": {
     "end_time": "2024-08-13T07:45:35.896456Z",
     "start_time": "2024-08-13T07:45:35.883124Z"
    }
   },
   "source": [
    "# 기본 라이브러리 불러오기\n",
    "import warnings\n",
    "warnings.filterwarnings('ignore')\n",
    "\n",
    "import pandas as pd\n",
    "import matplotlib.pyplot as plt\n",
    "import seaborn as sns\n",
    "%matplotlib inline"
   ],
   "outputs": [],
   "execution_count": 2
  },
  {
   "cell_type": "markdown",
   "id": "b3af1ec2",
   "metadata": {},
   "source": [
    "---"
   ]
  },
  {
   "cell_type": "markdown",
   "id": "6fa1aae7",
   "metadata": {},
   "source": [
    "## 2. 데이터 전처리 (1)\n",
    "불필요한 컬럼을 삭제하거나 기존 데이터로 부터 새로운 컬럼을 생성합니다.\n",
    "데이터의 결측치를 확인하고 처리합니다\n",
    "- 데이터 가공하기\n",
    "- 결측치 제거하기\n",
    "- 불필요한 컬럼 삭제하기"
   ]
  },
  {
   "cell_type": "markdown",
   "id": "2634c7ab",
   "metadata": {},
   "source": [
    "---"
   ]
  },
  {
   "cell_type": "markdown",
   "id": "68f15f20",
   "metadata": {},
   "source": [
    "## 3. 데이터 전처리 (2)\n",
    "범주형 변수를 수치형 데이터로 변환하고, 다양한 특성들의 스케일을 조정하여 데이터를 모델링에 적합한 형태로 전처리하는 과정입니다.\n",
    "\n",
    "- 범주형 데이터 인코딩\n",
    "- 특성 스케일링/정규화"
   ]
  },
  {
   "cell_type": "markdown",
   "id": "ad1e6ce7",
   "metadata": {},
   "source": [
    "---"
   ]
  },
  {
   "cell_type": "markdown",
   "id": "aa0476ae",
   "metadata": {},
   "source": [
    "## 4. 머신러닝 모델링\n",
    "데이터를 수집하고 전처리하여 특성을 선택하고 엔지니어링한 후, \n",
    "학습 데이터와 검증용 데이터를 분리하고 적절한 머신러닝 모델을 선택하여 학습시킨 다음,\n",
    "모델의 성능을 평가하고 성능을 향상시키는 작업을 수행하는 단계입니다.\n",
    "\n",
    "- Train(학습용), Test(검증용) 데이터 셋 분할\n",
    "- 머신러닝 모델 구현하기\n",
    "- 머신러닝 모델 저장하기"
   ]
  },
  {
   "cell_type": "markdown",
   "id": "17a160f7",
   "metadata": {},
   "source": [
    "---"
   ]
  },
  {
   "cell_type": "markdown",
   "id": "b1f0ff53",
   "metadata": {},
   "source": [
    "## 5. 머신러닝 모델 활용하기\n",
    "머신러닝 모델 활용은 저장된 모델을 로드하고, 새로운 입력 데이터(Test 데이터)를 제공하여 예측 또는 추론을 수행하면 됩니다. <br>이 과정을 통해 모델을 활용하여 실제 문제에 대한 예측을 수행할 수 있습니다.\n",
    "- 머신러닝 모델 로드(불러오기)\n",
    "- Test 데이터 준비하기\n",
    "- 머신러닝 모델 예측하기"
   ]
  },
  {
   "cell_type": "markdown",
   "id": "7de96267",
   "metadata": {},
   "source": [
    "### 1) 머신러닝 모델 로드(불러오기)\n",
    "저장된 모델 파일을 로드합니다. <br>\n",
    "scikit-learn은 joblib 라이브러리를 활용하여 모델을 저장하고 로드할 수 있는 dump와 load 함수를 제공합니다.<br>"
   ]
  },
  {
   "cell_type": "markdown",
   "id": "93249de3",
   "metadata": {},
   "source": [
    "#### ① 저장한 모델 불러오기\n",
    "joblib의 load 함수를 사용하여 저장된 모델을 로드할 수 있습니다.\n",
    "> - loaded_model = joblib.load('model_file.pkl')<br>\n",
    "> load 함수를 사용하여 저장된 파일의 경로와 이름을 전달하면 모델이 로드됩니다."
   ]
  },
  {
   "cell_type": "code",
   "id": "d4bbb4ed",
   "metadata": {
    "scrolled": true,
    "ExecuteTime": {
     "end_time": "2024-08-13T07:45:39.496285Z",
     "start_time": "2024-08-13T07:45:39.353368Z"
    }
   },
   "source": [
    "# 라이브러리 임포트\n",
    "import joblib\n",
    "\n",
    "#model 저장\n",
    "my_model = joblib.load('./model_사번_이름.pkl')"
   ],
   "outputs": [],
   "execution_count": 3
  },
  {
   "cell_type": "code",
   "id": "07533819",
   "metadata": {
    "scrolled": true,
    "ExecuteTime": {
     "end_time": "2024-08-13T07:45:41.125343Z",
     "start_time": "2024-08-13T07:45:41.119898Z"
    }
   },
   "source": [
    "my_model"
   ],
   "outputs": [
    {
     "data": {
      "text/plain": [
       "DecisionTreeClassifier(max_depth=5, min_samples_split=4)"
      ],
      "text/html": [
       "<style>#sk-container-id-1 {\n",
       "  /* Definition of color scheme common for light and dark mode */\n",
       "  --sklearn-color-text: black;\n",
       "  --sklearn-color-line: gray;\n",
       "  /* Definition of color scheme for unfitted estimators */\n",
       "  --sklearn-color-unfitted-level-0: #fff5e6;\n",
       "  --sklearn-color-unfitted-level-1: #f6e4d2;\n",
       "  --sklearn-color-unfitted-level-2: #ffe0b3;\n",
       "  --sklearn-color-unfitted-level-3: chocolate;\n",
       "  /* Definition of color scheme for fitted estimators */\n",
       "  --sklearn-color-fitted-level-0: #f0f8ff;\n",
       "  --sklearn-color-fitted-level-1: #d4ebff;\n",
       "  --sklearn-color-fitted-level-2: #b3dbfd;\n",
       "  --sklearn-color-fitted-level-3: cornflowerblue;\n",
       "\n",
       "  /* Specific color for light theme */\n",
       "  --sklearn-color-text-on-default-background: var(--sg-text-color, var(--theme-code-foreground, var(--jp-content-font-color1, black)));\n",
       "  --sklearn-color-background: var(--sg-background-color, var(--theme-background, var(--jp-layout-color0, white)));\n",
       "  --sklearn-color-border-box: var(--sg-text-color, var(--theme-code-foreground, var(--jp-content-font-color1, black)));\n",
       "  --sklearn-color-icon: #696969;\n",
       "\n",
       "  @media (prefers-color-scheme: dark) {\n",
       "    /* Redefinition of color scheme for dark theme */\n",
       "    --sklearn-color-text-on-default-background: var(--sg-text-color, var(--theme-code-foreground, var(--jp-content-font-color1, white)));\n",
       "    --sklearn-color-background: var(--sg-background-color, var(--theme-background, var(--jp-layout-color0, #111)));\n",
       "    --sklearn-color-border-box: var(--sg-text-color, var(--theme-code-foreground, var(--jp-content-font-color1, white)));\n",
       "    --sklearn-color-icon: #878787;\n",
       "  }\n",
       "}\n",
       "\n",
       "#sk-container-id-1 {\n",
       "  color: var(--sklearn-color-text);\n",
       "}\n",
       "\n",
       "#sk-container-id-1 pre {\n",
       "  padding: 0;\n",
       "}\n",
       "\n",
       "#sk-container-id-1 input.sk-hidden--visually {\n",
       "  border: 0;\n",
       "  clip: rect(1px 1px 1px 1px);\n",
       "  clip: rect(1px, 1px, 1px, 1px);\n",
       "  height: 1px;\n",
       "  margin: -1px;\n",
       "  overflow: hidden;\n",
       "  padding: 0;\n",
       "  position: absolute;\n",
       "  width: 1px;\n",
       "}\n",
       "\n",
       "#sk-container-id-1 div.sk-dashed-wrapped {\n",
       "  border: 1px dashed var(--sklearn-color-line);\n",
       "  margin: 0 0.4em 0.5em 0.4em;\n",
       "  box-sizing: border-box;\n",
       "  padding-bottom: 0.4em;\n",
       "  background-color: var(--sklearn-color-background);\n",
       "}\n",
       "\n",
       "#sk-container-id-1 div.sk-container {\n",
       "  /* jupyter's `normalize.less` sets `[hidden] { display: none; }`\n",
       "     but bootstrap.min.css set `[hidden] { display: none !important; }`\n",
       "     so we also need the `!important` here to be able to override the\n",
       "     default hidden behavior on the sphinx rendered scikit-learn.org.\n",
       "     See: https://github.com/scikit-learn/scikit-learn/issues/21755 */\n",
       "  display: inline-block !important;\n",
       "  position: relative;\n",
       "}\n",
       "\n",
       "#sk-container-id-1 div.sk-text-repr-fallback {\n",
       "  display: none;\n",
       "}\n",
       "\n",
       "div.sk-parallel-item,\n",
       "div.sk-serial,\n",
       "div.sk-item {\n",
       "  /* draw centered vertical line to link estimators */\n",
       "  background-image: linear-gradient(var(--sklearn-color-text-on-default-background), var(--sklearn-color-text-on-default-background));\n",
       "  background-size: 2px 100%;\n",
       "  background-repeat: no-repeat;\n",
       "  background-position: center center;\n",
       "}\n",
       "\n",
       "/* Parallel-specific style estimator block */\n",
       "\n",
       "#sk-container-id-1 div.sk-parallel-item::after {\n",
       "  content: \"\";\n",
       "  width: 100%;\n",
       "  border-bottom: 2px solid var(--sklearn-color-text-on-default-background);\n",
       "  flex-grow: 1;\n",
       "}\n",
       "\n",
       "#sk-container-id-1 div.sk-parallel {\n",
       "  display: flex;\n",
       "  align-items: stretch;\n",
       "  justify-content: center;\n",
       "  background-color: var(--sklearn-color-background);\n",
       "  position: relative;\n",
       "}\n",
       "\n",
       "#sk-container-id-1 div.sk-parallel-item {\n",
       "  display: flex;\n",
       "  flex-direction: column;\n",
       "}\n",
       "\n",
       "#sk-container-id-1 div.sk-parallel-item:first-child::after {\n",
       "  align-self: flex-end;\n",
       "  width: 50%;\n",
       "}\n",
       "\n",
       "#sk-container-id-1 div.sk-parallel-item:last-child::after {\n",
       "  align-self: flex-start;\n",
       "  width: 50%;\n",
       "}\n",
       "\n",
       "#sk-container-id-1 div.sk-parallel-item:only-child::after {\n",
       "  width: 0;\n",
       "}\n",
       "\n",
       "/* Serial-specific style estimator block */\n",
       "\n",
       "#sk-container-id-1 div.sk-serial {\n",
       "  display: flex;\n",
       "  flex-direction: column;\n",
       "  align-items: center;\n",
       "  background-color: var(--sklearn-color-background);\n",
       "  padding-right: 1em;\n",
       "  padding-left: 1em;\n",
       "}\n",
       "\n",
       "\n",
       "/* Toggleable style: style used for estimator/Pipeline/ColumnTransformer box that is\n",
       "clickable and can be expanded/collapsed.\n",
       "- Pipeline and ColumnTransformer use this feature and define the default style\n",
       "- Estimators will overwrite some part of the style using the `sk-estimator` class\n",
       "*/\n",
       "\n",
       "/* Pipeline and ColumnTransformer style (default) */\n",
       "\n",
       "#sk-container-id-1 div.sk-toggleable {\n",
       "  /* Default theme specific background. It is overwritten whether we have a\n",
       "  specific estimator or a Pipeline/ColumnTransformer */\n",
       "  background-color: var(--sklearn-color-background);\n",
       "}\n",
       "\n",
       "/* Toggleable label */\n",
       "#sk-container-id-1 label.sk-toggleable__label {\n",
       "  cursor: pointer;\n",
       "  display: block;\n",
       "  width: 100%;\n",
       "  margin-bottom: 0;\n",
       "  padding: 0.5em;\n",
       "  box-sizing: border-box;\n",
       "  text-align: center;\n",
       "}\n",
       "\n",
       "#sk-container-id-1 label.sk-toggleable__label-arrow:before {\n",
       "  /* Arrow on the left of the label */\n",
       "  content: \"▸\";\n",
       "  float: left;\n",
       "  margin-right: 0.25em;\n",
       "  color: var(--sklearn-color-icon);\n",
       "}\n",
       "\n",
       "#sk-container-id-1 label.sk-toggleable__label-arrow:hover:before {\n",
       "  color: var(--sklearn-color-text);\n",
       "}\n",
       "\n",
       "/* Toggleable content - dropdown */\n",
       "\n",
       "#sk-container-id-1 div.sk-toggleable__content {\n",
       "  max-height: 0;\n",
       "  max-width: 0;\n",
       "  overflow: hidden;\n",
       "  text-align: left;\n",
       "  /* unfitted */\n",
       "  background-color: var(--sklearn-color-unfitted-level-0);\n",
       "}\n",
       "\n",
       "#sk-container-id-1 div.sk-toggleable__content.fitted {\n",
       "  /* fitted */\n",
       "  background-color: var(--sklearn-color-fitted-level-0);\n",
       "}\n",
       "\n",
       "#sk-container-id-1 div.sk-toggleable__content pre {\n",
       "  margin: 0.2em;\n",
       "  border-radius: 0.25em;\n",
       "  color: var(--sklearn-color-text);\n",
       "  /* unfitted */\n",
       "  background-color: var(--sklearn-color-unfitted-level-0);\n",
       "}\n",
       "\n",
       "#sk-container-id-1 div.sk-toggleable__content.fitted pre {\n",
       "  /* unfitted */\n",
       "  background-color: var(--sklearn-color-fitted-level-0);\n",
       "}\n",
       "\n",
       "#sk-container-id-1 input.sk-toggleable__control:checked~div.sk-toggleable__content {\n",
       "  /* Expand drop-down */\n",
       "  max-height: 200px;\n",
       "  max-width: 100%;\n",
       "  overflow: auto;\n",
       "}\n",
       "\n",
       "#sk-container-id-1 input.sk-toggleable__control:checked~label.sk-toggleable__label-arrow:before {\n",
       "  content: \"▾\";\n",
       "}\n",
       "\n",
       "/* Pipeline/ColumnTransformer-specific style */\n",
       "\n",
       "#sk-container-id-1 div.sk-label input.sk-toggleable__control:checked~label.sk-toggleable__label {\n",
       "  color: var(--sklearn-color-text);\n",
       "  background-color: var(--sklearn-color-unfitted-level-2);\n",
       "}\n",
       "\n",
       "#sk-container-id-1 div.sk-label.fitted input.sk-toggleable__control:checked~label.sk-toggleable__label {\n",
       "  background-color: var(--sklearn-color-fitted-level-2);\n",
       "}\n",
       "\n",
       "/* Estimator-specific style */\n",
       "\n",
       "/* Colorize estimator box */\n",
       "#sk-container-id-1 div.sk-estimator input.sk-toggleable__control:checked~label.sk-toggleable__label {\n",
       "  /* unfitted */\n",
       "  background-color: var(--sklearn-color-unfitted-level-2);\n",
       "}\n",
       "\n",
       "#sk-container-id-1 div.sk-estimator.fitted input.sk-toggleable__control:checked~label.sk-toggleable__label {\n",
       "  /* fitted */\n",
       "  background-color: var(--sklearn-color-fitted-level-2);\n",
       "}\n",
       "\n",
       "#sk-container-id-1 div.sk-label label.sk-toggleable__label,\n",
       "#sk-container-id-1 div.sk-label label {\n",
       "  /* The background is the default theme color */\n",
       "  color: var(--sklearn-color-text-on-default-background);\n",
       "}\n",
       "\n",
       "/* On hover, darken the color of the background */\n",
       "#sk-container-id-1 div.sk-label:hover label.sk-toggleable__label {\n",
       "  color: var(--sklearn-color-text);\n",
       "  background-color: var(--sklearn-color-unfitted-level-2);\n",
       "}\n",
       "\n",
       "/* Label box, darken color on hover, fitted */\n",
       "#sk-container-id-1 div.sk-label.fitted:hover label.sk-toggleable__label.fitted {\n",
       "  color: var(--sklearn-color-text);\n",
       "  background-color: var(--sklearn-color-fitted-level-2);\n",
       "}\n",
       "\n",
       "/* Estimator label */\n",
       "\n",
       "#sk-container-id-1 div.sk-label label {\n",
       "  font-family: monospace;\n",
       "  font-weight: bold;\n",
       "  display: inline-block;\n",
       "  line-height: 1.2em;\n",
       "}\n",
       "\n",
       "#sk-container-id-1 div.sk-label-container {\n",
       "  text-align: center;\n",
       "}\n",
       "\n",
       "/* Estimator-specific */\n",
       "#sk-container-id-1 div.sk-estimator {\n",
       "  font-family: monospace;\n",
       "  border: 1px dotted var(--sklearn-color-border-box);\n",
       "  border-radius: 0.25em;\n",
       "  box-sizing: border-box;\n",
       "  margin-bottom: 0.5em;\n",
       "  /* unfitted */\n",
       "  background-color: var(--sklearn-color-unfitted-level-0);\n",
       "}\n",
       "\n",
       "#sk-container-id-1 div.sk-estimator.fitted {\n",
       "  /* fitted */\n",
       "  background-color: var(--sklearn-color-fitted-level-0);\n",
       "}\n",
       "\n",
       "/* on hover */\n",
       "#sk-container-id-1 div.sk-estimator:hover {\n",
       "  /* unfitted */\n",
       "  background-color: var(--sklearn-color-unfitted-level-2);\n",
       "}\n",
       "\n",
       "#sk-container-id-1 div.sk-estimator.fitted:hover {\n",
       "  /* fitted */\n",
       "  background-color: var(--sklearn-color-fitted-level-2);\n",
       "}\n",
       "\n",
       "/* Specification for estimator info (e.g. \"i\" and \"?\") */\n",
       "\n",
       "/* Common style for \"i\" and \"?\" */\n",
       "\n",
       ".sk-estimator-doc-link,\n",
       "a:link.sk-estimator-doc-link,\n",
       "a:visited.sk-estimator-doc-link {\n",
       "  float: right;\n",
       "  font-size: smaller;\n",
       "  line-height: 1em;\n",
       "  font-family: monospace;\n",
       "  background-color: var(--sklearn-color-background);\n",
       "  border-radius: 1em;\n",
       "  height: 1em;\n",
       "  width: 1em;\n",
       "  text-decoration: none !important;\n",
       "  margin-left: 1ex;\n",
       "  /* unfitted */\n",
       "  border: var(--sklearn-color-unfitted-level-1) 1pt solid;\n",
       "  color: var(--sklearn-color-unfitted-level-1);\n",
       "}\n",
       "\n",
       ".sk-estimator-doc-link.fitted,\n",
       "a:link.sk-estimator-doc-link.fitted,\n",
       "a:visited.sk-estimator-doc-link.fitted {\n",
       "  /* fitted */\n",
       "  border: var(--sklearn-color-fitted-level-1) 1pt solid;\n",
       "  color: var(--sklearn-color-fitted-level-1);\n",
       "}\n",
       "\n",
       "/* On hover */\n",
       "div.sk-estimator:hover .sk-estimator-doc-link:hover,\n",
       ".sk-estimator-doc-link:hover,\n",
       "div.sk-label-container:hover .sk-estimator-doc-link:hover,\n",
       ".sk-estimator-doc-link:hover {\n",
       "  /* unfitted */\n",
       "  background-color: var(--sklearn-color-unfitted-level-3);\n",
       "  color: var(--sklearn-color-background);\n",
       "  text-decoration: none;\n",
       "}\n",
       "\n",
       "div.sk-estimator.fitted:hover .sk-estimator-doc-link.fitted:hover,\n",
       ".sk-estimator-doc-link.fitted:hover,\n",
       "div.sk-label-container:hover .sk-estimator-doc-link.fitted:hover,\n",
       ".sk-estimator-doc-link.fitted:hover {\n",
       "  /* fitted */\n",
       "  background-color: var(--sklearn-color-fitted-level-3);\n",
       "  color: var(--sklearn-color-background);\n",
       "  text-decoration: none;\n",
       "}\n",
       "\n",
       "/* Span, style for the box shown on hovering the info icon */\n",
       ".sk-estimator-doc-link span {\n",
       "  display: none;\n",
       "  z-index: 9999;\n",
       "  position: relative;\n",
       "  font-weight: normal;\n",
       "  right: .2ex;\n",
       "  padding: .5ex;\n",
       "  margin: .5ex;\n",
       "  width: min-content;\n",
       "  min-width: 20ex;\n",
       "  max-width: 50ex;\n",
       "  color: var(--sklearn-color-text);\n",
       "  box-shadow: 2pt 2pt 4pt #999;\n",
       "  /* unfitted */\n",
       "  background: var(--sklearn-color-unfitted-level-0);\n",
       "  border: .5pt solid var(--sklearn-color-unfitted-level-3);\n",
       "}\n",
       "\n",
       ".sk-estimator-doc-link.fitted span {\n",
       "  /* fitted */\n",
       "  background: var(--sklearn-color-fitted-level-0);\n",
       "  border: var(--sklearn-color-fitted-level-3);\n",
       "}\n",
       "\n",
       ".sk-estimator-doc-link:hover span {\n",
       "  display: block;\n",
       "}\n",
       "\n",
       "/* \"?\"-specific style due to the `<a>` HTML tag */\n",
       "\n",
       "#sk-container-id-1 a.estimator_doc_link {\n",
       "  float: right;\n",
       "  font-size: 1rem;\n",
       "  line-height: 1em;\n",
       "  font-family: monospace;\n",
       "  background-color: var(--sklearn-color-background);\n",
       "  border-radius: 1rem;\n",
       "  height: 1rem;\n",
       "  width: 1rem;\n",
       "  text-decoration: none;\n",
       "  /* unfitted */\n",
       "  color: var(--sklearn-color-unfitted-level-1);\n",
       "  border: var(--sklearn-color-unfitted-level-1) 1pt solid;\n",
       "}\n",
       "\n",
       "#sk-container-id-1 a.estimator_doc_link.fitted {\n",
       "  /* fitted */\n",
       "  border: var(--sklearn-color-fitted-level-1) 1pt solid;\n",
       "  color: var(--sklearn-color-fitted-level-1);\n",
       "}\n",
       "\n",
       "/* On hover */\n",
       "#sk-container-id-1 a.estimator_doc_link:hover {\n",
       "  /* unfitted */\n",
       "  background-color: var(--sklearn-color-unfitted-level-3);\n",
       "  color: var(--sklearn-color-background);\n",
       "  text-decoration: none;\n",
       "}\n",
       "\n",
       "#sk-container-id-1 a.estimator_doc_link.fitted:hover {\n",
       "  /* fitted */\n",
       "  background-color: var(--sklearn-color-fitted-level-3);\n",
       "}\n",
       "</style><div id=\"sk-container-id-1\" class=\"sk-top-container\"><div class=\"sk-text-repr-fallback\"><pre>DecisionTreeClassifier(max_depth=5, min_samples_split=4)</pre><b>In a Jupyter environment, please rerun this cell to show the HTML representation or trust the notebook. <br />On GitHub, the HTML representation is unable to render, please try loading this page with nbviewer.org.</b></div><div class=\"sk-container\" hidden><div class=\"sk-item\"><div class=\"sk-estimator fitted sk-toggleable\"><input class=\"sk-toggleable__control sk-hidden--visually\" id=\"sk-estimator-id-1\" type=\"checkbox\" checked><label for=\"sk-estimator-id-1\" class=\"sk-toggleable__label fitted sk-toggleable__label-arrow fitted\">&nbsp;&nbsp;DecisionTreeClassifier<a class=\"sk-estimator-doc-link fitted\" rel=\"noreferrer\" target=\"_blank\" href=\"https://scikit-learn.org/1.5/modules/generated/sklearn.tree.DecisionTreeClassifier.html\">?<span>Documentation for DecisionTreeClassifier</span></a><span class=\"sk-estimator-doc-link fitted\">i<span>Fitted</span></span></label><div class=\"sk-toggleable__content fitted\"><pre>DecisionTreeClassifier(max_depth=5, min_samples_split=4)</pre></div> </div></div></div></div>"
      ]
     },
     "execution_count": 4,
     "metadata": {},
     "output_type": "execute_result"
    }
   ],
   "execution_count": 4
  },
  {
   "cell_type": "markdown",
   "id": "bbb95984",
   "metadata": {},
   "source": [
    "### 2) Test 데이터 준비하기\n",
    "모델을 활용하기 위해 Test 데이터를 준비해야합니다. Test 데이터는 모델이 예측을 수행할 때 필요한 특성들을 포함해야 합니다. <br> \n",
    "데이터를 모델이 요구하는 형식에 맞게 가공하고 스케일링 등의 전처리 작업을 수행합니다."
   ]
  },
  {
   "cell_type": "markdown",
   "id": "9a5223ae",
   "metadata": {},
   "source": [
    "#### ① Test 데이터 불러오기\n",
    "- **pandas 라이브러리의 read_csv 함수를 사용하면 파일을 불러오고 변수에 저장할 수 있습니다.**"
   ]
  },
  {
   "cell_type": "code",
   "id": "f206fcf1",
   "metadata": {
    "ExecuteTime": {
     "end_time": "2024-08-13T07:45:44.094680Z",
     "start_time": "2024-08-13T07:45:44.029735Z"
    }
   },
   "source": [
    "df_train = pd.read_csv(\"./data/train_preprocessing_2.csv\")\n",
    "df_test = pd.read_csv('./data/test.csv')"
   ],
   "outputs": [],
   "execution_count": 5
  },
  {
   "cell_type": "code",
   "id": "13c4fa98",
   "metadata": {
    "ExecuteTime": {
     "end_time": "2024-08-13T07:45:45.723824Z",
     "start_time": "2024-08-13T07:45:45.716247Z"
    }
   },
   "source": [
    "df_train.info()"
   ],
   "outputs": [
    {
     "name": "stdout",
     "output_type": "stream",
     "text": [
      "<class 'pandas.core.frame.DataFrame'>\n",
      "RangeIndex: 891 entries, 0 to 890\n",
      "Data columns (total 13 columns):\n",
      " #   Column        Non-Null Count  Dtype  \n",
      "---  ------        --------------  -----  \n",
      " 0   Survived      891 non-null    int64  \n",
      " 1   Age           891 non-null    float64\n",
      " 2   SibSp         891 non-null    float64\n",
      " 3   Parch         891 non-null    float64\n",
      " 4   Fare          891 non-null    float64\n",
      " 5   Title_Mr      891 non-null    float64\n",
      " 6   Title_Mrs     891 non-null    float64\n",
      " 7   Title_Others  891 non-null    float64\n",
      " 8   Pclass_2      891 non-null    float64\n",
      " 9   Pclass_3      891 non-null    float64\n",
      " 10  Sex_male      891 non-null    float64\n",
      " 11  Embarked_Q    891 non-null    float64\n",
      " 12  Embarked_S    891 non-null    float64\n",
      "dtypes: float64(12), int64(1)\n",
      "memory usage: 90.6 KB\n"
     ]
    }
   ],
   "execution_count": 6
  },
  {
   "cell_type": "code",
   "id": "743e735f",
   "metadata": {
    "scrolled": true,
    "ExecuteTime": {
     "end_time": "2024-08-13T07:45:48.729583Z",
     "start_time": "2024-08-13T07:45:48.722849Z"
    }
   },
   "source": [
    "df_test.info()"
   ],
   "outputs": [
    {
     "name": "stdout",
     "output_type": "stream",
     "text": [
      "<class 'pandas.core.frame.DataFrame'>\n",
      "RangeIndex: 418 entries, 0 to 417\n",
      "Data columns (total 11 columns):\n",
      " #   Column       Non-Null Count  Dtype  \n",
      "---  ------       --------------  -----  \n",
      " 0   PassengerId  418 non-null    int64  \n",
      " 1   Pclass       418 non-null    int64  \n",
      " 2   Name         418 non-null    object \n",
      " 3   Sex          418 non-null    object \n",
      " 4   Age          332 non-null    float64\n",
      " 5   SibSp        418 non-null    int64  \n",
      " 6   Parch        418 non-null    int64  \n",
      " 7   Ticket       418 non-null    object \n",
      " 8   Fare         418 non-null    float64\n",
      " 9   Cabin        91 non-null     object \n",
      " 10  Embarked     418 non-null    object \n",
      "dtypes: float64(2), int64(4), object(5)\n",
      "memory usage: 36.1+ KB\n"
     ]
    }
   ],
   "execution_count": 7
  },
  {
   "cell_type": "markdown",
   "id": "d6c25a47",
   "metadata": {},
   "source": [
    "#### ② Test 데이터 전처리하기\n",
    "- **Title 변수 만들기**"
   ]
  },
  {
   "cell_type": "code",
   "id": "ee5982be",
   "metadata": {
    "ExecuteTime": {
     "end_time": "2024-08-13T07:45:51.512755Z",
     "start_time": "2024-08-13T07:45:51.506472Z"
    }
   },
   "source": [
    "df_test['Title'] = df_test['Name'].str.extract(' ([a-zA-Z]+)\\.')\n",
    "\n",
    "# 대표 호칭 이외는 Others로 변경\n",
    "df_test.loc[df_test['Title'].isin(['Mr', 'Miss', 'Mrs'])==False, ['Title']] = 'Others'"
   ],
   "outputs": [],
   "execution_count": 8
  },
  {
   "cell_type": "markdown",
   "id": "3c2e5b58",
   "metadata": {},
   "source": [
    "- **결측치 처리하기**"
   ]
  },
  {
   "cell_type": "code",
   "id": "e341a49e",
   "metadata": {
    "scrolled": false,
    "ExecuteTime": {
     "end_time": "2024-08-13T07:45:54.073872Z",
     "start_time": "2024-08-13T07:45:54.067901Z"
    }
   },
   "source": [
    "df_test.isnull().sum()"
   ],
   "outputs": [
    {
     "data": {
      "text/plain": [
       "PassengerId      0\n",
       "Pclass           0\n",
       "Name             0\n",
       "Sex              0\n",
       "Age             86\n",
       "SibSp            0\n",
       "Parch            0\n",
       "Ticket           0\n",
       "Fare             0\n",
       "Cabin          327\n",
       "Embarked         0\n",
       "Title            0\n",
       "dtype: int64"
      ]
     },
     "execution_count": 9,
     "metadata": {},
     "output_type": "execute_result"
    }
   ],
   "execution_count": 9
  },
  {
   "cell_type": "code",
   "id": "e5b112c1",
   "metadata": {
    "ExecuteTime": {
     "end_time": "2024-08-13T07:45:56.326689Z",
     "start_time": "2024-08-13T07:45:56.312777Z"
    }
   },
   "source": [
    "# Imputer 라이브러리 불러오기\n",
    "from sklearn.impute import KNNImputer, SimpleImputer\n",
    "\n",
    "# KNNImputer를 사용하여 'Age' 결측치를 예측하여 대체\n",
    "imputer = KNNImputer(n_neighbors=3)\n",
    "df_test['Age'] = imputer.fit_transform(df_test[['Age']])\n",
    "df_test['Age'] = df_test['Age'].astype(int)\n",
    "\n",
    "# SimpleImputer를 사용하여 'Embarked' 최빈값으로 대체\n",
    "imputer = SimpleImputer(strategy='most_frequent')\n",
    "df_test['Embarked'] = imputer.fit_transform(df_test[['Embarked']])[:,0]"
   ],
   "outputs": [],
   "execution_count": 10
  },
  {
   "metadata": {},
   "cell_type": "code",
   "source": "df_test",
   "id": "bb9451a66fb0e7d3",
   "outputs": [],
   "execution_count": null
  },
  {
   "cell_type": "markdown",
   "id": "e6bd390b",
   "metadata": {},
   "source": [
    "- **불필요한 컬럼 삭제하기**"
   ]
  },
  {
   "cell_type": "code",
   "id": "e516eb73",
   "metadata": {
    "ExecuteTime": {
     "end_time": "2024-08-13T07:46:01.032874Z",
     "start_time": "2024-08-13T07:46:01.028778Z"
    }
   },
   "source": [
    "drop_cols = ['PassengerId', 'Name', 'Ticket', 'Cabin']\n",
    "df_test.drop(drop_cols, axis=1, inplace=True)"
   ],
   "outputs": [],
   "execution_count": 11
  },
  {
   "cell_type": "markdown",
   "id": "ebee43b0",
   "metadata": {},
   "source": [
    "- **데이터 인코딩하기**"
   ]
  },
  {
   "cell_type": "code",
   "id": "d20eeb8f",
   "metadata": {
    "ExecuteTime": {
     "end_time": "2024-08-13T07:46:02.854036Z",
     "start_time": "2024-08-13T07:46:02.841423Z"
    }
   },
   "source": [
    "# get_dummies를 활용하여 범주형 데이터 가변수화 진행\n",
    "# 범주형 컬럼 리스트\n",
    "dummy_vars = ['Title', 'Pclass', 'Sex', 'Embarked']\n",
    "\n",
    "df_test = pd.get_dummies(df_test, columns=dummy_vars, drop_first=True)\n",
    "\n",
    "df_test"
   ],
   "outputs": [
    {
     "data": {
      "text/plain": [
       "     Age  SibSp  Parch      Fare  Title_Mr  Title_Mrs  Title_Others  Pclass_2  \\\n",
       "0     34      0      0    7.8292      True      False         False     False   \n",
       "1     47      1      0    7.0000     False       True         False     False   \n",
       "2     62      0      0    9.6875      True      False         False      True   \n",
       "3     27      0      0    8.6625      True      False         False     False   \n",
       "4     22      1      1   12.2875     False       True         False     False   \n",
       "..   ...    ...    ...       ...       ...        ...           ...       ...   \n",
       "413   30      0      0    8.0500      True      False         False     False   \n",
       "414   39      0      0  108.9000     False      False          True     False   \n",
       "415   38      0      0    7.2500      True      False         False     False   \n",
       "416   30      0      0    8.0500      True      False         False     False   \n",
       "417   30      1      1   22.3583     False      False          True     False   \n",
       "\n",
       "     Pclass_3  Sex_male  Embarked_Q  Embarked_S  \n",
       "0        True      True        True       False  \n",
       "1        True     False       False        True  \n",
       "2       False      True        True       False  \n",
       "3        True      True       False        True  \n",
       "4        True     False       False        True  \n",
       "..        ...       ...         ...         ...  \n",
       "413      True      True       False        True  \n",
       "414     False     False       False       False  \n",
       "415      True      True       False        True  \n",
       "416      True      True       False        True  \n",
       "417      True      True       False       False  \n",
       "\n",
       "[418 rows x 12 columns]"
      ],
      "text/html": [
       "<div>\n",
       "<style scoped>\n",
       "    .dataframe tbody tr th:only-of-type {\n",
       "        vertical-align: middle;\n",
       "    }\n",
       "\n",
       "    .dataframe tbody tr th {\n",
       "        vertical-align: top;\n",
       "    }\n",
       "\n",
       "    .dataframe thead th {\n",
       "        text-align: right;\n",
       "    }\n",
       "</style>\n",
       "<table border=\"1\" class=\"dataframe\">\n",
       "  <thead>\n",
       "    <tr style=\"text-align: right;\">\n",
       "      <th></th>\n",
       "      <th>Age</th>\n",
       "      <th>SibSp</th>\n",
       "      <th>Parch</th>\n",
       "      <th>Fare</th>\n",
       "      <th>Title_Mr</th>\n",
       "      <th>Title_Mrs</th>\n",
       "      <th>Title_Others</th>\n",
       "      <th>Pclass_2</th>\n",
       "      <th>Pclass_3</th>\n",
       "      <th>Sex_male</th>\n",
       "      <th>Embarked_Q</th>\n",
       "      <th>Embarked_S</th>\n",
       "    </tr>\n",
       "  </thead>\n",
       "  <tbody>\n",
       "    <tr>\n",
       "      <th>0</th>\n",
       "      <td>34</td>\n",
       "      <td>0</td>\n",
       "      <td>0</td>\n",
       "      <td>7.8292</td>\n",
       "      <td>True</td>\n",
       "      <td>False</td>\n",
       "      <td>False</td>\n",
       "      <td>False</td>\n",
       "      <td>True</td>\n",
       "      <td>True</td>\n",
       "      <td>True</td>\n",
       "      <td>False</td>\n",
       "    </tr>\n",
       "    <tr>\n",
       "      <th>1</th>\n",
       "      <td>47</td>\n",
       "      <td>1</td>\n",
       "      <td>0</td>\n",
       "      <td>7.0000</td>\n",
       "      <td>False</td>\n",
       "      <td>True</td>\n",
       "      <td>False</td>\n",
       "      <td>False</td>\n",
       "      <td>True</td>\n",
       "      <td>False</td>\n",
       "      <td>False</td>\n",
       "      <td>True</td>\n",
       "    </tr>\n",
       "    <tr>\n",
       "      <th>2</th>\n",
       "      <td>62</td>\n",
       "      <td>0</td>\n",
       "      <td>0</td>\n",
       "      <td>9.6875</td>\n",
       "      <td>True</td>\n",
       "      <td>False</td>\n",
       "      <td>False</td>\n",
       "      <td>True</td>\n",
       "      <td>False</td>\n",
       "      <td>True</td>\n",
       "      <td>True</td>\n",
       "      <td>False</td>\n",
       "    </tr>\n",
       "    <tr>\n",
       "      <th>3</th>\n",
       "      <td>27</td>\n",
       "      <td>0</td>\n",
       "      <td>0</td>\n",
       "      <td>8.6625</td>\n",
       "      <td>True</td>\n",
       "      <td>False</td>\n",
       "      <td>False</td>\n",
       "      <td>False</td>\n",
       "      <td>True</td>\n",
       "      <td>True</td>\n",
       "      <td>False</td>\n",
       "      <td>True</td>\n",
       "    </tr>\n",
       "    <tr>\n",
       "      <th>4</th>\n",
       "      <td>22</td>\n",
       "      <td>1</td>\n",
       "      <td>1</td>\n",
       "      <td>12.2875</td>\n",
       "      <td>False</td>\n",
       "      <td>True</td>\n",
       "      <td>False</td>\n",
       "      <td>False</td>\n",
       "      <td>True</td>\n",
       "      <td>False</td>\n",
       "      <td>False</td>\n",
       "      <td>True</td>\n",
       "    </tr>\n",
       "    <tr>\n",
       "      <th>...</th>\n",
       "      <td>...</td>\n",
       "      <td>...</td>\n",
       "      <td>...</td>\n",
       "      <td>...</td>\n",
       "      <td>...</td>\n",
       "      <td>...</td>\n",
       "      <td>...</td>\n",
       "      <td>...</td>\n",
       "      <td>...</td>\n",
       "      <td>...</td>\n",
       "      <td>...</td>\n",
       "      <td>...</td>\n",
       "    </tr>\n",
       "    <tr>\n",
       "      <th>413</th>\n",
       "      <td>30</td>\n",
       "      <td>0</td>\n",
       "      <td>0</td>\n",
       "      <td>8.0500</td>\n",
       "      <td>True</td>\n",
       "      <td>False</td>\n",
       "      <td>False</td>\n",
       "      <td>False</td>\n",
       "      <td>True</td>\n",
       "      <td>True</td>\n",
       "      <td>False</td>\n",
       "      <td>True</td>\n",
       "    </tr>\n",
       "    <tr>\n",
       "      <th>414</th>\n",
       "      <td>39</td>\n",
       "      <td>0</td>\n",
       "      <td>0</td>\n",
       "      <td>108.9000</td>\n",
       "      <td>False</td>\n",
       "      <td>False</td>\n",
       "      <td>True</td>\n",
       "      <td>False</td>\n",
       "      <td>False</td>\n",
       "      <td>False</td>\n",
       "      <td>False</td>\n",
       "      <td>False</td>\n",
       "    </tr>\n",
       "    <tr>\n",
       "      <th>415</th>\n",
       "      <td>38</td>\n",
       "      <td>0</td>\n",
       "      <td>0</td>\n",
       "      <td>7.2500</td>\n",
       "      <td>True</td>\n",
       "      <td>False</td>\n",
       "      <td>False</td>\n",
       "      <td>False</td>\n",
       "      <td>True</td>\n",
       "      <td>True</td>\n",
       "      <td>False</td>\n",
       "      <td>True</td>\n",
       "    </tr>\n",
       "    <tr>\n",
       "      <th>416</th>\n",
       "      <td>30</td>\n",
       "      <td>0</td>\n",
       "      <td>0</td>\n",
       "      <td>8.0500</td>\n",
       "      <td>True</td>\n",
       "      <td>False</td>\n",
       "      <td>False</td>\n",
       "      <td>False</td>\n",
       "      <td>True</td>\n",
       "      <td>True</td>\n",
       "      <td>False</td>\n",
       "      <td>True</td>\n",
       "    </tr>\n",
       "    <tr>\n",
       "      <th>417</th>\n",
       "      <td>30</td>\n",
       "      <td>1</td>\n",
       "      <td>1</td>\n",
       "      <td>22.3583</td>\n",
       "      <td>False</td>\n",
       "      <td>False</td>\n",
       "      <td>True</td>\n",
       "      <td>False</td>\n",
       "      <td>True</td>\n",
       "      <td>True</td>\n",
       "      <td>False</td>\n",
       "      <td>False</td>\n",
       "    </tr>\n",
       "  </tbody>\n",
       "</table>\n",
       "<p>418 rows × 12 columns</p>\n",
       "</div>"
      ]
     },
     "execution_count": 12,
     "metadata": {},
     "output_type": "execute_result"
    }
   ],
   "execution_count": 12
  },
  {
   "cell_type": "markdown",
   "id": "672432cc",
   "metadata": {},
   "source": [
    "- **데이터 스케일링하기**<br>\n",
    "테스트 데이터는 학습 데이터와 동일한 스케일링 범위로 조정되어야 합니다. 그러나 테스트 데이터를 스케일링할 때마다 최소값과 최대값을 새로 계산하면 학습 데이터와 다른 스케일링 범위가 적용될 수 있습니다.<br>\n",
    "학습 데이터에는 모델이 이미 노출되어 있으므로, 학습 데이터의 스케일링 범위를 사용하는 것이 테스트 데이터의 정보 유출을 방지하고 일관성을 유지하는 데 도움이 됩니다.\n",
    "<br><br>\n",
    "학습 데이터에는 fit_transform()을 사용하여 최소값과 최대값을 계산하고 데이터를 스케일링합니다.<br> \n",
    "그 후, 테스트 데이터에는 transform()을 사용하여 학습 데이터에서 계산된 최소값과 최대값을 사용하여 동일한 스케일링을 적용합니다. "
   ]
  },
  {
   "cell_type": "code",
   "id": "a3d9e804",
   "metadata": {
    "ExecuteTime": {
     "end_time": "2024-08-13T07:46:19.815629Z",
     "start_time": "2024-08-13T07:46:19.808598Z"
    }
   },
   "source": [
    "from sklearn.preprocessing import MinMaxScaler\n",
    "# 스케일러 생성하기\n",
    "scaler = MinMaxScaler()\n",
    "\n",
    "# 학습용 데이터 스케일러 불러오기\n",
    "scaler = joblib.load(\"./scaler.pkl\")\n",
    "\n",
    "# 데이터 스케일링하기, fit_transform을 안하는 이유는 훈련된 데이터의 스케일 범위와 다를수 있으므로 test는 fit을 하지 않는다\n",
    "df_test = scaler.transform(df_test)\n",
    "\n",
    "#데이터 프레임\n",
    "df_test = pd.DataFrame(df_test, columns=scaler.feature_names_in_)"
   ],
   "outputs": [],
   "execution_count": 13
  },
  {
   "cell_type": "code",
   "id": "0284313d",
   "metadata": {
    "scrolled": true,
    "ExecuteTime": {
     "end_time": "2024-08-13T07:46:23.327890Z",
     "start_time": "2024-08-13T07:46:23.319575Z"
    }
   },
   "source": [
    "df_test.head(3)"
   ],
   "outputs": [
    {
     "data": {
      "text/plain": [
       "      Age  SibSp  Parch      Fare  Title_Mr  Title_Mrs  Title_Others  \\\n",
       "0  0.4250  0.000    0.0  0.015282       1.0        0.0           0.0   \n",
       "1  0.5875  0.125    0.0  0.013663       0.0        1.0           0.0   \n",
       "2  0.7750  0.000    0.0  0.018909       1.0        0.0           0.0   \n",
       "\n",
       "   Pclass_2  Pclass_3  Sex_male  Embarked_Q  Embarked_S  \n",
       "0       0.0       1.0       1.0         1.0         0.0  \n",
       "1       0.0       1.0       0.0         0.0         1.0  \n",
       "2       1.0       0.0       1.0         1.0         0.0  "
      ],
      "text/html": [
       "<div>\n",
       "<style scoped>\n",
       "    .dataframe tbody tr th:only-of-type {\n",
       "        vertical-align: middle;\n",
       "    }\n",
       "\n",
       "    .dataframe tbody tr th {\n",
       "        vertical-align: top;\n",
       "    }\n",
       "\n",
       "    .dataframe thead th {\n",
       "        text-align: right;\n",
       "    }\n",
       "</style>\n",
       "<table border=\"1\" class=\"dataframe\">\n",
       "  <thead>\n",
       "    <tr style=\"text-align: right;\">\n",
       "      <th></th>\n",
       "      <th>Age</th>\n",
       "      <th>SibSp</th>\n",
       "      <th>Parch</th>\n",
       "      <th>Fare</th>\n",
       "      <th>Title_Mr</th>\n",
       "      <th>Title_Mrs</th>\n",
       "      <th>Title_Others</th>\n",
       "      <th>Pclass_2</th>\n",
       "      <th>Pclass_3</th>\n",
       "      <th>Sex_male</th>\n",
       "      <th>Embarked_Q</th>\n",
       "      <th>Embarked_S</th>\n",
       "    </tr>\n",
       "  </thead>\n",
       "  <tbody>\n",
       "    <tr>\n",
       "      <th>0</th>\n",
       "      <td>0.4250</td>\n",
       "      <td>0.000</td>\n",
       "      <td>0.0</td>\n",
       "      <td>0.015282</td>\n",
       "      <td>1.0</td>\n",
       "      <td>0.0</td>\n",
       "      <td>0.0</td>\n",
       "      <td>0.0</td>\n",
       "      <td>1.0</td>\n",
       "      <td>1.0</td>\n",
       "      <td>1.0</td>\n",
       "      <td>0.0</td>\n",
       "    </tr>\n",
       "    <tr>\n",
       "      <th>1</th>\n",
       "      <td>0.5875</td>\n",
       "      <td>0.125</td>\n",
       "      <td>0.0</td>\n",
       "      <td>0.013663</td>\n",
       "      <td>0.0</td>\n",
       "      <td>1.0</td>\n",
       "      <td>0.0</td>\n",
       "      <td>0.0</td>\n",
       "      <td>1.0</td>\n",
       "      <td>0.0</td>\n",
       "      <td>0.0</td>\n",
       "      <td>1.0</td>\n",
       "    </tr>\n",
       "    <tr>\n",
       "      <th>2</th>\n",
       "      <td>0.7750</td>\n",
       "      <td>0.000</td>\n",
       "      <td>0.0</td>\n",
       "      <td>0.018909</td>\n",
       "      <td>1.0</td>\n",
       "      <td>0.0</td>\n",
       "      <td>0.0</td>\n",
       "      <td>1.0</td>\n",
       "      <td>0.0</td>\n",
       "      <td>1.0</td>\n",
       "      <td>1.0</td>\n",
       "      <td>0.0</td>\n",
       "    </tr>\n",
       "  </tbody>\n",
       "</table>\n",
       "</div>"
      ]
     },
     "execution_count": 14,
     "metadata": {},
     "output_type": "execute_result"
    }
   ],
   "execution_count": 14
  },
  {
   "cell_type": "markdown",
   "id": "9454e87f",
   "metadata": {},
   "source": [
    "### 3) 머신러닝 모델 예측하기\n",
    "준비된 데이터를 사용하여 모델에 입력하여 예측을 수행하거나 추론 결과를 얻습니다. <br> \n",
    "모델에 입력 데이터를 전달하고, 모델은 해당 데이터에 대한 예측값을 반환합니다. "
   ]
  },
  {
   "cell_type": "markdown",
   "id": "1429a79b",
   "metadata": {},
   "source": [
    "#### ① 불러온 모델로 Test 데이터 예측하기"
   ]
  },
  {
   "cell_type": "code",
   "id": "46ebdf90",
   "metadata": {
    "ExecuteTime": {
     "end_time": "2024-08-13T07:46:25.879711Z",
     "start_time": "2024-08-13T07:46:25.874312Z"
    }
   },
   "source": [
    "# 불러온 모델로 예측하기\n",
    "predict = my_model.predict(df_test)"
   ],
   "outputs": [],
   "execution_count": 15
  },
  {
   "cell_type": "markdown",
   "id": "f8b32147",
   "metadata": {},
   "source": [
    "#### ② 정답 데이터와 비교하기\n",
    "모델이 예측한 결과를 정답 데이터('actual.csv')를 불러와서 f1_score를 확인해보세요."
   ]
  },
  {
   "cell_type": "code",
   "id": "e57d2336",
   "metadata": {
    "ExecuteTime": {
     "end_time": "2024-08-13T07:46:28.465762Z",
     "start_time": "2024-08-13T07:46:28.462367Z"
    }
   },
   "source": [
    "actual = pd.read_csv(\"./data/actual.csv\")"
   ],
   "outputs": [],
   "execution_count": 16
  },
  {
   "cell_type": "code",
   "id": "44c2b0d7",
   "metadata": {
    "scrolled": true,
    "ExecuteTime": {
     "end_time": "2024-08-13T07:46:31.278963Z",
     "start_time": "2024-08-13T07:46:31.272877Z"
    }
   },
   "source": [
    "actual.head(3)"
   ],
   "outputs": [
    {
     "data": {
      "text/plain": [
       "   PassengerId  Survived\n",
       "0          892         0\n",
       "1          893         1\n",
       "2          894         0"
      ],
      "text/html": [
       "<div>\n",
       "<style scoped>\n",
       "    .dataframe tbody tr th:only-of-type {\n",
       "        vertical-align: middle;\n",
       "    }\n",
       "\n",
       "    .dataframe tbody tr th {\n",
       "        vertical-align: top;\n",
       "    }\n",
       "\n",
       "    .dataframe thead th {\n",
       "        text-align: right;\n",
       "    }\n",
       "</style>\n",
       "<table border=\"1\" class=\"dataframe\">\n",
       "  <thead>\n",
       "    <tr style=\"text-align: right;\">\n",
       "      <th></th>\n",
       "      <th>PassengerId</th>\n",
       "      <th>Survived</th>\n",
       "    </tr>\n",
       "  </thead>\n",
       "  <tbody>\n",
       "    <tr>\n",
       "      <th>0</th>\n",
       "      <td>892</td>\n",
       "      <td>0</td>\n",
       "    </tr>\n",
       "    <tr>\n",
       "      <th>1</th>\n",
       "      <td>893</td>\n",
       "      <td>1</td>\n",
       "    </tr>\n",
       "    <tr>\n",
       "      <th>2</th>\n",
       "      <td>894</td>\n",
       "      <td>0</td>\n",
       "    </tr>\n",
       "  </tbody>\n",
       "</table>\n",
       "</div>"
      ]
     },
     "execution_count": 17,
     "metadata": {},
     "output_type": "execute_result"
    }
   ],
   "execution_count": 17
  },
  {
   "cell_type": "code",
   "id": "dd8de0ae",
   "metadata": {
    "ExecuteTime": {
     "end_time": "2024-08-13T07:46:33.642607Z",
     "start_time": "2024-08-13T07:46:33.635113Z"
    }
   },
   "source": [
    "from sklearn.metrics import f1_score\n",
    "\n",
    "f1_score(actual['Survived'], predict)"
   ],
   "outputs": [
    {
     "data": {
      "text/plain": [
       "0.8600682593856656"
      ]
     },
     "execution_count": 18,
     "metadata": {},
     "output_type": "execute_result"
    }
   ],
   "execution_count": 18
  },
  {
   "cell_type": "markdown",
   "id": "9df6787f",
   "metadata": {},
   "source": [
    "---"
   ]
  }
 ],
 "metadata": {
  "kernelspec": {
   "display_name": "Python 3 (ipykernel)",
   "language": "python",
   "name": "python3"
  },
  "language_info": {
   "codemirror_mode": {
    "name": "ipython",
    "version": 3
   },
   "file_extension": ".py",
   "mimetype": "text/x-python",
   "name": "python",
   "nbconvert_exporter": "python",
   "pygments_lexer": "ipython3",
   "version": "3.9.13"
  },
  "vscode": {
   "interpreter": {
    "hash": "f08154012ddadd8e950e6e9e035c7a7b32c136e7647e9b7c77e02eb723a8bedb"
   }
  }
 },
 "nbformat": 4,
 "nbformat_minor": 5
}
