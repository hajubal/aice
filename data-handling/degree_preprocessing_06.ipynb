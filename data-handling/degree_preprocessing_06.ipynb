{
 "cells": [
  {
   "attachments": {},
   "cell_type": "markdown",
   "id": "2d5365e6",
   "metadata": {},
   "source": [
    "## 데이터 핸들링 및 전처리 \n",
    "\n",
    "## 06. 이상치 처리하기"
   ]
  },
  {
   "attachments": {},
   "cell_type": "markdown",
   "id": "d66aced4",
   "metadata": {},
   "source": [
    "<img src = \"https://images.unsplash.com/photo-1536303100418-985cb308bb38?ixlib=rb-4.0.3&ixid=MnwxMjA3fDB8MHxwaG90by1wYWdlfHx8fGVufDB8fHx8&auto=format&fit=crop&w=1770&q=80\" width=80% align=\"center\"/>\n",
    "\n",
    "<div align=\"right\">사진: <a href=\"https://unsplash.com/ko/%EC%82%AC%EC%A7%84/ku_ttDpqIVc?utm_source=unsplash&utm_medium=referral&utm_content=creditCopyText\">Unsplash</a>의<a href=\"https://unsplash.com/@will_myers?utm_source=unsplash&utm_medium=referral&utm_content=creditCopyText\">Will Myers</a>\n",
    "  \n",
    "  </div>\n",
    "  \n",
    "  "
   ]
  },
  {
   "attachments": {},
   "cell_type": "markdown",
   "id": "e9a4da3b",
   "metadata": {},
   "source": [
    "## 0. 데이터 불러오기\n",
    "- ### 데이터 설명\n",
    "    1. preprocessing_06.csv : 이전 실습에서 데이터 타입을 변경하고 중복데이터를 제거한 데이터 \n",
    "> - MovieId : (int) 영화 아이디 <br>\n",
    "> - ImdbId : (int) IMDb 데이터베이스 관리 아이디<br>\n",
    "> - TmdbId : (int) TMDB 데이터베이스 관리 아이디<br>\n",
    "> - Title : (object) 영화 제목 <br> \n",
    "> - Year : (int) 제작년도 <br> \n",
    "> - Genres : (object) 영화의 장르, '|'을 구분자로 한 복수 장르\n",
    "> - UserId : (int) 유저 아이디 <br>\n",
    "> - Rating : (float) 영화 평점 <br>\n",
    "> - Gender : (object) 성별, M/F <br>\n",
    "> - Age : (int) 나이<br>\n",
    "> - Occupation : (object) 직업,<br>\n"
   ]
  },
  {
   "cell_type": "code",
   "id": "14ce763e",
   "metadata": {
    "ExecuteTime": {
     "end_time": "2024-05-12T02:38:35.990187Z",
     "start_time": "2024-05-12T02:38:33.699224Z"
    }
   },
   "source": [
    "# 라이브러리 불러오기\n",
    "import pandas as pd\n",
    "\n",
    "import warnings\n",
    "warnings.filterwarnings(action='ignore')"
   ],
   "outputs": [],
   "execution_count": 1
  },
  {
   "cell_type": "code",
   "id": "d15d5c5b",
   "metadata": {
    "ExecuteTime": {
     "end_time": "2024-05-12T02:38:39.850553Z",
     "start_time": "2024-05-12T02:38:39.772113Z"
    }
   },
   "source": [
    "# 데이터 불러오기\n",
    "df = pd.read_csv(\"./data/preprocessing_06.csv\")"
   ],
   "outputs": [],
   "execution_count": 2
  },
  {
   "cell_type": "code",
   "id": "d04130cd",
   "metadata": {
    "ExecuteTime": {
     "end_time": "2024-05-12T02:38:42.191983Z",
     "start_time": "2024-05-12T02:38:42.181183Z"
    }
   },
   "source": [
    "# 데이터 샘플 확인하기\n",
    "df.head()"
   ],
   "outputs": [
    {
     "data": {
      "text/plain": [
       "   MovieId  ImdbId  TmdbId      Title  Year  \\\n",
       "0        1  114709     862  Toy Story  1995   \n",
       "1        1  114709     862  Toy Story  1995   \n",
       "2        1  114709     862  Toy Story  1995   \n",
       "3        1  114709     862  Toy Story  1995   \n",
       "4        1  114709     862  Toy Story  1995   \n",
       "\n",
       "                                        Genres  UserId  Rating Gender  Age  \\\n",
       "0  Adventure|Animation|Children|Comedy|Fantasy       1     4.0      F    2   \n",
       "1  Adventure|Animation|Children|Comedy|Fantasy       5     4.0      M   30   \n",
       "2  Adventure|Animation|Children|Comedy|Fantasy       7     4.5      M   39   \n",
       "3  Adventure|Animation|Children|Comedy|Fantasy      15     2.5      M   29   \n",
       "4  Adventure|Animation|Children|Comedy|Fantasy      17     4.5      M   52   \n",
       "\n",
       "             Occupation  \n",
       "0          K-12 student  \n",
       "1                writer  \n",
       "2     academic/educator  \n",
       "3  executive/managerial  \n",
       "4     academic/educator  "
      ],
      "text/html": [
       "<div>\n",
       "<style scoped>\n",
       "    .dataframe tbody tr th:only-of-type {\n",
       "        vertical-align: middle;\n",
       "    }\n",
       "\n",
       "    .dataframe tbody tr th {\n",
       "        vertical-align: top;\n",
       "    }\n",
       "\n",
       "    .dataframe thead th {\n",
       "        text-align: right;\n",
       "    }\n",
       "</style>\n",
       "<table border=\"1\" class=\"dataframe\">\n",
       "  <thead>\n",
       "    <tr style=\"text-align: right;\">\n",
       "      <th></th>\n",
       "      <th>MovieId</th>\n",
       "      <th>ImdbId</th>\n",
       "      <th>TmdbId</th>\n",
       "      <th>Title</th>\n",
       "      <th>Year</th>\n",
       "      <th>Genres</th>\n",
       "      <th>UserId</th>\n",
       "      <th>Rating</th>\n",
       "      <th>Gender</th>\n",
       "      <th>Age</th>\n",
       "      <th>Occupation</th>\n",
       "    </tr>\n",
       "  </thead>\n",
       "  <tbody>\n",
       "    <tr>\n",
       "      <th>0</th>\n",
       "      <td>1</td>\n",
       "      <td>114709</td>\n",
       "      <td>862</td>\n",
       "      <td>Toy Story</td>\n",
       "      <td>1995</td>\n",
       "      <td>Adventure|Animation|Children|Comedy|Fantasy</td>\n",
       "      <td>1</td>\n",
       "      <td>4.0</td>\n",
       "      <td>F</td>\n",
       "      <td>2</td>\n",
       "      <td>K-12 student</td>\n",
       "    </tr>\n",
       "    <tr>\n",
       "      <th>1</th>\n",
       "      <td>1</td>\n",
       "      <td>114709</td>\n",
       "      <td>862</td>\n",
       "      <td>Toy Story</td>\n",
       "      <td>1995</td>\n",
       "      <td>Adventure|Animation|Children|Comedy|Fantasy</td>\n",
       "      <td>5</td>\n",
       "      <td>4.0</td>\n",
       "      <td>M</td>\n",
       "      <td>30</td>\n",
       "      <td>writer</td>\n",
       "    </tr>\n",
       "    <tr>\n",
       "      <th>2</th>\n",
       "      <td>1</td>\n",
       "      <td>114709</td>\n",
       "      <td>862</td>\n",
       "      <td>Toy Story</td>\n",
       "      <td>1995</td>\n",
       "      <td>Adventure|Animation|Children|Comedy|Fantasy</td>\n",
       "      <td>7</td>\n",
       "      <td>4.5</td>\n",
       "      <td>M</td>\n",
       "      <td>39</td>\n",
       "      <td>academic/educator</td>\n",
       "    </tr>\n",
       "    <tr>\n",
       "      <th>3</th>\n",
       "      <td>1</td>\n",
       "      <td>114709</td>\n",
       "      <td>862</td>\n",
       "      <td>Toy Story</td>\n",
       "      <td>1995</td>\n",
       "      <td>Adventure|Animation|Children|Comedy|Fantasy</td>\n",
       "      <td>15</td>\n",
       "      <td>2.5</td>\n",
       "      <td>M</td>\n",
       "      <td>29</td>\n",
       "      <td>executive/managerial</td>\n",
       "    </tr>\n",
       "    <tr>\n",
       "      <th>4</th>\n",
       "      <td>1</td>\n",
       "      <td>114709</td>\n",
       "      <td>862</td>\n",
       "      <td>Toy Story</td>\n",
       "      <td>1995</td>\n",
       "      <td>Adventure|Animation|Children|Comedy|Fantasy</td>\n",
       "      <td>17</td>\n",
       "      <td>4.5</td>\n",
       "      <td>M</td>\n",
       "      <td>52</td>\n",
       "      <td>academic/educator</td>\n",
       "    </tr>\n",
       "  </tbody>\n",
       "</table>\n",
       "</div>"
      ]
     },
     "execution_count": 3,
     "metadata": {},
     "output_type": "execute_result"
    }
   ],
   "execution_count": 3
  },
  {
   "cell_type": "code",
   "id": "d474599a",
   "metadata": {
    "scrolled": true,
    "ExecuteTime": {
     "end_time": "2024-05-12T02:38:44.850467Z",
     "start_time": "2024-05-12T02:38:44.846355Z"
    }
   },
   "source": [
    "# 데이터 샘플 확인하기\n",
    "df.tail()"
   ],
   "outputs": [
    {
     "data": {
      "text/plain": [
       "        MovieId   ImdbId  TmdbId                               Title  Year  \\\n",
       "100833   193581  5476944  432131  Black Butler: Book of the Atlantic  2017   \n",
       "100834   193583  5914996  445030               No Game No Life: Zero  2017   \n",
       "100835   193585  6397426  479308                               Flint  2017   \n",
       "100836   193587  8391976  483455        Bungo Stray Dogs: Dead Apple  2018   \n",
       "100837   193609   101726   37891        Andrew Dice Clay: Dice Rules  1991   \n",
       "\n",
       "                                 Genres  UserId  Rating Gender  Age  \\\n",
       "100833  Action|Animation|Comedy|Fantasy     184     4.0      F   33   \n",
       "100834         Animation|Comedy|Fantasy     184     3.5      F   33   \n",
       "100835                            Drama     184     3.5      F   33   \n",
       "100836                 Action|Animation     184     3.5      F   33   \n",
       "100837                           Comedy     331     4.0      M   32   \n",
       "\n",
       "                  Occupation  \n",
       "100833                 other  \n",
       "100834                 other  \n",
       "100835                 other  \n",
       "100836                 other  \n",
       "100837  executive/managerial  "
      ],
      "text/html": [
       "<div>\n",
       "<style scoped>\n",
       "    .dataframe tbody tr th:only-of-type {\n",
       "        vertical-align: middle;\n",
       "    }\n",
       "\n",
       "    .dataframe tbody tr th {\n",
       "        vertical-align: top;\n",
       "    }\n",
       "\n",
       "    .dataframe thead th {\n",
       "        text-align: right;\n",
       "    }\n",
       "</style>\n",
       "<table border=\"1\" class=\"dataframe\">\n",
       "  <thead>\n",
       "    <tr style=\"text-align: right;\">\n",
       "      <th></th>\n",
       "      <th>MovieId</th>\n",
       "      <th>ImdbId</th>\n",
       "      <th>TmdbId</th>\n",
       "      <th>Title</th>\n",
       "      <th>Year</th>\n",
       "      <th>Genres</th>\n",
       "      <th>UserId</th>\n",
       "      <th>Rating</th>\n",
       "      <th>Gender</th>\n",
       "      <th>Age</th>\n",
       "      <th>Occupation</th>\n",
       "    </tr>\n",
       "  </thead>\n",
       "  <tbody>\n",
       "    <tr>\n",
       "      <th>100833</th>\n",
       "      <td>193581</td>\n",
       "      <td>5476944</td>\n",
       "      <td>432131</td>\n",
       "      <td>Black Butler: Book of the Atlantic</td>\n",
       "      <td>2017</td>\n",
       "      <td>Action|Animation|Comedy|Fantasy</td>\n",
       "      <td>184</td>\n",
       "      <td>4.0</td>\n",
       "      <td>F</td>\n",
       "      <td>33</td>\n",
       "      <td>other</td>\n",
       "    </tr>\n",
       "    <tr>\n",
       "      <th>100834</th>\n",
       "      <td>193583</td>\n",
       "      <td>5914996</td>\n",
       "      <td>445030</td>\n",
       "      <td>No Game No Life: Zero</td>\n",
       "      <td>2017</td>\n",
       "      <td>Animation|Comedy|Fantasy</td>\n",
       "      <td>184</td>\n",
       "      <td>3.5</td>\n",
       "      <td>F</td>\n",
       "      <td>33</td>\n",
       "      <td>other</td>\n",
       "    </tr>\n",
       "    <tr>\n",
       "      <th>100835</th>\n",
       "      <td>193585</td>\n",
       "      <td>6397426</td>\n",
       "      <td>479308</td>\n",
       "      <td>Flint</td>\n",
       "      <td>2017</td>\n",
       "      <td>Drama</td>\n",
       "      <td>184</td>\n",
       "      <td>3.5</td>\n",
       "      <td>F</td>\n",
       "      <td>33</td>\n",
       "      <td>other</td>\n",
       "    </tr>\n",
       "    <tr>\n",
       "      <th>100836</th>\n",
       "      <td>193587</td>\n",
       "      <td>8391976</td>\n",
       "      <td>483455</td>\n",
       "      <td>Bungo Stray Dogs: Dead Apple</td>\n",
       "      <td>2018</td>\n",
       "      <td>Action|Animation</td>\n",
       "      <td>184</td>\n",
       "      <td>3.5</td>\n",
       "      <td>F</td>\n",
       "      <td>33</td>\n",
       "      <td>other</td>\n",
       "    </tr>\n",
       "    <tr>\n",
       "      <th>100837</th>\n",
       "      <td>193609</td>\n",
       "      <td>101726</td>\n",
       "      <td>37891</td>\n",
       "      <td>Andrew Dice Clay: Dice Rules</td>\n",
       "      <td>1991</td>\n",
       "      <td>Comedy</td>\n",
       "      <td>331</td>\n",
       "      <td>4.0</td>\n",
       "      <td>M</td>\n",
       "      <td>32</td>\n",
       "      <td>executive/managerial</td>\n",
       "    </tr>\n",
       "  </tbody>\n",
       "</table>\n",
       "</div>"
      ]
     },
     "execution_count": 4,
     "metadata": {},
     "output_type": "execute_result"
    }
   ],
   "execution_count": 4
  },
  {
   "cell_type": "code",
   "id": "443af426",
   "metadata": {
    "ExecuteTime": {
     "end_time": "2024-05-12T02:38:47.391286Z",
     "start_time": "2024-05-12T02:38:47.379778Z"
    }
   },
   "source": [
    "df_copy = df.copy()"
   ],
   "outputs": [],
   "execution_count": 5
  },
  {
   "attachments": {},
   "cell_type": "markdown",
   "id": "cc206880",
   "metadata": {},
   "source": [
    "---"
   ]
  },
  {
   "attachments": {},
   "cell_type": "markdown",
   "id": "79f8ee57",
   "metadata": {},
   "source": [
    "### 1. 이상치 탐지하기\n",
    "#### 1-1. .describe() 메소드를 사용하여 통계적 특성 확인하기\n",
    "데이터프레임은 .describe() 메소드를 사용하면 통계적 특성을 확인할 수 있습니다.\n",
    "- `count` 해당 컬럼에서 유효한 데이터 수\n",
    "- `mean` 평균값\n",
    "- `std` 표준편차\n",
    "- `min` 최솟값\n",
    "- `25%` 제 1사분위수\n",
    "- `50%` 제 2사분위수, 중앙값\n",
    "- `75%` 제 3사분위수\n",
    "- `max` 최댓값\n",
    "- `unique` 해당 컬럼에서 고유한 데이터(distinct)의 수, 범주의 수\n",
    "- `top` 최빈값\n",
    "- `freq` 해당 컬럼에서 최빈값이 존재하는 개수"
   ]
  },
  {
   "cell_type": "code",
   "id": "d874880b",
   "metadata": {
    "ExecuteTime": {
     "end_time": "2024-05-12T02:39:07.078641Z",
     "start_time": "2024-05-12T02:39:07.050637Z"
    }
   },
   "source": [
    "df.describe()"
   ],
   "outputs": [
    {
     "data": {
      "text/plain": [
       "             MovieId        ImdbId         TmdbId           Year  \\\n",
       "count  100838.000000  1.008380e+05  100838.000000  100838.000000   \n",
       "mean    19433.425951  3.515405e+05   20106.294859    1994.144618   \n",
       "std     35528.198872  6.220657e+05   53270.528876      28.249391   \n",
       "min         1.000000  4.170000e+02       2.000000       0.000000   \n",
       "25%      1199.000000  9.968500e+04     712.000000    1990.000000   \n",
       "50%      2991.000000  1.187635e+05    6961.000000    1997.000000   \n",
       "75%      8121.000000  3.149790e+05   11635.750000    2003.000000   \n",
       "max    193609.000000  8.391976e+06  525662.000000    2018.000000   \n",
       "\n",
       "              UserId         Rating            Age  \n",
       "count  100838.000000  100838.000000  100838.000000  \n",
       "mean      326.184950       3.501631      33.399611  \n",
       "std       182.639667       1.042351      15.584439  \n",
       "min         1.000000       0.500000       1.000000  \n",
       "25%       177.000000       3.000000      23.000000  \n",
       "50%       325.000000       3.500000      32.000000  \n",
       "75%       477.000000       4.000000      42.000000  \n",
       "max       611.000000       5.000000     110.000000  "
      ],
      "text/html": [
       "<div>\n",
       "<style scoped>\n",
       "    .dataframe tbody tr th:only-of-type {\n",
       "        vertical-align: middle;\n",
       "    }\n",
       "\n",
       "    .dataframe tbody tr th {\n",
       "        vertical-align: top;\n",
       "    }\n",
       "\n",
       "    .dataframe thead th {\n",
       "        text-align: right;\n",
       "    }\n",
       "</style>\n",
       "<table border=\"1\" class=\"dataframe\">\n",
       "  <thead>\n",
       "    <tr style=\"text-align: right;\">\n",
       "      <th></th>\n",
       "      <th>MovieId</th>\n",
       "      <th>ImdbId</th>\n",
       "      <th>TmdbId</th>\n",
       "      <th>Year</th>\n",
       "      <th>UserId</th>\n",
       "      <th>Rating</th>\n",
       "      <th>Age</th>\n",
       "    </tr>\n",
       "  </thead>\n",
       "  <tbody>\n",
       "    <tr>\n",
       "      <th>count</th>\n",
       "      <td>100838.000000</td>\n",
       "      <td>1.008380e+05</td>\n",
       "      <td>100838.000000</td>\n",
       "      <td>100838.000000</td>\n",
       "      <td>100838.000000</td>\n",
       "      <td>100838.000000</td>\n",
       "      <td>100838.000000</td>\n",
       "    </tr>\n",
       "    <tr>\n",
       "      <th>mean</th>\n",
       "      <td>19433.425951</td>\n",
       "      <td>3.515405e+05</td>\n",
       "      <td>20106.294859</td>\n",
       "      <td>1994.144618</td>\n",
       "      <td>326.184950</td>\n",
       "      <td>3.501631</td>\n",
       "      <td>33.399611</td>\n",
       "    </tr>\n",
       "    <tr>\n",
       "      <th>std</th>\n",
       "      <td>35528.198872</td>\n",
       "      <td>6.220657e+05</td>\n",
       "      <td>53270.528876</td>\n",
       "      <td>28.249391</td>\n",
       "      <td>182.639667</td>\n",
       "      <td>1.042351</td>\n",
       "      <td>15.584439</td>\n",
       "    </tr>\n",
       "    <tr>\n",
       "      <th>min</th>\n",
       "      <td>1.000000</td>\n",
       "      <td>4.170000e+02</td>\n",
       "      <td>2.000000</td>\n",
       "      <td>0.000000</td>\n",
       "      <td>1.000000</td>\n",
       "      <td>0.500000</td>\n",
       "      <td>1.000000</td>\n",
       "    </tr>\n",
       "    <tr>\n",
       "      <th>25%</th>\n",
       "      <td>1199.000000</td>\n",
       "      <td>9.968500e+04</td>\n",
       "      <td>712.000000</td>\n",
       "      <td>1990.000000</td>\n",
       "      <td>177.000000</td>\n",
       "      <td>3.000000</td>\n",
       "      <td>23.000000</td>\n",
       "    </tr>\n",
       "    <tr>\n",
       "      <th>50%</th>\n",
       "      <td>2991.000000</td>\n",
       "      <td>1.187635e+05</td>\n",
       "      <td>6961.000000</td>\n",
       "      <td>1997.000000</td>\n",
       "      <td>325.000000</td>\n",
       "      <td>3.500000</td>\n",
       "      <td>32.000000</td>\n",
       "    </tr>\n",
       "    <tr>\n",
       "      <th>75%</th>\n",
       "      <td>8121.000000</td>\n",
       "      <td>3.149790e+05</td>\n",
       "      <td>11635.750000</td>\n",
       "      <td>2003.000000</td>\n",
       "      <td>477.000000</td>\n",
       "      <td>4.000000</td>\n",
       "      <td>42.000000</td>\n",
       "    </tr>\n",
       "    <tr>\n",
       "      <th>max</th>\n",
       "      <td>193609.000000</td>\n",
       "      <td>8.391976e+06</td>\n",
       "      <td>525662.000000</td>\n",
       "      <td>2018.000000</td>\n",
       "      <td>611.000000</td>\n",
       "      <td>5.000000</td>\n",
       "      <td>110.000000</td>\n",
       "    </tr>\n",
       "  </tbody>\n",
       "</table>\n",
       "</div>"
      ]
     },
     "execution_count": 6,
     "metadata": {},
     "output_type": "execute_result"
    }
   ],
   "execution_count": 6
  },
  {
   "attachments": {},
   "cell_type": "markdown",
   "id": "6b3a6fa8",
   "metadata": {},
   "source": [
    "#### 1-2 시각화를 통해 이상치 탐지하기\n",
    "Box Plot을 그리면 데이터의 분포를 한 눈에 볼 수 있게 시각화하여 이상치(Outlier)를 탐지할 수 있습니다. \n",
    "- matplot 라이브러리를 활용하여 Box Plot 차트를 그립니다. "
   ]
  },
  {
   "cell_type": "code",
   "id": "d2b41ced",
   "metadata": {
    "ExecuteTime": {
     "end_time": "2024-05-12T02:42:48.695909Z",
     "start_time": "2024-05-12T02:42:48.356590Z"
    }
   },
   "source": [
    "# 라이브러리 불러오기 \n",
    "import matplotlib.pyplot as plt"
   ],
   "outputs": [],
   "execution_count": 7
  },
  {
   "cell_type": "code",
   "id": "1a87361b-b288-49bd-a380-3925d4eaab22",
   "metadata": {
    "ExecuteTime": {
     "end_time": "2024-05-12T02:44:51.499555Z",
     "start_time": "2024-05-12T02:44:51.453167Z"
    }
   },
   "source": [
    "# 차트 영역 설정하기\n",
    "plt.figure()\n",
    "plt.boxplot(df['Age'], labels=['Age'])\n",
    "# plt.boxplot(df['Rating'])\n",
    "plt.show()"
   ],
   "outputs": [
    {
     "data": {
      "text/plain": [
       "<Figure size 640x480 with 1 Axes>"
      ],
      "image/png": "[encoded data removed]"
     },
     "metadata": {},
     "output_type": "display_data"
    }
   ],
   "execution_count": 14
  },
  {
   "attachments": {},
   "cell_type": "markdown",
   "id": "c9870bde",
   "metadata": {},
   "source": [
    "---"
   ]
  },
  {
   "attachments": {},
   "cell_type": "markdown",
   "id": "d3a75e2f",
   "metadata": {},
   "source": [
    "### 2. 이상치 확인하기\n",
    "\n",
    "IQR (Interquartile Range, 사분위 범위)는 통계학에서 데이터의 분포를 요약하고 측정하는 데 사용되는 중요한 개념입니다. IQR은 데이터의 중간 50%에 해당하는 범위를 나타냅니다.\n",
    "\n",
    "IQR의 1.5배 이상 크거나 작은 데이터를 이상치로 판별합니다."
   ]
  },
  {
   "attachments": {},
   "cell_type": "markdown",
   "id": "7ab82bc9",
   "metadata": {},
   "source": [
    "#### 2-1. 데이터의 IQR 계산하기\n",
    "\n",
    "먼저 데이터의 중앙값(median)을 계산하고, 이를 기준으로 데이터를 하위 25%와 상위 25%로 분할합니다. 이를 통해 데이터의 IQR을 계산합니다."
   ]
  },
  {
   "attachments": {},
   "cell_type": "markdown",
   "id": "8187e9a6",
   "metadata": {},
   "source": [
    "- 'Age' 컬럼의 IQR을 계산합니다."
   ]
  },
  {
   "cell_type": "code",
   "id": "b5ad7be4",
   "metadata": {
    "ExecuteTime": {
     "end_time": "2024-05-12T02:46:46.011975Z",
     "start_time": "2024-05-12T02:46:45.991938Z"
    }
   },
   "source": [
    "df['Age'].describe()"
   ],
   "outputs": [
    {
     "data": {
      "text/plain": [
       "count    100838.000000\n",
       "mean         33.399611\n",
       "std          15.584439\n",
       "min           1.000000\n",
       "25%          23.000000\n",
       "50%          32.000000\n",
       "75%          42.000000\n",
       "max         110.000000\n",
       "Name: Age, dtype: float64"
      ]
     },
     "execution_count": 15,
     "metadata": {},
     "output_type": "execute_result"
    }
   ],
   "execution_count": 15
  },
  {
   "cell_type": "code",
   "id": "108a587f",
   "metadata": {
    "ExecuteTime": {
     "end_time": "2024-05-12T02:48:14.785459Z",
     "start_time": "2024-05-12T02:48:14.774302Z"
    }
   },
   "source": [
    "# 중앙값 계산\n",
    "Q2 = df['Age'].median()\n",
    "\n",
    "# 하위 25% 범위 계산\n",
    "Q1 = df['Age'].quantile(0.25)\n",
    "\n",
    "# 상위 25% 범위 계산\n",
    "Q3 = df['Age'].quantile(0.75)\n",
    "\n",
    "IQR = Q3 - Q1"
   ],
   "outputs": [],
   "execution_count": 18
  },
  {
   "cell_type": "code",
   "id": "54af845e",
   "metadata": {
    "ExecuteTime": {
     "end_time": "2024-05-12T03:21:31.414282Z",
     "start_time": "2024-05-12T03:21:31.408897Z"
    }
   },
   "source": [
    "print(Q1)\n",
    "print(Q3)\n",
    "print(IQR)\n",
    "print(1.5 * IQR)"
   ],
   "outputs": [
    {
     "name": "stdout",
     "output_type": "stream",
     "text": [
      "23.0\n",
      "42.0\n",
      "19.0\n",
      "28.5\n"
     ]
    }
   ],
   "execution_count": 21
  },
  {
   "attachments": {},
   "cell_type": "markdown",
   "id": "7d8bed7f",
   "metadata": {
    "tags": []
   },
   "source": [
    "#### 2-2. 이상치 판별하기\n",
    "IQR의 1.5배 이상 크거나 작은 데이터를 이상치로 판별합니다.\n",
    "- 'Age' 값이 IQR 범위 내에 있는지 확인"
   ]
  },
  {
   "cell_type": "code",
   "id": "4327b11a",
   "metadata": {
    "scrolled": true,
    "ExecuteTime": {
     "end_time": "2024-05-12T03:14:08.096163Z",
     "start_time": "2024-05-12T03:14:08.082809Z"
    }
   },
   "source": [
    "# 이상치 판별\n",
    "df['IsOutlier_Age'] = (df['Age'] < Q1 - 1.5 * IQR) | (df['Age'] > Q3 + 1.5 * IQR)"
   ],
   "outputs": [],
   "execution_count": 19
  },
  {
   "cell_type": "code",
   "id": "aacf78d0",
   "metadata": {
    "ExecuteTime": {
     "end_time": "2024-05-12T03:14:09.832038Z",
     "start_time": "2024-05-12T03:14:09.826710Z"
    }
   },
   "source": [
    "df.head(10)"
   ],
   "outputs": [
    {
     "data": {
      "text/plain": [
       "   MovieId  ImdbId  TmdbId      Title  Year  \\\n",
       "0        1  114709     862  Toy Story  1995   \n",
       "1        1  114709     862  Toy Story  1995   \n",
       "2        1  114709     862  Toy Story  1995   \n",
       "3        1  114709     862  Toy Story  1995   \n",
       "4        1  114709     862  Toy Story  1995   \n",
       "5        1  114709     862  Toy Story  1995   \n",
       "6        1  114709     862  Toy Story  1995   \n",
       "7        1  114709     862  Toy Story  1995   \n",
       "8        1  114709     862  Toy Story  1995   \n",
       "9        1  114709     862  Toy Story  1995   \n",
       "\n",
       "                                        Genres  UserId  Rating Gender  Age  \\\n",
       "0  Adventure|Animation|Children|Comedy|Fantasy       1     4.0      F    2   \n",
       "1  Adventure|Animation|Children|Comedy|Fantasy       5     4.0      M   30   \n",
       "2  Adventure|Animation|Children|Comedy|Fantasy       7     4.5      M   39   \n",
       "3  Adventure|Animation|Children|Comedy|Fantasy      15     2.5      M   29   \n",
       "4  Adventure|Animation|Children|Comedy|Fantasy      17     4.5      M   52   \n",
       "5  Adventure|Animation|Children|Comedy|Fantasy      18     3.5      F   23   \n",
       "6  Adventure|Animation|Children|Comedy|Fantasy      19     4.0      M    3   \n",
       "7  Adventure|Animation|Children|Comedy|Fantasy      21     3.5      M   18   \n",
       "8  Adventure|Animation|Children|Comedy|Fantasy      27     3.0      M   31   \n",
       "9  Adventure|Animation|Children|Comedy|Fantasy      31     5.0      M   73   \n",
       "\n",
       "             Occupation  IsOutlier_Age  \n",
       "0          K-12 student          False  \n",
       "1                writer          False  \n",
       "2     academic/educator          False  \n",
       "3  executive/managerial          False  \n",
       "4     academic/educator          False  \n",
       "5        clerical/admin          False  \n",
       "6          K-12 student          False  \n",
       "7         self-employed          False  \n",
       "8                lawyer          False  \n",
       "9  executive/managerial           True  "
      ],
      "text/html": [
       "<div>\n",
       "<style scoped>\n",
       "    .dataframe tbody tr th:only-of-type {\n",
       "        vertical-align: middle;\n",
       "    }\n",
       "\n",
       "    .dataframe tbody tr th {\n",
       "        vertical-align: top;\n",
       "    }\n",
       "\n",
       "    .dataframe thead th {\n",
       "        text-align: right;\n",
       "    }\n",
       "</style>\n",
       "<table border=\"1\" class=\"dataframe\">\n",
       "  <thead>\n",
       "    <tr style=\"text-align: right;\">\n",
       "      <th></th>\n",
       "      <th>MovieId</th>\n",
       "      <th>ImdbId</th>\n",
       "      <th>TmdbId</th>\n",
       "      <th>Title</th>\n",
       "      <th>Year</th>\n",
       "      <th>Genres</th>\n",
       "      <th>UserId</th>\n",
       "      <th>Rating</th>\n",
       "      <th>Gender</th>\n",
       "      <th>Age</th>\n",
       "      <th>Occupation</th>\n",
       "      <th>IsOutlier_Age</th>\n",
       "    </tr>\n",
       "  </thead>\n",
       "  <tbody>\n",
       "    <tr>\n",
       "      <th>0</th>\n",
       "      <td>1</td>\n",
       "      <td>114709</td>\n",
       "      <td>862</td>\n",
       "      <td>Toy Story</td>\n",
       "      <td>1995</td>\n",
       "      <td>Adventure|Animation|Children|Comedy|Fantasy</td>\n",
       "      <td>1</td>\n",
       "      <td>4.0</td>\n",
       "      <td>F</td>\n",
       "      <td>2</td>\n",
       "      <td>K-12 student</td>\n",
       "      <td>False</td>\n",
       "    </tr>\n",
       "    <tr>\n",
       "      <th>1</th>\n",
       "      <td>1</td>\n",
       "      <td>114709</td>\n",
       "      <td>862</td>\n",
       "      <td>Toy Story</td>\n",
       "      <td>1995</td>\n",
       "      <td>Adventure|Animation|Children|Comedy|Fantasy</td>\n",
       "      <td>5</td>\n",
       "      <td>4.0</td>\n",
       "      <td>M</td>\n",
       "      <td>30</td>\n",
       "      <td>writer</td>\n",
       "      <td>False</td>\n",
       "    </tr>\n",
       "    <tr>\n",
       "      <th>2</th>\n",
       "      <td>1</td>\n",
       "      <td>114709</td>\n",
       "      <td>862</td>\n",
       "      <td>Toy Story</td>\n",
       "      <td>1995</td>\n",
       "      <td>Adventure|Animation|Children|Comedy|Fantasy</td>\n",
       "      <td>7</td>\n",
       "      <td>4.5</td>\n",
       "      <td>M</td>\n",
       "      <td>39</td>\n",
       "      <td>academic/educator</td>\n",
       "      <td>False</td>\n",
       "    </tr>\n",
       "    <tr>\n",
       "      <th>3</th>\n",
       "      <td>1</td>\n",
       "      <td>114709</td>\n",
       "      <td>862</td>\n",
       "      <td>Toy Story</td>\n",
       "      <td>1995</td>\n",
       "      <td>Adventure|Animation|Children|Comedy|Fantasy</td>\n",
       "      <td>15</td>\n",
       "      <td>2.5</td>\n",
       "      <td>M</td>\n",
       "      <td>29</td>\n",
       "      <td>executive/managerial</td>\n",
       "      <td>False</td>\n",
       "    </tr>\n",
       "    <tr>\n",
       "      <th>4</th>\n",
       "      <td>1</td>\n",
       "      <td>114709</td>\n",
       "      <td>862</td>\n",
       "      <td>Toy Story</td>\n",
       "      <td>1995</td>\n",
       "      <td>Adventure|Animation|Children|Comedy|Fantasy</td>\n",
       "      <td>17</td>\n",
       "      <td>4.5</td>\n",
       "      <td>M</td>\n",
       "      <td>52</td>\n",
       "      <td>academic/educator</td>\n",
       "      <td>False</td>\n",
       "    </tr>\n",
       "    <tr>\n",
       "      <th>5</th>\n",
       "      <td>1</td>\n",
       "      <td>114709</td>\n",
       "      <td>862</td>\n",
       "      <td>Toy Story</td>\n",
       "      <td>1995</td>\n",
       "      <td>Adventure|Animation|Children|Comedy|Fantasy</td>\n",
       "      <td>18</td>\n",
       "      <td>3.5</td>\n",
       "      <td>F</td>\n",
       "      <td>23</td>\n",
       "      <td>clerical/admin</td>\n",
       "      <td>False</td>\n",
       "    </tr>\n",
       "    <tr>\n",
       "      <th>6</th>\n",
       "      <td>1</td>\n",
       "      <td>114709</td>\n",
       "      <td>862</td>\n",
       "      <td>Toy Story</td>\n",
       "      <td>1995</td>\n",
       "      <td>Adventure|Animation|Children|Comedy|Fantasy</td>\n",
       "      <td>19</td>\n",
       "      <td>4.0</td>\n",
       "      <td>M</td>\n",
       "      <td>3</td>\n",
       "      <td>K-12 student</td>\n",
       "      <td>False</td>\n",
       "    </tr>\n",
       "    <tr>\n",
       "      <th>7</th>\n",
       "      <td>1</td>\n",
       "      <td>114709</td>\n",
       "      <td>862</td>\n",
       "      <td>Toy Story</td>\n",
       "      <td>1995</td>\n",
       "      <td>Adventure|Animation|Children|Comedy|Fantasy</td>\n",
       "      <td>21</td>\n",
       "      <td>3.5</td>\n",
       "      <td>M</td>\n",
       "      <td>18</td>\n",
       "      <td>self-employed</td>\n",
       "      <td>False</td>\n",
       "    </tr>\n",
       "    <tr>\n",
       "      <th>8</th>\n",
       "      <td>1</td>\n",
       "      <td>114709</td>\n",
       "      <td>862</td>\n",
       "      <td>Toy Story</td>\n",
       "      <td>1995</td>\n",
       "      <td>Adventure|Animation|Children|Comedy|Fantasy</td>\n",
       "      <td>27</td>\n",
       "      <td>3.0</td>\n",
       "      <td>M</td>\n",
       "      <td>31</td>\n",
       "      <td>lawyer</td>\n",
       "      <td>False</td>\n",
       "    </tr>\n",
       "    <tr>\n",
       "      <th>9</th>\n",
       "      <td>1</td>\n",
       "      <td>114709</td>\n",
       "      <td>862</td>\n",
       "      <td>Toy Story</td>\n",
       "      <td>1995</td>\n",
       "      <td>Adventure|Animation|Children|Comedy|Fantasy</td>\n",
       "      <td>31</td>\n",
       "      <td>5.0</td>\n",
       "      <td>M</td>\n",
       "      <td>73</td>\n",
       "      <td>executive/managerial</td>\n",
       "      <td>True</td>\n",
       "    </tr>\n",
       "  </tbody>\n",
       "</table>\n",
       "</div>"
      ]
     },
     "execution_count": 20,
     "metadata": {},
     "output_type": "execute_result"
    }
   ],
   "execution_count": 20
  },
  {
   "attachments": {},
   "cell_type": "markdown",
   "id": "3f054a4b-0bdc-424b-9563-509c287c69e2",
   "metadata": {},
   "source": [
    "---"
   ]
  },
  {
   "attachments": {},
   "cell_type": "markdown",
   "id": "933deb24",
   "metadata": {},
   "source": [
    "---"
   ]
  },
  {
   "attachments": {},
   "cell_type": "markdown",
   "id": "bb0589db",
   "metadata": {},
   "source": [
    "### 3. 이상치 처리하기\n",
    "이상치를 삭제하거나 대체값으로 교체하는 등의 처리 방법 중 하나를 선택하여 이상치를 처리합니다.\n"
   ]
  },
  {
   "attachments": {},
   "cell_type": "markdown",
   "id": "48ea739c",
   "metadata": {
    "tags": []
   },
   "source": [
    "#### 3-1. 이상치 삭제하기"
   ]
  },
  {
   "cell_type": "code",
   "id": "1117236b",
   "metadata": {
    "scrolled": true,
    "ExecuteTime": {
     "end_time": "2024-05-12T03:39:25.150326Z",
     "start_time": "2024-05-12T03:39:25.110566Z"
    }
   },
   "source": [
    "# 이상치 삭제\n",
    "df = df[df['IsOutlier_Age'] == False]"
   ],
   "outputs": [],
   "execution_count": 22
  },
  {
   "cell_type": "code",
   "id": "b2fa1767",
   "metadata": {
    "ExecuteTime": {
     "end_time": "2024-05-12T03:39:49.607595Z",
     "start_time": "2024-05-12T03:39:49.591805Z"
    }
   },
   "source": [
    "age_compare = pd.DataFrame(columns=['Origin', 'Delete', 'Inplace']) \n",
    "age_compare['Origin'] = df_copy['Age']\n",
    "age_compare['Delete'] = df['Age']"
   ],
   "outputs": [],
   "execution_count": 23
  },
  {
   "cell_type": "code",
   "id": "f0135b2a",
   "metadata": {
    "ExecuteTime": {
     "end_time": "2024-05-12T03:42:16.343355Z",
     "start_time": "2024-05-12T03:42:16.314179Z"
    }
   },
   "source": [
    "df = df_copy.copy()"
   ],
   "outputs": [],
   "execution_count": 29
  },
  {
   "attachments": {},
   "cell_type": "markdown",
   "id": "ba824fc1",
   "metadata": {},
   "source": [
    "#### 3-2. 이상치 대체하기\n",
    "이상치를 다른 값으로 대체하는 방법입니다. 예를 들어, 평균, 중앙값, 최빈값 등의 대체 방법을 사용할 수 있습니다. <br> 이 경우에는 데이터의 손실을 최소화할 수 있지만, 대체된 값이 원래 데이터의 특성을 왜곡할 수 있습니다."
   ]
  },
  {
   "cell_type": "code",
   "id": "316092bc",
   "metadata": {
    "scrolled": true,
    "ExecuteTime": {
     "end_time": "2024-05-12T03:48:10.906564Z",
     "start_time": "2024-05-12T03:48:10.895061Z"
    }
   },
   "source": [
    "# 이 부분은 'Age' 열의 값이 이상값의 범위에 해당하는지를 판별하여, IsOutlier_Age 열을 만들어 이상값 여부를 추가합니다.\n",
    "df['IsOutlier_Age'] = (df['Age'] < Q1 - 1.5 * IQR) | (df['Age'] > Q3 + 1.5 * IQR)\n",
    "\n",
    "# df.loc[]를 사용하여 특정 조건을 만족하는 행에 접근하고, 그 행들의 'Age' 열 값을 변경합니다.\n",
    "df.loc[df['IsOutlier_Age'], 'Age'] = df['Age'].median()"
   ],
   "outputs": [],
   "execution_count": 30
  },
  {
   "cell_type": "code",
   "id": "832c3404",
   "metadata": {
    "ExecuteTime": {
     "end_time": "2024-05-12T03:48:12.868136Z",
     "start_time": "2024-05-12T03:48:12.865300Z"
    }
   },
   "source": [
    "age_compare['Inplace'] = df['Age']"
   ],
   "outputs": [],
   "execution_count": 31
  },
  {
   "metadata": {
    "ExecuteTime": {
     "end_time": "2024-05-12T03:48:34.782448Z",
     "start_time": "2024-05-12T03:48:34.771679Z"
    }
   },
   "cell_type": "code",
   "source": "age_compare.head(50)",
   "id": "e4acffeeec2b0af8",
   "outputs": [
    {
     "data": {
      "text/plain": [
       "    Origin  Delete  Inplace\n",
       "0        2     2.0        2\n",
       "1       30    30.0       30\n",
       "2       39    39.0       39\n",
       "3       29    29.0       29\n",
       "4       52    52.0       52\n",
       "5       23    23.0       23\n",
       "6        3     3.0        3\n",
       "7       18    18.0       18\n",
       "8       31    31.0       31\n",
       "9       73     NaN       32\n",
       "10      34    34.0       34\n",
       "11      48    48.0       48\n",
       "12      47    47.0       47\n",
       "13      32    32.0       32\n",
       "14      47    47.0       47\n",
       "15      46    46.0       46\n",
       "16      21    21.0       21\n",
       "17      27    27.0       27\n",
       "18      54    54.0       54\n",
       "19      18    18.0       18\n",
       "20      19    19.0       19\n",
       "21      21    21.0       21\n",
       "22      26    26.0       26\n",
       "23      18    18.0       18\n",
       "24      31    31.0       31\n",
       "25      18    18.0       18\n",
       "26      39    39.0       39\n",
       "27      47    47.0       47\n",
       "28      27    27.0       27\n",
       "29       3     3.0        3\n",
       "30     105     NaN       32\n",
       "31     106     NaN       32\n",
       "32      35    35.0       35\n",
       "33      29    29.0       29\n",
       "34      33    33.0       33\n",
       "35      36    36.0       36\n",
       "36      49    49.0       49\n",
       "37      47    47.0       47\n",
       "38      29    29.0       29\n",
       "39       1     1.0        1\n",
       "40      35    35.0       35\n",
       "41      89     NaN       32\n",
       "42      42    42.0       42\n",
       "43      26    26.0       26\n",
       "44      29    29.0       29\n",
       "45      20    20.0       20\n",
       "46      48    48.0       48\n",
       "47      44    44.0       44\n",
       "48      37    37.0       37\n",
       "49      27    27.0       27"
      ],
      "text/html": [
       "<div>\n",
       "<style scoped>\n",
       "    .dataframe tbody tr th:only-of-type {\n",
       "        vertical-align: middle;\n",
       "    }\n",
       "\n",
       "    .dataframe tbody tr th {\n",
       "        vertical-align: top;\n",
       "    }\n",
       "\n",
       "    .dataframe thead th {\n",
       "        text-align: right;\n",
       "    }\n",
       "</style>\n",
       "<table border=\"1\" class=\"dataframe\">\n",
       "  <thead>\n",
       "    <tr style=\"text-align: right;\">\n",
       "      <th></th>\n",
       "      <th>Origin</th>\n",
       "      <th>Delete</th>\n",
       "      <th>Inplace</th>\n",
       "    </tr>\n",
       "  </thead>\n",
       "  <tbody>\n",
       "    <tr>\n",
       "      <th>0</th>\n",
       "      <td>2</td>\n",
       "      <td>2.0</td>\n",
       "      <td>2</td>\n",
       "    </tr>\n",
       "    <tr>\n",
       "      <th>1</th>\n",
       "      <td>30</td>\n",
       "      <td>30.0</td>\n",
       "      <td>30</td>\n",
       "    </tr>\n",
       "    <tr>\n",
       "      <th>2</th>\n",
       "      <td>39</td>\n",
       "      <td>39.0</td>\n",
       "      <td>39</td>\n",
       "    </tr>\n",
       "    <tr>\n",
       "      <th>3</th>\n",
       "      <td>29</td>\n",
       "      <td>29.0</td>\n",
       "      <td>29</td>\n",
       "    </tr>\n",
       "    <tr>\n",
       "      <th>4</th>\n",
       "      <td>52</td>\n",
       "      <td>52.0</td>\n",
       "      <td>52</td>\n",
       "    </tr>\n",
       "    <tr>\n",
       "      <th>5</th>\n",
       "      <td>23</td>\n",
       "      <td>23.0</td>\n",
       "      <td>23</td>\n",
       "    </tr>\n",
       "    <tr>\n",
       "      <th>6</th>\n",
       "      <td>3</td>\n",
       "      <td>3.0</td>\n",
       "      <td>3</td>\n",
       "    </tr>\n",
       "    <tr>\n",
       "      <th>7</th>\n",
       "      <td>18</td>\n",
       "      <td>18.0</td>\n",
       "      <td>18</td>\n",
       "    </tr>\n",
       "    <tr>\n",
       "      <th>8</th>\n",
       "      <td>31</td>\n",
       "      <td>31.0</td>\n",
       "      <td>31</td>\n",
       "    </tr>\n",
       "    <tr>\n",
       "      <th>9</th>\n",
       "      <td>73</td>\n",
       "      <td>NaN</td>\n",
       "      <td>32</td>\n",
       "    </tr>\n",
       "    <tr>\n",
       "      <th>10</th>\n",
       "      <td>34</td>\n",
       "      <td>34.0</td>\n",
       "      <td>34</td>\n",
       "    </tr>\n",
       "    <tr>\n",
       "      <th>11</th>\n",
       "      <td>48</td>\n",
       "      <td>48.0</td>\n",
       "      <td>48</td>\n",
       "    </tr>\n",
       "    <tr>\n",
       "      <th>12</th>\n",
       "      <td>47</td>\n",
       "      <td>47.0</td>\n",
       "      <td>47</td>\n",
       "    </tr>\n",
       "    <tr>\n",
       "      <th>13</th>\n",
       "      <td>32</td>\n",
       "      <td>32.0</td>\n",
       "      <td>32</td>\n",
       "    </tr>\n",
       "    <tr>\n",
       "      <th>14</th>\n",
       "      <td>47</td>\n",
       "      <td>47.0</td>\n",
       "      <td>47</td>\n",
       "    </tr>\n",
       "    <tr>\n",
       "      <th>15</th>\n",
       "      <td>46</td>\n",
       "      <td>46.0</td>\n",
       "      <td>46</td>\n",
       "    </tr>\n",
       "    <tr>\n",
       "      <th>16</th>\n",
       "      <td>21</td>\n",
       "      <td>21.0</td>\n",
       "      <td>21</td>\n",
       "    </tr>\n",
       "    <tr>\n",
       "      <th>17</th>\n",
       "      <td>27</td>\n",
       "      <td>27.0</td>\n",
       "      <td>27</td>\n",
       "    </tr>\n",
       "    <tr>\n",
       "      <th>18</th>\n",
       "      <td>54</td>\n",
       "      <td>54.0</td>\n",
       "      <td>54</td>\n",
       "    </tr>\n",
       "    <tr>\n",
       "      <th>19</th>\n",
       "      <td>18</td>\n",
       "      <td>18.0</td>\n",
       "      <td>18</td>\n",
       "    </tr>\n",
       "    <tr>\n",
       "      <th>20</th>\n",
       "      <td>19</td>\n",
       "      <td>19.0</td>\n",
       "      <td>19</td>\n",
       "    </tr>\n",
       "    <tr>\n",
       "      <th>21</th>\n",
       "      <td>21</td>\n",
       "      <td>21.0</td>\n",
       "      <td>21</td>\n",
       "    </tr>\n",
       "    <tr>\n",
       "      <th>22</th>\n",
       "      <td>26</td>\n",
       "      <td>26.0</td>\n",
       "      <td>26</td>\n",
       "    </tr>\n",
       "    <tr>\n",
       "      <th>23</th>\n",
       "      <td>18</td>\n",
       "      <td>18.0</td>\n",
       "      <td>18</td>\n",
       "    </tr>\n",
       "    <tr>\n",
       "      <th>24</th>\n",
       "      <td>31</td>\n",
       "      <td>31.0</td>\n",
       "      <td>31</td>\n",
       "    </tr>\n",
       "    <tr>\n",
       "      <th>25</th>\n",
       "      <td>18</td>\n",
       "      <td>18.0</td>\n",
       "      <td>18</td>\n",
       "    </tr>\n",
       "    <tr>\n",
       "      <th>26</th>\n",
       "      <td>39</td>\n",
       "      <td>39.0</td>\n",
       "      <td>39</td>\n",
       "    </tr>\n",
       "    <tr>\n",
       "      <th>27</th>\n",
       "      <td>47</td>\n",
       "      <td>47.0</td>\n",
       "      <td>47</td>\n",
       "    </tr>\n",
       "    <tr>\n",
       "      <th>28</th>\n",
       "      <td>27</td>\n",
       "      <td>27.0</td>\n",
       "      <td>27</td>\n",
       "    </tr>\n",
       "    <tr>\n",
       "      <th>29</th>\n",
       "      <td>3</td>\n",
       "      <td>3.0</td>\n",
       "      <td>3</td>\n",
       "    </tr>\n",
       "    <tr>\n",
       "      <th>30</th>\n",
       "      <td>105</td>\n",
       "      <td>NaN</td>\n",
       "      <td>32</td>\n",
       "    </tr>\n",
       "    <tr>\n",
       "      <th>31</th>\n",
       "      <td>106</td>\n",
       "      <td>NaN</td>\n",
       "      <td>32</td>\n",
       "    </tr>\n",
       "    <tr>\n",
       "      <th>32</th>\n",
       "      <td>35</td>\n",
       "      <td>35.0</td>\n",
       "      <td>35</td>\n",
       "    </tr>\n",
       "    <tr>\n",
       "      <th>33</th>\n",
       "      <td>29</td>\n",
       "      <td>29.0</td>\n",
       "      <td>29</td>\n",
       "    </tr>\n",
       "    <tr>\n",
       "      <th>34</th>\n",
       "      <td>33</td>\n",
       "      <td>33.0</td>\n",
       "      <td>33</td>\n",
       "    </tr>\n",
       "    <tr>\n",
       "      <th>35</th>\n",
       "      <td>36</td>\n",
       "      <td>36.0</td>\n",
       "      <td>36</td>\n",
       "    </tr>\n",
       "    <tr>\n",
       "      <th>36</th>\n",
       "      <td>49</td>\n",
       "      <td>49.0</td>\n",
       "      <td>49</td>\n",
       "    </tr>\n",
       "    <tr>\n",
       "      <th>37</th>\n",
       "      <td>47</td>\n",
       "      <td>47.0</td>\n",
       "      <td>47</td>\n",
       "    </tr>\n",
       "    <tr>\n",
       "      <th>38</th>\n",
       "      <td>29</td>\n",
       "      <td>29.0</td>\n",
       "      <td>29</td>\n",
       "    </tr>\n",
       "    <tr>\n",
       "      <th>39</th>\n",
       "      <td>1</td>\n",
       "      <td>1.0</td>\n",
       "      <td>1</td>\n",
       "    </tr>\n",
       "    <tr>\n",
       "      <th>40</th>\n",
       "      <td>35</td>\n",
       "      <td>35.0</td>\n",
       "      <td>35</td>\n",
       "    </tr>\n",
       "    <tr>\n",
       "      <th>41</th>\n",
       "      <td>89</td>\n",
       "      <td>NaN</td>\n",
       "      <td>32</td>\n",
       "    </tr>\n",
       "    <tr>\n",
       "      <th>42</th>\n",
       "      <td>42</td>\n",
       "      <td>42.0</td>\n",
       "      <td>42</td>\n",
       "    </tr>\n",
       "    <tr>\n",
       "      <th>43</th>\n",
       "      <td>26</td>\n",
       "      <td>26.0</td>\n",
       "      <td>26</td>\n",
       "    </tr>\n",
       "    <tr>\n",
       "      <th>44</th>\n",
       "      <td>29</td>\n",
       "      <td>29.0</td>\n",
       "      <td>29</td>\n",
       "    </tr>\n",
       "    <tr>\n",
       "      <th>45</th>\n",
       "      <td>20</td>\n",
       "      <td>20.0</td>\n",
       "      <td>20</td>\n",
       "    </tr>\n",
       "    <tr>\n",
       "      <th>46</th>\n",
       "      <td>48</td>\n",
       "      <td>48.0</td>\n",
       "      <td>48</td>\n",
       "    </tr>\n",
       "    <tr>\n",
       "      <th>47</th>\n",
       "      <td>44</td>\n",
       "      <td>44.0</td>\n",
       "      <td>44</td>\n",
       "    </tr>\n",
       "    <tr>\n",
       "      <th>48</th>\n",
       "      <td>37</td>\n",
       "      <td>37.0</td>\n",
       "      <td>37</td>\n",
       "    </tr>\n",
       "    <tr>\n",
       "      <th>49</th>\n",
       "      <td>27</td>\n",
       "      <td>27.0</td>\n",
       "      <td>27</td>\n",
       "    </tr>\n",
       "  </tbody>\n",
       "</table>\n",
       "</div>"
      ]
     },
     "execution_count": 33,
     "metadata": {},
     "output_type": "execute_result"
    }
   ],
   "execution_count": 33
  },
  {
   "cell_type": "code",
   "id": "2f00d2e9",
   "metadata": {
    "scrolled": true,
    "ExecuteTime": {
     "end_time": "2024-05-12T03:48:15.545246Z",
     "start_time": "2024-05-12T03:48:15.525811Z"
    }
   },
   "source": [
    "age_compare.describe()"
   ],
   "outputs": [
    {
     "data": {
      "text/plain": [
       "              Origin        Delete        Inplace\n",
       "count  100838.000000  98752.000000  100838.000000\n",
       "mean       33.399611     32.057386      32.056199\n",
       "std        15.584439     12.571332      12.440624\n",
       "min         1.000000      1.000000       1.000000\n",
       "25%        23.000000     23.000000      23.000000\n",
       "50%        32.000000     31.000000      32.000000\n",
       "75%        42.000000     41.000000      41.000000\n",
       "max       110.000000     70.000000      70.000000"
      ],
      "text/html": [
       "<div>\n",
       "<style scoped>\n",
       "    .dataframe tbody tr th:only-of-type {\n",
       "        vertical-align: middle;\n",
       "    }\n",
       "\n",
       "    .dataframe tbody tr th {\n",
       "        vertical-align: top;\n",
       "    }\n",
       "\n",
       "    .dataframe thead th {\n",
       "        text-align: right;\n",
       "    }\n",
       "</style>\n",
       "<table border=\"1\" class=\"dataframe\">\n",
       "  <thead>\n",
       "    <tr style=\"text-align: right;\">\n",
       "      <th></th>\n",
       "      <th>Origin</th>\n",
       "      <th>Delete</th>\n",
       "      <th>Inplace</th>\n",
       "    </tr>\n",
       "  </thead>\n",
       "  <tbody>\n",
       "    <tr>\n",
       "      <th>count</th>\n",
       "      <td>100838.000000</td>\n",
       "      <td>98752.000000</td>\n",
       "      <td>100838.000000</td>\n",
       "    </tr>\n",
       "    <tr>\n",
       "      <th>mean</th>\n",
       "      <td>33.399611</td>\n",
       "      <td>32.057386</td>\n",
       "      <td>32.056199</td>\n",
       "    </tr>\n",
       "    <tr>\n",
       "      <th>std</th>\n",
       "      <td>15.584439</td>\n",
       "      <td>12.571332</td>\n",
       "      <td>12.440624</td>\n",
       "    </tr>\n",
       "    <tr>\n",
       "      <th>min</th>\n",
       "      <td>1.000000</td>\n",
       "      <td>1.000000</td>\n",
       "      <td>1.000000</td>\n",
       "    </tr>\n",
       "    <tr>\n",
       "      <th>25%</th>\n",
       "      <td>23.000000</td>\n",
       "      <td>23.000000</td>\n",
       "      <td>23.000000</td>\n",
       "    </tr>\n",
       "    <tr>\n",
       "      <th>50%</th>\n",
       "      <td>32.000000</td>\n",
       "      <td>31.000000</td>\n",
       "      <td>32.000000</td>\n",
       "    </tr>\n",
       "    <tr>\n",
       "      <th>75%</th>\n",
       "      <td>42.000000</td>\n",
       "      <td>41.000000</td>\n",
       "      <td>41.000000</td>\n",
       "    </tr>\n",
       "    <tr>\n",
       "      <th>max</th>\n",
       "      <td>110.000000</td>\n",
       "      <td>70.000000</td>\n",
       "      <td>70.000000</td>\n",
       "    </tr>\n",
       "  </tbody>\n",
       "</table>\n",
       "</div>"
      ]
     },
     "execution_count": 32,
     "metadata": {},
     "output_type": "execute_result"
    }
   ],
   "execution_count": 32
  },
  {
   "cell_type": "code",
   "id": "f15282f2",
   "metadata": {
    "ExecuteTime": {
     "end_time": "2024-05-12T03:52:51.092017Z",
     "start_time": "2024-05-12T03:52:51.070761Z"
    }
   },
   "source": "df = df_copy.copy()",
   "outputs": [],
   "execution_count": 34
  },
  {
   "attachments": {},
   "cell_type": "markdown",
   "id": "b11d744a",
   "metadata": {},
   "source": [
    "---"
   ]
  },
  {
   "attachments": {},
   "cell_type": "markdown",
   "id": "00835be9",
   "metadata": {},
   "source": [
    "## 실습문제"
   ]
  },
  {
   "attachments": {},
   "cell_type": "markdown",
   "id": "04cd0f2a",
   "metadata": {},
   "source": [
    "#### Q1. 데이터프레임 'df' 의 'Year' 컬럼의 통계적 특성을 확인해 보세요."
   ]
  },
  {
   "cell_type": "code",
   "id": "7ff371a4",
   "metadata": {
    "ExecuteTime": {
     "end_time": "2024-05-12T03:53:15.700565Z",
     "start_time": "2024-05-12T03:53:15.668836Z"
    }
   },
   "source": [
    "# 여기에 작성하세요.\n",
    "df['Year'].describe()"
   ],
   "outputs": [
    {
     "data": {
      "text/plain": [
       "count    100838.000000\n",
       "mean       1994.144618\n",
       "std          28.249391\n",
       "min           0.000000\n",
       "25%        1990.000000\n",
       "50%        1997.000000\n",
       "75%        2003.000000\n",
       "max        2018.000000\n",
       "Name: Year, dtype: float64"
      ]
     },
     "execution_count": 35,
     "metadata": {},
     "output_type": "execute_result"
    }
   ],
   "execution_count": 35
  },
  {
   "metadata": {
    "ExecuteTime": {
     "end_time": "2024-05-12T04:10:14.870118Z",
     "start_time": "2024-05-12T04:10:14.858056Z"
    }
   },
   "cell_type": "code",
   "source": "df['Year'].tail(100)",
   "id": "453b9eba46a30704",
   "outputs": [
    {
     "data": {
      "text/plain": [
       "100738    1986\n",
       "100739    1988\n",
       "100740    2018\n",
       "100741    2018\n",
       "100742    2018\n",
       "          ... \n",
       "100833    2017\n",
       "100834    2017\n",
       "100835    2017\n",
       "100836    2018\n",
       "100837    1991\n",
       "Name: Year, Length: 100, dtype: int64"
      ]
     },
     "execution_count": 45,
     "metadata": {},
     "output_type": "execute_result"
    }
   ],
   "execution_count": 45
  },
  {
   "attachments": {},
   "cell_type": "markdown",
   "id": "6c9dda27",
   "metadata": {},
   "source": [
    "#### Q2. 데이터프레임 'df'의 'Year' 컬럼에 대한 Box Plot을 그려서 이상치를 탐지해 보세요."
   ]
  },
  {
   "cell_type": "code",
   "id": "425e2da1",
   "metadata": {
    "scrolled": true,
    "ExecuteTime": {
     "end_time": "2024-05-12T03:56:31.298248Z",
     "start_time": "2024-05-12T03:56:31.250628Z"
    }
   },
   "source": [
    "# 여기에 작성하세요.\n",
    "plt.figure()\n",
    "plt.boxplot(df['Year'], labels=['Year'])\n",
    "plt.show()"
   ],
   "outputs": [
    {
     "data": {
      "text/plain": [
       "<Figure size 640x480 with 1 Axes>"
      ],
      "image/png": "[encoded data removed]"
     },
     "metadata": {},
     "output_type": "display_data"
    }
   ],
   "execution_count": 38
  },
  {
   "attachments": {},
   "cell_type": "markdown",
   "id": "3c36cafd",
   "metadata": {},
   "source": [
    "#### Q3. 'Year' 컬럼의 IQR을 계산해 보세요."
   ]
  },
  {
   "cell_type": "code",
   "id": "cc196c49",
   "metadata": {
    "ExecuteTime": {
     "end_time": "2024-05-12T04:01:26.299835Z",
     "start_time": "2024-05-12T04:01:26.294487Z"
    }
   },
   "source": [
    "# 여기에 작성하세요.\n",
    "Q3 = df['Year'].median()\n",
    "\n",
    "Q1 = df['Year'].quantile(0.25)\n",
    "\n",
    "Q4 = df['Year'].quantile(0.75)\n",
    "\n",
    "IQR = Q3 - Q1"
   ],
   "outputs": [
    {
     "data": {
      "text/plain": [
       "7.0"
      ]
     },
     "execution_count": 43,
     "metadata": {},
     "output_type": "execute_result"
    }
   ],
   "execution_count": 43
  },
  {
   "metadata": {
    "ExecuteTime": {
     "end_time": "2024-05-12T04:02:33.220156Z",
     "start_time": "2024-05-12T04:02:33.215070Z"
    }
   },
   "cell_type": "code",
   "source": [
    "print(Q1)\n",
    "print(Q3)\n",
    "print(Q4)\n",
    "print(IQR)"
   ],
   "id": "a06c6ca816940913",
   "outputs": [
    {
     "name": "stdout",
     "output_type": "stream",
     "text": [
      "1990.0\n",
      "1997.0\n",
      "2003.0\n",
      "7.0\n"
     ]
    }
   ],
   "execution_count": 44
  },
  {
   "attachments": {},
   "cell_type": "markdown",
   "id": "784f19f8",
   "metadata": {},
   "source": [
    "#### Q4. 'Year' 컬럼에서 IQR * 1.5 범위를 벗어나는 데이터를 이상치(Outlier)로 판단하는 컬럼 'IsOutlier_Year' 을 만들어 주세요."
   ]
  },
  {
   "cell_type": "code",
   "id": "a3293758",
   "metadata": {
    "ExecuteTime": {
     "end_time": "2024-05-12T07:57:17.612243Z",
     "start_time": "2024-05-12T07:57:17.608958Z"
    }
   },
   "source": [
    "# 여기에 작성하세요.\n",
    "df['IsOutlier_Year'] = (df['Year'] < Q1 - (IQR * 1.5)) | (df['Year'] > (Q4 + IQR * 1.5)) "
   ],
   "outputs": [],
   "execution_count": 47
  },
  {
   "attachments": {},
   "cell_type": "markdown",
   "id": "343c5d54",
   "metadata": {},
   "source": [
    "#### Q5. 제작년도의 이상치는 단순히 통계적으로만 판단하면 안됩니다. 하지만 이상치로 판단되는 데이터 중에서 제작년도가 존재할 수 없는 데이터의 경우( 0이거나 9999와 같은 값)는 이상치라고 할 수 있습니다. 이러한 데이터는 찾아서 삭제해 주세요. "
   ]
  },
  {
   "cell_type": "code",
   "id": "ced2540a",
   "metadata": {
    "ExecuteTime": {
     "end_time": "2024-05-12T08:05:46.319887Z",
     "start_time": "2024-05-12T08:05:46.303021Z"
    }
   },
   "source": [
    "# 여기에 작성하세요.\n",
    "invalid_year = df[(df['Year'] == 0) | (df['Year'] == 9999)]\n",
    "\n",
    "df.drop(invalid_year.index, inplace=True)\n",
    "\n",
    "df[(df['Year'] == 0) | (df['Year'] == 9999)]\n"
   ],
   "outputs": [
    {
     "data": {
      "text/plain": [
       "Empty DataFrame\n",
       "Columns: [MovieId, ImdbId, TmdbId, Title, Year, Genres, UserId, Rating, Gender, Age, Occupation, IsOutlier_Year]\n",
       "Index: []"
      ],
      "text/html": [
       "<div>\n",
       "<style scoped>\n",
       "    .dataframe tbody tr th:only-of-type {\n",
       "        vertical-align: middle;\n",
       "    }\n",
       "\n",
       "    .dataframe tbody tr th {\n",
       "        vertical-align: top;\n",
       "    }\n",
       "\n",
       "    .dataframe thead th {\n",
       "        text-align: right;\n",
       "    }\n",
       "</style>\n",
       "<table border=\"1\" class=\"dataframe\">\n",
       "  <thead>\n",
       "    <tr style=\"text-align: right;\">\n",
       "      <th></th>\n",
       "      <th>MovieId</th>\n",
       "      <th>ImdbId</th>\n",
       "      <th>TmdbId</th>\n",
       "      <th>Title</th>\n",
       "      <th>Year</th>\n",
       "      <th>Genres</th>\n",
       "      <th>UserId</th>\n",
       "      <th>Rating</th>\n",
       "      <th>Gender</th>\n",
       "      <th>Age</th>\n",
       "      <th>Occupation</th>\n",
       "      <th>IsOutlier_Year</th>\n",
       "    </tr>\n",
       "  </thead>\n",
       "  <tbody>\n",
       "  </tbody>\n",
       "</table>\n",
       "</div>"
      ]
     },
     "execution_count": 56,
     "metadata": {},
     "output_type": "execute_result"
    }
   ],
   "execution_count": 56
  },
  {
   "attachments": {},
   "cell_type": "markdown",
   "id": "22608ee1",
   "metadata": {},
   "source": [
    "#### Q5. 이상치 처리를 위해 사용했던 컬럼 'IsOutlier_Year' 은 삭제해 주세요. "
   ]
  },
  {
   "cell_type": "code",
   "id": "4061556f",
   "metadata": {
    "scrolled": true,
    "ExecuteTime": {
     "end_time": "2024-05-12T08:06:14.095968Z",
     "start_time": "2024-05-12T08:06:14.066402Z"
    }
   },
   "source": [
    "# 여기에 작성하세요.\n",
    "df.drop('IsOutlier_Year', axis=1, inplace=True)\n",
    "\n",
    "df\n"
   ],
   "outputs": [
    {
     "data": {
      "text/plain": [
       "        MovieId   ImdbId  TmdbId                               Title  Year  \\\n",
       "0             1   114709     862                           Toy Story  1995   \n",
       "1             1   114709     862                           Toy Story  1995   \n",
       "2             1   114709     862                           Toy Story  1995   \n",
       "3             1   114709     862                           Toy Story  1995   \n",
       "4             1   114709     862                           Toy Story  1995   \n",
       "...         ...      ...     ...                                 ...   ...   \n",
       "100833   193581  5476944  432131  Black Butler: Book of the Atlantic  2017   \n",
       "100834   193583  5914996  445030               No Game No Life: Zero  2017   \n",
       "100835   193585  6397426  479308                               Flint  2017   \n",
       "100836   193587  8391976  483455        Bungo Stray Dogs: Dead Apple  2018   \n",
       "100837   193609   101726   37891        Andrew Dice Clay: Dice Rules  1991   \n",
       "\n",
       "                                             Genres  UserId  Rating Gender  \\\n",
       "0       Adventure|Animation|Children|Comedy|Fantasy       1     4.0      F   \n",
       "1       Adventure|Animation|Children|Comedy|Fantasy       5     4.0      M   \n",
       "2       Adventure|Animation|Children|Comedy|Fantasy       7     4.5      M   \n",
       "3       Adventure|Animation|Children|Comedy|Fantasy      15     2.5      M   \n",
       "4       Adventure|Animation|Children|Comedy|Fantasy      17     4.5      M   \n",
       "...                                             ...     ...     ...    ...   \n",
       "100833              Action|Animation|Comedy|Fantasy     184     4.0      F   \n",
       "100834                     Animation|Comedy|Fantasy     184     3.5      F   \n",
       "100835                                        Drama     184     3.5      F   \n",
       "100836                             Action|Animation     184     3.5      F   \n",
       "100837                                       Comedy     331     4.0      M   \n",
       "\n",
       "        Age            Occupation  \n",
       "0         2          K-12 student  \n",
       "1        30                writer  \n",
       "2        39     academic/educator  \n",
       "3        29  executive/managerial  \n",
       "4        52     academic/educator  \n",
       "...     ...                   ...  \n",
       "100833   33                 other  \n",
       "100834   33                 other  \n",
       "100835   33                 other  \n",
       "100836   33                 other  \n",
       "100837   32  executive/managerial  \n",
       "\n",
       "[100823 rows x 11 columns]"
      ],
      "text/html": [
       "<div>\n",
       "<style scoped>\n",
       "    .dataframe tbody tr th:only-of-type {\n",
       "        vertical-align: middle;\n",
       "    }\n",
       "\n",
       "    .dataframe tbody tr th {\n",
       "        vertical-align: top;\n",
       "    }\n",
       "\n",
       "    .dataframe thead th {\n",
       "        text-align: right;\n",
       "    }\n",
       "</style>\n",
       "<table border=\"1\" class=\"dataframe\">\n",
       "  <thead>\n",
       "    <tr style=\"text-align: right;\">\n",
       "      <th></th>\n",
       "      <th>MovieId</th>\n",
       "      <th>ImdbId</th>\n",
       "      <th>TmdbId</th>\n",
       "      <th>Title</th>\n",
       "      <th>Year</th>\n",
       "      <th>Genres</th>\n",
       "      <th>UserId</th>\n",
       "      <th>Rating</th>\n",
       "      <th>Gender</th>\n",
       "      <th>Age</th>\n",
       "      <th>Occupation</th>\n",
       "    </tr>\n",
       "  </thead>\n",
       "  <tbody>\n",
       "    <tr>\n",
       "      <th>0</th>\n",
       "      <td>1</td>\n",
       "      <td>114709</td>\n",
       "      <td>862</td>\n",
       "      <td>Toy Story</td>\n",
       "      <td>1995</td>\n",
       "      <td>Adventure|Animation|Children|Comedy|Fantasy</td>\n",
       "      <td>1</td>\n",
       "      <td>4.0</td>\n",
       "      <td>F</td>\n",
       "      <td>2</td>\n",
       "      <td>K-12 student</td>\n",
       "    </tr>\n",
       "    <tr>\n",
       "      <th>1</th>\n",
       "      <td>1</td>\n",
       "      <td>114709</td>\n",
       "      <td>862</td>\n",
       "      <td>Toy Story</td>\n",
       "      <td>1995</td>\n",
       "      <td>Adventure|Animation|Children|Comedy|Fantasy</td>\n",
       "      <td>5</td>\n",
       "      <td>4.0</td>\n",
       "      <td>M</td>\n",
       "      <td>30</td>\n",
       "      <td>writer</td>\n",
       "    </tr>\n",
       "    <tr>\n",
       "      <th>2</th>\n",
       "      <td>1</td>\n",
       "      <td>114709</td>\n",
       "      <td>862</td>\n",
       "      <td>Toy Story</td>\n",
       "      <td>1995</td>\n",
       "      <td>Adventure|Animation|Children|Comedy|Fantasy</td>\n",
       "      <td>7</td>\n",
       "      <td>4.5</td>\n",
       "      <td>M</td>\n",
       "      <td>39</td>\n",
       "      <td>academic/educator</td>\n",
       "    </tr>\n",
       "    <tr>\n",
       "      <th>3</th>\n",
       "      <td>1</td>\n",
       "      <td>114709</td>\n",
       "      <td>862</td>\n",
       "      <td>Toy Story</td>\n",
       "      <td>1995</td>\n",
       "      <td>Adventure|Animation|Children|Comedy|Fantasy</td>\n",
       "      <td>15</td>\n",
       "      <td>2.5</td>\n",
       "      <td>M</td>\n",
       "      <td>29</td>\n",
       "      <td>executive/managerial</td>\n",
       "    </tr>\n",
       "    <tr>\n",
       "      <th>4</th>\n",
       "      <td>1</td>\n",
       "      <td>114709</td>\n",
       "      <td>862</td>\n",
       "      <td>Toy Story</td>\n",
       "      <td>1995</td>\n",
       "      <td>Adventure|Animation|Children|Comedy|Fantasy</td>\n",
       "      <td>17</td>\n",
       "      <td>4.5</td>\n",
       "      <td>M</td>\n",
       "      <td>52</td>\n",
       "      <td>academic/educator</td>\n",
       "    </tr>\n",
       "    <tr>\n",
       "      <th>...</th>\n",
       "      <td>...</td>\n",
       "      <td>...</td>\n",
       "      <td>...</td>\n",
       "      <td>...</td>\n",
       "      <td>...</td>\n",
       "      <td>...</td>\n",
       "      <td>...</td>\n",
       "      <td>...</td>\n",
       "      <td>...</td>\n",
       "      <td>...</td>\n",
       "      <td>...</td>\n",
       "    </tr>\n",
       "    <tr>\n",
       "      <th>100833</th>\n",
       "      <td>193581</td>\n",
       "      <td>5476944</td>\n",
       "      <td>432131</td>\n",
       "      <td>Black Butler: Book of the Atlantic</td>\n",
       "      <td>2017</td>\n",
       "      <td>Action|Animation|Comedy|Fantasy</td>\n",
       "      <td>184</td>\n",
       "      <td>4.0</td>\n",
       "      <td>F</td>\n",
       "      <td>33</td>\n",
       "      <td>other</td>\n",
       "    </tr>\n",
       "    <tr>\n",
       "      <th>100834</th>\n",
       "      <td>193583</td>\n",
       "      <td>5914996</td>\n",
       "      <td>445030</td>\n",
       "      <td>No Game No Life: Zero</td>\n",
       "      <td>2017</td>\n",
       "      <td>Animation|Comedy|Fantasy</td>\n",
       "      <td>184</td>\n",
       "      <td>3.5</td>\n",
       "      <td>F</td>\n",
       "      <td>33</td>\n",
       "      <td>other</td>\n",
       "    </tr>\n",
       "    <tr>\n",
       "      <th>100835</th>\n",
       "      <td>193585</td>\n",
       "      <td>6397426</td>\n",
       "      <td>479308</td>\n",
       "      <td>Flint</td>\n",
       "      <td>2017</td>\n",
       "      <td>Drama</td>\n",
       "      <td>184</td>\n",
       "      <td>3.5</td>\n",
       "      <td>F</td>\n",
       "      <td>33</td>\n",
       "      <td>other</td>\n",
       "    </tr>\n",
       "    <tr>\n",
       "      <th>100836</th>\n",
       "      <td>193587</td>\n",
       "      <td>8391976</td>\n",
       "      <td>483455</td>\n",
       "      <td>Bungo Stray Dogs: Dead Apple</td>\n",
       "      <td>2018</td>\n",
       "      <td>Action|Animation</td>\n",
       "      <td>184</td>\n",
       "      <td>3.5</td>\n",
       "      <td>F</td>\n",
       "      <td>33</td>\n",
       "      <td>other</td>\n",
       "    </tr>\n",
       "    <tr>\n",
       "      <th>100837</th>\n",
       "      <td>193609</td>\n",
       "      <td>101726</td>\n",
       "      <td>37891</td>\n",
       "      <td>Andrew Dice Clay: Dice Rules</td>\n",
       "      <td>1991</td>\n",
       "      <td>Comedy</td>\n",
       "      <td>331</td>\n",
       "      <td>4.0</td>\n",
       "      <td>M</td>\n",
       "      <td>32</td>\n",
       "      <td>executive/managerial</td>\n",
       "    </tr>\n",
       "  </tbody>\n",
       "</table>\n",
       "<p>100823 rows × 11 columns</p>\n",
       "</div>"
      ]
     },
     "execution_count": 57,
     "metadata": {},
     "output_type": "execute_result"
    }
   ],
   "execution_count": 57
  },
  {
   "attachments": {},
   "cell_type": "markdown",
   "id": "a15fb97c",
   "metadata": {},
   "source": [
    "---"
   ]
  }
 ],
 "metadata": {
  "kernelspec": {
   "display_name": "Python 3",
   "language": "python",
   "name": "python3"
  },
  "language_info": {
   "codemirror_mode": {
    "name": "ipython",
    "version": 3
   },
   "file_extension": ".py",
   "mimetype": "text/x-python",
   "name": "python",
   "nbconvert_exporter": "python",
   "pygments_lexer": "ipython3",
   "version": "3.10.10"
  }
 },
 "nbformat": 4,
 "nbformat_minor": 5
}
