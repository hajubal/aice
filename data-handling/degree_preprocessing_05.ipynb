{
 "cells": [
  {
   "attachments": {},
   "cell_type": "markdown",
   "id": "2d5365e6",
   "metadata": {},
   "source": [
    "## 데이터 핸들링 및 전처리 \n",
    "\n",
    "## 05. 데이터 타입 변환/중복데이터 제거"
   ]
  },
  {
   "attachments": {},
   "cell_type": "markdown",
   "id": "d66aced4",
   "metadata": {},
   "source": [
    "<img src = \"https://images.unsplash.com/photo-1646106842476-70e9dc6039f4?ixlib=rb-4.0.3&ixid=MnwxMjA3fDB8MHxwaG90by1wYWdlfHx8fGVufDB8fHx8&auto=format&fit=crop&w=1170&q=80\" width=80% align=\"center\"/>\n",
    "\n",
    "<div align=\"right\">사진: <a href=\"https://unsplash.com/ko/s/%EC%82%AC%EC%A7%84/same?utm_source=unsplash&utm_medium=referral&utm_content=creditCopyText\">Unsplash</a>의<a href=\"https://unsplash.com/@markuswinkler?utm_source=unsplash&utm_medium=referral&utm_content=creditCopyText\">Markus Winkler</a>\n",
    "  </div>\n",
    "  \n",
    "  "
   ]
  },
  {
   "attachments": {},
   "cell_type": "markdown",
   "id": "e9a4da3b",
   "metadata": {},
   "source": [
    "## 0. 데이터 불러오기\n",
    "- ### 데이터 설명\n",
    "    1. preprocessing_05.csv : 이전 실습에서 결측치를 제거한 데이터 \n",
    "> - MovieId : (int) 영화 아이디 <br>\n",
    "> - ImdbId : (int) IMDb 데이터베이스 관리 아이디<br>\n",
    "> - TmdbId : (float) TMDB 데이터베이스 관리 아이디<br>\n",
    "> - Title : (object) 영화 제목 <br> \n",
    "> - Year : (int) 제작년도 <br> \n",
    "> - Genres : (object) 영화의 장르, '|'을 구분자로 한 복수 장르\n",
    "> - UserId : (int) 유저 아이디 <br>\n",
    "> - Rating : (float) 영화 평점 <br>\n",
    "> - Gender : (object) 성별, M/F <br>\n",
    "> - Age : (int) 나이<br>\n",
    "> - Occupation : (object) 직업,<br>"
   ]
  },
  {
   "cell_type": "code",
   "id": "14ce763e",
   "metadata": {
    "ExecuteTime": {
     "end_time": "2024-05-08T08:11:17.515630Z",
     "start_time": "2024-05-08T08:11:15.685509Z"
    }
   },
   "source": [
    "# 라이브러리 불러오기\n",
    "import pandas as pd\n",
    "\n",
    "import warnings\n",
    "warnings.filterwarnings(action='ignore')"
   ],
   "outputs": [],
   "execution_count": 1
  },
  {
   "cell_type": "code",
   "id": "d15d5c5b",
   "metadata": {
    "ExecuteTime": {
     "end_time": "2024-05-08T08:11:21.635988Z",
     "start_time": "2024-05-08T08:11:21.537198Z"
    }
   },
   "source": [
    "# 데이터 불러오기\n",
    "df = pd.read_csv(\"./data/preprocessing_05.csv\")"
   ],
   "outputs": [],
   "execution_count": 2
  },
  {
   "cell_type": "code",
   "id": "d04130cd",
   "metadata": {
    "ExecuteTime": {
     "end_time": "2024-05-08T08:11:24.353554Z",
     "start_time": "2024-05-08T08:11:24.338253Z"
    }
   },
   "source": [
    "# 데이터 샘플 확인하기\n",
    "df.head()"
   ],
   "outputs": [
    {
     "data": {
      "text/plain": [
       "   MovieId    ImdbId  TmdbId      Title    Year  \\\n",
       "0      1.0  114709.0   862.0  Toy Story  1995.0   \n",
       "1      1.0  114709.0   862.0  Toy Story  1995.0   \n",
       "2      1.0  114709.0   862.0  Toy Story  1995.0   \n",
       "3      1.0  114709.0   862.0  Toy Story  1995.0   \n",
       "4      1.0  114709.0   862.0  Toy Story  1995.0   \n",
       "\n",
       "                                        Genres  UserId  Rating Gender   Age  \\\n",
       "0  Adventure|Animation|Children|Comedy|Fantasy     1.0     4.0      F   2.0   \n",
       "1  Adventure|Animation|Children|Comedy|Fantasy     5.0     4.0      M  30.0   \n",
       "2  Adventure|Animation|Children|Comedy|Fantasy     7.0     4.5      M  39.0   \n",
       "3  Adventure|Animation|Children|Comedy|Fantasy    15.0     2.5      M  29.0   \n",
       "4  Adventure|Animation|Children|Comedy|Fantasy    17.0     4.5      M  52.0   \n",
       "\n",
       "             Occupation  \n",
       "0          K-12 student  \n",
       "1                writer  \n",
       "2     academic/educator  \n",
       "3  executive/managerial  \n",
       "4     academic/educator  "
      ],
      "text/html": [
       "<div>\n",
       "<style scoped>\n",
       "    .dataframe tbody tr th:only-of-type {\n",
       "        vertical-align: middle;\n",
       "    }\n",
       "\n",
       "    .dataframe tbody tr th {\n",
       "        vertical-align: top;\n",
       "    }\n",
       "\n",
       "    .dataframe thead th {\n",
       "        text-align: right;\n",
       "    }\n",
       "</style>\n",
       "<table border=\"1\" class=\"dataframe\">\n",
       "  <thead>\n",
       "    <tr style=\"text-align: right;\">\n",
       "      <th></th>\n",
       "      <th>MovieId</th>\n",
       "      <th>ImdbId</th>\n",
       "      <th>TmdbId</th>\n",
       "      <th>Title</th>\n",
       "      <th>Year</th>\n",
       "      <th>Genres</th>\n",
       "      <th>UserId</th>\n",
       "      <th>Rating</th>\n",
       "      <th>Gender</th>\n",
       "      <th>Age</th>\n",
       "      <th>Occupation</th>\n",
       "    </tr>\n",
       "  </thead>\n",
       "  <tbody>\n",
       "    <tr>\n",
       "      <th>0</th>\n",
       "      <td>1.0</td>\n",
       "      <td>114709.0</td>\n",
       "      <td>862.0</td>\n",
       "      <td>Toy Story</td>\n",
       "      <td>1995.0</td>\n",
       "      <td>Adventure|Animation|Children|Comedy|Fantasy</td>\n",
       "      <td>1.0</td>\n",
       "      <td>4.0</td>\n",
       "      <td>F</td>\n",
       "      <td>2.0</td>\n",
       "      <td>K-12 student</td>\n",
       "    </tr>\n",
       "    <tr>\n",
       "      <th>1</th>\n",
       "      <td>1.0</td>\n",
       "      <td>114709.0</td>\n",
       "      <td>862.0</td>\n",
       "      <td>Toy Story</td>\n",
       "      <td>1995.0</td>\n",
       "      <td>Adventure|Animation|Children|Comedy|Fantasy</td>\n",
       "      <td>5.0</td>\n",
       "      <td>4.0</td>\n",
       "      <td>M</td>\n",
       "      <td>30.0</td>\n",
       "      <td>writer</td>\n",
       "    </tr>\n",
       "    <tr>\n",
       "      <th>2</th>\n",
       "      <td>1.0</td>\n",
       "      <td>114709.0</td>\n",
       "      <td>862.0</td>\n",
       "      <td>Toy Story</td>\n",
       "      <td>1995.0</td>\n",
       "      <td>Adventure|Animation|Children|Comedy|Fantasy</td>\n",
       "      <td>7.0</td>\n",
       "      <td>4.5</td>\n",
       "      <td>M</td>\n",
       "      <td>39.0</td>\n",
       "      <td>academic/educator</td>\n",
       "    </tr>\n",
       "    <tr>\n",
       "      <th>3</th>\n",
       "      <td>1.0</td>\n",
       "      <td>114709.0</td>\n",
       "      <td>862.0</td>\n",
       "      <td>Toy Story</td>\n",
       "      <td>1995.0</td>\n",
       "      <td>Adventure|Animation|Children|Comedy|Fantasy</td>\n",
       "      <td>15.0</td>\n",
       "      <td>2.5</td>\n",
       "      <td>M</td>\n",
       "      <td>29.0</td>\n",
       "      <td>executive/managerial</td>\n",
       "    </tr>\n",
       "    <tr>\n",
       "      <th>4</th>\n",
       "      <td>1.0</td>\n",
       "      <td>114709.0</td>\n",
       "      <td>862.0</td>\n",
       "      <td>Toy Story</td>\n",
       "      <td>1995.0</td>\n",
       "      <td>Adventure|Animation|Children|Comedy|Fantasy</td>\n",
       "      <td>17.0</td>\n",
       "      <td>4.5</td>\n",
       "      <td>M</td>\n",
       "      <td>52.0</td>\n",
       "      <td>academic/educator</td>\n",
       "    </tr>\n",
       "  </tbody>\n",
       "</table>\n",
       "</div>"
      ]
     },
     "execution_count": 3,
     "metadata": {},
     "output_type": "execute_result"
    }
   ],
   "execution_count": 3
  },
  {
   "cell_type": "code",
   "id": "b8a91a36",
   "metadata": {
    "ExecuteTime": {
     "end_time": "2024-05-08T08:13:00.931770Z",
     "start_time": "2024-05-08T08:13:00.908421Z"
    }
   },
   "source": [
    "temp_df = df\n",
    "\n",
    "# type 을 문자열로 변환\n",
    "temp_df['MovieId'] = temp_df['MovieId'].astype(str)\n",
    "\n",
    "temp_df.dtypes"
   ],
   "outputs": [
    {
     "data": {
      "text/plain": [
       "0              1.0\n",
       "1              1.0\n",
       "2              1.0\n",
       "3              1.0\n",
       "4              1.0\n",
       "            ...   \n",
       "100836    193581.0\n",
       "100837    193583.0\n",
       "100838    193585.0\n",
       "100839    193587.0\n",
       "100840    193609.0\n",
       "Name: MovieId, Length: 100841, dtype: object"
      ]
     },
     "execution_count": 5,
     "metadata": {},
     "output_type": "execute_result"
    }
   ],
   "execution_count": 5
  },
  {
   "cell_type": "code",
   "id": "fc018983",
   "metadata": {
    "ExecuteTime": {
     "end_time": "2024-05-08T08:13:56.867042Z",
     "start_time": "2024-05-08T08:13:56.841615Z"
    }
   },
   "source": [
    "df.tail()"
   ],
   "outputs": [
    {
     "data": {
      "text/plain": [
       "         MovieId     ImdbId    TmdbId                               Title  \\\n",
       "100836  193581.0  5476944.0  432131.0  Black Butler: Book of the Atlantic   \n",
       "100837  193583.0  5914996.0  445030.0               No Game No Life: Zero   \n",
       "100838  193585.0  6397426.0  479308.0                               Flint   \n",
       "100839  193587.0  8391976.0  483455.0        Bungo Stray Dogs: Dead Apple   \n",
       "100840  193609.0   101726.0   37891.0        Andrew Dice Clay: Dice Rules   \n",
       "\n",
       "          Year                           Genres  UserId  Rating Gender   Age  \\\n",
       "100836  2017.0  Action|Animation|Comedy|Fantasy   184.0     4.0      F  33.0   \n",
       "100837  2017.0         Animation|Comedy|Fantasy   184.0     3.5      F  33.0   \n",
       "100838  2017.0                            Drama   184.0     3.5      F  33.0   \n",
       "100839  2018.0                 Action|Animation   184.0     3.5      F  33.0   \n",
       "100840  1991.0                           Comedy   331.0     4.0      M  32.0   \n",
       "\n",
       "                  Occupation  \n",
       "100836                 other  \n",
       "100837                 other  \n",
       "100838                 other  \n",
       "100839                 other  \n",
       "100840  executive/managerial  "
      ],
      "text/html": [
       "<div>\n",
       "<style scoped>\n",
       "    .dataframe tbody tr th:only-of-type {\n",
       "        vertical-align: middle;\n",
       "    }\n",
       "\n",
       "    .dataframe tbody tr th {\n",
       "        vertical-align: top;\n",
       "    }\n",
       "\n",
       "    .dataframe thead th {\n",
       "        text-align: right;\n",
       "    }\n",
       "</style>\n",
       "<table border=\"1\" class=\"dataframe\">\n",
       "  <thead>\n",
       "    <tr style=\"text-align: right;\">\n",
       "      <th></th>\n",
       "      <th>MovieId</th>\n",
       "      <th>ImdbId</th>\n",
       "      <th>TmdbId</th>\n",
       "      <th>Title</th>\n",
       "      <th>Year</th>\n",
       "      <th>Genres</th>\n",
       "      <th>UserId</th>\n",
       "      <th>Rating</th>\n",
       "      <th>Gender</th>\n",
       "      <th>Age</th>\n",
       "      <th>Occupation</th>\n",
       "    </tr>\n",
       "  </thead>\n",
       "  <tbody>\n",
       "    <tr>\n",
       "      <th>100836</th>\n",
       "      <td>193581.0</td>\n",
       "      <td>5476944.0</td>\n",
       "      <td>432131.0</td>\n",
       "      <td>Black Butler: Book of the Atlantic</td>\n",
       "      <td>2017.0</td>\n",
       "      <td>Action|Animation|Comedy|Fantasy</td>\n",
       "      <td>184.0</td>\n",
       "      <td>4.0</td>\n",
       "      <td>F</td>\n",
       "      <td>33.0</td>\n",
       "      <td>other</td>\n",
       "    </tr>\n",
       "    <tr>\n",
       "      <th>100837</th>\n",
       "      <td>193583.0</td>\n",
       "      <td>5914996.0</td>\n",
       "      <td>445030.0</td>\n",
       "      <td>No Game No Life: Zero</td>\n",
       "      <td>2017.0</td>\n",
       "      <td>Animation|Comedy|Fantasy</td>\n",
       "      <td>184.0</td>\n",
       "      <td>3.5</td>\n",
       "      <td>F</td>\n",
       "      <td>33.0</td>\n",
       "      <td>other</td>\n",
       "    </tr>\n",
       "    <tr>\n",
       "      <th>100838</th>\n",
       "      <td>193585.0</td>\n",
       "      <td>6397426.0</td>\n",
       "      <td>479308.0</td>\n",
       "      <td>Flint</td>\n",
       "      <td>2017.0</td>\n",
       "      <td>Drama</td>\n",
       "      <td>184.0</td>\n",
       "      <td>3.5</td>\n",
       "      <td>F</td>\n",
       "      <td>33.0</td>\n",
       "      <td>other</td>\n",
       "    </tr>\n",
       "    <tr>\n",
       "      <th>100839</th>\n",
       "      <td>193587.0</td>\n",
       "      <td>8391976.0</td>\n",
       "      <td>483455.0</td>\n",
       "      <td>Bungo Stray Dogs: Dead Apple</td>\n",
       "      <td>2018.0</td>\n",
       "      <td>Action|Animation</td>\n",
       "      <td>184.0</td>\n",
       "      <td>3.5</td>\n",
       "      <td>F</td>\n",
       "      <td>33.0</td>\n",
       "      <td>other</td>\n",
       "    </tr>\n",
       "    <tr>\n",
       "      <th>100840</th>\n",
       "      <td>193609.0</td>\n",
       "      <td>101726.0</td>\n",
       "      <td>37891.0</td>\n",
       "      <td>Andrew Dice Clay: Dice Rules</td>\n",
       "      <td>1991.0</td>\n",
       "      <td>Comedy</td>\n",
       "      <td>331.0</td>\n",
       "      <td>4.0</td>\n",
       "      <td>M</td>\n",
       "      <td>32.0</td>\n",
       "      <td>executive/managerial</td>\n",
       "    </tr>\n",
       "  </tbody>\n",
       "</table>\n",
       "</div>"
      ]
     },
     "execution_count": 6,
     "metadata": {},
     "output_type": "execute_result"
    }
   ],
   "execution_count": 6
  },
  {
   "attachments": {},
   "cell_type": "markdown",
   "id": "e02df74d",
   "metadata": {},
   "source": [
    "---"
   ]
  },
  {
   "attachments": {},
   "cell_type": "markdown",
   "id": "79f8ee57",
   "metadata": {},
   "source": [
    "### 1. 데이터 타입 확인하기\n",
    "데이터프레임은 .info() 메소드로 column별 상세내용을 확인할 수 있으며 각 column의 dtype 또한 확인할 수 있습니다."
   ]
  },
  {
   "attachments": {},
   "cell_type": "markdown",
   "id": "7c9b3fb9",
   "metadata": {},
   "source": [
    "#### 1-1 info() 메소드로 전체 확인하기"
   ]
  },
  {
   "cell_type": "code",
   "id": "d874880b",
   "metadata": {
    "scrolled": true,
    "ExecuteTime": {
     "end_time": "2024-05-08T08:14:11.564298Z",
     "start_time": "2024-05-08T08:14:11.535760Z"
    }
   },
   "source": [
    "df.info()"
   ],
   "outputs": [
    {
     "name": "stdout",
     "output_type": "stream",
     "text": [
      "<class 'pandas.core.frame.DataFrame'>\n",
      "RangeIndex: 100841 entries, 0 to 100840\n",
      "Data columns (total 11 columns):\n",
      " #   Column      Non-Null Count   Dtype  \n",
      "---  ------      --------------   -----  \n",
      " 0   MovieId     100841 non-null  object \n",
      " 1   ImdbId      100841 non-null  float64\n",
      " 2   TmdbId      100841 non-null  float64\n",
      " 3   Title       100841 non-null  object \n",
      " 4   Year        100841 non-null  float64\n",
      " 5   Genres      100841 non-null  object \n",
      " 6   UserId      100841 non-null  float64\n",
      " 7   Rating      100841 non-null  float64\n",
      " 8   Gender      100841 non-null  object \n",
      " 9   Age         100841 non-null  float64\n",
      " 10  Occupation  100841 non-null  object \n",
      "dtypes: float64(6), object(5)\n",
      "memory usage: 8.5+ MB\n"
     ]
    }
   ],
   "execution_count": 7
  },
  {
   "attachments": {},
   "cell_type": "markdown",
   "id": "0e5a40a9",
   "metadata": {},
   "source": [
    "#### 1-2. dtype 을 활용하여 Column 데이터 타입 확인하기\n",
    "- .dtypes는 모든 컬럼의 데이터타입을 확인할 수 있습니다."
   ]
  },
  {
   "cell_type": "code",
   "id": "8aaf0a3d",
   "metadata": {
    "ExecuteTime": {
     "end_time": "2024-05-08T08:15:45.689339Z",
     "start_time": "2024-05-08T08:15:45.668180Z"
    }
   },
   "source": [
    "df.dtypes"
   ],
   "outputs": [
    {
     "data": {
      "text/plain": [
       "MovieId        object\n",
       "ImdbId        float64\n",
       "TmdbId        float64\n",
       "Title          object\n",
       "Year          float64\n",
       "Genres         object\n",
       "UserId        float64\n",
       "Rating        float64\n",
       "Gender         object\n",
       "Age           float64\n",
       "Occupation     object\n",
       "dtype: object"
      ]
     },
     "execution_count": 8,
     "metadata": {},
     "output_type": "execute_result"
    }
   ],
   "execution_count": 8
  },
  {
   "attachments": {},
   "cell_type": "markdown",
   "id": "0f208e65",
   "metadata": {},
   "source": [
    "- .dtype 은 컬렴 별로 데이터 타입을 확인할 수 있습니다. "
   ]
  },
  {
   "cell_type": "code",
   "id": "e8c7d9f2",
   "metadata": {
    "scrolled": true,
    "ExecuteTime": {
     "end_time": "2024-05-08T08:16:54.380835Z",
     "start_time": "2024-05-08T08:16:54.371902Z"
    }
   },
   "source": "df['MovieId'].dtype, df['Gender'].dtype, df['UserId'].dtype",
   "outputs": [
    {
     "data": {
      "text/plain": [
       "(dtype('O'), dtype('O'), dtype('float64'))"
      ]
     },
     "execution_count": 12,
     "metadata": {},
     "output_type": "execute_result"
    }
   ],
   "execution_count": 12
  },
  {
   "attachments": {},
   "cell_type": "markdown",
   "id": "c9870bde",
   "metadata": {},
   "source": [
    "---"
   ]
  },
  {
   "attachments": {},
   "cell_type": "markdown",
   "id": "d3a75e2f",
   "metadata": {},
   "source": [
    "### 2. 데이터 타입 변경하기\n",
    "불러온 데이터프레임에 넣고 다루다 보면 간혹 잘못된 데이터 타입이 확인될 때가 있습니다. \n",
    "이럴 때 Pandas의 .astype(dtype) 메소드를 사용하면 쉽게 변경할 수 있습니다."
   ]
  },
  {
   "attachments": {},
   "cell_type": "markdown",
   "id": "7ab82bc9",
   "metadata": {},
   "source": [
    "#### 2-1. 모든 Column의 데이터 타입을 변경하기\n",
    "> df.astype(dtype)"
   ]
  },
  {
   "attachments": {},
   "cell_type": "markdown",
   "id": "8187e9a6",
   "metadata": {},
   "source": [
    "- 모든 Columns의 데이터 타입을 'object' 형으로 변경해 보겠습니다. "
   ]
  },
  {
   "cell_type": "code",
   "id": "108a587f",
   "metadata": {
    "ExecuteTime": {
     "end_time": "2024-05-08T08:18:21.292580Z",
     "start_time": "2024-05-08T08:18:21.237118Z"
    }
   },
   "source": [
    "df_temp = df.copy()\n",
    "df_temp = df_temp.astype('object')"
   ],
   "outputs": [],
   "execution_count": 13
  },
  {
   "cell_type": "code",
   "id": "3723ef76",
   "metadata": {
    "ExecuteTime": {
     "end_time": "2024-05-08T08:18:23.218963Z",
     "start_time": "2024-05-08T08:18:23.171004Z"
    }
   },
   "source": [
    "df_temp.info()"
   ],
   "outputs": [
    {
     "name": "stdout",
     "output_type": "stream",
     "text": [
      "<class 'pandas.core.frame.DataFrame'>\n",
      "RangeIndex: 100841 entries, 0 to 100840\n",
      "Data columns (total 11 columns):\n",
      " #   Column      Non-Null Count   Dtype \n",
      "---  ------      --------------   ----- \n",
      " 0   MovieId     100841 non-null  object\n",
      " 1   ImdbId      100841 non-null  object\n",
      " 2   TmdbId      100841 non-null  object\n",
      " 3   Title       100841 non-null  object\n",
      " 4   Year        100841 non-null  object\n",
      " 5   Genres      100841 non-null  object\n",
      " 6   UserId      100841 non-null  object\n",
      " 7   Rating      100841 non-null  object\n",
      " 8   Gender      100841 non-null  object\n",
      " 9   Age         100841 non-null  object\n",
      " 10  Occupation  100841 non-null  object\n",
      "dtypes: object(11)\n",
      "memory usage: 8.5+ MB\n"
     ]
    }
   ],
   "execution_count": 14
  },
  {
   "metadata": {
    "ExecuteTime": {
     "end_time": "2024-05-08T08:18:42.011784Z",
     "start_time": "2024-05-08T08:18:41.990963Z"
    }
   },
   "cell_type": "code",
   "source": "df_temp.head()",
   "id": "315ed6bb39bc3e3b",
   "outputs": [
    {
     "data": {
      "text/plain": [
       "  MovieId    ImdbId TmdbId      Title    Year  \\\n",
       "0     1.0  114709.0  862.0  Toy Story  1995.0   \n",
       "1     1.0  114709.0  862.0  Toy Story  1995.0   \n",
       "2     1.0  114709.0  862.0  Toy Story  1995.0   \n",
       "3     1.0  114709.0  862.0  Toy Story  1995.0   \n",
       "4     1.0  114709.0  862.0  Toy Story  1995.0   \n",
       "\n",
       "                                        Genres UserId Rating Gender   Age  \\\n",
       "0  Adventure|Animation|Children|Comedy|Fantasy    1.0    4.0      F   2.0   \n",
       "1  Adventure|Animation|Children|Comedy|Fantasy    5.0    4.0      M  30.0   \n",
       "2  Adventure|Animation|Children|Comedy|Fantasy    7.0    4.5      M  39.0   \n",
       "3  Adventure|Animation|Children|Comedy|Fantasy   15.0    2.5      M  29.0   \n",
       "4  Adventure|Animation|Children|Comedy|Fantasy   17.0    4.5      M  52.0   \n",
       "\n",
       "             Occupation  \n",
       "0          K-12 student  \n",
       "1                writer  \n",
       "2     academic/educator  \n",
       "3  executive/managerial  \n",
       "4     academic/educator  "
      ],
      "text/html": [
       "<div>\n",
       "<style scoped>\n",
       "    .dataframe tbody tr th:only-of-type {\n",
       "        vertical-align: middle;\n",
       "    }\n",
       "\n",
       "    .dataframe tbody tr th {\n",
       "        vertical-align: top;\n",
       "    }\n",
       "\n",
       "    .dataframe thead th {\n",
       "        text-align: right;\n",
       "    }\n",
       "</style>\n",
       "<table border=\"1\" class=\"dataframe\">\n",
       "  <thead>\n",
       "    <tr style=\"text-align: right;\">\n",
       "      <th></th>\n",
       "      <th>MovieId</th>\n",
       "      <th>ImdbId</th>\n",
       "      <th>TmdbId</th>\n",
       "      <th>Title</th>\n",
       "      <th>Year</th>\n",
       "      <th>Genres</th>\n",
       "      <th>UserId</th>\n",
       "      <th>Rating</th>\n",
       "      <th>Gender</th>\n",
       "      <th>Age</th>\n",
       "      <th>Occupation</th>\n",
       "    </tr>\n",
       "  </thead>\n",
       "  <tbody>\n",
       "    <tr>\n",
       "      <th>0</th>\n",
       "      <td>1.0</td>\n",
       "      <td>114709.0</td>\n",
       "      <td>862.0</td>\n",
       "      <td>Toy Story</td>\n",
       "      <td>1995.0</td>\n",
       "      <td>Adventure|Animation|Children|Comedy|Fantasy</td>\n",
       "      <td>1.0</td>\n",
       "      <td>4.0</td>\n",
       "      <td>F</td>\n",
       "      <td>2.0</td>\n",
       "      <td>K-12 student</td>\n",
       "    </tr>\n",
       "    <tr>\n",
       "      <th>1</th>\n",
       "      <td>1.0</td>\n",
       "      <td>114709.0</td>\n",
       "      <td>862.0</td>\n",
       "      <td>Toy Story</td>\n",
       "      <td>1995.0</td>\n",
       "      <td>Adventure|Animation|Children|Comedy|Fantasy</td>\n",
       "      <td>5.0</td>\n",
       "      <td>4.0</td>\n",
       "      <td>M</td>\n",
       "      <td>30.0</td>\n",
       "      <td>writer</td>\n",
       "    </tr>\n",
       "    <tr>\n",
       "      <th>2</th>\n",
       "      <td>1.0</td>\n",
       "      <td>114709.0</td>\n",
       "      <td>862.0</td>\n",
       "      <td>Toy Story</td>\n",
       "      <td>1995.0</td>\n",
       "      <td>Adventure|Animation|Children|Comedy|Fantasy</td>\n",
       "      <td>7.0</td>\n",
       "      <td>4.5</td>\n",
       "      <td>M</td>\n",
       "      <td>39.0</td>\n",
       "      <td>academic/educator</td>\n",
       "    </tr>\n",
       "    <tr>\n",
       "      <th>3</th>\n",
       "      <td>1.0</td>\n",
       "      <td>114709.0</td>\n",
       "      <td>862.0</td>\n",
       "      <td>Toy Story</td>\n",
       "      <td>1995.0</td>\n",
       "      <td>Adventure|Animation|Children|Comedy|Fantasy</td>\n",
       "      <td>15.0</td>\n",
       "      <td>2.5</td>\n",
       "      <td>M</td>\n",
       "      <td>29.0</td>\n",
       "      <td>executive/managerial</td>\n",
       "    </tr>\n",
       "    <tr>\n",
       "      <th>4</th>\n",
       "      <td>1.0</td>\n",
       "      <td>114709.0</td>\n",
       "      <td>862.0</td>\n",
       "      <td>Toy Story</td>\n",
       "      <td>1995.0</td>\n",
       "      <td>Adventure|Animation|Children|Comedy|Fantasy</td>\n",
       "      <td>17.0</td>\n",
       "      <td>4.5</td>\n",
       "      <td>M</td>\n",
       "      <td>52.0</td>\n",
       "      <td>academic/educator</td>\n",
       "    </tr>\n",
       "  </tbody>\n",
       "</table>\n",
       "</div>"
      ]
     },
     "execution_count": 15,
     "metadata": {},
     "output_type": "execute_result"
    }
   ],
   "execution_count": 15
  },
  {
   "attachments": {},
   "cell_type": "markdown",
   "id": "7d8bed7f",
   "metadata": {},
   "source": [
    "#### 2-2. 특정 Columns의 데이터 타입을 변경하기\n",
    "dictionary 형태로 컬럼명과 변경할 타입으로 매핑하여 변경할 수 있습니다.\n",
    "> df.astype({'컬럼명':dtype})\n",
    "\n",
    "- Object인 'Year' Column의 데이터 타입을 수치형 'int'로 변경해 보겠습니다. "
   ]
  },
  {
   "cell_type": "code",
   "id": "402a856a",
   "metadata": {
    "ExecuteTime": {
     "end_time": "2024-05-08T08:18:53.468221Z",
     "start_time": "2024-05-08T08:18:53.462144Z"
    }
   },
   "source": [
    "df.dtypes"
   ],
   "outputs": [
    {
     "data": {
      "text/plain": [
       "MovieId        object\n",
       "ImdbId        float64\n",
       "TmdbId        float64\n",
       "Title          object\n",
       "Year          float64\n",
       "Genres         object\n",
       "UserId        float64\n",
       "Rating        float64\n",
       "Gender         object\n",
       "Age           float64\n",
       "Occupation     object\n",
       "dtype: object"
      ]
     },
     "execution_count": 16,
     "metadata": {},
     "output_type": "execute_result"
    }
   ],
   "execution_count": 16
  },
  {
   "cell_type": "code",
   "id": "4327b11a",
   "metadata": {
    "ExecuteTime": {
     "end_time": "2024-05-08T08:19:20.810928Z",
     "start_time": "2024-05-08T08:19:20.791316Z"
    }
   },
   "source": [
    " df['Year']"
   ],
   "outputs": [
    {
     "data": {
      "text/plain": [
       "0         1995\n",
       "1         1995\n",
       "2         1995\n",
       "3         1995\n",
       "4         1995\n",
       "          ... \n",
       "100836    2017\n",
       "100837    2017\n",
       "100838    2017\n",
       "100839    2018\n",
       "100840    1991\n",
       "Name: Year, Length: 100841, dtype: int64"
      ]
     },
     "execution_count": 20,
     "metadata": {},
     "output_type": "execute_result"
    }
   ],
   "execution_count": 20
  },
  {
   "cell_type": "code",
   "id": "1ccbbca2",
   "metadata": {
    "scrolled": true,
    "ExecuteTime": {
     "end_time": "2024-05-08T08:19:13.325122Z",
     "start_time": "2024-05-08T08:19:13.305686Z"
    }
   },
   "source": [
    "df = df.astype({'Year':'int'})"
   ],
   "outputs": [],
   "execution_count": 18
  },
  {
   "cell_type": "code",
   "id": "9f2b1b3d",
   "metadata": {
    "scrolled": true,
    "ExecuteTime": {
     "end_time": "2024-05-08T08:19:14.820964Z",
     "start_time": "2024-05-08T08:19:14.801639Z"
    }
   },
   "source": [
    "df.info()"
   ],
   "outputs": [
    {
     "name": "stdout",
     "output_type": "stream",
     "text": [
      "<class 'pandas.core.frame.DataFrame'>\n",
      "RangeIndex: 100841 entries, 0 to 100840\n",
      "Data columns (total 11 columns):\n",
      " #   Column      Non-Null Count   Dtype  \n",
      "---  ------      --------------   -----  \n",
      " 0   MovieId     100841 non-null  object \n",
      " 1   ImdbId      100841 non-null  float64\n",
      " 2   TmdbId      100841 non-null  float64\n",
      " 3   Title       100841 non-null  object \n",
      " 4   Year        100841 non-null  int64  \n",
      " 5   Genres      100841 non-null  object \n",
      " 6   UserId      100841 non-null  float64\n",
      " 7   Rating      100841 non-null  float64\n",
      " 8   Gender      100841 non-null  object \n",
      " 9   Age         100841 non-null  float64\n",
      " 10  Occupation  100841 non-null  object \n",
      "dtypes: float64(5), int64(1), object(5)\n",
      "memory usage: 8.5+ MB\n"
     ]
    }
   ],
   "execution_count": 19
  },
  {
   "attachments": {},
   "cell_type": "markdown",
   "id": "933deb24",
   "metadata": {},
   "source": [
    "---"
   ]
  },
  {
   "attachments": {},
   "cell_type": "markdown",
   "id": "bb0589db",
   "metadata": {},
   "source": [
    "### 3. 중복 데이터 처리하기\n",
    "데이터프레임의 규모가 큰 경우 미처 확인하지 못한 중복된 데이터가 있을 수 있습니다. <br>\n",
    "    이 때, Pandas의 duplicated와 drop_duplicated 메소드를 적용하면 쉽게 해결할 수 있습니다. "
   ]
  },
  {
   "attachments": {},
   "cell_type": "markdown",
   "id": "48ea739c",
   "metadata": {},
   "source": [
    "#### 3-1. 중복 데이터 확인하기\n",
    "> df.duplicated()\n",
    "- 옵션\n",
    "> - subset : 특정 열을 지정하여 검색, 리스트 형태로 복수의 컬럼 조건 지정 가능 <br>\n",
    "> - keep : 기본값 'first' 첫 번째 값은 False, 두 번째 값부터는 True 반환 <br>\n",
    "\n",
    "- 데이터프레임 df의 중복데이터를 확인해 봅시다."
   ]
  },
  {
   "cell_type": "code",
   "id": "1117236b",
   "metadata": {
    "scrolled": true,
    "ExecuteTime": {
     "end_time": "2024-05-08T08:27:17.546605Z",
     "start_time": "2024-05-08T08:27:17.492153Z"
    }
   },
   "source": "df.duplicated()",
   "outputs": [
    {
     "data": {
      "text/plain": [
       "0         False\n",
       "1         False\n",
       "2         False\n",
       "3         False\n",
       "4         False\n",
       "          ...  \n",
       "100836    False\n",
       "100837    False\n",
       "100838    False\n",
       "100839    False\n",
       "100840    False\n",
       "Length: 100841, dtype: bool"
      ]
     },
     "execution_count": 31,
     "metadata": {},
     "output_type": "execute_result"
    }
   ],
   "execution_count": 31
  },
  {
   "cell_type": "code",
   "id": "e75aec0a",
   "metadata": {
    "ExecuteTime": {
     "end_time": "2024-05-08T08:27:20.780849Z",
     "start_time": "2024-05-08T08:27:20.731425Z"
    }
   },
   "source": [
    "df.duplicated().sum()"
   ],
   "outputs": [
    {
     "data": {
      "text/plain": [
       "0"
      ]
     },
     "execution_count": 32,
     "metadata": {},
     "output_type": "execute_result"
    }
   ],
   "execution_count": 32
  },
  {
   "attachments": {},
   "cell_type": "markdown",
   "id": "ba824fc1",
   "metadata": {},
   "source": [
    "- subset 옵션을 활용해서 데이터프레임 df의 'Title'과 'UserId' 컬럼이 중복이 되는 데이터를 확인해 봅시다.\n"
   ]
  },
  {
   "cell_type": "code",
   "id": "316092bc",
   "metadata": {
    "scrolled": true,
    "ExecuteTime": {
     "end_time": "2024-05-08T08:27:26.287464Z",
     "start_time": "2024-05-08T08:27:26.259519Z"
    }
   },
   "source": [
    "df.duplicated(subset=['Title','UserId']).sum()"
   ],
   "outputs": [
    {
     "data": {
      "text/plain": [
       "365"
      ]
     },
     "execution_count": 33,
     "metadata": {},
     "output_type": "execute_result"
    }
   ],
   "execution_count": 33
  },
  {
   "cell_type": "code",
   "id": "474a6860",
   "metadata": {
    "scrolled": true,
    "ExecuteTime": {
     "end_time": "2024-05-08T08:27:32.717157Z",
     "start_time": "2024-05-08T08:27:32.690208Z"
    }
   },
   "source": [
    "df[df.duplicated(['Title','UserId'])]"
   ],
   "outputs": [
    {
     "data": {
      "text/plain": [
       "         MovieId     ImdbId    TmdbId                 Title  Year  \\\n",
       "20761      915.0    47437.0    6620.0               Sabrina  1954   \n",
       "20763      915.0    47437.0    6620.0               Sabrina  1954   \n",
       "20769      915.0    47437.0    6620.0               Sabrina  1954   \n",
       "20779      915.0    47437.0    6620.0               Sabrina  1954   \n",
       "20780      915.0    47437.0    6620.0               Sabrina  1954   \n",
       "...          ...        ...       ...                   ...   ...   \n",
       "99813   156675.0    63465.0   29398.0             Project X  1968   \n",
       "99989   160573.0  2788732.0  294272.0         Pete's Dragon  2016   \n",
       "100185  166024.0  2654430.0  367412.0              Whiplash  2013   \n",
       "100269  167296.0    22002.0  194310.0              Iron Man  1931   \n",
       "100355  168366.0  2771200.0  321612.0  Beauty and the Beast  2017   \n",
       "\n",
       "                            Genres  UserId  Rating Gender   Age  \\\n",
       "20761               Comedy|Romance    19.0     2.0      M   3.0   \n",
       "20763               Comedy|Romance    84.0     3.0      M  18.0   \n",
       "20769               Comedy|Romance   177.0     5.0      M  51.0   \n",
       "20779               Comedy|Romance   414.0     4.0      M  34.0   \n",
       "20780               Comedy|Romance   474.0     4.0      M  34.0   \n",
       "...                            ...     ...     ...    ...   ...   \n",
       "99813               Mystery|Sci-Fi   599.0     2.0      M  55.0   \n",
       "99989   Adventure|Children|Fantasy   448.0     3.0      M  33.0   \n",
       "100185          (no genres listed)   414.0     4.5      M  34.0   \n",
       "100269                       Drama   550.0     0.5      M  47.0   \n",
       "100355             Fantasy|Romance   596.0     3.0      F  30.0   \n",
       "\n",
       "                  Occupation  \n",
       "20761           K-12 student  \n",
       "20763   college/grad student  \n",
       "20769      academic/educator  \n",
       "20779                  other  \n",
       "20780    technician/engineer  \n",
       "...                      ...  \n",
       "99813     doctor/health care  \n",
       "99989    technician/engineer  \n",
       "100185                 other  \n",
       "100269                farmer  \n",
       "100355     academic/educator  \n",
       "\n",
       "[365 rows x 11 columns]"
      ],
      "text/html": [
       "<div>\n",
       "<style scoped>\n",
       "    .dataframe tbody tr th:only-of-type {\n",
       "        vertical-align: middle;\n",
       "    }\n",
       "\n",
       "    .dataframe tbody tr th {\n",
       "        vertical-align: top;\n",
       "    }\n",
       "\n",
       "    .dataframe thead th {\n",
       "        text-align: right;\n",
       "    }\n",
       "</style>\n",
       "<table border=\"1\" class=\"dataframe\">\n",
       "  <thead>\n",
       "    <tr style=\"text-align: right;\">\n",
       "      <th></th>\n",
       "      <th>MovieId</th>\n",
       "      <th>ImdbId</th>\n",
       "      <th>TmdbId</th>\n",
       "      <th>Title</th>\n",
       "      <th>Year</th>\n",
       "      <th>Genres</th>\n",
       "      <th>UserId</th>\n",
       "      <th>Rating</th>\n",
       "      <th>Gender</th>\n",
       "      <th>Age</th>\n",
       "      <th>Occupation</th>\n",
       "    </tr>\n",
       "  </thead>\n",
       "  <tbody>\n",
       "    <tr>\n",
       "      <th>20761</th>\n",
       "      <td>915.0</td>\n",
       "      <td>47437.0</td>\n",
       "      <td>6620.0</td>\n",
       "      <td>Sabrina</td>\n",
       "      <td>1954</td>\n",
       "      <td>Comedy|Romance</td>\n",
       "      <td>19.0</td>\n",
       "      <td>2.0</td>\n",
       "      <td>M</td>\n",
       "      <td>3.0</td>\n",
       "      <td>K-12 student</td>\n",
       "    </tr>\n",
       "    <tr>\n",
       "      <th>20763</th>\n",
       "      <td>915.0</td>\n",
       "      <td>47437.0</td>\n",
       "      <td>6620.0</td>\n",
       "      <td>Sabrina</td>\n",
       "      <td>1954</td>\n",
       "      <td>Comedy|Romance</td>\n",
       "      <td>84.0</td>\n",
       "      <td>3.0</td>\n",
       "      <td>M</td>\n",
       "      <td>18.0</td>\n",
       "      <td>college/grad student</td>\n",
       "    </tr>\n",
       "    <tr>\n",
       "      <th>20769</th>\n",
       "      <td>915.0</td>\n",
       "      <td>47437.0</td>\n",
       "      <td>6620.0</td>\n",
       "      <td>Sabrina</td>\n",
       "      <td>1954</td>\n",
       "      <td>Comedy|Romance</td>\n",
       "      <td>177.0</td>\n",
       "      <td>5.0</td>\n",
       "      <td>M</td>\n",
       "      <td>51.0</td>\n",
       "      <td>academic/educator</td>\n",
       "    </tr>\n",
       "    <tr>\n",
       "      <th>20779</th>\n",
       "      <td>915.0</td>\n",
       "      <td>47437.0</td>\n",
       "      <td>6620.0</td>\n",
       "      <td>Sabrina</td>\n",
       "      <td>1954</td>\n",
       "      <td>Comedy|Romance</td>\n",
       "      <td>414.0</td>\n",
       "      <td>4.0</td>\n",
       "      <td>M</td>\n",
       "      <td>34.0</td>\n",
       "      <td>other</td>\n",
       "    </tr>\n",
       "    <tr>\n",
       "      <th>20780</th>\n",
       "      <td>915.0</td>\n",
       "      <td>47437.0</td>\n",
       "      <td>6620.0</td>\n",
       "      <td>Sabrina</td>\n",
       "      <td>1954</td>\n",
       "      <td>Comedy|Romance</td>\n",
       "      <td>474.0</td>\n",
       "      <td>4.0</td>\n",
       "      <td>M</td>\n",
       "      <td>34.0</td>\n",
       "      <td>technician/engineer</td>\n",
       "    </tr>\n",
       "    <tr>\n",
       "      <th>...</th>\n",
       "      <td>...</td>\n",
       "      <td>...</td>\n",
       "      <td>...</td>\n",
       "      <td>...</td>\n",
       "      <td>...</td>\n",
       "      <td>...</td>\n",
       "      <td>...</td>\n",
       "      <td>...</td>\n",
       "      <td>...</td>\n",
       "      <td>...</td>\n",
       "      <td>...</td>\n",
       "    </tr>\n",
       "    <tr>\n",
       "      <th>99813</th>\n",
       "      <td>156675.0</td>\n",
       "      <td>63465.0</td>\n",
       "      <td>29398.0</td>\n",
       "      <td>Project X</td>\n",
       "      <td>1968</td>\n",
       "      <td>Mystery|Sci-Fi</td>\n",
       "      <td>599.0</td>\n",
       "      <td>2.0</td>\n",
       "      <td>M</td>\n",
       "      <td>55.0</td>\n",
       "      <td>doctor/health care</td>\n",
       "    </tr>\n",
       "    <tr>\n",
       "      <th>99989</th>\n",
       "      <td>160573.0</td>\n",
       "      <td>2788732.0</td>\n",
       "      <td>294272.0</td>\n",
       "      <td>Pete's Dragon</td>\n",
       "      <td>2016</td>\n",
       "      <td>Adventure|Children|Fantasy</td>\n",
       "      <td>448.0</td>\n",
       "      <td>3.0</td>\n",
       "      <td>M</td>\n",
       "      <td>33.0</td>\n",
       "      <td>technician/engineer</td>\n",
       "    </tr>\n",
       "    <tr>\n",
       "      <th>100185</th>\n",
       "      <td>166024.0</td>\n",
       "      <td>2654430.0</td>\n",
       "      <td>367412.0</td>\n",
       "      <td>Whiplash</td>\n",
       "      <td>2013</td>\n",
       "      <td>(no genres listed)</td>\n",
       "      <td>414.0</td>\n",
       "      <td>4.5</td>\n",
       "      <td>M</td>\n",
       "      <td>34.0</td>\n",
       "      <td>other</td>\n",
       "    </tr>\n",
       "    <tr>\n",
       "      <th>100269</th>\n",
       "      <td>167296.0</td>\n",
       "      <td>22002.0</td>\n",
       "      <td>194310.0</td>\n",
       "      <td>Iron Man</td>\n",
       "      <td>1931</td>\n",
       "      <td>Drama</td>\n",
       "      <td>550.0</td>\n",
       "      <td>0.5</td>\n",
       "      <td>M</td>\n",
       "      <td>47.0</td>\n",
       "      <td>farmer</td>\n",
       "    </tr>\n",
       "    <tr>\n",
       "      <th>100355</th>\n",
       "      <td>168366.0</td>\n",
       "      <td>2771200.0</td>\n",
       "      <td>321612.0</td>\n",
       "      <td>Beauty and the Beast</td>\n",
       "      <td>2017</td>\n",
       "      <td>Fantasy|Romance</td>\n",
       "      <td>596.0</td>\n",
       "      <td>3.0</td>\n",
       "      <td>F</td>\n",
       "      <td>30.0</td>\n",
       "      <td>academic/educator</td>\n",
       "    </tr>\n",
       "  </tbody>\n",
       "</table>\n",
       "<p>365 rows × 11 columns</p>\n",
       "</div>"
      ]
     },
     "execution_count": 34,
     "metadata": {},
     "output_type": "execute_result"
    }
   ],
   "execution_count": 34
  },
  {
   "attachments": {},
   "cell_type": "markdown",
   "id": "583be203",
   "metadata": {},
   "source": [
    "- 영화 제목이 같은 영화를 두번 본 고객이 존재한다고?!"
   ]
  },
  {
   "cell_type": "code",
   "id": "87073ade",
   "metadata": {
    "ExecuteTime": {
     "end_time": "2024-05-08T08:27:44.505064Z",
     "start_time": "2024-05-08T08:27:44.486028Z"
    }
   },
   "source": [
    "df[(df['Title']=='Iron Man') & (df['UserId']==550)]"
   ],
   "outputs": [
    {
     "data": {
      "text/plain": [
       "         MovieId    ImdbId    TmdbId     Title  Year                   Genres  \\\n",
       "87235    59315.0  371746.0    1726.0  Iron Man  2008  Action|Adventure|Sci-Fi   \n",
       "100269  167296.0   22002.0  194310.0  Iron Man  1931                    Drama   \n",
       "\n",
       "        UserId  Rating Gender   Age Occupation  \n",
       "87235    550.0     5.0      M  47.0     farmer  \n",
       "100269   550.0     0.5      M  47.0     farmer  "
      ],
      "text/html": [
       "<div>\n",
       "<style scoped>\n",
       "    .dataframe tbody tr th:only-of-type {\n",
       "        vertical-align: middle;\n",
       "    }\n",
       "\n",
       "    .dataframe tbody tr th {\n",
       "        vertical-align: top;\n",
       "    }\n",
       "\n",
       "    .dataframe thead th {\n",
       "        text-align: right;\n",
       "    }\n",
       "</style>\n",
       "<table border=\"1\" class=\"dataframe\">\n",
       "  <thead>\n",
       "    <tr style=\"text-align: right;\">\n",
       "      <th></th>\n",
       "      <th>MovieId</th>\n",
       "      <th>ImdbId</th>\n",
       "      <th>TmdbId</th>\n",
       "      <th>Title</th>\n",
       "      <th>Year</th>\n",
       "      <th>Genres</th>\n",
       "      <th>UserId</th>\n",
       "      <th>Rating</th>\n",
       "      <th>Gender</th>\n",
       "      <th>Age</th>\n",
       "      <th>Occupation</th>\n",
       "    </tr>\n",
       "  </thead>\n",
       "  <tbody>\n",
       "    <tr>\n",
       "      <th>87235</th>\n",
       "      <td>59315.0</td>\n",
       "      <td>371746.0</td>\n",
       "      <td>1726.0</td>\n",
       "      <td>Iron Man</td>\n",
       "      <td>2008</td>\n",
       "      <td>Action|Adventure|Sci-Fi</td>\n",
       "      <td>550.0</td>\n",
       "      <td>5.0</td>\n",
       "      <td>M</td>\n",
       "      <td>47.0</td>\n",
       "      <td>farmer</td>\n",
       "    </tr>\n",
       "    <tr>\n",
       "      <th>100269</th>\n",
       "      <td>167296.0</td>\n",
       "      <td>22002.0</td>\n",
       "      <td>194310.0</td>\n",
       "      <td>Iron Man</td>\n",
       "      <td>1931</td>\n",
       "      <td>Drama</td>\n",
       "      <td>550.0</td>\n",
       "      <td>0.5</td>\n",
       "      <td>M</td>\n",
       "      <td>47.0</td>\n",
       "      <td>farmer</td>\n",
       "    </tr>\n",
       "  </tbody>\n",
       "</table>\n",
       "</div>"
      ]
     },
     "execution_count": 35,
     "metadata": {},
     "output_type": "execute_result"
    }
   ],
   "execution_count": 35
  },
  {
   "attachments": {},
   "cell_type": "markdown",
   "id": "9dfffb45",
   "metadata": {},
   "source": [
    "- 'Title'과 'UserId' 가 같고 거기다가 'Year' 제작년도까지 같은 데이터를 확인해 보겠습니다. "
   ]
  },
  {
   "cell_type": "code",
   "id": "f085b8ab",
   "metadata": {
    "ExecuteTime": {
     "end_time": "2024-05-08T08:28:10.984645Z",
     "start_time": "2024-05-08T08:28:10.944392Z"
    }
   },
   "source": [
    "df.duplicated(['Title','UserId', 'Year']).sum()"
   ],
   "outputs": [
    {
     "data": {
      "text/plain": [
       "4"
      ]
     },
     "execution_count": 36,
     "metadata": {},
     "output_type": "execute_result"
    }
   ],
   "execution_count": 36
  },
  {
   "cell_type": "code",
   "id": "70d41b5f",
   "metadata": {
    "ExecuteTime": {
     "end_time": "2024-05-08T08:28:13.045220Z",
     "start_time": "2024-05-08T08:28:13.021084Z"
    }
   },
   "source": [
    "df[df.duplicated(['Title','UserId', 'Year'])]"
   ],
   "outputs": [
    {
     "data": {
      "text/plain": [
       "        MovieId    ImdbId   TmdbId                            Title  Year  \\\n",
       "78306   26958.0  118308.0  12254.0                             Emma  1996   \n",
       "88677   64997.0  449040.0  34812.0                War of the Worlds  2005   \n",
       "88678   64997.0  449040.0  34812.0                War of the Worlds  2005   \n",
       "99488  144606.0  270288.0   4912.0  Confessions of a Dangerous Mind  2002   \n",
       "\n",
       "                                    Genres  UserId  Rating Gender   Age  \\\n",
       "78306                              Romance   509.0     3.5      M  29.0   \n",
       "88677                        Action|Sci-Fi    28.0     3.5      F  33.0   \n",
       "88678                        Action|Sci-Fi    68.0     2.5      M  18.0   \n",
       "99488  Comedy|Crime|Drama|Romance|Thriller   111.0     4.0      M  40.0   \n",
       "\n",
       "                 Occupation  \n",
       "78306                artist  \n",
       "88677     academic/educator  \n",
       "88678  college/grad student  \n",
       "99488             scientist  "
      ],
      "text/html": [
       "<div>\n",
       "<style scoped>\n",
       "    .dataframe tbody tr th:only-of-type {\n",
       "        vertical-align: middle;\n",
       "    }\n",
       "\n",
       "    .dataframe tbody tr th {\n",
       "        vertical-align: top;\n",
       "    }\n",
       "\n",
       "    .dataframe thead th {\n",
       "        text-align: right;\n",
       "    }\n",
       "</style>\n",
       "<table border=\"1\" class=\"dataframe\">\n",
       "  <thead>\n",
       "    <tr style=\"text-align: right;\">\n",
       "      <th></th>\n",
       "      <th>MovieId</th>\n",
       "      <th>ImdbId</th>\n",
       "      <th>TmdbId</th>\n",
       "      <th>Title</th>\n",
       "      <th>Year</th>\n",
       "      <th>Genres</th>\n",
       "      <th>UserId</th>\n",
       "      <th>Rating</th>\n",
       "      <th>Gender</th>\n",
       "      <th>Age</th>\n",
       "      <th>Occupation</th>\n",
       "    </tr>\n",
       "  </thead>\n",
       "  <tbody>\n",
       "    <tr>\n",
       "      <th>78306</th>\n",
       "      <td>26958.0</td>\n",
       "      <td>118308.0</td>\n",
       "      <td>12254.0</td>\n",
       "      <td>Emma</td>\n",
       "      <td>1996</td>\n",
       "      <td>Romance</td>\n",
       "      <td>509.0</td>\n",
       "      <td>3.5</td>\n",
       "      <td>M</td>\n",
       "      <td>29.0</td>\n",
       "      <td>artist</td>\n",
       "    </tr>\n",
       "    <tr>\n",
       "      <th>88677</th>\n",
       "      <td>64997.0</td>\n",
       "      <td>449040.0</td>\n",
       "      <td>34812.0</td>\n",
       "      <td>War of the Worlds</td>\n",
       "      <td>2005</td>\n",
       "      <td>Action|Sci-Fi</td>\n",
       "      <td>28.0</td>\n",
       "      <td>3.5</td>\n",
       "      <td>F</td>\n",
       "      <td>33.0</td>\n",
       "      <td>academic/educator</td>\n",
       "    </tr>\n",
       "    <tr>\n",
       "      <th>88678</th>\n",
       "      <td>64997.0</td>\n",
       "      <td>449040.0</td>\n",
       "      <td>34812.0</td>\n",
       "      <td>War of the Worlds</td>\n",
       "      <td>2005</td>\n",
       "      <td>Action|Sci-Fi</td>\n",
       "      <td>68.0</td>\n",
       "      <td>2.5</td>\n",
       "      <td>M</td>\n",
       "      <td>18.0</td>\n",
       "      <td>college/grad student</td>\n",
       "    </tr>\n",
       "    <tr>\n",
       "      <th>99488</th>\n",
       "      <td>144606.0</td>\n",
       "      <td>270288.0</td>\n",
       "      <td>4912.0</td>\n",
       "      <td>Confessions of a Dangerous Mind</td>\n",
       "      <td>2002</td>\n",
       "      <td>Comedy|Crime|Drama|Romance|Thriller</td>\n",
       "      <td>111.0</td>\n",
       "      <td>4.0</td>\n",
       "      <td>M</td>\n",
       "      <td>40.0</td>\n",
       "      <td>scientist</td>\n",
       "    </tr>\n",
       "  </tbody>\n",
       "</table>\n",
       "</div>"
      ]
     },
     "execution_count": 37,
     "metadata": {},
     "output_type": "execute_result"
    }
   ],
   "execution_count": 37
  },
  {
   "attachments": {},
   "cell_type": "markdown",
   "id": "ea96dfea",
   "metadata": {},
   "source": [
    "#### 3-2. 중복 데이터 제거하기"
   ]
  },
  {
   "attachments": {},
   "cell_type": "markdown",
   "id": "9ca49315",
   "metadata": {},
   "source": [
    "> df.drop_duplicated()\n",
    "\n",
    "- 옵션\n",
    "> - subset : 특정 열을 지정하여 검색, 리스트 형태로 복수의 컬럼 조건 지정 가능 <br>\n",
    "> - keep : 기본값 'first' 첫 번째 값은 False, 두 번째 값부터는 True 반환 <br>\n",
    "> - ignore_index : 기존 인덱스를 무시하고 새로 인덱스를 부여<br>\n",
    "> - inplace \n",
    "\n",
    "- 'Title'과 'UserId' 가 같고 거기다가 'Year' 제작년도까지 같은 데이터를 삭제해 봅시다."
   ]
  },
  {
   "cell_type": "code",
   "id": "a9ad52f9",
   "metadata": {
    "ExecuteTime": {
     "end_time": "2024-05-08T08:28:25.567929Z",
     "start_time": "2024-05-08T08:28:25.528605Z"
    }
   },
   "source": [
    "df.info()"
   ],
   "outputs": [
    {
     "name": "stdout",
     "output_type": "stream",
     "text": [
      "<class 'pandas.core.frame.DataFrame'>\n",
      "RangeIndex: 100841 entries, 0 to 100840\n",
      "Data columns (total 11 columns):\n",
      " #   Column      Non-Null Count   Dtype  \n",
      "---  ------      --------------   -----  \n",
      " 0   MovieId     100841 non-null  object \n",
      " 1   ImdbId      100841 non-null  float64\n",
      " 2   TmdbId      100841 non-null  float64\n",
      " 3   Title       100841 non-null  object \n",
      " 4   Year        100841 non-null  int64  \n",
      " 5   Genres      100841 non-null  object \n",
      " 6   UserId      100841 non-null  float64\n",
      " 7   Rating      100841 non-null  float64\n",
      " 8   Gender      100841 non-null  object \n",
      " 9   Age         100841 non-null  float64\n",
      " 10  Occupation  100841 non-null  object \n",
      "dtypes: float64(5), int64(1), object(5)\n",
      "memory usage: 8.5+ MB\n"
     ]
    }
   ],
   "execution_count": 38
  },
  {
   "cell_type": "code",
   "id": "9032befb",
   "metadata": {
    "ExecuteTime": {
     "end_time": "2024-05-08T08:28:38.943916Z",
     "start_time": "2024-05-08T08:28:38.910637Z"
    }
   },
   "source": [
    "df.drop_duplicates(['Title','UserId', 'Year'], ignore_index=True)"
   ],
   "outputs": [
    {
     "data": {
      "text/plain": [
       "         MovieId     ImdbId    TmdbId                               Title  \\\n",
       "0            1.0   114709.0     862.0                           Toy Story   \n",
       "1            1.0   114709.0     862.0                           Toy Story   \n",
       "2            1.0   114709.0     862.0                           Toy Story   \n",
       "3            1.0   114709.0     862.0                           Toy Story   \n",
       "4            1.0   114709.0     862.0                           Toy Story   \n",
       "...          ...        ...       ...                                 ...   \n",
       "100832  193581.0  5476944.0  432131.0  Black Butler: Book of the Atlantic   \n",
       "100833  193583.0  5914996.0  445030.0               No Game No Life: Zero   \n",
       "100834  193585.0  6397426.0  479308.0                               Flint   \n",
       "100835  193587.0  8391976.0  483455.0        Bungo Stray Dogs: Dead Apple   \n",
       "100836  193609.0   101726.0   37891.0        Andrew Dice Clay: Dice Rules   \n",
       "\n",
       "        Year                                       Genres  UserId  Rating  \\\n",
       "0       1995  Adventure|Animation|Children|Comedy|Fantasy     1.0     4.0   \n",
       "1       1995  Adventure|Animation|Children|Comedy|Fantasy     5.0     4.0   \n",
       "2       1995  Adventure|Animation|Children|Comedy|Fantasy     7.0     4.5   \n",
       "3       1995  Adventure|Animation|Children|Comedy|Fantasy    15.0     2.5   \n",
       "4       1995  Adventure|Animation|Children|Comedy|Fantasy    17.0     4.5   \n",
       "...      ...                                          ...     ...     ...   \n",
       "100832  2017              Action|Animation|Comedy|Fantasy   184.0     4.0   \n",
       "100833  2017                     Animation|Comedy|Fantasy   184.0     3.5   \n",
       "100834  2017                                        Drama   184.0     3.5   \n",
       "100835  2018                             Action|Animation   184.0     3.5   \n",
       "100836  1991                                       Comedy   331.0     4.0   \n",
       "\n",
       "       Gender   Age            Occupation  \n",
       "0           F   2.0          K-12 student  \n",
       "1           M  30.0                writer  \n",
       "2           M  39.0     academic/educator  \n",
       "3           M  29.0  executive/managerial  \n",
       "4           M  52.0     academic/educator  \n",
       "...       ...   ...                   ...  \n",
       "100832      F  33.0                 other  \n",
       "100833      F  33.0                 other  \n",
       "100834      F  33.0                 other  \n",
       "100835      F  33.0                 other  \n",
       "100836      M  32.0  executive/managerial  \n",
       "\n",
       "[100837 rows x 11 columns]"
      ],
      "text/html": [
       "<div>\n",
       "<style scoped>\n",
       "    .dataframe tbody tr th:only-of-type {\n",
       "        vertical-align: middle;\n",
       "    }\n",
       "\n",
       "    .dataframe tbody tr th {\n",
       "        vertical-align: top;\n",
       "    }\n",
       "\n",
       "    .dataframe thead th {\n",
       "        text-align: right;\n",
       "    }\n",
       "</style>\n",
       "<table border=\"1\" class=\"dataframe\">\n",
       "  <thead>\n",
       "    <tr style=\"text-align: right;\">\n",
       "      <th></th>\n",
       "      <th>MovieId</th>\n",
       "      <th>ImdbId</th>\n",
       "      <th>TmdbId</th>\n",
       "      <th>Title</th>\n",
       "      <th>Year</th>\n",
       "      <th>Genres</th>\n",
       "      <th>UserId</th>\n",
       "      <th>Rating</th>\n",
       "      <th>Gender</th>\n",
       "      <th>Age</th>\n",
       "      <th>Occupation</th>\n",
       "    </tr>\n",
       "  </thead>\n",
       "  <tbody>\n",
       "    <tr>\n",
       "      <th>0</th>\n",
       "      <td>1.0</td>\n",
       "      <td>114709.0</td>\n",
       "      <td>862.0</td>\n",
       "      <td>Toy Story</td>\n",
       "      <td>1995</td>\n",
       "      <td>Adventure|Animation|Children|Comedy|Fantasy</td>\n",
       "      <td>1.0</td>\n",
       "      <td>4.0</td>\n",
       "      <td>F</td>\n",
       "      <td>2.0</td>\n",
       "      <td>K-12 student</td>\n",
       "    </tr>\n",
       "    <tr>\n",
       "      <th>1</th>\n",
       "      <td>1.0</td>\n",
       "      <td>114709.0</td>\n",
       "      <td>862.0</td>\n",
       "      <td>Toy Story</td>\n",
       "      <td>1995</td>\n",
       "      <td>Adventure|Animation|Children|Comedy|Fantasy</td>\n",
       "      <td>5.0</td>\n",
       "      <td>4.0</td>\n",
       "      <td>M</td>\n",
       "      <td>30.0</td>\n",
       "      <td>writer</td>\n",
       "    </tr>\n",
       "    <tr>\n",
       "      <th>2</th>\n",
       "      <td>1.0</td>\n",
       "      <td>114709.0</td>\n",
       "      <td>862.0</td>\n",
       "      <td>Toy Story</td>\n",
       "      <td>1995</td>\n",
       "      <td>Adventure|Animation|Children|Comedy|Fantasy</td>\n",
       "      <td>7.0</td>\n",
       "      <td>4.5</td>\n",
       "      <td>M</td>\n",
       "      <td>39.0</td>\n",
       "      <td>academic/educator</td>\n",
       "    </tr>\n",
       "    <tr>\n",
       "      <th>3</th>\n",
       "      <td>1.0</td>\n",
       "      <td>114709.0</td>\n",
       "      <td>862.0</td>\n",
       "      <td>Toy Story</td>\n",
       "      <td>1995</td>\n",
       "      <td>Adventure|Animation|Children|Comedy|Fantasy</td>\n",
       "      <td>15.0</td>\n",
       "      <td>2.5</td>\n",
       "      <td>M</td>\n",
       "      <td>29.0</td>\n",
       "      <td>executive/managerial</td>\n",
       "    </tr>\n",
       "    <tr>\n",
       "      <th>4</th>\n",
       "      <td>1.0</td>\n",
       "      <td>114709.0</td>\n",
       "      <td>862.0</td>\n",
       "      <td>Toy Story</td>\n",
       "      <td>1995</td>\n",
       "      <td>Adventure|Animation|Children|Comedy|Fantasy</td>\n",
       "      <td>17.0</td>\n",
       "      <td>4.5</td>\n",
       "      <td>M</td>\n",
       "      <td>52.0</td>\n",
       "      <td>academic/educator</td>\n",
       "    </tr>\n",
       "    <tr>\n",
       "      <th>...</th>\n",
       "      <td>...</td>\n",
       "      <td>...</td>\n",
       "      <td>...</td>\n",
       "      <td>...</td>\n",
       "      <td>...</td>\n",
       "      <td>...</td>\n",
       "      <td>...</td>\n",
       "      <td>...</td>\n",
       "      <td>...</td>\n",
       "      <td>...</td>\n",
       "      <td>...</td>\n",
       "    </tr>\n",
       "    <tr>\n",
       "      <th>100832</th>\n",
       "      <td>193581.0</td>\n",
       "      <td>5476944.0</td>\n",
       "      <td>432131.0</td>\n",
       "      <td>Black Butler: Book of the Atlantic</td>\n",
       "      <td>2017</td>\n",
       "      <td>Action|Animation|Comedy|Fantasy</td>\n",
       "      <td>184.0</td>\n",
       "      <td>4.0</td>\n",
       "      <td>F</td>\n",
       "      <td>33.0</td>\n",
       "      <td>other</td>\n",
       "    </tr>\n",
       "    <tr>\n",
       "      <th>100833</th>\n",
       "      <td>193583.0</td>\n",
       "      <td>5914996.0</td>\n",
       "      <td>445030.0</td>\n",
       "      <td>No Game No Life: Zero</td>\n",
       "      <td>2017</td>\n",
       "      <td>Animation|Comedy|Fantasy</td>\n",
       "      <td>184.0</td>\n",
       "      <td>3.5</td>\n",
       "      <td>F</td>\n",
       "      <td>33.0</td>\n",
       "      <td>other</td>\n",
       "    </tr>\n",
       "    <tr>\n",
       "      <th>100834</th>\n",
       "      <td>193585.0</td>\n",
       "      <td>6397426.0</td>\n",
       "      <td>479308.0</td>\n",
       "      <td>Flint</td>\n",
       "      <td>2017</td>\n",
       "      <td>Drama</td>\n",
       "      <td>184.0</td>\n",
       "      <td>3.5</td>\n",
       "      <td>F</td>\n",
       "      <td>33.0</td>\n",
       "      <td>other</td>\n",
       "    </tr>\n",
       "    <tr>\n",
       "      <th>100835</th>\n",
       "      <td>193587.0</td>\n",
       "      <td>8391976.0</td>\n",
       "      <td>483455.0</td>\n",
       "      <td>Bungo Stray Dogs: Dead Apple</td>\n",
       "      <td>2018</td>\n",
       "      <td>Action|Animation</td>\n",
       "      <td>184.0</td>\n",
       "      <td>3.5</td>\n",
       "      <td>F</td>\n",
       "      <td>33.0</td>\n",
       "      <td>other</td>\n",
       "    </tr>\n",
       "    <tr>\n",
       "      <th>100836</th>\n",
       "      <td>193609.0</td>\n",
       "      <td>101726.0</td>\n",
       "      <td>37891.0</td>\n",
       "      <td>Andrew Dice Clay: Dice Rules</td>\n",
       "      <td>1991</td>\n",
       "      <td>Comedy</td>\n",
       "      <td>331.0</td>\n",
       "      <td>4.0</td>\n",
       "      <td>M</td>\n",
       "      <td>32.0</td>\n",
       "      <td>executive/managerial</td>\n",
       "    </tr>\n",
       "  </tbody>\n",
       "</table>\n",
       "<p>100837 rows × 11 columns</p>\n",
       "</div>"
      ]
     },
     "execution_count": 39,
     "metadata": {},
     "output_type": "execute_result"
    }
   ],
   "execution_count": 39
  },
  {
   "attachments": {},
   "cell_type": "markdown",
   "id": "b11d744a",
   "metadata": {},
   "source": [
    "---"
   ]
  },
  {
   "attachments": {},
   "cell_type": "markdown",
   "id": "00835be9",
   "metadata": {},
   "source": [
    "## 실습문제"
   ]
  },
  {
   "attachments": {},
   "cell_type": "markdown",
   "id": "04cd0f2a",
   "metadata": {},
   "source": [
    "#### Q1. 데이터프레임 'df' 의 데이터 타입을 확인해 보세요."
   ]
  },
  {
   "cell_type": "code",
   "id": "7ff371a4",
   "metadata": {
    "scrolled": true,
    "ExecuteTime": {
     "end_time": "2024-05-08T08:29:04.772841Z",
     "start_time": "2024-05-08T08:29:04.760696Z"
    }
   },
   "source": [
    "# 여기에 작성하세요.\n",
    "df.dtypes"
   ],
   "outputs": [
    {
     "data": {
      "text/plain": [
       "MovieId        object\n",
       "ImdbId        float64\n",
       "TmdbId        float64\n",
       "Title          object\n",
       "Year            int64\n",
       "Genres         object\n",
       "UserId        float64\n",
       "Rating        float64\n",
       "Gender         object\n",
       "Age           float64\n",
       "Occupation     object\n",
       "dtype: object"
      ]
     },
     "execution_count": 41,
     "metadata": {},
     "output_type": "execute_result"
    }
   ],
   "execution_count": 41
  },
  {
   "attachments": {},
   "cell_type": "markdown",
   "id": "6c9dda27",
   "metadata": {},
   "source": [
    "#### Q2. 데이터프레임 'df'에서 수치형 중 평점인 'Rating' 컬럼을 제외한 나머지 컬럼들을 float형이 아닌 int(정수형)으로 변경하세요."
   ]
  },
  {
   "cell_type": "code",
   "id": "425e2da1",
   "metadata": {
    "ExecuteTime": {
     "end_time": "2024-05-08T08:36:15.574724Z",
     "start_time": "2024-05-08T08:36:15.551900Z"
    }
   },
   "source": [
    "# 여기에 작성하세요.\n",
    "numeric_columns = df.select_dtypes(include=['number']).columns\n",
    "non_rating_columns = numeric_columns.drop('Rating')\n",
    "df[non_rating_columns] = df[non_rating_columns].astype(int)\n",
    "\n",
    "df.dtypes"
   ],
   "outputs": [
    {
     "data": {
      "text/plain": [
       "MovieId        object\n",
       "ImdbId          int64\n",
       "TmdbId          int64\n",
       "Title          object\n",
       "Year            int64\n",
       "Genres         object\n",
       "UserId          int64\n",
       "Rating        float64\n",
       "Gender         object\n",
       "Age             int64\n",
       "Occupation     object\n",
       "dtype: object"
      ]
     },
     "execution_count": 45,
     "metadata": {},
     "output_type": "execute_result"
    }
   ],
   "execution_count": 45
  },
  {
   "attachments": {},
   "cell_type": "markdown",
   "id": "3c36cafd",
   "metadata": {},
   "source": [
    "#### Q3. 데이터프레임 'df'에는 'Title', 'Year'이 같은 영화를 여러 번 본 고객('UserId')이 있습니다. <br> &emsp; 거기에 평점('Rating' 까지 같은 점수를 준 경우가 있으면 해당 데이터를 삭제하고,  'df' 데이터프레임에 반영하세요\n",
    "    📌 inplace와 ignore_index 옵션을 활용하세요."
   ]
  },
  {
   "cell_type": "code",
   "id": "cc196c49",
   "metadata": {
    "ExecuteTime": {
     "end_time": "2024-05-08T08:41:24.235930Z",
     "start_time": "2024-05-08T08:41:24.171473Z"
    }
   },
   "source": [
    "# 여기에 작성하세요.\n",
    "print(df.duplicated(subset=['Title','UserId', 'Year', 'Rating']).sum())\n",
    "df.drop_duplicates(subset=['Title','UserId', 'Year', 'Rating'], inplace=True)\n",
    "\n",
    "print(df.duplicated(subset=['Title','UserId', 'Year', 'Rating']).sum())\n"
   ],
   "outputs": [
    {
     "name": "stdout",
     "output_type": "stream",
     "text": [
      "0\n",
      "0\n"
     ]
    }
   ],
   "execution_count": 55
  },
  {
   "attachments": {},
   "cell_type": "markdown",
   "id": "52a3981f",
   "metadata": {},
   "source": [
    "---"
   ]
  }
 ],
 "metadata": {
  "kernelspec": {
   "display_name": "Python 3",
   "language": "python",
   "name": "python3"
  },
  "language_info": {
   "codemirror_mode": {
    "name": "ipython",
    "version": 3
   },
   "file_extension": ".py",
   "mimetype": "text/x-python",
   "name": "python",
   "nbconvert_exporter": "python",
   "pygments_lexer": "ipython3",
   "version": "3.10.10"
  }
 },
 "nbformat": 4,
 "nbformat_minor": 5
}
