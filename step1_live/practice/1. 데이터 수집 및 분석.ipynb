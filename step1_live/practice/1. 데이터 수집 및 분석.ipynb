{
 "cells": [
  {
   "attachments": {},
   "cell_type": "markdown",
   "id": "boxed-jamaica",
   "metadata": {},
   "source": [
    "# 안녕하세요, 여러분 ^^ \n",
    "\n",
    "# 디지코 디그리 AI 모델링 과정 \n",
    "# 🎈\"도전 머신러닝\" 시간에 오신 여러분을 환영합니다!\n",
    "\n",
    "## 오늘은 <font color=\"#01918a\">'타이타닉 생존자 예측'</font> 문제를 해결해 보겠습니다."
   ]
  },
  {
   "attachments": {},
   "cell_type": "markdown",
   "id": "f6174af2",
   "metadata": {},
   "source": [
    "<img src = \"https://images.unsplash.com/photo-1654170816607-f355d5cd5619?ixlib=rb-4.0.3&ixid=M3wxMjA3fDB8MHxwaG90by1wYWdlfHx8fGVufDB8fHx8fA%3D%3D&auto=format&fit=crop&w=2664&q=80\" width=100% align=\"center\"/>\n",
    "\n",
    "<div align=\"right\">사진: <a href=\"https://unsplash.com/ko/%EC%82%AC%EC%A7%84/TQAWPDbuwrc?utm_source=unsplash&utm_medium=referral&utm_content=creditCopyText\">Unsplash</a>의<a href=\"https://unsplash.com/@ep_petrus?utm_source=unsplash&utm_medium=referral&utm_content=creditCopyText\">Edwin Petrus</a></div>\n",
    "  "
   ]
  },
  {
   "attachments": {},
   "cell_type": "markdown",
   "id": "6abb384a",
   "metadata": {},
   "source": [
    "---"
   ]
  },
  {
   "attachments": {},
   "cell_type": "markdown",
   "id": "3bd0a181",
   "metadata": {},
   "source": [
    "## 0. 문제 정의하기"
   ]
  },
  {
   "attachments": {},
   "cell_type": "markdown",
   "id": "b8d6ce5f",
   "metadata": {},
   "source": [
    "### 1) 문제 설명 \n",
    "타이타닉 호는 영국의 화이트 스타 라인이 운영한 북대서양 횡단 여객선이다. 1912년 4월 10일 영국의 사우샘프턴을 떠나 미국의 뉴욕으로 향하던 첫 항해 중에 4월 15일 빙산과 충돌하여 침몰하였습니다. 탑승했던 승객 데이터를 분석하여 승객들의 생존 여부를 예측하는 문제입니다.  "
   ]
  },
  {
   "attachments": {},
   "cell_type": "markdown",
   "id": "8279de3b",
   "metadata": {},
   "source": [
    "### 2) 데이터 설명\n",
    "학습용 데이터 셋을 활용하여 모델을 학습하고, 테스트용 데이터셋에 대한 생존 여부를 예측합니다. \n",
    "- 학습용 데이터 셋 (train.csv) : 891명의 승객 정보와 생존 여부를 포함한 데이터\n",
    "- 테스트용 데이터 셋 (test.csv) : 418명의 승객 정보를 포함한 데이터, 생존 여부는 누락되어 있습니다. \n",
    "\n",
    "\n",
    "| 컬럼명       | 내용                                                       |\n",
    "| :--------- | :--------------------------------------------------------- |\n",
    "| PassengerId  | 승객의 고유 식별자                                        |\n",
    "| Survived     | 생존 여부 (0: 사망, 1: 생존)                               |\n",
    "| Pclass       | 티켓 등급 (1: 1등석, 2: 2등석, 3: 3등석)                     |\n",
    "| Name         | 승객의 이름                                                |\n",
    "| Sex          | 승객의 성별 (male: 남성, female: 여성)                      |\n",
    "| Age          | 승객의 나이                                                |\n",
    "| SibSp        | 함께 탑승한 형제자매/배우자 수                              |\n",
    "| Parch        | 함께 탑승한 부모/자녀 수                                   |\n",
    "| Ticket       | 티켓 번호                                                  |\n",
    "| Fare         | 지불한 운임 요금                                           |\n",
    "| Cabin        | 객실 번호                                                  |\n",
    "| Embarked     | 탑승 항구 (C: Cherbourg, Q: Queenstown, S: Southampton)     |\n"
   ]
  },
  {
   "attachments": {},
   "cell_type": "markdown",
   "id": "5fab944f",
   "metadata": {},
   "source": [
    "---"
   ]
  },
  {
   "attachments": {},
   "cell_type": "markdown",
   "id": "587d060b",
   "metadata": {},
   "source": [
    "## 1. 데이터 수집 및 분석\n",
    "데이터 분석을 위해 필요한 라이브러리와 데이터를 불러온 후, 데이터를 탐색하여 주요 정보를 파악하고, <br>\n",
    "시각화하여 데이터의 패턴과 특성을 보다 쉽게 이해할 수 있는 과정입니다."
   ]
  },
  {
   "attachments": {},
   "cell_type": "markdown",
   "id": "440ae132",
   "metadata": {},
   "source": [
    "### 1) 데이터 불러오기"
   ]
  },
  {
   "attachments": {},
   "cell_type": "markdown",
   "id": "fbda11bd",
   "metadata": {},
   "source": [
    "#### ① 라이브러리 불러오기\n",
    "> - pandas : 데이터를 처리하고 분석하는데 효과적인 패키지\n",
    "> - matplotlib : 데이터를 차트나 플롯으로 그려주는 시각화 라이브러리 패키지\n",
    "> - seaborn : matplolib을 기반으로 다양한 색상 테마와 통계용 차트 등의 기능을 추가한 시각화 패키지"
   ]
  },
  {
   "attachments": {},
   "cell_type": "markdown",
   "id": "792b304b",
   "metadata": {},
   "source": [
    "- **pip 이용해서 필요 라이브러리 설치**"
   ]
  },
  {
   "cell_type": "code",
   "id": "fdd35497",
   "metadata": {},
   "source": [
    "# 사내 컴퓨터 사용 시\n",
    "#!pip install --trusted-hos pypi.python.org --trusted-host files.pythonhosted.org --trusted-host pypi.org -U pandas-profiling seaborn graphviz\n",
    "\n",
    "# 사외 컴퓨터 사용 시\n",
    "%pip install pandas-profiling seaborn graphviz joblib"
   ],
   "outputs": [],
   "execution_count": null
  },
  {
   "attachments": {},
   "cell_type": "markdown",
   "id": "81b40a82",
   "metadata": {},
   "source": [
    "- **pandas는 별칭을 pd로, matplotlib은 별칭을 plt로 해서 라이브러리를 불러오세요**"
   ]
  },
  {
   "cell_type": "code",
   "id": "a270cfe0",
   "metadata": {
    "scrolled": false
   },
   "source": [
    "import warnings\n",
    "warnings.filterwarnings('ignore')\n",
    "\n",
    "import pandas as pd\n",
    "import matplotlib.pyplot as plt\n",
    "import seaborn as sns\n",
    "%matplotlib inline"
   ],
   "outputs": [],
   "execution_count": null
  },
  {
   "attachments": {},
   "cell_type": "markdown",
   "id": "1f72c34f",
   "metadata": {},
   "source": [
    "#### ② 데이터 불러오기\n",
    "- **pandas 라이브러리의 read_csv 함수를 사용하면 파일을 불러오고 변수에 저장할 수 있습니다.**"
   ]
  },
  {
   "cell_type": "code",
   "id": "c6836b0d",
   "metadata": {
    "scrolled": false
   },
   "source": [
    "pd.read_csv(\"./data/train.csv\")"
   ],
   "outputs": [],
   "execution_count": null
  },
  {
   "cell_type": "code",
   "id": "ff505660",
   "metadata": {
    "scrolled": false
   },
   "source": [
    "df = pd.read_csv(\"./data/train.csv\")"
   ],
   "outputs": [],
   "execution_count": null
  },
  {
   "cell_type": "code",
   "id": "23edbe22",
   "metadata": {
    "scrolled": false
   },
   "source": [
    "df"
   ],
   "outputs": [],
   "execution_count": null
  },
  {
   "attachments": {},
   "cell_type": "markdown",
   "id": "f45fa26f",
   "metadata": {},
   "source": [
    "---"
   ]
  },
  {
   "attachments": {},
   "cell_type": "markdown",
   "id": "warming-gentleman",
   "metadata": {},
   "source": [
    "### 2) 데이터 탐색하기"
   ]
  },
  {
   "attachments": {},
   "cell_type": "markdown",
   "id": "ec8904ff",
   "metadata": {},
   "source": [
    "#### ① Sample 데이터 확인하기\n",
    "- **Sample 데이터를 육안으로 확인하여 데이터의 구성과 필요 유무를 확인합니다.**\n",
    "- **head()와 tail()을 활용하여 Sample 데이터 확인이 가능합니다.**"
   ]
  },
  {
   "cell_type": "code",
   "id": "a30607f4",
   "metadata": {
    "scrolled": true
   },
   "source": [
    "df.head()"
   ],
   "outputs": [],
   "execution_count": null
  },
  {
   "cell_type": "code",
   "id": "8a877560",
   "metadata": {
    "scrolled": false
   },
   "source": [
    "df.tail()"
   ],
   "outputs": [],
   "execution_count": null
  },
  {
   "cell_type": "code",
   "id": "51dadeaf",
   "metadata": {
    "scrolled": false
   },
   "source": [
    "df.head(10)"
   ],
   "outputs": [],
   "execution_count": null
  },
  {
   "attachments": {},
   "cell_type": "markdown",
   "id": "67509fc7",
   "metadata": {},
   "source": [
    "#### ② 데이터 정보 확인하기\n",
    "- **컬럼 수, 데이터 타입 등 불러온 데이터의 정보를 확인합니다.**\n",
    "- **info() 함수는 데이터 구성과 특성을 확인해 볼 수 있습니다.**"
   ]
  },
  {
   "cell_type": "code",
   "id": "1abcc5b9",
   "metadata": {
    "scrolled": true
   },
   "source": [
    "df.info()"
   ],
   "outputs": [],
   "execution_count": null
  },
  {
   "attachments": {},
   "cell_type": "markdown",
   "id": "3635d256",
   "metadata": {},
   "source": [
    "#### ③ 통계적 특성 파악하기\n",
    "- **수치 데이터 특성에 따른 데이터의 분포를 확인합니다.**\n",
    "- **describe() 함수를 통해 수학적 통계를 확인해 보는 작업을 해봅시다.**\n",
    "> - 컬럼별 개수(count)\n",
    "> - 데이터의 평균값(mean)\n",
    "> - 표춘편차(std)\n",
    "> - 최소값(min)\n",
    "> - 4분위수(25%, 50%, 75%)\n",
    "> - 최대값(max)"
   ]
  },
  {
   "cell_type": "code",
   "id": "4fcccd5a",
   "metadata": {
    "scrolled": false
   },
   "source": [
    "df.describe()"
   ],
   "outputs": [],
   "execution_count": null
  },
  {
   "attachments": {},
   "cell_type": "markdown",
   "id": "ab1bb803",
   "metadata": {},
   "source": [
    "- **value_counts() 함수를 사용하면 각 컬럼에서 고유한 값을 빈도수를 확인할 수 있습니다.**\n"
   ]
  },
  {
   "cell_type": "code",
   "id": "feb2f372",
   "metadata": {
    "scrolled": false
   },
   "source": [
    "df['Survived'].value_counts()"
   ],
   "outputs": [],
   "execution_count": null
  },
  {
   "attachments": {},
   "cell_type": "markdown",
   "id": "450b2281",
   "metadata": {},
   "source": [
    "---"
   ]
  },
  {
   "attachments": {},
   "cell_type": "markdown",
   "id": "9e35063d",
   "metadata": {},
   "source": [
    "### 3) 데이터 시각화하기"
   ]
  },
  {
   "attachments": {},
   "cell_type": "markdown",
   "id": "b86feeab",
   "metadata": {},
   "source": [
    "데이터 시각화는 Matplotlib$^{[1]}$과 Seaborn$^{[2]}$ 라이브러리를 주로 활용하여 수행됩니다.<br> \n",
    "이를 통해 데이터의 패턴, 추세, 관계 등을 시각적으로 파악하고, 유의미한 인사이트를 발견하며, 데이터 기반의 의사 결정을 지원할 수 있습니다.\n",
    "\n",
    ">[Matplotlib](https://matplotlib.org/)$^{[1]}$: 파이썬의 대표적인 데이터 시각화 라이브러리로, 다양한 유형의 그래프와 플롯을 생성할 수 있습니다. <br>\n",
    ">[Seaborn](https://seaborn.pydata.org/)$^{[2]}$: Seaborn은 Matplotlib을 기반으로 한 고급 데이터 시각화 라이브러리로, 아름다운 디자인과 통계적인 시각화 기능을 제공합니다.\n",
    "\n",
    "**[주요 속성]**\n",
    "> - title : 그래프의 제목을 설정합니다.\n",
    "> - xlabel, ylabel : x축, y축 레이블을 설정합니다. \n",
    "> - figure : 그래프의 전체적인 속성에 대한 설정입니다. 주로, figsize=(가로 크기, 세로크기) 속성으로 그래프의 크기를 지정 \n",
    "> - xticks, yticks : x축, y축 눈금의 위치와 값을 설정합니다.\n",
    "> - legend : 범례 설정에 관련된 값으로, 그래프에 포함된 요소들의 설명을 표시합니다."
   ]
  },
  {
   "attachments": {},
   "cell_type": "markdown",
   "id": "548bafee",
   "metadata": {},
   "source": [
    "#### ① 막대 그래프(Bar Chart, Count Plot)\n",
    "- **생존 여부(Survived)나 성별(Sex)과 같이 범주형 데이터를 시각화하는 데 적합합니다.**\n",
    "- **각 범주별로 막대의 길이를 비교하여 데이터의 분포를 확인할 수 있습니다.**"
   ]
  },
  {
   "cell_type": "code",
   "id": "8de6fd5a",
   "metadata": {
    "scrolled": true
   },
   "source": [
    "# Matplot 라이브러리를 활용해서 막대 그래프 (생존 여부에 따른 승객 수)\n",
    "survived_counts = df['Survived'].value_counts()\n",
    "plt.figure(figsize=(4,3))\n",
    "plt.bar(survived_counts.index, survived_counts.values)\n",
    "plt.xlabel('Survived')\n",
    "plt.ylabel('Count')\n",
    "plt.title('Passenger Survival')\n",
    "plt.show()"
   ],
   "outputs": [],
   "execution_count": null
  },
  {
   "cell_type": "code",
   "id": "bfa3ac2b",
   "metadata": {
    "scrolled": true
   },
   "source": [
    "# Seaborn 라이브러리르 활용해서 그리기1\n",
    "# countplot을 활용하면 간단하게 그릴 수 있습니다.\n",
    "plt.figure(figsize=(4,3))\n",
    "sns.countplot(data=df, x='Survived')\n",
    "plt.xlabel('Survived')\n",
    "plt.ylabel('Count')\n",
    "plt.title('Passenger Survival')\n",
    "plt.show()"
   ],
   "outputs": [],
   "execution_count": null
  },
  {
   "cell_type": "code",
   "id": "526b0812",
   "metadata": {},
   "source": [
    "# Seaborn 라이브러리를 활용해서 그리기2\n",
    "# countplot hue 옵션을 활용하면 법주형 변수에 대한 그룹화 및 색상 구분을 가능하게 해주어 데이터를 다양한 관점에서 시각적으로 분석할 수 있습니다.\n",
    "plt.figure(figsize=(4,3))\n",
    "sns.countplot(data=df, x='Survived', hue='Sex')\n",
    "plt.xlabel('Survived')\n",
    "plt.ylabel('Count')\n",
    "plt.title('Survivors and Deaths by Gender')\n",
    "plt.show()"
   ],
   "outputs": [],
   "execution_count": null
  },
  {
   "attachments": {},
   "cell_type": "markdown",
   "id": "72987789",
   "metadata": {},
   "source": [
    "#### ② 히스토그램(Histogram)\n",
    "- **나이(Age)와 같이 연속형 데이터의 분포룰 확인하는데 적합합니다.**\n",
    "- **데이터의 빈도를 나타내는 막대 그래프로 표현되며, 데이터의 분포와 이상치를 시각적으로 파악할 수 있습니다.**"
   ]
  },
  {
   "cell_type": "code",
   "id": "86e5b850",
   "metadata": {
    "scrolled": true
   },
   "source": [
    "# 히스토그램 (나이 분포)\n",
    "plt.hist(df['Age'])\n",
    "plt.xlabel('Age')\n",
    "plt.ylabel('Count')\n",
    "plt.title('Passenger Age Distribution')\n",
    "plt.show()"
   ],
   "outputs": [],
   "execution_count": null
  },
  {
   "attachments": {},
   "cell_type": "markdown",
   "id": "05445867",
   "metadata": {},
   "source": [
    "#### ③ 원 그래프(Pie Chart)\n",
    "- **각 범주의 비율을 보여주기 위해 사용됩니다.**\n",
    "- **티켓 등급(Pclass)이나 탑승 항구(Embarked)와 같은 범주형 데이터의 비율을 비교하는 데 유용합니다.**"
   ]
  },
  {
   "cell_type": "code",
   "id": "d0abd3b5",
   "metadata": {
    "scrolled": false
   },
   "source": [
    "# 원 그래프 (티켓 등급 비율)\n",
    "pclass_counts = df['Pclass'].value_counts()\n",
    "plt.pie(pclass_counts.values, labels=pclass_counts.index, autopct='%1.1f%%')\n",
    "plt.title('Ticket Class Distribution')\n",
    "plt.show()"
   ],
   "outputs": [],
   "execution_count": null
  },
  {
   "attachments": {},
   "cell_type": "markdown",
   "id": "2ef0fca3",
   "metadata": {},
   "source": [
    "#### ④ 산점도 그래프 (Scatter Plot)\n",
    "- **두 개의 연속형 변수 사이의 관계를 시각화하는 데 사용됩니다.**\n",
    "- **나이(Age)와 운임 요금(Fare)와 같이 두 변수 간의 상관관계를 확인할 수 있습니다.**"
   ]
  },
  {
   "cell_type": "code",
   "id": "0664f902",
   "metadata": {
    "scrolled": true
   },
   "source": [
    "# 산점도 그래프 (나이와 운임 요금)\n",
    "plt.scatter(df['Age'], df['Fare'])\n",
    "plt.xlabel('Age')\n",
    "plt.ylabel('Fare')\n",
    "plt.title('Age vs Fare')\n",
    "plt.show()"
   ],
   "outputs": [],
   "execution_count": null
  },
  {
   "attachments": {},
   "cell_type": "markdown",
   "id": "7e0f9d14",
   "metadata": {},
   "source": [
    "#### ⑤ 박스 그래프 (Box Plot)\n",
    "- **여러 그룹 간의 분포 차이를 시각화하기 위해 사용됩니다.**\n",
    "- **티켓 등급(Pclass)에 따른 나이(Age) 분포와 같이 그룹별로 데이터의 분산과 이상치를 비교하는 데 유용합니다.**"
   ]
  },
  {
   "cell_type": "code",
   "id": "c82706f0",
   "metadata": {
    "scrolled": false
   },
   "source": [
    "# 박스 그래프 (티켓 등급에 따른 나이 분포)\n",
    "sns.boxplot(x='Pclass', y='Age', data=df)\n",
    "plt.xlabel('Ticket Class')\n",
    "plt.ylabel('Age')\n",
    "plt.title('Age Distribution by Ticket Class')\n",
    "plt.show()"
   ],
   "outputs": [],
   "execution_count": null
  },
  {
   "attachments": {},
   "cell_type": "markdown",
   "id": "e60ee2e3",
   "metadata": {},
   "source": [
    "#### ⑥ 히트맵 (Heatmap)\n",
    "- **변수 사이의 관계를 시각화하는 데 사용됩니다.**\n",
    "- **df.corr()를 사용하여 얻은 상관계수 행렬을 활용하여 히트맵을 그릴 수 있습니다.**"
   ]
  },
  {
   "cell_type": "code",
   "id": "14e556cf",
   "metadata": {},
   "source": [
    "number_df = df.select_dtypes(include='number')\n",
    "number_df.corr()"
   ],
   "outputs": [],
   "execution_count": null
  },
  {
   "cell_type": "code",
   "id": "3f79a74e",
   "metadata": {
    "scrolled": false
   },
   "source": [
    "# 히트맵 (상관관계)\n",
    "corr_matrix = number_df.corr()\n",
    "\n",
    "# 히트맵 그리기\n",
    "#plt.figure(figsize=(10, 8))\n",
    "sns.heatmap(corr_matrix, cmap='coolwarm', annot=True, fmt=\".2f\", cbar=True)\n",
    "plt.title('Correlation Matrix')\n",
    "plt.show()"
   ],
   "outputs": [],
   "execution_count": null
  },
  {
   "attachments": {},
   "cell_type": "markdown",
   "id": "fc179f88",
   "metadata": {},
   "source": [
    "### 4) Pandas 프로파일링 활용하기\n",
    "데이터 분석을 위한 파이썬 라이브러리인 판다스(Pandas)를 기반으로 한 자동화된 데이터 프로파일링 도구입니다. 데이터 프로파일링은 데이터셋의 구조와 통계적 특성을 탐색하여 데이터에 대한 포괄적인 이해를 도와주는 과정입니다.<br>\n",
    "\n",
    "판다스 프로파일링은 데이터셋을 분석하여 다양한 정보와 통계량을 생성합니다. 이를 통해 데이터의 품질, 분포, 상관 관계, 결측값, 이상치 등 다양한 측면에서 인사이트를 얻을 수 있습니다. 판다스 프로파일링은 다음과 같은 내용을 제공할 수 있습니다:\n",
    "\n",
    "> - 기본 정보: 데이터프레임의 크기, 변수 수, 결측값의 비율 등을 제공합니다.\n",
    "> - 변수 분석: 각 변수의 데이터 유형, 고유값의 수, 상위 값 및 하위 값 목록 등을 제공합니다.\n",
    "> - 상관 관계: 변수 간의 상관 관계를 시각화 및 수치적으로 제공합니다.\n",
    "> - 결측값 분석: 변수별 결측값의 비율과 패턴을 분석합니다.\n",
    "> - 이상치 분석: 변수별 이상치의 존재 여부를 탐지하고 시각화합니다.\n",
    "> - 분포 분석: 변수별 분포를 시각화하고 통계적으로 요약합니다.\n",
    "> -상위 값 및 하위 값 분석: 각 변수의 상위 값과 하위 값 목록을 제공합니다."
   ]
  },
  {
   "cell_type": "code",
   "id": "758706db",
   "metadata": {},
   "source": [
    "# 설치한 라이브러리 불러오기\n",
    "#import pandas_profiling\n",
    "!pip install ydata-profiling\n",
    "from ydata_profiling import ProfileReport"
   ],
   "outputs": [],
   "execution_count": null
  },
  {
   "cell_type": "code",
   "id": "ab54d361",
   "metadata": {
    "scrolled": true
   },
   "source": [
    "# 불러온 데이터프레임에 대한 레포트 생성하기\n",
    "# report = df.profile_report()\n",
    "\n",
    "report = ProfileReport(df, title='Pandas Profiling Report')\n",
    "report"
   ],
   "outputs": [],
   "execution_count": null
  },
  {
   "cell_type": "code",
   "id": "35ef7eea",
   "metadata": {},
   "source": [
    "# 레포트 파일로 저장하기\n",
    "report.to_file('./train_report.html') "
   ],
   "outputs": [],
   "execution_count": null
  },
  {
   "attachments": {},
   "cell_type": "markdown",
   "id": "fd0a7179",
   "metadata": {},
   "source": [
    "---"
   ]
  },
  {
   "attachments": {},
   "cell_type": "markdown",
   "id": "467da3bf",
   "metadata": {},
   "source": [
    "### <font color=\"red\"> [실습 문제]</font> "
   ]
  },
  {
   "attachments": {},
   "cell_type": "markdown",
   "id": "01fea79d",
   "metadata": {},
   "source": [
    "**<font color=red>[Q]</font>  pandas 라이브러리의 read_csv 함수를 사용하여 데이터를 불러와서 데이터프레임 'df'에 저장하세요.**\n",
    "- 파일명 : \"train.csv\""
   ]
  },
  {
   "cell_type": "code",
   "id": "f14b1dda",
   "metadata": {
    "scrolled": false
   },
   "source": [
    "# 여기에 입력하세요.\n",
    "\n",
    "import warnings\n",
    "warnings.filterwarnings('ignore')\n",
    "\n",
    "import pandas as pd\n",
    "\n",
    "df = pd.read_csv(\"./data/train.csv\")\n",
    "\n"
   ],
   "outputs": [],
   "execution_count": null
  },
  {
   "attachments": {},
   "cell_type": "markdown",
   "id": "f4a087d6",
   "metadata": {},
   "source": [
    "**<font color=red>[Q]</font> 'df' 데이터프레임의 Sample 데이터를 아래의 조건들로 검색해 보세요.**\n",
    "- <u>앞 부분 5줄</u>의 데이터를 검색해보세요.\n",
    "- <u>뒤 부분 10줄</u>의 데이터를 검색해보세요.\n",
    "- <u>index 번호 10에서 20까지</u>의 데이터를 검색해보세요."
   ]
  },
  {
   "cell_type": "code",
   "id": "b9429515",
   "metadata": {
    "scrolled": false
   },
   "source": [
    "# 여기에 입력하세요.\n",
    "df.head()"
   ],
   "outputs": [],
   "execution_count": null
  },
  {
   "cell_type": "code",
   "id": "0b1eda6d",
   "metadata": {},
   "source": [
    "df.tail(10)"
   ],
   "outputs": [],
   "execution_count": null
  },
  {
   "cell_type": "code",
   "id": "c5042110",
   "metadata": {},
   "source": [
    "df[10:21]"
   ],
   "outputs": [],
   "execution_count": null
  },
  {
   "attachments": {},
   "cell_type": "markdown",
   "id": "1bedc7ef",
   "metadata": {},
   "source": [
    "**<font color=red>[Q]</font> 'df' 데이터프레임의 데이터정보를 확인해보세요.**"
   ]
  },
  {
   "cell_type": "code",
   "id": "4228d40c",
   "metadata": {
    "scrolled": false
   },
   "source": [
    "# 여기에 입력하세요.\n",
    "df.info()\n",
    "\n"
   ],
   "outputs": [],
   "execution_count": null
  },
  {
   "attachments": {},
   "cell_type": "markdown",
   "id": "32eae9a1",
   "metadata": {},
   "source": [
    "**<font color=red>[Q]</font> 'df' 데이터프레임의 통계적 특성을 확인해보세요.**"
   ]
  },
  {
   "cell_type": "code",
   "id": "f659c377",
   "metadata": {
    "scrolled": true
   },
   "source": [
    "# 여기에 입력하세요.\n",
    "df.describe()\n",
    "\n",
    "\n"
   ],
   "outputs": [],
   "execution_count": null
  },
  {
   "attachments": {},
   "cell_type": "markdown",
   "id": "59c09b2f",
   "metadata": {},
   "source": [
    "**<font color=red>[Q]</font> Pandas 프로파일링 활용하여 데이터프레임 'df' 의 EDA 레포트를 출력해 보세요.**"
   ]
  },
  {
   "cell_type": "code",
   "id": "b5d05190",
   "metadata": {},
   "source": [
    "# 여기에 입력하세요.\n",
    "import pandas_profiling\n",
    "\n",
    "df.profile_report()\n"
   ],
   "outputs": [],
   "execution_count": null
  },
  {
   "attachments": {},
   "cell_type": "markdown",
   "id": "c25e844b",
   "metadata": {},
   "source": [
    "---"
   ]
  }
 ],
 "metadata": {
  "kernelspec": {
   "display_name": "Python 3 (ipykernel)",
   "language": "python",
   "name": "python3"
  },
  "language_info": {
   "codemirror_mode": {
    "name": "ipython",
    "version": 3
   },
   "file_extension": ".py",
   "mimetype": "text/x-python",
   "name": "python",
   "nbconvert_exporter": "python",
   "pygments_lexer": "ipython3",
   "version": "3.10.10"
  },
  "vscode": {
   "interpreter": {
    "hash": "f08154012ddadd8e950e6e9e035c7a7b32c136e7647e9b7c77e02eb723a8bedb"
   }
  }
 },
 "nbformat": 4,
 "nbformat_minor": 5
}
