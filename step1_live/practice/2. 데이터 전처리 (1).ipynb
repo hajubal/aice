{
 "cells": [
  {
   "attachments": {},
   "cell_type": "markdown",
   "id": "55add5c1",
   "metadata": {},
   "source": [
    "# 안녕하세요, 여러분 ^^ \n",
    "\n",
    "# 디지코 디그리 AI 모델링 과정 \n",
    "# 🎈\"도전 머신러닝\" 시간에 오신 여러분을 환영합니다!\n",
    "\n",
    "## 오늘은 <font color=\"#01918a\">'타이타닉 생존자 예측'</font> 문제를 해결해 보겠습니다."
   ]
  },
  {
   "attachments": {},
   "cell_type": "markdown",
   "id": "68fe315e",
   "metadata": {},
   "source": [
    "<img src = \"https://images.unsplash.com/photo-1654170816607-f355d5cd5619?ixlib=rb-4.0.3&ixid=M3wxMjA3fDB8MHxwaG90by1wYWdlfHx8fGVufDB8fHx8fA%3D%3D&auto=format&fit=crop&w=2664&q=80\" width=100% align=\"center\"/>\n",
    "\n",
    "<div align=\"right\">사진: <a href=\"https://unsplash.com/ko/%EC%82%AC%EC%A7%84/TQAWPDbuwrc?utm_source=unsplash&utm_medium=referral&utm_content=creditCopyText\">Unsplash</a>의<a href=\"https://unsplash.com/@ep_petrus?utm_source=unsplash&utm_medium=referral&utm_content=creditCopyText\">Edwin Petrus</a></div>"
   ]
  },
  {
   "attachments": {},
   "cell_type": "markdown",
   "id": "84008ade",
   "metadata": {},
   "source": [
    "---"
   ]
  },
  {
   "attachments": {},
   "cell_type": "markdown",
   "id": "587d060b",
   "metadata": {},
   "source": [
    "## 1. 데이터 수집 및 분석\n",
    "### 1) 데이터 불러오기"
   ]
  },
  {
   "cell_type": "code",
   "id": "8eca0b38",
   "metadata": {
    "ExecuteTime": {
     "end_time": "2024-08-09T04:06:54.857027Z",
     "start_time": "2024-08-09T04:06:54.841597Z"
    }
   },
   "source": [
    "# 기본 라이브러리 불러오기\n",
    "import warnings\n",
    "warnings.filterwarnings('ignore')\n",
    "\n",
    "import pandas as pd\n",
    "import matplotlib.pyplot as plt\n",
    "import seaborn as sns\n",
    "%matplotlib inline"
   ],
   "outputs": [],
   "execution_count": 1
  },
  {
   "cell_type": "code",
   "id": "1c9406df",
   "metadata": {
    "ExecuteTime": {
     "end_time": "2024-08-09T04:06:56.437747Z",
     "start_time": "2024-08-09T04:06:56.430446Z"
    }
   },
   "source": [
    "# 데이터 불러오기\n",
    "df = pd.read_csv(\"./data/train.csv\")"
   ],
   "outputs": [],
   "execution_count": 2
  },
  {
   "cell_type": "code",
   "id": "cf836926",
   "metadata": {
    "scrolled": true,
    "ExecuteTime": {
     "end_time": "2024-08-09T04:06:58.994250Z",
     "start_time": "2024-08-09T04:06:58.985001Z"
    }
   },
   "source": [
    "df.head()"
   ],
   "outputs": [
    {
     "data": {
      "text/plain": [
       "   PassengerId  Survived  Pclass  \\\n",
       "0            1         0       3   \n",
       "1            2         1       1   \n",
       "2            3         1       3   \n",
       "3            4         1       1   \n",
       "4            5         0       3   \n",
       "\n",
       "                                                Name     Sex   Age  SibSp  \\\n",
       "0                            Braund, Mr. Owen Harris    male  22.0      1   \n",
       "1  Cumings, Mrs. John Bradley (Florence Briggs Th...  female  38.0      1   \n",
       "2                             Heikkinen, Miss. Laina  female  26.0      0   \n",
       "3       Futrelle, Mrs. Jacques Heath (Lily May Peel)  female  35.0      1   \n",
       "4                           Allen, Mr. William Henry    male  35.0      0   \n",
       "\n",
       "   Parch            Ticket     Fare Cabin Embarked  \n",
       "0      0         A/5 21171   7.2500   NaN        S  \n",
       "1      0          PC 17599  71.2833   C85        C  \n",
       "2      0  STON/O2. 3101282   7.9250   NaN        S  \n",
       "3      0            113803  53.1000  C123        S  \n",
       "4      0            373450   8.0500   NaN        S  "
      ],
      "text/html": [
       "<div>\n",
       "<style scoped>\n",
       "    .dataframe tbody tr th:only-of-type {\n",
       "        vertical-align: middle;\n",
       "    }\n",
       "\n",
       "    .dataframe tbody tr th {\n",
       "        vertical-align: top;\n",
       "    }\n",
       "\n",
       "    .dataframe thead th {\n",
       "        text-align: right;\n",
       "    }\n",
       "</style>\n",
       "<table border=\"1\" class=\"dataframe\">\n",
       "  <thead>\n",
       "    <tr style=\"text-align: right;\">\n",
       "      <th></th>\n",
       "      <th>PassengerId</th>\n",
       "      <th>Survived</th>\n",
       "      <th>Pclass</th>\n",
       "      <th>Name</th>\n",
       "      <th>Sex</th>\n",
       "      <th>Age</th>\n",
       "      <th>SibSp</th>\n",
       "      <th>Parch</th>\n",
       "      <th>Ticket</th>\n",
       "      <th>Fare</th>\n",
       "      <th>Cabin</th>\n",
       "      <th>Embarked</th>\n",
       "    </tr>\n",
       "  </thead>\n",
       "  <tbody>\n",
       "    <tr>\n",
       "      <th>0</th>\n",
       "      <td>1</td>\n",
       "      <td>0</td>\n",
       "      <td>3</td>\n",
       "      <td>Braund, Mr. Owen Harris</td>\n",
       "      <td>male</td>\n",
       "      <td>22.0</td>\n",
       "      <td>1</td>\n",
       "      <td>0</td>\n",
       "      <td>A/5 21171</td>\n",
       "      <td>7.2500</td>\n",
       "      <td>NaN</td>\n",
       "      <td>S</td>\n",
       "    </tr>\n",
       "    <tr>\n",
       "      <th>1</th>\n",
       "      <td>2</td>\n",
       "      <td>1</td>\n",
       "      <td>1</td>\n",
       "      <td>Cumings, Mrs. John Bradley (Florence Briggs Th...</td>\n",
       "      <td>female</td>\n",
       "      <td>38.0</td>\n",
       "      <td>1</td>\n",
       "      <td>0</td>\n",
       "      <td>PC 17599</td>\n",
       "      <td>71.2833</td>\n",
       "      <td>C85</td>\n",
       "      <td>C</td>\n",
       "    </tr>\n",
       "    <tr>\n",
       "      <th>2</th>\n",
       "      <td>3</td>\n",
       "      <td>1</td>\n",
       "      <td>3</td>\n",
       "      <td>Heikkinen, Miss. Laina</td>\n",
       "      <td>female</td>\n",
       "      <td>26.0</td>\n",
       "      <td>0</td>\n",
       "      <td>0</td>\n",
       "      <td>STON/O2. 3101282</td>\n",
       "      <td>7.9250</td>\n",
       "      <td>NaN</td>\n",
       "      <td>S</td>\n",
       "    </tr>\n",
       "    <tr>\n",
       "      <th>3</th>\n",
       "      <td>4</td>\n",
       "      <td>1</td>\n",
       "      <td>1</td>\n",
       "      <td>Futrelle, Mrs. Jacques Heath (Lily May Peel)</td>\n",
       "      <td>female</td>\n",
       "      <td>35.0</td>\n",
       "      <td>1</td>\n",
       "      <td>0</td>\n",
       "      <td>113803</td>\n",
       "      <td>53.1000</td>\n",
       "      <td>C123</td>\n",
       "      <td>S</td>\n",
       "    </tr>\n",
       "    <tr>\n",
       "      <th>4</th>\n",
       "      <td>5</td>\n",
       "      <td>0</td>\n",
       "      <td>3</td>\n",
       "      <td>Allen, Mr. William Henry</td>\n",
       "      <td>male</td>\n",
       "      <td>35.0</td>\n",
       "      <td>0</td>\n",
       "      <td>0</td>\n",
       "      <td>373450</td>\n",
       "      <td>8.0500</td>\n",
       "      <td>NaN</td>\n",
       "      <td>S</td>\n",
       "    </tr>\n",
       "  </tbody>\n",
       "</table>\n",
       "</div>"
      ]
     },
     "execution_count": 3,
     "metadata": {},
     "output_type": "execute_result"
    }
   ],
   "execution_count": 3
  },
  {
   "attachments": {},
   "cell_type": "markdown",
   "id": "af89e79e",
   "metadata": {},
   "source": [
    "---"
   ]
  },
  {
   "attachments": {},
   "cell_type": "markdown",
   "id": "7a5a6bf3",
   "metadata": {},
   "source": [
    "## 2. 데이터 전처리 (1)\n",
    "불필요한 컬럼을 삭제하거나 기존 데이터로 부터 새로운 컬럼을 생성합니다. <br>\n",
    "데이터의 결측치를 확인하고 처리합니다. <br>"
   ]
  },
  {
   "attachments": {},
   "cell_type": "markdown",
   "id": "71e23e83",
   "metadata": {},
   "source": [
    "### 1) 데이터 가공하기\n",
    "#### ① 기존 데이터에서 유용한 정보 추출하여 새로운 컬럼 만들기\n"
   ]
  },
  {
   "attachments": {},
   "cell_type": "markdown",
   "id": "9d647ca8",
   "metadata": {},
   "source": [
    "- **'Name' 컬럼에서 호칭('Mr, 'Mrs', 'Miss' 등)을 따로 분리해서 'Title' 컬럼을 새로 만들어 보세요.**<br>"
   ]
  },
  {
   "cell_type": "code",
   "id": "1ea6dee9",
   "metadata": {
    "scrolled": true
   },
   "source": [
    "df['Name'].head(30)"
   ],
   "outputs": [],
   "execution_count": null
  },
  {
   "attachments": {},
   "cell_type": "markdown",
   "id": "755ad82f",
   "metadata": {},
   "source": [
    "- **pandas의 'str.extract' 메서드를 사용하여 정규표현식 패턴을 추출할 수 있습니다.**\n",
    "> **정규 표현식이란?** <br>\n",
    "> 특정한 조건의 문자를 '검색'하거나 '치환'하는 과정을 매우 간편하게 처리하기 위한 방법<br>\n",
    "> [0-9] 또는 [a-zA-Z] 등은 무척 자주 사용하는 정규 표현식입니다.<br>\n",
    "> [참고] 정규 표현식 (https://wikidocs.net/4308)\n",
    "\n",
    "***\"뛰어쓰기로 시작되며, 모든 알파벳을 포함한 문자가 반복되다가 dot(.)으로 마무리 되는 문자열을 찾아보세요.\"***"
   ]
  },
  {
   "cell_type": "code",
   "id": "88df72df",
   "metadata": {
    "scrolled": true,
    "ExecuteTime": {
     "end_time": "2024-08-09T04:07:06.975693Z",
     "start_time": "2024-08-09T04:07:06.971687Z"
    }
   },
   "source": [
    "df['Name'].str.extract(' ([a-zA-Z]+)\\.')\n",
    "\n",
    "df['Title'] = df['Name'].str.extract(' ([a-zA-Z]+)\\.')"
   ],
   "outputs": [],
   "execution_count": 4
  },
  {
   "cell_type": "code",
   "id": "9c3fd714",
   "metadata": {
    "ExecuteTime": {
     "end_time": "2024-08-09T04:07:08.653404Z",
     "start_time": "2024-08-09T04:07:08.646680Z"
    }
   },
   "source": [
    "df.head()"
   ],
   "outputs": [
    {
     "data": {
      "text/plain": [
       "   PassengerId  Survived  Pclass  \\\n",
       "0            1         0       3   \n",
       "1            2         1       1   \n",
       "2            3         1       3   \n",
       "3            4         1       1   \n",
       "4            5         0       3   \n",
       "\n",
       "                                                Name     Sex   Age  SibSp  \\\n",
       "0                            Braund, Mr. Owen Harris    male  22.0      1   \n",
       "1  Cumings, Mrs. John Bradley (Florence Briggs Th...  female  38.0      1   \n",
       "2                             Heikkinen, Miss. Laina  female  26.0      0   \n",
       "3       Futrelle, Mrs. Jacques Heath (Lily May Peel)  female  35.0      1   \n",
       "4                           Allen, Mr. William Henry    male  35.0      0   \n",
       "\n",
       "   Parch            Ticket     Fare Cabin Embarked Title  \n",
       "0      0         A/5 21171   7.2500   NaN        S    Mr  \n",
       "1      0          PC 17599  71.2833   C85        C   Mrs  \n",
       "2      0  STON/O2. 3101282   7.9250   NaN        S  Miss  \n",
       "3      0            113803  53.1000  C123        S   Mrs  \n",
       "4      0            373450   8.0500   NaN        S    Mr  "
      ],
      "text/html": [
       "<div>\n",
       "<style scoped>\n",
       "    .dataframe tbody tr th:only-of-type {\n",
       "        vertical-align: middle;\n",
       "    }\n",
       "\n",
       "    .dataframe tbody tr th {\n",
       "        vertical-align: top;\n",
       "    }\n",
       "\n",
       "    .dataframe thead th {\n",
       "        text-align: right;\n",
       "    }\n",
       "</style>\n",
       "<table border=\"1\" class=\"dataframe\">\n",
       "  <thead>\n",
       "    <tr style=\"text-align: right;\">\n",
       "      <th></th>\n",
       "      <th>PassengerId</th>\n",
       "      <th>Survived</th>\n",
       "      <th>Pclass</th>\n",
       "      <th>Name</th>\n",
       "      <th>Sex</th>\n",
       "      <th>Age</th>\n",
       "      <th>SibSp</th>\n",
       "      <th>Parch</th>\n",
       "      <th>Ticket</th>\n",
       "      <th>Fare</th>\n",
       "      <th>Cabin</th>\n",
       "      <th>Embarked</th>\n",
       "      <th>Title</th>\n",
       "    </tr>\n",
       "  </thead>\n",
       "  <tbody>\n",
       "    <tr>\n",
       "      <th>0</th>\n",
       "      <td>1</td>\n",
       "      <td>0</td>\n",
       "      <td>3</td>\n",
       "      <td>Braund, Mr. Owen Harris</td>\n",
       "      <td>male</td>\n",
       "      <td>22.0</td>\n",
       "      <td>1</td>\n",
       "      <td>0</td>\n",
       "      <td>A/5 21171</td>\n",
       "      <td>7.2500</td>\n",
       "      <td>NaN</td>\n",
       "      <td>S</td>\n",
       "      <td>Mr</td>\n",
       "    </tr>\n",
       "    <tr>\n",
       "      <th>1</th>\n",
       "      <td>2</td>\n",
       "      <td>1</td>\n",
       "      <td>1</td>\n",
       "      <td>Cumings, Mrs. John Bradley (Florence Briggs Th...</td>\n",
       "      <td>female</td>\n",
       "      <td>38.0</td>\n",
       "      <td>1</td>\n",
       "      <td>0</td>\n",
       "      <td>PC 17599</td>\n",
       "      <td>71.2833</td>\n",
       "      <td>C85</td>\n",
       "      <td>C</td>\n",
       "      <td>Mrs</td>\n",
       "    </tr>\n",
       "    <tr>\n",
       "      <th>2</th>\n",
       "      <td>3</td>\n",
       "      <td>1</td>\n",
       "      <td>3</td>\n",
       "      <td>Heikkinen, Miss. Laina</td>\n",
       "      <td>female</td>\n",
       "      <td>26.0</td>\n",
       "      <td>0</td>\n",
       "      <td>0</td>\n",
       "      <td>STON/O2. 3101282</td>\n",
       "      <td>7.9250</td>\n",
       "      <td>NaN</td>\n",
       "      <td>S</td>\n",
       "      <td>Miss</td>\n",
       "    </tr>\n",
       "    <tr>\n",
       "      <th>3</th>\n",
       "      <td>4</td>\n",
       "      <td>1</td>\n",
       "      <td>1</td>\n",
       "      <td>Futrelle, Mrs. Jacques Heath (Lily May Peel)</td>\n",
       "      <td>female</td>\n",
       "      <td>35.0</td>\n",
       "      <td>1</td>\n",
       "      <td>0</td>\n",
       "      <td>113803</td>\n",
       "      <td>53.1000</td>\n",
       "      <td>C123</td>\n",
       "      <td>S</td>\n",
       "      <td>Mrs</td>\n",
       "    </tr>\n",
       "    <tr>\n",
       "      <th>4</th>\n",
       "      <td>5</td>\n",
       "      <td>0</td>\n",
       "      <td>3</td>\n",
       "      <td>Allen, Mr. William Henry</td>\n",
       "      <td>male</td>\n",
       "      <td>35.0</td>\n",
       "      <td>0</td>\n",
       "      <td>0</td>\n",
       "      <td>373450</td>\n",
       "      <td>8.0500</td>\n",
       "      <td>NaN</td>\n",
       "      <td>S</td>\n",
       "      <td>Mr</td>\n",
       "    </tr>\n",
       "  </tbody>\n",
       "</table>\n",
       "</div>"
      ]
     },
     "execution_count": 5,
     "metadata": {},
     "output_type": "execute_result"
    }
   ],
   "execution_count": 5
  },
  {
   "attachments": {},
   "cell_type": "markdown",
   "id": "c83fbc87",
   "metadata": {},
   "source": [
    "- **새로 생성한 호칭(Title) 컬럼의 데이터 분포를 확인하고 고유값 중 개수가 전체의 10% 미만일 경우 그 값을 'Others'로 변경해 주세요.**\n",
    "> value_counts() 함수를 사용하면 고유값의 개수를 확인할 수 있습니다. <br>또한, normalize 옵션을 True로 하면 전체합이 1인 상태에서 모든 값을 비중으로 나누어서 반환하게 됩니다."
   ]
  },
  {
   "cell_type": "code",
   "id": "e860d360",
   "metadata": {
    "ExecuteTime": {
     "end_time": "2024-08-09T04:07:25.499289Z",
     "start_time": "2024-08-09T04:07:25.493468Z"
    }
   },
   "source": [
    "df['Title'].value_counts()"
   ],
   "outputs": [
    {
     "data": {
      "text/plain": [
       "Title\n",
       "Mr          517\n",
       "Miss        182\n",
       "Mrs         125\n",
       "Master       40\n",
       "Dr            7\n",
       "Rev           6\n",
       "Mlle          2\n",
       "Major         2\n",
       "Col           2\n",
       "Countess      1\n",
       "Capt          1\n",
       "Ms            1\n",
       "Sir           1\n",
       "Lady          1\n",
       "Mme           1\n",
       "Don           1\n",
       "Jonkheer      1\n",
       "Name: count, dtype: int64"
      ]
     },
     "execution_count": 6,
     "metadata": {},
     "output_type": "execute_result"
    }
   ],
   "execution_count": 6
  },
  {
   "cell_type": "code",
   "id": "2b4716fe",
   "metadata": {
    "scrolled": true,
    "ExecuteTime": {
     "end_time": "2024-08-09T04:07:31.920577Z",
     "start_time": "2024-08-09T04:07:31.914368Z"
    }
   },
   "source": [
    "# normalize 옵션을 주면 컬럼 값의 비율을 알 수 있다.\n",
    "df['Title'].value_counts(normalize=True)"
   ],
   "outputs": [
    {
     "data": {
      "text/plain": [
       "Title\n",
       "Mr          0.580247\n",
       "Miss        0.204265\n",
       "Mrs         0.140292\n",
       "Master      0.044893\n",
       "Dr          0.007856\n",
       "Rev         0.006734\n",
       "Mlle        0.002245\n",
       "Major       0.002245\n",
       "Col         0.002245\n",
       "Countess    0.001122\n",
       "Capt        0.001122\n",
       "Ms          0.001122\n",
       "Sir         0.001122\n",
       "Lady        0.001122\n",
       "Mme         0.001122\n",
       "Don         0.001122\n",
       "Jonkheer    0.001122\n",
       "Name: proportion, dtype: float64"
      ]
     },
     "execution_count": 7,
     "metadata": {},
     "output_type": "execute_result"
    }
   ],
   "execution_count": 7
  },
  {
   "cell_type": "code",
   "id": "6b9f6636",
   "metadata": {
    "ExecuteTime": {
     "end_time": "2024-08-09T04:07:41.835922Z",
     "start_time": "2024-08-09T04:07:41.828798Z"
    }
   },
   "source": [
    "# 대표 호칭 이외는 Others로 변경\n",
    "df.loc[df['Title'].isin(['Mr', 'Miss', 'Mrs'])==False, ['Title']] = 'Others'"
   ],
   "outputs": [],
   "execution_count": 8
  },
  {
   "cell_type": "code",
   "id": "5cadf765",
   "metadata": {},
   "source": [
    "df.head()"
   ],
   "outputs": [],
   "execution_count": null
  },
  {
   "attachments": {},
   "cell_type": "markdown",
   "id": "5736bb4d",
   "metadata": {},
   "source": [
    "### 2) 결측치 처리하기\n",
    "결측치 처리는 데이터셋에서 누락된 값이나 비어 있는 값인 결측치를 다루는 과정을 말합니다. 결측치는 데이터 수집 과정에서 발생할 수 있는 실수, 누락된 정보, 기록 오류 등으로 인해 발생할 수 있습니다. 결측치 처리는 데이터 분석이나 기계 학습 모델 학습에 필수적인 단계로 간주됩니다.\n",
    "\n",
    "결측치 처리 방법은 데이터의 특성과 분석 목적에 따라 선택되어야 합니다. 주어진 상황과 데이터에 맞는 적절한 결측치 처리 방법을 선택하여 데이터의 유효성을 유지하고 정확한 분석 결과를 얻을 수 있도록 해야 합니다.\n",
    "\n",
    "#### 🚨<font color=\"red\"> 결측치 처리 시 주의사항</font>\n",
    ">**데이터 결측치 처리 시 반드시 원본 데이터를 복사해서 사용하여 원본 데이터의 손실을 예방합니다.<br>\n",
    "><u>파이썬에서 Copy 메소드를 사용하지 않으면 주소값을 복사해서 사용기 때문에 원본 값을 변경 시키게 됩니다.</u><br>\n",
    ">따라서, 원본 항목을 보전하면서 데이터를 보정하려면 copy() 메소드를 사용하여 백업해두는 것이 필요합니다.**\n"
   ]
  },
  {
   "cell_type": "code",
   "id": "f42d39de",
   "metadata": {
    "scrolled": true,
    "ExecuteTime": {
     "end_time": "2024-08-09T04:07:44.796864Z",
     "start_time": "2024-08-09T04:07:44.788938Z"
    }
   },
   "source": [
    "# 원본 데이터프레임 'df' 를 copy한 데이터프레임 'df_copy'\n",
    "df_copy = df.copy()\n",
    "df_copy.head(3)"
   ],
   "outputs": [
    {
     "data": {
      "text/plain": [
       "   PassengerId  Survived  Pclass  \\\n",
       "0            1         0       3   \n",
       "1            2         1       1   \n",
       "2            3         1       3   \n",
       "\n",
       "                                                Name     Sex   Age  SibSp  \\\n",
       "0                            Braund, Mr. Owen Harris    male  22.0      1   \n",
       "1  Cumings, Mrs. John Bradley (Florence Briggs Th...  female  38.0      1   \n",
       "2                             Heikkinen, Miss. Laina  female  26.0      0   \n",
       "\n",
       "   Parch            Ticket     Fare Cabin Embarked Title  \n",
       "0      0         A/5 21171   7.2500   NaN        S    Mr  \n",
       "1      0          PC 17599  71.2833   C85        C   Mrs  \n",
       "2      0  STON/O2. 3101282   7.9250   NaN        S  Miss  "
      ],
      "text/html": [
       "<div>\n",
       "<style scoped>\n",
       "    .dataframe tbody tr th:only-of-type {\n",
       "        vertical-align: middle;\n",
       "    }\n",
       "\n",
       "    .dataframe tbody tr th {\n",
       "        vertical-align: top;\n",
       "    }\n",
       "\n",
       "    .dataframe thead th {\n",
       "        text-align: right;\n",
       "    }\n",
       "</style>\n",
       "<table border=\"1\" class=\"dataframe\">\n",
       "  <thead>\n",
       "    <tr style=\"text-align: right;\">\n",
       "      <th></th>\n",
       "      <th>PassengerId</th>\n",
       "      <th>Survived</th>\n",
       "      <th>Pclass</th>\n",
       "      <th>Name</th>\n",
       "      <th>Sex</th>\n",
       "      <th>Age</th>\n",
       "      <th>SibSp</th>\n",
       "      <th>Parch</th>\n",
       "      <th>Ticket</th>\n",
       "      <th>Fare</th>\n",
       "      <th>Cabin</th>\n",
       "      <th>Embarked</th>\n",
       "      <th>Title</th>\n",
       "    </tr>\n",
       "  </thead>\n",
       "  <tbody>\n",
       "    <tr>\n",
       "      <th>0</th>\n",
       "      <td>1</td>\n",
       "      <td>0</td>\n",
       "      <td>3</td>\n",
       "      <td>Braund, Mr. Owen Harris</td>\n",
       "      <td>male</td>\n",
       "      <td>22.0</td>\n",
       "      <td>1</td>\n",
       "      <td>0</td>\n",
       "      <td>A/5 21171</td>\n",
       "      <td>7.2500</td>\n",
       "      <td>NaN</td>\n",
       "      <td>S</td>\n",
       "      <td>Mr</td>\n",
       "    </tr>\n",
       "    <tr>\n",
       "      <th>1</th>\n",
       "      <td>2</td>\n",
       "      <td>1</td>\n",
       "      <td>1</td>\n",
       "      <td>Cumings, Mrs. John Bradley (Florence Briggs Th...</td>\n",
       "      <td>female</td>\n",
       "      <td>38.0</td>\n",
       "      <td>1</td>\n",
       "      <td>0</td>\n",
       "      <td>PC 17599</td>\n",
       "      <td>71.2833</td>\n",
       "      <td>C85</td>\n",
       "      <td>C</td>\n",
       "      <td>Mrs</td>\n",
       "    </tr>\n",
       "    <tr>\n",
       "      <th>2</th>\n",
       "      <td>3</td>\n",
       "      <td>1</td>\n",
       "      <td>3</td>\n",
       "      <td>Heikkinen, Miss. Laina</td>\n",
       "      <td>female</td>\n",
       "      <td>26.0</td>\n",
       "      <td>0</td>\n",
       "      <td>0</td>\n",
       "      <td>STON/O2. 3101282</td>\n",
       "      <td>7.9250</td>\n",
       "      <td>NaN</td>\n",
       "      <td>S</td>\n",
       "      <td>Miss</td>\n",
       "    </tr>\n",
       "  </tbody>\n",
       "</table>\n",
       "</div>"
      ]
     },
     "execution_count": 9,
     "metadata": {},
     "output_type": "execute_result"
    }
   ],
   "execution_count": 9
  },
  {
   "cell_type": "code",
   "id": "024f39b6",
   "metadata": {
    "scrolled": false,
    "ExecuteTime": {
     "end_time": "2024-08-09T04:07:48.973759Z",
     "start_time": "2024-08-09T04:07:48.965408Z"
    }
   },
   "source": [
    "# 원본 데이터프레임 'df' 를 copy하지 않고 새로운 변수에 할당 'df_nocopy'\n",
    "# 이렇게 하면 같은 메모리 주소 값을 참조 한다.\n",
    "df_nocopy=df\n",
    "df_nocopy.head(3)"
   ],
   "outputs": [
    {
     "data": {
      "text/plain": [
       "   PassengerId  Survived  Pclass  \\\n",
       "0            1         0       3   \n",
       "1            2         1       1   \n",
       "2            3         1       3   \n",
       "\n",
       "                                                Name     Sex   Age  SibSp  \\\n",
       "0                            Braund, Mr. Owen Harris    male  22.0      1   \n",
       "1  Cumings, Mrs. John Bradley (Florence Briggs Th...  female  38.0      1   \n",
       "2                             Heikkinen, Miss. Laina  female  26.0      0   \n",
       "\n",
       "   Parch            Ticket     Fare Cabin Embarked Title  \n",
       "0      0         A/5 21171   7.2500   NaN        S    Mr  \n",
       "1      0          PC 17599  71.2833   C85        C   Mrs  \n",
       "2      0  STON/O2. 3101282   7.9250   NaN        S  Miss  "
      ],
      "text/html": [
       "<div>\n",
       "<style scoped>\n",
       "    .dataframe tbody tr th:only-of-type {\n",
       "        vertical-align: middle;\n",
       "    }\n",
       "\n",
       "    .dataframe tbody tr th {\n",
       "        vertical-align: top;\n",
       "    }\n",
       "\n",
       "    .dataframe thead th {\n",
       "        text-align: right;\n",
       "    }\n",
       "</style>\n",
       "<table border=\"1\" class=\"dataframe\">\n",
       "  <thead>\n",
       "    <tr style=\"text-align: right;\">\n",
       "      <th></th>\n",
       "      <th>PassengerId</th>\n",
       "      <th>Survived</th>\n",
       "      <th>Pclass</th>\n",
       "      <th>Name</th>\n",
       "      <th>Sex</th>\n",
       "      <th>Age</th>\n",
       "      <th>SibSp</th>\n",
       "      <th>Parch</th>\n",
       "      <th>Ticket</th>\n",
       "      <th>Fare</th>\n",
       "      <th>Cabin</th>\n",
       "      <th>Embarked</th>\n",
       "      <th>Title</th>\n",
       "    </tr>\n",
       "  </thead>\n",
       "  <tbody>\n",
       "    <tr>\n",
       "      <th>0</th>\n",
       "      <td>1</td>\n",
       "      <td>0</td>\n",
       "      <td>3</td>\n",
       "      <td>Braund, Mr. Owen Harris</td>\n",
       "      <td>male</td>\n",
       "      <td>22.0</td>\n",
       "      <td>1</td>\n",
       "      <td>0</td>\n",
       "      <td>A/5 21171</td>\n",
       "      <td>7.2500</td>\n",
       "      <td>NaN</td>\n",
       "      <td>S</td>\n",
       "      <td>Mr</td>\n",
       "    </tr>\n",
       "    <tr>\n",
       "      <th>1</th>\n",
       "      <td>2</td>\n",
       "      <td>1</td>\n",
       "      <td>1</td>\n",
       "      <td>Cumings, Mrs. John Bradley (Florence Briggs Th...</td>\n",
       "      <td>female</td>\n",
       "      <td>38.0</td>\n",
       "      <td>1</td>\n",
       "      <td>0</td>\n",
       "      <td>PC 17599</td>\n",
       "      <td>71.2833</td>\n",
       "      <td>C85</td>\n",
       "      <td>C</td>\n",
       "      <td>Mrs</td>\n",
       "    </tr>\n",
       "    <tr>\n",
       "      <th>2</th>\n",
       "      <td>3</td>\n",
       "      <td>1</td>\n",
       "      <td>3</td>\n",
       "      <td>Heikkinen, Miss. Laina</td>\n",
       "      <td>female</td>\n",
       "      <td>26.0</td>\n",
       "      <td>0</td>\n",
       "      <td>0</td>\n",
       "      <td>STON/O2. 3101282</td>\n",
       "      <td>7.9250</td>\n",
       "      <td>NaN</td>\n",
       "      <td>S</td>\n",
       "      <td>Miss</td>\n",
       "    </tr>\n",
       "  </tbody>\n",
       "</table>\n",
       "</div>"
      ]
     },
     "execution_count": 10,
     "metadata": {},
     "output_type": "execute_result"
    }
   ],
   "execution_count": 10
  },
  {
   "cell_type": "code",
   "id": "2d9efcff",
   "metadata": {
    "ExecuteTime": {
     "end_time": "2024-08-09T04:07:55.860944Z",
     "start_time": "2024-08-09T04:07:55.852634Z"
    }
   },
   "source": [
    "# df_nocopy 변수의 승객ID(PassengerId)를 모두 0으로 변경\n",
    "df_nocopy['PassengerId']=0\n",
    "df_nocopy.head(3)"
   ],
   "outputs": [
    {
     "data": {
      "text/plain": [
       "   PassengerId  Survived  Pclass  \\\n",
       "0            0         0       3   \n",
       "1            0         1       1   \n",
       "2            0         1       3   \n",
       "\n",
       "                                                Name     Sex   Age  SibSp  \\\n",
       "0                            Braund, Mr. Owen Harris    male  22.0      1   \n",
       "1  Cumings, Mrs. John Bradley (Florence Briggs Th...  female  38.0      1   \n",
       "2                             Heikkinen, Miss. Laina  female  26.0      0   \n",
       "\n",
       "   Parch            Ticket     Fare Cabin Embarked Title  \n",
       "0      0         A/5 21171   7.2500   NaN        S    Mr  \n",
       "1      0          PC 17599  71.2833   C85        C   Mrs  \n",
       "2      0  STON/O2. 3101282   7.9250   NaN        S  Miss  "
      ],
      "text/html": [
       "<div>\n",
       "<style scoped>\n",
       "    .dataframe tbody tr th:only-of-type {\n",
       "        vertical-align: middle;\n",
       "    }\n",
       "\n",
       "    .dataframe tbody tr th {\n",
       "        vertical-align: top;\n",
       "    }\n",
       "\n",
       "    .dataframe thead th {\n",
       "        text-align: right;\n",
       "    }\n",
       "</style>\n",
       "<table border=\"1\" class=\"dataframe\">\n",
       "  <thead>\n",
       "    <tr style=\"text-align: right;\">\n",
       "      <th></th>\n",
       "      <th>PassengerId</th>\n",
       "      <th>Survived</th>\n",
       "      <th>Pclass</th>\n",
       "      <th>Name</th>\n",
       "      <th>Sex</th>\n",
       "      <th>Age</th>\n",
       "      <th>SibSp</th>\n",
       "      <th>Parch</th>\n",
       "      <th>Ticket</th>\n",
       "      <th>Fare</th>\n",
       "      <th>Cabin</th>\n",
       "      <th>Embarked</th>\n",
       "      <th>Title</th>\n",
       "    </tr>\n",
       "  </thead>\n",
       "  <tbody>\n",
       "    <tr>\n",
       "      <th>0</th>\n",
       "      <td>0</td>\n",
       "      <td>0</td>\n",
       "      <td>3</td>\n",
       "      <td>Braund, Mr. Owen Harris</td>\n",
       "      <td>male</td>\n",
       "      <td>22.0</td>\n",
       "      <td>1</td>\n",
       "      <td>0</td>\n",
       "      <td>A/5 21171</td>\n",
       "      <td>7.2500</td>\n",
       "      <td>NaN</td>\n",
       "      <td>S</td>\n",
       "      <td>Mr</td>\n",
       "    </tr>\n",
       "    <tr>\n",
       "      <th>1</th>\n",
       "      <td>0</td>\n",
       "      <td>1</td>\n",
       "      <td>1</td>\n",
       "      <td>Cumings, Mrs. John Bradley (Florence Briggs Th...</td>\n",
       "      <td>female</td>\n",
       "      <td>38.0</td>\n",
       "      <td>1</td>\n",
       "      <td>0</td>\n",
       "      <td>PC 17599</td>\n",
       "      <td>71.2833</td>\n",
       "      <td>C85</td>\n",
       "      <td>C</td>\n",
       "      <td>Mrs</td>\n",
       "    </tr>\n",
       "    <tr>\n",
       "      <th>2</th>\n",
       "      <td>0</td>\n",
       "      <td>1</td>\n",
       "      <td>3</td>\n",
       "      <td>Heikkinen, Miss. Laina</td>\n",
       "      <td>female</td>\n",
       "      <td>26.0</td>\n",
       "      <td>0</td>\n",
       "      <td>0</td>\n",
       "      <td>STON/O2. 3101282</td>\n",
       "      <td>7.9250</td>\n",
       "      <td>NaN</td>\n",
       "      <td>S</td>\n",
       "      <td>Miss</td>\n",
       "    </tr>\n",
       "  </tbody>\n",
       "</table>\n",
       "</div>"
      ]
     },
     "execution_count": 11,
     "metadata": {},
     "output_type": "execute_result"
    }
   ],
   "execution_count": 11
  },
  {
   "cell_type": "code",
   "id": "9f7abf39",
   "metadata": {
    "scrolled": true,
    "ExecuteTime": {
     "end_time": "2024-08-09T04:08:02.913387Z",
     "start_time": "2024-08-09T04:08:02.905392Z"
    }
   },
   "source": [
    "# 원본 데이터 프레임 df가 함께 변경된 것을 확인할 수 있습니다.\n",
    "df.head(3)"
   ],
   "outputs": [
    {
     "data": {
      "text/plain": [
       "   PassengerId  Survived  Pclass  \\\n",
       "0            0         0       3   \n",
       "1            0         1       1   \n",
       "2            0         1       3   \n",
       "\n",
       "                                                Name     Sex   Age  SibSp  \\\n",
       "0                            Braund, Mr. Owen Harris    male  22.0      1   \n",
       "1  Cumings, Mrs. John Bradley (Florence Briggs Th...  female  38.0      1   \n",
       "2                             Heikkinen, Miss. Laina  female  26.0      0   \n",
       "\n",
       "   Parch            Ticket     Fare Cabin Embarked Title  \n",
       "0      0         A/5 21171   7.2500   NaN        S    Mr  \n",
       "1      0          PC 17599  71.2833   C85        C   Mrs  \n",
       "2      0  STON/O2. 3101282   7.9250   NaN        S  Miss  "
      ],
      "text/html": [
       "<div>\n",
       "<style scoped>\n",
       "    .dataframe tbody tr th:only-of-type {\n",
       "        vertical-align: middle;\n",
       "    }\n",
       "\n",
       "    .dataframe tbody tr th {\n",
       "        vertical-align: top;\n",
       "    }\n",
       "\n",
       "    .dataframe thead th {\n",
       "        text-align: right;\n",
       "    }\n",
       "</style>\n",
       "<table border=\"1\" class=\"dataframe\">\n",
       "  <thead>\n",
       "    <tr style=\"text-align: right;\">\n",
       "      <th></th>\n",
       "      <th>PassengerId</th>\n",
       "      <th>Survived</th>\n",
       "      <th>Pclass</th>\n",
       "      <th>Name</th>\n",
       "      <th>Sex</th>\n",
       "      <th>Age</th>\n",
       "      <th>SibSp</th>\n",
       "      <th>Parch</th>\n",
       "      <th>Ticket</th>\n",
       "      <th>Fare</th>\n",
       "      <th>Cabin</th>\n",
       "      <th>Embarked</th>\n",
       "      <th>Title</th>\n",
       "    </tr>\n",
       "  </thead>\n",
       "  <tbody>\n",
       "    <tr>\n",
       "      <th>0</th>\n",
       "      <td>0</td>\n",
       "      <td>0</td>\n",
       "      <td>3</td>\n",
       "      <td>Braund, Mr. Owen Harris</td>\n",
       "      <td>male</td>\n",
       "      <td>22.0</td>\n",
       "      <td>1</td>\n",
       "      <td>0</td>\n",
       "      <td>A/5 21171</td>\n",
       "      <td>7.2500</td>\n",
       "      <td>NaN</td>\n",
       "      <td>S</td>\n",
       "      <td>Mr</td>\n",
       "    </tr>\n",
       "    <tr>\n",
       "      <th>1</th>\n",
       "      <td>0</td>\n",
       "      <td>1</td>\n",
       "      <td>1</td>\n",
       "      <td>Cumings, Mrs. John Bradley (Florence Briggs Th...</td>\n",
       "      <td>female</td>\n",
       "      <td>38.0</td>\n",
       "      <td>1</td>\n",
       "      <td>0</td>\n",
       "      <td>PC 17599</td>\n",
       "      <td>71.2833</td>\n",
       "      <td>C85</td>\n",
       "      <td>C</td>\n",
       "      <td>Mrs</td>\n",
       "    </tr>\n",
       "    <tr>\n",
       "      <th>2</th>\n",
       "      <td>0</td>\n",
       "      <td>1</td>\n",
       "      <td>3</td>\n",
       "      <td>Heikkinen, Miss. Laina</td>\n",
       "      <td>female</td>\n",
       "      <td>26.0</td>\n",
       "      <td>0</td>\n",
       "      <td>0</td>\n",
       "      <td>STON/O2. 3101282</td>\n",
       "      <td>7.9250</td>\n",
       "      <td>NaN</td>\n",
       "      <td>S</td>\n",
       "      <td>Miss</td>\n",
       "    </tr>\n",
       "  </tbody>\n",
       "</table>\n",
       "</div>"
      ]
     },
     "execution_count": 12,
     "metadata": {},
     "output_type": "execute_result"
    }
   ],
   "execution_count": 12
  },
  {
   "cell_type": "code",
   "id": "ca4c0aa5",
   "metadata": {
    "ExecuteTime": {
     "end_time": "2024-08-09T04:08:05.881390Z",
     "start_time": "2024-08-09T04:08:05.876785Z"
    }
   },
   "source": [
    "id(df), id(df_nocopy), id(df_copy)"
   ],
   "outputs": [
    {
     "data": {
      "text/plain": [
       "(5716220944, 5716220944, 5718100240)"
      ]
     },
     "execution_count": 13,
     "metadata": {},
     "output_type": "execute_result"
    }
   ],
   "execution_count": 13
  },
  {
   "cell_type": "code",
   "id": "86a14d13",
   "metadata": {
    "scrolled": false,
    "ExecuteTime": {
     "end_time": "2024-08-09T04:08:07.606733Z",
     "start_time": "2024-08-09T04:08:07.600682Z"
    }
   },
   "source": [
    "df_copy.head(3)"
   ],
   "outputs": [
    {
     "data": {
      "text/plain": [
       "   PassengerId  Survived  Pclass  \\\n",
       "0            1         0       3   \n",
       "1            2         1       1   \n",
       "2            3         1       3   \n",
       "\n",
       "                                                Name     Sex   Age  SibSp  \\\n",
       "0                            Braund, Mr. Owen Harris    male  22.0      1   \n",
       "1  Cumings, Mrs. John Bradley (Florence Briggs Th...  female  38.0      1   \n",
       "2                             Heikkinen, Miss. Laina  female  26.0      0   \n",
       "\n",
       "   Parch            Ticket     Fare Cabin Embarked Title  \n",
       "0      0         A/5 21171   7.2500   NaN        S    Mr  \n",
       "1      0          PC 17599  71.2833   C85        C   Mrs  \n",
       "2      0  STON/O2. 3101282   7.9250   NaN        S  Miss  "
      ],
      "text/html": [
       "<div>\n",
       "<style scoped>\n",
       "    .dataframe tbody tr th:only-of-type {\n",
       "        vertical-align: middle;\n",
       "    }\n",
       "\n",
       "    .dataframe tbody tr th {\n",
       "        vertical-align: top;\n",
       "    }\n",
       "\n",
       "    .dataframe thead th {\n",
       "        text-align: right;\n",
       "    }\n",
       "</style>\n",
       "<table border=\"1\" class=\"dataframe\">\n",
       "  <thead>\n",
       "    <tr style=\"text-align: right;\">\n",
       "      <th></th>\n",
       "      <th>PassengerId</th>\n",
       "      <th>Survived</th>\n",
       "      <th>Pclass</th>\n",
       "      <th>Name</th>\n",
       "      <th>Sex</th>\n",
       "      <th>Age</th>\n",
       "      <th>SibSp</th>\n",
       "      <th>Parch</th>\n",
       "      <th>Ticket</th>\n",
       "      <th>Fare</th>\n",
       "      <th>Cabin</th>\n",
       "      <th>Embarked</th>\n",
       "      <th>Title</th>\n",
       "    </tr>\n",
       "  </thead>\n",
       "  <tbody>\n",
       "    <tr>\n",
       "      <th>0</th>\n",
       "      <td>1</td>\n",
       "      <td>0</td>\n",
       "      <td>3</td>\n",
       "      <td>Braund, Mr. Owen Harris</td>\n",
       "      <td>male</td>\n",
       "      <td>22.0</td>\n",
       "      <td>1</td>\n",
       "      <td>0</td>\n",
       "      <td>A/5 21171</td>\n",
       "      <td>7.2500</td>\n",
       "      <td>NaN</td>\n",
       "      <td>S</td>\n",
       "      <td>Mr</td>\n",
       "    </tr>\n",
       "    <tr>\n",
       "      <th>1</th>\n",
       "      <td>2</td>\n",
       "      <td>1</td>\n",
       "      <td>1</td>\n",
       "      <td>Cumings, Mrs. John Bradley (Florence Briggs Th...</td>\n",
       "      <td>female</td>\n",
       "      <td>38.0</td>\n",
       "      <td>1</td>\n",
       "      <td>0</td>\n",
       "      <td>PC 17599</td>\n",
       "      <td>71.2833</td>\n",
       "      <td>C85</td>\n",
       "      <td>C</td>\n",
       "      <td>Mrs</td>\n",
       "    </tr>\n",
       "    <tr>\n",
       "      <th>2</th>\n",
       "      <td>3</td>\n",
       "      <td>1</td>\n",
       "      <td>3</td>\n",
       "      <td>Heikkinen, Miss. Laina</td>\n",
       "      <td>female</td>\n",
       "      <td>26.0</td>\n",
       "      <td>0</td>\n",
       "      <td>0</td>\n",
       "      <td>STON/O2. 3101282</td>\n",
       "      <td>7.9250</td>\n",
       "      <td>NaN</td>\n",
       "      <td>S</td>\n",
       "      <td>Miss</td>\n",
       "    </tr>\n",
       "  </tbody>\n",
       "</table>\n",
       "</div>"
      ]
     },
     "execution_count": 14,
     "metadata": {},
     "output_type": "execute_result"
    }
   ],
   "execution_count": 14
  },
  {
   "cell_type": "code",
   "id": "81ee9814",
   "metadata": {
    "ExecuteTime": {
     "end_time": "2024-08-09T04:08:11.275883Z",
     "start_time": "2024-08-09T04:08:11.272582Z"
    }
   },
   "source": [
    "df = df_copy.copy()"
   ],
   "outputs": [],
   "execution_count": 15
  },
  {
   "attachments": {},
   "cell_type": "markdown",
   "id": "b47c38c3",
   "metadata": {},
   "source": [
    "#### ① 결측치 확인하기\n",
    "- **결측치 행 확인하기**"
   ]
  },
  {
   "cell_type": "code",
   "id": "6e966a6e",
   "metadata": {
    "scrolled": true,
    "ExecuteTime": {
     "end_time": "2024-08-09T04:08:13.776088Z",
     "start_time": "2024-08-09T04:08:13.767525Z"
    }
   },
   "source": [
    "df.isnull()"
   ],
   "outputs": [
    {
     "data": {
      "text/plain": [
       "     PassengerId  Survived  Pclass   Name    Sex    Age  SibSp  Parch  Ticket  \\\n",
       "0          False     False   False  False  False  False  False  False   False   \n",
       "1          False     False   False  False  False  False  False  False   False   \n",
       "2          False     False   False  False  False  False  False  False   False   \n",
       "3          False     False   False  False  False  False  False  False   False   \n",
       "4          False     False   False  False  False  False  False  False   False   \n",
       "..           ...       ...     ...    ...    ...    ...    ...    ...     ...   \n",
       "886        False     False   False  False  False  False  False  False   False   \n",
       "887        False     False   False  False  False  False  False  False   False   \n",
       "888        False     False   False  False  False   True  False  False   False   \n",
       "889        False     False   False  False  False  False  False  False   False   \n",
       "890        False     False   False  False  False  False  False  False   False   \n",
       "\n",
       "      Fare  Cabin  Embarked  Title  \n",
       "0    False   True     False  False  \n",
       "1    False  False     False  False  \n",
       "2    False   True     False  False  \n",
       "3    False  False     False  False  \n",
       "4    False   True     False  False  \n",
       "..     ...    ...       ...    ...  \n",
       "886  False   True     False  False  \n",
       "887  False  False     False  False  \n",
       "888  False   True     False  False  \n",
       "889  False  False     False  False  \n",
       "890  False   True     False  False  \n",
       "\n",
       "[891 rows x 13 columns]"
      ],
      "text/html": [
       "<div>\n",
       "<style scoped>\n",
       "    .dataframe tbody tr th:only-of-type {\n",
       "        vertical-align: middle;\n",
       "    }\n",
       "\n",
       "    .dataframe tbody tr th {\n",
       "        vertical-align: top;\n",
       "    }\n",
       "\n",
       "    .dataframe thead th {\n",
       "        text-align: right;\n",
       "    }\n",
       "</style>\n",
       "<table border=\"1\" class=\"dataframe\">\n",
       "  <thead>\n",
       "    <tr style=\"text-align: right;\">\n",
       "      <th></th>\n",
       "      <th>PassengerId</th>\n",
       "      <th>Survived</th>\n",
       "      <th>Pclass</th>\n",
       "      <th>Name</th>\n",
       "      <th>Sex</th>\n",
       "      <th>Age</th>\n",
       "      <th>SibSp</th>\n",
       "      <th>Parch</th>\n",
       "      <th>Ticket</th>\n",
       "      <th>Fare</th>\n",
       "      <th>Cabin</th>\n",
       "      <th>Embarked</th>\n",
       "      <th>Title</th>\n",
       "    </tr>\n",
       "  </thead>\n",
       "  <tbody>\n",
       "    <tr>\n",
       "      <th>0</th>\n",
       "      <td>False</td>\n",
       "      <td>False</td>\n",
       "      <td>False</td>\n",
       "      <td>False</td>\n",
       "      <td>False</td>\n",
       "      <td>False</td>\n",
       "      <td>False</td>\n",
       "      <td>False</td>\n",
       "      <td>False</td>\n",
       "      <td>False</td>\n",
       "      <td>True</td>\n",
       "      <td>False</td>\n",
       "      <td>False</td>\n",
       "    </tr>\n",
       "    <tr>\n",
       "      <th>1</th>\n",
       "      <td>False</td>\n",
       "      <td>False</td>\n",
       "      <td>False</td>\n",
       "      <td>False</td>\n",
       "      <td>False</td>\n",
       "      <td>False</td>\n",
       "      <td>False</td>\n",
       "      <td>False</td>\n",
       "      <td>False</td>\n",
       "      <td>False</td>\n",
       "      <td>False</td>\n",
       "      <td>False</td>\n",
       "      <td>False</td>\n",
       "    </tr>\n",
       "    <tr>\n",
       "      <th>2</th>\n",
       "      <td>False</td>\n",
       "      <td>False</td>\n",
       "      <td>False</td>\n",
       "      <td>False</td>\n",
       "      <td>False</td>\n",
       "      <td>False</td>\n",
       "      <td>False</td>\n",
       "      <td>False</td>\n",
       "      <td>False</td>\n",
       "      <td>False</td>\n",
       "      <td>True</td>\n",
       "      <td>False</td>\n",
       "      <td>False</td>\n",
       "    </tr>\n",
       "    <tr>\n",
       "      <th>3</th>\n",
       "      <td>False</td>\n",
       "      <td>False</td>\n",
       "      <td>False</td>\n",
       "      <td>False</td>\n",
       "      <td>False</td>\n",
       "      <td>False</td>\n",
       "      <td>False</td>\n",
       "      <td>False</td>\n",
       "      <td>False</td>\n",
       "      <td>False</td>\n",
       "      <td>False</td>\n",
       "      <td>False</td>\n",
       "      <td>False</td>\n",
       "    </tr>\n",
       "    <tr>\n",
       "      <th>4</th>\n",
       "      <td>False</td>\n",
       "      <td>False</td>\n",
       "      <td>False</td>\n",
       "      <td>False</td>\n",
       "      <td>False</td>\n",
       "      <td>False</td>\n",
       "      <td>False</td>\n",
       "      <td>False</td>\n",
       "      <td>False</td>\n",
       "      <td>False</td>\n",
       "      <td>True</td>\n",
       "      <td>False</td>\n",
       "      <td>False</td>\n",
       "    </tr>\n",
       "    <tr>\n",
       "      <th>...</th>\n",
       "      <td>...</td>\n",
       "      <td>...</td>\n",
       "      <td>...</td>\n",
       "      <td>...</td>\n",
       "      <td>...</td>\n",
       "      <td>...</td>\n",
       "      <td>...</td>\n",
       "      <td>...</td>\n",
       "      <td>...</td>\n",
       "      <td>...</td>\n",
       "      <td>...</td>\n",
       "      <td>...</td>\n",
       "      <td>...</td>\n",
       "    </tr>\n",
       "    <tr>\n",
       "      <th>886</th>\n",
       "      <td>False</td>\n",
       "      <td>False</td>\n",
       "      <td>False</td>\n",
       "      <td>False</td>\n",
       "      <td>False</td>\n",
       "      <td>False</td>\n",
       "      <td>False</td>\n",
       "      <td>False</td>\n",
       "      <td>False</td>\n",
       "      <td>False</td>\n",
       "      <td>True</td>\n",
       "      <td>False</td>\n",
       "      <td>False</td>\n",
       "    </tr>\n",
       "    <tr>\n",
       "      <th>887</th>\n",
       "      <td>False</td>\n",
       "      <td>False</td>\n",
       "      <td>False</td>\n",
       "      <td>False</td>\n",
       "      <td>False</td>\n",
       "      <td>False</td>\n",
       "      <td>False</td>\n",
       "      <td>False</td>\n",
       "      <td>False</td>\n",
       "      <td>False</td>\n",
       "      <td>False</td>\n",
       "      <td>False</td>\n",
       "      <td>False</td>\n",
       "    </tr>\n",
       "    <tr>\n",
       "      <th>888</th>\n",
       "      <td>False</td>\n",
       "      <td>False</td>\n",
       "      <td>False</td>\n",
       "      <td>False</td>\n",
       "      <td>False</td>\n",
       "      <td>True</td>\n",
       "      <td>False</td>\n",
       "      <td>False</td>\n",
       "      <td>False</td>\n",
       "      <td>False</td>\n",
       "      <td>True</td>\n",
       "      <td>False</td>\n",
       "      <td>False</td>\n",
       "    </tr>\n",
       "    <tr>\n",
       "      <th>889</th>\n",
       "      <td>False</td>\n",
       "      <td>False</td>\n",
       "      <td>False</td>\n",
       "      <td>False</td>\n",
       "      <td>False</td>\n",
       "      <td>False</td>\n",
       "      <td>False</td>\n",
       "      <td>False</td>\n",
       "      <td>False</td>\n",
       "      <td>False</td>\n",
       "      <td>False</td>\n",
       "      <td>False</td>\n",
       "      <td>False</td>\n",
       "    </tr>\n",
       "    <tr>\n",
       "      <th>890</th>\n",
       "      <td>False</td>\n",
       "      <td>False</td>\n",
       "      <td>False</td>\n",
       "      <td>False</td>\n",
       "      <td>False</td>\n",
       "      <td>False</td>\n",
       "      <td>False</td>\n",
       "      <td>False</td>\n",
       "      <td>False</td>\n",
       "      <td>False</td>\n",
       "      <td>True</td>\n",
       "      <td>False</td>\n",
       "      <td>False</td>\n",
       "    </tr>\n",
       "  </tbody>\n",
       "</table>\n",
       "<p>891 rows × 13 columns</p>\n",
       "</div>"
      ]
     },
     "execution_count": 16,
     "metadata": {},
     "output_type": "execute_result"
    }
   ],
   "execution_count": 16
  },
  {
   "attachments": {},
   "cell_type": "markdown",
   "id": "b3f61621",
   "metadata": {},
   "source": [
    "- **결측치 개수 확인하기**"
   ]
  },
  {
   "cell_type": "code",
   "id": "73d381de",
   "metadata": {
    "scrolled": true,
    "ExecuteTime": {
     "end_time": "2024-08-09T04:08:16.700431Z",
     "start_time": "2024-08-09T04:08:16.695350Z"
    }
   },
   "source": [
    "df.isnull().sum()"
   ],
   "outputs": [
    {
     "data": {
      "text/plain": [
       "PassengerId      0\n",
       "Survived         0\n",
       "Pclass           0\n",
       "Name             0\n",
       "Sex              0\n",
       "Age            177\n",
       "SibSp            0\n",
       "Parch            0\n",
       "Ticket           0\n",
       "Fare             0\n",
       "Cabin          687\n",
       "Embarked         2\n",
       "Title            0\n",
       "dtype: int64"
      ]
     },
     "execution_count": 17,
     "metadata": {},
     "output_type": "execute_result"
    }
   ],
   "execution_count": 17
  },
  {
   "attachments": {},
   "cell_type": "markdown",
   "id": "acde00ce",
   "metadata": {},
   "source": [
    "데이터셋에서 누락된 값(결측치)을 다른 값으로 대체하는 과정을 말합니다. <br>\n",
    "결측치를 채우는 방법은 데이터의 특성과 분석 목적에 따라 다양하게 선택될 수 있습니다. 일반적으로 사용되는 결측치 대체 방법은 다음과 같습니다. <br>\n",
    "\n",
    "1. 평균, 중앙값, 최빈값 등의 대표적인 통계량 사용\n",
    "2. 결측치 Imputer 활용하여 결측치를 대체하는 방법\n",
    "3. 도메인 지식 또는 전문가 지식 활용\n",
    "\n",
    "각각의 방법은 데이터의 특성과 분석 목적에 따라 선택됩니다. 데이터셋과 분석 환경을 고려하여 가장 적합한 방법을 선택하여 결측치를 처리할 수 있습니다.\n",
    "\n",
    "1. **통계량을 사용하여 결측치 채우기**\n",
    "    \n",
    "- **나이(Age) 컬럼을 호칭(Title) 컬럼을 기준으로 하여 그룹 별 나이의 중앙값으로 채워 주세요.**\n",
    "> 간단한 집계를 넘어서 조건부로 집계하고 싶은 경우, pandas의 ***groupby*** 함수를 활용할 수 있습니다.<br>\n",
    "> ***groupby*** 함수를 이용하면 키 값을 기준으로 그룹으로 묶을 수 있고, <br>묶은 그룹별로 ***연산(평균, 중간값 등)***이 가능합니다.<br> \n",
    "> 또, ***transform***을 사용하면 그룹별로 연산을 수행한 결과를 원본 데이터 프레임에 적용할 수 도 있습니다. "
   ]
  },
  {
   "cell_type": "code",
   "id": "ac1263d3",
   "metadata": {
    "scrolled": false,
    "ExecuteTime": {
     "end_time": "2024-08-09T04:18:10.118901Z",
     "start_time": "2024-08-09T04:18:10.111663Z"
    }
   },
   "source": [
    "# Age 컬럼의 Title 별 중앙값 확인하기\n",
    "df.groupby('Title')[['Age', 'Fare']].median()"
   ],
   "outputs": [
    {
     "data": {
      "text/plain": [
       "         Age      Fare\n",
       "Title                 \n",
       "Miss    21.0  15.62085\n",
       "Mr      30.0   9.35000\n",
       "Mrs     35.0  26.00000\n",
       "Others   9.0  29.12500"
      ],
      "text/html": [
       "<div>\n",
       "<style scoped>\n",
       "    .dataframe tbody tr th:only-of-type {\n",
       "        vertical-align: middle;\n",
       "    }\n",
       "\n",
       "    .dataframe tbody tr th {\n",
       "        vertical-align: top;\n",
       "    }\n",
       "\n",
       "    .dataframe thead th {\n",
       "        text-align: right;\n",
       "    }\n",
       "</style>\n",
       "<table border=\"1\" class=\"dataframe\">\n",
       "  <thead>\n",
       "    <tr style=\"text-align: right;\">\n",
       "      <th></th>\n",
       "      <th>Age</th>\n",
       "      <th>Fare</th>\n",
       "    </tr>\n",
       "    <tr>\n",
       "      <th>Title</th>\n",
       "      <th></th>\n",
       "      <th></th>\n",
       "    </tr>\n",
       "  </thead>\n",
       "  <tbody>\n",
       "    <tr>\n",
       "      <th>Miss</th>\n",
       "      <td>21.0</td>\n",
       "      <td>15.62085</td>\n",
       "    </tr>\n",
       "    <tr>\n",
       "      <th>Mr</th>\n",
       "      <td>30.0</td>\n",
       "      <td>9.35000</td>\n",
       "    </tr>\n",
       "    <tr>\n",
       "      <th>Mrs</th>\n",
       "      <td>35.0</td>\n",
       "      <td>26.00000</td>\n",
       "    </tr>\n",
       "    <tr>\n",
       "      <th>Others</th>\n",
       "      <td>9.0</td>\n",
       "      <td>29.12500</td>\n",
       "    </tr>\n",
       "  </tbody>\n",
       "</table>\n",
       "</div>"
      ]
     },
     "execution_count": 26,
     "metadata": {},
     "output_type": "execute_result"
    }
   ],
   "execution_count": 26
  },
  {
   "cell_type": "code",
   "id": "372b3b29",
   "metadata": {
    "scrolled": true,
    "ExecuteTime": {
     "end_time": "2024-08-09T04:19:00.269065Z",
     "start_time": "2024-08-09T04:19:00.264202Z"
    }
   },
   "source": [
    "# Age 결측치를 Title 별 중앙값으로 채우기\n",
    "df_simple = df.copy()\n",
    "\n",
    "df_simple['Age'] = df['Age'].fillna(df.groupby('Title')['Age'].transform('median'))"
   ],
   "outputs": [],
   "execution_count": 27
  },
  {
   "cell_type": "code",
   "id": "648de3d5",
   "metadata": {
    "ExecuteTime": {
     "end_time": "2024-08-09T04:19:04.267610Z",
     "start_time": "2024-08-09T04:19:04.262292Z"
    }
   },
   "source": [
    "df_simple.isnull().sum()"
   ],
   "outputs": [
    {
     "data": {
      "text/plain": [
       "PassengerId      0\n",
       "Survived         0\n",
       "Pclass           0\n",
       "Name             0\n",
       "Sex              0\n",
       "Age              0\n",
       "SibSp            0\n",
       "Parch            0\n",
       "Ticket           0\n",
       "Fare             0\n",
       "Cabin          687\n",
       "Embarked         2\n",
       "Title            0\n",
       "dtype: int64"
      ]
     },
     "execution_count": 28,
     "metadata": {},
     "output_type": "execute_result"
    }
   ],
   "execution_count": 28
  },
  {
   "attachments": {},
   "cell_type": "markdown",
   "id": "9d0ca5e3",
   "metadata": {},
   "source": [
    "**2. 결측치 Imputer 활용하여 결측치를 대체하는 방법**<br>\n",
    "sklearn.impute 모듈에서 다양한 결측치 imputer 클래스를 제공합니다. 이러한 imputer 클래스들은 결측치 대체를 위한 여러 가지 전략을 지원합니다. \n",
    "\n",
    "> - **'SimpleImputer'**: 결측치를 특정한 값(평균, 중앙값, 최빈값 등)으로 대체합니다. 주로 수치형 데이터에 사용됩니다.<br\n",
    "> - **'IterativeImputer'**: 다중 회귀(Multiple Regression)를 사용하여 결측치를 예측하여 대체합니다. 반복적으로 결측치를 예측하고 모델을 업데이트하여 대체합니다.<br>\n",
    "> - **'KNNImputer'**: K-최근접 이웃(K-Nearest Neighbors) 알고리즘을 사용하여 결측치를 예측하여 대체합니다. 주변 샘플들의 값을 기반으로 결측치를 추정합니다.<br>\n",
    "<img src=\"https://miro.medium.com/v2/resize:fit:720/format:webp/1*X87BpgaCcr4IYZqP8lxH0Q.png\" width=400>\n",
    "<div align=\"right\">Image by <a href=\"https://towardsdatascience.com/implementation-and-limitations-of-imputation-methods-b6576bf31a6c\">Implementation and Limitations of Imputation Methods</a></div>"
   ]
  },
  {
   "attachments": {},
   "cell_type": "markdown",
   "id": "7b1ca5a2",
   "metadata": {},
   "source": [
    "- **나이(Age) 컬럼의 결측치를 KNNImputer를 활용하여 대체해 주세요.**"
   ]
  },
  {
   "cell_type": "code",
   "id": "b025d48b",
   "metadata": {
    "ExecuteTime": {
     "end_time": "2024-08-09T04:19:11.500719Z",
     "start_time": "2024-08-09T04:19:11.497447Z"
    }
   },
   "source": [
    "df_imputer = df_copy.copy()"
   ],
   "outputs": [],
   "execution_count": 29
  },
  {
   "cell_type": "code",
   "id": "8c308588",
   "metadata": {
    "ExecuteTime": {
     "end_time": "2024-08-09T04:19:38.918275Z",
     "start_time": "2024-08-09T04:19:38.736831Z"
    }
   },
   "source": [
    "# Imputer 라이브러리 불러오기\n",
    "from sklearn.impute import KNNImputer\n",
    "\n",
    "# KNNImputer를 사용하여 결측치를 예측하여 대체\n",
    "imputer = KNNImputer(n_neighbors=3)\n",
    "df_imputer['Age'] = imputer.fit_transform(df[['Age']])\n",
    "\n",
    "# KNNImputer로 대체한 값의 결과가 소수점이 있을 수 있으니 정수로 변환\n",
    "df_imputer['Age'] = df_imputer['Age'].astype(int)"
   ],
   "outputs": [],
   "execution_count": 30
  },
  {
   "attachments": {},
   "cell_type": "markdown",
   "id": "e82dc1ff",
   "metadata": {},
   "source": [
    "- **원본 데이터와 각각의 결측치 처리한 결과를 비교해보세요.**"
   ]
  },
  {
   "cell_type": "code",
   "id": "40f4b4d3",
   "metadata": {
    "ExecuteTime": {
     "end_time": "2024-08-09T04:19:49.728016Z",
     "start_time": "2024-08-09T04:19:49.723775Z"
    }
   },
   "source": [
    "# 결측치를 처리한 결과 비교를 위해 데이터프레임에서 나이(Age)만 추출하여 데이터프레임을 합칩니다.\n",
    "df_age = pd.concat([df['Age'], df_simple['Age']], axis=1)\n",
    "df_age = pd.concat([df_age, df_imputer['Age']], axis=1)\n",
    "df_age.columns=['Orgin', 'Median', 'KNN']"
   ],
   "outputs": [],
   "execution_count": 31
  },
  {
   "cell_type": "code",
   "id": "6f76ea42",
   "metadata": {
    "scrolled": true,
    "ExecuteTime": {
     "end_time": "2024-08-09T04:19:56.037188Z",
     "start_time": "2024-08-09T04:19:56.028550Z"
    }
   },
   "source": [
    "# describe 함수를 활용하여 수학적 통계 비교\n",
    "df_age.describe()"
   ],
   "outputs": [
    {
     "data": {
      "text/plain": [
       "            Orgin      Median         KNN\n",
       "count  714.000000  891.000000  891.000000\n",
       "mean    29.699118   29.372806   29.544332\n",
       "std     14.526497   13.227346   13.013778\n",
       "min      0.420000    0.420000    0.000000\n",
       "25%     20.125000   21.000000   22.000000\n",
       "50%     28.000000   30.000000   29.000000\n",
       "75%     38.000000   35.000000   35.000000\n",
       "max     80.000000   80.000000   80.000000"
      ],
      "text/html": [
       "<div>\n",
       "<style scoped>\n",
       "    .dataframe tbody tr th:only-of-type {\n",
       "        vertical-align: middle;\n",
       "    }\n",
       "\n",
       "    .dataframe tbody tr th {\n",
       "        vertical-align: top;\n",
       "    }\n",
       "\n",
       "    .dataframe thead th {\n",
       "        text-align: right;\n",
       "    }\n",
       "</style>\n",
       "<table border=\"1\" class=\"dataframe\">\n",
       "  <thead>\n",
       "    <tr style=\"text-align: right;\">\n",
       "      <th></th>\n",
       "      <th>Orgin</th>\n",
       "      <th>Median</th>\n",
       "      <th>KNN</th>\n",
       "    </tr>\n",
       "  </thead>\n",
       "  <tbody>\n",
       "    <tr>\n",
       "      <th>count</th>\n",
       "      <td>714.000000</td>\n",
       "      <td>891.000000</td>\n",
       "      <td>891.000000</td>\n",
       "    </tr>\n",
       "    <tr>\n",
       "      <th>mean</th>\n",
       "      <td>29.699118</td>\n",
       "      <td>29.372806</td>\n",
       "      <td>29.544332</td>\n",
       "    </tr>\n",
       "    <tr>\n",
       "      <th>std</th>\n",
       "      <td>14.526497</td>\n",
       "      <td>13.227346</td>\n",
       "      <td>13.013778</td>\n",
       "    </tr>\n",
       "    <tr>\n",
       "      <th>min</th>\n",
       "      <td>0.420000</td>\n",
       "      <td>0.420000</td>\n",
       "      <td>0.000000</td>\n",
       "    </tr>\n",
       "    <tr>\n",
       "      <th>25%</th>\n",
       "      <td>20.125000</td>\n",
       "      <td>21.000000</td>\n",
       "      <td>22.000000</td>\n",
       "    </tr>\n",
       "    <tr>\n",
       "      <th>50%</th>\n",
       "      <td>28.000000</td>\n",
       "      <td>30.000000</td>\n",
       "      <td>29.000000</td>\n",
       "    </tr>\n",
       "    <tr>\n",
       "      <th>75%</th>\n",
       "      <td>38.000000</td>\n",
       "      <td>35.000000</td>\n",
       "      <td>35.000000</td>\n",
       "    </tr>\n",
       "    <tr>\n",
       "      <th>max</th>\n",
       "      <td>80.000000</td>\n",
       "      <td>80.000000</td>\n",
       "      <td>80.000000</td>\n",
       "    </tr>\n",
       "  </tbody>\n",
       "</table>\n",
       "</div>"
      ]
     },
     "execution_count": 32,
     "metadata": {},
     "output_type": "execute_result"
    }
   ],
   "execution_count": 32
  },
  {
   "attachments": {},
   "cell_type": "markdown",
   "id": "61df62cf",
   "metadata": {},
   "source": [
    "- **결측치 처리한 결과를 데이터프레임에 저장하고, df_copy(백업 데이터)도 업데이트 해주세요.**"
   ]
  },
  {
   "cell_type": "code",
   "id": "c3e5f66a",
   "metadata": {
    "ExecuteTime": {
     "end_time": "2024-08-09T05:35:24.522157Z",
     "start_time": "2024-08-09T05:35:24.518384Z"
    }
   },
   "source": "df_copy = df_imputer.copy()",
   "outputs": [],
   "execution_count": 44
  },
  {
   "attachments": {},
   "cell_type": "markdown",
   "id": "228489e8",
   "metadata": {},
   "source": [
    "---"
   ]
  },
  {
   "attachments": {},
   "cell_type": "markdown",
   "id": "b4e8186a",
   "metadata": {},
   "source": [
    "### <font color=\"red\"> [실습 문제]</font> "
   ]
  },
  {
   "attachments": {},
   "cell_type": "markdown",
   "id": "5833eb80",
   "metadata": {},
   "source": [
    "**<font color=red>[Q]</font> 'df' 데이터프레임에서 결측치를 확인해 보세요.**"
   ]
  },
  {
   "cell_type": "code",
   "id": "4e41f44c",
   "metadata": {
    "scrolled": false,
    "ExecuteTime": {
     "end_time": "2024-08-09T05:35:28.433128Z",
     "start_time": "2024-08-09T05:35:28.425593Z"
    }
   },
   "source": [
    "# 여기에 입력하세요.\n",
    "\n",
    "df.isnull()\n"
   ],
   "outputs": [
    {
     "data": {
      "text/plain": [
       "     PassengerId  Survived  Pclass   Name    Sex    Age  SibSp  Parch  Ticket  \\\n",
       "0          False     False   False  False  False  False  False  False   False   \n",
       "1          False     False   False  False  False  False  False  False   False   \n",
       "2          False     False   False  False  False  False  False  False   False   \n",
       "3          False     False   False  False  False  False  False  False   False   \n",
       "4          False     False   False  False  False  False  False  False   False   \n",
       "..           ...       ...     ...    ...    ...    ...    ...    ...     ...   \n",
       "886        False     False   False  False  False  False  False  False   False   \n",
       "887        False     False   False  False  False  False  False  False   False   \n",
       "888        False     False   False  False  False  False  False  False   False   \n",
       "889        False     False   False  False  False  False  False  False   False   \n",
       "890        False     False   False  False  False  False  False  False   False   \n",
       "\n",
       "      Fare  Cabin  Embarked  Title  \n",
       "0    False   True     False  False  \n",
       "1    False  False     False  False  \n",
       "2    False   True     False  False  \n",
       "3    False  False     False  False  \n",
       "4    False   True     False  False  \n",
       "..     ...    ...       ...    ...  \n",
       "886  False   True     False  False  \n",
       "887  False  False     False  False  \n",
       "888  False   True     False  False  \n",
       "889  False  False     False  False  \n",
       "890  False   True     False  False  \n",
       "\n",
       "[891 rows x 13 columns]"
      ],
      "text/html": [
       "<div>\n",
       "<style scoped>\n",
       "    .dataframe tbody tr th:only-of-type {\n",
       "        vertical-align: middle;\n",
       "    }\n",
       "\n",
       "    .dataframe tbody tr th {\n",
       "        vertical-align: top;\n",
       "    }\n",
       "\n",
       "    .dataframe thead th {\n",
       "        text-align: right;\n",
       "    }\n",
       "</style>\n",
       "<table border=\"1\" class=\"dataframe\">\n",
       "  <thead>\n",
       "    <tr style=\"text-align: right;\">\n",
       "      <th></th>\n",
       "      <th>PassengerId</th>\n",
       "      <th>Survived</th>\n",
       "      <th>Pclass</th>\n",
       "      <th>Name</th>\n",
       "      <th>Sex</th>\n",
       "      <th>Age</th>\n",
       "      <th>SibSp</th>\n",
       "      <th>Parch</th>\n",
       "      <th>Ticket</th>\n",
       "      <th>Fare</th>\n",
       "      <th>Cabin</th>\n",
       "      <th>Embarked</th>\n",
       "      <th>Title</th>\n",
       "    </tr>\n",
       "  </thead>\n",
       "  <tbody>\n",
       "    <tr>\n",
       "      <th>0</th>\n",
       "      <td>False</td>\n",
       "      <td>False</td>\n",
       "      <td>False</td>\n",
       "      <td>False</td>\n",
       "      <td>False</td>\n",
       "      <td>False</td>\n",
       "      <td>False</td>\n",
       "      <td>False</td>\n",
       "      <td>False</td>\n",
       "      <td>False</td>\n",
       "      <td>True</td>\n",
       "      <td>False</td>\n",
       "      <td>False</td>\n",
       "    </tr>\n",
       "    <tr>\n",
       "      <th>1</th>\n",
       "      <td>False</td>\n",
       "      <td>False</td>\n",
       "      <td>False</td>\n",
       "      <td>False</td>\n",
       "      <td>False</td>\n",
       "      <td>False</td>\n",
       "      <td>False</td>\n",
       "      <td>False</td>\n",
       "      <td>False</td>\n",
       "      <td>False</td>\n",
       "      <td>False</td>\n",
       "      <td>False</td>\n",
       "      <td>False</td>\n",
       "    </tr>\n",
       "    <tr>\n",
       "      <th>2</th>\n",
       "      <td>False</td>\n",
       "      <td>False</td>\n",
       "      <td>False</td>\n",
       "      <td>False</td>\n",
       "      <td>False</td>\n",
       "      <td>False</td>\n",
       "      <td>False</td>\n",
       "      <td>False</td>\n",
       "      <td>False</td>\n",
       "      <td>False</td>\n",
       "      <td>True</td>\n",
       "      <td>False</td>\n",
       "      <td>False</td>\n",
       "    </tr>\n",
       "    <tr>\n",
       "      <th>3</th>\n",
       "      <td>False</td>\n",
       "      <td>False</td>\n",
       "      <td>False</td>\n",
       "      <td>False</td>\n",
       "      <td>False</td>\n",
       "      <td>False</td>\n",
       "      <td>False</td>\n",
       "      <td>False</td>\n",
       "      <td>False</td>\n",
       "      <td>False</td>\n",
       "      <td>False</td>\n",
       "      <td>False</td>\n",
       "      <td>False</td>\n",
       "    </tr>\n",
       "    <tr>\n",
       "      <th>4</th>\n",
       "      <td>False</td>\n",
       "      <td>False</td>\n",
       "      <td>False</td>\n",
       "      <td>False</td>\n",
       "      <td>False</td>\n",
       "      <td>False</td>\n",
       "      <td>False</td>\n",
       "      <td>False</td>\n",
       "      <td>False</td>\n",
       "      <td>False</td>\n",
       "      <td>True</td>\n",
       "      <td>False</td>\n",
       "      <td>False</td>\n",
       "    </tr>\n",
       "    <tr>\n",
       "      <th>...</th>\n",
       "      <td>...</td>\n",
       "      <td>...</td>\n",
       "      <td>...</td>\n",
       "      <td>...</td>\n",
       "      <td>...</td>\n",
       "      <td>...</td>\n",
       "      <td>...</td>\n",
       "      <td>...</td>\n",
       "      <td>...</td>\n",
       "      <td>...</td>\n",
       "      <td>...</td>\n",
       "      <td>...</td>\n",
       "      <td>...</td>\n",
       "    </tr>\n",
       "    <tr>\n",
       "      <th>886</th>\n",
       "      <td>False</td>\n",
       "      <td>False</td>\n",
       "      <td>False</td>\n",
       "      <td>False</td>\n",
       "      <td>False</td>\n",
       "      <td>False</td>\n",
       "      <td>False</td>\n",
       "      <td>False</td>\n",
       "      <td>False</td>\n",
       "      <td>False</td>\n",
       "      <td>True</td>\n",
       "      <td>False</td>\n",
       "      <td>False</td>\n",
       "    </tr>\n",
       "    <tr>\n",
       "      <th>887</th>\n",
       "      <td>False</td>\n",
       "      <td>False</td>\n",
       "      <td>False</td>\n",
       "      <td>False</td>\n",
       "      <td>False</td>\n",
       "      <td>False</td>\n",
       "      <td>False</td>\n",
       "      <td>False</td>\n",
       "      <td>False</td>\n",
       "      <td>False</td>\n",
       "      <td>False</td>\n",
       "      <td>False</td>\n",
       "      <td>False</td>\n",
       "    </tr>\n",
       "    <tr>\n",
       "      <th>888</th>\n",
       "      <td>False</td>\n",
       "      <td>False</td>\n",
       "      <td>False</td>\n",
       "      <td>False</td>\n",
       "      <td>False</td>\n",
       "      <td>False</td>\n",
       "      <td>False</td>\n",
       "      <td>False</td>\n",
       "      <td>False</td>\n",
       "      <td>False</td>\n",
       "      <td>True</td>\n",
       "      <td>False</td>\n",
       "      <td>False</td>\n",
       "    </tr>\n",
       "    <tr>\n",
       "      <th>889</th>\n",
       "      <td>False</td>\n",
       "      <td>False</td>\n",
       "      <td>False</td>\n",
       "      <td>False</td>\n",
       "      <td>False</td>\n",
       "      <td>False</td>\n",
       "      <td>False</td>\n",
       "      <td>False</td>\n",
       "      <td>False</td>\n",
       "      <td>False</td>\n",
       "      <td>False</td>\n",
       "      <td>False</td>\n",
       "      <td>False</td>\n",
       "    </tr>\n",
       "    <tr>\n",
       "      <th>890</th>\n",
       "      <td>False</td>\n",
       "      <td>False</td>\n",
       "      <td>False</td>\n",
       "      <td>False</td>\n",
       "      <td>False</td>\n",
       "      <td>False</td>\n",
       "      <td>False</td>\n",
       "      <td>False</td>\n",
       "      <td>False</td>\n",
       "      <td>False</td>\n",
       "      <td>True</td>\n",
       "      <td>False</td>\n",
       "      <td>False</td>\n",
       "    </tr>\n",
       "  </tbody>\n",
       "</table>\n",
       "<p>891 rows × 13 columns</p>\n",
       "</div>"
      ]
     },
     "execution_count": 45,
     "metadata": {},
     "output_type": "execute_result"
    }
   ],
   "execution_count": 45
  },
  {
   "cell_type": "code",
   "id": "733adb32",
   "metadata": {
    "ExecuteTime": {
     "end_time": "2024-08-09T05:35:31.863426Z",
     "start_time": "2024-08-09T05:35:31.857808Z"
    }
   },
   "source": [
    "df.isnull().sum()"
   ],
   "outputs": [
    {
     "data": {
      "text/plain": [
       "PassengerId      0\n",
       "Survived         0\n",
       "Pclass           0\n",
       "Name             0\n",
       "Sex              0\n",
       "Age              0\n",
       "SibSp            0\n",
       "Parch            0\n",
       "Ticket           0\n",
       "Fare             0\n",
       "Cabin          687\n",
       "Embarked         2\n",
       "Title            0\n",
       "dtype: int64"
      ]
     },
     "execution_count": 46,
     "metadata": {},
     "output_type": "execute_result"
    }
   ],
   "execution_count": 46
  },
  {
   "attachments": {},
   "cell_type": "markdown",
   "id": "88095065",
   "metadata": {},
   "source": [
    "**<font color=red>[Q]</font> 컬럼 탑승항구(Embarked)의 결측치를 최빈값으로 채운 후 'df' 데이터프레임을 변경하세요.**\n",
    "\n",
    "    📌 Hint.\n",
    "> - 최빈값은 mode() 함수를 사용하거나, value_counts()를 활용하면 확인 가능합니다.\n",
    "> - pandas의 fillna()를 사용하거나 sklearn의 SimpleImputer를 사용할 수 있습니다.\n",
    "> - SimpleImputer 사용 시 최빈값은 strategy 옵션을 'most_frequent'로 지정할 수 있습니다."
   ]
  },
  {
   "cell_type": "code",
   "id": "30d28c40",
   "metadata": {
    "ExecuteTime": {
     "end_time": "2024-08-09T05:36:13.439018Z",
     "start_time": "2024-08-09T05:36:13.433358Z"
    }
   },
   "source": [
    "df = df_copy.copy()\n",
    "df['Embarked'].mode()"
   ],
   "outputs": [
    {
     "data": {
      "text/plain": [
       "0    S\n",
       "Name: Embarked, dtype: object"
      ]
     },
     "execution_count": 47,
     "metadata": {},
     "output_type": "execute_result"
    }
   ],
   "execution_count": 47
  },
  {
   "cell_type": "code",
   "id": "5613ff0e",
   "metadata": {
    "ExecuteTime": {
     "end_time": "2024-08-09T07:37:13.854571Z",
     "start_time": "2024-08-09T07:37:13.835678Z"
    }
   },
   "source": [
    "# 여기에 입력하세요.\n",
    "from sklearn.impute import SimpleImputer\n",
    "df = pd.read_csv(\"./data/train.csv\")\n",
    "\n",
    "# df = df_copy.copy()\n",
    "\n",
    "\n",
    "# df['Embarked'] = df['Embarked'].fillna(df['Embarked'].mode().var)\n",
    "simple_imputer = SimpleImputer(strategy='most_frequent')\n",
    "\n",
    "df['Embarked'] = simple_imputer.fit_transform(df[['Embarked']])[:,0]"
   ],
   "outputs": [],
   "execution_count": 67
  },
  {
   "cell_type": "code",
   "id": "209dcb83",
   "metadata": {
    "ExecuteTime": {
     "end_time": "2024-08-09T07:30:04.880859Z",
     "start_time": "2024-08-09T07:30:04.876831Z"
    }
   },
   "source": "df['Embarked'].isnull().sum()",
   "outputs": [
    {
     "data": {
      "text/plain": [
       "0"
      ]
     },
     "execution_count": 64,
     "metadata": {},
     "output_type": "execute_result"
    }
   ],
   "execution_count": 64
  },
  {
   "attachments": {},
   "cell_type": "markdown",
   "id": "585bdb84",
   "metadata": {},
   "source": [
    "**<font color=red>[Q]</font> 결측치가 남아있는 컬럼 중 해당 컬럼의 결측치 값이 전체 데이터(891개)의 50% 이상(445개보다 많은 경우)인 경우 해당 열을 삭제 후 'df' 데이터프레임을 변경하세요.**\n",
    "\n",
    "    📌 Hint.\n",
    "> - 결측치 제거는 pandas의 dropna()를 사용할 수 있습니다.\n",
    "> - thresh 옵션을 사용하면 임계값을 설정할 수 있습니다."
   ]
  },
  {
   "cell_type": "code",
   "id": "c5d05576",
   "metadata": {
    "ExecuteTime": {
     "end_time": "2024-08-09T07:47:02.637199Z",
     "start_time": "2024-08-09T07:47:02.623967Z"
    }
   },
   "source": [
    "df = df_copy.copy()\n",
    "\n",
    "df.dropna(thresh=445, axis=1, inplace=True)"
   ],
   "outputs": [],
   "execution_count": 68
  },
  {
   "cell_type": "code",
   "id": "279f4394",
   "metadata": {},
   "source": [
    "missing_ratio = df.isnull().sum() / len(df)\n",
    "\n",
    "missing_ratio"
   ],
   "outputs": [],
   "execution_count": null
  },
  {
   "cell_type": "code",
   "id": "fbe1a998",
   "metadata": {},
   "source": [
    "cols_to_drop = missing_ratio[missing_ratio > 0.5].index\n",
    "\n",
    "cols_to_drop"
   ],
   "outputs": [],
   "execution_count": null
  },
  {
   "cell_type": "code",
   "id": "813f2166",
   "metadata": {},
   "source": [
    "# 여기에 입력하세요.\n",
    "# 결측치 비율 계산\n",
    "missing_ratio = df.isnull().sum() / len(df)\n",
    "\n",
    "# 결측치 비율이 50% 이상인 컬럼 선택\n",
    "cols_to_drop = missing_ratio[missing_ratio > 0.5].index\n",
    "\n",
    "# 해당 컬럼 삭제\n",
    "df = df.drop(cols_to_drop, axis=1)\n"
   ],
   "outputs": [],
   "execution_count": null
  },
  {
   "cell_type": "code",
   "id": "62dc3d52",
   "metadata": {},
   "source": [
    "df.isnull().sum()"
   ],
   "outputs": [],
   "execution_count": null
  },
  {
   "attachments": {},
   "cell_type": "markdown",
   "id": "f22a7ddc",
   "metadata": {},
   "source": [
    "**<font color=red>[Q]</font> 승객의 Id, 이름, 티켓 번호와 같이 고유한 값들의 가진 불필요한 컬럼을 삭제해 주세요.**\n",
    "\n",
    "#### 🚨<font color=\"red\"> 고유한 값들의 컬럼을 삭제하는 이유</font>\n",
    ">**고유한 값들은 개별적인 식별자 정보로 머신러닝 모델에게 유용한 예측 패턴을 제공하지 않으며, <br>\n",
    ">오히려 과적합을 유발할 수 있으므로 삭제하여 모델의 일반화 성능을 향상시키고,<br>\n",
    ">불필요한 복잡성을 줄이기 위해 제거합니다.**\n",
    "\n",
    "    📌 Hint.\n",
    "> - 컬럼 제거는 pandas의 drop()을 사용할 수 있습니다.\n",
    "> - axis 옵션을 꼭 1로 하여 컬럼을 삭제하셔야 합니다."
   ]
  },
  {
   "cell_type": "code",
   "id": "032eaf1b",
   "metadata": {},
   "source": [
    "# 여기에 입력하세요.\n",
    "df = df.drop(['PassengerId', 'Name', 'Ticket'], axis=1)\n",
    "\n",
    "df"
   ],
   "outputs": [],
   "execution_count": null
  },
  {
   "attachments": {},
   "cell_type": "markdown",
   "id": "a83d3d9d",
   "metadata": {},
   "source": [
    "---"
   ]
  },
  {
   "attachments": {},
   "cell_type": "markdown",
   "id": "aa984e60",
   "metadata": {},
   "source": [
    "### 📥<font color=\"red\"> 다음 실습을 위해 가공이 완료된 데이터 'df'를 파일로 저장합니다.</font>\n",
    "\n",
    "- pandas의 to_csv 메소드를 사용하면 파일 저장할 수 있습니다. \n",
    "- [참고] 컬럼명에 한글이 있을 경우 저장 시 encoding 옵션을 'utf-8-sig'로 지정하여야 한글 깨짐을 방지할 수 있습니다."
   ]
  },
  {
   "cell_type": "code",
   "id": "48b841ac",
   "metadata": {},
   "source": [
    "df.to_csv(\"./data/train_preprocessing_1.csv\", encoding='utf-8', index=False)"
   ],
   "outputs": [],
   "execution_count": null
  },
  {
   "attachments": {},
   "cell_type": "markdown",
   "id": "503daa42",
   "metadata": {},
   "source": [
    "---"
   ]
  },
  {
   "attachments": {},
   "cell_type": "markdown",
   "id": "b70ee587",
   "metadata": {},
   "source": [
    "---"
   ]
  }
 ],
 "metadata": {
  "kernelspec": {
   "display_name": "Python 3 (ipykernel)",
   "language": "python",
   "name": "python3"
  },
  "language_info": {
   "codemirror_mode": {
    "name": "ipython",
    "version": 3
   },
   "file_extension": ".py",
   "mimetype": "text/x-python",
   "name": "python",
   "nbconvert_exporter": "python",
   "pygments_lexer": "ipython3",
   "version": "3.10.10"
  },
  "vscode": {
   "interpreter": {
    "hash": "f08154012ddadd8e950e6e9e035c7a7b32c136e7647e9b7c77e02eb723a8bedb"
   }
  }
 },
 "nbformat": 4,
 "nbformat_minor": 5
}
