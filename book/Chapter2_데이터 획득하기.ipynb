{
 "cells": [
  {
   "attachments": {},
   "cell_type": "markdown",
   "metadata": {},
   "source": [
    "# SECTION 01. 파이썬 데이터 분석 라이브러리 이용하기"
   ],
   "id": "e849eaf6f0d78a86"
  },
  {
   "attachments": {},
   "cell_type": "markdown",
   "metadata": {},
   "source": [
    "## 1. 넘파이 이용하기"
   ],
   "id": "f0b44440fe26a2d3"
  },
  {
   "cell_type": "code",
   "metadata": {
    "ExecuteTime": {
     "end_time": "2024-08-18T03:22:12.866573Z",
     "start_time": "2024-08-18T03:22:12.862250Z"
    }
   },
   "source": [
    "# 넘파이(Numpy)불러오기\n",
    "import numpy as np\n",
    "\n",
    "# 넘파이(Numpy) 데이터 만들기\n",
    "a = np.array([1,2,3,4,5])\n",
    "b = np.array(['대한민국', '포르투칼', '가나', '우르과이'])\n",
    "c = np.array([1,2,'대한민국', '포르투칼'])\n",
    "\n",
    "#출력하기\n",
    "print (a)\n",
    "print (b)\n",
    "print (c)"
   ],
   "id": "9f42077d107c03da",
   "outputs": [
    {
     "name": "stdout",
     "output_type": "stream",
     "text": [
      "[1 2 3 4 5]\n",
      "['대한민국' '포르투칼' '가나' '우르과이']\n",
      "['1' '2' '대한민국' '포르투칼']\n"
     ]
    }
   ],
   "execution_count": 11
  },
  {
   "attachments": {},
   "cell_type": "markdown",
   "metadata": {},
   "source": [
    "## 2. 판다스 이용하기"
   ],
   "id": "467dae134e905355"
  },
  {
   "cell_type": "code",
   "metadata": {
    "ExecuteTime": {
     "end_time": "2024-08-18T03:22:12.912558Z",
     "start_time": "2024-08-18T03:22:12.909039Z"
    }
   },
   "source": [
    "# 판다스(Pandas)불러오기\n",
    "import pandas as pd\n",
    "\n",
    "# 시리즈(Series)생성하기\n",
    "s=pd.Series(['대한민국','포르투칼','가나','우르과이'], index=['가','나','다','라'], name='2022년 카타르 월드컵 H조')\n",
    "\n",
    "# 출력하기\n",
    "print(s)"
   ],
   "id": "70558cf78d09cc7e",
   "outputs": [
    {
     "name": "stdout",
     "output_type": "stream",
     "text": [
      "가    대한민국\n",
      "나    포르투칼\n",
      "다      가나\n",
      "라    우르과이\n",
      "Name: 2022년 카타르 월드컵 H조, dtype: object\n"
     ]
    }
   ],
   "execution_count": 12
  },
  {
   "cell_type": "code",
   "metadata": {
    "ExecuteTime": {
     "end_time": "2024-08-18T03:22:12.931416Z",
     "start_time": "2024-08-18T03:22:12.925379Z"
    }
   },
   "source": [
    "#딕셔너리(Dictionary)형으로 데이터프레임(DataFrame) 생성하기\n",
    "a1 = pd.DataFrame({\"a\" : [1,2,3], \"b\" : [4,5,6], \"c\" : [7,8,9]})\n",
    "a1"
   ],
   "id": "f31f9c3896f75dce",
   "outputs": [
    {
     "data": {
      "text/plain": [
       "   a  b  c\n",
       "0  1  4  7\n",
       "1  2  5  8\n",
       "2  3  6  9"
      ],
      "text/html": [
       "<div>\n",
       "<style scoped>\n",
       "    .dataframe tbody tr th:only-of-type {\n",
       "        vertical-align: middle;\n",
       "    }\n",
       "\n",
       "    .dataframe tbody tr th {\n",
       "        vertical-align: top;\n",
       "    }\n",
       "\n",
       "    .dataframe thead th {\n",
       "        text-align: right;\n",
       "    }\n",
       "</style>\n",
       "<table border=\"1\" class=\"dataframe\">\n",
       "  <thead>\n",
       "    <tr style=\"text-align: right;\">\n",
       "      <th></th>\n",
       "      <th>a</th>\n",
       "      <th>b</th>\n",
       "      <th>c</th>\n",
       "    </tr>\n",
       "  </thead>\n",
       "  <tbody>\n",
       "    <tr>\n",
       "      <th>0</th>\n",
       "      <td>1</td>\n",
       "      <td>4</td>\n",
       "      <td>7</td>\n",
       "    </tr>\n",
       "    <tr>\n",
       "      <th>1</th>\n",
       "      <td>2</td>\n",
       "      <td>5</td>\n",
       "      <td>8</td>\n",
       "    </tr>\n",
       "    <tr>\n",
       "      <th>2</th>\n",
       "      <td>3</td>\n",
       "      <td>6</td>\n",
       "      <td>9</td>\n",
       "    </tr>\n",
       "  </tbody>\n",
       "</table>\n",
       "</div>"
      ]
     },
     "execution_count": 13,
     "metadata": {},
     "output_type": "execute_result"
    }
   ],
   "execution_count": 13
  },
  {
   "cell_type": "code",
   "metadata": {
    "ExecuteTime": {
     "end_time": "2024-08-18T03:22:12.937684Z",
     "start_time": "2024-08-18T03:22:12.932922Z"
    }
   },
   "source": [
    "# 리스트(LIST)형으로 데이터프레임(DataFrame) 생성하기\n",
    "a2 = pd.DataFrame([[1,2,3], [4,5,6], [7,8,9]], [\"a\",\"b\",\"c\"])\n",
    "a2"
   ],
   "id": "8269f83800277608",
   "outputs": [
    {
     "data": {
      "text/plain": [
       "   0  1  2\n",
       "a  1  2  3\n",
       "b  4  5  6\n",
       "c  7  8  9"
      ],
      "text/html": [
       "<div>\n",
       "<style scoped>\n",
       "    .dataframe tbody tr th:only-of-type {\n",
       "        vertical-align: middle;\n",
       "    }\n",
       "\n",
       "    .dataframe tbody tr th {\n",
       "        vertical-align: top;\n",
       "    }\n",
       "\n",
       "    .dataframe thead th {\n",
       "        text-align: right;\n",
       "    }\n",
       "</style>\n",
       "<table border=\"1\" class=\"dataframe\">\n",
       "  <thead>\n",
       "    <tr style=\"text-align: right;\">\n",
       "      <th></th>\n",
       "      <th>0</th>\n",
       "      <th>1</th>\n",
       "      <th>2</th>\n",
       "    </tr>\n",
       "  </thead>\n",
       "  <tbody>\n",
       "    <tr>\n",
       "      <th>a</th>\n",
       "      <td>1</td>\n",
       "      <td>2</td>\n",
       "      <td>3</td>\n",
       "    </tr>\n",
       "    <tr>\n",
       "      <th>b</th>\n",
       "      <td>4</td>\n",
       "      <td>5</td>\n",
       "      <td>6</td>\n",
       "    </tr>\n",
       "    <tr>\n",
       "      <th>c</th>\n",
       "      <td>7</td>\n",
       "      <td>8</td>\n",
       "      <td>9</td>\n",
       "    </tr>\n",
       "  </tbody>\n",
       "</table>\n",
       "</div>"
      ]
     },
     "execution_count": 14,
     "metadata": {},
     "output_type": "execute_result"
    }
   ],
   "execution_count": 14
  },
  {
   "cell_type": "code",
   "metadata": {
    "ExecuteTime": {
     "end_time": "2024-08-18T03:22:12.946034Z",
     "start_time": "2024-08-18T03:22:12.942632Z"
    }
   },
   "source": [
    "# 대/소문자 미 구분시 에러 메세지\n",
    "s=pd.Series(['대한민국','포르투칼','가나','우르과이'], index=['가','나','다','라'], name='2022년 카타르 월드컵 H조')\n",
    "print(s)"
   ],
   "id": "9ed4943e849c7a13",
   "outputs": [
    {
     "name": "stdout",
     "output_type": "stream",
     "text": [
      "가    대한민국\n",
      "나    포르투칼\n",
      "다      가나\n",
      "라    우르과이\n",
      "Name: 2022년 카타르 월드컵 H조, dtype: object\n"
     ]
    }
   ],
   "execution_count": 15
  },
  {
   "cell_type": "code",
   "metadata": {
    "ExecuteTime": {
     "end_time": "2024-08-18T03:22:12.984631Z",
     "start_time": "2024-08-18T03:22:12.980532Z"
    }
   },
   "source": [
    "# 대/소문자를 구별하지 않는 경우 에러 메세지\n",
    "a1 = pd.DataFrame({\"a\" : [1,2,3], \"b\" : [4,5,6], \"c\" : [7,8,9]})\n",
    "a1"
   ],
   "id": "87ca6fb8cad67835",
   "outputs": [
    {
     "data": {
      "text/plain": [
       "   a  b  c\n",
       "0  1  4  7\n",
       "1  2  5  8\n",
       "2  3  6  9"
      ],
      "text/html": [
       "<div>\n",
       "<style scoped>\n",
       "    .dataframe tbody tr th:only-of-type {\n",
       "        vertical-align: middle;\n",
       "    }\n",
       "\n",
       "    .dataframe tbody tr th {\n",
       "        vertical-align: top;\n",
       "    }\n",
       "\n",
       "    .dataframe thead th {\n",
       "        text-align: right;\n",
       "    }\n",
       "</style>\n",
       "<table border=\"1\" class=\"dataframe\">\n",
       "  <thead>\n",
       "    <tr style=\"text-align: right;\">\n",
       "      <th></th>\n",
       "      <th>a</th>\n",
       "      <th>b</th>\n",
       "      <th>c</th>\n",
       "    </tr>\n",
       "  </thead>\n",
       "  <tbody>\n",
       "    <tr>\n",
       "      <th>0</th>\n",
       "      <td>1</td>\n",
       "      <td>4</td>\n",
       "      <td>7</td>\n",
       "    </tr>\n",
       "    <tr>\n",
       "      <th>1</th>\n",
       "      <td>2</td>\n",
       "      <td>5</td>\n",
       "      <td>8</td>\n",
       "    </tr>\n",
       "    <tr>\n",
       "      <th>2</th>\n",
       "      <td>3</td>\n",
       "      <td>6</td>\n",
       "      <td>9</td>\n",
       "    </tr>\n",
       "  </tbody>\n",
       "</table>\n",
       "</div>"
      ]
     },
     "execution_count": 16,
     "metadata": {},
     "output_type": "execute_result"
    }
   ],
   "execution_count": 16
  },
  {
   "attachments": {},
   "cell_type": "markdown",
   "metadata": {},
   "source": [
    "# SECTION 02. 데이터 불러오기"
   ],
   "id": "69952b48059aa962"
  },
  {
   "cell_type": "code",
   "metadata": {
    "ExecuteTime": {
     "end_time": "2024-08-18T03:22:13.271979Z",
     "start_time": "2024-08-18T03:22:12.996075Z"
    }
   },
   "source": [
    "# 넘파이(Numpy), 판다스(pandas)불러오기\n",
    "import pandas as pd\n",
    "import numpy as np\n",
    "\n",
    "#read_csv 함수 사용하여 데이터 불러오기\n",
    "flight = pd.read_csv('./dataset/Clean_Dataset.csv', encoding = \"cp949\")\n",
    "flight"
   ],
   "id": "f040a817dac6f636",
   "outputs": [
    {
     "data": {
      "text/plain": [
       "        Unnamed: 0   airline   flight source_city departure_time stops  \\\n",
       "0                0  SpiceJet  SG-8709       Delhi        Evening  zero   \n",
       "1                1  SpiceJet  SG-8157       Delhi  Early_Morning  zero   \n",
       "2                2   AirAsia   I5-764       Delhi  Early_Morning  zero   \n",
       "3                3   Vistara   UK-995       Delhi        Morning  zero   \n",
       "4                4   Vistara   UK-963       Delhi        Morning  zero   \n",
       "...            ...       ...      ...         ...            ...   ...   \n",
       "300148      300148   Vistara   UK-822     Chennai        Morning   one   \n",
       "300149      300149   Vistara   UK-826     Chennai      Afternoon   one   \n",
       "300150      300150   Vistara   UK-832     Chennai  Early_Morning   one   \n",
       "300151      300151   Vistara   UK-828     Chennai  Early_Morning   one   \n",
       "300152      300152   Vistara   UK-822     Chennai        Morning   one   \n",
       "\n",
       "         arrival_time destination_city     class  duration  days_left  price  \n",
       "0               Night           Mumbai   Economy      2.17          1   5953  \n",
       "1             Morning           Mumbai   Economy      2.33          1   5953  \n",
       "2       Early_Morning           Mumbai   Economy      2.17          1   5956  \n",
       "3           Afternoon           Mumbai   Economy      2.25          1   5955  \n",
       "4             Morning           Mumbai   Economy      2.33          1   5955  \n",
       "...               ...              ...       ...       ...        ...    ...  \n",
       "300148        Evening        Hyderabad  Business     10.08         49  69265  \n",
       "300149          Night        Hyderabad  Business     10.42         49  77105  \n",
       "300150          Night        Hyderabad  Business     13.83         49  79099  \n",
       "300151        Evening        Hyderabad  Business     10.00         49  81585  \n",
       "300152        Evening        Hyderabad  Business     10.08         49  81585  \n",
       "\n",
       "[300153 rows x 12 columns]"
      ],
      "text/html": [
       "<div>\n",
       "<style scoped>\n",
       "    .dataframe tbody tr th:only-of-type {\n",
       "        vertical-align: middle;\n",
       "    }\n",
       "\n",
       "    .dataframe tbody tr th {\n",
       "        vertical-align: top;\n",
       "    }\n",
       "\n",
       "    .dataframe thead th {\n",
       "        text-align: right;\n",
       "    }\n",
       "</style>\n",
       "<table border=\"1\" class=\"dataframe\">\n",
       "  <thead>\n",
       "    <tr style=\"text-align: right;\">\n",
       "      <th></th>\n",
       "      <th>Unnamed: 0</th>\n",
       "      <th>airline</th>\n",
       "      <th>flight</th>\n",
       "      <th>source_city</th>\n",
       "      <th>departure_time</th>\n",
       "      <th>stops</th>\n",
       "      <th>arrival_time</th>\n",
       "      <th>destination_city</th>\n",
       "      <th>class</th>\n",
       "      <th>duration</th>\n",
       "      <th>days_left</th>\n",
       "      <th>price</th>\n",
       "    </tr>\n",
       "  </thead>\n",
       "  <tbody>\n",
       "    <tr>\n",
       "      <th>0</th>\n",
       "      <td>0</td>\n",
       "      <td>SpiceJet</td>\n",
       "      <td>SG-8709</td>\n",
       "      <td>Delhi</td>\n",
       "      <td>Evening</td>\n",
       "      <td>zero</td>\n",
       "      <td>Night</td>\n",
       "      <td>Mumbai</td>\n",
       "      <td>Economy</td>\n",
       "      <td>2.17</td>\n",
       "      <td>1</td>\n",
       "      <td>5953</td>\n",
       "    </tr>\n",
       "    <tr>\n",
       "      <th>1</th>\n",
       "      <td>1</td>\n",
       "      <td>SpiceJet</td>\n",
       "      <td>SG-8157</td>\n",
       "      <td>Delhi</td>\n",
       "      <td>Early_Morning</td>\n",
       "      <td>zero</td>\n",
       "      <td>Morning</td>\n",
       "      <td>Mumbai</td>\n",
       "      <td>Economy</td>\n",
       "      <td>2.33</td>\n",
       "      <td>1</td>\n",
       "      <td>5953</td>\n",
       "    </tr>\n",
       "    <tr>\n",
       "      <th>2</th>\n",
       "      <td>2</td>\n",
       "      <td>AirAsia</td>\n",
       "      <td>I5-764</td>\n",
       "      <td>Delhi</td>\n",
       "      <td>Early_Morning</td>\n",
       "      <td>zero</td>\n",
       "      <td>Early_Morning</td>\n",
       "      <td>Mumbai</td>\n",
       "      <td>Economy</td>\n",
       "      <td>2.17</td>\n",
       "      <td>1</td>\n",
       "      <td>5956</td>\n",
       "    </tr>\n",
       "    <tr>\n",
       "      <th>3</th>\n",
       "      <td>3</td>\n",
       "      <td>Vistara</td>\n",
       "      <td>UK-995</td>\n",
       "      <td>Delhi</td>\n",
       "      <td>Morning</td>\n",
       "      <td>zero</td>\n",
       "      <td>Afternoon</td>\n",
       "      <td>Mumbai</td>\n",
       "      <td>Economy</td>\n",
       "      <td>2.25</td>\n",
       "      <td>1</td>\n",
       "      <td>5955</td>\n",
       "    </tr>\n",
       "    <tr>\n",
       "      <th>4</th>\n",
       "      <td>4</td>\n",
       "      <td>Vistara</td>\n",
       "      <td>UK-963</td>\n",
       "      <td>Delhi</td>\n",
       "      <td>Morning</td>\n",
       "      <td>zero</td>\n",
       "      <td>Morning</td>\n",
       "      <td>Mumbai</td>\n",
       "      <td>Economy</td>\n",
       "      <td>2.33</td>\n",
       "      <td>1</td>\n",
       "      <td>5955</td>\n",
       "    </tr>\n",
       "    <tr>\n",
       "      <th>...</th>\n",
       "      <td>...</td>\n",
       "      <td>...</td>\n",
       "      <td>...</td>\n",
       "      <td>...</td>\n",
       "      <td>...</td>\n",
       "      <td>...</td>\n",
       "      <td>...</td>\n",
       "      <td>...</td>\n",
       "      <td>...</td>\n",
       "      <td>...</td>\n",
       "      <td>...</td>\n",
       "      <td>...</td>\n",
       "    </tr>\n",
       "    <tr>\n",
       "      <th>300148</th>\n",
       "      <td>300148</td>\n",
       "      <td>Vistara</td>\n",
       "      <td>UK-822</td>\n",
       "      <td>Chennai</td>\n",
       "      <td>Morning</td>\n",
       "      <td>one</td>\n",
       "      <td>Evening</td>\n",
       "      <td>Hyderabad</td>\n",
       "      <td>Business</td>\n",
       "      <td>10.08</td>\n",
       "      <td>49</td>\n",
       "      <td>69265</td>\n",
       "    </tr>\n",
       "    <tr>\n",
       "      <th>300149</th>\n",
       "      <td>300149</td>\n",
       "      <td>Vistara</td>\n",
       "      <td>UK-826</td>\n",
       "      <td>Chennai</td>\n",
       "      <td>Afternoon</td>\n",
       "      <td>one</td>\n",
       "      <td>Night</td>\n",
       "      <td>Hyderabad</td>\n",
       "      <td>Business</td>\n",
       "      <td>10.42</td>\n",
       "      <td>49</td>\n",
       "      <td>77105</td>\n",
       "    </tr>\n",
       "    <tr>\n",
       "      <th>300150</th>\n",
       "      <td>300150</td>\n",
       "      <td>Vistara</td>\n",
       "      <td>UK-832</td>\n",
       "      <td>Chennai</td>\n",
       "      <td>Early_Morning</td>\n",
       "      <td>one</td>\n",
       "      <td>Night</td>\n",
       "      <td>Hyderabad</td>\n",
       "      <td>Business</td>\n",
       "      <td>13.83</td>\n",
       "      <td>49</td>\n",
       "      <td>79099</td>\n",
       "    </tr>\n",
       "    <tr>\n",
       "      <th>300151</th>\n",
       "      <td>300151</td>\n",
       "      <td>Vistara</td>\n",
       "      <td>UK-828</td>\n",
       "      <td>Chennai</td>\n",
       "      <td>Early_Morning</td>\n",
       "      <td>one</td>\n",
       "      <td>Evening</td>\n",
       "      <td>Hyderabad</td>\n",
       "      <td>Business</td>\n",
       "      <td>10.00</td>\n",
       "      <td>49</td>\n",
       "      <td>81585</td>\n",
       "    </tr>\n",
       "    <tr>\n",
       "      <th>300152</th>\n",
       "      <td>300152</td>\n",
       "      <td>Vistara</td>\n",
       "      <td>UK-822</td>\n",
       "      <td>Chennai</td>\n",
       "      <td>Morning</td>\n",
       "      <td>one</td>\n",
       "      <td>Evening</td>\n",
       "      <td>Hyderabad</td>\n",
       "      <td>Business</td>\n",
       "      <td>10.08</td>\n",
       "      <td>49</td>\n",
       "      <td>81585</td>\n",
       "    </tr>\n",
       "  </tbody>\n",
       "</table>\n",
       "<p>300153 rows × 12 columns</p>\n",
       "</div>"
      ]
     },
     "execution_count": 17,
     "metadata": {},
     "output_type": "execute_result"
    }
   ],
   "execution_count": 17
  },
  {
   "attachments": {},
   "cell_type": "markdown",
   "metadata": {},
   "source": [
    "# SECTION 03. 데이터 저장하기"
   ],
   "id": "6f92ac23182bc050"
  },
  {
   "cell_type": "code",
   "metadata": {
    "ExecuteTime": {
     "end_time": "2024-08-18T03:22:13.278139Z",
     "start_time": "2024-08-18T03:22:13.273189Z"
    }
   },
   "source": [
    "# a2 데이터프레임 만들기\n",
    "a2 = pd.DataFrame([[1,2,3], [4,5,6], [7,8,9]], ['a','b','c'])\n",
    "a2"
   ],
   "id": "f07c235b5a2ef57f",
   "outputs": [
    {
     "data": {
      "text/plain": [
       "   0  1  2\n",
       "a  1  2  3\n",
       "b  4  5  6\n",
       "c  7  8  9"
      ],
      "text/html": [
       "<div>\n",
       "<style scoped>\n",
       "    .dataframe tbody tr th:only-of-type {\n",
       "        vertical-align: middle;\n",
       "    }\n",
       "\n",
       "    .dataframe tbody tr th {\n",
       "        vertical-align: top;\n",
       "    }\n",
       "\n",
       "    .dataframe thead th {\n",
       "        text-align: right;\n",
       "    }\n",
       "</style>\n",
       "<table border=\"1\" class=\"dataframe\">\n",
       "  <thead>\n",
       "    <tr style=\"text-align: right;\">\n",
       "      <th></th>\n",
       "      <th>0</th>\n",
       "      <th>1</th>\n",
       "      <th>2</th>\n",
       "    </tr>\n",
       "  </thead>\n",
       "  <tbody>\n",
       "    <tr>\n",
       "      <th>a</th>\n",
       "      <td>1</td>\n",
       "      <td>2</td>\n",
       "      <td>3</td>\n",
       "    </tr>\n",
       "    <tr>\n",
       "      <th>b</th>\n",
       "      <td>4</td>\n",
       "      <td>5</td>\n",
       "      <td>6</td>\n",
       "    </tr>\n",
       "    <tr>\n",
       "      <th>c</th>\n",
       "      <td>7</td>\n",
       "      <td>8</td>\n",
       "      <td>9</td>\n",
       "    </tr>\n",
       "  </tbody>\n",
       "</table>\n",
       "</div>"
      ]
     },
     "execution_count": 18,
     "metadata": {},
     "output_type": "execute_result"
    }
   ],
   "execution_count": 18
  },
  {
   "cell_type": "code",
   "metadata": {
    "ExecuteTime": {
     "end_time": "2024-08-18T03:22:13.283020Z",
     "start_time": "2024-08-18T03:22:13.279589Z"
    }
   },
   "source": [
    "# to_csv함수 활용하여 저장하기\n",
    "a2.to_csv('./dataset/result_a2.csv')"
   ],
   "id": "b8e91ca09ee2445e",
   "outputs": [],
   "execution_count": 19
  },
  {
   "cell_type": "code",
   "metadata": {
    "ExecuteTime": {
     "end_time": "2024-08-18T03:22:13.290583Z",
     "start_time": "2024-08-18T03:22:13.285235Z"
    }
   },
   "source": [
    "# result_a2.csv을 불러오기\n",
    "result = pd.read_csv('./dataset/result_a2.csv', encoding = \"cp949\")\n",
    "result"
   ],
   "id": "209b4cb894c71eaf",
   "outputs": [
    {
     "data": {
      "text/plain": [
       "  Unnamed: 0  0  1  2\n",
       "0          a  1  2  3\n",
       "1          b  4  5  6\n",
       "2          c  7  8  9"
      ],
      "text/html": [
       "<div>\n",
       "<style scoped>\n",
       "    .dataframe tbody tr th:only-of-type {\n",
       "        vertical-align: middle;\n",
       "    }\n",
       "\n",
       "    .dataframe tbody tr th {\n",
       "        vertical-align: top;\n",
       "    }\n",
       "\n",
       "    .dataframe thead th {\n",
       "        text-align: right;\n",
       "    }\n",
       "</style>\n",
       "<table border=\"1\" class=\"dataframe\">\n",
       "  <thead>\n",
       "    <tr style=\"text-align: right;\">\n",
       "      <th></th>\n",
       "      <th>Unnamed: 0</th>\n",
       "      <th>0</th>\n",
       "      <th>1</th>\n",
       "      <th>2</th>\n",
       "    </tr>\n",
       "  </thead>\n",
       "  <tbody>\n",
       "    <tr>\n",
       "      <th>0</th>\n",
       "      <td>a</td>\n",
       "      <td>1</td>\n",
       "      <td>2</td>\n",
       "      <td>3</td>\n",
       "    </tr>\n",
       "    <tr>\n",
       "      <th>1</th>\n",
       "      <td>b</td>\n",
       "      <td>4</td>\n",
       "      <td>5</td>\n",
       "      <td>6</td>\n",
       "    </tr>\n",
       "    <tr>\n",
       "      <th>2</th>\n",
       "      <td>c</td>\n",
       "      <td>7</td>\n",
       "      <td>8</td>\n",
       "      <td>9</td>\n",
       "    </tr>\n",
       "  </tbody>\n",
       "</table>\n",
       "</div>"
      ]
     },
     "execution_count": 20,
     "metadata": {},
     "output_type": "execute_result"
    }
   ],
   "execution_count": 20
  },
  {
   "cell_type": "code",
   "metadata": {
    "ExecuteTime": {
     "end_time": "2024-08-18T03:22:13.442050Z",
     "start_time": "2024-08-18T03:22:13.291593Z"
    }
   },
   "source": [
    "# read_csv 함수의 파라미터를 활용하여 원하는 칼럼만 가지고 데이터 프레임 만들기 \n",
    "flight2 = pd.read_csv('./dataset/Clean_Dataset.csv', index_col='stops', usecols=['stops', 'departure_time','arrival_time','destination_city'])\n",
    "flight2"
   ],
   "id": "75961ca440ada65f",
   "outputs": [
    {
     "data": {
      "text/plain": [
       "      departure_time   arrival_time destination_city\n",
       "stops                                               \n",
       "zero         Evening          Night           Mumbai\n",
       "zero   Early_Morning        Morning           Mumbai\n",
       "zero   Early_Morning  Early_Morning           Mumbai\n",
       "zero         Morning      Afternoon           Mumbai\n",
       "zero         Morning        Morning           Mumbai\n",
       "...              ...            ...              ...\n",
       "one          Morning        Evening        Hyderabad\n",
       "one        Afternoon          Night        Hyderabad\n",
       "one    Early_Morning          Night        Hyderabad\n",
       "one    Early_Morning        Evening        Hyderabad\n",
       "one          Morning        Evening        Hyderabad\n",
       "\n",
       "[300153 rows x 3 columns]"
      ],
      "text/html": [
       "<div>\n",
       "<style scoped>\n",
       "    .dataframe tbody tr th:only-of-type {\n",
       "        vertical-align: middle;\n",
       "    }\n",
       "\n",
       "    .dataframe tbody tr th {\n",
       "        vertical-align: top;\n",
       "    }\n",
       "\n",
       "    .dataframe thead th {\n",
       "        text-align: right;\n",
       "    }\n",
       "</style>\n",
       "<table border=\"1\" class=\"dataframe\">\n",
       "  <thead>\n",
       "    <tr style=\"text-align: right;\">\n",
       "      <th></th>\n",
       "      <th>departure_time</th>\n",
       "      <th>arrival_time</th>\n",
       "      <th>destination_city</th>\n",
       "    </tr>\n",
       "    <tr>\n",
       "      <th>stops</th>\n",
       "      <th></th>\n",
       "      <th></th>\n",
       "      <th></th>\n",
       "    </tr>\n",
       "  </thead>\n",
       "  <tbody>\n",
       "    <tr>\n",
       "      <th>zero</th>\n",
       "      <td>Evening</td>\n",
       "      <td>Night</td>\n",
       "      <td>Mumbai</td>\n",
       "    </tr>\n",
       "    <tr>\n",
       "      <th>zero</th>\n",
       "      <td>Early_Morning</td>\n",
       "      <td>Morning</td>\n",
       "      <td>Mumbai</td>\n",
       "    </tr>\n",
       "    <tr>\n",
       "      <th>zero</th>\n",
       "      <td>Early_Morning</td>\n",
       "      <td>Early_Morning</td>\n",
       "      <td>Mumbai</td>\n",
       "    </tr>\n",
       "    <tr>\n",
       "      <th>zero</th>\n",
       "      <td>Morning</td>\n",
       "      <td>Afternoon</td>\n",
       "      <td>Mumbai</td>\n",
       "    </tr>\n",
       "    <tr>\n",
       "      <th>zero</th>\n",
       "      <td>Morning</td>\n",
       "      <td>Morning</td>\n",
       "      <td>Mumbai</td>\n",
       "    </tr>\n",
       "    <tr>\n",
       "      <th>...</th>\n",
       "      <td>...</td>\n",
       "      <td>...</td>\n",
       "      <td>...</td>\n",
       "    </tr>\n",
       "    <tr>\n",
       "      <th>one</th>\n",
       "      <td>Morning</td>\n",
       "      <td>Evening</td>\n",
       "      <td>Hyderabad</td>\n",
       "    </tr>\n",
       "    <tr>\n",
       "      <th>one</th>\n",
       "      <td>Afternoon</td>\n",
       "      <td>Night</td>\n",
       "      <td>Hyderabad</td>\n",
       "    </tr>\n",
       "    <tr>\n",
       "      <th>one</th>\n",
       "      <td>Early_Morning</td>\n",
       "      <td>Night</td>\n",
       "      <td>Hyderabad</td>\n",
       "    </tr>\n",
       "    <tr>\n",
       "      <th>one</th>\n",
       "      <td>Early_Morning</td>\n",
       "      <td>Evening</td>\n",
       "      <td>Hyderabad</td>\n",
       "    </tr>\n",
       "    <tr>\n",
       "      <th>one</th>\n",
       "      <td>Morning</td>\n",
       "      <td>Evening</td>\n",
       "      <td>Hyderabad</td>\n",
       "    </tr>\n",
       "  </tbody>\n",
       "</table>\n",
       "<p>300153 rows × 3 columns</p>\n",
       "</div>"
      ]
     },
     "execution_count": 21,
     "metadata": {},
     "output_type": "execute_result"
    }
   ],
   "execution_count": 21
  },
  {
   "cell_type": "code",
   "metadata": {
    "ExecuteTime": {
     "end_time": "2024-08-18T03:22:13.503200Z",
     "start_time": "2024-08-18T03:22:13.443172Z"
    }
   },
   "source": [
    "# crosstab 확인 하기\n",
    "pd.crosstab(index=flight.source_city, columns=flight.arrival_time)"
   ],
   "id": "33dc0ce600fd4b1b",
   "outputs": [
    {
     "data": {
      "text/plain": [
       "arrival_time  Afternoon  Early_Morning  Evening  Late_Night  Morning  Night\n",
       "source_city                                                                \n",
       "Bangalore          6992           3154    14493        2673    10411  14338\n",
       "Chennai            5152           1606    10830        1999     7106  12007\n",
       "Delhi              8007           5262    14630        2143    13007  18294\n",
       "Hyderabad          4816           1581    10539        2092     8854  12924\n",
       "Kolkata            5941           2156    11304        2414     9595  14937\n",
       "Mumbai             7231           1658    16527        2680    13762  19038"
      ],
      "text/html": [
       "<div>\n",
       "<style scoped>\n",
       "    .dataframe tbody tr th:only-of-type {\n",
       "        vertical-align: middle;\n",
       "    }\n",
       "\n",
       "    .dataframe tbody tr th {\n",
       "        vertical-align: top;\n",
       "    }\n",
       "\n",
       "    .dataframe thead th {\n",
       "        text-align: right;\n",
       "    }\n",
       "</style>\n",
       "<table border=\"1\" class=\"dataframe\">\n",
       "  <thead>\n",
       "    <tr style=\"text-align: right;\">\n",
       "      <th>arrival_time</th>\n",
       "      <th>Afternoon</th>\n",
       "      <th>Early_Morning</th>\n",
       "      <th>Evening</th>\n",
       "      <th>Late_Night</th>\n",
       "      <th>Morning</th>\n",
       "      <th>Night</th>\n",
       "    </tr>\n",
       "    <tr>\n",
       "      <th>source_city</th>\n",
       "      <th></th>\n",
       "      <th></th>\n",
       "      <th></th>\n",
       "      <th></th>\n",
       "      <th></th>\n",
       "      <th></th>\n",
       "    </tr>\n",
       "  </thead>\n",
       "  <tbody>\n",
       "    <tr>\n",
       "      <th>Bangalore</th>\n",
       "      <td>6992</td>\n",
       "      <td>3154</td>\n",
       "      <td>14493</td>\n",
       "      <td>2673</td>\n",
       "      <td>10411</td>\n",
       "      <td>14338</td>\n",
       "    </tr>\n",
       "    <tr>\n",
       "      <th>Chennai</th>\n",
       "      <td>5152</td>\n",
       "      <td>1606</td>\n",
       "      <td>10830</td>\n",
       "      <td>1999</td>\n",
       "      <td>7106</td>\n",
       "      <td>12007</td>\n",
       "    </tr>\n",
       "    <tr>\n",
       "      <th>Delhi</th>\n",
       "      <td>8007</td>\n",
       "      <td>5262</td>\n",
       "      <td>14630</td>\n",
       "      <td>2143</td>\n",
       "      <td>13007</td>\n",
       "      <td>18294</td>\n",
       "    </tr>\n",
       "    <tr>\n",
       "      <th>Hyderabad</th>\n",
       "      <td>4816</td>\n",
       "      <td>1581</td>\n",
       "      <td>10539</td>\n",
       "      <td>2092</td>\n",
       "      <td>8854</td>\n",
       "      <td>12924</td>\n",
       "    </tr>\n",
       "    <tr>\n",
       "      <th>Kolkata</th>\n",
       "      <td>5941</td>\n",
       "      <td>2156</td>\n",
       "      <td>11304</td>\n",
       "      <td>2414</td>\n",
       "      <td>9595</td>\n",
       "      <td>14937</td>\n",
       "    </tr>\n",
       "    <tr>\n",
       "      <th>Mumbai</th>\n",
       "      <td>7231</td>\n",
       "      <td>1658</td>\n",
       "      <td>16527</td>\n",
       "      <td>2680</td>\n",
       "      <td>13762</td>\n",
       "      <td>19038</td>\n",
       "    </tr>\n",
       "  </tbody>\n",
       "</table>\n",
       "</div>"
      ]
     },
     "execution_count": 22,
     "metadata": {},
     "output_type": "execute_result"
    }
   ],
   "execution_count": 22
  }
 ],
 "metadata": {
  "hide_input": false,
  "kernelspec": {
   "display_name": "Python 3",
   "language": "python",
   "name": "python3"
  },
  "language_info": {
   "codemirror_mode": {
    "name": "ipython",
    "version": 3
   },
   "file_extension": ".py",
   "mimetype": "text/x-python",
   "name": "python",
   "nbconvert_exporter": "python",
   "pygments_lexer": "ipython3",
   "version": "3.8.5"
  },
  "toc": {
   "base_numbering": 1,
   "nav_menu": {},
   "number_sections": true,
   "sideBar": true,
   "skip_h1_title": false,
   "title_cell": "Table of Contents",
   "title_sidebar": "Contents",
   "toc_cell": false,
   "toc_position": {},
   "toc_section_display": true,
   "toc_window_display": false
  },
  "varInspector": {
   "cols": {
    "lenName": 16,
    "lenType": 16,
    "lenVar": 40
   },
   "kernels_config": {
    "python": {
     "delete_cmd_postfix": "",
     "delete_cmd_prefix": "del ",
     "library": "var_list.py",
     "varRefreshCmd": "print(var_dic_list())"
    },
    "r": {
     "delete_cmd_postfix": ") ",
     "delete_cmd_prefix": "rm(",
     "library": "var_list.r",
     "varRefreshCmd": "cat(var_dic_list()) "
    }
   },
   "types_to_exclude": [
    "module",
    "function",
    "builtin_function_or_method",
    "instance",
    "_Feature"
   ],
   "window_display": false
  }
 },
 "nbformat": 4,
 "nbformat_minor": 5
}
