{
 "cells": [
  {
   "attachments": {},
   "cell_type": "markdown",
   "metadata": {},
   "source": [
    "※ 참고 : 데이터는 앞 장과 동일하게 '항공권 가격 예측 데이터(Flight Price Predicton)의 'Clean_Dataset.csv'를 사용하여 실습합니다. "
   ],
   "id": "13b8f426d029f25b"
  },
  {
   "cell_type": "code",
   "metadata": {
    "ExecuteTime": {
     "end_time": "2024-07-29T12:04:56.936509Z",
     "start_time": "2024-07-29T12:04:56.334323Z"
    }
   },
   "source": [
    "# 실습 데이터 불러오기\n",
    "import pandas as pd\n",
    "import numpy as np\n",
    "flight = pd.read_csv('./dataset/Clean_Dataset.csv', encoding = \"cp949\")\n",
    "flight"
   ],
   "id": "82520fc8224df38a",
   "outputs": [
    {
     "data": {
      "text/plain": [
       "        Unnamed: 0   airline   flight source_city departure_time stops  \\\n",
       "0                0  SpiceJet  SG-8709       Delhi        Evening  zero   \n",
       "1                1  SpiceJet  SG-8157       Delhi  Early_Morning  zero   \n",
       "2                2   AirAsia   I5-764       Delhi  Early_Morning  zero   \n",
       "3                3   Vistara   UK-995       Delhi        Morning  zero   \n",
       "4                4   Vistara   UK-963       Delhi        Morning  zero   \n",
       "...            ...       ...      ...         ...            ...   ...   \n",
       "300148      300148   Vistara   UK-822     Chennai        Morning   one   \n",
       "300149      300149   Vistara   UK-826     Chennai      Afternoon   one   \n",
       "300150      300150   Vistara   UK-832     Chennai  Early_Morning   one   \n",
       "300151      300151   Vistara   UK-828     Chennai  Early_Morning   one   \n",
       "300152      300152   Vistara   UK-822     Chennai        Morning   one   \n",
       "\n",
       "         arrival_time destination_city     class  duration  days_left  price  \n",
       "0               Night           Mumbai   Economy      2.17          1   5953  \n",
       "1             Morning           Mumbai   Economy      2.33          1   5953  \n",
       "2       Early_Morning           Mumbai   Economy      2.17          1   5956  \n",
       "3           Afternoon           Mumbai   Economy      2.25          1   5955  \n",
       "4             Morning           Mumbai   Economy      2.33          1   5955  \n",
       "...               ...              ...       ...       ...        ...    ...  \n",
       "300148        Evening        Hyderabad  Business     10.08         49  69265  \n",
       "300149          Night        Hyderabad  Business     10.42         49  77105  \n",
       "300150          Night        Hyderabad  Business     13.83         49  79099  \n",
       "300151        Evening        Hyderabad  Business     10.00         49  81585  \n",
       "300152        Evening        Hyderabad  Business     10.08         49  81585  \n",
       "\n",
       "[300153 rows x 12 columns]"
      ],
      "text/html": [
       "<div>\n",
       "<style scoped>\n",
       "    .dataframe tbody tr th:only-of-type {\n",
       "        vertical-align: middle;\n",
       "    }\n",
       "\n",
       "    .dataframe tbody tr th {\n",
       "        vertical-align: top;\n",
       "    }\n",
       "\n",
       "    .dataframe thead th {\n",
       "        text-align: right;\n",
       "    }\n",
       "</style>\n",
       "<table border=\"1\" class=\"dataframe\">\n",
       "  <thead>\n",
       "    <tr style=\"text-align: right;\">\n",
       "      <th></th>\n",
       "      <th>Unnamed: 0</th>\n",
       "      <th>airline</th>\n",
       "      <th>flight</th>\n",
       "      <th>source_city</th>\n",
       "      <th>departure_time</th>\n",
       "      <th>stops</th>\n",
       "      <th>arrival_time</th>\n",
       "      <th>destination_city</th>\n",
       "      <th>class</th>\n",
       "      <th>duration</th>\n",
       "      <th>days_left</th>\n",
       "      <th>price</th>\n",
       "    </tr>\n",
       "  </thead>\n",
       "  <tbody>\n",
       "    <tr>\n",
       "      <th>0</th>\n",
       "      <td>0</td>\n",
       "      <td>SpiceJet</td>\n",
       "      <td>SG-8709</td>\n",
       "      <td>Delhi</td>\n",
       "      <td>Evening</td>\n",
       "      <td>zero</td>\n",
       "      <td>Night</td>\n",
       "      <td>Mumbai</td>\n",
       "      <td>Economy</td>\n",
       "      <td>2.17</td>\n",
       "      <td>1</td>\n",
       "      <td>5953</td>\n",
       "    </tr>\n",
       "    <tr>\n",
       "      <th>1</th>\n",
       "      <td>1</td>\n",
       "      <td>SpiceJet</td>\n",
       "      <td>SG-8157</td>\n",
       "      <td>Delhi</td>\n",
       "      <td>Early_Morning</td>\n",
       "      <td>zero</td>\n",
       "      <td>Morning</td>\n",
       "      <td>Mumbai</td>\n",
       "      <td>Economy</td>\n",
       "      <td>2.33</td>\n",
       "      <td>1</td>\n",
       "      <td>5953</td>\n",
       "    </tr>\n",
       "    <tr>\n",
       "      <th>2</th>\n",
       "      <td>2</td>\n",
       "      <td>AirAsia</td>\n",
       "      <td>I5-764</td>\n",
       "      <td>Delhi</td>\n",
       "      <td>Early_Morning</td>\n",
       "      <td>zero</td>\n",
       "      <td>Early_Morning</td>\n",
       "      <td>Mumbai</td>\n",
       "      <td>Economy</td>\n",
       "      <td>2.17</td>\n",
       "      <td>1</td>\n",
       "      <td>5956</td>\n",
       "    </tr>\n",
       "    <tr>\n",
       "      <th>3</th>\n",
       "      <td>3</td>\n",
       "      <td>Vistara</td>\n",
       "      <td>UK-995</td>\n",
       "      <td>Delhi</td>\n",
       "      <td>Morning</td>\n",
       "      <td>zero</td>\n",
       "      <td>Afternoon</td>\n",
       "      <td>Mumbai</td>\n",
       "      <td>Economy</td>\n",
       "      <td>2.25</td>\n",
       "      <td>1</td>\n",
       "      <td>5955</td>\n",
       "    </tr>\n",
       "    <tr>\n",
       "      <th>4</th>\n",
       "      <td>4</td>\n",
       "      <td>Vistara</td>\n",
       "      <td>UK-963</td>\n",
       "      <td>Delhi</td>\n",
       "      <td>Morning</td>\n",
       "      <td>zero</td>\n",
       "      <td>Morning</td>\n",
       "      <td>Mumbai</td>\n",
       "      <td>Economy</td>\n",
       "      <td>2.33</td>\n",
       "      <td>1</td>\n",
       "      <td>5955</td>\n",
       "    </tr>\n",
       "    <tr>\n",
       "      <th>...</th>\n",
       "      <td>...</td>\n",
       "      <td>...</td>\n",
       "      <td>...</td>\n",
       "      <td>...</td>\n",
       "      <td>...</td>\n",
       "      <td>...</td>\n",
       "      <td>...</td>\n",
       "      <td>...</td>\n",
       "      <td>...</td>\n",
       "      <td>...</td>\n",
       "      <td>...</td>\n",
       "      <td>...</td>\n",
       "    </tr>\n",
       "    <tr>\n",
       "      <th>300148</th>\n",
       "      <td>300148</td>\n",
       "      <td>Vistara</td>\n",
       "      <td>UK-822</td>\n",
       "      <td>Chennai</td>\n",
       "      <td>Morning</td>\n",
       "      <td>one</td>\n",
       "      <td>Evening</td>\n",
       "      <td>Hyderabad</td>\n",
       "      <td>Business</td>\n",
       "      <td>10.08</td>\n",
       "      <td>49</td>\n",
       "      <td>69265</td>\n",
       "    </tr>\n",
       "    <tr>\n",
       "      <th>300149</th>\n",
       "      <td>300149</td>\n",
       "      <td>Vistara</td>\n",
       "      <td>UK-826</td>\n",
       "      <td>Chennai</td>\n",
       "      <td>Afternoon</td>\n",
       "      <td>one</td>\n",
       "      <td>Night</td>\n",
       "      <td>Hyderabad</td>\n",
       "      <td>Business</td>\n",
       "      <td>10.42</td>\n",
       "      <td>49</td>\n",
       "      <td>77105</td>\n",
       "    </tr>\n",
       "    <tr>\n",
       "      <th>300150</th>\n",
       "      <td>300150</td>\n",
       "      <td>Vistara</td>\n",
       "      <td>UK-832</td>\n",
       "      <td>Chennai</td>\n",
       "      <td>Early_Morning</td>\n",
       "      <td>one</td>\n",
       "      <td>Night</td>\n",
       "      <td>Hyderabad</td>\n",
       "      <td>Business</td>\n",
       "      <td>13.83</td>\n",
       "      <td>49</td>\n",
       "      <td>79099</td>\n",
       "    </tr>\n",
       "    <tr>\n",
       "      <th>300151</th>\n",
       "      <td>300151</td>\n",
       "      <td>Vistara</td>\n",
       "      <td>UK-828</td>\n",
       "      <td>Chennai</td>\n",
       "      <td>Early_Morning</td>\n",
       "      <td>one</td>\n",
       "      <td>Evening</td>\n",
       "      <td>Hyderabad</td>\n",
       "      <td>Business</td>\n",
       "      <td>10.00</td>\n",
       "      <td>49</td>\n",
       "      <td>81585</td>\n",
       "    </tr>\n",
       "    <tr>\n",
       "      <th>300152</th>\n",
       "      <td>300152</td>\n",
       "      <td>Vistara</td>\n",
       "      <td>UK-822</td>\n",
       "      <td>Chennai</td>\n",
       "      <td>Morning</td>\n",
       "      <td>one</td>\n",
       "      <td>Evening</td>\n",
       "      <td>Hyderabad</td>\n",
       "      <td>Business</td>\n",
       "      <td>10.08</td>\n",
       "      <td>49</td>\n",
       "      <td>81585</td>\n",
       "    </tr>\n",
       "  </tbody>\n",
       "</table>\n",
       "<p>300153 rows × 12 columns</p>\n",
       "</div>"
      ]
     },
     "execution_count": 1,
     "metadata": {},
     "output_type": "execute_result"
    }
   ],
   "execution_count": 1
  },
  {
   "attachments": {},
   "cell_type": "markdown",
   "metadata": {},
   "source": [
    "# SECTION 01. 필요 데이터 선택하기"
   ],
   "id": "75ffe2b6cf42c990"
  },
  {
   "attachments": {},
   "cell_type": "markdown",
   "metadata": {},
   "source": [
    "## 1. 칼럼명으로 데이터 선택하기"
   ],
   "id": "7086967ad4c870d0"
  },
  {
   "cell_type": "code",
   "metadata": {
    "ExecuteTime": {
     "end_time": "2024-07-29T12:06:59.441473Z",
     "start_time": "2024-07-29T12:06:59.432083Z"
    }
   },
   "source": [
    "# 하나의 칼럼만 선택하기\n",
    "flight[['departure_time']]"
   ],
   "id": "be265759717cd653",
   "outputs": [
    {
     "data": {
      "text/plain": [
       "       departure_time\n",
       "0             Evening\n",
       "1       Early_Morning\n",
       "2       Early_Morning\n",
       "3             Morning\n",
       "4             Morning\n",
       "...               ...\n",
       "300148        Morning\n",
       "300149      Afternoon\n",
       "300150  Early_Morning\n",
       "300151  Early_Morning\n",
       "300152        Morning\n",
       "\n",
       "[300153 rows x 1 columns]"
      ],
      "text/html": [
       "<div>\n",
       "<style scoped>\n",
       "    .dataframe tbody tr th:only-of-type {\n",
       "        vertical-align: middle;\n",
       "    }\n",
       "\n",
       "    .dataframe tbody tr th {\n",
       "        vertical-align: top;\n",
       "    }\n",
       "\n",
       "    .dataframe thead th {\n",
       "        text-align: right;\n",
       "    }\n",
       "</style>\n",
       "<table border=\"1\" class=\"dataframe\">\n",
       "  <thead>\n",
       "    <tr style=\"text-align: right;\">\n",
       "      <th></th>\n",
       "      <th>departure_time</th>\n",
       "    </tr>\n",
       "  </thead>\n",
       "  <tbody>\n",
       "    <tr>\n",
       "      <th>0</th>\n",
       "      <td>Evening</td>\n",
       "    </tr>\n",
       "    <tr>\n",
       "      <th>1</th>\n",
       "      <td>Early_Morning</td>\n",
       "    </tr>\n",
       "    <tr>\n",
       "      <th>2</th>\n",
       "      <td>Early_Morning</td>\n",
       "    </tr>\n",
       "    <tr>\n",
       "      <th>3</th>\n",
       "      <td>Morning</td>\n",
       "    </tr>\n",
       "    <tr>\n",
       "      <th>4</th>\n",
       "      <td>Morning</td>\n",
       "    </tr>\n",
       "    <tr>\n",
       "      <th>...</th>\n",
       "      <td>...</td>\n",
       "    </tr>\n",
       "    <tr>\n",
       "      <th>300148</th>\n",
       "      <td>Morning</td>\n",
       "    </tr>\n",
       "    <tr>\n",
       "      <th>300149</th>\n",
       "      <td>Afternoon</td>\n",
       "    </tr>\n",
       "    <tr>\n",
       "      <th>300150</th>\n",
       "      <td>Early_Morning</td>\n",
       "    </tr>\n",
       "    <tr>\n",
       "      <th>300151</th>\n",
       "      <td>Early_Morning</td>\n",
       "    </tr>\n",
       "    <tr>\n",
       "      <th>300152</th>\n",
       "      <td>Morning</td>\n",
       "    </tr>\n",
       "  </tbody>\n",
       "</table>\n",
       "<p>300153 rows × 1 columns</p>\n",
       "</div>"
      ]
     },
     "execution_count": 10,
     "metadata": {},
     "output_type": "execute_result"
    }
   ],
   "execution_count": 10
  },
  {
   "cell_type": "code",
   "metadata": {
    "ExecuteTime": {
     "end_time": "2024-07-29T12:07:00.381398Z",
     "start_time": "2024-07-29T12:07:00.370078Z"
    }
   },
   "source": [
    "# 여러 개의 칼럼 선택하기\n",
    "flight[['airline','departure_time','source_city']]"
   ],
   "id": "e36486708e9d7379",
   "outputs": [
    {
     "data": {
      "text/plain": [
       "         airline departure_time source_city\n",
       "0       SpiceJet        Evening       Delhi\n",
       "1       SpiceJet  Early_Morning       Delhi\n",
       "2        AirAsia  Early_Morning       Delhi\n",
       "3        Vistara        Morning       Delhi\n",
       "4        Vistara        Morning       Delhi\n",
       "...          ...            ...         ...\n",
       "300148   Vistara        Morning     Chennai\n",
       "300149   Vistara      Afternoon     Chennai\n",
       "300150   Vistara  Early_Morning     Chennai\n",
       "300151   Vistara  Early_Morning     Chennai\n",
       "300152   Vistara        Morning     Chennai\n",
       "\n",
       "[300153 rows x 3 columns]"
      ],
      "text/html": [
       "<div>\n",
       "<style scoped>\n",
       "    .dataframe tbody tr th:only-of-type {\n",
       "        vertical-align: middle;\n",
       "    }\n",
       "\n",
       "    .dataframe tbody tr th {\n",
       "        vertical-align: top;\n",
       "    }\n",
       "\n",
       "    .dataframe thead th {\n",
       "        text-align: right;\n",
       "    }\n",
       "</style>\n",
       "<table border=\"1\" class=\"dataframe\">\n",
       "  <thead>\n",
       "    <tr style=\"text-align: right;\">\n",
       "      <th></th>\n",
       "      <th>airline</th>\n",
       "      <th>departure_time</th>\n",
       "      <th>source_city</th>\n",
       "    </tr>\n",
       "  </thead>\n",
       "  <tbody>\n",
       "    <tr>\n",
       "      <th>0</th>\n",
       "      <td>SpiceJet</td>\n",
       "      <td>Evening</td>\n",
       "      <td>Delhi</td>\n",
       "    </tr>\n",
       "    <tr>\n",
       "      <th>1</th>\n",
       "      <td>SpiceJet</td>\n",
       "      <td>Early_Morning</td>\n",
       "      <td>Delhi</td>\n",
       "    </tr>\n",
       "    <tr>\n",
       "      <th>2</th>\n",
       "      <td>AirAsia</td>\n",
       "      <td>Early_Morning</td>\n",
       "      <td>Delhi</td>\n",
       "    </tr>\n",
       "    <tr>\n",
       "      <th>3</th>\n",
       "      <td>Vistara</td>\n",
       "      <td>Morning</td>\n",
       "      <td>Delhi</td>\n",
       "    </tr>\n",
       "    <tr>\n",
       "      <th>4</th>\n",
       "      <td>Vistara</td>\n",
       "      <td>Morning</td>\n",
       "      <td>Delhi</td>\n",
       "    </tr>\n",
       "    <tr>\n",
       "      <th>...</th>\n",
       "      <td>...</td>\n",
       "      <td>...</td>\n",
       "      <td>...</td>\n",
       "    </tr>\n",
       "    <tr>\n",
       "      <th>300148</th>\n",
       "      <td>Vistara</td>\n",
       "      <td>Morning</td>\n",
       "      <td>Chennai</td>\n",
       "    </tr>\n",
       "    <tr>\n",
       "      <th>300149</th>\n",
       "      <td>Vistara</td>\n",
       "      <td>Afternoon</td>\n",
       "      <td>Chennai</td>\n",
       "    </tr>\n",
       "    <tr>\n",
       "      <th>300150</th>\n",
       "      <td>Vistara</td>\n",
       "      <td>Early_Morning</td>\n",
       "      <td>Chennai</td>\n",
       "    </tr>\n",
       "    <tr>\n",
       "      <th>300151</th>\n",
       "      <td>Vistara</td>\n",
       "      <td>Early_Morning</td>\n",
       "      <td>Chennai</td>\n",
       "    </tr>\n",
       "    <tr>\n",
       "      <th>300152</th>\n",
       "      <td>Vistara</td>\n",
       "      <td>Morning</td>\n",
       "      <td>Chennai</td>\n",
       "    </tr>\n",
       "  </tbody>\n",
       "</table>\n",
       "<p>300153 rows × 3 columns</p>\n",
       "</div>"
      ]
     },
     "execution_count": 11,
     "metadata": {},
     "output_type": "execute_result"
    }
   ],
   "execution_count": 11
  },
  {
   "attachments": {},
   "cell_type": "markdown",
   "metadata": {},
   "source": [
    "## 2. 행 범위를 지정하여 데이터 선택하기"
   ],
   "id": "39418d3f845ec99f"
  },
  {
   "cell_type": "code",
   "metadata": {
    "ExecuteTime": {
     "end_time": "2024-07-29T12:07:03.190257Z",
     "start_time": "2024-07-29T12:07:03.183731Z"
    }
   },
   "source": [
    "# 슬라이싱을 이용하여 10행부터 20행까지의 데이터를 가져오기\n",
    "flight[10:21]"
   ],
   "id": "864f7418eaf3955",
   "outputs": [
    {
     "data": {
      "text/plain": [
       "    Unnamed: 0    airline   flight source_city departure_time stops  \\\n",
       "10          10   GO_FIRST   G8-392       Delhi      Afternoon  zero   \n",
       "11          11   GO_FIRST   G8-338       Delhi        Morning  zero   \n",
       "12          12     Indigo  6E-5001       Delhi  Early_Morning  zero   \n",
       "13          13     Indigo  6E-6202       Delhi        Morning  zero   \n",
       "14          14     Indigo   6E-549       Delhi      Afternoon  zero   \n",
       "15          15     Indigo  6E-6278       Delhi        Morning  zero   \n",
       "16          16  Air_India   AI-887       Delhi  Early_Morning  zero   \n",
       "17          17  Air_India   AI-665       Delhi  Early_Morning  zero   \n",
       "18          18    AirAsia   I5-747       Delhi        Evening   one   \n",
       "19          19    AirAsia   I5-747       Delhi        Evening   one   \n",
       "20          20   GO_FIRST   G8-266       Delhi  Early_Morning   one   \n",
       "\n",
       "     arrival_time destination_city    class  duration  days_left  price  \n",
       "10        Evening           Mumbai  Economy      2.25          1   5954  \n",
       "11      Afternoon           Mumbai  Economy      2.33          1   5954  \n",
       "12        Morning           Mumbai  Economy      2.17          1   5955  \n",
       "13      Afternoon           Mumbai  Economy      2.17          1   5955  \n",
       "14        Evening           Mumbai  Economy      2.25          1   5955  \n",
       "15        Morning           Mumbai  Economy      2.33          1   5955  \n",
       "16        Morning           Mumbai  Economy      2.08          1   5955  \n",
       "17        Morning           Mumbai  Economy      2.17          1   5955  \n",
       "18  Early_Morning           Mumbai  Economy     12.25          1   5949  \n",
       "19        Morning           Mumbai  Economy     16.33          1   5949  \n",
       "20        Evening           Mumbai  Economy     11.75          1   5954  "
      ],
      "text/html": [
       "<div>\n",
       "<style scoped>\n",
       "    .dataframe tbody tr th:only-of-type {\n",
       "        vertical-align: middle;\n",
       "    }\n",
       "\n",
       "    .dataframe tbody tr th {\n",
       "        vertical-align: top;\n",
       "    }\n",
       "\n",
       "    .dataframe thead th {\n",
       "        text-align: right;\n",
       "    }\n",
       "</style>\n",
       "<table border=\"1\" class=\"dataframe\">\n",
       "  <thead>\n",
       "    <tr style=\"text-align: right;\">\n",
       "      <th></th>\n",
       "      <th>Unnamed: 0</th>\n",
       "      <th>airline</th>\n",
       "      <th>flight</th>\n",
       "      <th>source_city</th>\n",
       "      <th>departure_time</th>\n",
       "      <th>stops</th>\n",
       "      <th>arrival_time</th>\n",
       "      <th>destination_city</th>\n",
       "      <th>class</th>\n",
       "      <th>duration</th>\n",
       "      <th>days_left</th>\n",
       "      <th>price</th>\n",
       "    </tr>\n",
       "  </thead>\n",
       "  <tbody>\n",
       "    <tr>\n",
       "      <th>10</th>\n",
       "      <td>10</td>\n",
       "      <td>GO_FIRST</td>\n",
       "      <td>G8-392</td>\n",
       "      <td>Delhi</td>\n",
       "      <td>Afternoon</td>\n",
       "      <td>zero</td>\n",
       "      <td>Evening</td>\n",
       "      <td>Mumbai</td>\n",
       "      <td>Economy</td>\n",
       "      <td>2.25</td>\n",
       "      <td>1</td>\n",
       "      <td>5954</td>\n",
       "    </tr>\n",
       "    <tr>\n",
       "      <th>11</th>\n",
       "      <td>11</td>\n",
       "      <td>GO_FIRST</td>\n",
       "      <td>G8-338</td>\n",
       "      <td>Delhi</td>\n",
       "      <td>Morning</td>\n",
       "      <td>zero</td>\n",
       "      <td>Afternoon</td>\n",
       "      <td>Mumbai</td>\n",
       "      <td>Economy</td>\n",
       "      <td>2.33</td>\n",
       "      <td>1</td>\n",
       "      <td>5954</td>\n",
       "    </tr>\n",
       "    <tr>\n",
       "      <th>12</th>\n",
       "      <td>12</td>\n",
       "      <td>Indigo</td>\n",
       "      <td>6E-5001</td>\n",
       "      <td>Delhi</td>\n",
       "      <td>Early_Morning</td>\n",
       "      <td>zero</td>\n",
       "      <td>Morning</td>\n",
       "      <td>Mumbai</td>\n",
       "      <td>Economy</td>\n",
       "      <td>2.17</td>\n",
       "      <td>1</td>\n",
       "      <td>5955</td>\n",
       "    </tr>\n",
       "    <tr>\n",
       "      <th>13</th>\n",
       "      <td>13</td>\n",
       "      <td>Indigo</td>\n",
       "      <td>6E-6202</td>\n",
       "      <td>Delhi</td>\n",
       "      <td>Morning</td>\n",
       "      <td>zero</td>\n",
       "      <td>Afternoon</td>\n",
       "      <td>Mumbai</td>\n",
       "      <td>Economy</td>\n",
       "      <td>2.17</td>\n",
       "      <td>1</td>\n",
       "      <td>5955</td>\n",
       "    </tr>\n",
       "    <tr>\n",
       "      <th>14</th>\n",
       "      <td>14</td>\n",
       "      <td>Indigo</td>\n",
       "      <td>6E-549</td>\n",
       "      <td>Delhi</td>\n",
       "      <td>Afternoon</td>\n",
       "      <td>zero</td>\n",
       "      <td>Evening</td>\n",
       "      <td>Mumbai</td>\n",
       "      <td>Economy</td>\n",
       "      <td>2.25</td>\n",
       "      <td>1</td>\n",
       "      <td>5955</td>\n",
       "    </tr>\n",
       "    <tr>\n",
       "      <th>15</th>\n",
       "      <td>15</td>\n",
       "      <td>Indigo</td>\n",
       "      <td>6E-6278</td>\n",
       "      <td>Delhi</td>\n",
       "      <td>Morning</td>\n",
       "      <td>zero</td>\n",
       "      <td>Morning</td>\n",
       "      <td>Mumbai</td>\n",
       "      <td>Economy</td>\n",
       "      <td>2.33</td>\n",
       "      <td>1</td>\n",
       "      <td>5955</td>\n",
       "    </tr>\n",
       "    <tr>\n",
       "      <th>16</th>\n",
       "      <td>16</td>\n",
       "      <td>Air_India</td>\n",
       "      <td>AI-887</td>\n",
       "      <td>Delhi</td>\n",
       "      <td>Early_Morning</td>\n",
       "      <td>zero</td>\n",
       "      <td>Morning</td>\n",
       "      <td>Mumbai</td>\n",
       "      <td>Economy</td>\n",
       "      <td>2.08</td>\n",
       "      <td>1</td>\n",
       "      <td>5955</td>\n",
       "    </tr>\n",
       "    <tr>\n",
       "      <th>17</th>\n",
       "      <td>17</td>\n",
       "      <td>Air_India</td>\n",
       "      <td>AI-665</td>\n",
       "      <td>Delhi</td>\n",
       "      <td>Early_Morning</td>\n",
       "      <td>zero</td>\n",
       "      <td>Morning</td>\n",
       "      <td>Mumbai</td>\n",
       "      <td>Economy</td>\n",
       "      <td>2.17</td>\n",
       "      <td>1</td>\n",
       "      <td>5955</td>\n",
       "    </tr>\n",
       "    <tr>\n",
       "      <th>18</th>\n",
       "      <td>18</td>\n",
       "      <td>AirAsia</td>\n",
       "      <td>I5-747</td>\n",
       "      <td>Delhi</td>\n",
       "      <td>Evening</td>\n",
       "      <td>one</td>\n",
       "      <td>Early_Morning</td>\n",
       "      <td>Mumbai</td>\n",
       "      <td>Economy</td>\n",
       "      <td>12.25</td>\n",
       "      <td>1</td>\n",
       "      <td>5949</td>\n",
       "    </tr>\n",
       "    <tr>\n",
       "      <th>19</th>\n",
       "      <td>19</td>\n",
       "      <td>AirAsia</td>\n",
       "      <td>I5-747</td>\n",
       "      <td>Delhi</td>\n",
       "      <td>Evening</td>\n",
       "      <td>one</td>\n",
       "      <td>Morning</td>\n",
       "      <td>Mumbai</td>\n",
       "      <td>Economy</td>\n",
       "      <td>16.33</td>\n",
       "      <td>1</td>\n",
       "      <td>5949</td>\n",
       "    </tr>\n",
       "    <tr>\n",
       "      <th>20</th>\n",
       "      <td>20</td>\n",
       "      <td>GO_FIRST</td>\n",
       "      <td>G8-266</td>\n",
       "      <td>Delhi</td>\n",
       "      <td>Early_Morning</td>\n",
       "      <td>one</td>\n",
       "      <td>Evening</td>\n",
       "      <td>Mumbai</td>\n",
       "      <td>Economy</td>\n",
       "      <td>11.75</td>\n",
       "      <td>1</td>\n",
       "      <td>5954</td>\n",
       "    </tr>\n",
       "  </tbody>\n",
       "</table>\n",
       "</div>"
      ]
     },
     "execution_count": 12,
     "metadata": {},
     "output_type": "execute_result"
    }
   ],
   "execution_count": 12
  },
  {
   "attachments": {},
   "cell_type": "markdown",
   "metadata": {},
   "source": [
    "## 3. 특정 행, 열의 범위를 선택하여 데이터 선택하기"
   ],
   "id": "bb6855dae10de559"
  },
  {
   "cell_type": "code",
   "metadata": {
    "ExecuteTime": {
     "end_time": "2024-07-29T12:07:11.111542Z",
     "start_time": "2024-07-29T12:07:11.104724Z"
    }
   },
   "source": [
    "# 인덱스 새롭게 지정하기\n",
    "flight.index = np.arange(100,300253)\n",
    "flight"
   ],
   "id": "6f085e649d733acb",
   "outputs": [
    {
     "data": {
      "text/plain": [
       "        Unnamed: 0   airline   flight source_city departure_time stops  \\\n",
       "100              0  SpiceJet  SG-8709       Delhi        Evening  zero   \n",
       "101              1  SpiceJet  SG-8157       Delhi  Early_Morning  zero   \n",
       "102              2   AirAsia   I5-764       Delhi  Early_Morning  zero   \n",
       "103              3   Vistara   UK-995       Delhi        Morning  zero   \n",
       "104              4   Vistara   UK-963       Delhi        Morning  zero   \n",
       "...            ...       ...      ...         ...            ...   ...   \n",
       "300248      300148   Vistara   UK-822     Chennai        Morning   one   \n",
       "300249      300149   Vistara   UK-826     Chennai      Afternoon   one   \n",
       "300250      300150   Vistara   UK-832     Chennai  Early_Morning   one   \n",
       "300251      300151   Vistara   UK-828     Chennai  Early_Morning   one   \n",
       "300252      300152   Vistara   UK-822     Chennai        Morning   one   \n",
       "\n",
       "         arrival_time destination_city     class  duration  days_left  price  \n",
       "100             Night           Mumbai   Economy      2.17          1   5953  \n",
       "101           Morning           Mumbai   Economy      2.33          1   5953  \n",
       "102     Early_Morning           Mumbai   Economy      2.17          1   5956  \n",
       "103         Afternoon           Mumbai   Economy      2.25          1   5955  \n",
       "104           Morning           Mumbai   Economy      2.33          1   5955  \n",
       "...               ...              ...       ...       ...        ...    ...  \n",
       "300248        Evening        Hyderabad  Business     10.08         49  69265  \n",
       "300249          Night        Hyderabad  Business     10.42         49  77105  \n",
       "300250          Night        Hyderabad  Business     13.83         49  79099  \n",
       "300251        Evening        Hyderabad  Business     10.00         49  81585  \n",
       "300252        Evening        Hyderabad  Business     10.08         49  81585  \n",
       "\n",
       "[300153 rows x 12 columns]"
      ],
      "text/html": [
       "<div>\n",
       "<style scoped>\n",
       "    .dataframe tbody tr th:only-of-type {\n",
       "        vertical-align: middle;\n",
       "    }\n",
       "\n",
       "    .dataframe tbody tr th {\n",
       "        vertical-align: top;\n",
       "    }\n",
       "\n",
       "    .dataframe thead th {\n",
       "        text-align: right;\n",
       "    }\n",
       "</style>\n",
       "<table border=\"1\" class=\"dataframe\">\n",
       "  <thead>\n",
       "    <tr style=\"text-align: right;\">\n",
       "      <th></th>\n",
       "      <th>Unnamed: 0</th>\n",
       "      <th>airline</th>\n",
       "      <th>flight</th>\n",
       "      <th>source_city</th>\n",
       "      <th>departure_time</th>\n",
       "      <th>stops</th>\n",
       "      <th>arrival_time</th>\n",
       "      <th>destination_city</th>\n",
       "      <th>class</th>\n",
       "      <th>duration</th>\n",
       "      <th>days_left</th>\n",
       "      <th>price</th>\n",
       "    </tr>\n",
       "  </thead>\n",
       "  <tbody>\n",
       "    <tr>\n",
       "      <th>100</th>\n",
       "      <td>0</td>\n",
       "      <td>SpiceJet</td>\n",
       "      <td>SG-8709</td>\n",
       "      <td>Delhi</td>\n",
       "      <td>Evening</td>\n",
       "      <td>zero</td>\n",
       "      <td>Night</td>\n",
       "      <td>Mumbai</td>\n",
       "      <td>Economy</td>\n",
       "      <td>2.17</td>\n",
       "      <td>1</td>\n",
       "      <td>5953</td>\n",
       "    </tr>\n",
       "    <tr>\n",
       "      <th>101</th>\n",
       "      <td>1</td>\n",
       "      <td>SpiceJet</td>\n",
       "      <td>SG-8157</td>\n",
       "      <td>Delhi</td>\n",
       "      <td>Early_Morning</td>\n",
       "      <td>zero</td>\n",
       "      <td>Morning</td>\n",
       "      <td>Mumbai</td>\n",
       "      <td>Economy</td>\n",
       "      <td>2.33</td>\n",
       "      <td>1</td>\n",
       "      <td>5953</td>\n",
       "    </tr>\n",
       "    <tr>\n",
       "      <th>102</th>\n",
       "      <td>2</td>\n",
       "      <td>AirAsia</td>\n",
       "      <td>I5-764</td>\n",
       "      <td>Delhi</td>\n",
       "      <td>Early_Morning</td>\n",
       "      <td>zero</td>\n",
       "      <td>Early_Morning</td>\n",
       "      <td>Mumbai</td>\n",
       "      <td>Economy</td>\n",
       "      <td>2.17</td>\n",
       "      <td>1</td>\n",
       "      <td>5956</td>\n",
       "    </tr>\n",
       "    <tr>\n",
       "      <th>103</th>\n",
       "      <td>3</td>\n",
       "      <td>Vistara</td>\n",
       "      <td>UK-995</td>\n",
       "      <td>Delhi</td>\n",
       "      <td>Morning</td>\n",
       "      <td>zero</td>\n",
       "      <td>Afternoon</td>\n",
       "      <td>Mumbai</td>\n",
       "      <td>Economy</td>\n",
       "      <td>2.25</td>\n",
       "      <td>1</td>\n",
       "      <td>5955</td>\n",
       "    </tr>\n",
       "    <tr>\n",
       "      <th>104</th>\n",
       "      <td>4</td>\n",
       "      <td>Vistara</td>\n",
       "      <td>UK-963</td>\n",
       "      <td>Delhi</td>\n",
       "      <td>Morning</td>\n",
       "      <td>zero</td>\n",
       "      <td>Morning</td>\n",
       "      <td>Mumbai</td>\n",
       "      <td>Economy</td>\n",
       "      <td>2.33</td>\n",
       "      <td>1</td>\n",
       "      <td>5955</td>\n",
       "    </tr>\n",
       "    <tr>\n",
       "      <th>...</th>\n",
       "      <td>...</td>\n",
       "      <td>...</td>\n",
       "      <td>...</td>\n",
       "      <td>...</td>\n",
       "      <td>...</td>\n",
       "      <td>...</td>\n",
       "      <td>...</td>\n",
       "      <td>...</td>\n",
       "      <td>...</td>\n",
       "      <td>...</td>\n",
       "      <td>...</td>\n",
       "      <td>...</td>\n",
       "    </tr>\n",
       "    <tr>\n",
       "      <th>300248</th>\n",
       "      <td>300148</td>\n",
       "      <td>Vistara</td>\n",
       "      <td>UK-822</td>\n",
       "      <td>Chennai</td>\n",
       "      <td>Morning</td>\n",
       "      <td>one</td>\n",
       "      <td>Evening</td>\n",
       "      <td>Hyderabad</td>\n",
       "      <td>Business</td>\n",
       "      <td>10.08</td>\n",
       "      <td>49</td>\n",
       "      <td>69265</td>\n",
       "    </tr>\n",
       "    <tr>\n",
       "      <th>300249</th>\n",
       "      <td>300149</td>\n",
       "      <td>Vistara</td>\n",
       "      <td>UK-826</td>\n",
       "      <td>Chennai</td>\n",
       "      <td>Afternoon</td>\n",
       "      <td>one</td>\n",
       "      <td>Night</td>\n",
       "      <td>Hyderabad</td>\n",
       "      <td>Business</td>\n",
       "      <td>10.42</td>\n",
       "      <td>49</td>\n",
       "      <td>77105</td>\n",
       "    </tr>\n",
       "    <tr>\n",
       "      <th>300250</th>\n",
       "      <td>300150</td>\n",
       "      <td>Vistara</td>\n",
       "      <td>UK-832</td>\n",
       "      <td>Chennai</td>\n",
       "      <td>Early_Morning</td>\n",
       "      <td>one</td>\n",
       "      <td>Night</td>\n",
       "      <td>Hyderabad</td>\n",
       "      <td>Business</td>\n",
       "      <td>13.83</td>\n",
       "      <td>49</td>\n",
       "      <td>79099</td>\n",
       "    </tr>\n",
       "    <tr>\n",
       "      <th>300251</th>\n",
       "      <td>300151</td>\n",
       "      <td>Vistara</td>\n",
       "      <td>UK-828</td>\n",
       "      <td>Chennai</td>\n",
       "      <td>Early_Morning</td>\n",
       "      <td>one</td>\n",
       "      <td>Evening</td>\n",
       "      <td>Hyderabad</td>\n",
       "      <td>Business</td>\n",
       "      <td>10.00</td>\n",
       "      <td>49</td>\n",
       "      <td>81585</td>\n",
       "    </tr>\n",
       "    <tr>\n",
       "      <th>300252</th>\n",
       "      <td>300152</td>\n",
       "      <td>Vistara</td>\n",
       "      <td>UK-822</td>\n",
       "      <td>Chennai</td>\n",
       "      <td>Morning</td>\n",
       "      <td>one</td>\n",
       "      <td>Evening</td>\n",
       "      <td>Hyderabad</td>\n",
       "      <td>Business</td>\n",
       "      <td>10.08</td>\n",
       "      <td>49</td>\n",
       "      <td>81585</td>\n",
       "    </tr>\n",
       "  </tbody>\n",
       "</table>\n",
       "<p>300153 rows × 12 columns</p>\n",
       "</div>"
      ]
     },
     "execution_count": 13,
     "metadata": {},
     "output_type": "execute_result"
    }
   ],
   "execution_count": 13
  },
  {
   "cell_type": "code",
   "metadata": {
    "ExecuteTime": {
     "end_time": "2024-07-29T12:07:15.722129Z",
     "start_time": "2024-07-29T12:07:15.705365Z"
    }
   },
   "source": [
    "# loc 사용하기\n",
    "flight.loc[[102, 202, 302]]"
   ],
   "id": "fce33bfac5b112ca",
   "outputs": [
    {
     "data": {
      "text/plain": [
       "     Unnamed: 0  airline  flight source_city departure_time stops  \\\n",
       "102           2  AirAsia  I5-764       Delhi  Early_Morning  zero   \n",
       "202         102  Vistara  UK-819       Delhi      Afternoon   one   \n",
       "302         202  Vistara  UK-879       Delhi        Evening   one   \n",
       "\n",
       "      arrival_time destination_city    class  duration  days_left  price  \n",
       "102  Early_Morning           Mumbai  Economy      2.17          1   5956  \n",
       "202          Night           Mumbai  Economy      6.00          1  18923  \n",
       "302          Night           Mumbai  Economy      5.33          2  13673  "
      ],
      "text/html": [
       "<div>\n",
       "<style scoped>\n",
       "    .dataframe tbody tr th:only-of-type {\n",
       "        vertical-align: middle;\n",
       "    }\n",
       "\n",
       "    .dataframe tbody tr th {\n",
       "        vertical-align: top;\n",
       "    }\n",
       "\n",
       "    .dataframe thead th {\n",
       "        text-align: right;\n",
       "    }\n",
       "</style>\n",
       "<table border=\"1\" class=\"dataframe\">\n",
       "  <thead>\n",
       "    <tr style=\"text-align: right;\">\n",
       "      <th></th>\n",
       "      <th>Unnamed: 0</th>\n",
       "      <th>airline</th>\n",
       "      <th>flight</th>\n",
       "      <th>source_city</th>\n",
       "      <th>departure_time</th>\n",
       "      <th>stops</th>\n",
       "      <th>arrival_time</th>\n",
       "      <th>destination_city</th>\n",
       "      <th>class</th>\n",
       "      <th>duration</th>\n",
       "      <th>days_left</th>\n",
       "      <th>price</th>\n",
       "    </tr>\n",
       "  </thead>\n",
       "  <tbody>\n",
       "    <tr>\n",
       "      <th>102</th>\n",
       "      <td>2</td>\n",
       "      <td>AirAsia</td>\n",
       "      <td>I5-764</td>\n",
       "      <td>Delhi</td>\n",
       "      <td>Early_Morning</td>\n",
       "      <td>zero</td>\n",
       "      <td>Early_Morning</td>\n",
       "      <td>Mumbai</td>\n",
       "      <td>Economy</td>\n",
       "      <td>2.17</td>\n",
       "      <td>1</td>\n",
       "      <td>5956</td>\n",
       "    </tr>\n",
       "    <tr>\n",
       "      <th>202</th>\n",
       "      <td>102</td>\n",
       "      <td>Vistara</td>\n",
       "      <td>UK-819</td>\n",
       "      <td>Delhi</td>\n",
       "      <td>Afternoon</td>\n",
       "      <td>one</td>\n",
       "      <td>Night</td>\n",
       "      <td>Mumbai</td>\n",
       "      <td>Economy</td>\n",
       "      <td>6.00</td>\n",
       "      <td>1</td>\n",
       "      <td>18923</td>\n",
       "    </tr>\n",
       "    <tr>\n",
       "      <th>302</th>\n",
       "      <td>202</td>\n",
       "      <td>Vistara</td>\n",
       "      <td>UK-879</td>\n",
       "      <td>Delhi</td>\n",
       "      <td>Evening</td>\n",
       "      <td>one</td>\n",
       "      <td>Night</td>\n",
       "      <td>Mumbai</td>\n",
       "      <td>Economy</td>\n",
       "      <td>5.33</td>\n",
       "      <td>2</td>\n",
       "      <td>13673</td>\n",
       "    </tr>\n",
       "  </tbody>\n",
       "</table>\n",
       "</div>"
      ]
     },
     "execution_count": 14,
     "metadata": {},
     "output_type": "execute_result"
    }
   ],
   "execution_count": 14
  },
  {
   "cell_type": "code",
   "metadata": {
    "ExecuteTime": {
     "end_time": "2024-07-29T12:07:21.507353Z",
     "start_time": "2024-07-29T12:07:21.492392Z"
    }
   },
   "source": [
    "# iloc 사용하기\n",
    "flight.iloc[[2, 102, 202]]"
   ],
   "id": "2cb06692470863d",
   "outputs": [
    {
     "data": {
      "text/plain": [
       "     Unnamed: 0  airline  flight source_city departure_time stops  \\\n",
       "102           2  AirAsia  I5-764       Delhi  Early_Morning  zero   \n",
       "202         102  Vistara  UK-819       Delhi      Afternoon   one   \n",
       "302         202  Vistara  UK-879       Delhi        Evening   one   \n",
       "\n",
       "      arrival_time destination_city    class  duration  days_left  price  \n",
       "102  Early_Morning           Mumbai  Economy      2.17          1   5956  \n",
       "202          Night           Mumbai  Economy      6.00          1  18923  \n",
       "302          Night           Mumbai  Economy      5.33          2  13673  "
      ],
      "text/html": [
       "<div>\n",
       "<style scoped>\n",
       "    .dataframe tbody tr th:only-of-type {\n",
       "        vertical-align: middle;\n",
       "    }\n",
       "\n",
       "    .dataframe tbody tr th {\n",
       "        vertical-align: top;\n",
       "    }\n",
       "\n",
       "    .dataframe thead th {\n",
       "        text-align: right;\n",
       "    }\n",
       "</style>\n",
       "<table border=\"1\" class=\"dataframe\">\n",
       "  <thead>\n",
       "    <tr style=\"text-align: right;\">\n",
       "      <th></th>\n",
       "      <th>Unnamed: 0</th>\n",
       "      <th>airline</th>\n",
       "      <th>flight</th>\n",
       "      <th>source_city</th>\n",
       "      <th>departure_time</th>\n",
       "      <th>stops</th>\n",
       "      <th>arrival_time</th>\n",
       "      <th>destination_city</th>\n",
       "      <th>class</th>\n",
       "      <th>duration</th>\n",
       "      <th>days_left</th>\n",
       "      <th>price</th>\n",
       "    </tr>\n",
       "  </thead>\n",
       "  <tbody>\n",
       "    <tr>\n",
       "      <th>102</th>\n",
       "      <td>2</td>\n",
       "      <td>AirAsia</td>\n",
       "      <td>I5-764</td>\n",
       "      <td>Delhi</td>\n",
       "      <td>Early_Morning</td>\n",
       "      <td>zero</td>\n",
       "      <td>Early_Morning</td>\n",
       "      <td>Mumbai</td>\n",
       "      <td>Economy</td>\n",
       "      <td>2.17</td>\n",
       "      <td>1</td>\n",
       "      <td>5956</td>\n",
       "    </tr>\n",
       "    <tr>\n",
       "      <th>202</th>\n",
       "      <td>102</td>\n",
       "      <td>Vistara</td>\n",
       "      <td>UK-819</td>\n",
       "      <td>Delhi</td>\n",
       "      <td>Afternoon</td>\n",
       "      <td>one</td>\n",
       "      <td>Night</td>\n",
       "      <td>Mumbai</td>\n",
       "      <td>Economy</td>\n",
       "      <td>6.00</td>\n",
       "      <td>1</td>\n",
       "      <td>18923</td>\n",
       "    </tr>\n",
       "    <tr>\n",
       "      <th>302</th>\n",
       "      <td>202</td>\n",
       "      <td>Vistara</td>\n",
       "      <td>UK-879</td>\n",
       "      <td>Delhi</td>\n",
       "      <td>Evening</td>\n",
       "      <td>one</td>\n",
       "      <td>Night</td>\n",
       "      <td>Mumbai</td>\n",
       "      <td>Economy</td>\n",
       "      <td>5.33</td>\n",
       "      <td>2</td>\n",
       "      <td>13673</td>\n",
       "    </tr>\n",
       "  </tbody>\n",
       "</table>\n",
       "</div>"
      ]
     },
     "execution_count": 15,
     "metadata": {},
     "output_type": "execute_result"
    }
   ],
   "execution_count": 15
  },
  {
   "cell_type": "code",
   "metadata": {
    "ExecuteTime": {
     "end_time": "2024-07-29T12:11:07.159780Z",
     "start_time": "2024-07-29T12:11:07.125018Z"
    }
   },
   "source": [
    "# loc를 사용하여 행과 열의 범위 지정하기\n",
    "flight.loc[[102, 202, 302], ['airline', 'flight', 'source_city', 'price']]"
   ],
   "id": "33e15c052aaa1b97",
   "outputs": [
    {
     "data": {
      "text/plain": [
       "     airline  flight source_city  price\n",
       "102  AirAsia  I5-764       Delhi   5956\n",
       "202  Vistara  UK-819       Delhi  18923\n",
       "302  Vistara  UK-879       Delhi  13673"
      ],
      "text/html": [
       "<div>\n",
       "<style scoped>\n",
       "    .dataframe tbody tr th:only-of-type {\n",
       "        vertical-align: middle;\n",
       "    }\n",
       "\n",
       "    .dataframe tbody tr th {\n",
       "        vertical-align: top;\n",
       "    }\n",
       "\n",
       "    .dataframe thead th {\n",
       "        text-align: right;\n",
       "    }\n",
       "</style>\n",
       "<table border=\"1\" class=\"dataframe\">\n",
       "  <thead>\n",
       "    <tr style=\"text-align: right;\">\n",
       "      <th></th>\n",
       "      <th>airline</th>\n",
       "      <th>flight</th>\n",
       "      <th>source_city</th>\n",
       "      <th>price</th>\n",
       "    </tr>\n",
       "  </thead>\n",
       "  <tbody>\n",
       "    <tr>\n",
       "      <th>102</th>\n",
       "      <td>AirAsia</td>\n",
       "      <td>I5-764</td>\n",
       "      <td>Delhi</td>\n",
       "      <td>5956</td>\n",
       "    </tr>\n",
       "    <tr>\n",
       "      <th>202</th>\n",
       "      <td>Vistara</td>\n",
       "      <td>UK-819</td>\n",
       "      <td>Delhi</td>\n",
       "      <td>18923</td>\n",
       "    </tr>\n",
       "    <tr>\n",
       "      <th>302</th>\n",
       "      <td>Vistara</td>\n",
       "      <td>UK-879</td>\n",
       "      <td>Delhi</td>\n",
       "      <td>13673</td>\n",
       "    </tr>\n",
       "  </tbody>\n",
       "</table>\n",
       "</div>"
      ]
     },
     "execution_count": 16,
     "metadata": {},
     "output_type": "execute_result"
    }
   ],
   "execution_count": 16
  },
  {
   "cell_type": "code",
   "metadata": {
    "ExecuteTime": {
     "end_time": "2024-07-29T12:11:11.067101Z",
     "start_time": "2024-07-29T12:11:11.027300Z"
    }
   },
   "source": [
    "# iloc를 사용하여 행과 열의 범위 지정하기\n",
    "flight.iloc[[2, 102, 202], [1, 2, 3, 11]]"
   ],
   "id": "faa42545be8f5740",
   "outputs": [
    {
     "data": {
      "text/plain": [
       "     airline  flight source_city  price\n",
       "102  AirAsia  I5-764       Delhi   5956\n",
       "202  Vistara  UK-819       Delhi  18923\n",
       "302  Vistara  UK-879       Delhi  13673"
      ],
      "text/html": [
       "<div>\n",
       "<style scoped>\n",
       "    .dataframe tbody tr th:only-of-type {\n",
       "        vertical-align: middle;\n",
       "    }\n",
       "\n",
       "    .dataframe tbody tr th {\n",
       "        vertical-align: top;\n",
       "    }\n",
       "\n",
       "    .dataframe thead th {\n",
       "        text-align: right;\n",
       "    }\n",
       "</style>\n",
       "<table border=\"1\" class=\"dataframe\">\n",
       "  <thead>\n",
       "    <tr style=\"text-align: right;\">\n",
       "      <th></th>\n",
       "      <th>airline</th>\n",
       "      <th>flight</th>\n",
       "      <th>source_city</th>\n",
       "      <th>price</th>\n",
       "    </tr>\n",
       "  </thead>\n",
       "  <tbody>\n",
       "    <tr>\n",
       "      <th>102</th>\n",
       "      <td>AirAsia</td>\n",
       "      <td>I5-764</td>\n",
       "      <td>Delhi</td>\n",
       "      <td>5956</td>\n",
       "    </tr>\n",
       "    <tr>\n",
       "      <th>202</th>\n",
       "      <td>Vistara</td>\n",
       "      <td>UK-819</td>\n",
       "      <td>Delhi</td>\n",
       "      <td>18923</td>\n",
       "    </tr>\n",
       "    <tr>\n",
       "      <th>302</th>\n",
       "      <td>Vistara</td>\n",
       "      <td>UK-879</td>\n",
       "      <td>Delhi</td>\n",
       "      <td>13673</td>\n",
       "    </tr>\n",
       "  </tbody>\n",
       "</table>\n",
       "</div>"
      ]
     },
     "execution_count": 17,
     "metadata": {},
     "output_type": "execute_result"
    }
   ],
   "execution_count": 17
  },
  {
   "cell_type": "code",
   "metadata": {
    "ExecuteTime": {
     "end_time": "2024-07-29T12:11:23.267467Z",
     "start_time": "2024-07-29T12:11:22.948437Z"
    }
   },
   "source": [
    "# iloc를 사용하였을 때 칼럼값을 그대로 사용시 에러 발생\n",
    "flight.iloc[[2, 102, 202], ['airline', 'flight', 'source_city', 'price']]"
   ],
   "id": "fe2193e9946d28f0",
   "outputs": [
    {
     "ename": "IndexError",
     "evalue": ".iloc requires numeric indexers, got ['airline' 'flight' 'source_city' 'price']",
     "output_type": "error",
     "traceback": [
      "\u001B[0;31m---------------------------------------------------------------------------\u001B[0m",
      "\u001B[0;31mIndexError\u001B[0m                                Traceback (most recent call last)",
      "Cell \u001B[0;32mIn[18], line 2\u001B[0m\n\u001B[1;32m      1\u001B[0m \u001B[38;5;66;03m# iloc를 사용하였을 때 칼럼값을 그대로 사용시 에러 발생\u001B[39;00m\n\u001B[0;32m----> 2\u001B[0m flight\u001B[38;5;241m.\u001B[39miloc[[\u001B[38;5;241m2\u001B[39m, \u001B[38;5;241m102\u001B[39m, \u001B[38;5;241m202\u001B[39m], [\u001B[38;5;124m'\u001B[39m\u001B[38;5;124mairline\u001B[39m\u001B[38;5;124m'\u001B[39m, \u001B[38;5;124m'\u001B[39m\u001B[38;5;124mflight\u001B[39m\u001B[38;5;124m'\u001B[39m, \u001B[38;5;124m'\u001B[39m\u001B[38;5;124msource_city\u001B[39m\u001B[38;5;124m'\u001B[39m, \u001B[38;5;124m'\u001B[39m\u001B[38;5;124mprice\u001B[39m\u001B[38;5;124m'\u001B[39m]]\n",
      "File \u001B[0;32m~/anaconda3/envs/pythonEdu/lib/python3.11/site-packages/pandas/core/indexing.py:1147\u001B[0m, in \u001B[0;36m_LocationIndexer.__getitem__\u001B[0;34m(self, key)\u001B[0m\n\u001B[1;32m   1145\u001B[0m     \u001B[38;5;28;01mif\u001B[39;00m \u001B[38;5;28mself\u001B[39m\u001B[38;5;241m.\u001B[39m_is_scalar_access(key):\n\u001B[1;32m   1146\u001B[0m         \u001B[38;5;28;01mreturn\u001B[39;00m \u001B[38;5;28mself\u001B[39m\u001B[38;5;241m.\u001B[39mobj\u001B[38;5;241m.\u001B[39m_get_value(\u001B[38;5;241m*\u001B[39mkey, takeable\u001B[38;5;241m=\u001B[39m\u001B[38;5;28mself\u001B[39m\u001B[38;5;241m.\u001B[39m_takeable)\n\u001B[0;32m-> 1147\u001B[0m     \u001B[38;5;28;01mreturn\u001B[39;00m \u001B[38;5;28mself\u001B[39m\u001B[38;5;241m.\u001B[39m_getitem_tuple(key)\n\u001B[1;32m   1148\u001B[0m \u001B[38;5;28;01melse\u001B[39;00m:\n\u001B[1;32m   1149\u001B[0m     \u001B[38;5;66;03m# we by definition only have the 0th axis\u001B[39;00m\n\u001B[1;32m   1150\u001B[0m     axis \u001B[38;5;241m=\u001B[39m \u001B[38;5;28mself\u001B[39m\u001B[38;5;241m.\u001B[39maxis \u001B[38;5;129;01mor\u001B[39;00m \u001B[38;5;241m0\u001B[39m\n",
      "File \u001B[0;32m~/anaconda3/envs/pythonEdu/lib/python3.11/site-packages/pandas/core/indexing.py:1652\u001B[0m, in \u001B[0;36m_iLocIndexer._getitem_tuple\u001B[0;34m(self, tup)\u001B[0m\n\u001B[1;32m   1651\u001B[0m \u001B[38;5;28;01mdef\u001B[39;00m \u001B[38;5;21m_getitem_tuple\u001B[39m(\u001B[38;5;28mself\u001B[39m, tup: \u001B[38;5;28mtuple\u001B[39m):\n\u001B[0;32m-> 1652\u001B[0m     tup \u001B[38;5;241m=\u001B[39m \u001B[38;5;28mself\u001B[39m\u001B[38;5;241m.\u001B[39m_validate_tuple_indexer(tup)\n\u001B[1;32m   1653\u001B[0m     \u001B[38;5;28;01mwith\u001B[39;00m suppress(IndexingError):\n\u001B[1;32m   1654\u001B[0m         \u001B[38;5;28;01mreturn\u001B[39;00m \u001B[38;5;28mself\u001B[39m\u001B[38;5;241m.\u001B[39m_getitem_lowerdim(tup)\n",
      "File \u001B[0;32m~/anaconda3/envs/pythonEdu/lib/python3.11/site-packages/pandas/core/indexing.py:940\u001B[0m, in \u001B[0;36m_LocationIndexer._validate_tuple_indexer\u001B[0;34m(self, key)\u001B[0m\n\u001B[1;32m    938\u001B[0m \u001B[38;5;28;01mfor\u001B[39;00m i, k \u001B[38;5;129;01min\u001B[39;00m \u001B[38;5;28menumerate\u001B[39m(key):\n\u001B[1;32m    939\u001B[0m     \u001B[38;5;28;01mtry\u001B[39;00m:\n\u001B[0;32m--> 940\u001B[0m         \u001B[38;5;28mself\u001B[39m\u001B[38;5;241m.\u001B[39m_validate_key(k, i)\n\u001B[1;32m    941\u001B[0m     \u001B[38;5;28;01mexcept\u001B[39;00m \u001B[38;5;167;01mValueError\u001B[39;00m \u001B[38;5;28;01mas\u001B[39;00m err:\n\u001B[1;32m    942\u001B[0m         \u001B[38;5;28;01mraise\u001B[39;00m \u001B[38;5;167;01mValueError\u001B[39;00m(\n\u001B[1;32m    943\u001B[0m             \u001B[38;5;124m\"\u001B[39m\u001B[38;5;124mLocation based indexing can only have \u001B[39m\u001B[38;5;124m\"\u001B[39m\n\u001B[1;32m    944\u001B[0m             \u001B[38;5;124mf\u001B[39m\u001B[38;5;124m\"\u001B[39m\u001B[38;5;124m[\u001B[39m\u001B[38;5;132;01m{\u001B[39;00m\u001B[38;5;28mself\u001B[39m\u001B[38;5;241m.\u001B[39m_valid_types\u001B[38;5;132;01m}\u001B[39;00m\u001B[38;5;124m] types\u001B[39m\u001B[38;5;124m\"\u001B[39m\n\u001B[1;32m    945\u001B[0m         ) \u001B[38;5;28;01mfrom\u001B[39;00m \u001B[38;5;21;01merr\u001B[39;00m\n",
      "File \u001B[0;32m~/anaconda3/envs/pythonEdu/lib/python3.11/site-packages/pandas/core/indexing.py:1570\u001B[0m, in \u001B[0;36m_iLocIndexer._validate_key\u001B[0;34m(self, key, axis)\u001B[0m\n\u001B[1;32m   1568\u001B[0m \u001B[38;5;66;03m# check that the key has a numeric dtype\u001B[39;00m\n\u001B[1;32m   1569\u001B[0m \u001B[38;5;28;01mif\u001B[39;00m \u001B[38;5;129;01mnot\u001B[39;00m is_numeric_dtype(arr\u001B[38;5;241m.\u001B[39mdtype):\n\u001B[0;32m-> 1570\u001B[0m     \u001B[38;5;28;01mraise\u001B[39;00m \u001B[38;5;167;01mIndexError\u001B[39;00m(\u001B[38;5;124mf\u001B[39m\u001B[38;5;124m\"\u001B[39m\u001B[38;5;124m.iloc requires numeric indexers, got \u001B[39m\u001B[38;5;132;01m{\u001B[39;00marr\u001B[38;5;132;01m}\u001B[39;00m\u001B[38;5;124m\"\u001B[39m)\n\u001B[1;32m   1572\u001B[0m \u001B[38;5;66;03m# check that the key does not exceed the maximum size of the index\u001B[39;00m\n\u001B[1;32m   1573\u001B[0m \u001B[38;5;28;01mif\u001B[39;00m \u001B[38;5;28mlen\u001B[39m(arr) \u001B[38;5;129;01mand\u001B[39;00m (arr\u001B[38;5;241m.\u001B[39mmax() \u001B[38;5;241m>\u001B[39m\u001B[38;5;241m=\u001B[39m len_axis \u001B[38;5;129;01mor\u001B[39;00m arr\u001B[38;5;241m.\u001B[39mmin() \u001B[38;5;241m<\u001B[39m \u001B[38;5;241m-\u001B[39mlen_axis):\n",
      "\u001B[0;31mIndexError\u001B[0m: .iloc requires numeric indexers, got ['airline' 'flight' 'source_city' 'price']"
     ]
    }
   ],
   "execution_count": 18
  },
  {
   "attachments": {},
   "cell_type": "markdown",
   "metadata": {},
   "source": [
    "## 4. 조건으로 데이터 선택하기"
   ],
   "id": "f0ca5545e7410e56"
  },
  {
   "attachments": {},
   "cell_type": "markdown",
   "metadata": {},
   "source": [
    "##### ※ 앞서 진행한 실습을 이어서 진행하실 경우 실습을 진행하실 수 있으나, 실습 코드가 반영되어 결과 값의 차이가 있을 수 있습니다.\n",
    "#####      실습 데이터를 다시 불러온 후 데이터프레임을 만들어 실습을 진행합니다."
   ],
   "id": "a07c689fccf98067"
  },
  {
   "cell_type": "code",
   "metadata": {
    "ExecuteTime": {
     "end_time": "2024-07-29T12:13:19.730357Z",
     "start_time": "2024-07-29T12:13:19.456553Z"
    }
   },
   "source": [
    "# flight DataFrame을 만들기 \n",
    "flight = pd.read_csv('./dataset/Clean_Dataset.csv', encoding = \"cp949\")\n",
    "flight"
   ],
   "id": "468b051d779f9b27",
   "outputs": [
    {
     "data": {
      "text/plain": [
       "        Unnamed: 0   airline   flight source_city departure_time stops  \\\n",
       "0                0  SpiceJet  SG-8709       Delhi        Evening  zero   \n",
       "1                1  SpiceJet  SG-8157       Delhi  Early_Morning  zero   \n",
       "2                2   AirAsia   I5-764       Delhi  Early_Morning  zero   \n",
       "3                3   Vistara   UK-995       Delhi        Morning  zero   \n",
       "4                4   Vistara   UK-963       Delhi        Morning  zero   \n",
       "...            ...       ...      ...         ...            ...   ...   \n",
       "300148      300148   Vistara   UK-822     Chennai        Morning   one   \n",
       "300149      300149   Vistara   UK-826     Chennai      Afternoon   one   \n",
       "300150      300150   Vistara   UK-832     Chennai  Early_Morning   one   \n",
       "300151      300151   Vistara   UK-828     Chennai  Early_Morning   one   \n",
       "300152      300152   Vistara   UK-822     Chennai        Morning   one   \n",
       "\n",
       "         arrival_time destination_city     class  duration  days_left  price  \n",
       "0               Night           Mumbai   Economy      2.17          1   5953  \n",
       "1             Morning           Mumbai   Economy      2.33          1   5953  \n",
       "2       Early_Morning           Mumbai   Economy      2.17          1   5956  \n",
       "3           Afternoon           Mumbai   Economy      2.25          1   5955  \n",
       "4             Morning           Mumbai   Economy      2.33          1   5955  \n",
       "...               ...              ...       ...       ...        ...    ...  \n",
       "300148        Evening        Hyderabad  Business     10.08         49  69265  \n",
       "300149          Night        Hyderabad  Business     10.42         49  77105  \n",
       "300150          Night        Hyderabad  Business     13.83         49  79099  \n",
       "300151        Evening        Hyderabad  Business     10.00         49  81585  \n",
       "300152        Evening        Hyderabad  Business     10.08         49  81585  \n",
       "\n",
       "[300153 rows x 12 columns]"
      ],
      "text/html": [
       "<div>\n",
       "<style scoped>\n",
       "    .dataframe tbody tr th:only-of-type {\n",
       "        vertical-align: middle;\n",
       "    }\n",
       "\n",
       "    .dataframe tbody tr th {\n",
       "        vertical-align: top;\n",
       "    }\n",
       "\n",
       "    .dataframe thead th {\n",
       "        text-align: right;\n",
       "    }\n",
       "</style>\n",
       "<table border=\"1\" class=\"dataframe\">\n",
       "  <thead>\n",
       "    <tr style=\"text-align: right;\">\n",
       "      <th></th>\n",
       "      <th>Unnamed: 0</th>\n",
       "      <th>airline</th>\n",
       "      <th>flight</th>\n",
       "      <th>source_city</th>\n",
       "      <th>departure_time</th>\n",
       "      <th>stops</th>\n",
       "      <th>arrival_time</th>\n",
       "      <th>destination_city</th>\n",
       "      <th>class</th>\n",
       "      <th>duration</th>\n",
       "      <th>days_left</th>\n",
       "      <th>price</th>\n",
       "    </tr>\n",
       "  </thead>\n",
       "  <tbody>\n",
       "    <tr>\n",
       "      <th>0</th>\n",
       "      <td>0</td>\n",
       "      <td>SpiceJet</td>\n",
       "      <td>SG-8709</td>\n",
       "      <td>Delhi</td>\n",
       "      <td>Evening</td>\n",
       "      <td>zero</td>\n",
       "      <td>Night</td>\n",
       "      <td>Mumbai</td>\n",
       "      <td>Economy</td>\n",
       "      <td>2.17</td>\n",
       "      <td>1</td>\n",
       "      <td>5953</td>\n",
       "    </tr>\n",
       "    <tr>\n",
       "      <th>1</th>\n",
       "      <td>1</td>\n",
       "      <td>SpiceJet</td>\n",
       "      <td>SG-8157</td>\n",
       "      <td>Delhi</td>\n",
       "      <td>Early_Morning</td>\n",
       "      <td>zero</td>\n",
       "      <td>Morning</td>\n",
       "      <td>Mumbai</td>\n",
       "      <td>Economy</td>\n",
       "      <td>2.33</td>\n",
       "      <td>1</td>\n",
       "      <td>5953</td>\n",
       "    </tr>\n",
       "    <tr>\n",
       "      <th>2</th>\n",
       "      <td>2</td>\n",
       "      <td>AirAsia</td>\n",
       "      <td>I5-764</td>\n",
       "      <td>Delhi</td>\n",
       "      <td>Early_Morning</td>\n",
       "      <td>zero</td>\n",
       "      <td>Early_Morning</td>\n",
       "      <td>Mumbai</td>\n",
       "      <td>Economy</td>\n",
       "      <td>2.17</td>\n",
       "      <td>1</td>\n",
       "      <td>5956</td>\n",
       "    </tr>\n",
       "    <tr>\n",
       "      <th>3</th>\n",
       "      <td>3</td>\n",
       "      <td>Vistara</td>\n",
       "      <td>UK-995</td>\n",
       "      <td>Delhi</td>\n",
       "      <td>Morning</td>\n",
       "      <td>zero</td>\n",
       "      <td>Afternoon</td>\n",
       "      <td>Mumbai</td>\n",
       "      <td>Economy</td>\n",
       "      <td>2.25</td>\n",
       "      <td>1</td>\n",
       "      <td>5955</td>\n",
       "    </tr>\n",
       "    <tr>\n",
       "      <th>4</th>\n",
       "      <td>4</td>\n",
       "      <td>Vistara</td>\n",
       "      <td>UK-963</td>\n",
       "      <td>Delhi</td>\n",
       "      <td>Morning</td>\n",
       "      <td>zero</td>\n",
       "      <td>Morning</td>\n",
       "      <td>Mumbai</td>\n",
       "      <td>Economy</td>\n",
       "      <td>2.33</td>\n",
       "      <td>1</td>\n",
       "      <td>5955</td>\n",
       "    </tr>\n",
       "    <tr>\n",
       "      <th>...</th>\n",
       "      <td>...</td>\n",
       "      <td>...</td>\n",
       "      <td>...</td>\n",
       "      <td>...</td>\n",
       "      <td>...</td>\n",
       "      <td>...</td>\n",
       "      <td>...</td>\n",
       "      <td>...</td>\n",
       "      <td>...</td>\n",
       "      <td>...</td>\n",
       "      <td>...</td>\n",
       "      <td>...</td>\n",
       "    </tr>\n",
       "    <tr>\n",
       "      <th>300148</th>\n",
       "      <td>300148</td>\n",
       "      <td>Vistara</td>\n",
       "      <td>UK-822</td>\n",
       "      <td>Chennai</td>\n",
       "      <td>Morning</td>\n",
       "      <td>one</td>\n",
       "      <td>Evening</td>\n",
       "      <td>Hyderabad</td>\n",
       "      <td>Business</td>\n",
       "      <td>10.08</td>\n",
       "      <td>49</td>\n",
       "      <td>69265</td>\n",
       "    </tr>\n",
       "    <tr>\n",
       "      <th>300149</th>\n",
       "      <td>300149</td>\n",
       "      <td>Vistara</td>\n",
       "      <td>UK-826</td>\n",
       "      <td>Chennai</td>\n",
       "      <td>Afternoon</td>\n",
       "      <td>one</td>\n",
       "      <td>Night</td>\n",
       "      <td>Hyderabad</td>\n",
       "      <td>Business</td>\n",
       "      <td>10.42</td>\n",
       "      <td>49</td>\n",
       "      <td>77105</td>\n",
       "    </tr>\n",
       "    <tr>\n",
       "      <th>300150</th>\n",
       "      <td>300150</td>\n",
       "      <td>Vistara</td>\n",
       "      <td>UK-832</td>\n",
       "      <td>Chennai</td>\n",
       "      <td>Early_Morning</td>\n",
       "      <td>one</td>\n",
       "      <td>Night</td>\n",
       "      <td>Hyderabad</td>\n",
       "      <td>Business</td>\n",
       "      <td>13.83</td>\n",
       "      <td>49</td>\n",
       "      <td>79099</td>\n",
       "    </tr>\n",
       "    <tr>\n",
       "      <th>300151</th>\n",
       "      <td>300151</td>\n",
       "      <td>Vistara</td>\n",
       "      <td>UK-828</td>\n",
       "      <td>Chennai</td>\n",
       "      <td>Early_Morning</td>\n",
       "      <td>one</td>\n",
       "      <td>Evening</td>\n",
       "      <td>Hyderabad</td>\n",
       "      <td>Business</td>\n",
       "      <td>10.00</td>\n",
       "      <td>49</td>\n",
       "      <td>81585</td>\n",
       "    </tr>\n",
       "    <tr>\n",
       "      <th>300152</th>\n",
       "      <td>300152</td>\n",
       "      <td>Vistara</td>\n",
       "      <td>UK-822</td>\n",
       "      <td>Chennai</td>\n",
       "      <td>Morning</td>\n",
       "      <td>one</td>\n",
       "      <td>Evening</td>\n",
       "      <td>Hyderabad</td>\n",
       "      <td>Business</td>\n",
       "      <td>10.08</td>\n",
       "      <td>49</td>\n",
       "      <td>81585</td>\n",
       "    </tr>\n",
       "  </tbody>\n",
       "</table>\n",
       "<p>300153 rows × 12 columns</p>\n",
       "</div>"
      ]
     },
     "execution_count": 19,
     "metadata": {},
     "output_type": "execute_result"
    }
   ],
   "execution_count": 19
  },
  {
   "attachments": {},
   "cell_type": "markdown",
   "metadata": {},
   "source": [
    "##### ## 조건 : price가 12000 초과 이고, airline이 Air_india인 항목만 추출"
   ],
   "id": "a4a0219110de7807"
  },
  {
   "cell_type": "code",
   "metadata": {
    "scrolled": true,
    "ExecuteTime": {
     "end_time": "2024-07-29T12:13:28.139024Z",
     "start_time": "2024-07-29T12:13:28.098247Z"
    }
   },
   "source": [
    "# boolean 연산으로 조건을 만족하는 데이터만 추출하기\n",
    "flight_extract = flight[(flight['price']>12000) & (flight['airline']=='Air_India')]\n",
    "flight_extract.head()"
   ],
   "id": "c8993418eb150bee",
   "outputs": [
    {
     "data": {
      "text/plain": [
       "    Unnamed: 0    airline  flight source_city departure_time stops  \\\n",
       "40          40  Air_India  AI-504       Delhi          Night   one   \n",
       "41          41  Air_India  AI-502       Delhi      Afternoon   one   \n",
       "42          42  Air_India  AI-506       Delhi        Morning   one   \n",
       "43          43  Air_India  AI-803       Delhi  Early_Morning   one   \n",
       "44          44  Air_India  AI-479       Delhi          Night   one   \n",
       "\n",
       "   arrival_time destination_city    class  duration  days_left  price  \n",
       "40      Morning           Mumbai  Economy     11.00          1  12150  \n",
       "41      Morning           Mumbai  Economy     19.08          1  12150  \n",
       "42      Morning           Mumbai  Economy     22.83          1  12150  \n",
       "43      Morning           Mumbai  Economy     26.42          1  12150  \n",
       "44    Afternoon           Mumbai  Economy     17.75          1  12215  "
      ],
      "text/html": [
       "<div>\n",
       "<style scoped>\n",
       "    .dataframe tbody tr th:only-of-type {\n",
       "        vertical-align: middle;\n",
       "    }\n",
       "\n",
       "    .dataframe tbody tr th {\n",
       "        vertical-align: top;\n",
       "    }\n",
       "\n",
       "    .dataframe thead th {\n",
       "        text-align: right;\n",
       "    }\n",
       "</style>\n",
       "<table border=\"1\" class=\"dataframe\">\n",
       "  <thead>\n",
       "    <tr style=\"text-align: right;\">\n",
       "      <th></th>\n",
       "      <th>Unnamed: 0</th>\n",
       "      <th>airline</th>\n",
       "      <th>flight</th>\n",
       "      <th>source_city</th>\n",
       "      <th>departure_time</th>\n",
       "      <th>stops</th>\n",
       "      <th>arrival_time</th>\n",
       "      <th>destination_city</th>\n",
       "      <th>class</th>\n",
       "      <th>duration</th>\n",
       "      <th>days_left</th>\n",
       "      <th>price</th>\n",
       "    </tr>\n",
       "  </thead>\n",
       "  <tbody>\n",
       "    <tr>\n",
       "      <th>40</th>\n",
       "      <td>40</td>\n",
       "      <td>Air_India</td>\n",
       "      <td>AI-504</td>\n",
       "      <td>Delhi</td>\n",
       "      <td>Night</td>\n",
       "      <td>one</td>\n",
       "      <td>Morning</td>\n",
       "      <td>Mumbai</td>\n",
       "      <td>Economy</td>\n",
       "      <td>11.00</td>\n",
       "      <td>1</td>\n",
       "      <td>12150</td>\n",
       "    </tr>\n",
       "    <tr>\n",
       "      <th>41</th>\n",
       "      <td>41</td>\n",
       "      <td>Air_India</td>\n",
       "      <td>AI-502</td>\n",
       "      <td>Delhi</td>\n",
       "      <td>Afternoon</td>\n",
       "      <td>one</td>\n",
       "      <td>Morning</td>\n",
       "      <td>Mumbai</td>\n",
       "      <td>Economy</td>\n",
       "      <td>19.08</td>\n",
       "      <td>1</td>\n",
       "      <td>12150</td>\n",
       "    </tr>\n",
       "    <tr>\n",
       "      <th>42</th>\n",
       "      <td>42</td>\n",
       "      <td>Air_India</td>\n",
       "      <td>AI-506</td>\n",
       "      <td>Delhi</td>\n",
       "      <td>Morning</td>\n",
       "      <td>one</td>\n",
       "      <td>Morning</td>\n",
       "      <td>Mumbai</td>\n",
       "      <td>Economy</td>\n",
       "      <td>22.83</td>\n",
       "      <td>1</td>\n",
       "      <td>12150</td>\n",
       "    </tr>\n",
       "    <tr>\n",
       "      <th>43</th>\n",
       "      <td>43</td>\n",
       "      <td>Air_India</td>\n",
       "      <td>AI-803</td>\n",
       "      <td>Delhi</td>\n",
       "      <td>Early_Morning</td>\n",
       "      <td>one</td>\n",
       "      <td>Morning</td>\n",
       "      <td>Mumbai</td>\n",
       "      <td>Economy</td>\n",
       "      <td>26.42</td>\n",
       "      <td>1</td>\n",
       "      <td>12150</td>\n",
       "    </tr>\n",
       "    <tr>\n",
       "      <th>44</th>\n",
       "      <td>44</td>\n",
       "      <td>Air_India</td>\n",
       "      <td>AI-479</td>\n",
       "      <td>Delhi</td>\n",
       "      <td>Night</td>\n",
       "      <td>one</td>\n",
       "      <td>Afternoon</td>\n",
       "      <td>Mumbai</td>\n",
       "      <td>Economy</td>\n",
       "      <td>17.75</td>\n",
       "      <td>1</td>\n",
       "      <td>12215</td>\n",
       "    </tr>\n",
       "  </tbody>\n",
       "</table>\n",
       "</div>"
      ]
     },
     "execution_count": 20,
     "metadata": {},
     "output_type": "execute_result"
    }
   ],
   "execution_count": 20
  },
  {
   "attachments": {},
   "cell_type": "markdown",
   "metadata": {},
   "source": [
    "##### ## 조건1. : price가 12000 초과"
   ],
   "id": "2b09dfc891bea5f9"
  },
  {
   "cell_type": "markdown",
   "metadata": {},
   "source": [
    "##### ## 조건2. : airline이 Air_India"
   ],
   "id": "77af4ef3e4c20839"
  },
  {
   "cell_type": "code",
   "metadata": {},
   "source": [
    "# 조건을 별도로 지정하여 데이터 추출하기 \n",
    "\n",
    "# 가격: 12000 초과\n",
    "price_Tag = flight['price']>12000\n",
    "# 항공사 이름: Air_India\n",
    "airline_tag = flight['airline']=='Air_India'\n",
    "\n",
    "flight_extract2=flight[price_Tag & airline_tag].head()\n",
    "flight_extract2"
   ],
   "id": "4ee1d445ddfec801",
   "outputs": [],
   "execution_count": null
  },
  {
   "attachments": {},
   "cell_type": "markdown",
   "metadata": {},
   "source": [
    "# SECTION 02. 필요 데이터 변경하기"
   ],
   "id": "4b58f5b55f3563ba"
  },
  {
   "attachments": {},
   "cell_type": "markdown",
   "metadata": {},
   "source": [
    "## 1. 데이터 추가하기"
   ],
   "id": "541ab07c117dac22"
  },
  {
   "cell_type": "code",
   "metadata": {},
   "source": [
    "# 새로운 칼럼 만들기\n",
    "flight['price2'] = flight['price'] * 2\n",
    "flight.head()"
   ],
   "id": "eeb9c2ceee4f321",
   "outputs": [],
   "execution_count": null
  },
  {
   "cell_type": "code",
   "metadata": {},
   "source": [
    "# 기존 칼럼 연산으로 새로운 칼럼 만들기\n",
    "flight['price3'] = flight['price'] + flight['price2']\n",
    "flight.head()"
   ],
   "id": "3d2b4b95e4e737a3",
   "outputs": [],
   "execution_count": null
  },
  {
   "cell_type": "code",
   "metadata": {},
   "source": [
    "# 새로운 칼럼 원하는 위치에 넣기\n",
    "flight.insert(10, 'duration2', flight['duration'] *10) \n",
    "# 처음 0부터 시작하여 10번 칼럼으로 insert\n",
    "flight.head()"
   ],
   "id": "d8bd8eb150bc1061",
   "outputs": [],
   "execution_count": null
  },
  {
   "attachments": {},
   "cell_type": "markdown",
   "metadata": {},
   "source": [
    "## 2. 데이터 삭제하기"
   ],
   "id": "f780a06340a31c00"
  },
  {
   "cell_type": "code",
   "metadata": {},
   "source": [
    "# drop 메소드 사용하여 데이터 삭제 하기\n",
    "flight.drop('price3', axis=1).head()"
   ],
   "id": "a89e62543718e8b4",
   "outputs": [],
   "execution_count": null
  },
  {
   "cell_type": "code",
   "metadata": {},
   "source": [
    "# axis 속성 이해하기\n",
    "flight.drop(index=0, axis=0).head()"
   ],
   "id": "e92187e978974ff6",
   "outputs": [],
   "execution_count": null
  },
  {
   "cell_type": "code",
   "metadata": {},
   "source": [
    "# 첫 행 데이터 지워진 것 확인하기\n",
    "flight.head()"
   ],
   "id": "b4041f332dcb5352",
   "outputs": [],
   "execution_count": null
  },
  {
   "cell_type": "code",
   "metadata": {},
   "source": [
    "# 데이터 삭제 후 새로운 데이터프레임에 저장하기\n",
    "flight1=flight.drop('price3', axis=1)\n",
    "flight1.head()"
   ],
   "id": "bbe0b33ab7301999",
   "outputs": [],
   "execution_count": null
  },
  {
   "cell_type": "code",
   "metadata": {},
   "source": [
    "# drop 메소드의 inplace 속성 확인하기\n",
    "flight.drop('price3', axis=1, inplace=True)\n",
    "flight.head()"
   ],
   "id": "246b69821c601813",
   "outputs": [],
   "execution_count": null
  },
  {
   "attachments": {},
   "cell_type": "markdown",
   "metadata": {},
   "source": [
    "## 3. 칼럼명 변경하기"
   ],
   "id": "d1d2e87322c6ccc8"
  },
  {
   "cell_type": "code",
   "metadata": {},
   "source": [
    "# rename 이용하여 칼럼명 변경하기\n",
    "flight=flight.rename(columns = {\"airline\" : 'airline_name',\"source_city\":'departure_city'})\n",
    "flight.head()"
   ],
   "id": "8e2c55e3438d90cf",
   "outputs": [],
   "execution_count": null
  },
  {
   "attachments": {},
   "cell_type": "markdown",
   "metadata": {},
   "source": [
    "## 4. 데이터프레임 정렬하기"
   ],
   "id": "c1b83fc61282e8ee"
  },
  {
   "cell_type": "code",
   "metadata": {},
   "source": [
    "# sort_values 메소드와 ascending 매개변수 지정하여 데이터 프레임 역순으로 정렬하기\n",
    "flight=flight.sort_values(by ='Unnamed: 0', ascending=False)\n",
    "flight.head()"
   ],
   "id": "9f70fefa3770edf1",
   "outputs": [],
   "execution_count": null
  },
  {
   "cell_type": "code",
   "metadata": {},
   "source": [
    "# sort_values 메소드와 ascending 매개변수 지정하여 데이터 프레임 역순으로 정렬하기\n",
    "flight=flight.sort_values(by ='Unnamed: 0', ascending=True)\n",
    "flight.head()"
   ],
   "id": "7468c41231be4f58",
   "outputs": [],
   "execution_count": null
  },
  {
   "attachments": {},
   "cell_type": "markdown",
   "metadata": {},
   "source": [
    "# SECTION 03. 데이터 프레임 변형하기"
   ],
   "id": "5be6cadc75740826"
  },
  {
   "attachments": {},
   "cell_type": "markdown",
   "id": "4734256a",
   "metadata": {},
   "source": [
    "\n",
    "##### ※ 앞서 진행한 실습을 이어서 진행하실 경우 실습을 진행하실 수 있으나, 실습코드가 반영되어 결과값의 차이가 있을 수 있습니다.\n",
    "#####    실습 데이터를 다시 불러온 후 데이터프레임을 만들어 실습을 진행 합니다. "
   ]
  },
  {
   "cell_type": "code",
   "metadata": {},
   "source": [
    "# flight DataFrame 만들기\n",
    "flight = pd.read_csv('./Clean_Dataset.csv', encoding = \"cp949\")\n",
    "flight"
   ],
   "id": "84206efc348c4f24",
   "outputs": [],
   "execution_count": null
  },
  {
   "attachments": {},
   "cell_type": "markdown",
   "id": "8fd8eab8",
   "metadata": {},
   "source": [
    "## 1. 그룹화 하기"
   ]
  },
  {
   "cell_type": "markdown",
   "metadata": {
    "ExecuteTime": {
     "end_time": "2023-03-10T04:44:07.141718Z",
     "start_time": "2023-03-10T04:44:07.122545Z"
    }
   },
   "source": [
    "### 1) groupby 활용하기"
   ],
   "id": "6df6cdfcd2f6cb63"
  },
  {
   "cell_type": "code",
   "metadata": {},
   "source": [
    "# airline 칼럼 기준으로 그룹화하기\n",
    "airline_group = flight.groupby('airline')\n",
    "airline_group"
   ],
   "id": "a96b1b0ba33ddfbb",
   "outputs": [],
   "execution_count": null
  },
  {
   "cell_type": "code",
   "metadata": {},
   "source": [
    "# 수행 결과 확인하기 \n",
    "airline_group.groups"
   ],
   "id": "f0ae588beee237df",
   "outputs": [],
   "execution_count": null
  },
  {
   "cell_type": "code",
   "metadata": {},
   "source": [
    "# 데이터 수 확인하기\n",
    "airline_group.count()"
   ],
   "id": "8dd63285d1739f4f",
   "outputs": [],
   "execution_count": null
  },
  {
   "cell_type": "code",
   "metadata": {},
   "source": [
    "# 최솟값 확인하기\n",
    "airline_group.min()"
   ],
   "id": "e396bc6dc0bfff66",
   "outputs": [],
   "execution_count": null
  },
  {
   "cell_type": "code",
   "metadata": {},
   "source": [
    "# 평균값 확인하기\n",
    "airline_group.mean()"
   ],
   "id": "78a9788cac0f2c3d",
   "outputs": [],
   "execution_count": null
  },
  {
   "cell_type": "code",
   "metadata": {},
   "source": [
    "# 특정 칼럼 값만 확인하기\n",
    "airline_group.mean()[['price']]"
   ],
   "id": "a16646fd9d99e5f9",
   "outputs": [],
   "execution_count": null
  },
  {
   "cell_type": "code",
   "metadata": {},
   "source": [
    "# groupby를 활용하여 다중 인덱싱(multi-indexing)설정하기\n",
    "flight.groupby(['airline', 'arrival_time']).mean()"
   ],
   "id": "21b4ef6a607462e4",
   "outputs": [],
   "execution_count": null
  },
  {
   "cell_type": "code",
   "metadata": {},
   "source": [
    "# 여러 개의 칼럼을 groupby하여 새로운 데이터프레임 생성하기\n",
    "mul_airline_group=flight.groupby(['airline', 'arrival_time'])\n",
    "mul_airline_group.mean()"
   ],
   "id": "48fe136ad573355a",
   "outputs": [],
   "execution_count": null
  },
  {
   "cell_type": "code",
   "metadata": {},
   "source": [
    "# groupby 후 원하는 데이터만 가지고 오기\n",
    "flight.groupby(['airline', 'arrival_time']).mean().loc[[('AirAsia','Evening')]]"
   ],
   "id": "1accba2cdc9a1558",
   "outputs": [],
   "execution_count": null
  },
  {
   "cell_type": "markdown",
   "metadata": {},
   "source": [
    "### 2) 인덱스로 그룹화하기"
   ],
   "id": "2d71191c3b32b441"
  },
  {
   "cell_type": "code",
   "metadata": {},
   "source": [
    "# set_index로 인덱스 지정하기\n",
    "flight.set_index(['airline','arrival_time'])"
   ],
   "id": "bd9fbec50dab3577",
   "outputs": [],
   "execution_count": null
  },
  {
   "cell_type": "code",
   "metadata": {},
   "source": [
    "# 다중 인덱스(multi-index) 셋팅 후 해당 인덱스 기준으로 groupby하기\n",
    "flight.set_index(['airline','arrival_time']).groupby(level=[0]).mean()"
   ],
   "id": "e4e728f3e9762751",
   "outputs": [],
   "execution_count": null
  },
  {
   "cell_type": "code",
   "metadata": {},
   "source": [
    "# 인덱스 모두 선택하여 groupby 하기\n",
    "flight.set_index(['airline','arrival_time']).groupby(level=[0,1]).mean()"
   ],
   "id": "ab0bd7afe6bc64b7",
   "outputs": [],
   "execution_count": null
  },
  {
   "attachments": {},
   "cell_type": "markdown",
   "metadata": {},
   "source": [
    "### 3) Aggrgate로 집계하기"
   ],
   "id": "35a1b7ce027a6539"
  },
  {
   "cell_type": "code",
   "metadata": {},
   "source": [
    "# aggregate 메소드 이용하여 groupby 후 평균값과 최댓값 확인하기 \n",
    "flight.set_index(['airline','arrival_time']).groupby(level=[0,1]).aggregate([np.mean, np.max])"
   ],
   "id": "522cf3adb4e3bfdc",
   "outputs": [],
   "execution_count": null
  },
  {
   "attachments": {},
   "cell_type": "markdown",
   "metadata": {},
   "source": [
    "## 2. 피벗테이블 생성하기"
   ],
   "id": "876ee7041f07132b"
  },
  {
   "cell_type": "code",
   "metadata": {},
   "source": [
    "# pivot / pivot_table을 위한 데이터프레임 만들기\n",
    "import numpy as np\n",
    "import pandas as pd\n",
    "pivot_data = pd.DataFrame({'cust_id': ['cust_1', 'cust_1', 'cust_1', 'cust_2', 'cust_2', 'cust_2', 'cust_3', 'cust_3', 'cust_3'],\n",
    "                  'prod_cd': ['p1', 'p2', 'p3', 'p1', 'p2', 'p3', 'p1', 'p2', 'p3'],\n",
    "                  'grade' : ['A', 'A', 'A', 'A', 'A', 'A', 'B', 'B', 'B'],\n",
    "                  'purch_amt': [30, 10, 0, 40, 15, 30, 0, 0, 10]})\n",
    "pivot_data"
   ],
   "id": "e542935f46c3fab3",
   "outputs": [],
   "execution_count": null
  },
  {
   "cell_type": "code",
   "metadata": {},
   "source": [
    "# pivot 활용하기\n",
    "pivot_data.pivot(index = 'cust_id', columns ='prod_cd', values ='purch_amt')\n",
    "\n",
    "# 해당 pivot data는 아래와 같이 코드를 작성할 수도 있습니다.\n",
    "# pivot_data('cust_id', 'prod_cd', 'pch_amt')"
   ],
   "id": "d91b7962d70ea5e",
   "outputs": [],
   "execution_count": null
  },
  {
   "cell_type": "code",
   "metadata": {},
   "source": [
    "# 중복값이 존재하는 경우 에러 메시지\n",
    "pivot_data.pivot(index='grade', columns='prod_cd', values='purch_amt')  "
   ],
   "id": "89a7b21d0b4e03f3",
   "outputs": [],
   "execution_count": null
  },
  {
   "cell_type": "code",
   "metadata": {},
   "source": [
    "# pivot_table 활용하기\n",
    "pivot_data.pivot_table(index='grade', columns='prod_cd', values='purch_amt')"
   ],
   "id": "31ce0eb952041c06",
   "outputs": [],
   "execution_count": null
  },
  {
   "cell_type": "code",
   "metadata": {},
   "source": [
    "# pivot_table의 aggfunc 지정하기\n",
    "pivot_data.pivot_table(index='grade', columns='prod_cd', values='purch_amt', aggfunc=np.sum)"
   ],
   "id": "ec3136702a37c4ab",
   "outputs": [],
   "execution_count": null
  },
  {
   "attachments": {},
   "cell_type": "markdown",
   "metadata": {},
   "source": [
    "## 3. 인덱스 및 칼럼 레벨 변경하기"
   ],
   "id": "44be3c5b6e6710b3"
  },
  {
   "cell_type": "code",
   "metadata": {},
   "source": [
    "# stack/unstack을 위한 데이터프레임 만들기\n",
    "import numpy as np\n",
    "import pandas as pd\n",
    "stack_data = pd.DataFrame({\n",
    "    'Location': ['Seoul', 'Seoul', 'Seoul', 'kyounggi', 'kyounggi', 'Busan', 'Seoul', 'Seoul', 'Busan', 'kyounggi', 'kyounggi', 'kyounggi'],\n",
    "    'Day': ['Mon', 'Tue', 'Wed', 'Mon', 'Tue', 'Mon', 'Thu', 'Fri', 'Tue', 'Wed', 'Thu', 'Fri'],\n",
    "    'Ranfall': [100, 80, 1000, 200, 200, 100, 50, 100, 200, 100, 50, 100],\n",
    "    'Rainfall_precipitation': [80, 70, 90, 10, 20, 30, 50, 90, 20, 80, 50, 10],\n",
    "    'Temp' : [32, 27, 32, 31, 30, 28, 27, 25, 26, 33, 34, 31]})\n",
    "\n",
    "stack_data"
   ],
   "id": "7cd839541a545f4f",
   "outputs": [],
   "execution_count": null
  },
  {
   "cell_type": "code",
   "metadata": {},
   "source": [
    "# 인덱스 설정하기\n",
    "new_stack_data = stack_data.set_index(['Location','Day'])\n",
    "new_stack_data"
   ],
   "id": "6db4fad55f55b6a6",
   "outputs": [],
   "execution_count": null
  },
  {
   "cell_type": "code",
   "metadata": {},
   "source": [
    "# unstack 확인하기\n",
    "new_stack_data.unstack(0)"
   ],
   "id": "2d7dc83cbc440a9c",
   "outputs": [],
   "execution_count": null
  },
  {
   "cell_type": "code",
   "metadata": {},
   "source": [
    "new_stack_data.unstack(1)"
   ],
   "id": "3602da1a7df92d85",
   "outputs": [],
   "execution_count": null
  },
  {
   "cell_type": "code",
   "metadata": {},
   "source": [
    "new_stack_data2 = new_stack_data.unstack(1)\n",
    "new_stack_data2.stack(1)"
   ],
   "id": "65fffae8f143de1e",
   "outputs": [],
   "execution_count": null
  },
  {
   "attachments": {},
   "cell_type": "markdown",
   "metadata": {},
   "source": [
    "# SECTION 04. 데이터프레임 병합하기"
   ],
   "id": "814bceed5925128a"
  },
  {
   "attachments": {},
   "cell_type": "markdown",
   "metadata": {},
   "source": [
    "## 1. concat 활용하여 병합하기"
   ],
   "id": "a2e723d21f407c27"
  },
  {
   "cell_type": "markdown",
   "metadata": {},
   "source": [
    "### 1) 칼럼명이 같은 경우"
   ],
   "id": "c4c0232681f67f2b"
  },
  {
   "cell_type": "code",
   "metadata": {},
   "source": [
    "# concat 실행을 위한 데이터프레임 만들기\n",
    "import pandas as pd\n",
    "import numpy as np\n",
    "df1 = pd.DataFrame({'col1' : ['사과','배','감','수박','메론'], 'col2' : [500, 1000, 2500, 5000,3000]}, index=[0,1,2,3,4])\n",
    "df2 = pd.DataFrame({'col1' : ['수박','메론','딸기','키위','오렌지'], 'col2' : [5000,3000,1000,600,700]}, index=[3,4,5,6,7])"
   ],
   "id": "1af1b52b4f34e91e",
   "outputs": [],
   "execution_count": null
  },
  {
   "cell_type": "code",
   "metadata": {},
   "source": [
    "df1"
   ],
   "id": "423cd24100531f88",
   "outputs": [],
   "execution_count": null
  },
  {
   "cell_type": "code",
   "metadata": {},
   "source": [
    "df2"
   ],
   "id": "c5ade2f60c1e8df6",
   "outputs": [],
   "execution_count": null
  },
  {
   "cell_type": "code",
   "metadata": {},
   "source": [
    "# ignore_index 확인하기\n",
    "pd.concat([df1, df2], ignore_index=False)"
   ],
   "id": "ee34ac70214e8322",
   "outputs": [],
   "execution_count": null
  },
  {
   "cell_type": "code",
   "metadata": {},
   "source": [
    "pd.concat([df1, df2], ignore_index=True)"
   ],
   "id": "2af0cab2c8c0fc19",
   "outputs": [],
   "execution_count": null
  },
  {
   "cell_type": "code",
   "metadata": {},
   "source": [
    "# concat axis 이해하기\n",
    "pd.concat([df1, df2], axis = 1)"
   ],
   "id": "50c926862700deb9",
   "outputs": [],
   "execution_count": null
  },
  {
   "cell_type": "markdown",
   "metadata": {},
   "source": [
    "### 2) 칼럼명이 다른 경우"
   ],
   "id": "ae80b083a0b0fc28"
  },
  {
   "cell_type": "code",
   "metadata": {},
   "source": [
    "df3 = pd.DataFrame({'item':['item0','item1','item2', 'item3'], 'count':['count0','count1','count2','count3'],\n",
    "                    'price':['price0','price1','price2','price3']}, index = [0,1,2,3])\n",
    "df4 = pd.DataFrame({'item':['item2','item3','item4', 'item5'], 'count':['count2','count3','count4','count5'],\n",
    "                    'price':['price2','price3','price4','price5'], 'var':['var2','var3','var4','var5']}, index = [2,3,4,5])"
   ],
   "id": "5aaf7a0c3b27471a",
   "outputs": [],
   "execution_count": null
  },
  {
   "cell_type": "code",
   "metadata": {},
   "source": [
    "df3"
   ],
   "id": "313d924f324d1ad8",
   "outputs": [],
   "execution_count": null
  },
  {
   "cell_type": "code",
   "metadata": {},
   "source": [
    "df4"
   ],
   "id": "3e3eba4ea394e59c",
   "outputs": [],
   "execution_count": null
  },
  {
   "cell_type": "code",
   "metadata": {},
   "source": [
    "# join의 outer 방식\n",
    "pd.concat([df3, df4], join='outer')"
   ],
   "id": "8f014f846a1632f8",
   "outputs": [],
   "execution_count": null
  },
  {
   "cell_type": "code",
   "metadata": {},
   "source": [
    "# join의 inner 방식\n",
    "pd.concat([df3, df4], join='inner')"
   ],
   "id": "221bce6d2366fb75",
   "outputs": [],
   "execution_count": null
  },
  {
   "cell_type": "markdown",
   "metadata": {},
   "source": [
    "### 3) 인덱스가 중복인 경우"
   ],
   "id": "69d95637b51abc4a"
  },
  {
   "cell_type": "code",
   "metadata": {},
   "source": [
    "df5 = pd.DataFrame({'A':['A0','A1','A2'], 'B':['B0','B1','B2'], 'C':['C0','C1','C2'], 'D':['D0','D1','D2']}, index=['I0','I1','I2'])\n",
    "df6 = pd.DataFrame({'A':['AA2','A3','A4'], 'B':['BB2','B3','B4'], 'C':['CC2','C3','C4'], 'D':['DD2','D3','D4']}, index=['I2','I3','I4'])"
   ],
   "id": "3c98b71fa8643824",
   "outputs": [],
   "execution_count": null
  },
  {
   "cell_type": "code",
   "metadata": {},
   "source": [
    "df5"
   ],
   "id": "50aff1cc7c60c600",
   "outputs": [],
   "execution_count": null
  },
  {
   "cell_type": "code",
   "metadata": {},
   "source": [
    "df6"
   ],
   "id": "43a7e2f74b043850",
   "outputs": [],
   "execution_count": null
  },
  {
   "cell_type": "code",
   "metadata": {
    "scrolled": true
   },
   "source": [
    "# verify_integrity 확인하기 (에러 메시지)\n",
    "pd.concat([df5, df6], verify_integrity=True)"
   ],
   "id": "dcc0bc2f5c926e55",
   "outputs": [],
   "execution_count": null
  },
  {
   "attachments": {},
   "cell_type": "markdown",
   "metadata": {},
   "source": [
    "## 2. merge/ join 활용하여 병합하기"
   ],
   "id": "28c6a5f9065e8eb6"
  },
  {
   "cell_type": "code",
   "metadata": {},
   "source": [
    "# merge / join 실행을 위한 데이터프레임 만들기\n",
    "import pandas as pd\n",
    "import numpy as np\n",
    "customer = pd.DataFrame({'customer_id' : np.arange(6), \n",
    "                    'name' : ['James', 'Elly', 'Tom', 'Givert', 'Aiden', 'Brody'], \n",
    "                    '나이' : [40, 20, 21, 30, 31, 18]})\n",
    "\n",
    "orders = pd.DataFrame({'customer_id' : [1, 1, 2, 2, 2, 3, 3, 1, 4, 9], \n",
    "                    'item' : ['마우스', '충전기', '이어폰', '헤드셋', '전자펜', '키보드', '전자펜', '마우스', '키보드', '케이스'], \n",
    "                    'quantity' : [1, 2, 1, 1, 3, 2, 2, 3, 2, 1]})\n"
   ],
   "id": "b8b977eab9d01013",
   "outputs": [],
   "execution_count": null
  },
  {
   "cell_type": "code",
   "metadata": {},
   "source": [
    "customer"
   ],
   "id": "786b508725c98ddc",
   "outputs": [],
   "execution_count": null
  },
  {
   "cell_type": "code",
   "metadata": {},
   "source": [
    "orders"
   ],
   "id": "854305decf73d4a0",
   "outputs": [],
   "execution_count": null
  },
  {
   "cell_type": "code",
   "metadata": {},
   "source": [
    "# merge 함수의 on 속성 이해하기\n",
    "pd.merge(customer, orders, on='customer_id')  "
   ],
   "id": "a8d2194820ccb360",
   "outputs": [],
   "execution_count": null
  },
  {
   "cell_type": "code",
   "metadata": {},
   "source": [
    "# merge 함수의 how 속성 이해하기\n",
    "pd.merge(customer, orders, on='customer_id', how='inner') "
   ],
   "id": "389fd3d42535e0e",
   "outputs": [],
   "execution_count": null
  },
  {
   "cell_type": "code",
   "metadata": {},
   "source": [
    "pd.merge(customer, orders, on='customer_id', how='left')"
   ],
   "id": "ac5f0f6ae83602a2",
   "outputs": [],
   "execution_count": null
  },
  {
   "cell_type": "code",
   "metadata": {},
   "source": [
    "pd.merge(customer, orders, on='customer_id', how='right') "
   ],
   "id": "2ec595f3e824eec4",
   "outputs": [],
   "execution_count": null
  },
  {
   "cell_type": "code",
   "metadata": {},
   "source": [
    "pd.merge(customer, orders, on='customer_id', how='outer') "
   ],
   "id": "a0a87fa9c56f7298",
   "outputs": [],
   "execution_count": null
  },
  {
   "cell_type": "code",
   "metadata": {},
   "source": [
    "# 인덱스를 지정하여 데이터프레임 합치기\n",
    "cust1=customer.set_index('customer_id')\n",
    "order1=orders.set_index('customer_id')\n",
    "pd.merge(cust1, order1, left_index=True, right_index=True)"
   ],
   "id": "4fed74d6f0dbc40",
   "outputs": [],
   "execution_count": null
  },
  {
   "attachments": {},
   "cell_type": "markdown",
   "metadata": {},
   "source": [
    "#### [확인문제] 정답 및 해설"
   ],
   "id": "2b1f32821ec9848"
  },
  {
   "cell_type": "code",
   "metadata": {},
   "source": [
    "# 문제 05. 정답 : 전자펜\n",
    "# 1. item별 합 구하기\n",
    "pd.merge(customer, orders, on='customer_id', how='right').groupby('item').sum()"
   ],
   "id": "b2d7bddc141e737e",
   "outputs": [],
   "execution_count": null
  },
  {
   "cell_type": "code",
   "metadata": {},
   "source": [
    "# 2. 오름차순으로 데이터를 정렬하기\n",
    "pd.merge(customer, orders, on='customer_id', how='right').groupby('item').sum().sort_values(by='quantity', ascending=False)"
   ],
   "id": "2fbc90975f261e81",
   "outputs": [],
   "execution_count": null
  },
  {
   "cell_type": "code",
   "metadata": {},
   "source": [
    "# 문제 06. 정답 : 마우스\n",
    "pd.merge(customer, orders, on='customer_id', how='inner').groupby(['name','item']).sum().loc['Elly']"
   ],
   "id": "d272a50f82a777e1",
   "outputs": [],
   "execution_count": null
  },
  {
   "cell_type": "code",
   "metadata": {},
   "source": [],
   "id": "1af7ebc03b7ccd6d",
   "outputs": [],
   "execution_count": null
  }
 ],
 "metadata": {
  "hide_input": false,
  "kernelspec": {
   "display_name": "Python 3",
   "language": "python",
   "name": "python3"
  },
  "language_info": {
   "codemirror_mode": {
    "name": "ipython",
    "version": 3
   },
   "file_extension": ".py",
   "mimetype": "text/x-python",
   "name": "python",
   "nbconvert_exporter": "python",
   "pygments_lexer": "ipython3",
   "version": "3.8.5"
  },
  "toc": {
   "base_numbering": 1,
   "nav_menu": {},
   "number_sections": true,
   "sideBar": true,
   "skip_h1_title": false,
   "title_cell": "Table of Contents",
   "title_sidebar": "Contents",
   "toc_cell": false,
   "toc_position": {},
   "toc_section_display": true,
   "toc_window_display": false
  },
  "varInspector": {
   "cols": {
    "lenName": 16,
    "lenType": 16,
    "lenVar": 40
   },
   "kernels_config": {
    "python": {
     "delete_cmd_postfix": "",
     "delete_cmd_prefix": "del ",
     "library": "var_list.py",
     "varRefreshCmd": "print(var_dic_list())"
    },
    "r": {
     "delete_cmd_postfix": ") ",
     "delete_cmd_prefix": "rm(",
     "library": "var_list.r",
     "varRefreshCmd": "cat(var_dic_list()) "
    }
   },
   "types_to_exclude": [
    "module",
    "function",
    "builtin_function_or_method",
    "instance",
    "_Feature"
   ],
   "window_display": false
  }
 },
 "nbformat": 4,
 "nbformat_minor": 5
}
