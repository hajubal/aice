{
 "cells": [
  {
   "attachments": {},
   "cell_type": "markdown",
   "metadata": {},
   "source": [
    "※ 참고 : 데이터는 앞 장과 동일하게 '항공권 가격 예측 데이터(Flight Price Predicton)의 'Clean_Dataset.csv'를 사용하여 실습합니다. "
   ],
   "id": "13b8f426d029f25b"
  },
  {
   "cell_type": "code",
   "metadata": {},
   "source": [
    "# 실습 데이터 불러오기\n",
    "import pandas as pd\n",
    "import numpy as np\n",
    "flight = pd.read_csv('./dataset/Clean_Dataset.csv', encoding = \"cp949\")\n",
    "flight"
   ],
   "id": "82520fc8224df38a",
   "outputs": [],
   "execution_count": null
  },
  {
   "attachments": {},
   "cell_type": "markdown",
   "metadata": {},
   "source": [
    "# SECTION 01. 필요 데이터 선택하기"
   ],
   "id": "75ffe2b6cf42c990"
  },
  {
   "attachments": {},
   "cell_type": "markdown",
   "metadata": {},
   "source": [
    "## 1. 칼럼명으로 데이터 선택하기"
   ],
   "id": "7086967ad4c870d0"
  },
  {
   "cell_type": "code",
   "metadata": {},
   "source": [
    "# 하나의 칼럼만 선택하기\n",
    "flight[['departure_time']]"
   ],
   "id": "be265759717cd653",
   "outputs": [],
   "execution_count": null
  },
  {
   "cell_type": "code",
   "metadata": {},
   "source": [
    "# 여러 개의 칼럼 선택하기\n",
    "flight[['airline','departure_time','source_city']]"
   ],
   "id": "e36486708e9d7379",
   "outputs": [],
   "execution_count": null
  },
  {
   "attachments": {},
   "cell_type": "markdown",
   "metadata": {},
   "source": [
    "## 2. 행 범위를 지정하여 데이터 선택하기"
   ],
   "id": "39418d3f845ec99f"
  },
  {
   "cell_type": "code",
   "metadata": {},
   "source": [
    "# 슬라이싱을 이용하여 10행부터 20행까지의 데이터를 가져오기\n",
    "flight[10:21]"
   ],
   "id": "864f7418eaf3955",
   "outputs": [],
   "execution_count": null
  },
  {
   "attachments": {},
   "cell_type": "markdown",
   "metadata": {},
   "source": [
    "## 3. 특정 행, 열의 범위를 선택하여 데이터 선택하기\n",
    "### 기반:\n",
    "\n",
    "- loc: 라벨(이름) 기반 인덱싱.\n",
    "- iloc: 정수 기반 인덱싱.\n",
    "\n",
    "### 슬라이싱 방식:\n",
    "\n",
    "- loc: 종료값을 포함.\n",
    "- iloc: 종료값을 포함하지 않음.\n",
    "\n",
    "### 사용 용도:\n",
    "\n",
    "- loc: 데이터프레임의 라벨을 알고 있을 때 유용.\n",
    "- iloc: 데이터프레임의 정수 위치를 사용할 때 유용."
   ],
   "id": "bb6855dae10de559"
  },
  {
   "cell_type": "code",
   "metadata": {},
   "source": [
    "# 인덱스 새롭게 지정하기\n",
    "flight.index = np.arange(100,300253)\n",
    "flight"
   ],
   "id": "6f085e649d733acb",
   "outputs": [],
   "execution_count": null
  },
  {
   "metadata": {},
   "cell_type": "code",
   "source": [
    "groups = flight.groupby('airline')\n",
    "groups"
   ],
   "id": "c01f6785cec62244",
   "outputs": [],
   "execution_count": null
  },
  {
   "metadata": {},
   "cell_type": "code",
   "source": "groups.count()",
   "id": "3ac33f3e4cc16290",
   "outputs": [],
   "execution_count": null
  },
  {
   "metadata": {},
   "cell_type": "code",
   "source": "groups[['price', 'duration']].mean()",
   "id": "da72b18fa108934d",
   "outputs": [],
   "execution_count": null
  },
  {
   "metadata": {},
   "cell_type": "code",
   "source": [
    "# 책에 있는 코드 이지만 실제로 에러 발생함 \n",
    "flight.groupby(['airline','arrival_time']).mean()"
   ],
   "id": "2a8271a49cf5c357",
   "outputs": [],
   "execution_count": null
  },
  {
   "cell_type": "code",
   "metadata": {},
   "source": [
    "# loc 사용하기\n",
    "flight.loc[[102, 202, 302]]"
   ],
   "id": "fce33bfac5b112ca",
   "outputs": [],
   "execution_count": null
  },
  {
   "cell_type": "code",
   "metadata": {},
   "source": [
    "# iloc 사용하기\n",
    "flight.iloc[[2, 102, 202]]"
   ],
   "id": "2cb06692470863d",
   "outputs": [],
   "execution_count": null
  },
  {
   "cell_type": "code",
   "metadata": {},
   "source": [
    "# loc를 사용하여 행과 열의 범위 지정하기\n",
    "flight.loc[[102, 202, 302], ['airline', 'flight', 'source_city', 'price']]"
   ],
   "id": "33e15c052aaa1b97",
   "outputs": [],
   "execution_count": null
  },
  {
   "cell_type": "code",
   "metadata": {},
   "source": [
    "# iloc를 사용하여 행과 열의 범위 지정하기\n",
    "flight.iloc[[2, 102, 202], [1, 2, 3, 11]]"
   ],
   "id": "faa42545be8f5740",
   "outputs": [],
   "execution_count": null
  },
  {
   "cell_type": "code",
   "metadata": {},
   "source": [
    "# iloc를 사용하였을 때 칼럼값을 그대로 사용시 에러 발생\n",
    "flight.iloc[[2, 102, 202], ['airline', 'flight', 'source_city', 'price']]"
   ],
   "id": "fe2193e9946d28f0",
   "outputs": [],
   "execution_count": null
  },
  {
   "attachments": {},
   "cell_type": "markdown",
   "metadata": {},
   "source": [
    "## 4. 조건으로 데이터 선택하기"
   ],
   "id": "f0ca5545e7410e56"
  },
  {
   "attachments": {},
   "cell_type": "markdown",
   "metadata": {},
   "source": [
    "##### ※ 앞서 진행한 실습을 이어서 진행하실 경우 실습을 진행하실 수 있으나, 실습 코드가 반영되어 결과 값의 차이가 있을 수 있습니다.\n",
    "#####      실습 데이터를 다시 불러온 후 데이터프레임을 만들어 실습을 진행합니다."
   ],
   "id": "a07c689fccf98067"
  },
  {
   "cell_type": "code",
   "metadata": {},
   "source": [
    "# flight DataFrame을 만들기 \n",
    "flight = pd.read_csv('./dataset/Clean_Dataset.csv', encoding = \"cp949\")\n",
    "flight"
   ],
   "id": "468b051d779f9b27",
   "outputs": [],
   "execution_count": null
  },
  {
   "attachments": {},
   "cell_type": "markdown",
   "metadata": {},
   "source": [
    "##### ## 조건 : price가 12000 초과 이고, airline이 Air_india인 항목만 추출"
   ],
   "id": "a4a0219110de7807"
  },
  {
   "cell_type": "code",
   "metadata": {
    "scrolled": true
   },
   "source": [
    "# boolean 연산으로 조건을 만족하는 데이터만 추출하기\n",
    "flight_extract = flight[(flight['price']>12000) & (flight['airline']=='Air_India')]\n",
    "flight_extract.head()"
   ],
   "id": "c8993418eb150bee",
   "outputs": [],
   "execution_count": null
  },
  {
   "attachments": {},
   "cell_type": "markdown",
   "metadata": {},
   "source": [
    "##### ## 조건1. : price가 12000 초과"
   ],
   "id": "2b09dfc891bea5f9"
  },
  {
   "cell_type": "markdown",
   "metadata": {},
   "source": [
    "##### ## 조건2. : airline이 Air_India"
   ],
   "id": "77af4ef3e4c20839"
  },
  {
   "cell_type": "code",
   "metadata": {},
   "source": [
    "# 조건을 별도로 지정하여 데이터 추출하기 \n",
    "\n",
    "# 가격: 12000 초과\n",
    "price_Tag = flight['price']>12000\n",
    "# 항공사 이름: Air_India\n",
    "airline_tag = flight['airline']=='Air_India'\n",
    "\n",
    "flight_extract2=flight[price_Tag & airline_tag].head()\n",
    "flight_extract2"
   ],
   "id": "4ee1d445ddfec801",
   "outputs": [],
   "execution_count": null
  },
  {
   "attachments": {},
   "cell_type": "markdown",
   "metadata": {},
   "source": [
    "# SECTION 02. 필요 데이터 변경하기"
   ],
   "id": "4b58f5b55f3563ba"
  },
  {
   "attachments": {},
   "cell_type": "markdown",
   "metadata": {},
   "source": [
    "## 1. 데이터 추가하기"
   ],
   "id": "541ab07c117dac22"
  },
  {
   "cell_type": "code",
   "metadata": {},
   "source": [
    "# 새로운 칼럼 만들기\n",
    "flight['price2'] = flight['price'] * 2\n",
    "flight.head()"
   ],
   "id": "eeb9c2ceee4f321",
   "outputs": [],
   "execution_count": null
  },
  {
   "cell_type": "code",
   "metadata": {},
   "source": [
    "# 기존 칼럼 연산으로 새로운 칼럼 만들기\n",
    "flight['price3'] = flight['price'] + flight['price2']\n",
    "flight.head()"
   ],
   "id": "3d2b4b95e4e737a3",
   "outputs": [],
   "execution_count": null
  },
  {
   "cell_type": "code",
   "metadata": {},
   "source": [
    "# 새로운 칼럼 원하는 위치에 넣기\n",
    "flight.insert(10, 'duration2', flight['duration'] *10) \n",
    "# 처음 0부터 시작하여 10번 칼럼으로 insert\n",
    "flight.head()"
   ],
   "id": "d8bd8eb150bc1061",
   "outputs": [],
   "execution_count": null
  },
  {
   "attachments": {},
   "cell_type": "markdown",
   "metadata": {},
   "source": [
    "## 2. 데이터 삭제하기"
   ],
   "id": "f780a06340a31c00"
  },
  {
   "cell_type": "code",
   "metadata": {},
   "source": [
    "# drop 메소드 사용하여 데이터 삭제 하기\n",
    "flight.drop('price3', axis=1).head()"
   ],
   "id": "a89e62543718e8b4",
   "outputs": [],
   "execution_count": null
  },
  {
   "cell_type": "code",
   "metadata": {},
   "source": [
    "# axis 속성 이해하기\n",
    "flight.drop(index=0, axis=0).head()"
   ],
   "id": "e92187e978974ff6",
   "outputs": [],
   "execution_count": null
  },
  {
   "cell_type": "code",
   "metadata": {},
   "source": [
    "# 첫 행 데이터 지워진 것 확인하기\n",
    "flight.head()"
   ],
   "id": "b4041f332dcb5352",
   "outputs": [],
   "execution_count": null
  },
  {
   "cell_type": "code",
   "metadata": {},
   "source": [
    "# 데이터 삭제 후 새로운 데이터프레임에 저장하기\n",
    "flight1=flight.drop('price3', axis=1)\n",
    "flight1.head()"
   ],
   "id": "bbe0b33ab7301999",
   "outputs": [],
   "execution_count": null
  },
  {
   "cell_type": "code",
   "metadata": {},
   "source": [
    "# drop 메소드의 inplace 속성 확인하기\n",
    "flight.drop('price3', axis=1, inplace=True)\n",
    "flight.head()"
   ],
   "id": "246b69821c601813",
   "outputs": [],
   "execution_count": null
  },
  {
   "attachments": {},
   "cell_type": "markdown",
   "metadata": {},
   "source": [
    "## 3. 칼럼명 변경하기"
   ],
   "id": "d1d2e87322c6ccc8"
  },
  {
   "cell_type": "code",
   "metadata": {},
   "source": [
    "# rename 이용하여 칼럼명 변경하기\n",
    "flight=flight.rename(columns = {\"airline\" : 'airline_name',\"source_city\":'departure_city'})\n",
    "flight.head()"
   ],
   "id": "8e2c55e3438d90cf",
   "outputs": [],
   "execution_count": null
  },
  {
   "attachments": {},
   "cell_type": "markdown",
   "metadata": {},
   "source": [
    "## 4. 데이터프레임 정렬하기"
   ],
   "id": "c1b83fc61282e8ee"
  },
  {
   "cell_type": "code",
   "metadata": {},
   "source": [
    "# sort_values 메소드와 ascending 매개변수 지정하여 데이터 프레임 역순으로 정렬하기\n",
    "flight=flight.sort_values(by ='Unnamed: 0', ascending=False)\n",
    "flight.head()"
   ],
   "id": "9f70fefa3770edf1",
   "outputs": [],
   "execution_count": null
  },
  {
   "cell_type": "code",
   "metadata": {},
   "source": [
    "# sort_values 메소드와 ascending 매개변수 지정하여 데이터 프레임 역순으로 정렬하기\n",
    "flight=flight.sort_values(by ='Unnamed: 0', ascending=True)\n",
    "flight.head()"
   ],
   "id": "7468c41231be4f58",
   "outputs": [],
   "execution_count": null
  },
  {
   "attachments": {},
   "cell_type": "markdown",
   "metadata": {},
   "source": [
    "# SECTION 03. 데이터 프레임 변형하기"
   ],
   "id": "5be6cadc75740826"
  },
  {
   "attachments": {},
   "cell_type": "markdown",
   "id": "4734256a",
   "metadata": {},
   "source": [
    "\n",
    "##### ※ 앞서 진행한 실습을 이어서 진행하실 경우 실습을 진행하실 수 있으나, 실습코드가 반영되어 결과값의 차이가 있을 수 있습니다.\n",
    "#####    실습 데이터를 다시 불러온 후 데이터프레임을 만들어 실습을 진행 합니다. "
   ]
  },
  {
   "cell_type": "code",
   "metadata": {},
   "source": [
    "# flight DataFrame 만들기\n",
    "flight = pd.read_csv('./Clean_Dataset.csv', encoding = \"cp949\")\n",
    "flight"
   ],
   "id": "84206efc348c4f24",
   "outputs": [],
   "execution_count": null
  },
  {
   "attachments": {},
   "cell_type": "markdown",
   "id": "8fd8eab8",
   "metadata": {},
   "source": [
    "## 1. 그룹화 하기"
   ]
  },
  {
   "cell_type": "markdown",
   "metadata": {
    "ExecuteTime": {
     "end_time": "2023-03-10T04:44:07.141718Z",
     "start_time": "2023-03-10T04:44:07.122545Z"
    }
   },
   "source": [
    "### 1) groupby 활용하기"
   ],
   "id": "6df6cdfcd2f6cb63"
  },
  {
   "cell_type": "code",
   "metadata": {},
   "source": [
    "# airline 칼럼 기준으로 그룹화하기\n",
    "airline_group = flight.groupby('airline')\n",
    "airline_group"
   ],
   "id": "a96b1b0ba33ddfbb",
   "outputs": [],
   "execution_count": null
  },
  {
   "cell_type": "code",
   "metadata": {},
   "source": [
    "# 수행 결과 확인하기 \n",
    "airline_group.groups"
   ],
   "id": "f0ae588beee237df",
   "outputs": [],
   "execution_count": null
  },
  {
   "cell_type": "code",
   "metadata": {},
   "source": [
    "# 데이터 수 확인하기\n",
    "airline_group.count()"
   ],
   "id": "8dd63285d1739f4f",
   "outputs": [],
   "execution_count": null
  },
  {
   "cell_type": "code",
   "metadata": {},
   "source": [
    "# 최솟값 확인하기\n",
    "airline_group.min()"
   ],
   "id": "e396bc6dc0bfff66",
   "outputs": [],
   "execution_count": null
  },
  {
   "cell_type": "code",
   "metadata": {},
   "source": [
    "# 평균값 확인하기\n",
    "airline_group.mean()"
   ],
   "id": "78a9788cac0f2c3d",
   "outputs": [],
   "execution_count": null
  },
  {
   "cell_type": "code",
   "metadata": {},
   "source": [
    "# 특정 칼럼 값만 확인하기\n",
    "airline_group.mean()[['price']]"
   ],
   "id": "a16646fd9d99e5f9",
   "outputs": [],
   "execution_count": null
  },
  {
   "cell_type": "code",
   "metadata": {},
   "source": [
    "# groupby를 활용하여 다중 인덱싱(multi-indexing)설정하기\n",
    "flight.groupby(['airline', 'arrival_time']).mean()"
   ],
   "id": "21b4ef6a607462e4",
   "outputs": [],
   "execution_count": null
  },
  {
   "cell_type": "code",
   "metadata": {},
   "source": [
    "# 여러 개의 칼럼을 groupby하여 새로운 데이터프레임 생성하기\n",
    "mul_airline_group=flight.groupby(['airline', 'arrival_time'])\n",
    "mul_airline_group.mean()"
   ],
   "id": "48fe136ad573355a",
   "outputs": [],
   "execution_count": null
  },
  {
   "cell_type": "code",
   "metadata": {},
   "source": [
    "# groupby 후 원하는 데이터만 가지고 오기\n",
    "flight.groupby(['airline', 'arrival_time']).mean().loc[[('AirAsia','Evening')]]"
   ],
   "id": "1accba2cdc9a1558",
   "outputs": [],
   "execution_count": null
  },
  {
   "cell_type": "markdown",
   "metadata": {},
   "source": [
    "### 2) 인덱스로 그룹화하기"
   ],
   "id": "2d71191c3b32b441"
  },
  {
   "cell_type": "code",
   "metadata": {},
   "source": [
    "# set_index로 인덱스 지정하기\n",
    "flight.set_index(['airline','arrival_time'])"
   ],
   "id": "bd9fbec50dab3577",
   "outputs": [],
   "execution_count": null
  },
  {
   "cell_type": "code",
   "metadata": {},
   "source": [
    "# 다중 인덱스(multi-index) 셋팅 후 해당 인덱스 기준으로 groupby하기\n",
    "flight.set_index(['airline','arrival_time']).groupby(level=[0]).mean()"
   ],
   "id": "e4e728f3e9762751",
   "outputs": [],
   "execution_count": null
  },
  {
   "cell_type": "code",
   "metadata": {},
   "source": [
    "# 인덱스 모두 선택하여 groupby 하기\n",
    "flight.set_index(['airline','arrival_time']).groupby(level=[0,1]).mean()"
   ],
   "id": "ab0bd7afe6bc64b7",
   "outputs": [],
   "execution_count": null
  },
  {
   "attachments": {},
   "cell_type": "markdown",
   "metadata": {},
   "source": [
    "### 3) Aggrgate로 집계하기"
   ],
   "id": "35a1b7ce027a6539"
  },
  {
   "cell_type": "code",
   "metadata": {},
   "source": [
    "# aggregate 메소드 이용하여 groupby 후 평균값과 최댓값 확인하기 \n",
    "flight.set_index(['airline','arrival_time']).groupby(level=[0,1]).aggregate([np.mean, np.max])"
   ],
   "id": "522cf3adb4e3bfdc",
   "outputs": [],
   "execution_count": null
  },
  {
   "attachments": {},
   "cell_type": "markdown",
   "metadata": {},
   "source": [
    "## 2. 피벗테이블 생성하기"
   ],
   "id": "876ee7041f07132b"
  },
  {
   "cell_type": "code",
   "metadata": {},
   "source": [
    "# pivot / pivot_table을 위한 데이터프레임 만들기\n",
    "import numpy as np\n",
    "import pandas as pd\n",
    "pivot_data = pd.DataFrame({'cust_id': ['cust_1', 'cust_1', 'cust_1', 'cust_2', 'cust_2', 'cust_2', 'cust_3', 'cust_3', 'cust_3'],\n",
    "                  'prod_cd': ['p1', 'p2', 'p3', 'p1', 'p2', 'p3', 'p1', 'p2', 'p3'],\n",
    "                  'grade' : ['A', 'A', 'A', 'A', 'A', 'A', 'B', 'B', 'B'],\n",
    "                  'purch_amt': [30, 10, 0, 40, 15, 30, 0, 0, 10]})\n",
    "pivot_data"
   ],
   "id": "e542935f46c3fab3",
   "outputs": [],
   "execution_count": null
  },
  {
   "cell_type": "code",
   "metadata": {},
   "source": [
    "# pivot 활용하기\n",
    "pivot_data.pivot(index = 'cust_id', columns ='prod_cd', values ='purch_amt')\n",
    "\n",
    "# 해당 pivot data는 아래와 같이 코드를 작성할 수도 있습니다.\n",
    "# pivot_data('cust_id', 'prod_cd', 'pch_amt')"
   ],
   "id": "d91b7962d70ea5e",
   "outputs": [],
   "execution_count": null
  },
  {
   "cell_type": "code",
   "metadata": {},
   "source": [
    "# 중복값이 존재하는 경우 에러 메시지\n",
    "pivot_data.pivot(index='grade', columns='prod_cd', values='purch_amt')  "
   ],
   "id": "89a7b21d0b4e03f3",
   "outputs": [],
   "execution_count": null
  },
  {
   "cell_type": "code",
   "metadata": {},
   "source": [
    "# pivot_table 활용하기\n",
    "pivot_data.pivot_table(index='grade', columns='prod_cd', values='purch_amt')"
   ],
   "id": "31ce0eb952041c06",
   "outputs": [],
   "execution_count": null
  },
  {
   "cell_type": "code",
   "metadata": {},
   "source": [
    "# pivot_table의 aggfunc 지정하기\n",
    "pivot_data.pivot_table(index='grade', columns='prod_cd', values='purch_amt', aggfunc=np.sum)"
   ],
   "id": "ec3136702a37c4ab",
   "outputs": [],
   "execution_count": null
  },
  {
   "attachments": {},
   "cell_type": "markdown",
   "metadata": {},
   "source": [
    "## 3. 인덱스 및 칼럼 레벨 변경하기"
   ],
   "id": "44be3c5b6e6710b3"
  },
  {
   "cell_type": "code",
   "metadata": {},
   "source": [
    "# stack/unstack을 위한 데이터프레임 만들기\n",
    "import numpy as np\n",
    "import pandas as pd\n",
    "stack_data = pd.DataFrame({\n",
    "    'Location': ['Seoul', 'Seoul', 'Seoul', 'kyounggi', 'kyounggi', 'Busan', 'Seoul', 'Seoul', 'Busan', 'kyounggi', 'kyounggi', 'kyounggi'],\n",
    "    'Day': ['Mon', 'Tue', 'Wed', 'Mon', 'Tue', 'Mon', 'Thu', 'Fri', 'Tue', 'Wed', 'Thu', 'Fri'],\n",
    "    'Ranfall': [100, 80, 1000, 200, 200, 100, 50, 100, 200, 100, 50, 100],\n",
    "    'Rainfall_precipitation': [80, 70, 90, 10, 20, 30, 50, 90, 20, 80, 50, 10],\n",
    "    'Temp' : [32, 27, 32, 31, 30, 28, 27, 25, 26, 33, 34, 31]})\n",
    "\n",
    "stack_data"
   ],
   "id": "7cd839541a545f4f",
   "outputs": [],
   "execution_count": null
  },
  {
   "cell_type": "code",
   "metadata": {},
   "source": [
    "# 인덱스 설정하기\n",
    "new_stack_data = stack_data.set_index(['Location','Day'])\n",
    "new_stack_data"
   ],
   "id": "6db4fad55f55b6a6",
   "outputs": [],
   "execution_count": null
  },
  {
   "cell_type": "code",
   "metadata": {},
   "source": [
    "# unstack 확인하기\n",
    "new_stack_data.unstack(0)"
   ],
   "id": "2d7dc83cbc440a9c",
   "outputs": [],
   "execution_count": null
  },
  {
   "cell_type": "code",
   "metadata": {},
   "source": [
    "new_stack_data.unstack(1)"
   ],
   "id": "3602da1a7df92d85",
   "outputs": [],
   "execution_count": null
  },
  {
   "cell_type": "code",
   "metadata": {},
   "source": [
    "new_stack_data2 = new_stack_data.unstack(1)\n",
    "new_stack_data2.stack(1)"
   ],
   "id": "65fffae8f143de1e",
   "outputs": [],
   "execution_count": null
  },
  {
   "attachments": {},
   "cell_type": "markdown",
   "metadata": {},
   "source": [
    "# SECTION 04. 데이터프레임 병합하기"
   ],
   "id": "814bceed5925128a"
  },
  {
   "attachments": {},
   "cell_type": "markdown",
   "metadata": {},
   "source": [
    "## 1. concat 활용하여 병합하기"
   ],
   "id": "a2e723d21f407c27"
  },
  {
   "cell_type": "markdown",
   "metadata": {},
   "source": [
    "### 1) 칼럼명이 같은 경우"
   ],
   "id": "c4c0232681f67f2b"
  },
  {
   "cell_type": "code",
   "metadata": {},
   "source": [
    "# concat 실행을 위한 데이터프레임 만들기\n",
    "import pandas as pd\n",
    "import numpy as np\n",
    "df1 = pd.DataFrame({'col1' : ['사과','배','감','수박','메론'], 'col2' : [500, 1000, 2500, 5000,3000]}, index=[0,1,2,3,4])\n",
    "df2 = pd.DataFrame({'col1' : ['수박','메론','딸기','키위','오렌지'], 'col2' : [5000,3000,1000,600,700]}, index=[3,4,5,6,7])"
   ],
   "id": "1af1b52b4f34e91e",
   "outputs": [],
   "execution_count": null
  },
  {
   "cell_type": "code",
   "metadata": {},
   "source": [
    "df1"
   ],
   "id": "423cd24100531f88",
   "outputs": [],
   "execution_count": null
  },
  {
   "cell_type": "code",
   "metadata": {},
   "source": [
    "df2"
   ],
   "id": "c5ade2f60c1e8df6",
   "outputs": [],
   "execution_count": null
  },
  {
   "cell_type": "code",
   "metadata": {},
   "source": [
    "# ignore_index 확인하기\n",
    "pd.concat([df1, df2], ignore_index=False)"
   ],
   "id": "ee34ac70214e8322",
   "outputs": [],
   "execution_count": null
  },
  {
   "cell_type": "code",
   "metadata": {},
   "source": [
    "pd.concat([df1, df2], ignore_index=True)"
   ],
   "id": "2af0cab2c8c0fc19",
   "outputs": [],
   "execution_count": null
  },
  {
   "cell_type": "code",
   "metadata": {},
   "source": [
    "# concat axis 이해하기\n",
    "pd.concat([df1, df2], axis = 1)"
   ],
   "id": "50c926862700deb9",
   "outputs": [],
   "execution_count": null
  },
  {
   "cell_type": "markdown",
   "metadata": {},
   "source": [
    "### 2) 칼럼명이 다른 경우"
   ],
   "id": "ae80b083a0b0fc28"
  },
  {
   "cell_type": "code",
   "metadata": {},
   "source": [
    "df3 = pd.DataFrame({'item':['item0','item1','item2', 'item3'], 'count':['count0','count1','count2','count3'],\n",
    "                    'price':['price0','price1','price2','price3']}, index = [0,1,2,3])\n",
    "df4 = pd.DataFrame({'item':['item2','item3','item4', 'item5'], 'count':['count2','count3','count4','count5'],\n",
    "                    'price':['price2','price3','price4','price5'], 'var':['var2','var3','var4','var5']}, index = [2,3,4,5])"
   ],
   "id": "5aaf7a0c3b27471a",
   "outputs": [],
   "execution_count": null
  },
  {
   "cell_type": "code",
   "metadata": {},
   "source": "df3",
   "id": "313d924f324d1ad8",
   "outputs": [],
   "execution_count": null
  },
  {
   "cell_type": "code",
   "metadata": {},
   "source": [
    "df4"
   ],
   "id": "3e3eba4ea394e59c",
   "outputs": [],
   "execution_count": null
  },
  {
   "cell_type": "code",
   "metadata": {},
   "source": [
    "# join의 outer 방식\n",
    "pd.concat([df3, df4], join='outer')"
   ],
   "id": "8f014f846a1632f8",
   "outputs": [],
   "execution_count": null
  },
  {
   "cell_type": "code",
   "metadata": {},
   "source": [
    "# join의 inner 방식\n",
    "pd.concat([df3, df4], join='inner')"
   ],
   "id": "221bce6d2366fb75",
   "outputs": [],
   "execution_count": null
  },
  {
   "cell_type": "markdown",
   "metadata": {},
   "source": [
    "### 3) 인덱스가 중복인 경우"
   ],
   "id": "69d95637b51abc4a"
  },
  {
   "cell_type": "code",
   "metadata": {},
   "source": [
    "df5 = pd.DataFrame({'A':['A0','A1','A2'], 'B':['B0','B1','B2'], 'C':['C0','C1','C2'], 'D':['D0','D1','D2']}, index=['I0','I1','I2'])\n",
    "df6 = pd.DataFrame({'A':['AA2','A3','A4'], 'B':['BB2','B3','B4'], 'C':['CC2','C3','C4'], 'D':['DD2','D3','D4']}, index=['I2','I3','I4'])"
   ],
   "id": "3c98b71fa8643824",
   "outputs": [],
   "execution_count": null
  },
  {
   "cell_type": "code",
   "metadata": {},
   "source": [
    "df5"
   ],
   "id": "50aff1cc7c60c600",
   "outputs": [],
   "execution_count": null
  },
  {
   "cell_type": "code",
   "metadata": {},
   "source": [
    "df6"
   ],
   "id": "43a7e2f74b043850",
   "outputs": [],
   "execution_count": null
  },
  {
   "cell_type": "code",
   "metadata": {
    "scrolled": true
   },
   "source": [
    "# verify_integrity 확인하기 (에러 메시지)\n",
    "pd.concat([df5, df6], verify_integrity=True)"
   ],
   "id": "dcc0bc2f5c926e55",
   "outputs": [],
   "execution_count": null
  },
  {
   "attachments": {},
   "cell_type": "markdown",
   "metadata": {},
   "source": [
    "## 2. merge/ join 활용하여 병합하기"
   ],
   "id": "28c6a5f9065e8eb6"
  },
  {
   "cell_type": "code",
   "metadata": {},
   "source": [
    "# merge / join 실행을 위한 데이터프레임 만들기\n",
    "import pandas as pd\n",
    "import numpy as np\n",
    "customer = pd.DataFrame({'customer_id' : np.arange(6), \n",
    "                    'name' : ['James', 'Elly', 'Tom', 'Givert', 'Aiden', 'Brody'], \n",
    "                    '나이' : [40, 20, 21, 30, 31, 18]})\n",
    "\n",
    "orders = pd.DataFrame({'customer_id' : [1, 1, 2, 2, 2, 3, 3, 1, 4, 9], \n",
    "                    'item' : ['마우스', '충전기', '이어폰', '헤드셋', '전자펜', '키보드', '전자펜', '마우스', '키보드', '케이스'], \n",
    "                    'quantity' : [1, 2, 1, 1, 3, 2, 2, 3, 2, 1]})\n"
   ],
   "id": "b8b977eab9d01013",
   "outputs": [],
   "execution_count": null
  },
  {
   "cell_type": "code",
   "metadata": {},
   "source": [
    "customer"
   ],
   "id": "786b508725c98ddc",
   "outputs": [],
   "execution_count": null
  },
  {
   "cell_type": "code",
   "metadata": {},
   "source": [
    "orders"
   ],
   "id": "854305decf73d4a0",
   "outputs": [],
   "execution_count": null
  },
  {
   "cell_type": "code",
   "metadata": {},
   "source": [
    "# merge 함수의 on 속성 이해하기\n",
    "pd.merge(customer, orders, on='customer_id')  "
   ],
   "id": "a8d2194820ccb360",
   "outputs": [],
   "execution_count": null
  },
  {
   "cell_type": "code",
   "metadata": {},
   "source": [
    "# merge 함수의 how 속성 이해하기\n",
    "pd.merge(customer, orders, on='customer_id', how='inner') "
   ],
   "id": "389fd3d42535e0e",
   "outputs": [],
   "execution_count": null
  },
  {
   "cell_type": "code",
   "metadata": {},
   "source": [
    "pd.merge(customer, orders, on='customer_id', how='left')"
   ],
   "id": "ac5f0f6ae83602a2",
   "outputs": [],
   "execution_count": null
  },
  {
   "cell_type": "code",
   "metadata": {},
   "source": [
    "pd.merge(customer, orders, on='customer_id', how='right') "
   ],
   "id": "2ec595f3e824eec4",
   "outputs": [],
   "execution_count": null
  },
  {
   "cell_type": "code",
   "metadata": {},
   "source": [
    "pd.merge(customer, orders, on='customer_id', how='outer') "
   ],
   "id": "a0a87fa9c56f7298",
   "outputs": [],
   "execution_count": null
  },
  {
   "cell_type": "code",
   "metadata": {},
   "source": [
    "# 인덱스를 지정하여 데이터프레임 합치기\n",
    "cust1=customer.set_index('customer_id')\n",
    "order1=orders.set_index('customer_id')\n",
    "pd.merge(cust1, order1, left_index=True, right_index=True)"
   ],
   "id": "4fed74d6f0dbc40",
   "outputs": [],
   "execution_count": null
  },
  {
   "attachments": {},
   "cell_type": "markdown",
   "metadata": {},
   "source": [
    "#### [확인문제] 정답 및 해설"
   ],
   "id": "2b1f32821ec9848"
  },
  {
   "cell_type": "code",
   "metadata": {},
   "source": [
    "# 문제 05. 정답 : 전자펜\n",
    "# 1. item별 합 구하기\n",
    "pd.merge(customer, orders, on='customer_id', how='right').groupby('item').sum()"
   ],
   "id": "b2d7bddc141e737e",
   "outputs": [],
   "execution_count": null
  },
  {
   "cell_type": "code",
   "metadata": {},
   "source": [
    "# 2. 오름차순으로 데이터를 정렬하기\n",
    "pd.merge(customer, orders, on='customer_id', how='right').groupby('item').sum().sort_values(by='quantity', ascending=False)"
   ],
   "id": "2fbc90975f261e81",
   "outputs": [],
   "execution_count": null
  },
  {
   "cell_type": "code",
   "metadata": {},
   "source": [
    "# 문제 06. 정답 : 마우스\n",
    "pd.merge(customer, orders, on='customer_id', how='inner').groupby(['name','item']).sum().loc['Elly']"
   ],
   "id": "d272a50f82a777e1",
   "outputs": [],
   "execution_count": null
  },
  {
   "cell_type": "code",
   "metadata": {},
   "source": [],
   "id": "1af7ebc03b7ccd6d",
   "outputs": [],
   "execution_count": null
  }
 ],
 "metadata": {
  "hide_input": false,
  "kernelspec": {
   "display_name": "Python 3",
   "language": "python",
   "name": "python3"
  },
  "language_info": {
   "codemirror_mode": {
    "name": "ipython",
    "version": 3
   },
   "file_extension": ".py",
   "mimetype": "text/x-python",
   "name": "python",
   "nbconvert_exporter": "python",
   "pygments_lexer": "ipython3",
   "version": "3.8.5"
  },
  "toc": {
   "base_numbering": 1,
   "nav_menu": {},
   "number_sections": true,
   "sideBar": true,
   "skip_h1_title": false,
   "title_cell": "Table of Contents",
   "title_sidebar": "Contents",
   "toc_cell": false,
   "toc_position": {},
   "toc_section_display": true,
   "toc_window_display": false
  },
  "varInspector": {
   "cols": {
    "lenName": 16,
    "lenType": 16,
    "lenVar": 40
   },
   "kernels_config": {
    "python": {
     "delete_cmd_postfix": "",
     "delete_cmd_prefix": "del ",
     "library": "var_list.py",
     "varRefreshCmd": "print(var_dic_list())"
    },
    "r": {
     "delete_cmd_postfix": ") ",
     "delete_cmd_prefix": "rm(",
     "library": "var_list.r",
     "varRefreshCmd": "cat(var_dic_list()) "
    }
   },
   "types_to_exclude": [
    "module",
    "function",
    "builtin_function_or_method",
    "instance",
    "_Feature"
   ],
   "window_display": false
  }
 },
 "nbformat": 4,
 "nbformat_minor": 5
}
