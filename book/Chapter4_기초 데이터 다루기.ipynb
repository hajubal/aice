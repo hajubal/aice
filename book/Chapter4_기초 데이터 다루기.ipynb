{
 "cells": [
  {
   "attachments": {},
   "cell_type": "markdown",
   "metadata": {},
   "source": [
    "※ 참고 : 데이터는 앞 장과 동일하게 '항공권 가격 예측 데이터(Flight Price Predicton)의 'Clean_Dataset.csv'를 사용하여 실습합니다. "
   ],
   "id": "13b8f426d029f25b"
  },
  {
   "cell_type": "code",
   "metadata": {
    "ExecuteTime": {
     "end_time": "2024-08-18T03:22:40.510124Z",
     "start_time": "2024-08-18T03:22:40.174311Z"
    }
   },
   "source": [
    "# 실습 데이터 불러오기\n",
    "import pandas as pd\n",
    "import numpy as np\n",
    "flight = pd.read_csv('./dataset/Clean_Dataset.csv', encoding = \"cp949\")\n",
    "flight"
   ],
   "id": "82520fc8224df38a",
   "outputs": [
    {
     "data": {
      "text/plain": [
       "        Unnamed: 0   airline   flight source_city departure_time stops  \\\n",
       "0                0  SpiceJet  SG-8709       Delhi        Evening  zero   \n",
       "1                1  SpiceJet  SG-8157       Delhi  Early_Morning  zero   \n",
       "2                2   AirAsia   I5-764       Delhi  Early_Morning  zero   \n",
       "3                3   Vistara   UK-995       Delhi        Morning  zero   \n",
       "4                4   Vistara   UK-963       Delhi        Morning  zero   \n",
       "...            ...       ...      ...         ...            ...   ...   \n",
       "300148      300148   Vistara   UK-822     Chennai        Morning   one   \n",
       "300149      300149   Vistara   UK-826     Chennai      Afternoon   one   \n",
       "300150      300150   Vistara   UK-832     Chennai  Early_Morning   one   \n",
       "300151      300151   Vistara   UK-828     Chennai  Early_Morning   one   \n",
       "300152      300152   Vistara   UK-822     Chennai        Morning   one   \n",
       "\n",
       "         arrival_time destination_city     class  duration  days_left  price  \n",
       "0               Night           Mumbai   Economy      2.17          1   5953  \n",
       "1             Morning           Mumbai   Economy      2.33          1   5953  \n",
       "2       Early_Morning           Mumbai   Economy      2.17          1   5956  \n",
       "3           Afternoon           Mumbai   Economy      2.25          1   5955  \n",
       "4             Morning           Mumbai   Economy      2.33          1   5955  \n",
       "...               ...              ...       ...       ...        ...    ...  \n",
       "300148        Evening        Hyderabad  Business     10.08         49  69265  \n",
       "300149          Night        Hyderabad  Business     10.42         49  77105  \n",
       "300150          Night        Hyderabad  Business     13.83         49  79099  \n",
       "300151        Evening        Hyderabad  Business     10.00         49  81585  \n",
       "300152        Evening        Hyderabad  Business     10.08         49  81585  \n",
       "\n",
       "[300153 rows x 12 columns]"
      ],
      "text/html": [
       "<div>\n",
       "<style scoped>\n",
       "    .dataframe tbody tr th:only-of-type {\n",
       "        vertical-align: middle;\n",
       "    }\n",
       "\n",
       "    .dataframe tbody tr th {\n",
       "        vertical-align: top;\n",
       "    }\n",
       "\n",
       "    .dataframe thead th {\n",
       "        text-align: right;\n",
       "    }\n",
       "</style>\n",
       "<table border=\"1\" class=\"dataframe\">\n",
       "  <thead>\n",
       "    <tr style=\"text-align: right;\">\n",
       "      <th></th>\n",
       "      <th>Unnamed: 0</th>\n",
       "      <th>airline</th>\n",
       "      <th>flight</th>\n",
       "      <th>source_city</th>\n",
       "      <th>departure_time</th>\n",
       "      <th>stops</th>\n",
       "      <th>arrival_time</th>\n",
       "      <th>destination_city</th>\n",
       "      <th>class</th>\n",
       "      <th>duration</th>\n",
       "      <th>days_left</th>\n",
       "      <th>price</th>\n",
       "    </tr>\n",
       "  </thead>\n",
       "  <tbody>\n",
       "    <tr>\n",
       "      <th>0</th>\n",
       "      <td>0</td>\n",
       "      <td>SpiceJet</td>\n",
       "      <td>SG-8709</td>\n",
       "      <td>Delhi</td>\n",
       "      <td>Evening</td>\n",
       "      <td>zero</td>\n",
       "      <td>Night</td>\n",
       "      <td>Mumbai</td>\n",
       "      <td>Economy</td>\n",
       "      <td>2.17</td>\n",
       "      <td>1</td>\n",
       "      <td>5953</td>\n",
       "    </tr>\n",
       "    <tr>\n",
       "      <th>1</th>\n",
       "      <td>1</td>\n",
       "      <td>SpiceJet</td>\n",
       "      <td>SG-8157</td>\n",
       "      <td>Delhi</td>\n",
       "      <td>Early_Morning</td>\n",
       "      <td>zero</td>\n",
       "      <td>Morning</td>\n",
       "      <td>Mumbai</td>\n",
       "      <td>Economy</td>\n",
       "      <td>2.33</td>\n",
       "      <td>1</td>\n",
       "      <td>5953</td>\n",
       "    </tr>\n",
       "    <tr>\n",
       "      <th>2</th>\n",
       "      <td>2</td>\n",
       "      <td>AirAsia</td>\n",
       "      <td>I5-764</td>\n",
       "      <td>Delhi</td>\n",
       "      <td>Early_Morning</td>\n",
       "      <td>zero</td>\n",
       "      <td>Early_Morning</td>\n",
       "      <td>Mumbai</td>\n",
       "      <td>Economy</td>\n",
       "      <td>2.17</td>\n",
       "      <td>1</td>\n",
       "      <td>5956</td>\n",
       "    </tr>\n",
       "    <tr>\n",
       "      <th>3</th>\n",
       "      <td>3</td>\n",
       "      <td>Vistara</td>\n",
       "      <td>UK-995</td>\n",
       "      <td>Delhi</td>\n",
       "      <td>Morning</td>\n",
       "      <td>zero</td>\n",
       "      <td>Afternoon</td>\n",
       "      <td>Mumbai</td>\n",
       "      <td>Economy</td>\n",
       "      <td>2.25</td>\n",
       "      <td>1</td>\n",
       "      <td>5955</td>\n",
       "    </tr>\n",
       "    <tr>\n",
       "      <th>4</th>\n",
       "      <td>4</td>\n",
       "      <td>Vistara</td>\n",
       "      <td>UK-963</td>\n",
       "      <td>Delhi</td>\n",
       "      <td>Morning</td>\n",
       "      <td>zero</td>\n",
       "      <td>Morning</td>\n",
       "      <td>Mumbai</td>\n",
       "      <td>Economy</td>\n",
       "      <td>2.33</td>\n",
       "      <td>1</td>\n",
       "      <td>5955</td>\n",
       "    </tr>\n",
       "    <tr>\n",
       "      <th>...</th>\n",
       "      <td>...</td>\n",
       "      <td>...</td>\n",
       "      <td>...</td>\n",
       "      <td>...</td>\n",
       "      <td>...</td>\n",
       "      <td>...</td>\n",
       "      <td>...</td>\n",
       "      <td>...</td>\n",
       "      <td>...</td>\n",
       "      <td>...</td>\n",
       "      <td>...</td>\n",
       "      <td>...</td>\n",
       "    </tr>\n",
       "    <tr>\n",
       "      <th>300148</th>\n",
       "      <td>300148</td>\n",
       "      <td>Vistara</td>\n",
       "      <td>UK-822</td>\n",
       "      <td>Chennai</td>\n",
       "      <td>Morning</td>\n",
       "      <td>one</td>\n",
       "      <td>Evening</td>\n",
       "      <td>Hyderabad</td>\n",
       "      <td>Business</td>\n",
       "      <td>10.08</td>\n",
       "      <td>49</td>\n",
       "      <td>69265</td>\n",
       "    </tr>\n",
       "    <tr>\n",
       "      <th>300149</th>\n",
       "      <td>300149</td>\n",
       "      <td>Vistara</td>\n",
       "      <td>UK-826</td>\n",
       "      <td>Chennai</td>\n",
       "      <td>Afternoon</td>\n",
       "      <td>one</td>\n",
       "      <td>Night</td>\n",
       "      <td>Hyderabad</td>\n",
       "      <td>Business</td>\n",
       "      <td>10.42</td>\n",
       "      <td>49</td>\n",
       "      <td>77105</td>\n",
       "    </tr>\n",
       "    <tr>\n",
       "      <th>300150</th>\n",
       "      <td>300150</td>\n",
       "      <td>Vistara</td>\n",
       "      <td>UK-832</td>\n",
       "      <td>Chennai</td>\n",
       "      <td>Early_Morning</td>\n",
       "      <td>one</td>\n",
       "      <td>Night</td>\n",
       "      <td>Hyderabad</td>\n",
       "      <td>Business</td>\n",
       "      <td>13.83</td>\n",
       "      <td>49</td>\n",
       "      <td>79099</td>\n",
       "    </tr>\n",
       "    <tr>\n",
       "      <th>300151</th>\n",
       "      <td>300151</td>\n",
       "      <td>Vistara</td>\n",
       "      <td>UK-828</td>\n",
       "      <td>Chennai</td>\n",
       "      <td>Early_Morning</td>\n",
       "      <td>one</td>\n",
       "      <td>Evening</td>\n",
       "      <td>Hyderabad</td>\n",
       "      <td>Business</td>\n",
       "      <td>10.00</td>\n",
       "      <td>49</td>\n",
       "      <td>81585</td>\n",
       "    </tr>\n",
       "    <tr>\n",
       "      <th>300152</th>\n",
       "      <td>300152</td>\n",
       "      <td>Vistara</td>\n",
       "      <td>UK-822</td>\n",
       "      <td>Chennai</td>\n",
       "      <td>Morning</td>\n",
       "      <td>one</td>\n",
       "      <td>Evening</td>\n",
       "      <td>Hyderabad</td>\n",
       "      <td>Business</td>\n",
       "      <td>10.08</td>\n",
       "      <td>49</td>\n",
       "      <td>81585</td>\n",
       "    </tr>\n",
       "  </tbody>\n",
       "</table>\n",
       "<p>300153 rows × 12 columns</p>\n",
       "</div>"
      ]
     },
     "execution_count": 1,
     "metadata": {},
     "output_type": "execute_result"
    }
   ],
   "execution_count": 1
  },
  {
   "attachments": {},
   "cell_type": "markdown",
   "metadata": {},
   "source": [
    "# SECTION 01. 필요 데이터 선택하기"
   ],
   "id": "75ffe2b6cf42c990"
  },
  {
   "attachments": {},
   "cell_type": "markdown",
   "metadata": {},
   "source": [
    "## 1. 칼럼명으로 데이터 선택하기"
   ],
   "id": "7086967ad4c870d0"
  },
  {
   "cell_type": "code",
   "metadata": {
    "ExecuteTime": {
     "end_time": "2024-08-18T03:22:40.519926Z",
     "start_time": "2024-08-18T03:22:40.512839Z"
    }
   },
   "source": [
    "# 하나의 칼럼만 선택하기\n",
    "flight[['departure_time']]"
   ],
   "id": "be265759717cd653",
   "outputs": [
    {
     "data": {
      "text/plain": [
       "       departure_time\n",
       "0             Evening\n",
       "1       Early_Morning\n",
       "2       Early_Morning\n",
       "3             Morning\n",
       "4             Morning\n",
       "...               ...\n",
       "300148        Morning\n",
       "300149      Afternoon\n",
       "300150  Early_Morning\n",
       "300151  Early_Morning\n",
       "300152        Morning\n",
       "\n",
       "[300153 rows x 1 columns]"
      ],
      "text/html": [
       "<div>\n",
       "<style scoped>\n",
       "    .dataframe tbody tr th:only-of-type {\n",
       "        vertical-align: middle;\n",
       "    }\n",
       "\n",
       "    .dataframe tbody tr th {\n",
       "        vertical-align: top;\n",
       "    }\n",
       "\n",
       "    .dataframe thead th {\n",
       "        text-align: right;\n",
       "    }\n",
       "</style>\n",
       "<table border=\"1\" class=\"dataframe\">\n",
       "  <thead>\n",
       "    <tr style=\"text-align: right;\">\n",
       "      <th></th>\n",
       "      <th>departure_time</th>\n",
       "    </tr>\n",
       "  </thead>\n",
       "  <tbody>\n",
       "    <tr>\n",
       "      <th>0</th>\n",
       "      <td>Evening</td>\n",
       "    </tr>\n",
       "    <tr>\n",
       "      <th>1</th>\n",
       "      <td>Early_Morning</td>\n",
       "    </tr>\n",
       "    <tr>\n",
       "      <th>2</th>\n",
       "      <td>Early_Morning</td>\n",
       "    </tr>\n",
       "    <tr>\n",
       "      <th>3</th>\n",
       "      <td>Morning</td>\n",
       "    </tr>\n",
       "    <tr>\n",
       "      <th>4</th>\n",
       "      <td>Morning</td>\n",
       "    </tr>\n",
       "    <tr>\n",
       "      <th>...</th>\n",
       "      <td>...</td>\n",
       "    </tr>\n",
       "    <tr>\n",
       "      <th>300148</th>\n",
       "      <td>Morning</td>\n",
       "    </tr>\n",
       "    <tr>\n",
       "      <th>300149</th>\n",
       "      <td>Afternoon</td>\n",
       "    </tr>\n",
       "    <tr>\n",
       "      <th>300150</th>\n",
       "      <td>Early_Morning</td>\n",
       "    </tr>\n",
       "    <tr>\n",
       "      <th>300151</th>\n",
       "      <td>Early_Morning</td>\n",
       "    </tr>\n",
       "    <tr>\n",
       "      <th>300152</th>\n",
       "      <td>Morning</td>\n",
       "    </tr>\n",
       "  </tbody>\n",
       "</table>\n",
       "<p>300153 rows × 1 columns</p>\n",
       "</div>"
      ]
     },
     "execution_count": 2,
     "metadata": {},
     "output_type": "execute_result"
    }
   ],
   "execution_count": 2
  },
  {
   "cell_type": "code",
   "metadata": {
    "ExecuteTime": {
     "end_time": "2024-08-18T03:22:40.533337Z",
     "start_time": "2024-08-18T03:22:40.521411Z"
    }
   },
   "source": [
    "# 여러 개의 칼럼 선택하기\n",
    "flight[['airline','departure_time','source_city']]"
   ],
   "id": "e36486708e9d7379",
   "outputs": [
    {
     "data": {
      "text/plain": [
       "         airline departure_time source_city\n",
       "0       SpiceJet        Evening       Delhi\n",
       "1       SpiceJet  Early_Morning       Delhi\n",
       "2        AirAsia  Early_Morning       Delhi\n",
       "3        Vistara        Morning       Delhi\n",
       "4        Vistara        Morning       Delhi\n",
       "...          ...            ...         ...\n",
       "300148   Vistara        Morning     Chennai\n",
       "300149   Vistara      Afternoon     Chennai\n",
       "300150   Vistara  Early_Morning     Chennai\n",
       "300151   Vistara  Early_Morning     Chennai\n",
       "300152   Vistara        Morning     Chennai\n",
       "\n",
       "[300153 rows x 3 columns]"
      ],
      "text/html": [
       "<div>\n",
       "<style scoped>\n",
       "    .dataframe tbody tr th:only-of-type {\n",
       "        vertical-align: middle;\n",
       "    }\n",
       "\n",
       "    .dataframe tbody tr th {\n",
       "        vertical-align: top;\n",
       "    }\n",
       "\n",
       "    .dataframe thead th {\n",
       "        text-align: right;\n",
       "    }\n",
       "</style>\n",
       "<table border=\"1\" class=\"dataframe\">\n",
       "  <thead>\n",
       "    <tr style=\"text-align: right;\">\n",
       "      <th></th>\n",
       "      <th>airline</th>\n",
       "      <th>departure_time</th>\n",
       "      <th>source_city</th>\n",
       "    </tr>\n",
       "  </thead>\n",
       "  <tbody>\n",
       "    <tr>\n",
       "      <th>0</th>\n",
       "      <td>SpiceJet</td>\n",
       "      <td>Evening</td>\n",
       "      <td>Delhi</td>\n",
       "    </tr>\n",
       "    <tr>\n",
       "      <th>1</th>\n",
       "      <td>SpiceJet</td>\n",
       "      <td>Early_Morning</td>\n",
       "      <td>Delhi</td>\n",
       "    </tr>\n",
       "    <tr>\n",
       "      <th>2</th>\n",
       "      <td>AirAsia</td>\n",
       "      <td>Early_Morning</td>\n",
       "      <td>Delhi</td>\n",
       "    </tr>\n",
       "    <tr>\n",
       "      <th>3</th>\n",
       "      <td>Vistara</td>\n",
       "      <td>Morning</td>\n",
       "      <td>Delhi</td>\n",
       "    </tr>\n",
       "    <tr>\n",
       "      <th>4</th>\n",
       "      <td>Vistara</td>\n",
       "      <td>Morning</td>\n",
       "      <td>Delhi</td>\n",
       "    </tr>\n",
       "    <tr>\n",
       "      <th>...</th>\n",
       "      <td>...</td>\n",
       "      <td>...</td>\n",
       "      <td>...</td>\n",
       "    </tr>\n",
       "    <tr>\n",
       "      <th>300148</th>\n",
       "      <td>Vistara</td>\n",
       "      <td>Morning</td>\n",
       "      <td>Chennai</td>\n",
       "    </tr>\n",
       "    <tr>\n",
       "      <th>300149</th>\n",
       "      <td>Vistara</td>\n",
       "      <td>Afternoon</td>\n",
       "      <td>Chennai</td>\n",
       "    </tr>\n",
       "    <tr>\n",
       "      <th>300150</th>\n",
       "      <td>Vistara</td>\n",
       "      <td>Early_Morning</td>\n",
       "      <td>Chennai</td>\n",
       "    </tr>\n",
       "    <tr>\n",
       "      <th>300151</th>\n",
       "      <td>Vistara</td>\n",
       "      <td>Early_Morning</td>\n",
       "      <td>Chennai</td>\n",
       "    </tr>\n",
       "    <tr>\n",
       "      <th>300152</th>\n",
       "      <td>Vistara</td>\n",
       "      <td>Morning</td>\n",
       "      <td>Chennai</td>\n",
       "    </tr>\n",
       "  </tbody>\n",
       "</table>\n",
       "<p>300153 rows × 3 columns</p>\n",
       "</div>"
      ]
     },
     "execution_count": 3,
     "metadata": {},
     "output_type": "execute_result"
    }
   ],
   "execution_count": 3
  },
  {
   "attachments": {},
   "cell_type": "markdown",
   "metadata": {},
   "source": [
    "## 2. 행 범위를 지정하여 데이터 선택하기"
   ],
   "id": "39418d3f845ec99f"
  },
  {
   "cell_type": "code",
   "metadata": {
    "ExecuteTime": {
     "end_time": "2024-08-18T03:22:40.540703Z",
     "start_time": "2024-08-18T03:22:40.534538Z"
    }
   },
   "source": [
    "# 슬라이싱을 이용하여 10행부터 20행까지의 데이터를 가져오기\n",
    "flight[10:21]"
   ],
   "id": "864f7418eaf3955",
   "outputs": [
    {
     "data": {
      "text/plain": [
       "    Unnamed: 0    airline   flight source_city departure_time stops  \\\n",
       "10          10   GO_FIRST   G8-392       Delhi      Afternoon  zero   \n",
       "11          11   GO_FIRST   G8-338       Delhi        Morning  zero   \n",
       "12          12     Indigo  6E-5001       Delhi  Early_Morning  zero   \n",
       "13          13     Indigo  6E-6202       Delhi        Morning  zero   \n",
       "14          14     Indigo   6E-549       Delhi      Afternoon  zero   \n",
       "15          15     Indigo  6E-6278       Delhi        Morning  zero   \n",
       "16          16  Air_India   AI-887       Delhi  Early_Morning  zero   \n",
       "17          17  Air_India   AI-665       Delhi  Early_Morning  zero   \n",
       "18          18    AirAsia   I5-747       Delhi        Evening   one   \n",
       "19          19    AirAsia   I5-747       Delhi        Evening   one   \n",
       "20          20   GO_FIRST   G8-266       Delhi  Early_Morning   one   \n",
       "\n",
       "     arrival_time destination_city    class  duration  days_left  price  \n",
       "10        Evening           Mumbai  Economy      2.25          1   5954  \n",
       "11      Afternoon           Mumbai  Economy      2.33          1   5954  \n",
       "12        Morning           Mumbai  Economy      2.17          1   5955  \n",
       "13      Afternoon           Mumbai  Economy      2.17          1   5955  \n",
       "14        Evening           Mumbai  Economy      2.25          1   5955  \n",
       "15        Morning           Mumbai  Economy      2.33          1   5955  \n",
       "16        Morning           Mumbai  Economy      2.08          1   5955  \n",
       "17        Morning           Mumbai  Economy      2.17          1   5955  \n",
       "18  Early_Morning           Mumbai  Economy     12.25          1   5949  \n",
       "19        Morning           Mumbai  Economy     16.33          1   5949  \n",
       "20        Evening           Mumbai  Economy     11.75          1   5954  "
      ],
      "text/html": [
       "<div>\n",
       "<style scoped>\n",
       "    .dataframe tbody tr th:only-of-type {\n",
       "        vertical-align: middle;\n",
       "    }\n",
       "\n",
       "    .dataframe tbody tr th {\n",
       "        vertical-align: top;\n",
       "    }\n",
       "\n",
       "    .dataframe thead th {\n",
       "        text-align: right;\n",
       "    }\n",
       "</style>\n",
       "<table border=\"1\" class=\"dataframe\">\n",
       "  <thead>\n",
       "    <tr style=\"text-align: right;\">\n",
       "      <th></th>\n",
       "      <th>Unnamed: 0</th>\n",
       "      <th>airline</th>\n",
       "      <th>flight</th>\n",
       "      <th>source_city</th>\n",
       "      <th>departure_time</th>\n",
       "      <th>stops</th>\n",
       "      <th>arrival_time</th>\n",
       "      <th>destination_city</th>\n",
       "      <th>class</th>\n",
       "      <th>duration</th>\n",
       "      <th>days_left</th>\n",
       "      <th>price</th>\n",
       "    </tr>\n",
       "  </thead>\n",
       "  <tbody>\n",
       "    <tr>\n",
       "      <th>10</th>\n",
       "      <td>10</td>\n",
       "      <td>GO_FIRST</td>\n",
       "      <td>G8-392</td>\n",
       "      <td>Delhi</td>\n",
       "      <td>Afternoon</td>\n",
       "      <td>zero</td>\n",
       "      <td>Evening</td>\n",
       "      <td>Mumbai</td>\n",
       "      <td>Economy</td>\n",
       "      <td>2.25</td>\n",
       "      <td>1</td>\n",
       "      <td>5954</td>\n",
       "    </tr>\n",
       "    <tr>\n",
       "      <th>11</th>\n",
       "      <td>11</td>\n",
       "      <td>GO_FIRST</td>\n",
       "      <td>G8-338</td>\n",
       "      <td>Delhi</td>\n",
       "      <td>Morning</td>\n",
       "      <td>zero</td>\n",
       "      <td>Afternoon</td>\n",
       "      <td>Mumbai</td>\n",
       "      <td>Economy</td>\n",
       "      <td>2.33</td>\n",
       "      <td>1</td>\n",
       "      <td>5954</td>\n",
       "    </tr>\n",
       "    <tr>\n",
       "      <th>12</th>\n",
       "      <td>12</td>\n",
       "      <td>Indigo</td>\n",
       "      <td>6E-5001</td>\n",
       "      <td>Delhi</td>\n",
       "      <td>Early_Morning</td>\n",
       "      <td>zero</td>\n",
       "      <td>Morning</td>\n",
       "      <td>Mumbai</td>\n",
       "      <td>Economy</td>\n",
       "      <td>2.17</td>\n",
       "      <td>1</td>\n",
       "      <td>5955</td>\n",
       "    </tr>\n",
       "    <tr>\n",
       "      <th>13</th>\n",
       "      <td>13</td>\n",
       "      <td>Indigo</td>\n",
       "      <td>6E-6202</td>\n",
       "      <td>Delhi</td>\n",
       "      <td>Morning</td>\n",
       "      <td>zero</td>\n",
       "      <td>Afternoon</td>\n",
       "      <td>Mumbai</td>\n",
       "      <td>Economy</td>\n",
       "      <td>2.17</td>\n",
       "      <td>1</td>\n",
       "      <td>5955</td>\n",
       "    </tr>\n",
       "    <tr>\n",
       "      <th>14</th>\n",
       "      <td>14</td>\n",
       "      <td>Indigo</td>\n",
       "      <td>6E-549</td>\n",
       "      <td>Delhi</td>\n",
       "      <td>Afternoon</td>\n",
       "      <td>zero</td>\n",
       "      <td>Evening</td>\n",
       "      <td>Mumbai</td>\n",
       "      <td>Economy</td>\n",
       "      <td>2.25</td>\n",
       "      <td>1</td>\n",
       "      <td>5955</td>\n",
       "    </tr>\n",
       "    <tr>\n",
       "      <th>15</th>\n",
       "      <td>15</td>\n",
       "      <td>Indigo</td>\n",
       "      <td>6E-6278</td>\n",
       "      <td>Delhi</td>\n",
       "      <td>Morning</td>\n",
       "      <td>zero</td>\n",
       "      <td>Morning</td>\n",
       "      <td>Mumbai</td>\n",
       "      <td>Economy</td>\n",
       "      <td>2.33</td>\n",
       "      <td>1</td>\n",
       "      <td>5955</td>\n",
       "    </tr>\n",
       "    <tr>\n",
       "      <th>16</th>\n",
       "      <td>16</td>\n",
       "      <td>Air_India</td>\n",
       "      <td>AI-887</td>\n",
       "      <td>Delhi</td>\n",
       "      <td>Early_Morning</td>\n",
       "      <td>zero</td>\n",
       "      <td>Morning</td>\n",
       "      <td>Mumbai</td>\n",
       "      <td>Economy</td>\n",
       "      <td>2.08</td>\n",
       "      <td>1</td>\n",
       "      <td>5955</td>\n",
       "    </tr>\n",
       "    <tr>\n",
       "      <th>17</th>\n",
       "      <td>17</td>\n",
       "      <td>Air_India</td>\n",
       "      <td>AI-665</td>\n",
       "      <td>Delhi</td>\n",
       "      <td>Early_Morning</td>\n",
       "      <td>zero</td>\n",
       "      <td>Morning</td>\n",
       "      <td>Mumbai</td>\n",
       "      <td>Economy</td>\n",
       "      <td>2.17</td>\n",
       "      <td>1</td>\n",
       "      <td>5955</td>\n",
       "    </tr>\n",
       "    <tr>\n",
       "      <th>18</th>\n",
       "      <td>18</td>\n",
       "      <td>AirAsia</td>\n",
       "      <td>I5-747</td>\n",
       "      <td>Delhi</td>\n",
       "      <td>Evening</td>\n",
       "      <td>one</td>\n",
       "      <td>Early_Morning</td>\n",
       "      <td>Mumbai</td>\n",
       "      <td>Economy</td>\n",
       "      <td>12.25</td>\n",
       "      <td>1</td>\n",
       "      <td>5949</td>\n",
       "    </tr>\n",
       "    <tr>\n",
       "      <th>19</th>\n",
       "      <td>19</td>\n",
       "      <td>AirAsia</td>\n",
       "      <td>I5-747</td>\n",
       "      <td>Delhi</td>\n",
       "      <td>Evening</td>\n",
       "      <td>one</td>\n",
       "      <td>Morning</td>\n",
       "      <td>Mumbai</td>\n",
       "      <td>Economy</td>\n",
       "      <td>16.33</td>\n",
       "      <td>1</td>\n",
       "      <td>5949</td>\n",
       "    </tr>\n",
       "    <tr>\n",
       "      <th>20</th>\n",
       "      <td>20</td>\n",
       "      <td>GO_FIRST</td>\n",
       "      <td>G8-266</td>\n",
       "      <td>Delhi</td>\n",
       "      <td>Early_Morning</td>\n",
       "      <td>one</td>\n",
       "      <td>Evening</td>\n",
       "      <td>Mumbai</td>\n",
       "      <td>Economy</td>\n",
       "      <td>11.75</td>\n",
       "      <td>1</td>\n",
       "      <td>5954</td>\n",
       "    </tr>\n",
       "  </tbody>\n",
       "</table>\n",
       "</div>"
      ]
     },
     "execution_count": 4,
     "metadata": {},
     "output_type": "execute_result"
    }
   ],
   "execution_count": 4
  },
  {
   "attachments": {},
   "cell_type": "markdown",
   "metadata": {},
   "source": [
    "## 3. 특정 행, 열의 범위를 선택하여 데이터 선택하기\n",
    "### 기반:\n",
    "\n",
    "- loc: 라벨(이름) 기반 인덱싱.\n",
    "- iloc: 정수 기반 인덱싱.\n",
    "\n",
    "### 슬라이싱 방식:\n",
    "\n",
    "- loc: 종료값을 포함.\n",
    "- iloc: 종료값을 포함하지 않음.\n",
    "\n",
    "### 사용 용도:\n",
    "\n",
    "- loc: 데이터프레임의 라벨을 알고 있을 때 유용.\n",
    "- iloc: 데이터프레임의 정수 위치를 사용할 때 유용."
   ],
   "id": "bb6855dae10de559"
  },
  {
   "cell_type": "code",
   "metadata": {
    "ExecuteTime": {
     "end_time": "2024-08-18T03:22:40.554009Z",
     "start_time": "2024-08-18T03:22:40.542973Z"
    }
   },
   "source": [
    "# 인덱스 새롭게 지정하기\n",
    "flight.index = np.arange(100,300253)\n",
    "flight"
   ],
   "id": "6f085e649d733acb",
   "outputs": [
    {
     "data": {
      "text/plain": [
       "        Unnamed: 0   airline   flight source_city departure_time stops  \\\n",
       "100              0  SpiceJet  SG-8709       Delhi        Evening  zero   \n",
       "101              1  SpiceJet  SG-8157       Delhi  Early_Morning  zero   \n",
       "102              2   AirAsia   I5-764       Delhi  Early_Morning  zero   \n",
       "103              3   Vistara   UK-995       Delhi        Morning  zero   \n",
       "104              4   Vistara   UK-963       Delhi        Morning  zero   \n",
       "...            ...       ...      ...         ...            ...   ...   \n",
       "300248      300148   Vistara   UK-822     Chennai        Morning   one   \n",
       "300249      300149   Vistara   UK-826     Chennai      Afternoon   one   \n",
       "300250      300150   Vistara   UK-832     Chennai  Early_Morning   one   \n",
       "300251      300151   Vistara   UK-828     Chennai  Early_Morning   one   \n",
       "300252      300152   Vistara   UK-822     Chennai        Morning   one   \n",
       "\n",
       "         arrival_time destination_city     class  duration  days_left  price  \n",
       "100             Night           Mumbai   Economy      2.17          1   5953  \n",
       "101           Morning           Mumbai   Economy      2.33          1   5953  \n",
       "102     Early_Morning           Mumbai   Economy      2.17          1   5956  \n",
       "103         Afternoon           Mumbai   Economy      2.25          1   5955  \n",
       "104           Morning           Mumbai   Economy      2.33          1   5955  \n",
       "...               ...              ...       ...       ...        ...    ...  \n",
       "300248        Evening        Hyderabad  Business     10.08         49  69265  \n",
       "300249          Night        Hyderabad  Business     10.42         49  77105  \n",
       "300250          Night        Hyderabad  Business     13.83         49  79099  \n",
       "300251        Evening        Hyderabad  Business     10.00         49  81585  \n",
       "300252        Evening        Hyderabad  Business     10.08         49  81585  \n",
       "\n",
       "[300153 rows x 12 columns]"
      ],
      "text/html": [
       "<div>\n",
       "<style scoped>\n",
       "    .dataframe tbody tr th:only-of-type {\n",
       "        vertical-align: middle;\n",
       "    }\n",
       "\n",
       "    .dataframe tbody tr th {\n",
       "        vertical-align: top;\n",
       "    }\n",
       "\n",
       "    .dataframe thead th {\n",
       "        text-align: right;\n",
       "    }\n",
       "</style>\n",
       "<table border=\"1\" class=\"dataframe\">\n",
       "  <thead>\n",
       "    <tr style=\"text-align: right;\">\n",
       "      <th></th>\n",
       "      <th>Unnamed: 0</th>\n",
       "      <th>airline</th>\n",
       "      <th>flight</th>\n",
       "      <th>source_city</th>\n",
       "      <th>departure_time</th>\n",
       "      <th>stops</th>\n",
       "      <th>arrival_time</th>\n",
       "      <th>destination_city</th>\n",
       "      <th>class</th>\n",
       "      <th>duration</th>\n",
       "      <th>days_left</th>\n",
       "      <th>price</th>\n",
       "    </tr>\n",
       "  </thead>\n",
       "  <tbody>\n",
       "    <tr>\n",
       "      <th>100</th>\n",
       "      <td>0</td>\n",
       "      <td>SpiceJet</td>\n",
       "      <td>SG-8709</td>\n",
       "      <td>Delhi</td>\n",
       "      <td>Evening</td>\n",
       "      <td>zero</td>\n",
       "      <td>Night</td>\n",
       "      <td>Mumbai</td>\n",
       "      <td>Economy</td>\n",
       "      <td>2.17</td>\n",
       "      <td>1</td>\n",
       "      <td>5953</td>\n",
       "    </tr>\n",
       "    <tr>\n",
       "      <th>101</th>\n",
       "      <td>1</td>\n",
       "      <td>SpiceJet</td>\n",
       "      <td>SG-8157</td>\n",
       "      <td>Delhi</td>\n",
       "      <td>Early_Morning</td>\n",
       "      <td>zero</td>\n",
       "      <td>Morning</td>\n",
       "      <td>Mumbai</td>\n",
       "      <td>Economy</td>\n",
       "      <td>2.33</td>\n",
       "      <td>1</td>\n",
       "      <td>5953</td>\n",
       "    </tr>\n",
       "    <tr>\n",
       "      <th>102</th>\n",
       "      <td>2</td>\n",
       "      <td>AirAsia</td>\n",
       "      <td>I5-764</td>\n",
       "      <td>Delhi</td>\n",
       "      <td>Early_Morning</td>\n",
       "      <td>zero</td>\n",
       "      <td>Early_Morning</td>\n",
       "      <td>Mumbai</td>\n",
       "      <td>Economy</td>\n",
       "      <td>2.17</td>\n",
       "      <td>1</td>\n",
       "      <td>5956</td>\n",
       "    </tr>\n",
       "    <tr>\n",
       "      <th>103</th>\n",
       "      <td>3</td>\n",
       "      <td>Vistara</td>\n",
       "      <td>UK-995</td>\n",
       "      <td>Delhi</td>\n",
       "      <td>Morning</td>\n",
       "      <td>zero</td>\n",
       "      <td>Afternoon</td>\n",
       "      <td>Mumbai</td>\n",
       "      <td>Economy</td>\n",
       "      <td>2.25</td>\n",
       "      <td>1</td>\n",
       "      <td>5955</td>\n",
       "    </tr>\n",
       "    <tr>\n",
       "      <th>104</th>\n",
       "      <td>4</td>\n",
       "      <td>Vistara</td>\n",
       "      <td>UK-963</td>\n",
       "      <td>Delhi</td>\n",
       "      <td>Morning</td>\n",
       "      <td>zero</td>\n",
       "      <td>Morning</td>\n",
       "      <td>Mumbai</td>\n",
       "      <td>Economy</td>\n",
       "      <td>2.33</td>\n",
       "      <td>1</td>\n",
       "      <td>5955</td>\n",
       "    </tr>\n",
       "    <tr>\n",
       "      <th>...</th>\n",
       "      <td>...</td>\n",
       "      <td>...</td>\n",
       "      <td>...</td>\n",
       "      <td>...</td>\n",
       "      <td>...</td>\n",
       "      <td>...</td>\n",
       "      <td>...</td>\n",
       "      <td>...</td>\n",
       "      <td>...</td>\n",
       "      <td>...</td>\n",
       "      <td>...</td>\n",
       "      <td>...</td>\n",
       "    </tr>\n",
       "    <tr>\n",
       "      <th>300248</th>\n",
       "      <td>300148</td>\n",
       "      <td>Vistara</td>\n",
       "      <td>UK-822</td>\n",
       "      <td>Chennai</td>\n",
       "      <td>Morning</td>\n",
       "      <td>one</td>\n",
       "      <td>Evening</td>\n",
       "      <td>Hyderabad</td>\n",
       "      <td>Business</td>\n",
       "      <td>10.08</td>\n",
       "      <td>49</td>\n",
       "      <td>69265</td>\n",
       "    </tr>\n",
       "    <tr>\n",
       "      <th>300249</th>\n",
       "      <td>300149</td>\n",
       "      <td>Vistara</td>\n",
       "      <td>UK-826</td>\n",
       "      <td>Chennai</td>\n",
       "      <td>Afternoon</td>\n",
       "      <td>one</td>\n",
       "      <td>Night</td>\n",
       "      <td>Hyderabad</td>\n",
       "      <td>Business</td>\n",
       "      <td>10.42</td>\n",
       "      <td>49</td>\n",
       "      <td>77105</td>\n",
       "    </tr>\n",
       "    <tr>\n",
       "      <th>300250</th>\n",
       "      <td>300150</td>\n",
       "      <td>Vistara</td>\n",
       "      <td>UK-832</td>\n",
       "      <td>Chennai</td>\n",
       "      <td>Early_Morning</td>\n",
       "      <td>one</td>\n",
       "      <td>Night</td>\n",
       "      <td>Hyderabad</td>\n",
       "      <td>Business</td>\n",
       "      <td>13.83</td>\n",
       "      <td>49</td>\n",
       "      <td>79099</td>\n",
       "    </tr>\n",
       "    <tr>\n",
       "      <th>300251</th>\n",
       "      <td>300151</td>\n",
       "      <td>Vistara</td>\n",
       "      <td>UK-828</td>\n",
       "      <td>Chennai</td>\n",
       "      <td>Early_Morning</td>\n",
       "      <td>one</td>\n",
       "      <td>Evening</td>\n",
       "      <td>Hyderabad</td>\n",
       "      <td>Business</td>\n",
       "      <td>10.00</td>\n",
       "      <td>49</td>\n",
       "      <td>81585</td>\n",
       "    </tr>\n",
       "    <tr>\n",
       "      <th>300252</th>\n",
       "      <td>300152</td>\n",
       "      <td>Vistara</td>\n",
       "      <td>UK-822</td>\n",
       "      <td>Chennai</td>\n",
       "      <td>Morning</td>\n",
       "      <td>one</td>\n",
       "      <td>Evening</td>\n",
       "      <td>Hyderabad</td>\n",
       "      <td>Business</td>\n",
       "      <td>10.08</td>\n",
       "      <td>49</td>\n",
       "      <td>81585</td>\n",
       "    </tr>\n",
       "  </tbody>\n",
       "</table>\n",
       "<p>300153 rows × 12 columns</p>\n",
       "</div>"
      ]
     },
     "execution_count": 5,
     "metadata": {},
     "output_type": "execute_result"
    }
   ],
   "execution_count": 5
  },
  {
   "metadata": {
    "ExecuteTime": {
     "end_time": "2024-08-18T03:22:40.560227Z",
     "start_time": "2024-08-18T03:22:40.556027Z"
    }
   },
   "cell_type": "code",
   "source": [
    "groups = flight.groupby('airline')\n",
    "groups"
   ],
   "id": "c01f6785cec62244",
   "outputs": [
    {
     "data": {
      "text/plain": [
       "<pandas.core.groupby.generic.DataFrameGroupBy object at 0x15ec97510>"
      ]
     },
     "execution_count": 6,
     "metadata": {},
     "output_type": "execute_result"
    }
   ],
   "execution_count": 6
  },
  {
   "metadata": {
    "ExecuteTime": {
     "end_time": "2024-08-18T03:22:40.628163Z",
     "start_time": "2024-08-18T03:22:40.562861Z"
    }
   },
   "cell_type": "code",
   "source": "groups.count()",
   "id": "3ac33f3e4cc16290",
   "outputs": [
    {
     "data": {
      "text/plain": [
       "           Unnamed: 0  flight  source_city  departure_time   stops  \\\n",
       "airline                                                              \n",
       "AirAsia         16098   16098        16098           16098   16098   \n",
       "Air_India       80892   80892        80892           80892   80892   \n",
       "GO_FIRST        23173   23173        23173           23173   23173   \n",
       "Indigo          43120   43120        43120           43120   43120   \n",
       "SpiceJet         9011    9011         9011            9011    9011   \n",
       "Vistara        127859  127859       127859          127859  127859   \n",
       "\n",
       "           arrival_time  destination_city   class  duration  days_left   price  \n",
       "airline                                                                         \n",
       "AirAsia           16098             16098   16098     16098      16098   16098  \n",
       "Air_India         80892             80892   80892     80892      80892   80892  \n",
       "GO_FIRST          23173             23173   23173     23173      23173   23173  \n",
       "Indigo            43120             43120   43120     43120      43120   43120  \n",
       "SpiceJet           9011              9011    9011      9011       9011    9011  \n",
       "Vistara          127859            127859  127859    127859     127859  127859  "
      ],
      "text/html": [
       "<div>\n",
       "<style scoped>\n",
       "    .dataframe tbody tr th:only-of-type {\n",
       "        vertical-align: middle;\n",
       "    }\n",
       "\n",
       "    .dataframe tbody tr th {\n",
       "        vertical-align: top;\n",
       "    }\n",
       "\n",
       "    .dataframe thead th {\n",
       "        text-align: right;\n",
       "    }\n",
       "</style>\n",
       "<table border=\"1\" class=\"dataframe\">\n",
       "  <thead>\n",
       "    <tr style=\"text-align: right;\">\n",
       "      <th></th>\n",
       "      <th>Unnamed: 0</th>\n",
       "      <th>flight</th>\n",
       "      <th>source_city</th>\n",
       "      <th>departure_time</th>\n",
       "      <th>stops</th>\n",
       "      <th>arrival_time</th>\n",
       "      <th>destination_city</th>\n",
       "      <th>class</th>\n",
       "      <th>duration</th>\n",
       "      <th>days_left</th>\n",
       "      <th>price</th>\n",
       "    </tr>\n",
       "    <tr>\n",
       "      <th>airline</th>\n",
       "      <th></th>\n",
       "      <th></th>\n",
       "      <th></th>\n",
       "      <th></th>\n",
       "      <th></th>\n",
       "      <th></th>\n",
       "      <th></th>\n",
       "      <th></th>\n",
       "      <th></th>\n",
       "      <th></th>\n",
       "      <th></th>\n",
       "    </tr>\n",
       "  </thead>\n",
       "  <tbody>\n",
       "    <tr>\n",
       "      <th>AirAsia</th>\n",
       "      <td>16098</td>\n",
       "      <td>16098</td>\n",
       "      <td>16098</td>\n",
       "      <td>16098</td>\n",
       "      <td>16098</td>\n",
       "      <td>16098</td>\n",
       "      <td>16098</td>\n",
       "      <td>16098</td>\n",
       "      <td>16098</td>\n",
       "      <td>16098</td>\n",
       "      <td>16098</td>\n",
       "    </tr>\n",
       "    <tr>\n",
       "      <th>Air_India</th>\n",
       "      <td>80892</td>\n",
       "      <td>80892</td>\n",
       "      <td>80892</td>\n",
       "      <td>80892</td>\n",
       "      <td>80892</td>\n",
       "      <td>80892</td>\n",
       "      <td>80892</td>\n",
       "      <td>80892</td>\n",
       "      <td>80892</td>\n",
       "      <td>80892</td>\n",
       "      <td>80892</td>\n",
       "    </tr>\n",
       "    <tr>\n",
       "      <th>GO_FIRST</th>\n",
       "      <td>23173</td>\n",
       "      <td>23173</td>\n",
       "      <td>23173</td>\n",
       "      <td>23173</td>\n",
       "      <td>23173</td>\n",
       "      <td>23173</td>\n",
       "      <td>23173</td>\n",
       "      <td>23173</td>\n",
       "      <td>23173</td>\n",
       "      <td>23173</td>\n",
       "      <td>23173</td>\n",
       "    </tr>\n",
       "    <tr>\n",
       "      <th>Indigo</th>\n",
       "      <td>43120</td>\n",
       "      <td>43120</td>\n",
       "      <td>43120</td>\n",
       "      <td>43120</td>\n",
       "      <td>43120</td>\n",
       "      <td>43120</td>\n",
       "      <td>43120</td>\n",
       "      <td>43120</td>\n",
       "      <td>43120</td>\n",
       "      <td>43120</td>\n",
       "      <td>43120</td>\n",
       "    </tr>\n",
       "    <tr>\n",
       "      <th>SpiceJet</th>\n",
       "      <td>9011</td>\n",
       "      <td>9011</td>\n",
       "      <td>9011</td>\n",
       "      <td>9011</td>\n",
       "      <td>9011</td>\n",
       "      <td>9011</td>\n",
       "      <td>9011</td>\n",
       "      <td>9011</td>\n",
       "      <td>9011</td>\n",
       "      <td>9011</td>\n",
       "      <td>9011</td>\n",
       "    </tr>\n",
       "    <tr>\n",
       "      <th>Vistara</th>\n",
       "      <td>127859</td>\n",
       "      <td>127859</td>\n",
       "      <td>127859</td>\n",
       "      <td>127859</td>\n",
       "      <td>127859</td>\n",
       "      <td>127859</td>\n",
       "      <td>127859</td>\n",
       "      <td>127859</td>\n",
       "      <td>127859</td>\n",
       "      <td>127859</td>\n",
       "      <td>127859</td>\n",
       "    </tr>\n",
       "  </tbody>\n",
       "</table>\n",
       "</div>"
      ]
     },
     "execution_count": 7,
     "metadata": {},
     "output_type": "execute_result"
    }
   ],
   "execution_count": 7
  },
  {
   "metadata": {
    "ExecuteTime": {
     "end_time": "2024-08-18T03:22:40.639892Z",
     "start_time": "2024-08-18T03:22:40.629017Z"
    }
   },
   "cell_type": "code",
   "source": "groups[['price', 'duration']].mean()",
   "id": "da72b18fa108934d",
   "outputs": [
    {
     "data": {
      "text/plain": [
       "                  price   duration\n",
       "airline                           \n",
       "AirAsia     4091.072742   8.941714\n",
       "Air_India  23507.019112  15.504235\n",
       "GO_FIRST    5652.007595   8.755380\n",
       "Indigo      5324.216303   5.795197\n",
       "SpiceJet    6179.278881  12.579767\n",
       "Vistara    30396.536302  13.326634"
      ],
      "text/html": [
       "<div>\n",
       "<style scoped>\n",
       "    .dataframe tbody tr th:only-of-type {\n",
       "        vertical-align: middle;\n",
       "    }\n",
       "\n",
       "    .dataframe tbody tr th {\n",
       "        vertical-align: top;\n",
       "    }\n",
       "\n",
       "    .dataframe thead th {\n",
       "        text-align: right;\n",
       "    }\n",
       "</style>\n",
       "<table border=\"1\" class=\"dataframe\">\n",
       "  <thead>\n",
       "    <tr style=\"text-align: right;\">\n",
       "      <th></th>\n",
       "      <th>price</th>\n",
       "      <th>duration</th>\n",
       "    </tr>\n",
       "    <tr>\n",
       "      <th>airline</th>\n",
       "      <th></th>\n",
       "      <th></th>\n",
       "    </tr>\n",
       "  </thead>\n",
       "  <tbody>\n",
       "    <tr>\n",
       "      <th>AirAsia</th>\n",
       "      <td>4091.072742</td>\n",
       "      <td>8.941714</td>\n",
       "    </tr>\n",
       "    <tr>\n",
       "      <th>Air_India</th>\n",
       "      <td>23507.019112</td>\n",
       "      <td>15.504235</td>\n",
       "    </tr>\n",
       "    <tr>\n",
       "      <th>GO_FIRST</th>\n",
       "      <td>5652.007595</td>\n",
       "      <td>8.755380</td>\n",
       "    </tr>\n",
       "    <tr>\n",
       "      <th>Indigo</th>\n",
       "      <td>5324.216303</td>\n",
       "      <td>5.795197</td>\n",
       "    </tr>\n",
       "    <tr>\n",
       "      <th>SpiceJet</th>\n",
       "      <td>6179.278881</td>\n",
       "      <td>12.579767</td>\n",
       "    </tr>\n",
       "    <tr>\n",
       "      <th>Vistara</th>\n",
       "      <td>30396.536302</td>\n",
       "      <td>13.326634</td>\n",
       "    </tr>\n",
       "  </tbody>\n",
       "</table>\n",
       "</div>"
      ]
     },
     "execution_count": 8,
     "metadata": {},
     "output_type": "execute_result"
    }
   ],
   "execution_count": 8
  },
  {
   "metadata": {
    "ExecuteTime": {
     "end_time": "2024-08-18T03:22:42.753372Z",
     "start_time": "2024-08-18T03:22:40.640748Z"
    }
   },
   "cell_type": "code",
   "source": [
    "# 책에 있는 코드 이지만 실제로 에러 발생함 \n",
    "flight.groupby(['airline','arrival_time']).mean()"
   ],
   "id": "2a8271a49cf5c357",
   "outputs": [
    {
     "ename": "TypeError",
     "evalue": "agg function failed [how->mean,dtype->object]",
     "output_type": "error",
     "traceback": [
      "\u001B[0;31m---------------------------------------------------------------------------\u001B[0m",
      "\u001B[0;31mTypeError\u001B[0m                                 Traceback (most recent call last)",
      "File \u001B[0;32m~/anaconda3/envs/pythonEdu/lib/python3.11/site-packages/pandas/core/groupby/groupby.py:1874\u001B[0m, in \u001B[0;36mGroupBy._agg_py_fallback\u001B[0;34m(self, how, values, ndim, alt)\u001B[0m\n\u001B[1;32m   1873\u001B[0m \u001B[38;5;28;01mtry\u001B[39;00m:\n\u001B[0;32m-> 1874\u001B[0m     res_values \u001B[38;5;241m=\u001B[39m \u001B[38;5;28mself\u001B[39m\u001B[38;5;241m.\u001B[39mgrouper\u001B[38;5;241m.\u001B[39magg_series(ser, alt, preserve_dtype\u001B[38;5;241m=\u001B[39m\u001B[38;5;28;01mTrue\u001B[39;00m)\n\u001B[1;32m   1875\u001B[0m \u001B[38;5;28;01mexcept\u001B[39;00m \u001B[38;5;167;01mException\u001B[39;00m \u001B[38;5;28;01mas\u001B[39;00m err:\n",
      "File \u001B[0;32m~/anaconda3/envs/pythonEdu/lib/python3.11/site-packages/pandas/core/groupby/ops.py:849\u001B[0m, in \u001B[0;36mBaseGrouper.agg_series\u001B[0;34m(self, obj, func, preserve_dtype)\u001B[0m\n\u001B[1;32m    847\u001B[0m     preserve_dtype \u001B[38;5;241m=\u001B[39m \u001B[38;5;28;01mTrue\u001B[39;00m\n\u001B[0;32m--> 849\u001B[0m result \u001B[38;5;241m=\u001B[39m \u001B[38;5;28mself\u001B[39m\u001B[38;5;241m.\u001B[39m_aggregate_series_pure_python(obj, func)\n\u001B[1;32m    851\u001B[0m \u001B[38;5;28;01mif\u001B[39;00m \u001B[38;5;28mlen\u001B[39m(obj) \u001B[38;5;241m==\u001B[39m \u001B[38;5;241m0\u001B[39m \u001B[38;5;129;01mand\u001B[39;00m \u001B[38;5;28mlen\u001B[39m(result) \u001B[38;5;241m==\u001B[39m \u001B[38;5;241m0\u001B[39m \u001B[38;5;129;01mand\u001B[39;00m \u001B[38;5;28misinstance\u001B[39m(obj\u001B[38;5;241m.\u001B[39mdtype, ExtensionDtype):\n",
      "File \u001B[0;32m~/anaconda3/envs/pythonEdu/lib/python3.11/site-packages/pandas/core/groupby/ops.py:877\u001B[0m, in \u001B[0;36mBaseGrouper._aggregate_series_pure_python\u001B[0;34m(self, obj, func)\u001B[0m\n\u001B[1;32m    876\u001B[0m \u001B[38;5;28;01mfor\u001B[39;00m i, group \u001B[38;5;129;01min\u001B[39;00m \u001B[38;5;28menumerate\u001B[39m(splitter):\n\u001B[0;32m--> 877\u001B[0m     res \u001B[38;5;241m=\u001B[39m func(group)\n\u001B[1;32m    878\u001B[0m     res \u001B[38;5;241m=\u001B[39m extract_result(res)\n",
      "File \u001B[0;32m~/anaconda3/envs/pythonEdu/lib/python3.11/site-packages/pandas/core/groupby/groupby.py:2380\u001B[0m, in \u001B[0;36mGroupBy.mean.<locals>.<lambda>\u001B[0;34m(x)\u001B[0m\n\u001B[1;32m   2377\u001B[0m \u001B[38;5;28;01melse\u001B[39;00m:\n\u001B[1;32m   2378\u001B[0m     result \u001B[38;5;241m=\u001B[39m \u001B[38;5;28mself\u001B[39m\u001B[38;5;241m.\u001B[39m_cython_agg_general(\n\u001B[1;32m   2379\u001B[0m         \u001B[38;5;124m\"\u001B[39m\u001B[38;5;124mmean\u001B[39m\u001B[38;5;124m\"\u001B[39m,\n\u001B[0;32m-> 2380\u001B[0m         alt\u001B[38;5;241m=\u001B[39m\u001B[38;5;28;01mlambda\u001B[39;00m x: Series(x)\u001B[38;5;241m.\u001B[39mmean(numeric_only\u001B[38;5;241m=\u001B[39mnumeric_only),\n\u001B[1;32m   2381\u001B[0m         numeric_only\u001B[38;5;241m=\u001B[39mnumeric_only,\n\u001B[1;32m   2382\u001B[0m     )\n\u001B[1;32m   2383\u001B[0m     \u001B[38;5;28;01mreturn\u001B[39;00m result\u001B[38;5;241m.\u001B[39m__finalize__(\u001B[38;5;28mself\u001B[39m\u001B[38;5;241m.\u001B[39mobj, method\u001B[38;5;241m=\u001B[39m\u001B[38;5;124m\"\u001B[39m\u001B[38;5;124mgroupby\u001B[39m\u001B[38;5;124m\"\u001B[39m)\n",
      "File \u001B[0;32m~/anaconda3/envs/pythonEdu/lib/python3.11/site-packages/pandas/core/series.py:6225\u001B[0m, in \u001B[0;36mSeries.mean\u001B[0;34m(self, axis, skipna, numeric_only, **kwargs)\u001B[0m\n\u001B[1;32m   6217\u001B[0m \u001B[38;5;129m@doc\u001B[39m(make_doc(\u001B[38;5;124m\"\u001B[39m\u001B[38;5;124mmean\u001B[39m\u001B[38;5;124m\"\u001B[39m, ndim\u001B[38;5;241m=\u001B[39m\u001B[38;5;241m1\u001B[39m))\n\u001B[1;32m   6218\u001B[0m \u001B[38;5;28;01mdef\u001B[39;00m \u001B[38;5;21mmean\u001B[39m(\n\u001B[1;32m   6219\u001B[0m     \u001B[38;5;28mself\u001B[39m,\n\u001B[0;32m   (...)\u001B[0m\n\u001B[1;32m   6223\u001B[0m     \u001B[38;5;241m*\u001B[39m\u001B[38;5;241m*\u001B[39mkwargs,\n\u001B[1;32m   6224\u001B[0m ):\n\u001B[0;32m-> 6225\u001B[0m     \u001B[38;5;28;01mreturn\u001B[39;00m NDFrame\u001B[38;5;241m.\u001B[39mmean(\u001B[38;5;28mself\u001B[39m, axis, skipna, numeric_only, \u001B[38;5;241m*\u001B[39m\u001B[38;5;241m*\u001B[39mkwargs)\n",
      "File \u001B[0;32m~/anaconda3/envs/pythonEdu/lib/python3.11/site-packages/pandas/core/generic.py:11992\u001B[0m, in \u001B[0;36mNDFrame.mean\u001B[0;34m(self, axis, skipna, numeric_only, **kwargs)\u001B[0m\n\u001B[1;32m  11985\u001B[0m \u001B[38;5;28;01mdef\u001B[39;00m \u001B[38;5;21mmean\u001B[39m(\n\u001B[1;32m  11986\u001B[0m     \u001B[38;5;28mself\u001B[39m,\n\u001B[1;32m  11987\u001B[0m     axis: Axis \u001B[38;5;241m|\u001B[39m \u001B[38;5;28;01mNone\u001B[39;00m \u001B[38;5;241m=\u001B[39m \u001B[38;5;241m0\u001B[39m,\n\u001B[0;32m   (...)\u001B[0m\n\u001B[1;32m  11990\u001B[0m     \u001B[38;5;241m*\u001B[39m\u001B[38;5;241m*\u001B[39mkwargs,\n\u001B[1;32m  11991\u001B[0m ) \u001B[38;5;241m-\u001B[39m\u001B[38;5;241m>\u001B[39m Series \u001B[38;5;241m|\u001B[39m \u001B[38;5;28mfloat\u001B[39m:\n\u001B[0;32m> 11992\u001B[0m     \u001B[38;5;28;01mreturn\u001B[39;00m \u001B[38;5;28mself\u001B[39m\u001B[38;5;241m.\u001B[39m_stat_function(\n\u001B[1;32m  11993\u001B[0m         \u001B[38;5;124m\"\u001B[39m\u001B[38;5;124mmean\u001B[39m\u001B[38;5;124m\"\u001B[39m, nanops\u001B[38;5;241m.\u001B[39mnanmean, axis, skipna, numeric_only, \u001B[38;5;241m*\u001B[39m\u001B[38;5;241m*\u001B[39mkwargs\n\u001B[1;32m  11994\u001B[0m     )\n",
      "File \u001B[0;32m~/anaconda3/envs/pythonEdu/lib/python3.11/site-packages/pandas/core/generic.py:11949\u001B[0m, in \u001B[0;36mNDFrame._stat_function\u001B[0;34m(self, name, func, axis, skipna, numeric_only, **kwargs)\u001B[0m\n\u001B[1;32m  11947\u001B[0m validate_bool_kwarg(skipna, \u001B[38;5;124m\"\u001B[39m\u001B[38;5;124mskipna\u001B[39m\u001B[38;5;124m\"\u001B[39m, none_allowed\u001B[38;5;241m=\u001B[39m\u001B[38;5;28;01mFalse\u001B[39;00m)\n\u001B[0;32m> 11949\u001B[0m \u001B[38;5;28;01mreturn\u001B[39;00m \u001B[38;5;28mself\u001B[39m\u001B[38;5;241m.\u001B[39m_reduce(\n\u001B[1;32m  11950\u001B[0m     func, name\u001B[38;5;241m=\u001B[39mname, axis\u001B[38;5;241m=\u001B[39maxis, skipna\u001B[38;5;241m=\u001B[39mskipna, numeric_only\u001B[38;5;241m=\u001B[39mnumeric_only\n\u001B[1;32m  11951\u001B[0m )\n",
      "File \u001B[0;32m~/anaconda3/envs/pythonEdu/lib/python3.11/site-packages/pandas/core/series.py:6133\u001B[0m, in \u001B[0;36mSeries._reduce\u001B[0;34m(self, op, name, axis, skipna, numeric_only, filter_type, **kwds)\u001B[0m\n\u001B[1;32m   6129\u001B[0m     \u001B[38;5;28;01mraise\u001B[39;00m \u001B[38;5;167;01mTypeError\u001B[39;00m(\n\u001B[1;32m   6130\u001B[0m         \u001B[38;5;124mf\u001B[39m\u001B[38;5;124m\"\u001B[39m\u001B[38;5;124mSeries.\u001B[39m\u001B[38;5;132;01m{\u001B[39;00mname\u001B[38;5;132;01m}\u001B[39;00m\u001B[38;5;124m does not allow \u001B[39m\u001B[38;5;132;01m{\u001B[39;00mkwd_name\u001B[38;5;132;01m}\u001B[39;00m\u001B[38;5;124m=\u001B[39m\u001B[38;5;132;01m{\u001B[39;00mnumeric_only\u001B[38;5;132;01m}\u001B[39;00m\u001B[38;5;124m \u001B[39m\u001B[38;5;124m\"\u001B[39m\n\u001B[1;32m   6131\u001B[0m         \u001B[38;5;124m\"\u001B[39m\u001B[38;5;124mwith non-numeric dtypes.\u001B[39m\u001B[38;5;124m\"\u001B[39m\n\u001B[1;32m   6132\u001B[0m     )\n\u001B[0;32m-> 6133\u001B[0m \u001B[38;5;28;01mreturn\u001B[39;00m op(delegate, skipna\u001B[38;5;241m=\u001B[39mskipna, \u001B[38;5;241m*\u001B[39m\u001B[38;5;241m*\u001B[39mkwds)\n",
      "File \u001B[0;32m~/anaconda3/envs/pythonEdu/lib/python3.11/site-packages/pandas/core/nanops.py:147\u001B[0m, in \u001B[0;36mbottleneck_switch.__call__.<locals>.f\u001B[0;34m(values, axis, skipna, **kwds)\u001B[0m\n\u001B[1;32m    146\u001B[0m \u001B[38;5;28;01melse\u001B[39;00m:\n\u001B[0;32m--> 147\u001B[0m     result \u001B[38;5;241m=\u001B[39m alt(values, axis\u001B[38;5;241m=\u001B[39maxis, skipna\u001B[38;5;241m=\u001B[39mskipna, \u001B[38;5;241m*\u001B[39m\u001B[38;5;241m*\u001B[39mkwds)\n\u001B[1;32m    149\u001B[0m \u001B[38;5;28;01mreturn\u001B[39;00m result\n",
      "File \u001B[0;32m~/anaconda3/envs/pythonEdu/lib/python3.11/site-packages/pandas/core/nanops.py:404\u001B[0m, in \u001B[0;36m_datetimelike_compat.<locals>.new_func\u001B[0;34m(values, axis, skipna, mask, **kwargs)\u001B[0m\n\u001B[1;32m    402\u001B[0m     mask \u001B[38;5;241m=\u001B[39m isna(values)\n\u001B[0;32m--> 404\u001B[0m result \u001B[38;5;241m=\u001B[39m func(values, axis\u001B[38;5;241m=\u001B[39maxis, skipna\u001B[38;5;241m=\u001B[39mskipna, mask\u001B[38;5;241m=\u001B[39mmask, \u001B[38;5;241m*\u001B[39m\u001B[38;5;241m*\u001B[39mkwargs)\n\u001B[1;32m    406\u001B[0m \u001B[38;5;28;01mif\u001B[39;00m datetimelike:\n",
      "File \u001B[0;32m~/anaconda3/envs/pythonEdu/lib/python3.11/site-packages/pandas/core/nanops.py:720\u001B[0m, in \u001B[0;36mnanmean\u001B[0;34m(values, axis, skipna, mask)\u001B[0m\n\u001B[1;32m    719\u001B[0m the_sum \u001B[38;5;241m=\u001B[39m values\u001B[38;5;241m.\u001B[39msum(axis, dtype\u001B[38;5;241m=\u001B[39mdtype_sum)\n\u001B[0;32m--> 720\u001B[0m the_sum \u001B[38;5;241m=\u001B[39m _ensure_numeric(the_sum)\n\u001B[1;32m    722\u001B[0m \u001B[38;5;28;01mif\u001B[39;00m axis \u001B[38;5;129;01mis\u001B[39;00m \u001B[38;5;129;01mnot\u001B[39;00m \u001B[38;5;28;01mNone\u001B[39;00m \u001B[38;5;129;01mand\u001B[39;00m \u001B[38;5;28mgetattr\u001B[39m(the_sum, \u001B[38;5;124m\"\u001B[39m\u001B[38;5;124mndim\u001B[39m\u001B[38;5;124m\"\u001B[39m, \u001B[38;5;28;01mFalse\u001B[39;00m):\n",
      "File \u001B[0;32m~/anaconda3/envs/pythonEdu/lib/python3.11/site-packages/pandas/core/nanops.py:1693\u001B[0m, in \u001B[0;36m_ensure_numeric\u001B[0;34m(x)\u001B[0m\n\u001B[1;32m   1691\u001B[0m \u001B[38;5;28;01mif\u001B[39;00m \u001B[38;5;28misinstance\u001B[39m(x, \u001B[38;5;28mstr\u001B[39m):\n\u001B[1;32m   1692\u001B[0m     \u001B[38;5;66;03m# GH#44008, GH#36703 avoid casting e.g. strings to numeric\u001B[39;00m\n\u001B[0;32m-> 1693\u001B[0m     \u001B[38;5;28;01mraise\u001B[39;00m \u001B[38;5;167;01mTypeError\u001B[39;00m(\u001B[38;5;124mf\u001B[39m\u001B[38;5;124m\"\u001B[39m\u001B[38;5;124mCould not convert string \u001B[39m\u001B[38;5;124m'\u001B[39m\u001B[38;5;132;01m{\u001B[39;00mx\u001B[38;5;132;01m}\u001B[39;00m\u001B[38;5;124m'\u001B[39m\u001B[38;5;124m to numeric\u001B[39m\u001B[38;5;124m\"\u001B[39m)\n\u001B[1;32m   1694\u001B[0m \u001B[38;5;28;01mtry\u001B[39;00m:\n",
      "\u001B[0;31mTypeError\u001B[0m: Could not convert string 'I5-744I5-788I5-788I5-788I5-788I5-788I5-881I5-788I5-788I5-788I5-788I5-788I5-788I5-788I5-881I5-788I5-788I5-788I5-788I5-788I5-788I5-788I5-881I5-788I5-788I5-788I5-788I5-788I5-788I5-788I5-881I5-788I5-788I5-788I5-788I5-788I5-788I5-788I5-881I5-788I5-788I5-788I5-788I5-788I5-788I5-1529I5-548I5-764I5-1529I5-744I5-764I5-1529I5-764I5-744I5-787I5-783I5-1529I5-744I5-711I5-764I5-787I5-783I5-1529I5-744I5-764I5-787I5-783I5-1529I5-744I5-711I5-764I5-787I5-783I5-1529I5-744I5-783I5-764I5-787I5-1529I5-744I5-711I5-548I5-787I5-764I5-783I5-548I5-764I5-791I5-787I5-783I5-764I5-1529I5-787I5-744I5-783I5-1529I5-744I5-711I5-548I5-764I5-791I5-783I5-787I5-1529I5-744I5-711I5-548I5-764I5-787I5-783I5-1529I5-744I5-711I5-548I5-764I5-791I5-783I5-787I5-1529I5-744I5-711I5-548I5-764I5-791I5-783I5-787I5-744I5-711I5-548I5-764I5-791I5-1529I5-787I5-783I5-711I5-764I5-791I5-1529I5-548I5-744I5-881I5-881I5-787I5-783I5-764I5-791I5-1529I5-711I5-548I5-744I5-787I5-783I5-744I5-711I5-548I5-764I5-791I5-1529I5-787I5-783I5-744I5-783I5-711I5-548I5-787I5-764I5-1529I5-744I5-783I5-711I5-548I5-787I5-764I5-791I5-1529I5-744I5-783I5-711I5-548I5-787I5-764I5-1529I5-791I5-744I5-783I5-711I5-548I5-787I5-764I5-791I5-1529I5-783I5-881I5-711I5-548I5-787I5-764I5-791I5-744I5-881I5-1529I5-744I5-548I5-764I5-791I5-1529I5-711I5-787I5-783I5-744I5-711I5-548I5-787I5-764I5-791I5-783I5-1529I5-744I5-783I5-711I5-548I5-787I5-764I5-1529I5-744I5-711I5-548I5-787I5-764I5-791I5-783I5-1529I5-744I5-711I5-548I5-787I5-764I5-791I5-1529I5-783I5-744I5-783I5-711I5-548I5-787I5-764I5-791I5-1529I5-744I5-881I5-711I5-548I5-881I5-764I5-791I5-787I5-1529I5-783I5-744I5-711I5-548I5-787I5-764I5-791I5-1529I5-783I5-744I5-711I5-548I5-787I5-764I5-791I5-783I5-1529I5-744I5-711I5-548I5-764I5-787I5-1529I5-783I5-744I5-711I5-548I5-787I5-764I5-791I5-783I5-1529I5-744I5-711I5-548I5-787I5-764I5-791I5-783I5-1529I5-744I5-783I5-711I5-548I5-787I5-764I5-791I5-1529I5-744I5-783I5-881I5-711I5-548I5-787I5-881I5-764I5-791I5-1529I5-711I5-548I5-764I5-791I5-744I5-787I5-1529I5-783I5-744I5-711I5-548I5-787I5-764I5-791I5-1529I5-783I5-744I5-711I5-548I5-764I5-787I5-1529I5-783I5-744I5-711I5-548I5-787I5-764I5-791I5-783I5-1529I5-744I5-711I5-548I5-787I5-764I5-791I5-1529I5-783I5-744I5-711I5-548I5-787I5-764I5-791I5-1529I5-783I5-881I5-711I5-548I5-787I5-764I5-791I5-744I5-881I5-1529I5-783I5-744I5-548I5-711I5-764I5-791I5-787I5-1529I5-783I5-744I5-548I5-711I5-764I5-791I5-787I5-1529I5-783I5-744I5-548I5-711I5-764I5-787I5-1529I5-783I5-744I5-548I5-711I5-764I5-791I5-787I5-1529I5-783I5-744I5-548I5-711I5-764I5-791I5-787I5-1529I5-783I5-783I5-783I5-783I5-783I5-783I5-783I5-783I5-783I5-783I5-783I5-783I5-783I5-783I5-783I5-783I5-783I5-783I5-783I5-783I5-783I5-783I5-783I5-783I5-783I5-783I5-783I5-783I5-783I5-783I5-783I5-783I5-783I5-783I5-783I5-783I5-737I5-783I5-783I5-783I5-783I5-783I5-783I5-1529I5-740I5-1529I5-740I5-1529I5-740I5-1529I5-740I5-783I5-787I5-1529I5-740I5-783I5-787I5-1529I5-740I5-783I5-787I5-1529I5-740I5-783I5-787I5-1529I5-740I5-783I5-787I5-740I5-740I5-783I5-787I5-783I5-787I5-1529I5-1529I5-740I5-783I5-787I5-1529I5-740I5-783I5-787I5-1529I5-740I5-783I5-787I5-1529I5-740I5-783I5-787I5-1529I5-740I5-787I5-783I5-740I5-740I5-787I5-1529I5-783I5-740I5-787I5-1529I5-783I5-1529I5-740I5-783I5-787I5-1529I5-740I5-783I5-787I5-1529I5-740I5-783I5-787I5-1529I5-740I5-787I5-783I5-1529I5-740I5-787I5-783I5-740I5-1529I5-740I5-787I5-783I5-1529I5-740I5-783I5-787I5-1529I5-740I5-787I5-783I5-1529I5-740I5-787I5-783I5-1529I5-740I5-787I5-783I5-1529I5-740I5-787I5-783I5-1529I5-740I5-787I5-783I5-740I5-1529I5-740I5-787I5-783I5-1529I5-740I5-783I5-787I5-1529I5-740I5-787I5-783I5-1529I5-740I5-787I5-783I5-1529I5-740I5-783I5-787I5-1529I5-740I5-787I5-783I5-1529I5-740I5-787I5-783I5-740I5-740I5-787I5-1529I5-783I5-740I5-783I5-787I5-1529I5-1529I5-740I5-783I5-787I5-1529I5-740I5-787I5-783I5-1529I5-740I5-783I5-787I5-1529I5-740I5-787I5-783I5-1529I5-740I5-787I5-783I5-740I5-740I5-787I5-1529I5-783I5-740I5-1529I5-783I5-787I5-1529I5-740I5-787I5-783I5-1529I5-740I5-787I5-783I5-1529I5-740I5-783I5-787I5-1529I5-740I5-783I5-787I5-1529I5-740I5-1529I5-740I5-740I5-1529I5-740I5-1529I5-740I5-1529I5-740I5-740I5-1529I5-740I5-1529I5-1529I5-740I5-1529I5-740I5-740I5-1529I5-740I5-1529I5-740I5-1529I5-740I5-740I5-1529I5-1529I5-740I5-1529I5-740I5-1529I5-740I5-740I5-1529I5-740I5-1529I5-740I5-1529I5-740I5-1529I5-740I5-1529I5-740I5-1529I5-740I5-1529I5-740I5-740I5-1529I5-740I5-740I5-1529I5-1529I5-740I5-740I5-1529I5-740I5-1529I5-1529I5-740I5-1529I5-740I5-740I5-1529I5-740I5-1529I5-740I5-1529I5-740I5-740I5-1529I5-744I5-744I5-744I5-740I5-744I5-744I5-631I5-631I5-631I5-631I5-631I5-631I5-631I5-631I5-631I5-631I5-631I5-631I5-631I5-631I5-631I5-631I5-631I5-631I5-631I5-631I5-631I5-631I5-631I5-631I5-631I5-631I5-631I5-631I5-631I5-631I5-631I5-631I5-631I5-631I5-631I5-631I5-631I5-631I5-631I5-631I5-631I5-631I5-631I5-942I5-942I5-942I5-942I5-942I5-942I5-942I5-942I5-942I5-330I5-330I5-942I5-942I5-330I5-942I5-330I5-942I5-330I5-942I5-330I5-942I5-330I5-942I5-330I5-330I5-942I5-330I5-942I5-330I5-942I5-330I5-942I5-330I5-942I5-330I5-942I5-330I5-942I5-330I5-942I5-330I5-942I5-330I5-942I5-330I5-942I5-330I5-942I5-330I5-942I5-330I5-942I5-330I5-942I5-330I5-942I5-330I5-942I5-330I5-942I5-330I5-942I5-330I5-942I5-942I5-330I5-330I5-942I5-330I5-942I5-330I5-942I5-330I5-942I5-330I5-942I5-942I5-330I5-330I5-942I5-330I5-942I5-330I5-942I5-330I5-942I5-330I5-942I5-330I5-942I5-941I5-941I5-941I5-941I5-941I5-941I5-941I5-941I5-941I5-941I5-941I5-941I5-941I5-941I5-941I5-941I5-941I5-941I5-941I5-941I5-941I5-941I5-941I5-941I5-941I5-941I5-941I5-941I5-941I5-941I5-941I5-941I5-941I5-941I5-941I5-941I5-941I5-941I5-941I5-941I5-941I5-631I5-631I5-631I5-631I5-631I5-1982I5-741I5-1982I5-1621I5-741I5-741I5-1621I5-410I5-1780I5-1621I5-741I5-1621I5-410I5-1780I5-1982I5-741I5-1621I5-741I5-1982I5-1621I5-410I5-1780I5-1982I5-741I5-741I5-1982I5-1621I5-741I5-1982I5-741I5-1621I5-410I5-1780I5-1982I5-741I5-1621I5-410I5-1780I5-1982I5-741I5-1621I5-410I5-1780I5-1982I5-741I5-1621I5-410I5-1780I5-1982I5-741I5-1621I5-410I5-1982I5-1780I5-1621I5-1780I5-741I5-410I5-1982I5-1621I5-410I5-1780I5-741I5-1982I5-1621I5-410I5-1780I5-741I5-1982I5-1621I5-410I5-1780I5-741I5-1982I5-1621I5-410I5-1780I5-741I5-1982I5-1621I5-410I5-1780I5-741I5-1982I5-1621I5-410I5-1780I5-741I5-1982I5-1621I5-410I5-1780I5-741I5-1982I5-1621I5-410I5-1780I5-741I5-1982I5-1621I5-410I5-1780I5-741I5-1982I5-1621I5-410I5-1780I5-741I5-1982I5-1621I5-410I5-1780I5-741I5-1982I5-1621I5-410I5-1780I5-741I5-1982I5-1621I5-410I5-1780I5-741I5-1982I5-1621I5-1780I5-741I5-410I5-1982I5-1621I5-741I5-410I5-1780I5-1982I5-1621I5-410I5-1780I5-1982I5-741I5-1621I5-410I5-1780I5-741I5-1982I5-1621I5-410I5-1780I5-741I5-1982I5-1621I5-410I5-1780I5-1982I5-741I5-1621I5-410I5-1780I5-1982I5-741I5-1621I5-410I5-1982I5-1780I5-741I5-1621I5-410I5-1780I5-741I5-1982I5-1621I5-410I5-1780I5-741I5-1982I5-1621I5-410I5-1780I5-741I5-1982I5-1621I5-410I5-1780I5-741I5-1982I5-1621I5-410I5-1780I5-741I5-1982I5-1780I5-1621I5-410I5-1982I5-741I5-1621I5-1780I5-741I5-410I5-1982I5-1621I5-741I5-410I5-1982I5-1780I5-1621I5-410I5-1780I5-1982I5-741I5-1621I5-410I5-1780I5-741I5-1982I5-1621I5-410I5-1780I5-741I5-1982I5-1621I5-410I5-1780I5-741I5-1982I5-1576I5-1228I5-1576I5-1228I5-5204I5-5204I5-1576I5-1228I5-1576I5-1228I5-1576I5-1576I5-1228I5-1228I5-5204I5-1576I5-5204I5-1576I5-1228I5-1576I5-1228I5-1576I5-1228I5-1576I5-1228I5-1576I5-1228I5-1228I5-1576I5-1228I5-5204I5-1576I5-5204I5-1576I5-1228I5-1576I5-1228I5-1576I5-1228I5-1576I5-1228I5-1576I5-1228I5-1576I5-1228I5-1576I5-1228I5-1576I5-1228I5-1576I5-1228I5-1576I5-1228I5-1576I5-1228I5-1576I5-1228I5-1576I5-1228I5-1576I5-1228I5-5204I5-5204I5-1576I5-1228I5-1576I5-1228I5-1576I5-1228I5-1576I5-1228I5-1576I5-1228I5-1576I5-1228I5-1576I5-1228I5-5204I5-5204I5-1576I5-1228I5-1576I5-1228I5-1576I5-1228I5-1576I5-1228I5-1576I5-1228I5-1576I5-1228I5-1576I5-1530I5-1564I5-1576I5-1530I5-1564I5-1576I5-1530I5-1564I5-1576I5-1530I5-1564I5-1576I5-1530I5-1564I5-1983I5-1983I5-1426I5-1983I5-1983I5-1983I5-1983I5-1983I5-1983I5-1983I5-1426I5-1983I5-1983I5-1983I5-1983I5-1983I5-1983I5-1983I5-1426I5-1983I5-1983I5-1983I5-1983I5-1983I5-1983I5-1983I5-1426I5-1983I5-1983I5-1983I5-1983I5-1983I5-1983I5-1983I5-1426I5-1983I5-1983I5-1983I5-1983I5-1983I5-1983I5-1983I5-1426I5-1983I5-1983I5-1983I5-1983I5-1983I5-1983I5-1983I5-1426I5-1983I5-1983I5-1983I5-1983I5-1983I5-1530I5-1622I5-1530I5-1530I5-1530I5-1530I5-1530I5-1530I5-1530I5-1530I5-1622I5-1530I5-1530I5-1530I5-1530I5-1530I5-1530I5-1622I5-1530I5-1530I5-1530I5-1530I5-1530I5-1530I5-1530I5-1622I5-1530I5-1530I5-1530I5-1530I5-1530I5-1530I5-1530I5-1622I5-1530I5-1530I5-1530I5-1530I5-1530I5-1622I5-1563I5-582I5-1563I5-582I5-582I5-2991I5-582I5-2991I5-582I5-582I5-1563I5-582I5-2991I5-1563I5-582I5-1563I5-582I5-582I5-2991I5-1563I5-582I5-2991I5-1563I5-582I5-2991I5-1563I5-582I5-2991I5-1563I5-582I5-2991I5-1563I5-582I5-2991I5-1563I5-582I5-2991I5-1563I5-582I5-2991I5-1563I5-582I5-2991I5-1563I5-582I5-2991I5-1563I5-582I5-2991I5-1563I5-582I5-2991I5-1563I5-2991I5-1563I5-582I5-582I5-2991I5-1563I5-582I5-2991I5-1563I5-582I5-2991I5-1563I5-582I5-2991I5-1563I5-582I5-2991I5-1563I5-582I5-2991I5-1563I5-2991I5-1563I5-582I5-2991I5-1563I5-582I5-582I5-2991I5-1563I5-582I5-2991I5-1563I5-2991I5-1563I5-582I5-2991I5-1563I5-582I5-2991I5-1563I5-582I5-1563I5-582I5-2991I5-582I5-2991I5-1563I5-582I5-1563I5-2991I5-582I5-1563I5-2991I5-582I5-2991I5-1563I5-582I5-2991I5-1563I5-582I5-1563I5-2991I5-1563I5-582I5-2991I5-1563I5-582I5-2991I5-582I5-1563I5-2991I5-2991I5-1563I5-582I5-1563I5-582I5-2991I5-582I5-1563I5-2991I5-2473I5-510I5-547I5-510I5-547I5-547I5-2473I5-510I5-510I5-547I5-547I5-2473I5-510I5-547I5-510I5-2473I5-510I5-2473I5-547I5-510I5-547I5-510I5-830I5-547I5-2473I5-510I5-371I5-510I5-830I5-547I5-2473I5-510I5-830I5-547I5-2473I5-830I5-547I5-510I5-2473I5-510I5-830I5-547I5-2473I5-510I5-2473I5-830I5-547I5-510I5-830I5-547I5-2473I5-2473I5-510I5-830I5-547I5-2473I5-371I5-510I5-830I5-547I5-510I5-2473I5-510I5-830I5-547I5-2473I5-510I5-830I5-547I5-2473I5-510I5-830I5-547I5-2473I5-510I5-830I5-547I5-2473I5-510I5-830I5-547I5-2473I5-510I5-830I5-547I5-2473I5-371I5-510I5-830I5-547I5-510I5-2473I5-510I5-830I5-547I5-2473I5-510I5-830I5-547I5-2473I5-510I5-830I5-547I5-2473I5-510I5-830I5-547I5-2473I5-510I5-830I5-547I5-2473I5-510I5-830I5-547I5-2473I5-510I5-371I5-510I5-830I5-547I5-2473I5-510I5-830I5-547I5-2473I5-510I5-830I5-547I5-2473I5-510I5-830I5-547I5-2473I5-510I5-830I5-547I5-2473I5-510I5-830I5-547I5-510I5-2473I5-830I5-547I5-2473I5-510I5-371I5-510I5-830I5-547I5-2473I5-510I5-830I5-547I5-2473I5-510I5-830I5-547I5-2473I5-510I5-830I5-547I5-2473I5-510I5-830I5-547I5-2473I5-510I5-830I5-547I5-510I5-2473I5-830I5-547I5-2473I5-510I5-360I5-510I5-830I5-547I5-2473I5-510I5-830I5-547I5-2473I5-510I5-830I5-547I5-2473I5-2473I5-2473I5-5406I5-5406I5-2473I5-2473I5-2473I5-2473I5-2473I5-2473I5-2473I5-2473I5-2473I5-2473I5-2473I5-2473I5-2473I5-2473I5-2473I5-2473I5-2473I5-2473I5-2473I5-2473I5-2473I5-2473I5-2473I5-2473I5-2473I5-2473I5-2473I5-2473I5-2473I5-2473I5-2473I5-2473I5-2473I5-2473I5-2473I5-2473I5-2473I5-2473I5-2473I5-2473I5-2473I5-2473I5-2473I5-2473I5-2473I5-2473I5-2473I5-2473I5-2473I5-2473I5-2473I5-2473I5-2473I5-2473I5-2473I5-2473I5-2473I5-2473I5-2473I5-2473I5-2473I5-2473I5-2473I5-2473I5-2473I5-2473I5-2473I5-2473I5-2473I5-2473I5-2473I5-2473I5-2473I5-2473I5-1543I5-1543I5-1543I5-1543I5-1543I5-1543I5-1543I5-1543I5-1543I5-1543I5-1543I5-510I5-1543I5-1543I5-1543I5-1543I5-1543I5-1543I5-1543I5-1543I5-510I5-1543I5-1543I5-1543I5-1543I5-1543I5-1543I5-1543I5-510I5-1543I5-1543I5-1543I5-1543I5-1543I5-1543I5-1543I5-510I5-1543I5-1543I5-1543I5-1543I5-1543I5-1543I5-1543I5-510I5-1543I5-1543I5-1543I5-1543I5-1543I5-1543I5-1543I5-510I5-1543I5-1543I5-510I5-517I5-510I5-517I5-510I5-517I5-510I5-517I5-510I5-510I5-517I5-510I5-517I5-517I5-510I5-517I5-510I5-517I5-510I5-517I5-510I5-510I5-517I5-510I5-517I5-510I5-517I5-510I5-517I5-517I5-510I5-510I5-517I5-510I5-517I5-510I5-517I5-510I5-517I5-510I5-517I5-510I5-517I5-510I5-517I5-510I5-517I5-510I5-517I5-517I5-510I5-517I5-510I5-510I5-517I5-517I5-510I5-510I5-517I5-510I5-517I5-510I5-517I5-510I5-517I5-517I5-510I5-510I5-517I5-510I5-517I5-510I5-517I5-510I5-517I5-510I5-517I5-510I5-517I5-517I5-510I5-510I5-517I5-510I5-517I5-510I5-517I5-510I5-517I5-510I5-517I5-821I5-821I5-821I5-1531I5-821I5-1531I5-821I5-1531I5-821I5-1531I5-821I5-1531I5-821I5-1531I5-821I5-1531I5-821I5-1531I5-821I5-1531I5-821I5-1531I5-821I5-1531I5-821I5-1531I5-821I5-1531I5-821I5-1531I5-821I5-1531I5-821I5-1531I5-821I5-1531I5-821I5-1531I5-821I5-1531I5-821I5-1531I5-821I5-1531I5-821I5-1531I5-821I5-1531I5-821I5-1531I5-821I5-1531I5-821I5-1531I5-821I5-1531I5-821I5-1531I5-821I5-1531I5-821I5-1531I5-821I5-1531I5-821I5-1531I5-821I5-1531I5-821I5-1531I5-1229I5-2462I5-1229I5-2462I5-1229I5-2462I5-1229I5-2462I5-1229I5-2462I5-1727I5-1727I5-1727I5-1727I5-1727I5-1727I5-319I5-517I5-319I5-517I5-319I5-517I5-319I5-517I5-319I5-319I5-517I5-319I5-517I5-319I5-517I5-319I5-517I5-319I5-517I5-319I5-517I5-319I5-517I5-319I5-517I5-517I5-319I5-517I5-319I5-517I5-319I5-517I5-319I5-319I5-517I5-319I5-517I5-319I5-517I5-517I5-319I5-319I5-517I5-319I5-517I5-319I5-517I5-517I5-319I5-517I5-319I5-319I5-517I5-319I5-517I5-319I5-517I5-319I5-517I5-319I5-517I5-319I5-517I5-319I5-517I5-319I5-517I5-319I5-517I5-319I5-517I5-319I5-517I5-319I5-517I5-319I5-517I5-361I5-517I5-361I5-517I5-361I5-517I5-361I5-517I5-361I5-517' to numeric",
      "\nThe above exception was the direct cause of the following exception:\n",
      "\u001B[0;31mTypeError\u001B[0m                                 Traceback (most recent call last)",
      "Cell \u001B[0;32mIn[9], line 2\u001B[0m\n\u001B[1;32m      1\u001B[0m \u001B[38;5;66;03m# 책에 있는 코드 이지만 실제로 에러 발생함 \u001B[39;00m\n\u001B[0;32m----> 2\u001B[0m flight\u001B[38;5;241m.\u001B[39mgroupby([\u001B[38;5;124m'\u001B[39m\u001B[38;5;124mairline\u001B[39m\u001B[38;5;124m'\u001B[39m,\u001B[38;5;124m'\u001B[39m\u001B[38;5;124marrival_time\u001B[39m\u001B[38;5;124m'\u001B[39m])\u001B[38;5;241m.\u001B[39mmean()\n",
      "File \u001B[0;32m~/anaconda3/envs/pythonEdu/lib/python3.11/site-packages/pandas/core/groupby/groupby.py:2378\u001B[0m, in \u001B[0;36mGroupBy.mean\u001B[0;34m(self, numeric_only, engine, engine_kwargs)\u001B[0m\n\u001B[1;32m   2371\u001B[0m     \u001B[38;5;28;01mreturn\u001B[39;00m \u001B[38;5;28mself\u001B[39m\u001B[38;5;241m.\u001B[39m_numba_agg_general(\n\u001B[1;32m   2372\u001B[0m         grouped_mean,\n\u001B[1;32m   2373\u001B[0m         executor\u001B[38;5;241m.\u001B[39mfloat_dtype_mapping,\n\u001B[1;32m   2374\u001B[0m         engine_kwargs,\n\u001B[1;32m   2375\u001B[0m         min_periods\u001B[38;5;241m=\u001B[39m\u001B[38;5;241m0\u001B[39m,\n\u001B[1;32m   2376\u001B[0m     )\n\u001B[1;32m   2377\u001B[0m \u001B[38;5;28;01melse\u001B[39;00m:\n\u001B[0;32m-> 2378\u001B[0m     result \u001B[38;5;241m=\u001B[39m \u001B[38;5;28mself\u001B[39m\u001B[38;5;241m.\u001B[39m_cython_agg_general(\n\u001B[1;32m   2379\u001B[0m         \u001B[38;5;124m\"\u001B[39m\u001B[38;5;124mmean\u001B[39m\u001B[38;5;124m\"\u001B[39m,\n\u001B[1;32m   2380\u001B[0m         alt\u001B[38;5;241m=\u001B[39m\u001B[38;5;28;01mlambda\u001B[39;00m x: Series(x)\u001B[38;5;241m.\u001B[39mmean(numeric_only\u001B[38;5;241m=\u001B[39mnumeric_only),\n\u001B[1;32m   2381\u001B[0m         numeric_only\u001B[38;5;241m=\u001B[39mnumeric_only,\n\u001B[1;32m   2382\u001B[0m     )\n\u001B[1;32m   2383\u001B[0m     \u001B[38;5;28;01mreturn\u001B[39;00m result\u001B[38;5;241m.\u001B[39m__finalize__(\u001B[38;5;28mself\u001B[39m\u001B[38;5;241m.\u001B[39mobj, method\u001B[38;5;241m=\u001B[39m\u001B[38;5;124m\"\u001B[39m\u001B[38;5;124mgroupby\u001B[39m\u001B[38;5;124m\"\u001B[39m)\n",
      "File \u001B[0;32m~/anaconda3/envs/pythonEdu/lib/python3.11/site-packages/pandas/core/groupby/groupby.py:1929\u001B[0m, in \u001B[0;36mGroupBy._cython_agg_general\u001B[0;34m(self, how, alt, numeric_only, min_count, **kwargs)\u001B[0m\n\u001B[1;32m   1926\u001B[0m     result \u001B[38;5;241m=\u001B[39m \u001B[38;5;28mself\u001B[39m\u001B[38;5;241m.\u001B[39m_agg_py_fallback(how, values, ndim\u001B[38;5;241m=\u001B[39mdata\u001B[38;5;241m.\u001B[39mndim, alt\u001B[38;5;241m=\u001B[39malt)\n\u001B[1;32m   1927\u001B[0m     \u001B[38;5;28;01mreturn\u001B[39;00m result\n\u001B[0;32m-> 1929\u001B[0m new_mgr \u001B[38;5;241m=\u001B[39m data\u001B[38;5;241m.\u001B[39mgrouped_reduce(array_func)\n\u001B[1;32m   1930\u001B[0m res \u001B[38;5;241m=\u001B[39m \u001B[38;5;28mself\u001B[39m\u001B[38;5;241m.\u001B[39m_wrap_agged_manager(new_mgr)\n\u001B[1;32m   1931\u001B[0m out \u001B[38;5;241m=\u001B[39m \u001B[38;5;28mself\u001B[39m\u001B[38;5;241m.\u001B[39m_wrap_aggregated_output(res)\n",
      "File \u001B[0;32m~/anaconda3/envs/pythonEdu/lib/python3.11/site-packages/pandas/core/internals/managers.py:1428\u001B[0m, in \u001B[0;36mBlockManager.grouped_reduce\u001B[0;34m(self, func)\u001B[0m\n\u001B[1;32m   1424\u001B[0m \u001B[38;5;28;01mif\u001B[39;00m blk\u001B[38;5;241m.\u001B[39mis_object:\n\u001B[1;32m   1425\u001B[0m     \u001B[38;5;66;03m# split on object-dtype blocks bc some columns may raise\u001B[39;00m\n\u001B[1;32m   1426\u001B[0m     \u001B[38;5;66;03m#  while others do not.\u001B[39;00m\n\u001B[1;32m   1427\u001B[0m     \u001B[38;5;28;01mfor\u001B[39;00m sb \u001B[38;5;129;01min\u001B[39;00m blk\u001B[38;5;241m.\u001B[39m_split():\n\u001B[0;32m-> 1428\u001B[0m         applied \u001B[38;5;241m=\u001B[39m sb\u001B[38;5;241m.\u001B[39mapply(func)\n\u001B[1;32m   1429\u001B[0m         result_blocks \u001B[38;5;241m=\u001B[39m extend_blocks(applied, result_blocks)\n\u001B[1;32m   1430\u001B[0m \u001B[38;5;28;01melse\u001B[39;00m:\n",
      "File \u001B[0;32m~/anaconda3/envs/pythonEdu/lib/python3.11/site-packages/pandas/core/internals/blocks.py:366\u001B[0m, in \u001B[0;36mBlock.apply\u001B[0;34m(self, func, **kwargs)\u001B[0m\n\u001B[1;32m    360\u001B[0m \u001B[38;5;129m@final\u001B[39m\n\u001B[1;32m    361\u001B[0m \u001B[38;5;28;01mdef\u001B[39;00m \u001B[38;5;21mapply\u001B[39m(\u001B[38;5;28mself\u001B[39m, func, \u001B[38;5;241m*\u001B[39m\u001B[38;5;241m*\u001B[39mkwargs) \u001B[38;5;241m-\u001B[39m\u001B[38;5;241m>\u001B[39m \u001B[38;5;28mlist\u001B[39m[Block]:\n\u001B[1;32m    362\u001B[0m \u001B[38;5;250m    \u001B[39m\u001B[38;5;124;03m\"\"\"\u001B[39;00m\n\u001B[1;32m    363\u001B[0m \u001B[38;5;124;03m    apply the function to my values; return a block if we are not\u001B[39;00m\n\u001B[1;32m    364\u001B[0m \u001B[38;5;124;03m    one\u001B[39;00m\n\u001B[1;32m    365\u001B[0m \u001B[38;5;124;03m    \"\"\"\u001B[39;00m\n\u001B[0;32m--> 366\u001B[0m     result \u001B[38;5;241m=\u001B[39m func(\u001B[38;5;28mself\u001B[39m\u001B[38;5;241m.\u001B[39mvalues, \u001B[38;5;241m*\u001B[39m\u001B[38;5;241m*\u001B[39mkwargs)\n\u001B[1;32m    368\u001B[0m     result \u001B[38;5;241m=\u001B[39m maybe_coerce_values(result)\n\u001B[1;32m    369\u001B[0m     \u001B[38;5;28;01mreturn\u001B[39;00m \u001B[38;5;28mself\u001B[39m\u001B[38;5;241m.\u001B[39m_split_op_result(result)\n",
      "File \u001B[0;32m~/anaconda3/envs/pythonEdu/lib/python3.11/site-packages/pandas/core/groupby/groupby.py:1926\u001B[0m, in \u001B[0;36mGroupBy._cython_agg_general.<locals>.array_func\u001B[0;34m(values)\u001B[0m\n\u001B[1;32m   1923\u001B[0m \u001B[38;5;28;01melse\u001B[39;00m:\n\u001B[1;32m   1924\u001B[0m     \u001B[38;5;28;01mreturn\u001B[39;00m result\n\u001B[0;32m-> 1926\u001B[0m result \u001B[38;5;241m=\u001B[39m \u001B[38;5;28mself\u001B[39m\u001B[38;5;241m.\u001B[39m_agg_py_fallback(how, values, ndim\u001B[38;5;241m=\u001B[39mdata\u001B[38;5;241m.\u001B[39mndim, alt\u001B[38;5;241m=\u001B[39malt)\n\u001B[1;32m   1927\u001B[0m \u001B[38;5;28;01mreturn\u001B[39;00m result\n",
      "File \u001B[0;32m~/anaconda3/envs/pythonEdu/lib/python3.11/site-packages/pandas/core/groupby/groupby.py:1878\u001B[0m, in \u001B[0;36mGroupBy._agg_py_fallback\u001B[0;34m(self, how, values, ndim, alt)\u001B[0m\n\u001B[1;32m   1876\u001B[0m     msg \u001B[38;5;241m=\u001B[39m \u001B[38;5;124mf\u001B[39m\u001B[38;5;124m\"\u001B[39m\u001B[38;5;124magg function failed [how->\u001B[39m\u001B[38;5;132;01m{\u001B[39;00mhow\u001B[38;5;132;01m}\u001B[39;00m\u001B[38;5;124m,dtype->\u001B[39m\u001B[38;5;132;01m{\u001B[39;00mser\u001B[38;5;241m.\u001B[39mdtype\u001B[38;5;132;01m}\u001B[39;00m\u001B[38;5;124m]\u001B[39m\u001B[38;5;124m\"\u001B[39m\n\u001B[1;32m   1877\u001B[0m     \u001B[38;5;66;03m# preserve the kind of exception that raised\u001B[39;00m\n\u001B[0;32m-> 1878\u001B[0m     \u001B[38;5;28;01mraise\u001B[39;00m \u001B[38;5;28mtype\u001B[39m(err)(msg) \u001B[38;5;28;01mfrom\u001B[39;00m \u001B[38;5;21;01merr\u001B[39;00m\n\u001B[1;32m   1880\u001B[0m \u001B[38;5;28;01mif\u001B[39;00m ser\u001B[38;5;241m.\u001B[39mdtype \u001B[38;5;241m==\u001B[39m \u001B[38;5;28mobject\u001B[39m:\n\u001B[1;32m   1881\u001B[0m     res_values \u001B[38;5;241m=\u001B[39m res_values\u001B[38;5;241m.\u001B[39mastype(\u001B[38;5;28mobject\u001B[39m, copy\u001B[38;5;241m=\u001B[39m\u001B[38;5;28;01mFalse\u001B[39;00m)\n",
      "\u001B[0;31mTypeError\u001B[0m: agg function failed [how->mean,dtype->object]"
     ]
    }
   ],
   "execution_count": 9
  },
  {
   "cell_type": "code",
   "metadata": {
    "ExecuteTime": {
     "end_time": "2024-08-18T03:22:42.763707Z",
     "start_time": "2024-08-18T03:22:42.763631Z"
    }
   },
   "source": [
    "# loc 사용하기\n",
    "flight.loc[[102, 202, 302]]"
   ],
   "id": "fce33bfac5b112ca",
   "outputs": [],
   "execution_count": null
  },
  {
   "cell_type": "code",
   "metadata": {
    "ExecuteTime": {
     "end_time": "2024-08-18T03:22:42.765276Z",
     "start_time": "2024-08-18T03:22:42.765203Z"
    }
   },
   "source": [
    "# iloc 사용하기\n",
    "flight.iloc[[2, 102, 202]]"
   ],
   "id": "2cb06692470863d",
   "outputs": [],
   "execution_count": null
  },
  {
   "cell_type": "code",
   "metadata": {},
   "source": [
    "# loc를 사용하여 행과 열의 범위 지정하기\n",
    "flight.loc[[102, 202, 302], ['airline', 'flight', 'source_city', 'price']]"
   ],
   "id": "33e15c052aaa1b97",
   "outputs": [],
   "execution_count": null
  },
  {
   "cell_type": "code",
   "metadata": {},
   "source": [
    "# iloc를 사용하여 행과 열의 범위 지정하기\n",
    "flight.iloc[[2, 102, 202], [1, 2, 3, 11]]"
   ],
   "id": "faa42545be8f5740",
   "outputs": [],
   "execution_count": null
  },
  {
   "cell_type": "code",
   "metadata": {},
   "source": [
    "# iloc를 사용하였을 때 칼럼값을 그대로 사용시 에러 발생\n",
    "flight.iloc[[2, 102, 202], ['airline', 'flight', 'source_city', 'price']]"
   ],
   "id": "fe2193e9946d28f0",
   "outputs": [],
   "execution_count": null
  },
  {
   "attachments": {},
   "cell_type": "markdown",
   "metadata": {},
   "source": [
    "## 4. 조건으로 데이터 선택하기"
   ],
   "id": "f0ca5545e7410e56"
  },
  {
   "attachments": {},
   "cell_type": "markdown",
   "metadata": {},
   "source": [
    "##### ※ 앞서 진행한 실습을 이어서 진행하실 경우 실습을 진행하실 수 있으나, 실습 코드가 반영되어 결과 값의 차이가 있을 수 있습니다.\n",
    "#####      실습 데이터를 다시 불러온 후 데이터프레임을 만들어 실습을 진행합니다."
   ],
   "id": "a07c689fccf98067"
  },
  {
   "cell_type": "code",
   "metadata": {},
   "source": [
    "# flight DataFrame을 만들기 \n",
    "flight = pd.read_csv('./dataset/Clean_Dataset.csv', encoding = \"cp949\")\n",
    "flight"
   ],
   "id": "468b051d779f9b27",
   "outputs": [],
   "execution_count": null
  },
  {
   "attachments": {},
   "cell_type": "markdown",
   "metadata": {},
   "source": [
    "##### ## 조건 : price가 12000 초과 이고, airline이 Air_india인 항목만 추출"
   ],
   "id": "a4a0219110de7807"
  },
  {
   "cell_type": "code",
   "metadata": {
    "scrolled": true
   },
   "source": [
    "# boolean 연산으로 조건을 만족하는 데이터만 추출하기\n",
    "flight_extract = flight[(flight['price']>12000) & (flight['airline']=='Air_India')]\n",
    "flight_extract.head()"
   ],
   "id": "c8993418eb150bee",
   "outputs": [],
   "execution_count": null
  },
  {
   "attachments": {},
   "cell_type": "markdown",
   "metadata": {},
   "source": [
    "##### ## 조건1. : price가 12000 초과"
   ],
   "id": "2b09dfc891bea5f9"
  },
  {
   "cell_type": "markdown",
   "metadata": {},
   "source": [
    "##### ## 조건2. : airline이 Air_India"
   ],
   "id": "77af4ef3e4c20839"
  },
  {
   "cell_type": "code",
   "metadata": {},
   "source": [
    "# 조건을 별도로 지정하여 데이터 추출하기 \n",
    "\n",
    "# 가격: 12000 초과\n",
    "price_Tag = flight['price']>12000\n",
    "# 항공사 이름: Air_India\n",
    "airline_tag = flight['airline']=='Air_India'\n",
    "\n",
    "flight_extract2=flight[price_Tag & airline_tag].head()\n",
    "flight_extract2"
   ],
   "id": "4ee1d445ddfec801",
   "outputs": [],
   "execution_count": null
  },
  {
   "attachments": {},
   "cell_type": "markdown",
   "metadata": {},
   "source": [
    "# SECTION 02. 필요 데이터 변경하기"
   ],
   "id": "4b58f5b55f3563ba"
  },
  {
   "attachments": {},
   "cell_type": "markdown",
   "metadata": {},
   "source": [
    "## 1. 데이터 추가하기"
   ],
   "id": "541ab07c117dac22"
  },
  {
   "cell_type": "code",
   "metadata": {},
   "source": [
    "# 새로운 칼럼 만들기\n",
    "flight['price2'] = flight['price'] * 2\n",
    "flight.head()"
   ],
   "id": "eeb9c2ceee4f321",
   "outputs": [],
   "execution_count": null
  },
  {
   "cell_type": "code",
   "metadata": {},
   "source": [
    "# 기존 칼럼 연산으로 새로운 칼럼 만들기\n",
    "flight['price3'] = flight['price'] + flight['price2']\n",
    "flight.head()"
   ],
   "id": "3d2b4b95e4e737a3",
   "outputs": [],
   "execution_count": null
  },
  {
   "cell_type": "code",
   "metadata": {},
   "source": [
    "# 새로운 칼럼 원하는 위치에 넣기\n",
    "flight.insert(10, 'duration2', flight['duration'] *10) \n",
    "# 처음 0부터 시작하여 10번 칼럼으로 insert\n",
    "flight.head()"
   ],
   "id": "d8bd8eb150bc1061",
   "outputs": [],
   "execution_count": null
  },
  {
   "attachments": {},
   "cell_type": "markdown",
   "metadata": {},
   "source": [
    "## 2. 데이터 삭제하기"
   ],
   "id": "f780a06340a31c00"
  },
  {
   "cell_type": "code",
   "metadata": {},
   "source": [
    "# drop 메소드 사용하여 데이터 삭제 하기\n",
    "flight.drop('price3', axis=1).head()"
   ],
   "id": "a89e62543718e8b4",
   "outputs": [],
   "execution_count": null
  },
  {
   "cell_type": "code",
   "metadata": {},
   "source": [
    "# axis 속성 이해하기\n",
    "flight.drop(index=0, axis=0).head()"
   ],
   "id": "e92187e978974ff6",
   "outputs": [],
   "execution_count": null
  },
  {
   "cell_type": "code",
   "metadata": {},
   "source": [
    "# 첫 행 데이터 지워진 것 확인하기\n",
    "flight.head()"
   ],
   "id": "b4041f332dcb5352",
   "outputs": [],
   "execution_count": null
  },
  {
   "cell_type": "code",
   "metadata": {},
   "source": [
    "# 데이터 삭제 후 새로운 데이터프레임에 저장하기\n",
    "flight1=flight.drop('price3', axis=1)\n",
    "flight1.head()"
   ],
   "id": "bbe0b33ab7301999",
   "outputs": [],
   "execution_count": null
  },
  {
   "cell_type": "code",
   "metadata": {},
   "source": [
    "# drop 메소드의 inplace 속성 확인하기\n",
    "flight.drop('price3', axis=1, inplace=True)\n",
    "flight.head()"
   ],
   "id": "246b69821c601813",
   "outputs": [],
   "execution_count": null
  },
  {
   "attachments": {},
   "cell_type": "markdown",
   "metadata": {},
   "source": [
    "## 3. 칼럼명 변경하기"
   ],
   "id": "d1d2e87322c6ccc8"
  },
  {
   "cell_type": "code",
   "metadata": {},
   "source": [
    "# rename 이용하여 칼럼명 변경하기\n",
    "flight=flight.rename(columns = {\"airline\" : 'airline_name',\"source_city\":'departure_city'})\n",
    "flight.head()"
   ],
   "id": "8e2c55e3438d90cf",
   "outputs": [],
   "execution_count": null
  },
  {
   "attachments": {},
   "cell_type": "markdown",
   "metadata": {},
   "source": [
    "## 4. 데이터프레임 정렬하기"
   ],
   "id": "c1b83fc61282e8ee"
  },
  {
   "cell_type": "code",
   "metadata": {},
   "source": [
    "# sort_values 메소드와 ascending 매개변수 지정하여 데이터 프레임 역순으로 정렬하기\n",
    "flight=flight.sort_values(by ='Unnamed: 0', ascending=False)\n",
    "flight.head()"
   ],
   "id": "9f70fefa3770edf1",
   "outputs": [],
   "execution_count": null
  },
  {
   "cell_type": "code",
   "metadata": {},
   "source": [
    "# sort_values 메소드와 ascending 매개변수 지정하여 데이터 프레임 역순으로 정렬하기\n",
    "flight=flight.sort_values(by ='Unnamed: 0', ascending=True)\n",
    "flight.head()"
   ],
   "id": "7468c41231be4f58",
   "outputs": [],
   "execution_count": null
  },
  {
   "attachments": {},
   "cell_type": "markdown",
   "metadata": {},
   "source": [
    "# SECTION 03. 데이터 프레임 변형하기"
   ],
   "id": "5be6cadc75740826"
  },
  {
   "attachments": {},
   "cell_type": "markdown",
   "id": "4734256a",
   "metadata": {},
   "source": [
    "\n",
    "##### ※ 앞서 진행한 실습을 이어서 진행하실 경우 실습을 진행하실 수 있으나, 실습코드가 반영되어 결과값의 차이가 있을 수 있습니다.\n",
    "#####    실습 데이터를 다시 불러온 후 데이터프레임을 만들어 실습을 진행 합니다. "
   ]
  },
  {
   "cell_type": "code",
   "metadata": {},
   "source": [
    "# flight DataFrame 만들기\n",
    "flight = pd.read_csv('./Clean_Dataset.csv', encoding = \"cp949\")\n",
    "flight"
   ],
   "id": "84206efc348c4f24",
   "outputs": [],
   "execution_count": null
  },
  {
   "attachments": {},
   "cell_type": "markdown",
   "id": "8fd8eab8",
   "metadata": {},
   "source": [
    "## 1. 그룹화 하기"
   ]
  },
  {
   "cell_type": "markdown",
   "metadata": {
    "ExecuteTime": {
     "end_time": "2023-03-10T04:44:07.141718Z",
     "start_time": "2023-03-10T04:44:07.122545Z"
    }
   },
   "source": [
    "### 1) groupby 활용하기"
   ],
   "id": "6df6cdfcd2f6cb63"
  },
  {
   "cell_type": "code",
   "metadata": {},
   "source": [
    "# airline 칼럼 기준으로 그룹화하기\n",
    "airline_group = flight.groupby('airline')\n",
    "airline_group"
   ],
   "id": "a96b1b0ba33ddfbb",
   "outputs": [],
   "execution_count": null
  },
  {
   "cell_type": "code",
   "metadata": {},
   "source": [
    "# 수행 결과 확인하기 \n",
    "airline_group.groups"
   ],
   "id": "f0ae588beee237df",
   "outputs": [],
   "execution_count": null
  },
  {
   "cell_type": "code",
   "metadata": {},
   "source": [
    "# 데이터 수 확인하기\n",
    "airline_group.count()"
   ],
   "id": "8dd63285d1739f4f",
   "outputs": [],
   "execution_count": null
  },
  {
   "cell_type": "code",
   "metadata": {},
   "source": [
    "# 최솟값 확인하기\n",
    "airline_group.min()"
   ],
   "id": "e396bc6dc0bfff66",
   "outputs": [],
   "execution_count": null
  },
  {
   "cell_type": "code",
   "metadata": {},
   "source": [
    "# 평균값 확인하기\n",
    "airline_group.mean()"
   ],
   "id": "78a9788cac0f2c3d",
   "outputs": [],
   "execution_count": null
  },
  {
   "cell_type": "code",
   "metadata": {},
   "source": [
    "# 특정 칼럼 값만 확인하기\n",
    "airline_group.mean()[['price']]"
   ],
   "id": "a16646fd9d99e5f9",
   "outputs": [],
   "execution_count": null
  },
  {
   "cell_type": "code",
   "metadata": {},
   "source": [
    "# groupby를 활용하여 다중 인덱싱(multi-indexing)설정하기\n",
    "flight.groupby(['airline', 'arrival_time']).mean()"
   ],
   "id": "21b4ef6a607462e4",
   "outputs": [],
   "execution_count": null
  },
  {
   "cell_type": "code",
   "metadata": {},
   "source": [
    "# 여러 개의 칼럼을 groupby하여 새로운 데이터프레임 생성하기\n",
    "mul_airline_group=flight.groupby(['airline', 'arrival_time'])\n",
    "mul_airline_group.mean()"
   ],
   "id": "48fe136ad573355a",
   "outputs": [],
   "execution_count": null
  },
  {
   "cell_type": "code",
   "metadata": {},
   "source": [
    "# groupby 후 원하는 데이터만 가지고 오기\n",
    "flight.groupby(['airline', 'arrival_time']).mean().loc[[('AirAsia','Evening')]]"
   ],
   "id": "1accba2cdc9a1558",
   "outputs": [],
   "execution_count": null
  },
  {
   "cell_type": "markdown",
   "metadata": {},
   "source": [
    "### 2) 인덱스로 그룹화하기"
   ],
   "id": "2d71191c3b32b441"
  },
  {
   "cell_type": "code",
   "metadata": {},
   "source": [
    "# set_index로 인덱스 지정하기\n",
    "flight.set_index(['airline','arrival_time'])"
   ],
   "id": "bd9fbec50dab3577",
   "outputs": [],
   "execution_count": null
  },
  {
   "cell_type": "code",
   "metadata": {},
   "source": [
    "# 다중 인덱스(multi-index) 셋팅 후 해당 인덱스 기준으로 groupby하기\n",
    "flight.set_index(['airline','arrival_time']).groupby(level=[0]).mean()"
   ],
   "id": "e4e728f3e9762751",
   "outputs": [],
   "execution_count": null
  },
  {
   "cell_type": "code",
   "metadata": {},
   "source": [
    "# 인덱스 모두 선택하여 groupby 하기\n",
    "flight.set_index(['airline','arrival_time']).groupby(level=[0,1]).mean()"
   ],
   "id": "ab0bd7afe6bc64b7",
   "outputs": [],
   "execution_count": null
  },
  {
   "attachments": {},
   "cell_type": "markdown",
   "metadata": {},
   "source": [
    "### 3) Aggrgate로 집계하기"
   ],
   "id": "35a1b7ce027a6539"
  },
  {
   "cell_type": "code",
   "metadata": {},
   "source": [
    "# aggregate 메소드 이용하여 groupby 후 평균값과 최댓값 확인하기 \n",
    "flight.set_index(['airline','arrival_time']).groupby(level=[0,1]).aggregate([np.mean, np.max])"
   ],
   "id": "522cf3adb4e3bfdc",
   "outputs": [],
   "execution_count": null
  },
  {
   "attachments": {},
   "cell_type": "markdown",
   "metadata": {},
   "source": [
    "## 2. 피벗테이블 생성하기"
   ],
   "id": "876ee7041f07132b"
  },
  {
   "cell_type": "code",
   "metadata": {},
   "source": [
    "# pivot / pivot_table을 위한 데이터프레임 만들기\n",
    "import numpy as np\n",
    "import pandas as pd\n",
    "pivot_data = pd.DataFrame({'cust_id': ['cust_1', 'cust_1', 'cust_1', 'cust_2', 'cust_2', 'cust_2', 'cust_3', 'cust_3', 'cust_3'],\n",
    "                  'prod_cd': ['p1', 'p2', 'p3', 'p1', 'p2', 'p3', 'p1', 'p2', 'p3'],\n",
    "                  'grade' : ['A', 'A', 'A', 'A', 'A', 'A', 'B', 'B', 'B'],\n",
    "                  'purch_amt': [30, 10, 0, 40, 15, 30, 0, 0, 10]})\n",
    "pivot_data"
   ],
   "id": "e542935f46c3fab3",
   "outputs": [],
   "execution_count": null
  },
  {
   "cell_type": "code",
   "metadata": {},
   "source": [
    "# pivot 활용하기\n",
    "pivot_data.pivot(index = 'cust_id', columns ='prod_cd', values ='purch_amt')\n",
    "\n",
    "# 해당 pivot data는 아래와 같이 코드를 작성할 수도 있습니다.\n",
    "# pivot_data('cust_id', 'prod_cd', 'pch_amt')"
   ],
   "id": "d91b7962d70ea5e",
   "outputs": [],
   "execution_count": null
  },
  {
   "cell_type": "code",
   "metadata": {},
   "source": [
    "# 중복값이 존재하는 경우 에러 메시지\n",
    "pivot_data.pivot(index='grade', columns='prod_cd', values='purch_amt')  "
   ],
   "id": "89a7b21d0b4e03f3",
   "outputs": [],
   "execution_count": null
  },
  {
   "cell_type": "code",
   "metadata": {},
   "source": [
    "# pivot_table 활용하기\n",
    "pivot_data.pivot_table(index='grade', columns='prod_cd', values='purch_amt')"
   ],
   "id": "31ce0eb952041c06",
   "outputs": [],
   "execution_count": null
  },
  {
   "cell_type": "code",
   "metadata": {},
   "source": [
    "# pivot_table의 aggfunc 지정하기\n",
    "pivot_data.pivot_table(index='grade', columns='prod_cd', values='purch_amt', aggfunc=np.sum)"
   ],
   "id": "ec3136702a37c4ab",
   "outputs": [],
   "execution_count": null
  },
  {
   "attachments": {},
   "cell_type": "markdown",
   "metadata": {},
   "source": [
    "## 3. 인덱스 및 칼럼 레벨 변경하기"
   ],
   "id": "44be3c5b6e6710b3"
  },
  {
   "cell_type": "code",
   "metadata": {},
   "source": [
    "# stack/unstack을 위한 데이터프레임 만들기\n",
    "import numpy as np\n",
    "import pandas as pd\n",
    "stack_data = pd.DataFrame({\n",
    "    'Location': ['Seoul', 'Seoul', 'Seoul', 'kyounggi', 'kyounggi', 'Busan', 'Seoul', 'Seoul', 'Busan', 'kyounggi', 'kyounggi', 'kyounggi'],\n",
    "    'Day': ['Mon', 'Tue', 'Wed', 'Mon', 'Tue', 'Mon', 'Thu', 'Fri', 'Tue', 'Wed', 'Thu', 'Fri'],\n",
    "    'Ranfall': [100, 80, 1000, 200, 200, 100, 50, 100, 200, 100, 50, 100],\n",
    "    'Rainfall_precipitation': [80, 70, 90, 10, 20, 30, 50, 90, 20, 80, 50, 10],\n",
    "    'Temp' : [32, 27, 32, 31, 30, 28, 27, 25, 26, 33, 34, 31]})\n",
    "\n",
    "stack_data"
   ],
   "id": "7cd839541a545f4f",
   "outputs": [],
   "execution_count": null
  },
  {
   "cell_type": "code",
   "metadata": {},
   "source": [
    "# 인덱스 설정하기\n",
    "new_stack_data = stack_data.set_index(['Location','Day'])\n",
    "new_stack_data"
   ],
   "id": "6db4fad55f55b6a6",
   "outputs": [],
   "execution_count": null
  },
  {
   "cell_type": "code",
   "metadata": {},
   "source": [
    "# unstack 확인하기\n",
    "new_stack_data.unstack(0)"
   ],
   "id": "2d7dc83cbc440a9c",
   "outputs": [],
   "execution_count": null
  },
  {
   "cell_type": "code",
   "metadata": {},
   "source": [
    "new_stack_data.unstack(1)"
   ],
   "id": "3602da1a7df92d85",
   "outputs": [],
   "execution_count": null
  },
  {
   "cell_type": "code",
   "metadata": {},
   "source": [
    "new_stack_data2 = new_stack_data.unstack(1)\n",
    "new_stack_data2.stack(1)"
   ],
   "id": "65fffae8f143de1e",
   "outputs": [],
   "execution_count": null
  },
  {
   "attachments": {},
   "cell_type": "markdown",
   "metadata": {},
   "source": [
    "# SECTION 04. 데이터프레임 병합하기"
   ],
   "id": "814bceed5925128a"
  },
  {
   "attachments": {},
   "cell_type": "markdown",
   "metadata": {},
   "source": [
    "## 1. concat 활용하여 병합하기"
   ],
   "id": "a2e723d21f407c27"
  },
  {
   "cell_type": "markdown",
   "metadata": {},
   "source": [
    "### 1) 칼럼명이 같은 경우"
   ],
   "id": "c4c0232681f67f2b"
  },
  {
   "cell_type": "code",
   "metadata": {},
   "source": [
    "# concat 실행을 위한 데이터프레임 만들기\n",
    "import pandas as pd\n",
    "import numpy as np\n",
    "df1 = pd.DataFrame({'col1' : ['사과','배','감','수박','메론'], 'col2' : [500, 1000, 2500, 5000,3000]}, index=[0,1,2,3,4])\n",
    "df2 = pd.DataFrame({'col1' : ['수박','메론','딸기','키위','오렌지'], 'col2' : [5000,3000,1000,600,700]}, index=[3,4,5,6,7])"
   ],
   "id": "1af1b52b4f34e91e",
   "outputs": [],
   "execution_count": null
  },
  {
   "cell_type": "code",
   "metadata": {},
   "source": [
    "df1"
   ],
   "id": "423cd24100531f88",
   "outputs": [],
   "execution_count": null
  },
  {
   "cell_type": "code",
   "metadata": {},
   "source": [
    "df2"
   ],
   "id": "c5ade2f60c1e8df6",
   "outputs": [],
   "execution_count": null
  },
  {
   "cell_type": "code",
   "metadata": {},
   "source": [
    "# ignore_index 확인하기\n",
    "pd.concat([df1, df2], ignore_index=False)"
   ],
   "id": "ee34ac70214e8322",
   "outputs": [],
   "execution_count": null
  },
  {
   "cell_type": "code",
   "metadata": {},
   "source": [
    "pd.concat([df1, df2], ignore_index=True)"
   ],
   "id": "2af0cab2c8c0fc19",
   "outputs": [],
   "execution_count": null
  },
  {
   "cell_type": "code",
   "metadata": {},
   "source": [
    "# concat axis 이해하기\n",
    "pd.concat([df1, df2], axis = 1)"
   ],
   "id": "50c926862700deb9",
   "outputs": [],
   "execution_count": null
  },
  {
   "cell_type": "markdown",
   "metadata": {},
   "source": [
    "### 2) 칼럼명이 다른 경우"
   ],
   "id": "ae80b083a0b0fc28"
  },
  {
   "cell_type": "code",
   "metadata": {},
   "source": [
    "df3 = pd.DataFrame({'item':['item0','item1','item2', 'item3'], 'count':['count0','count1','count2','count3'],\n",
    "                    'price':['price0','price1','price2','price3']}, index = [0,1,2,3])\n",
    "df4 = pd.DataFrame({'item':['item2','item3','item4', 'item5'], 'count':['count2','count3','count4','count5'],\n",
    "                    'price':['price2','price3','price4','price5'], 'var':['var2','var3','var4','var5']}, index = [2,3,4,5])"
   ],
   "id": "5aaf7a0c3b27471a",
   "outputs": [],
   "execution_count": null
  },
  {
   "cell_type": "code",
   "metadata": {},
   "source": "df3",
   "id": "313d924f324d1ad8",
   "outputs": [],
   "execution_count": null
  },
  {
   "cell_type": "code",
   "metadata": {},
   "source": [
    "df4"
   ],
   "id": "3e3eba4ea394e59c",
   "outputs": [],
   "execution_count": null
  },
  {
   "cell_type": "code",
   "metadata": {},
   "source": [
    "# join의 outer 방식\n",
    "pd.concat([df3, df4], join='outer')"
   ],
   "id": "8f014f846a1632f8",
   "outputs": [],
   "execution_count": null
  },
  {
   "cell_type": "code",
   "metadata": {},
   "source": [
    "# join의 inner 방식\n",
    "pd.concat([df3, df4], join='inner')"
   ],
   "id": "221bce6d2366fb75",
   "outputs": [],
   "execution_count": null
  },
  {
   "cell_type": "markdown",
   "metadata": {},
   "source": [
    "### 3) 인덱스가 중복인 경우"
   ],
   "id": "69d95637b51abc4a"
  },
  {
   "cell_type": "code",
   "metadata": {},
   "source": [
    "df5 = pd.DataFrame({'A':['A0','A1','A2'], 'B':['B0','B1','B2'], 'C':['C0','C1','C2'], 'D':['D0','D1','D2']}, index=['I0','I1','I2'])\n",
    "df6 = pd.DataFrame({'A':['AA2','A3','A4'], 'B':['BB2','B3','B4'], 'C':['CC2','C3','C4'], 'D':['DD2','D3','D4']}, index=['I2','I3','I4'])"
   ],
   "id": "3c98b71fa8643824",
   "outputs": [],
   "execution_count": null
  },
  {
   "cell_type": "code",
   "metadata": {},
   "source": [
    "df5"
   ],
   "id": "50aff1cc7c60c600",
   "outputs": [],
   "execution_count": null
  },
  {
   "cell_type": "code",
   "metadata": {},
   "source": [
    "df6"
   ],
   "id": "43a7e2f74b043850",
   "outputs": [],
   "execution_count": null
  },
  {
   "cell_type": "code",
   "metadata": {
    "scrolled": true
   },
   "source": [
    "# verify_integrity 확인하기 (에러 메시지)\n",
    "pd.concat([df5, df6], verify_integrity=True)"
   ],
   "id": "dcc0bc2f5c926e55",
   "outputs": [],
   "execution_count": null
  },
  {
   "attachments": {},
   "cell_type": "markdown",
   "metadata": {},
   "source": [
    "## 2. merge/ join 활용하여 병합하기"
   ],
   "id": "28c6a5f9065e8eb6"
  },
  {
   "cell_type": "code",
   "metadata": {},
   "source": [
    "# merge / join 실행을 위한 데이터프레임 만들기\n",
    "import pandas as pd\n",
    "import numpy as np\n",
    "customer = pd.DataFrame({'customer_id' : np.arange(6), \n",
    "                    'name' : ['James', 'Elly', 'Tom', 'Givert', 'Aiden', 'Brody'], \n",
    "                    '나이' : [40, 20, 21, 30, 31, 18]})\n",
    "\n",
    "orders = pd.DataFrame({'customer_id' : [1, 1, 2, 2, 2, 3, 3, 1, 4, 9], \n",
    "                    'item' : ['마우스', '충전기', '이어폰', '헤드셋', '전자펜', '키보드', '전자펜', '마우스', '키보드', '케이스'], \n",
    "                    'quantity' : [1, 2, 1, 1, 3, 2, 2, 3, 2, 1]})\n"
   ],
   "id": "b8b977eab9d01013",
   "outputs": [],
   "execution_count": null
  },
  {
   "cell_type": "code",
   "metadata": {
    "ExecuteTime": {
     "end_time": "2024-08-18T03:22:42.963040Z",
     "start_time": "2024-08-18T03:22:42.937453Z"
    }
   },
   "source": [
    "customer"
   ],
   "id": "786b508725c98ddc",
   "outputs": [
    {
     "ename": "NameError",
     "evalue": "name 'customer' is not defined",
     "output_type": "error",
     "traceback": [
      "\u001B[0;31m---------------------------------------------------------------------------\u001B[0m",
      "\u001B[0;31mNameError\u001B[0m                                 Traceback (most recent call last)",
      "Cell \u001B[0;32mIn[10], line 1\u001B[0m\n\u001B[0;32m----> 1\u001B[0m customer\n",
      "\u001B[0;31mNameError\u001B[0m: name 'customer' is not defined"
     ]
    }
   ],
   "execution_count": 10
  },
  {
   "cell_type": "code",
   "metadata": {
    "ExecuteTime": {
     "end_time": "2024-08-18T03:22:43.903762Z",
     "start_time": "2024-08-18T03:22:43.891171Z"
    }
   },
   "source": [
    "orders"
   ],
   "id": "854305decf73d4a0",
   "outputs": [
    {
     "ename": "NameError",
     "evalue": "name 'orders' is not defined",
     "output_type": "error",
     "traceback": [
      "\u001B[0;31m---------------------------------------------------------------------------\u001B[0m",
      "\u001B[0;31mNameError\u001B[0m                                 Traceback (most recent call last)",
      "Cell \u001B[0;32mIn[11], line 1\u001B[0m\n\u001B[0;32m----> 1\u001B[0m orders\n",
      "\u001B[0;31mNameError\u001B[0m: name 'orders' is not defined"
     ]
    }
   ],
   "execution_count": 11
  },
  {
   "cell_type": "code",
   "metadata": {
    "ExecuteTime": {
     "end_time": "2024-08-18T03:22:43.968171Z",
     "start_time": "2024-08-18T03:22:43.958854Z"
    }
   },
   "source": [
    "# merge 함수의 on 속성 이해하기\n",
    "pd.merge(customer, orders, on='customer_id')  "
   ],
   "id": "a8d2194820ccb360",
   "outputs": [
    {
     "ename": "NameError",
     "evalue": "name 'customer' is not defined",
     "output_type": "error",
     "traceback": [
      "\u001B[0;31m---------------------------------------------------------------------------\u001B[0m",
      "\u001B[0;31mNameError\u001B[0m                                 Traceback (most recent call last)",
      "Cell \u001B[0;32mIn[12], line 2\u001B[0m\n\u001B[1;32m      1\u001B[0m \u001B[38;5;66;03m# merge 함수의 on 속성 이해하기\u001B[39;00m\n\u001B[0;32m----> 2\u001B[0m pd\u001B[38;5;241m.\u001B[39mmerge(customer, orders, on\u001B[38;5;241m=\u001B[39m\u001B[38;5;124m'\u001B[39m\u001B[38;5;124mcustomer_id\u001B[39m\u001B[38;5;124m'\u001B[39m)\n",
      "\u001B[0;31mNameError\u001B[0m: name 'customer' is not defined"
     ]
    }
   ],
   "execution_count": 12
  },
  {
   "cell_type": "code",
   "metadata": {
    "ExecuteTime": {
     "end_time": "2024-08-18T03:22:44.055400Z",
     "start_time": "2024-08-18T03:22:44.046722Z"
    }
   },
   "source": [
    "# merge 함수의 how 속성 이해하기\n",
    "pd.merge(customer, orders, on='customer_id', how='inner') "
   ],
   "id": "389fd3d42535e0e",
   "outputs": [
    {
     "ename": "NameError",
     "evalue": "name 'customer' is not defined",
     "output_type": "error",
     "traceback": [
      "\u001B[0;31m---------------------------------------------------------------------------\u001B[0m",
      "\u001B[0;31mNameError\u001B[0m                                 Traceback (most recent call last)",
      "Cell \u001B[0;32mIn[13], line 2\u001B[0m\n\u001B[1;32m      1\u001B[0m \u001B[38;5;66;03m# merge 함수의 how 속성 이해하기\u001B[39;00m\n\u001B[0;32m----> 2\u001B[0m pd\u001B[38;5;241m.\u001B[39mmerge(customer, orders, on\u001B[38;5;241m=\u001B[39m\u001B[38;5;124m'\u001B[39m\u001B[38;5;124mcustomer_id\u001B[39m\u001B[38;5;124m'\u001B[39m, how\u001B[38;5;241m=\u001B[39m\u001B[38;5;124m'\u001B[39m\u001B[38;5;124minner\u001B[39m\u001B[38;5;124m'\u001B[39m)\n",
      "\u001B[0;31mNameError\u001B[0m: name 'customer' is not defined"
     ]
    }
   ],
   "execution_count": 13
  },
  {
   "cell_type": "code",
   "metadata": {
    "ExecuteTime": {
     "end_time": "2024-08-18T03:22:44.115719Z",
     "start_time": "2024-08-18T03:22:44.107533Z"
    }
   },
   "source": [
    "pd.merge(customer, orders, on='customer_id', how='left')"
   ],
   "id": "ac5f0f6ae83602a2",
   "outputs": [
    {
     "ename": "NameError",
     "evalue": "name 'customer' is not defined",
     "output_type": "error",
     "traceback": [
      "\u001B[0;31m---------------------------------------------------------------------------\u001B[0m",
      "\u001B[0;31mNameError\u001B[0m                                 Traceback (most recent call last)",
      "Cell \u001B[0;32mIn[14], line 1\u001B[0m\n\u001B[0;32m----> 1\u001B[0m pd\u001B[38;5;241m.\u001B[39mmerge(customer, orders, on\u001B[38;5;241m=\u001B[39m\u001B[38;5;124m'\u001B[39m\u001B[38;5;124mcustomer_id\u001B[39m\u001B[38;5;124m'\u001B[39m, how\u001B[38;5;241m=\u001B[39m\u001B[38;5;124m'\u001B[39m\u001B[38;5;124mleft\u001B[39m\u001B[38;5;124m'\u001B[39m)\n",
      "\u001B[0;31mNameError\u001B[0m: name 'customer' is not defined"
     ]
    }
   ],
   "execution_count": 14
  },
  {
   "cell_type": "code",
   "metadata": {
    "ExecuteTime": {
     "end_time": "2024-08-18T03:22:44.180990Z",
     "start_time": "2024-08-18T03:22:44.171604Z"
    }
   },
   "source": [
    "pd.merge(customer, orders, on='customer_id', how='right') "
   ],
   "id": "2ec595f3e824eec4",
   "outputs": [
    {
     "ename": "NameError",
     "evalue": "name 'customer' is not defined",
     "output_type": "error",
     "traceback": [
      "\u001B[0;31m---------------------------------------------------------------------------\u001B[0m",
      "\u001B[0;31mNameError\u001B[0m                                 Traceback (most recent call last)",
      "Cell \u001B[0;32mIn[15], line 1\u001B[0m\n\u001B[0;32m----> 1\u001B[0m pd\u001B[38;5;241m.\u001B[39mmerge(customer, orders, on\u001B[38;5;241m=\u001B[39m\u001B[38;5;124m'\u001B[39m\u001B[38;5;124mcustomer_id\u001B[39m\u001B[38;5;124m'\u001B[39m, how\u001B[38;5;241m=\u001B[39m\u001B[38;5;124m'\u001B[39m\u001B[38;5;124mright\u001B[39m\u001B[38;5;124m'\u001B[39m)\n",
      "\u001B[0;31mNameError\u001B[0m: name 'customer' is not defined"
     ]
    }
   ],
   "execution_count": 15
  },
  {
   "cell_type": "code",
   "metadata": {
    "ExecuteTime": {
     "end_time": "2024-08-18T03:22:44.258741Z",
     "start_time": "2024-08-18T03:22:44.249287Z"
    }
   },
   "source": [
    "pd.merge(customer, orders, on='customer_id', how='outer') "
   ],
   "id": "a0a87fa9c56f7298",
   "outputs": [
    {
     "ename": "NameError",
     "evalue": "name 'customer' is not defined",
     "output_type": "error",
     "traceback": [
      "\u001B[0;31m---------------------------------------------------------------------------\u001B[0m",
      "\u001B[0;31mNameError\u001B[0m                                 Traceback (most recent call last)",
      "Cell \u001B[0;32mIn[16], line 1\u001B[0m\n\u001B[0;32m----> 1\u001B[0m pd\u001B[38;5;241m.\u001B[39mmerge(customer, orders, on\u001B[38;5;241m=\u001B[39m\u001B[38;5;124m'\u001B[39m\u001B[38;5;124mcustomer_id\u001B[39m\u001B[38;5;124m'\u001B[39m, how\u001B[38;5;241m=\u001B[39m\u001B[38;5;124m'\u001B[39m\u001B[38;5;124mouter\u001B[39m\u001B[38;5;124m'\u001B[39m)\n",
      "\u001B[0;31mNameError\u001B[0m: name 'customer' is not defined"
     ]
    }
   ],
   "execution_count": 16
  },
  {
   "cell_type": "code",
   "metadata": {
    "ExecuteTime": {
     "end_time": "2024-08-18T03:22:44.320515Z",
     "start_time": "2024-08-18T03:22:44.311787Z"
    }
   },
   "source": [
    "# 인덱스를 지정하여 데이터프레임 합치기\n",
    "cust1=customer.set_index('customer_id')\n",
    "order1=orders.set_index('customer_id')\n",
    "pd.merge(cust1, order1, left_index=True, right_index=True)"
   ],
   "id": "4fed74d6f0dbc40",
   "outputs": [
    {
     "ename": "NameError",
     "evalue": "name 'customer' is not defined",
     "output_type": "error",
     "traceback": [
      "\u001B[0;31m---------------------------------------------------------------------------\u001B[0m",
      "\u001B[0;31mNameError\u001B[0m                                 Traceback (most recent call last)",
      "Cell \u001B[0;32mIn[17], line 2\u001B[0m\n\u001B[1;32m      1\u001B[0m \u001B[38;5;66;03m# 인덱스를 지정하여 데이터프레임 합치기\u001B[39;00m\n\u001B[0;32m----> 2\u001B[0m cust1\u001B[38;5;241m=\u001B[39mcustomer\u001B[38;5;241m.\u001B[39mset_index(\u001B[38;5;124m'\u001B[39m\u001B[38;5;124mcustomer_id\u001B[39m\u001B[38;5;124m'\u001B[39m)\n\u001B[1;32m      3\u001B[0m order1\u001B[38;5;241m=\u001B[39morders\u001B[38;5;241m.\u001B[39mset_index(\u001B[38;5;124m'\u001B[39m\u001B[38;5;124mcustomer_id\u001B[39m\u001B[38;5;124m'\u001B[39m)\n\u001B[1;32m      4\u001B[0m pd\u001B[38;5;241m.\u001B[39mmerge(cust1, order1, left_index\u001B[38;5;241m=\u001B[39m\u001B[38;5;28;01mTrue\u001B[39;00m, right_index\u001B[38;5;241m=\u001B[39m\u001B[38;5;28;01mTrue\u001B[39;00m)\n",
      "\u001B[0;31mNameError\u001B[0m: name 'customer' is not defined"
     ]
    }
   ],
   "execution_count": 17
  },
  {
   "attachments": {},
   "cell_type": "markdown",
   "metadata": {},
   "source": [
    "#### [확인문제] 정답 및 해설"
   ],
   "id": "2b1f32821ec9848"
  },
  {
   "cell_type": "code",
   "metadata": {
    "ExecuteTime": {
     "end_time": "2024-08-18T03:22:44.379869Z",
     "start_time": "2024-08-18T03:22:44.370332Z"
    }
   },
   "source": [
    "# 문제 05. 정답 : 전자펜\n",
    "# 1. item별 합 구하기\n",
    "pd.merge(customer, orders, on='customer_id', how='right').groupby('item').sum()"
   ],
   "id": "b2d7bddc141e737e",
   "outputs": [
    {
     "ename": "NameError",
     "evalue": "name 'customer' is not defined",
     "output_type": "error",
     "traceback": [
      "\u001B[0;31m---------------------------------------------------------------------------\u001B[0m",
      "\u001B[0;31mNameError\u001B[0m                                 Traceback (most recent call last)",
      "Cell \u001B[0;32mIn[18], line 3\u001B[0m\n\u001B[1;32m      1\u001B[0m \u001B[38;5;66;03m# 문제 05. 정답 : 전자펜\u001B[39;00m\n\u001B[1;32m      2\u001B[0m \u001B[38;5;66;03m# 1. item별 합 구하기\u001B[39;00m\n\u001B[0;32m----> 3\u001B[0m pd\u001B[38;5;241m.\u001B[39mmerge(customer, orders, on\u001B[38;5;241m=\u001B[39m\u001B[38;5;124m'\u001B[39m\u001B[38;5;124mcustomer_id\u001B[39m\u001B[38;5;124m'\u001B[39m, how\u001B[38;5;241m=\u001B[39m\u001B[38;5;124m'\u001B[39m\u001B[38;5;124mright\u001B[39m\u001B[38;5;124m'\u001B[39m)\u001B[38;5;241m.\u001B[39mgroupby(\u001B[38;5;124m'\u001B[39m\u001B[38;5;124mitem\u001B[39m\u001B[38;5;124m'\u001B[39m)\u001B[38;5;241m.\u001B[39msum()\n",
      "\u001B[0;31mNameError\u001B[0m: name 'customer' is not defined"
     ]
    }
   ],
   "execution_count": 18
  },
  {
   "cell_type": "code",
   "metadata": {
    "ExecuteTime": {
     "end_time": "2024-08-18T03:22:44.482134Z",
     "start_time": "2024-08-18T03:22:44.472140Z"
    }
   },
   "source": [
    "# 2. 오름차순으로 데이터를 정렬하기\n",
    "pd.merge(customer, orders, on='customer_id', how='right').groupby('item').sum().sort_values(by='quantity', ascending=False)"
   ],
   "id": "2fbc90975f261e81",
   "outputs": [
    {
     "ename": "NameError",
     "evalue": "name 'customer' is not defined",
     "output_type": "error",
     "traceback": [
      "\u001B[0;31m---------------------------------------------------------------------------\u001B[0m",
      "\u001B[0;31mNameError\u001B[0m                                 Traceback (most recent call last)",
      "Cell \u001B[0;32mIn[19], line 2\u001B[0m\n\u001B[1;32m      1\u001B[0m \u001B[38;5;66;03m# 2. 오름차순으로 데이터를 정렬하기\u001B[39;00m\n\u001B[0;32m----> 2\u001B[0m pd\u001B[38;5;241m.\u001B[39mmerge(customer, orders, on\u001B[38;5;241m=\u001B[39m\u001B[38;5;124m'\u001B[39m\u001B[38;5;124mcustomer_id\u001B[39m\u001B[38;5;124m'\u001B[39m, how\u001B[38;5;241m=\u001B[39m\u001B[38;5;124m'\u001B[39m\u001B[38;5;124mright\u001B[39m\u001B[38;5;124m'\u001B[39m)\u001B[38;5;241m.\u001B[39mgroupby(\u001B[38;5;124m'\u001B[39m\u001B[38;5;124mitem\u001B[39m\u001B[38;5;124m'\u001B[39m)\u001B[38;5;241m.\u001B[39msum()\u001B[38;5;241m.\u001B[39msort_values(by\u001B[38;5;241m=\u001B[39m\u001B[38;5;124m'\u001B[39m\u001B[38;5;124mquantity\u001B[39m\u001B[38;5;124m'\u001B[39m, ascending\u001B[38;5;241m=\u001B[39m\u001B[38;5;28;01mFalse\u001B[39;00m)\n",
      "\u001B[0;31mNameError\u001B[0m: name 'customer' is not defined"
     ]
    }
   ],
   "execution_count": 19
  },
  {
   "cell_type": "code",
   "metadata": {
    "ExecuteTime": {
     "end_time": "2024-08-18T03:22:44.510636Z",
     "start_time": "2024-08-18T03:22:44.501949Z"
    }
   },
   "source": [
    "# 문제 06. 정답 : 마우스\n",
    "pd.merge(customer, orders, on='customer_id', how='inner').groupby(['name','item']).sum().loc['Elly']"
   ],
   "id": "d272a50f82a777e1",
   "outputs": [
    {
     "ename": "NameError",
     "evalue": "name 'customer' is not defined",
     "output_type": "error",
     "traceback": [
      "\u001B[0;31m---------------------------------------------------------------------------\u001B[0m",
      "\u001B[0;31mNameError\u001B[0m                                 Traceback (most recent call last)",
      "Cell \u001B[0;32mIn[20], line 2\u001B[0m\n\u001B[1;32m      1\u001B[0m \u001B[38;5;66;03m# 문제 06. 정답 : 마우스\u001B[39;00m\n\u001B[0;32m----> 2\u001B[0m pd\u001B[38;5;241m.\u001B[39mmerge(customer, orders, on\u001B[38;5;241m=\u001B[39m\u001B[38;5;124m'\u001B[39m\u001B[38;5;124mcustomer_id\u001B[39m\u001B[38;5;124m'\u001B[39m, how\u001B[38;5;241m=\u001B[39m\u001B[38;5;124m'\u001B[39m\u001B[38;5;124minner\u001B[39m\u001B[38;5;124m'\u001B[39m)\u001B[38;5;241m.\u001B[39mgroupby([\u001B[38;5;124m'\u001B[39m\u001B[38;5;124mname\u001B[39m\u001B[38;5;124m'\u001B[39m,\u001B[38;5;124m'\u001B[39m\u001B[38;5;124mitem\u001B[39m\u001B[38;5;124m'\u001B[39m])\u001B[38;5;241m.\u001B[39msum()\u001B[38;5;241m.\u001B[39mloc[\u001B[38;5;124m'\u001B[39m\u001B[38;5;124mElly\u001B[39m\u001B[38;5;124m'\u001B[39m]\n",
      "\u001B[0;31mNameError\u001B[0m: name 'customer' is not defined"
     ]
    }
   ],
   "execution_count": 20
  },
  {
   "cell_type": "code",
   "metadata": {
    "ExecuteTime": {
     "end_time": "2024-08-18T03:22:44.604608Z",
     "start_time": "2024-08-18T03:22:44.603285Z"
    }
   },
   "source": [],
   "id": "1af7ebc03b7ccd6d",
   "outputs": [],
   "execution_count": 20
  }
 ],
 "metadata": {
  "hide_input": false,
  "kernelspec": {
   "display_name": "Python 3",
   "language": "python",
   "name": "python3"
  },
  "language_info": {
   "codemirror_mode": {
    "name": "ipython",
    "version": 3
   },
   "file_extension": ".py",
   "mimetype": "text/x-python",
   "name": "python",
   "nbconvert_exporter": "python",
   "pygments_lexer": "ipython3",
   "version": "3.8.5"
  },
  "toc": {
   "base_numbering": 1,
   "nav_menu": {},
   "number_sections": true,
   "sideBar": true,
   "skip_h1_title": false,
   "title_cell": "Table of Contents",
   "title_sidebar": "Contents",
   "toc_cell": false,
   "toc_position": {},
   "toc_section_display": true,
   "toc_window_display": false
  },
  "varInspector": {
   "cols": {
    "lenName": 16,
    "lenType": 16,
    "lenVar": 40
   },
   "kernels_config": {
    "python": {
     "delete_cmd_postfix": "",
     "delete_cmd_prefix": "del ",
     "library": "var_list.py",
     "varRefreshCmd": "print(var_dic_list())"
    },
    "r": {
     "delete_cmd_postfix": ") ",
     "delete_cmd_prefix": "rm(",
     "library": "var_list.r",
     "varRefreshCmd": "cat(var_dic_list()) "
    }
   },
   "types_to_exclude": [
    "module",
    "function",
    "builtin_function_or_method",
    "instance",
    "_Feature"
   ],
   "window_display": false
  }
 },
 "nbformat": 4,
 "nbformat_minor": 5
}
