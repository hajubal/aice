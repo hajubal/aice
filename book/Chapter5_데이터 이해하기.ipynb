{
 "cells": [
  {
   "cell_type": "markdown",
   "metadata": {
    "id": "KEWl1t97jzT6"
   },
   "source": [
    "# SECTION 01. 지표로 데이터 탐색하기"
   ]
  },
  {
   "cell_type": "markdown",
   "metadata": {
    "id": "LuiekePXyQDT"
   },
   "source": [
    "## 1. 일변량 비시각화 탐색하기"
   ]
  },
  {
   "cell_type": "markdown",
   "metadata": {
    "id": "TkWRE52Q0Yls"
   },
   "source": [
    "### 1) 요약통계량 확인하기"
   ]
  },
  {
   "cell_type": "code",
   "metadata": {
    "id": "AVD5NgtugweS",
    "ExecuteTime": {
     "end_time": "2024-08-18T03:23:28.860192Z",
     "start_time": "2024-08-18T03:23:28.421332Z"
    }
   },
   "source": [
    "# 판다스 불러오기\n",
    "import pandas as pd\n",
    "\n",
    "# 데이터 읽어오기\n",
    "df=pd.read_csv(\"Clean_Dataset.csv\")\n",
    "\n",
    "# 지정 인덱스인 첫번째 칼럼 삭제하기\n",
    "df.drop([df.columns[0]], axis=1, inplace=True)"
   ],
   "outputs": [
    {
     "ename": "FileNotFoundError",
     "evalue": "[Errno 2] No such file or directory: 'Clean_Dataset.csv'",
     "output_type": "error",
     "traceback": [
      "\u001B[0;31m---------------------------------------------------------------------------\u001B[0m",
      "\u001B[0;31mFileNotFoundError\u001B[0m                         Traceback (most recent call last)",
      "Cell \u001B[0;32mIn[1], line 5\u001B[0m\n\u001B[1;32m      2\u001B[0m \u001B[38;5;28;01mimport\u001B[39;00m \u001B[38;5;21;01mpandas\u001B[39;00m \u001B[38;5;28;01mas\u001B[39;00m \u001B[38;5;21;01mpd\u001B[39;00m\n\u001B[1;32m      4\u001B[0m \u001B[38;5;66;03m# 데이터 읽어오기\u001B[39;00m\n\u001B[0;32m----> 5\u001B[0m df\u001B[38;5;241m=\u001B[39mpd\u001B[38;5;241m.\u001B[39mread_csv(\u001B[38;5;124m\"\u001B[39m\u001B[38;5;124mClean_Dataset.csv\u001B[39m\u001B[38;5;124m\"\u001B[39m)\n\u001B[1;32m      7\u001B[0m \u001B[38;5;66;03m# 지정 인덱스인 첫번째 칼럼 삭제하기\u001B[39;00m\n\u001B[1;32m      8\u001B[0m df\u001B[38;5;241m.\u001B[39mdrop([df\u001B[38;5;241m.\u001B[39mcolumns[\u001B[38;5;241m0\u001B[39m]], axis\u001B[38;5;241m=\u001B[39m\u001B[38;5;241m1\u001B[39m, inplace\u001B[38;5;241m=\u001B[39m\u001B[38;5;28;01mTrue\u001B[39;00m)\n",
      "File \u001B[0;32m~/anaconda3/envs/pythonEdu/lib/python3.11/site-packages/pandas/io/parsers/readers.py:948\u001B[0m, in \u001B[0;36mread_csv\u001B[0;34m(filepath_or_buffer, sep, delimiter, header, names, index_col, usecols, dtype, engine, converters, true_values, false_values, skipinitialspace, skiprows, skipfooter, nrows, na_values, keep_default_na, na_filter, verbose, skip_blank_lines, parse_dates, infer_datetime_format, keep_date_col, date_parser, date_format, dayfirst, cache_dates, iterator, chunksize, compression, thousands, decimal, lineterminator, quotechar, quoting, doublequote, escapechar, comment, encoding, encoding_errors, dialect, on_bad_lines, delim_whitespace, low_memory, memory_map, float_precision, storage_options, dtype_backend)\u001B[0m\n\u001B[1;32m    935\u001B[0m kwds_defaults \u001B[38;5;241m=\u001B[39m _refine_defaults_read(\n\u001B[1;32m    936\u001B[0m     dialect,\n\u001B[1;32m    937\u001B[0m     delimiter,\n\u001B[0;32m   (...)\u001B[0m\n\u001B[1;32m    944\u001B[0m     dtype_backend\u001B[38;5;241m=\u001B[39mdtype_backend,\n\u001B[1;32m    945\u001B[0m )\n\u001B[1;32m    946\u001B[0m kwds\u001B[38;5;241m.\u001B[39mupdate(kwds_defaults)\n\u001B[0;32m--> 948\u001B[0m \u001B[38;5;28;01mreturn\u001B[39;00m _read(filepath_or_buffer, kwds)\n",
      "File \u001B[0;32m~/anaconda3/envs/pythonEdu/lib/python3.11/site-packages/pandas/io/parsers/readers.py:611\u001B[0m, in \u001B[0;36m_read\u001B[0;34m(filepath_or_buffer, kwds)\u001B[0m\n\u001B[1;32m    608\u001B[0m _validate_names(kwds\u001B[38;5;241m.\u001B[39mget(\u001B[38;5;124m\"\u001B[39m\u001B[38;5;124mnames\u001B[39m\u001B[38;5;124m\"\u001B[39m, \u001B[38;5;28;01mNone\u001B[39;00m))\n\u001B[1;32m    610\u001B[0m \u001B[38;5;66;03m# Create the parser.\u001B[39;00m\n\u001B[0;32m--> 611\u001B[0m parser \u001B[38;5;241m=\u001B[39m TextFileReader(filepath_or_buffer, \u001B[38;5;241m*\u001B[39m\u001B[38;5;241m*\u001B[39mkwds)\n\u001B[1;32m    613\u001B[0m \u001B[38;5;28;01mif\u001B[39;00m chunksize \u001B[38;5;129;01mor\u001B[39;00m iterator:\n\u001B[1;32m    614\u001B[0m     \u001B[38;5;28;01mreturn\u001B[39;00m parser\n",
      "File \u001B[0;32m~/anaconda3/envs/pythonEdu/lib/python3.11/site-packages/pandas/io/parsers/readers.py:1448\u001B[0m, in \u001B[0;36mTextFileReader.__init__\u001B[0;34m(self, f, engine, **kwds)\u001B[0m\n\u001B[1;32m   1445\u001B[0m     \u001B[38;5;28mself\u001B[39m\u001B[38;5;241m.\u001B[39moptions[\u001B[38;5;124m\"\u001B[39m\u001B[38;5;124mhas_index_names\u001B[39m\u001B[38;5;124m\"\u001B[39m] \u001B[38;5;241m=\u001B[39m kwds[\u001B[38;5;124m\"\u001B[39m\u001B[38;5;124mhas_index_names\u001B[39m\u001B[38;5;124m\"\u001B[39m]\n\u001B[1;32m   1447\u001B[0m \u001B[38;5;28mself\u001B[39m\u001B[38;5;241m.\u001B[39mhandles: IOHandles \u001B[38;5;241m|\u001B[39m \u001B[38;5;28;01mNone\u001B[39;00m \u001B[38;5;241m=\u001B[39m \u001B[38;5;28;01mNone\u001B[39;00m\n\u001B[0;32m-> 1448\u001B[0m \u001B[38;5;28mself\u001B[39m\u001B[38;5;241m.\u001B[39m_engine \u001B[38;5;241m=\u001B[39m \u001B[38;5;28mself\u001B[39m\u001B[38;5;241m.\u001B[39m_make_engine(f, \u001B[38;5;28mself\u001B[39m\u001B[38;5;241m.\u001B[39mengine)\n",
      "File \u001B[0;32m~/anaconda3/envs/pythonEdu/lib/python3.11/site-packages/pandas/io/parsers/readers.py:1705\u001B[0m, in \u001B[0;36mTextFileReader._make_engine\u001B[0;34m(self, f, engine)\u001B[0m\n\u001B[1;32m   1703\u001B[0m     \u001B[38;5;28;01mif\u001B[39;00m \u001B[38;5;124m\"\u001B[39m\u001B[38;5;124mb\u001B[39m\u001B[38;5;124m\"\u001B[39m \u001B[38;5;129;01mnot\u001B[39;00m \u001B[38;5;129;01min\u001B[39;00m mode:\n\u001B[1;32m   1704\u001B[0m         mode \u001B[38;5;241m+\u001B[39m\u001B[38;5;241m=\u001B[39m \u001B[38;5;124m\"\u001B[39m\u001B[38;5;124mb\u001B[39m\u001B[38;5;124m\"\u001B[39m\n\u001B[0;32m-> 1705\u001B[0m \u001B[38;5;28mself\u001B[39m\u001B[38;5;241m.\u001B[39mhandles \u001B[38;5;241m=\u001B[39m get_handle(\n\u001B[1;32m   1706\u001B[0m     f,\n\u001B[1;32m   1707\u001B[0m     mode,\n\u001B[1;32m   1708\u001B[0m     encoding\u001B[38;5;241m=\u001B[39m\u001B[38;5;28mself\u001B[39m\u001B[38;5;241m.\u001B[39moptions\u001B[38;5;241m.\u001B[39mget(\u001B[38;5;124m\"\u001B[39m\u001B[38;5;124mencoding\u001B[39m\u001B[38;5;124m\"\u001B[39m, \u001B[38;5;28;01mNone\u001B[39;00m),\n\u001B[1;32m   1709\u001B[0m     compression\u001B[38;5;241m=\u001B[39m\u001B[38;5;28mself\u001B[39m\u001B[38;5;241m.\u001B[39moptions\u001B[38;5;241m.\u001B[39mget(\u001B[38;5;124m\"\u001B[39m\u001B[38;5;124mcompression\u001B[39m\u001B[38;5;124m\"\u001B[39m, \u001B[38;5;28;01mNone\u001B[39;00m),\n\u001B[1;32m   1710\u001B[0m     memory_map\u001B[38;5;241m=\u001B[39m\u001B[38;5;28mself\u001B[39m\u001B[38;5;241m.\u001B[39moptions\u001B[38;5;241m.\u001B[39mget(\u001B[38;5;124m\"\u001B[39m\u001B[38;5;124mmemory_map\u001B[39m\u001B[38;5;124m\"\u001B[39m, \u001B[38;5;28;01mFalse\u001B[39;00m),\n\u001B[1;32m   1711\u001B[0m     is_text\u001B[38;5;241m=\u001B[39mis_text,\n\u001B[1;32m   1712\u001B[0m     errors\u001B[38;5;241m=\u001B[39m\u001B[38;5;28mself\u001B[39m\u001B[38;5;241m.\u001B[39moptions\u001B[38;5;241m.\u001B[39mget(\u001B[38;5;124m\"\u001B[39m\u001B[38;5;124mencoding_errors\u001B[39m\u001B[38;5;124m\"\u001B[39m, \u001B[38;5;124m\"\u001B[39m\u001B[38;5;124mstrict\u001B[39m\u001B[38;5;124m\"\u001B[39m),\n\u001B[1;32m   1713\u001B[0m     storage_options\u001B[38;5;241m=\u001B[39m\u001B[38;5;28mself\u001B[39m\u001B[38;5;241m.\u001B[39moptions\u001B[38;5;241m.\u001B[39mget(\u001B[38;5;124m\"\u001B[39m\u001B[38;5;124mstorage_options\u001B[39m\u001B[38;5;124m\"\u001B[39m, \u001B[38;5;28;01mNone\u001B[39;00m),\n\u001B[1;32m   1714\u001B[0m )\n\u001B[1;32m   1715\u001B[0m \u001B[38;5;28;01massert\u001B[39;00m \u001B[38;5;28mself\u001B[39m\u001B[38;5;241m.\u001B[39mhandles \u001B[38;5;129;01mis\u001B[39;00m \u001B[38;5;129;01mnot\u001B[39;00m \u001B[38;5;28;01mNone\u001B[39;00m\n\u001B[1;32m   1716\u001B[0m f \u001B[38;5;241m=\u001B[39m \u001B[38;5;28mself\u001B[39m\u001B[38;5;241m.\u001B[39mhandles\u001B[38;5;241m.\u001B[39mhandle\n",
      "File \u001B[0;32m~/anaconda3/envs/pythonEdu/lib/python3.11/site-packages/pandas/io/common.py:863\u001B[0m, in \u001B[0;36mget_handle\u001B[0;34m(path_or_buf, mode, encoding, compression, memory_map, is_text, errors, storage_options)\u001B[0m\n\u001B[1;32m    858\u001B[0m \u001B[38;5;28;01melif\u001B[39;00m \u001B[38;5;28misinstance\u001B[39m(handle, \u001B[38;5;28mstr\u001B[39m):\n\u001B[1;32m    859\u001B[0m     \u001B[38;5;66;03m# Check whether the filename is to be opened in binary mode.\u001B[39;00m\n\u001B[1;32m    860\u001B[0m     \u001B[38;5;66;03m# Binary mode does not support 'encoding' and 'newline'.\u001B[39;00m\n\u001B[1;32m    861\u001B[0m     \u001B[38;5;28;01mif\u001B[39;00m ioargs\u001B[38;5;241m.\u001B[39mencoding \u001B[38;5;129;01mand\u001B[39;00m \u001B[38;5;124m\"\u001B[39m\u001B[38;5;124mb\u001B[39m\u001B[38;5;124m\"\u001B[39m \u001B[38;5;129;01mnot\u001B[39;00m \u001B[38;5;129;01min\u001B[39;00m ioargs\u001B[38;5;241m.\u001B[39mmode:\n\u001B[1;32m    862\u001B[0m         \u001B[38;5;66;03m# Encoding\u001B[39;00m\n\u001B[0;32m--> 863\u001B[0m         handle \u001B[38;5;241m=\u001B[39m \u001B[38;5;28mopen\u001B[39m(\n\u001B[1;32m    864\u001B[0m             handle,\n\u001B[1;32m    865\u001B[0m             ioargs\u001B[38;5;241m.\u001B[39mmode,\n\u001B[1;32m    866\u001B[0m             encoding\u001B[38;5;241m=\u001B[39mioargs\u001B[38;5;241m.\u001B[39mencoding,\n\u001B[1;32m    867\u001B[0m             errors\u001B[38;5;241m=\u001B[39merrors,\n\u001B[1;32m    868\u001B[0m             newline\u001B[38;5;241m=\u001B[39m\u001B[38;5;124m\"\u001B[39m\u001B[38;5;124m\"\u001B[39m,\n\u001B[1;32m    869\u001B[0m         )\n\u001B[1;32m    870\u001B[0m     \u001B[38;5;28;01melse\u001B[39;00m:\n\u001B[1;32m    871\u001B[0m         \u001B[38;5;66;03m# Binary mode\u001B[39;00m\n\u001B[1;32m    872\u001B[0m         handle \u001B[38;5;241m=\u001B[39m \u001B[38;5;28mopen\u001B[39m(handle, ioargs\u001B[38;5;241m.\u001B[39mmode)\n",
      "\u001B[0;31mFileNotFoundError\u001B[0m: [Errno 2] No such file or directory: 'Clean_Dataset.csv'"
     ]
    }
   ],
   "execution_count": 1
  },
  {
   "cell_type": "code",
   "metadata": {
    "colab": {
     "base_uri": "https://localhost:8080/",
     "height": 300
    },
    "executionInfo": {
     "elapsed": 420,
     "status": "ok",
     "timestamp": 1675405521318,
     "user": {
      "displayName": "김운호",
      "userId": "09296731886450682327"
     },
     "user_tz": -540
    },
    "id": "lCaPja8ch0nN",
    "outputId": "3a1d286a-3ba5-4bae-caa7-6b08c98580f4"
   },
   "source": [
    "# 수치형 데이터의 요약통계량 확인하기\n",
    "df.describe()"
   ],
   "outputs": [],
   "execution_count": null
  },
  {
   "cell_type": "code",
   "metadata": {
    "id": "yXB4RdVrcixL",
    "outputId": "6dfed473-5568-4e94-fd8b-6fb4aad7eb13"
   },
   "source": [
    "# 전체 칼럼의 요약통계량 확인하기\n",
    "df.describe(include='all')"
   ],
   "outputs": [],
   "execution_count": null
  },
  {
   "cell_type": "markdown",
   "metadata": {
    "id": "ws5-Jrhq0q3_"
   },
   "source": [
    "### 2) 빈도표 확인하기"
   ]
  },
  {
   "cell_type": "code",
   "metadata": {
    "colab": {
     "base_uri": "https://localhost:8080/"
    },
    "executionInfo": {
     "elapsed": 511,
     "status": "ok",
     "timestamp": 1675405525916,
     "user": {
      "displayName": "김운호",
      "userId": "09296731886450682327"
     },
     "user_tz": -540
    },
    "id": "GfTZXKw7h1GS",
    "outputId": "a5c61c23-290a-4c02-9903-d50d67dd8fd5"
   },
   "source": [
    "# airline, source_city, destination_city의 빈도표 확인하기\n",
    "print(df[\"airline\"].value_counts())\n",
    "print(df[\"source_city\"].value_counts())\n",
    "print(df[\"destination_city\"].value_counts())"
   ],
   "outputs": [],
   "execution_count": null
  },
  {
   "cell_type": "markdown",
   "metadata": {
    "id": "zBU--91qjtA8"
   },
   "source": [
    "## 2. 다변량 비시각화 탐색하기"
   ]
  },
  {
   "cell_type": "markdown",
   "metadata": {
    "id": "Exi8TD220w9q"
   },
   "source": [
    "### 1) 상관계수 확인하기"
   ]
  },
  {
   "cell_type": "code",
   "metadata": {
    "colab": {
     "base_uri": "https://localhost:8080/",
     "height": 143
    },
    "executionInfo": {
     "elapsed": 3,
     "status": "ok",
     "timestamp": 1675405528461,
     "user": {
      "displayName": "김운호",
      "userId": "09296731886450682327"
     },
     "user_tz": -540
    },
    "id": "nR3BUBpMh6Da",
    "outputId": "dfd098cc-8ad7-4041-ec7a-730d9d1c20cc"
   },
   "source": [
    "# 데이터의 상관계수 확인하기\n",
    "df.corr()"
   ],
   "outputs": [],
   "execution_count": null
  },
  {
   "cell_type": "code",
   "metadata": {
    "colab": {
     "base_uri": "https://localhost:8080/",
     "height": 143
    },
    "executionInfo": {
     "elapsed": 4,
     "status": "ok",
     "timestamp": 1675405530628,
     "user": {
      "displayName": "김운호",
      "userId": "09296731886450682327"
     },
     "user_tz": -540
    },
    "id": "XgYIuVZDh-Vx",
    "outputId": "d01d96d1-087b-4881-ffd6-62b59da02504"
   },
   "source": [
    "# class를 Economy로 한정하여 새로운 데이터프레임 df_eco 생성하기\n",
    "df_eco=df[(df['class']=='Economy')]\n",
    "\n",
    "# df_eco의 상관계수 확인하기\n",
    "df_eco.corr()"
   ],
   "outputs": [],
   "execution_count": null
  },
  {
   "cell_type": "markdown",
   "metadata": {
    "id": "Diyte7Yq042v"
   },
   "source": [
    "### 2) 교차표 확인하기"
   ]
  },
  {
   "cell_type": "code",
   "metadata": {
    "colab": {
     "base_uri": "https://localhost:8080/",
     "height": 269
    },
    "executionInfo": {
     "elapsed": 5,
     "status": "ok",
     "timestamp": 1675405534420,
     "user": {
      "displayName": "김운호",
      "userId": "09296731886450682327"
     },
     "user_tz": -540
    },
    "id": "Gfk2CjgyiAbC",
    "outputId": "6d18110c-1fab-4aec-976b-ea87c4c532f7"
   },
   "source": [
    "# source_city와 departure_time 두 범주형 변수의 변수간의 관계 확인하기\n",
    "pd.crosstab(df['source_city'], df['departure_time'])"
   ],
   "outputs": [],
   "execution_count": null
  },
  {
   "cell_type": "markdown",
   "metadata": {
    "id": "d7AqhQlOje4R"
   },
   "source": [
    "# SECTION 02. 시각화로 데이터 탐색하기"
   ]
  },
  {
   "cell_type": "markdown",
   "metadata": {
    "id": "XcNhrt4AywF2"
   },
   "source": [
    "##  1. 일변량 시각화 탐색(Maplotlib)하기"
   ]
  },
  {
   "cell_type": "markdown",
   "metadata": {
    "id": "OqTu7xh209Bd"
   },
   "source": [
    "### 1) 선 그래프 (line plot)"
   ]
  },
  {
   "cell_type": "code",
   "metadata": {
    "colab": {
     "base_uri": "https://localhost:8080/",
     "height": 238
    },
    "executionInfo": {
     "elapsed": 5,
     "status": "ok",
     "timestamp": 1675405537595,
     "user": {
      "displayName": "김운호",
      "userId": "09296731886450682327"
     },
     "user_tz": -540
    },
    "id": "i4TJ1gU0iEm5",
    "outputId": "ba23af7f-9a17-4072-881c-88eccfebe2b9"
   },
   "source": [
    "# days_left별 평균 데이터 만들기\n",
    "days_left=df.groupby('days_left').mean()\n",
    "days_left.head()"
   ],
   "outputs": [],
   "execution_count": null
  },
  {
   "cell_type": "code",
   "metadata": {
    "colab": {
     "base_uri": "https://localhost:8080/",
     "height": 280
    },
    "executionInfo": {
     "elapsed": 469,
     "status": "ok",
     "timestamp": 1675405540516,
     "user": {
      "displayName": "김운호",
      "userId": "09296731886450682327"
     },
     "user_tz": -540
    },
    "id": "PfXQdHNfiHtS",
    "outputId": "3e2e6fa3-7853-4edc-c4ac-854ffa9c3588"
   },
   "source": [
    "# 시각화 라이브러리 불러오기\n",
    "import matplotlib.pyplot as plt\n",
    "\n",
    "# 시각화 영역(figure) 지정하기\n",
    "plt.figure()\n",
    "\n",
    "# days_left의 price 데이터로 선 그래프 그리기\n",
    "plt.plot(days_left['price'])\n",
    "\n",
    "# X축 이름 지정하기\n",
    "plt.xlabel(\"Days_left\")\n",
    "\n",
    "# Y축 이름 지정하기\n",
    "plt.ylabel(\"Price\")\n",
    "\n",
    "# 시각화 표기하기\n",
    "plt.show()"
   ],
   "outputs": [],
   "execution_count": null
  },
  {
   "cell_type": "markdown",
   "metadata": {
    "id": "EOLSonMc1Mc7"
   },
   "source": [
    "### 2) 막대 그래프(bar plot)"
   ]
  },
  {
   "cell_type": "code",
   "metadata": {
    "colab": {
     "base_uri": "https://localhost:8080/",
     "height": 269
    },
    "executionInfo": {
     "elapsed": 4,
     "status": "ok",
     "timestamp": 1675405543631,
     "user": {
      "displayName": "김운호",
      "userId": "09296731886450682327"
     },
     "user_tz": -540
    },
    "id": "bBORAgAEisB8",
    "outputId": "8aa22290-c873-4912-b24c-0a392d7f585f"
   },
   "source": [
    "# airline별 평균 데이터 만들기\n",
    "airline=df.groupby(['airline']).mean()\n",
    "airline"
   ],
   "outputs": [],
   "execution_count": null
  },
  {
   "cell_type": "code",
   "metadata": {
    "colab": {
     "base_uri": "https://localhost:8080/",
     "height": 280
    },
    "executionInfo": {
     "elapsed": 3,
     "status": "ok",
     "timestamp": 1675405546301,
     "user": {
      "displayName": "김운호",
      "userId": "09296731886450682327"
     },
     "user_tz": -540
    },
    "id": "ZtW3WYrviueJ",
    "outputId": "eda82db6-fa1f-48e9-c861-adabf745a23a"
   },
   "source": [
    "# 인덱스를 리스트로 만들기\n",
    "label = airline.index\n",
    "\n",
    "plt.figure()\n",
    "\n",
    "# 인덱스를 X, 평균가격을 Y로 하는 막대 그래프 그리기\n",
    "plt.bar(label, airline['price'])\n",
    "plt.xlabel(\"Airline\")\n",
    "plt.ylabel(\"Price\")\n",
    "plt.show()"
   ],
   "outputs": [],
   "execution_count": null
  },
  {
   "cell_type": "markdown",
   "metadata": {
    "id": "-wcWtL4F1JdZ"
   },
   "source": [
    "### 3) 파이 그래프(pie plot)"
   ]
  },
  {
   "cell_type": "code",
   "metadata": {
    "colab": {
     "base_uri": "https://localhost:8080/",
     "height": 357
    },
    "executionInfo": {
     "elapsed": 582,
     "status": "ok",
     "timestamp": 1675405560566,
     "user": {
      "displayName": "김운호",
      "userId": "09296731886450682327"
     },
     "user_tz": -540
    },
    "id": "y54WcjE8i-py",
    "outputId": "42277cc2-996e-4a52-83fd-0438d352a8db"
   },
   "source": [
    "# departure_time 빈도표 데이터 만들기\n",
    "departure_time=df['departure_time'].value_counts()\n",
    "\n",
    "plt.figure(figsize=(10,6))\n",
    "\n",
    "# departure_time 빈도표 데이터로 파이 그래프 그리기\n",
    "plt.pie(departure_time, labels=departure_time.index, autopct='%.1f%%')\n",
    "plt.show()"
   ],
   "outputs": [],
   "execution_count": null
  },
  {
   "cell_type": "markdown",
   "metadata": {
    "id": "XkDe-FZW1Vc_"
   },
   "source": [
    "### 4) 도수분포표(histogram)"
   ]
  },
  {
   "cell_type": "code",
   "metadata": {
    "colab": {
     "base_uri": "https://localhost:8080/",
     "height": 279
    },
    "executionInfo": {
     "elapsed": 643,
     "status": "ok",
     "timestamp": 1675405564738,
     "user": {
      "displayName": "김운호",
      "userId": "09296731886450682327"
     },
     "user_tz": -540
    },
    "id": "xGTgM8jljBJp",
    "outputId": "b99e4011-fd81-4829-9d75-13e319b61eff"
   },
   "source": [
    "plt.figure()\n",
    "\n",
    "# duration을 20개 구간으로 나눠서 히스토그램 그리기\n",
    "plt.hist(df['duration'], bins=10)\n",
    "\n",
    "# duration을 10개 구간으로 나눠서 히스토그램 그리기\n",
    "plt.hist(df['duration'], bins=20)\n",
    "plt.xlabel(\"Duration\")\n",
    "plt.ylabel(\"Flights\")\n",
    "\n",
    "# 동시에 2개의 그래프를 하나의 시각화 영역에 그려 범례 지정하기\n",
    "plt.legend((\"Bin 10\", \"Bin 20\"))\n",
    "plt.show()"
   ],
   "outputs": [],
   "execution_count": null
  },
  {
   "cell_type": "markdown",
   "metadata": {
    "id": "LPNTw_lH1ajs"
   },
   "source": [
    "### 5) 상자 그래프(box plot)"
   ]
  },
  {
   "cell_type": "code",
   "metadata": {
    "colab": {
     "base_uri": "https://localhost:8080/",
     "height": 265
    },
    "executionInfo": {
     "elapsed": 4,
     "status": "ok",
     "timestamp": 1675405567809,
     "user": {
      "displayName": "김운호",
      "userId": "09296731886450682327"
     },
     "user_tz": -540
    },
    "id": "8s97s124jDrq",
    "outputId": "a69eea7d-47ae-430a-fd78-feb30ec80a35"
   },
   "source": [
    "plt.figure()\n",
    "\n",
    "# Price 칼럼에 대한 상자 그래프 그리기\n",
    "plt.boxplot(list(df['price']))\n",
    "plt.ylabel(\"price\")\n",
    "plt.show()"
   ],
   "outputs": [],
   "execution_count": null
  },
  {
   "cell_type": "code",
   "metadata": {
    "colab": {
     "base_uri": "https://localhost:8080/",
     "height": 617
    },
    "executionInfo": {
     "elapsed": 1191,
     "status": "ok",
     "timestamp": 1675405574109,
     "user": {
      "displayName": "김운호",
      "userId": "09296731886450682327"
     },
     "user_tz": -540
    },
    "id": "-gaLBCbUjHrx",
    "outputId": "449c49a8-3aa2-4b7a-9f1b-8195e5575cd8"
   },
   "source": [
    "# departure_time별로 price에 대한 상자 그래프 그리기\n",
    "df.boxplot(by=\"departure_time\", column=\"price\", figsize=(10,8))"
   ],
   "outputs": [],
   "execution_count": null
  },
  {
   "cell_type": "markdown",
   "metadata": {
    "id": "4tCSC-J2jMVL"
   },
   "source": [
    "## 2. 다변량 시각화 탐색하기"
   ]
  },
  {
   "cell_type": "markdown",
   "metadata": {
    "id": "hWKh5vdk1jOH"
   },
   "source": [
    "### 1) 산점도(scatter plot)"
   ]
  },
  {
   "cell_type": "code",
   "metadata": {
    "colab": {
     "base_uri": "https://localhost:8080/",
     "height": 433
    },
    "executionInfo": {
     "elapsed": 1199,
     "status": "ok",
     "timestamp": 1675405577967,
     "user": {
      "displayName": "김운호",
      "userId": "09296731886450682327"
     },
     "user_tz": -540
    },
    "id": "TaQMKn-njVPZ",
    "outputId": "00e63026-da03-411a-ec31-32eff17fc492"
   },
   "source": [
    "plt.figure(figsize=(16,8))\n",
    "\n",
    "# price와 dration간의 산점도 그리기\n",
    "plt.scatter(y=df[\"price\"], x=df[\"duration\"])\n",
    "plt.xlabel(\"Duration\")\n",
    "plt.ylabel(\"Price\")\n",
    "plt.show()"
   ],
   "outputs": [],
   "execution_count": null
  },
  {
   "cell_type": "code",
   "metadata": {
    "colab": {
     "base_uri": "https://localhost:8080/",
     "height": 340
    },
    "executionInfo": {
     "elapsed": 610,
     "status": "ok",
     "timestamp": 1675405580357,
     "user": {
      "displayName": "김운호",
      "userId": "09296731886450682327"
     },
     "user_tz": -540
    },
    "id": "xj-VDZjijW1Z",
    "outputId": "30334b80-8422-419c-f55e-3fb7035c309f"
   },
   "source": [
    "plt.figure(figsize=(16,6))\n",
    "\n",
    "# \"Economy\" Class에 대한 price와 duration간의 산점도 그리기\n",
    "plt.scatter(y=df_eco[\"price\"], x=df_eco[\"duration\"])\n",
    "plt.xlabel(\"Duration\")\n",
    "plt.ylabel(\"Price\")\n",
    "plt.show()"
   ],
   "outputs": [],
   "execution_count": null
  },
  {
   "cell_type": "markdown",
   "metadata": {
    "id": "eEB5cTlU1n3c"
   },
   "source": [
    "### 2) 히트맵(heatmap)"
   ]
  },
  {
   "cell_type": "code",
   "metadata": {
    "colab": {
     "base_uri": "https://localhost:8080/",
     "height": 270
    },
    "executionInfo": {
     "elapsed": 4,
     "status": "ok",
     "timestamp": 1675405583794,
     "user": {
      "displayName": "김운호",
      "userId": "09296731886450682327"
     },
     "user_tz": -540
    },
    "id": "H_Y3PZcLkHlr",
    "outputId": "23a56286-a1b2-4a76-95f1-471bc0a0c51e"
   },
   "source": [
    "# numpy 불러오기\n",
    "import numpy as np\n",
    "\n",
    "# 상관계수 데이터 만들기\n",
    "heat=df_eco.corr()\n",
    "\n",
    "# 상관계수로 heatmap그리기\n",
    "plt.pcolor(heat)\n",
    "\n",
    "# x축 항목 정보 표기하기\n",
    "plt.xticks(np.arange(0.5, len(heat.columns), 1), heat.columns)\n",
    "\n",
    "# y축 항목 정보 표기하기\n",
    "plt.yticks(np.arange(0.5, len(heat.index), 1), heat.index)\n",
    "\n",
    "# 히트맵 확인을 위한 컬러바 표기하기\n",
    "plt.colorbar()\n",
    "plt.show()"
   ],
   "outputs": [],
   "execution_count": null
  },
  {
   "attachments": {},
   "cell_type": "markdown",
   "metadata": {
    "id": "PHcqJSkwkMdj"
   },
   "source": [
    "## 3. maplotlib 활용하기"
   ]
  },
  {
   "attachments": {},
   "cell_type": "markdown",
   "metadata": {
    "id": "PqwDe-EukP9i"
   },
   "source": [
    "## 4. seaborn시각화 라이브러리 활용하기"
   ]
  },
  {
   "cell_type": "markdown",
   "metadata": {
    "id": "9-wpWd0_1076"
   },
   "source": [
    "### 1) 범주형 산점도(categorical plot)"
   ]
  },
  {
   "cell_type": "code",
   "metadata": {
    "colab": {
     "base_uri": "https://localhost:8080/",
     "height": 387
    },
    "executionInfo": {
     "elapsed": 4093,
     "status": "ok",
     "timestamp": 1675405590787,
     "user": {
      "displayName": "김운호",
      "userId": "09296731886450682327"
     },
     "user_tz": -540
    },
    "id": "DBczFn4AkJlD",
    "outputId": "663c6609-b5c5-4b7b-95dd-be17abb3b7f1"
   },
   "source": [
    "# seaborn이 기본 설치 되어있지 않은 작업 환경에서는 아래 줄의 #을 삭제 후 seaborn설치\n",
    "#%pip install seaborn\n",
    "\n",
    "# seaborn 불러오기\n",
    "import seaborn as sns\n",
    "\n",
    "# airline별 price를 class로 구분하여 시각화 하기\n",
    "sns.catplot(y=\"airline\", x=\"price\", col='class', data=df)"
   ],
   "outputs": [],
   "execution_count": null
  },
  {
   "cell_type": "markdown",
   "metadata": {
    "id": "yDtzN_aB18BT"
   },
   "source": [
    "### 2) 선형회귀 모델그래프 (linear model plot)"
   ]
  },
  {
   "cell_type": "code",
   "metadata": {
    "colab": {
     "base_uri": "https://localhost:8080/",
     "height": 406
    },
    "executionInfo": {
     "elapsed": 28902,
     "status": "ok",
     "timestamp": 1675405622899,
     "user": {
      "displayName": "김운호",
      "userId": "09296731886450682327"
     },
     "user_tz": -540
    },
    "id": "OEWohPu2kfTP",
    "outputId": "f51cd8a7-4abf-4de0-d908-925d355b4559"
   },
   "source": [
    "# duration과 price의 회귀선을 빨간색으로 표시해서 시각화 하기\n",
    "sns.lmplot(x='duration', y='price', data=df_eco, line_kws={'color': 'red'})"
   ],
   "outputs": [],
   "execution_count": null
  },
  {
   "attachments": {},
   "cell_type": "markdown",
   "metadata": {
    "id": "Bwm3eC7h2DKt"
   },
   "source": [
    "### 3) 빈도 그래프(count plot)"
   ]
  },
  {
   "cell_type": "code",
   "metadata": {
    "colab": {
     "base_uri": "https://localhost:8080/",
     "height": 300
    },
    "executionInfo": {
     "elapsed": 621,
     "status": "ok",
     "timestamp": 1675405628625,
     "user": {
      "displayName": "김운호",
      "userId": "09296731886450682327"
     },
     "user_tz": -540
    },
    "id": "7gw7Vi1jkk76",
    "outputId": "3acb485b-4bf4-4839-db13-fcf2aa7c6cc6"
   },
   "source": [
    "# 항공권 데이터의 빈도를 airline으로 구분하여 class별로 시각화 하기\n",
    "sns.countplot(x=\"airline\", hue=\"class\", data=df)"
   ],
   "outputs": [],
   "execution_count": null
  },
  {
   "cell_type": "markdown",
   "metadata": {
    "id": "5KT0bTFw2GOn"
   },
   "source": [
    "### 4) 조인트 그래프(joint plot)"
   ]
  },
  {
   "cell_type": "code",
   "metadata": {
    "colab": {
     "base_uri": "https://localhost:8080/",
     "height": 459
    },
    "executionInfo": {
     "elapsed": 2107,
     "status": "ok",
     "timestamp": 1675405640118,
     "user": {
      "displayName": "김운호",
      "userId": "09296731886450682327"
     },
     "user_tz": -540
    },
    "id": "HB67pquSkrs6",
    "outputId": "64441845-0642-4ab6-b61b-82db0f1d4922"
   },
   "source": [
    "# price와 duration간의 관계를 joint plot으로 시각화 하기\n",
    "sns.jointplot(y=\"price\", x=\"duration\", data=df_eco)"
   ],
   "outputs": [],
   "execution_count": null
  },
  {
   "cell_type": "markdown",
   "metadata": {
    "id": "6DiPJoGX2HxS"
   },
   "source": [
    "### 5) 히트맵(heatmap)"
   ]
  },
  {
   "cell_type": "code",
   "metadata": {
    "colab": {
     "base_uri": "https://localhost:8080/",
     "height": 288
    },
    "executionInfo": {
     "elapsed": 614,
     "status": "ok",
     "timestamp": 1675405642676,
     "user": {
      "displayName": "김운호",
      "userId": "09296731886450682327"
     },
     "user_tz": -540
    },
    "id": "Cjs_3kk8kt16",
    "outputId": "9b0d7484-afa7-4bdf-ff2b-92b341143a10"
   },
   "source": [
    "# 상관계수로 heatmap그리기\n",
    "sns.heatmap(df_eco.corr())"
   ],
   "outputs": [],
   "execution_count": null
  },
  {
   "attachments": {},
   "cell_type": "markdown",
   "metadata": {
    "id": "wKF8TfRgcixg"
   },
   "source": [
    "### [확인문제] 정답 및 해설"
   ]
  },
  {
   "cell_type": "markdown",
   "metadata": {
    "id": "RYIdV9xMcixh"
   },
   "source": [
    "##### 문제 02. 정답"
   ]
  },
  {
   "cell_type": "code",
   "metadata": {},
   "source": [
    "df_eco=df[(df['class']=='Economy')]\n",
    "plt.figure()\n",
    "sns.heatmap(df_eco.corr())"
   ],
   "outputs": [],
   "execution_count": null
  },
  {
   "cell_type": "code",
   "metadata": {},
   "source": [],
   "outputs": [],
   "execution_count": null
  }
 ],
 "metadata": {
  "colab": {
   "provenance": [
    {
     "file_id": "1ixFiQOeD5V1DB60OxcjT4n0wq2dAu-Yb",
     "timestamp": 1672060603662
    }
   ]
  },
  "hide_input": false,
  "kernelspec": {
   "display_name": "Python 3 (ipykernel)",
   "language": "python",
   "name": "python3"
  },
  "language_info": {
   "codemirror_mode": {
    "name": "ipython",
    "version": 3
   },
   "file_extension": ".py",
   "mimetype": "text/x-python",
   "name": "python",
   "nbconvert_exporter": "python",
   "pygments_lexer": "ipython3",
   "version": "3.10.9"
  },
  "toc": {
   "base_numbering": 1,
   "nav_menu": {},
   "number_sections": true,
   "sideBar": true,
   "skip_h1_title": false,
   "title_cell": "Table of Contents",
   "title_sidebar": "Contents",
   "toc_cell": false,
   "toc_position": {},
   "toc_section_display": true,
   "toc_window_display": false
  },
  "varInspector": {
   "cols": {
    "lenName": 16,
    "lenType": 16,
    "lenVar": 40
   },
   "kernels_config": {
    "python": {
     "delete_cmd_postfix": "",
     "delete_cmd_prefix": "del ",
     "library": "var_list.py",
     "varRefreshCmd": "print(var_dic_list())"
    },
    "r": {
     "delete_cmd_postfix": ") ",
     "delete_cmd_prefix": "rm(",
     "library": "var_list.r",
     "varRefreshCmd": "cat(var_dic_list()) "
    }
   },
   "types_to_exclude": [
    "module",
    "function",
    "builtin_function_or_method",
    "instance",
    "_Feature"
   ],
   "window_display": false
  }
 },
 "nbformat": 4,
 "nbformat_minor": 4
}
