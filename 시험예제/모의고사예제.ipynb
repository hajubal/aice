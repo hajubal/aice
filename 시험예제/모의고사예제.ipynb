{
 "cells": [
  {
   "metadata": {},
   "cell_type": "markdown",
   "source": "# 1. 사이킷런 라이브러리를 임포트 하시오",
   "id": "cd88cd5ec4dabf9c"
  },
  {
   "metadata": {},
   "cell_type": "code",
   "outputs": [],
   "execution_count": null,
   "source": "",
   "id": "4b8659e0257e99fb"
  },
  {
   "metadata": {},
   "cell_type": "markdown",
   "source": "# 2. 판다스 라이브러리를 임포트 하시오.",
   "id": "b08684c372e75b1a"
  },
  {
   "metadata": {},
   "cell_type": "code",
   "outputs": [],
   "execution_count": null,
   "source": "",
   "id": "af7888752d899119"
  },
  {
   "metadata": {},
   "cell_type": "markdown",
   "source": "# 3. 로드한 데이터 프레임을 두개로 쪼개시오, 쪼개진 df의 id 컬럼은 동일하게 있어야함",
   "id": "f92268e7779b4593"
  },
  {
   "metadata": {},
   "cell_type": "code",
   "outputs": [],
   "execution_count": null,
   "source": "",
   "id": "c7fae5a9fb93aee9"
  },
  {
   "metadata": {},
   "cell_type": "markdown",
   "source": "",
   "id": "60bcdfbbb5b49211"
  },
  {
   "metadata": {},
   "cell_type": "markdown",
   "source": "# 4. 쪼개진 df를 합치시오.",
   "id": "2bc7ef1ebe56d35b"
  },
  {
   "metadata": {},
   "cell_type": "code",
   "outputs": [],
   "execution_count": null,
   "source": "",
   "id": "43efe62899005f7e"
  },
  {
   "metadata": {},
   "cell_type": "markdown",
   "source": "# 5. Pclass 에 의 분포도를 seaborn countplot 으로 그리시오",
   "id": "eeefe7d7a0ed5786"
  },
  {
   "metadata": {},
   "cell_type": "code",
   "outputs": [],
   "execution_count": null,
   "source": "",
   "id": "8ee422c91b463e13"
  },
  {
   "metadata": {},
   "cell_type": "markdown",
   "source": "# 6. age, pclass의 Joint plot 를 그리시오.",
   "id": "f623b54390acccbd"
  },
  {
   "metadata": {},
   "cell_type": "code",
   "outputs": [],
   "execution_count": null,
   "source": "",
   "id": "ea8cb5e7e845b78b"
  },
  {
   "metadata": {},
   "cell_type": "markdown",
   "source": "# 7. 나이 이상치를 확인, 불필요 컬럼 삭제",
   "id": "3b56b4dafa0c8283"
  },
  {
   "metadata": {},
   "cell_type": "code",
   "outputs": [],
   "execution_count": null,
   "source": "",
   "id": "968eea3a4a0be1b2"
  },
  {
   "metadata": {},
   "cell_type": "markdown",
   "source": "# 8. 결측치 삭제",
   "id": "da2f03016b6db930"
  },
  {
   "metadata": {},
   "cell_type": "code",
   "outputs": [],
   "execution_count": null,
   "source": "",
   "id": "8bcd55518d18c8e4"
  },
  {
   "metadata": {},
   "cell_type": "markdown",
   "source": "# 9. object 타입 원핫 인코딩",
   "id": "232583079e28b0bb"
  },
  {
   "metadata": {},
   "cell_type": "code",
   "outputs": [],
   "execution_count": null,
   "source": "",
   "id": "c03a96164c28f7b7"
  },
  {
   "metadata": {},
   "cell_type": "markdown",
   "source": "# 10. 테스트, 검증셋 분리",
   "id": "104a70f885339509"
  },
  {
   "metadata": {},
   "cell_type": "code",
   "outputs": [],
   "execution_count": null,
   "source": "",
   "id": "7780731f9b64e4aa"
  },
  {
   "metadata": {},
   "cell_type": "markdown",
   "source": "# 11. RobustScalar 수행",
   "id": "430b46f3ae87bd32"
  },
  {
   "metadata": {},
   "cell_type": "code",
   "outputs": [],
   "execution_count": null,
   "source": "",
   "id": "64ab7ad88780dd9"
  },
  {
   "metadata": {},
   "cell_type": "markdown",
   "source": "# 12. 의사결정나무, 랜덤포레스트 모델 학습",
   "id": "e4a681cb5b4fa696"
  },
  {
   "metadata": {},
   "cell_type": "code",
   "outputs": [],
   "execution_count": null,
   "source": "",
   "id": "b6eca74e0ba52362"
  },
  {
   "metadata": {},
   "cell_type": "markdown",
   "source": "# 13. 모델의 성능 평가. mae 사용, 둘중에 나은 모델 확인",
   "id": "2f43f283610f4440"
  },
  {
   "metadata": {},
   "cell_type": "code",
   "outputs": [],
   "execution_count": null,
   "source": "",
   "id": "3c2ee1f4c91c4663"
  },
  {
   "metadata": {},
   "cell_type": "markdown",
   "source": [
    "# 14. 나이를 예측 하는 딥러닝 모델을 생성 하시오. \n",
    "- Tensorflow framework를 사용하여 딥러닝 모델을 만드세요.\n",
    "- 히든레이어(hidden layer) 2개이상으로 모델을 구성하세요.\n",
    "- dropout 비율 0.2로 Dropout 레이어 1개를 추가해 주세요.\n",
    "- 손실함수는 MSE(Mean Squared Error)를 사용하세요.\n",
    "- 하이퍼파라미터 epochs : 30, batch_size : 16 으로 설정해 주세요.\n",
    "- 각 에포크마다 loss와 metrics 평가하기 위한 데이터로 X_valid, y_valid 사용하세요.\n",
    "- 학습정보는 history 변수에 저장해 주세요. "
   ],
   "id": "dea9b639dc99c78f"
  },
  {
   "metadata": {
    "ExecuteTime": {
     "end_time": "2024-08-26T06:26:24.441650Z",
     "start_time": "2024-08-26T06:26:20.697988Z"
    }
   },
   "cell_type": "code",
   "source": [
    "import tensorflow as tf \n",
    "from tensorflow.keras.models import Sequential, load_model\n",
    "from tensorflow.keras. layers import Dense, Activation, Dropout, BatchNormalization \n",
    "from tensorflow.keras.callbacks import EarlyStopping, ModelCheckpoint \n",
    "from tensorflow. keras.utils import to_categorical\n",
    "\n",
    "tf. random. set_seed (1)\n",
    "\n"
   ],
   "id": "36ee782c9c34ae6b",
   "outputs": [],
   "execution_count": 1
  },
  {
   "metadata": {},
   "cell_type": "markdown",
   "source": [
    "# 15. matpolitlib 를 이용해서 학습 mse, 검증 mse를 그래프로 그리시오.\n",
    "- 1개의 그래프에 학습 mse과 검증 mse 2가지를 모두 표시하세요.\n",
    "- 위 2가지 각각의 범례를 'mse', 'val_mse'로 표시하세요.\n",
    "- 그래프의 타이들은 'Model MSE'로 표시하세요.\n",
    "- X축에는 'Epochs'라고 표시하고 Y축에는 'MSE'라고 표시하세요."
   ],
   "id": "b707e6a0ed6e1671"
  },
  {
   "metadata": {},
   "cell_type": "code",
   "outputs": [],
   "execution_count": null,
   "source": "",
   "id": "ea6db99843f21d61"
  }
 ],
 "metadata": {
  "kernelspec": {
   "display_name": "Python 3",
   "language": "python",
   "name": "python3"
  },
  "language_info": {
   "codemirror_mode": {
    "name": "ipython",
    "version": 2
   },
   "file_extension": ".py",
   "mimetype": "text/x-python",
   "name": "python",
   "nbconvert_exporter": "python",
   "pygments_lexer": "ipython2",
   "version": "2.7.6"
  }
 },
 "nbformat": 4,
 "nbformat_minor": 5
}
