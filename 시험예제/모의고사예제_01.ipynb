{
 "cells": [
  {
   "metadata": {},
   "cell_type": "markdown",
   "source": "# 1. 사이킷런 라이브러리를 임포트 하시오",
   "id": "cd88cd5ec4dabf9c"
  },
  {
   "metadata": {},
   "cell_type": "markdown",
   "source": [
    "### 데이터 설명\n",
    "학습용 데이터 셋을 활용하여 모델을 학습하고, 테스트용 데이터셋에 대한 생존 여부를 예측합니다. \n",
    "- 학습용 데이터 셋 (train.csv) : 891명의 승객 정보와 생존 여부를 포함한 데이터\n",
    "- 테스트용 데이터 셋 (test.csv) : 418명의 승객 정보를 포함한 데이터, 생존 여부는 누락되어 있습니다. \n",
    "\n",
    "\n",
    "| 컬럼명       | 내용                                                       |\n",
    "| :--------- | :--------------------------------------------------------- |\n",
    "| PassengerId  | 승객의 고유 식별자                                        |\n",
    "| Survived     | 생존 여부 (0: 사망, 1: 생존)                               |\n",
    "| Pclass       | 티켓 등급 (1: 1등석, 2: 2등석, 3: 3등석)                     |\n",
    "| Name         | 승객의 이름                                                |\n",
    "| Sex          | 승객의 성별 (male: 남성, female: 여성)                      |\n",
    "| Age          | 승객의 나이                                                |\n",
    "| SibSp        | 함께 탑승한 형제자매/배우자 수                              |\n",
    "| Parch        | 함께 탑승한 부모/자녀 수                                   |\n",
    "| Ticket       | 티켓 번호                                                  |\n",
    "| Fare         | 지불한 운임 요금                                           |\n",
    "| Cabin        | 객실 번호                                                  |\n",
    "| Embarked     | 탑승 항구 (C: Cherbourg, Q: Queenstown, S: Southampton)     |"
   ],
   "id": "f94f4a91497aefc5"
  },
  {
   "metadata": {
    "ExecuteTime": {
     "end_time": "2024-08-27T11:47:59.384664Z",
     "start_time": "2024-08-27T11:47:59.261161Z"
    }
   },
   "cell_type": "code",
   "source": "import sklearn as sk",
   "id": "4b8659e0257e99fb",
   "outputs": [],
   "execution_count": 1
  },
  {
   "metadata": {},
   "cell_type": "markdown",
   "source": "# 2. 판다스 라이브러리를 임포트 하시오.",
   "id": "b08684c372e75b1a"
  },
  {
   "metadata": {
    "ExecuteTime": {
     "end_time": "2024-08-27T11:48:11.428389Z",
     "start_time": "2024-08-27T11:48:11.425316Z"
    }
   },
   "cell_type": "code",
   "source": "import pandas as pd",
   "id": "af7888752d899119",
   "outputs": [],
   "execution_count": 3
  },
  {
   "metadata": {},
   "cell_type": "markdown",
   "source": "# 3. 로드한 데이터 프레임을 두개로 쪼개시오, 쪼개진 df의 id 컬럼은 동일하게 있어야함",
   "id": "f92268e7779b4593"
  },
  {
   "metadata": {
    "ExecuteTime": {
     "end_time": "2024-08-27T11:48:14.881826Z",
     "start_time": "2024-08-27T11:48:14.857556Z"
    }
   },
   "cell_type": "code",
   "source": [
    "df = pd.read_csv('./dataset/titanic_train.csv')\n",
    "df.head()\n",
    "\n",
    "df_one =  df[['PassengerId', 'Sex', 'Age']]\n",
    "\n",
    "df_two = df[df.columns[~df.columns.isin(['Sex', 'Age'])]]\n",
    "\n",
    "df_one.head(), df_two.head()"
   ],
   "id": "c7fae5a9fb93aee9",
   "outputs": [
    {
     "data": {
      "text/plain": [
       "(   PassengerId     Sex   Age\n",
       " 0            1    male  22.0\n",
       " 1            2  female  38.0\n",
       " 2            3  female  26.0\n",
       " 3            4  female  35.0\n",
       " 4            5    male  35.0,\n",
       "    PassengerId  Survived  Pclass  \\\n",
       " 0            1         0       3   \n",
       " 1            2         1       1   \n",
       " 2            3         1       3   \n",
       " 3            4         1       1   \n",
       " 4            5         0       3   \n",
       " \n",
       "                                                 Name  SibSp  Parch  \\\n",
       " 0                            Braund, Mr. Owen Harris      1      0   \n",
       " 1  Cumings, Mrs. John Bradley (Florence Briggs Th...      1      0   \n",
       " 2                             Heikkinen, Miss. Laina      0      0   \n",
       " 3       Futrelle, Mrs. Jacques Heath (Lily May Peel)      1      0   \n",
       " 4                           Allen, Mr. William Henry      0      0   \n",
       " \n",
       "              Ticket     Fare Cabin Embarked  \n",
       " 0         A/5 21171   7.2500   NaN        S  \n",
       " 1          PC 17599  71.2833   C85        C  \n",
       " 2  STON/O2. 3101282   7.9250   NaN        S  \n",
       " 3            113803  53.1000  C123        S  \n",
       " 4            373450   8.0500   NaN        S  )"
      ]
     },
     "execution_count": 4,
     "metadata": {},
     "output_type": "execute_result"
    }
   ],
   "execution_count": 4
  },
  {
   "metadata": {},
   "cell_type": "markdown",
   "source": "",
   "id": "60bcdfbbb5b49211"
  },
  {
   "metadata": {},
   "cell_type": "markdown",
   "source": "# 4. 쪼개진 df를 합치시오. dataframe의 Merge 사용",
   "id": "2bc7ef1ebe56d35b"
  },
  {
   "metadata": {
    "ExecuteTime": {
     "end_time": "2024-08-27T11:53:33.302071Z",
     "start_time": "2024-08-27T11:53:33.285831Z"
    }
   },
   "cell_type": "code",
   "source": [
    "result = pd.merge(df_one, df_two, on='PassengerId', how='inner')\n",
    "\n",
    "result.head()"
   ],
   "id": "43efe62899005f7e",
   "outputs": [
    {
     "data": {
      "text/plain": [
       "   PassengerId     Sex   Age  Survived  Pclass  \\\n",
       "0            1    male  22.0         0       3   \n",
       "1            2  female  38.0         1       1   \n",
       "2            3  female  26.0         1       3   \n",
       "3            4  female  35.0         1       1   \n",
       "4            5    male  35.0         0       3   \n",
       "\n",
       "                                                Name  SibSp  Parch  \\\n",
       "0                            Braund, Mr. Owen Harris      1      0   \n",
       "1  Cumings, Mrs. John Bradley (Florence Briggs Th...      1      0   \n",
       "2                             Heikkinen, Miss. Laina      0      0   \n",
       "3       Futrelle, Mrs. Jacques Heath (Lily May Peel)      1      0   \n",
       "4                           Allen, Mr. William Henry      0      0   \n",
       "\n",
       "             Ticket     Fare Cabin Embarked  \n",
       "0         A/5 21171   7.2500   NaN        S  \n",
       "1          PC 17599  71.2833   C85        C  \n",
       "2  STON/O2. 3101282   7.9250   NaN        S  \n",
       "3            113803  53.1000  C123        S  \n",
       "4            373450   8.0500   NaN        S  "
      ],
      "text/html": [
       "<div>\n",
       "<style scoped>\n",
       "    .dataframe tbody tr th:only-of-type {\n",
       "        vertical-align: middle;\n",
       "    }\n",
       "\n",
       "    .dataframe tbody tr th {\n",
       "        vertical-align: top;\n",
       "    }\n",
       "\n",
       "    .dataframe thead th {\n",
       "        text-align: right;\n",
       "    }\n",
       "</style>\n",
       "<table border=\"1\" class=\"dataframe\">\n",
       "  <thead>\n",
       "    <tr style=\"text-align: right;\">\n",
       "      <th></th>\n",
       "      <th>PassengerId</th>\n",
       "      <th>Sex</th>\n",
       "      <th>Age</th>\n",
       "      <th>Survived</th>\n",
       "      <th>Pclass</th>\n",
       "      <th>Name</th>\n",
       "      <th>SibSp</th>\n",
       "      <th>Parch</th>\n",
       "      <th>Ticket</th>\n",
       "      <th>Fare</th>\n",
       "      <th>Cabin</th>\n",
       "      <th>Embarked</th>\n",
       "    </tr>\n",
       "  </thead>\n",
       "  <tbody>\n",
       "    <tr>\n",
       "      <th>0</th>\n",
       "      <td>1</td>\n",
       "      <td>male</td>\n",
       "      <td>22.0</td>\n",
       "      <td>0</td>\n",
       "      <td>3</td>\n",
       "      <td>Braund, Mr. Owen Harris</td>\n",
       "      <td>1</td>\n",
       "      <td>0</td>\n",
       "      <td>A/5 21171</td>\n",
       "      <td>7.2500</td>\n",
       "      <td>NaN</td>\n",
       "      <td>S</td>\n",
       "    </tr>\n",
       "    <tr>\n",
       "      <th>1</th>\n",
       "      <td>2</td>\n",
       "      <td>female</td>\n",
       "      <td>38.0</td>\n",
       "      <td>1</td>\n",
       "      <td>1</td>\n",
       "      <td>Cumings, Mrs. John Bradley (Florence Briggs Th...</td>\n",
       "      <td>1</td>\n",
       "      <td>0</td>\n",
       "      <td>PC 17599</td>\n",
       "      <td>71.2833</td>\n",
       "      <td>C85</td>\n",
       "      <td>C</td>\n",
       "    </tr>\n",
       "    <tr>\n",
       "      <th>2</th>\n",
       "      <td>3</td>\n",
       "      <td>female</td>\n",
       "      <td>26.0</td>\n",
       "      <td>1</td>\n",
       "      <td>3</td>\n",
       "      <td>Heikkinen, Miss. Laina</td>\n",
       "      <td>0</td>\n",
       "      <td>0</td>\n",
       "      <td>STON/O2. 3101282</td>\n",
       "      <td>7.9250</td>\n",
       "      <td>NaN</td>\n",
       "      <td>S</td>\n",
       "    </tr>\n",
       "    <tr>\n",
       "      <th>3</th>\n",
       "      <td>4</td>\n",
       "      <td>female</td>\n",
       "      <td>35.0</td>\n",
       "      <td>1</td>\n",
       "      <td>1</td>\n",
       "      <td>Futrelle, Mrs. Jacques Heath (Lily May Peel)</td>\n",
       "      <td>1</td>\n",
       "      <td>0</td>\n",
       "      <td>113803</td>\n",
       "      <td>53.1000</td>\n",
       "      <td>C123</td>\n",
       "      <td>S</td>\n",
       "    </tr>\n",
       "    <tr>\n",
       "      <th>4</th>\n",
       "      <td>5</td>\n",
       "      <td>male</td>\n",
       "      <td>35.0</td>\n",
       "      <td>0</td>\n",
       "      <td>3</td>\n",
       "      <td>Allen, Mr. William Henry</td>\n",
       "      <td>0</td>\n",
       "      <td>0</td>\n",
       "      <td>373450</td>\n",
       "      <td>8.0500</td>\n",
       "      <td>NaN</td>\n",
       "      <td>S</td>\n",
       "    </tr>\n",
       "  </tbody>\n",
       "</table>\n",
       "</div>"
      ]
     },
     "execution_count": 5,
     "metadata": {},
     "output_type": "execute_result"
    }
   ],
   "execution_count": 5
  },
  {
   "metadata": {},
   "cell_type": "markdown",
   "source": "# 5. Pclass 의 분포도를 seaborn countplot 으로 그리시오",
   "id": "eeefe7d7a0ed5786"
  },
  {
   "metadata": {
    "ExecuteTime": {
     "end_time": "2024-08-27T11:53:35.702611Z",
     "start_time": "2024-08-27T11:53:35.578013Z"
    }
   },
   "cell_type": "code",
   "source": [
    "import seaborn as sns\n",
    "\n",
    "sns.countplot(df, x='Pclass')"
   ],
   "id": "8ee422c91b463e13",
   "outputs": [
    {
     "data": {
      "text/plain": [
       "<Axes: xlabel='Pclass', ylabel='count'>"
      ]
     },
     "execution_count": 6,
     "metadata": {},
     "output_type": "execute_result"
    },
    {
     "data": {
      "text/plain": [
       "<Figure size 640x480 with 1 Axes>"
      ],
      "image/png": "[encoded data removed]"
     },
     "metadata": {},
     "output_type": "display_data"
    }
   ],
   "execution_count": 6
  },
  {
   "metadata": {},
   "cell_type": "markdown",
   "source": "# 6. age, pclass의 Joint plot 를 그리시오.",
   "id": "f623b54390acccbd"
  },
  {
   "metadata": {
    "ExecuteTime": {
     "end_time": "2024-08-27T11:53:43.856440Z",
     "start_time": "2024-08-27T11:53:43.622183Z"
    }
   },
   "cell_type": "code",
   "source": "sns.jointplot(df, x='Age', y='SibSp')",
   "id": "ea8cb5e7e845b78b",
   "outputs": [
    {
     "name": "stderr",
     "output_type": "stream",
     "text": [
      "/Users/hajubal/anaconda3/envs/pythonEdu/lib/python3.11/site-packages/seaborn/_oldcore.py:1119: FutureWarning: use_inf_as_na option is deprecated and will be removed in a future version. Convert inf values to NaN before operating instead.\n",
      "  with pd.option_context('mode.use_inf_as_na', True):\n",
      "/Users/hajubal/anaconda3/envs/pythonEdu/lib/python3.11/site-packages/seaborn/_oldcore.py:1119: FutureWarning: use_inf_as_na option is deprecated and will be removed in a future version. Convert inf values to NaN before operating instead.\n",
      "  with pd.option_context('mode.use_inf_as_na', True):\n"
     ]
    },
    {
     "data": {
      "text/plain": [
       "<seaborn.axisgrid.JointGrid at 0x143ccd490>"
      ]
     },
     "execution_count": 7,
     "metadata": {},
     "output_type": "execute_result"
    },
    {
     "data": {
      "text/plain": [
       "<Figure size 600x600 with 3 Axes>"
      ],
      "image/png": "[encoded data removed]"
     },
     "metadata": {},
     "output_type": "display_data"
    }
   ],
   "execution_count": 7
  },
  {
   "metadata": {},
   "cell_type": "markdown",
   "source": [
    "# 7. 나이 이상치를 확인, 불필요 컬럼 삭제\n",
    "- 나이가 60세 이상인 데이터 삭제\n",
    "- PassengerId, Ticket, Fare, Cabin, Embarked 컬럼 삭제"
   ],
   "id": "3b56b4dafa0c8283"
  },
  {
   "metadata": {
    "ExecuteTime": {
     "end_time": "2024-08-27T11:55:05.759637Z",
     "start_time": "2024-08-27T11:55:05.750047Z"
    }
   },
   "cell_type": "code",
   "source": [
    "temp_df = df[df['Age'] < 60]\n",
    "\n",
    "temp_df = temp_df.drop(axis=1, columns=['PassengerId', 'Ticket', 'Fare', 'Cabin', 'Embarked', 'Name'])\n",
    "\n",
    "temp_df.head()"
   ],
   "id": "968eea3a4a0be1b2",
   "outputs": [
    {
     "data": {
      "text/plain": [
       "   Survived  Pclass     Sex   Age  SibSp  Parch\n",
       "0         0       3    male  22.0      1      0\n",
       "1         1       1  female  38.0      1      0\n",
       "2         1       3  female  26.0      0      0\n",
       "3         1       1  female  35.0      1      0\n",
       "4         0       3    male  35.0      0      0"
      ],
      "text/html": [
       "<div>\n",
       "<style scoped>\n",
       "    .dataframe tbody tr th:only-of-type {\n",
       "        vertical-align: middle;\n",
       "    }\n",
       "\n",
       "    .dataframe tbody tr th {\n",
       "        vertical-align: top;\n",
       "    }\n",
       "\n",
       "    .dataframe thead th {\n",
       "        text-align: right;\n",
       "    }\n",
       "</style>\n",
       "<table border=\"1\" class=\"dataframe\">\n",
       "  <thead>\n",
       "    <tr style=\"text-align: right;\">\n",
       "      <th></th>\n",
       "      <th>Survived</th>\n",
       "      <th>Pclass</th>\n",
       "      <th>Sex</th>\n",
       "      <th>Age</th>\n",
       "      <th>SibSp</th>\n",
       "      <th>Parch</th>\n",
       "    </tr>\n",
       "  </thead>\n",
       "  <tbody>\n",
       "    <tr>\n",
       "      <th>0</th>\n",
       "      <td>0</td>\n",
       "      <td>3</td>\n",
       "      <td>male</td>\n",
       "      <td>22.0</td>\n",
       "      <td>1</td>\n",
       "      <td>0</td>\n",
       "    </tr>\n",
       "    <tr>\n",
       "      <th>1</th>\n",
       "      <td>1</td>\n",
       "      <td>1</td>\n",
       "      <td>female</td>\n",
       "      <td>38.0</td>\n",
       "      <td>1</td>\n",
       "      <td>0</td>\n",
       "    </tr>\n",
       "    <tr>\n",
       "      <th>2</th>\n",
       "      <td>1</td>\n",
       "      <td>3</td>\n",
       "      <td>female</td>\n",
       "      <td>26.0</td>\n",
       "      <td>0</td>\n",
       "      <td>0</td>\n",
       "    </tr>\n",
       "    <tr>\n",
       "      <th>3</th>\n",
       "      <td>1</td>\n",
       "      <td>1</td>\n",
       "      <td>female</td>\n",
       "      <td>35.0</td>\n",
       "      <td>1</td>\n",
       "      <td>0</td>\n",
       "    </tr>\n",
       "    <tr>\n",
       "      <th>4</th>\n",
       "      <td>0</td>\n",
       "      <td>3</td>\n",
       "      <td>male</td>\n",
       "      <td>35.0</td>\n",
       "      <td>0</td>\n",
       "      <td>0</td>\n",
       "    </tr>\n",
       "  </tbody>\n",
       "</table>\n",
       "</div>"
      ]
     },
     "execution_count": 8,
     "metadata": {},
     "output_type": "execute_result"
    }
   ],
   "execution_count": 8
  },
  {
   "metadata": {},
   "cell_type": "markdown",
   "source": [
    "# 8. 결측치 삭제\n",
    "- 전체 결측치의 갯수 출력\n",
    "- Age의 결측치를 삭제\n",
    "- 전체 결측치를 삭제"
   ],
   "id": "da2f03016b6db930"
  },
  {
   "metadata": {
    "ExecuteTime": {
     "end_time": "2024-08-27T11:55:23.271229Z",
     "start_time": "2024-08-27T11:55:23.263402Z"
    }
   },
   "cell_type": "code",
   "source": [
    "print(df.isnull().sum().sum())\n",
    "\n",
    "sample_df = temp_df.dropna(subset=['Age'])\n",
    "\n",
    "sample_df = temp_df.dropna() \n",
    "\n",
    "print(sample_df.isnull().sum().sum())"
   ],
   "id": "8bcd55518d18c8e4",
   "outputs": [
    {
     "name": "stdout",
     "output_type": "stream",
     "text": [
      "866\n",
      "0\n"
     ]
    }
   ],
   "execution_count": 9
  },
  {
   "metadata": {},
   "cell_type": "markdown",
   "source": "# 9. object 타입 원핫 인코딩",
   "id": "232583079e28b0bb"
  },
  {
   "metadata": {
    "ExecuteTime": {
     "end_time": "2024-08-27T12:02:23.677271Z",
     "start_time": "2024-08-27T12:02:22.952438Z"
    }
   },
   "cell_type": "code",
   "source": [
    "sample_df.info()\n",
    "\n",
    "sample_df = pd.get_dummies(sample_df, columns=['Sex'], drop_first=True)\n",
    "\n",
    "sample_df.info()"
   ],
   "id": "c03a96164c28f7b7",
   "outputs": [
    {
     "name": "stdout",
     "output_type": "stream",
     "text": [
      "<class 'pandas.core.frame.DataFrame'>\n",
      "Index: 688 entries, 0 to 890\n",
      "Data columns (total 6 columns):\n",
      " #   Column    Non-Null Count  Dtype  \n",
      "---  ------    --------------  -----  \n",
      " 0   Survived  688 non-null    int64  \n",
      " 1   Pclass    688 non-null    int64  \n",
      " 2   Age       688 non-null    float64\n",
      " 3   SibSp     688 non-null    int64  \n",
      " 4   Parch     688 non-null    int64  \n",
      " 5   Sex_male  688 non-null    bool   \n",
      "dtypes: bool(1), float64(1), int64(4)\n",
      "memory usage: 32.9 KB\n"
     ]
    },
    {
     "ename": "KeyError",
     "evalue": "\"None of [Index(['Sex'], dtype='object')] are in the [columns]\"",
     "output_type": "error",
     "traceback": [
      "\u001B[0;31m---------------------------------------------------------------------------\u001B[0m",
      "\u001B[0;31mKeyError\u001B[0m                                  Traceback (most recent call last)",
      "Cell \u001B[0;32mIn[15], line 3\u001B[0m\n\u001B[1;32m      1\u001B[0m sample_df\u001B[38;5;241m.\u001B[39minfo()\n\u001B[0;32m----> 3\u001B[0m sample_df \u001B[38;5;241m=\u001B[39m pd\u001B[38;5;241m.\u001B[39mget_dummies(sample_df, columns\u001B[38;5;241m=\u001B[39m[\u001B[38;5;124m'\u001B[39m\u001B[38;5;124mSex\u001B[39m\u001B[38;5;124m'\u001B[39m], drop_first\u001B[38;5;241m=\u001B[39m\u001B[38;5;28;01mTrue\u001B[39;00m)\n\u001B[1;32m      5\u001B[0m sample_df\u001B[38;5;241m.\u001B[39minfo()\n",
      "File \u001B[0;32m~/anaconda3/envs/pythonEdu/lib/python3.11/site-packages/pandas/core/reshape/encoding.py:164\u001B[0m, in \u001B[0;36mget_dummies\u001B[0;34m(data, prefix, prefix_sep, dummy_na, columns, sparse, drop_first, dtype)\u001B[0m\n\u001B[1;32m    162\u001B[0m     \u001B[38;5;28;01mraise\u001B[39;00m \u001B[38;5;167;01mTypeError\u001B[39;00m(\u001B[38;5;124m\"\u001B[39m\u001B[38;5;124mInput must be a list-like for parameter `columns`\u001B[39m\u001B[38;5;124m\"\u001B[39m)\n\u001B[1;32m    163\u001B[0m \u001B[38;5;28;01melse\u001B[39;00m:\n\u001B[0;32m--> 164\u001B[0m     data_to_encode \u001B[38;5;241m=\u001B[39m data[columns]\n\u001B[1;32m    166\u001B[0m \u001B[38;5;66;03m# validate prefixes and separator to avoid silently dropping cols\u001B[39;00m\n\u001B[1;32m    167\u001B[0m \u001B[38;5;28;01mdef\u001B[39;00m \u001B[38;5;21mcheck_len\u001B[39m(item, name: \u001B[38;5;28mstr\u001B[39m):\n",
      "File \u001B[0;32m~/anaconda3/envs/pythonEdu/lib/python3.11/site-packages/pandas/core/frame.py:3899\u001B[0m, in \u001B[0;36mDataFrame.__getitem__\u001B[0;34m(self, key)\u001B[0m\n\u001B[1;32m   3897\u001B[0m     \u001B[38;5;28;01mif\u001B[39;00m is_iterator(key):\n\u001B[1;32m   3898\u001B[0m         key \u001B[38;5;241m=\u001B[39m \u001B[38;5;28mlist\u001B[39m(key)\n\u001B[0;32m-> 3899\u001B[0m     indexer \u001B[38;5;241m=\u001B[39m \u001B[38;5;28mself\u001B[39m\u001B[38;5;241m.\u001B[39mcolumns\u001B[38;5;241m.\u001B[39m_get_indexer_strict(key, \u001B[38;5;124m\"\u001B[39m\u001B[38;5;124mcolumns\u001B[39m\u001B[38;5;124m\"\u001B[39m)[\u001B[38;5;241m1\u001B[39m]\n\u001B[1;32m   3901\u001B[0m \u001B[38;5;66;03m# take() does not accept boolean indexers\u001B[39;00m\n\u001B[1;32m   3902\u001B[0m \u001B[38;5;28;01mif\u001B[39;00m \u001B[38;5;28mgetattr\u001B[39m(indexer, \u001B[38;5;124m\"\u001B[39m\u001B[38;5;124mdtype\u001B[39m\u001B[38;5;124m\"\u001B[39m, \u001B[38;5;28;01mNone\u001B[39;00m) \u001B[38;5;241m==\u001B[39m \u001B[38;5;28mbool\u001B[39m:\n",
      "File \u001B[0;32m~/anaconda3/envs/pythonEdu/lib/python3.11/site-packages/pandas/core/indexes/base.py:6115\u001B[0m, in \u001B[0;36mIndex._get_indexer_strict\u001B[0;34m(self, key, axis_name)\u001B[0m\n\u001B[1;32m   6112\u001B[0m \u001B[38;5;28;01melse\u001B[39;00m:\n\u001B[1;32m   6113\u001B[0m     keyarr, indexer, new_indexer \u001B[38;5;241m=\u001B[39m \u001B[38;5;28mself\u001B[39m\u001B[38;5;241m.\u001B[39m_reindex_non_unique(keyarr)\n\u001B[0;32m-> 6115\u001B[0m \u001B[38;5;28mself\u001B[39m\u001B[38;5;241m.\u001B[39m_raise_if_missing(keyarr, indexer, axis_name)\n\u001B[1;32m   6117\u001B[0m keyarr \u001B[38;5;241m=\u001B[39m \u001B[38;5;28mself\u001B[39m\u001B[38;5;241m.\u001B[39mtake(indexer)\n\u001B[1;32m   6118\u001B[0m \u001B[38;5;28;01mif\u001B[39;00m \u001B[38;5;28misinstance\u001B[39m(key, Index):\n\u001B[1;32m   6119\u001B[0m     \u001B[38;5;66;03m# GH 42790 - Preserve name from an Index\u001B[39;00m\n",
      "File \u001B[0;32m~/anaconda3/envs/pythonEdu/lib/python3.11/site-packages/pandas/core/indexes/base.py:6176\u001B[0m, in \u001B[0;36mIndex._raise_if_missing\u001B[0;34m(self, key, indexer, axis_name)\u001B[0m\n\u001B[1;32m   6174\u001B[0m     \u001B[38;5;28;01mif\u001B[39;00m use_interval_msg:\n\u001B[1;32m   6175\u001B[0m         key \u001B[38;5;241m=\u001B[39m \u001B[38;5;28mlist\u001B[39m(key)\n\u001B[0;32m-> 6176\u001B[0m     \u001B[38;5;28;01mraise\u001B[39;00m \u001B[38;5;167;01mKeyError\u001B[39;00m(\u001B[38;5;124mf\u001B[39m\u001B[38;5;124m\"\u001B[39m\u001B[38;5;124mNone of [\u001B[39m\u001B[38;5;132;01m{\u001B[39;00mkey\u001B[38;5;132;01m}\u001B[39;00m\u001B[38;5;124m] are in the [\u001B[39m\u001B[38;5;132;01m{\u001B[39;00maxis_name\u001B[38;5;132;01m}\u001B[39;00m\u001B[38;5;124m]\u001B[39m\u001B[38;5;124m\"\u001B[39m)\n\u001B[1;32m   6178\u001B[0m not_found \u001B[38;5;241m=\u001B[39m \u001B[38;5;28mlist\u001B[39m(ensure_index(key)[missing_mask\u001B[38;5;241m.\u001B[39mnonzero()[\u001B[38;5;241m0\u001B[39m]]\u001B[38;5;241m.\u001B[39munique())\n\u001B[1;32m   6179\u001B[0m \u001B[38;5;28;01mraise\u001B[39;00m \u001B[38;5;167;01mKeyError\u001B[39;00m(\u001B[38;5;124mf\u001B[39m\u001B[38;5;124m\"\u001B[39m\u001B[38;5;132;01m{\u001B[39;00mnot_found\u001B[38;5;132;01m}\u001B[39;00m\u001B[38;5;124m not in index\u001B[39m\u001B[38;5;124m\"\u001B[39m)\n",
      "\u001B[0;31mKeyError\u001B[0m: \"None of [Index(['Sex'], dtype='object')] are in the [columns]\""
     ]
    }
   ],
   "execution_count": 15
  },
  {
   "metadata": {},
   "cell_type": "markdown",
   "source": "# 10. 테스트, 검증셋 분리",
   "id": "104a70f885339509"
  },
  {
   "metadata": {
    "ExecuteTime": {
     "end_time": "2024-08-27T12:02:30.095981Z",
     "start_time": "2024-08-27T12:02:30.088775Z"
    }
   },
   "cell_type": "code",
   "source": [
    "from sklearn.model_selection import train_test_split\n",
    "\n",
    "X = sample_df.drop(columns=['Survived'], axis=1)\n",
    "y = sample_df['Survived']\n",
    "\n",
    "print(X.shape)\n",
    "print(y.shape)\n",
    "\n",
    "X_train, x_valid, Y_train, y_valid = train_test_split(X, y, test_size=0.3, random_state=42)\n"
   ],
   "id": "7780731f9b64e4aa",
   "outputs": [
    {
     "name": "stdout",
     "output_type": "stream",
     "text": [
      "(688, 5)\n",
      "(688,)\n"
     ]
    }
   ],
   "execution_count": 16
  },
  {
   "metadata": {},
   "cell_type": "markdown",
   "source": "# 11. RobustScalar 수행",
   "id": "430b46f3ae87bd32"
  },
  {
   "metadata": {
    "ExecuteTime": {
     "end_time": "2024-08-27T12:02:34.625574Z",
     "start_time": "2024-08-27T12:02:34.605304Z"
    }
   },
   "cell_type": "code",
   "source": [
    "from sklearn.linear_model import LogisticRegression\n",
    "import numpy as np\n",
    "from sklearn.metrics import mean_squared_error\n",
    "\n",
    "clf = LogisticRegression().fit(X_train, Y_train)\n",
    "x_predict = clf.predict(x_valid)\n",
    "\n",
    "print(np.sqrt(mean_squared_error(y_valid, x_predict)))"
   ],
   "id": "ede586fc0f662204",
   "outputs": [
    {
     "name": "stdout",
     "output_type": "stream",
     "text": [
      "0.45577348387004024\n"
     ]
    }
   ],
   "execution_count": 17
  },
  {
   "metadata": {
    "ExecuteTime": {
     "end_time": "2024-08-27T12:02:36.406358Z",
     "start_time": "2024-08-27T12:02:36.393481Z"
    }
   },
   "cell_type": "code",
   "source": [
    "from sklearn.preprocessing import RobustScaler\n",
    "\n",
    "scaler = RobustScaler()\n",
    "X_train_scaled = scaler.fit_transform(X_train)\n",
    "x_test_scaled = scaler.transform(x_valid)\n",
    "\n",
    "clf = LogisticRegression().fit(X_train_scaled, Y_train)\n",
    "y_predict_scaled = clf.predict(x_test_scaled)\n",
    "\n",
    "print(np.sqrt(mean_squared_error(y_valid, y_predict_scaled)))"
   ],
   "id": "2b725ebe756ea763",
   "outputs": [
    {
     "name": "stdout",
     "output_type": "stream",
     "text": [
      "0.45577348387004024\n"
     ]
    }
   ],
   "execution_count": 18
  },
  {
   "metadata": {},
   "cell_type": "markdown",
   "source": "# 12. 의사결정나무, 랜덤포레스트 모델 학습",
   "id": "e4a681cb5b4fa696"
  },
  {
   "metadata": {
    "ExecuteTime": {
     "end_time": "2024-08-27T12:13:02.194720Z",
     "start_time": "2024-08-27T12:13:01.944993Z"
    }
   },
   "cell_type": "code",
   "source": [
    "from sklearn.tree import DecisionTreeClassifier\n",
    "import sklearn.metrics as mt\n",
    "\n",
    "dtc = DecisionTreeClassifier(min_samples_split=3, random_state=120, max_depth=5)\n",
    "# dtc = DecisionTreeClassifier()\n",
    "dtc.fit(X_train, Y_train)\n",
    "dtc_baseline = dtc.predict(x_valid)\n",
    "\n",
    "\n",
    "\n",
    "from sklearn.ensemble import RandomForestClassifier\n",
    "\n",
    "rfc = RandomForestClassifier(min_samples_split=3, random_state=120, max_depth=5)\n",
    "rfc.fit(X_train, Y_train)\n",
    "dfc_baseline = rfc.predict(x_valid)\n",
    "\n"
   ],
   "id": "b6eca74e0ba52362",
   "outputs": [],
   "execution_count": 20
  },
  {
   "metadata": {},
   "cell_type": "markdown",
   "source": "# 13. 모델의 성능 평가. accuracy 사용, 둘중에 나은 모델 확인",
   "id": "2f43f283610f4440"
  },
  {
   "metadata": {
    "ExecuteTime": {
     "end_time": "2024-08-27T12:13:04.214688Z",
     "start_time": "2024-08-27T12:13:04.198488Z"
    }
   },
   "cell_type": "code",
   "source": [
    "print(dtc.score(X_train, Y_train))\n",
    "print(mt.accuracy_score(y_valid, dtc_baseline))\n",
    "\n",
    "print(rfc.score(X_train, Y_train))\n",
    "print(mt.accuracy_score(y_valid, dfc_baseline))"
   ],
   "id": "3c2ee1f4c91c4663",
   "outputs": [
    {
     "name": "stdout",
     "output_type": "stream",
     "text": [
      "0.8627858627858628\n",
      "0.821256038647343\n",
      "0.8627858627858628\n",
      "0.7971014492753623\n"
     ]
    }
   ],
   "execution_count": 21
  },
  {
   "metadata": {},
   "cell_type": "markdown",
   "source": [
    "# 14. 나이를 예측 하는 딥러닝 모델을 생성 하시오. \n",
    "- Tensorflow framework를 사용하여 딥러닝 모델을 만드세요.\n",
    "- 히든레이어(hidden layer) 2개이상으로 모델을 구성하세요.\n",
    "- dropout 비율 0.2로 Dropout 레이어 1개를 추가해 주세요.\n",
    "- 손실함수는 MSE(Mean Squared Error)를 사용하세요.\n",
    "- 하이퍼파라미터 epochs : 30, batch_size : 16 으로 설정해 주세요.\n",
    "- 각 에포크마다 loss와 metrics 평가하기 위한 데이터로 X_valid, y_valid 사용하세요.\n",
    "- 학습정보는 history 변수에 저장해 주세요. "
   ],
   "id": "dea9b639dc99c78f"
  },
  {
   "metadata": {
    "ExecuteTime": {
     "end_time": "2024-08-27T15:43:07.392895Z",
     "start_time": "2024-08-27T15:43:07.384666Z"
    }
   },
   "cell_type": "code",
   "source": [
    "import tensorflow as tf \n",
    "from tensorflow.keras.models import Sequential, load_model\n",
    "from tensorflow.keras. layers import Dense, Activation, Dropout, BatchNormalization \n",
    "from tensorflow.keras.callbacks import EarlyStopping, ModelCheckpoint \n",
    "from tensorflow. keras.utils import to_categorical\n",
    "\n",
    "tf.random.set_seed (1)\n",
    "X_train.shape"
   ],
   "id": "36ee782c9c34ae6b",
   "outputs": [
    {
     "data": {
      "text/plain": [
       "(481, 5)"
      ]
     },
     "execution_count": 23,
     "metadata": {},
     "output_type": "execute_result"
    }
   ],
   "execution_count": 23
  },
  {
   "metadata": {
    "ExecuteTime": {
     "end_time": "2024-08-27T15:59:57.366033Z",
     "start_time": "2024-08-27T15:59:55.425629Z"
    }
   },
   "cell_type": "code",
   "source": [
    "initializer = tf.keras.initializers.GlorotUniform(seed=42)\n",
    "\n",
    "model = Sequential()\n",
    "model.add(Dense(32, activation='relu', input_shape=(5,), kernel_initializer=initializer))\n",
    "model.add(Dropout(0.5))\n",
    "model.add(Dense(64, activation='relu'))\n",
    "model.add(Dense(1, activation='sigmoid'))\n",
    "\n",
    "model.summary()\n",
    "\n",
    "model.compile(loss='mse', optimizer='adam', metrics=['accuracy'])\n",
    "\n",
    "es = EarlyStopping(monitor='val_loss', min_delta=0, patience=10, verbose=1, restore_best_weights=True)\n",
    "\n",
    "check_point = ModelCheckpoint('best_model.keras', verbose=1, monitor='val_loss', mode='min', save_best_only=True)\n",
    "\n",
    "history = model.fit(X_train, Y_train, validation_data=(x_valid, y_valid), callbacks=[es, check_point], epochs=30, batch_size=16)\n"
   ],
   "id": "dceaa2cedc6d7237",
   "outputs": [
    {
     "name": "stderr",
     "output_type": "stream",
     "text": [
      "/Users/hajubal/anaconda3/envs/pythonEdu/lib/python3.11/site-packages/keras/src/layers/core/dense.py:86: UserWarning: Do not pass an `input_shape`/`input_dim` argument to a layer. When using Sequential models, prefer using an `Input(shape)` object as the first layer in the model instead.\n",
      "  super().__init__(activity_regularizer=activity_regularizer, **kwargs)\n"
     ]
    },
    {
     "data": {
      "text/plain": [
       "\u001B[1mModel: \"sequential_4\"\u001B[0m\n"
      ],
      "text/html": [
       "<pre style=\"white-space:pre;overflow-x:auto;line-height:normal;font-family:Menlo,'DejaVu Sans Mono',consolas,'Courier New',monospace\"><span style=\"font-weight: bold\">Model: \"sequential_4\"</span>\n",
       "</pre>\n"
      ]
     },
     "metadata": {},
     "output_type": "display_data"
    },
    {
     "data": {
      "text/plain": [
       "┏━━━━━━━━━━━━━━━━━━━━━━━━━━━━━━━━━┳━━━━━━━━━━━━━━━━━━━━━━━━┳━━━━━━━━━━━━━━━┓\n",
       "┃\u001B[1m \u001B[0m\u001B[1mLayer (type)                   \u001B[0m\u001B[1m \u001B[0m┃\u001B[1m \u001B[0m\u001B[1mOutput Shape          \u001B[0m\u001B[1m \u001B[0m┃\u001B[1m \u001B[0m\u001B[1m      Param #\u001B[0m\u001B[1m \u001B[0m┃\n",
       "┡━━━━━━━━━━━━━━━━━━━━━━━━━━━━━━━━━╇━━━━━━━━━━━━━━━━━━━━━━━━╇━━━━━━━━━━━━━━━┩\n",
       "│ dense_12 (\u001B[38;5;33mDense\u001B[0m)                │ (\u001B[38;5;45mNone\u001B[0m, \u001B[38;5;34m32\u001B[0m)             │           \u001B[38;5;34m192\u001B[0m │\n",
       "├─────────────────────────────────┼────────────────────────┼───────────────┤\n",
       "│ dropout_4 (\u001B[38;5;33mDropout\u001B[0m)             │ (\u001B[38;5;45mNone\u001B[0m, \u001B[38;5;34m32\u001B[0m)             │             \u001B[38;5;34m0\u001B[0m │\n",
       "├─────────────────────────────────┼────────────────────────┼───────────────┤\n",
       "│ dense_13 (\u001B[38;5;33mDense\u001B[0m)                │ (\u001B[38;5;45mNone\u001B[0m, \u001B[38;5;34m64\u001B[0m)             │         \u001B[38;5;34m2,112\u001B[0m │\n",
       "├─────────────────────────────────┼────────────────────────┼───────────────┤\n",
       "│ dense_14 (\u001B[38;5;33mDense\u001B[0m)                │ (\u001B[38;5;45mNone\u001B[0m, \u001B[38;5;34m1\u001B[0m)              │            \u001B[38;5;34m65\u001B[0m │\n",
       "└─────────────────────────────────┴────────────────────────┴───────────────┘\n"
      ],
      "text/html": [
       "<pre style=\"white-space:pre;overflow-x:auto;line-height:normal;font-family:Menlo,'DejaVu Sans Mono',consolas,'Courier New',monospace\">┏━━━━━━━━━━━━━━━━━━━━━━━━━━━━━━━━━┳━━━━━━━━━━━━━━━━━━━━━━━━┳━━━━━━━━━━━━━━━┓\n",
       "┃<span style=\"font-weight: bold\"> Layer (type)                    </span>┃<span style=\"font-weight: bold\"> Output Shape           </span>┃<span style=\"font-weight: bold\">       Param # </span>┃\n",
       "┡━━━━━━━━━━━━━━━━━━━━━━━━━━━━━━━━━╇━━━━━━━━━━━━━━━━━━━━━━━━╇━━━━━━━━━━━━━━━┩\n",
       "│ dense_12 (<span style=\"color: #0087ff; text-decoration-color: #0087ff\">Dense</span>)                │ (<span style=\"color: #00d7ff; text-decoration-color: #00d7ff\">None</span>, <span style=\"color: #00af00; text-decoration-color: #00af00\">32</span>)             │           <span style=\"color: #00af00; text-decoration-color: #00af00\">192</span> │\n",
       "├─────────────────────────────────┼────────────────────────┼───────────────┤\n",
       "│ dropout_4 (<span style=\"color: #0087ff; text-decoration-color: #0087ff\">Dropout</span>)             │ (<span style=\"color: #00d7ff; text-decoration-color: #00d7ff\">None</span>, <span style=\"color: #00af00; text-decoration-color: #00af00\">32</span>)             │             <span style=\"color: #00af00; text-decoration-color: #00af00\">0</span> │\n",
       "├─────────────────────────────────┼────────────────────────┼───────────────┤\n",
       "│ dense_13 (<span style=\"color: #0087ff; text-decoration-color: #0087ff\">Dense</span>)                │ (<span style=\"color: #00d7ff; text-decoration-color: #00d7ff\">None</span>, <span style=\"color: #00af00; text-decoration-color: #00af00\">64</span>)             │         <span style=\"color: #00af00; text-decoration-color: #00af00\">2,112</span> │\n",
       "├─────────────────────────────────┼────────────────────────┼───────────────┤\n",
       "│ dense_14 (<span style=\"color: #0087ff; text-decoration-color: #0087ff\">Dense</span>)                │ (<span style=\"color: #00d7ff; text-decoration-color: #00d7ff\">None</span>, <span style=\"color: #00af00; text-decoration-color: #00af00\">1</span>)              │            <span style=\"color: #00af00; text-decoration-color: #00af00\">65</span> │\n",
       "└─────────────────────────────────┴────────────────────────┴───────────────┘\n",
       "</pre>\n"
      ]
     },
     "metadata": {},
     "output_type": "display_data"
    },
    {
     "data": {
      "text/plain": [
       "\u001B[1m Total params: \u001B[0m\u001B[38;5;34m2,369\u001B[0m (9.25 KB)\n"
      ],
      "text/html": [
       "<pre style=\"white-space:pre;overflow-x:auto;line-height:normal;font-family:Menlo,'DejaVu Sans Mono',consolas,'Courier New',monospace\"><span style=\"font-weight: bold\"> Total params: </span><span style=\"color: #00af00; text-decoration-color: #00af00\">2,369</span> (9.25 KB)\n",
       "</pre>\n"
      ]
     },
     "metadata": {},
     "output_type": "display_data"
    },
    {
     "data": {
      "text/plain": [
       "\u001B[1m Trainable params: \u001B[0m\u001B[38;5;34m2,369\u001B[0m (9.25 KB)\n"
      ],
      "text/html": [
       "<pre style=\"white-space:pre;overflow-x:auto;line-height:normal;font-family:Menlo,'DejaVu Sans Mono',consolas,'Courier New',monospace\"><span style=\"font-weight: bold\"> Trainable params: </span><span style=\"color: #00af00; text-decoration-color: #00af00\">2,369</span> (9.25 KB)\n",
       "</pre>\n"
      ]
     },
     "metadata": {},
     "output_type": "display_data"
    },
    {
     "data": {
      "text/plain": [
       "\u001B[1m Non-trainable params: \u001B[0m\u001B[38;5;34m0\u001B[0m (0.00 B)\n"
      ],
      "text/html": [
       "<pre style=\"white-space:pre;overflow-x:auto;line-height:normal;font-family:Menlo,'DejaVu Sans Mono',consolas,'Courier New',monospace\"><span style=\"font-weight: bold\"> Non-trainable params: </span><span style=\"color: #00af00; text-decoration-color: #00af00\">0</span> (0.00 B)\n",
       "</pre>\n"
      ]
     },
     "metadata": {},
     "output_type": "display_data"
    },
    {
     "name": "stdout",
     "output_type": "stream",
     "text": [
      "Epoch 1/30\n",
      "\u001B[1m 1/31\u001B[0m \u001B[37m━━━━━━━━━━━━━━━━━━━━\u001B[0m \u001B[1m15s\u001B[0m 526ms/step - accuracy: 0.4375 - loss: 0.3508\n",
      "Epoch 1: val_loss improved from inf to 0.38618, saving model to best_model.keras\n",
      "\u001B[1m31/31\u001B[0m \u001B[32m━━━━━━━━━━━━━━━━━━━━\u001B[0m\u001B[37m\u001B[0m \u001B[1m1s\u001B[0m 4ms/step - accuracy: 0.5169 - loss: 0.3834 - val_accuracy: 0.5797 - val_loss: 0.3862\n",
      "Epoch 2/30\n",
      "\u001B[1m 1/31\u001B[0m \u001B[37m━━━━━━━━━━━━━━━━━━━━\u001B[0m \u001B[1m0s\u001B[0m 11ms/step - accuracy: 0.7500 - loss: 0.1642\n",
      "Epoch 2: val_loss improved from 0.38618 to 0.26749, saving model to best_model.keras\n",
      "\u001B[1m31/31\u001B[0m \u001B[32m━━━━━━━━━━━━━━━━━━━━\u001B[0m\u001B[37m\u001B[0m \u001B[1m0s\u001B[0m 1ms/step - accuracy: 0.6042 - loss: 0.3220 - val_accuracy: 0.5990 - val_loss: 0.2675\n",
      "Epoch 3/30\n",
      "\u001B[1m 1/31\u001B[0m \u001B[37m━━━━━━━━━━━━━━━━━━━━\u001B[0m \u001B[1m0s\u001B[0m 11ms/step - accuracy: 0.3125 - loss: 0.4603\n",
      "Epoch 3: val_loss did not improve from 0.26749\n",
      "\u001B[1m31/31\u001B[0m \u001B[32m━━━━━━━━━━━━━━━━━━━━\u001B[0m\u001B[37m\u001B[0m \u001B[1m0s\u001B[0m 1ms/step - accuracy: 0.5117 - loss: 0.3726 - val_accuracy: 0.5990 - val_loss: 0.3237\n",
      "Epoch 4/30\n",
      "\u001B[1m 1/31\u001B[0m \u001B[37m━━━━━━━━━━━━━━━━━━━━\u001B[0m \u001B[1m0s\u001B[0m 10ms/step - accuracy: 0.8125 - loss: 0.2010\n",
      "Epoch 4: val_loss improved from 0.26749 to 0.23423, saving model to best_model.keras\n",
      "\u001B[1m31/31\u001B[0m \u001B[32m━━━━━━━━━━━━━━━━━━━━\u001B[0m\u001B[37m\u001B[0m \u001B[1m0s\u001B[0m 1ms/step - accuracy: 0.6144 - loss: 0.2965 - val_accuracy: 0.5845 - val_loss: 0.2342\n",
      "Epoch 5/30\n",
      "\u001B[1m 1/31\u001B[0m \u001B[37m━━━━━━━━━━━━━━━━━━━━\u001B[0m \u001B[1m0s\u001B[0m 10ms/step - accuracy: 0.8750 - loss: 0.0770\n",
      "Epoch 5: val_loss improved from 0.23423 to 0.21957, saving model to best_model.keras\n",
      "\u001B[1m31/31\u001B[0m \u001B[32m━━━━━━━━━━━━━━━━━━━━\u001B[0m\u001B[37m\u001B[0m \u001B[1m0s\u001B[0m 1ms/step - accuracy: 0.6205 - loss: 0.2796 - val_accuracy: 0.6908 - val_loss: 0.2196\n",
      "Epoch 6/30\n",
      "\u001B[1m 1/31\u001B[0m \u001B[37m━━━━━━━━━━━━━━━━━━━━\u001B[0m \u001B[1m0s\u001B[0m 11ms/step - accuracy: 0.5625 - loss: 0.2989\n",
      "Epoch 6: val_loss improved from 0.21957 to 0.21020, saving model to best_model.keras\n",
      "\u001B[1m31/31\u001B[0m \u001B[32m━━━━━━━━━━━━━━━━━━━━\u001B[0m\u001B[37m\u001B[0m \u001B[1m0s\u001B[0m 1ms/step - accuracy: 0.5544 - loss: 0.3174 - val_accuracy: 0.6763 - val_loss: 0.2102\n",
      "Epoch 7/30\n",
      "\u001B[1m 1/31\u001B[0m \u001B[37m━━━━━━━━━━━━━━━━━━━━\u001B[0m \u001B[1m0s\u001B[0m 12ms/step - accuracy: 0.6875 - loss: 0.1551\n",
      "Epoch 7: val_loss did not improve from 0.21020\n",
      "\u001B[1m31/31\u001B[0m \u001B[32m━━━━━━━━━━━━━━━━━━━━\u001B[0m\u001B[37m\u001B[0m \u001B[1m0s\u001B[0m 812us/step - accuracy: 0.6015 - loss: 0.2603 - val_accuracy: 0.4251 - val_loss: 0.3080\n",
      "Epoch 8/30\n",
      "\u001B[1m 1/31\u001B[0m \u001B[37m━━━━━━━━━━━━━━━━━━━━\u001B[0m \u001B[1m0s\u001B[0m 9ms/step - accuracy: 0.6875 - loss: 0.2548\n",
      "Epoch 8: val_loss did not improve from 0.21020\n",
      "\u001B[1m31/31\u001B[0m \u001B[32m━━━━━━━━━━━━━━━━━━━━\u001B[0m\u001B[37m\u001B[0m \u001B[1m0s\u001B[0m 757us/step - accuracy: 0.5863 - loss: 0.2793 - val_accuracy: 0.5894 - val_loss: 0.2446\n",
      "Epoch 9/30\n",
      "\u001B[1m 1/31\u001B[0m \u001B[37m━━━━━━━━━━━━━━━━━━━━\u001B[0m \u001B[1m0s\u001B[0m 10ms/step - accuracy: 0.5625 - loss: 0.2634\n",
      "Epoch 9: val_loss did not improve from 0.21020\n",
      "\u001B[1m31/31\u001B[0m \u001B[32m━━━━━━━━━━━━━━━━━━━━\u001B[0m\u001B[37m\u001B[0m \u001B[1m0s\u001B[0m 769us/step - accuracy: 0.6051 - loss: 0.2836 - val_accuracy: 0.6570 - val_loss: 0.2242\n",
      "Epoch 10/30\n",
      "\u001B[1m 1/31\u001B[0m \u001B[37m━━━━━━━━━━━━━━━━━━━━\u001B[0m \u001B[1m0s\u001B[0m 9ms/step - accuracy: 0.6875 - loss: 0.2641\n",
      "Epoch 10: val_loss did not improve from 0.21020\n",
      "\u001B[1m31/31\u001B[0m \u001B[32m━━━━━━━━━━━━━━━━━━━━\u001B[0m\u001B[37m\u001B[0m \u001B[1m0s\u001B[0m 751us/step - accuracy: 0.6164 - loss: 0.2737 - val_accuracy: 0.6280 - val_loss: 0.2299\n",
      "Epoch 11/30\n",
      "\u001B[1m 1/31\u001B[0m \u001B[37m━━━━━━━━━━━━━━━━━━━━\u001B[0m \u001B[1m0s\u001B[0m 9ms/step - accuracy: 0.6875 - loss: 0.2476\n",
      "Epoch 11: val_loss improved from 0.21020 to 0.20152, saving model to best_model.keras\n",
      "\u001B[1m31/31\u001B[0m \u001B[32m━━━━━━━━━━━━━━━━━━━━\u001B[0m\u001B[37m\u001B[0m \u001B[1m0s\u001B[0m 962us/step - accuracy: 0.6031 - loss: 0.3005 - val_accuracy: 0.7053 - val_loss: 0.2015\n",
      "Epoch 12/30\n",
      "\u001B[1m 1/31\u001B[0m \u001B[37m━━━━━━━━━━━━━━━━━━━━\u001B[0m \u001B[1m0s\u001B[0m 9ms/step - accuracy: 0.7500 - loss: 0.2011\n",
      "Epoch 12: val_loss did not improve from 0.20152\n",
      "\u001B[1m31/31\u001B[0m \u001B[32m━━━━━━━━━━━━━━━━━━━━\u001B[0m\u001B[37m\u001B[0m \u001B[1m0s\u001B[0m 782us/step - accuracy: 0.6002 - loss: 0.2752 - val_accuracy: 0.5942 - val_loss: 0.2398\n",
      "Epoch 13/30\n",
      "\u001B[1m 1/31\u001B[0m \u001B[37m━━━━━━━━━━━━━━━━━━━━\u001B[0m \u001B[1m0s\u001B[0m 9ms/step - accuracy: 0.8750 - loss: 0.1246\n",
      "Epoch 13: val_loss did not improve from 0.20152\n",
      "\u001B[1m31/31\u001B[0m \u001B[32m━━━━━━━━━━━━━━━━━━━━\u001B[0m\u001B[37m\u001B[0m \u001B[1m0s\u001B[0m 821us/step - accuracy: 0.6593 - loss: 0.2349 - val_accuracy: 0.5990 - val_loss: 0.2480\n",
      "Epoch 14/30\n",
      "\u001B[1m 1/31\u001B[0m \u001B[37m━━━━━━━━━━━━━━━━━━━━\u001B[0m \u001B[1m0s\u001B[0m 10ms/step - accuracy: 0.5625 - loss: 0.3434\n",
      "Epoch 14: val_loss did not improve from 0.20152\n",
      "\u001B[1m31/31\u001B[0m \u001B[32m━━━━━━━━━━━━━━━━━━━━\u001B[0m\u001B[37m\u001B[0m \u001B[1m0s\u001B[0m 800us/step - accuracy: 0.5893 - loss: 0.2862 - val_accuracy: 0.6039 - val_loss: 0.2658\n",
      "Epoch 15/30\n",
      "\u001B[1m 1/31\u001B[0m \u001B[37m━━━━━━━━━━━━━━━━━━━━\u001B[0m \u001B[1m0s\u001B[0m 10ms/step - accuracy: 0.3125 - loss: 0.4220\n",
      "Epoch 15: val_loss did not improve from 0.20152\n",
      "\u001B[1m31/31\u001B[0m \u001B[32m━━━━━━━━━━━━━━━━━━━━\u001B[0m\u001B[37m\u001B[0m \u001B[1m0s\u001B[0m 871us/step - accuracy: 0.5822 - loss: 0.3000 - val_accuracy: 0.5894 - val_loss: 0.2583\n",
      "Epoch 16/30\n",
      "\u001B[1m 1/31\u001B[0m \u001B[37m━━━━━━━━━━━━━━━━━━━━\u001B[0m \u001B[1m0s\u001B[0m 9ms/step - accuracy: 0.3750 - loss: 0.3268\n",
      "Epoch 16: val_loss did not improve from 0.20152\n",
      "\u001B[1m31/31\u001B[0m \u001B[32m━━━━━━━━━━━━━━━━━━━━\u001B[0m\u001B[37m\u001B[0m \u001B[1m0s\u001B[0m 794us/step - accuracy: 0.5859 - loss: 0.2736 - val_accuracy: 0.5169 - val_loss: 0.2843\n",
      "Epoch 17/30\n",
      "\u001B[1m 1/31\u001B[0m \u001B[37m━━━━━━━━━━━━━━━━━━━━\u001B[0m \u001B[1m0s\u001B[0m 9ms/step - accuracy: 0.6250 - loss: 0.2942\n",
      "Epoch 17: val_loss did not improve from 0.20152\n",
      "\u001B[1m31/31\u001B[0m \u001B[32m━━━━━━━━━━━━━━━━━━━━\u001B[0m\u001B[37m\u001B[0m \u001B[1m0s\u001B[0m 948us/step - accuracy: 0.6017 - loss: 0.2884 - val_accuracy: 0.4203 - val_loss: 0.3016\n",
      "Epoch 18/30\n",
      "\u001B[1m 1/31\u001B[0m \u001B[37m━━━━━━━━━━━━━━━━━━━━\u001B[0m \u001B[1m0s\u001B[0m 10ms/step - accuracy: 0.5625 - loss: 0.3474\n",
      "Epoch 18: val_loss did not improve from 0.20152\n",
      "\u001B[1m31/31\u001B[0m \u001B[32m━━━━━━━━━━━━━━━━━━━━\u001B[0m\u001B[37m\u001B[0m \u001B[1m0s\u001B[0m 821us/step - accuracy: 0.5615 - loss: 0.2799 - val_accuracy: 0.5894 - val_loss: 0.2856\n",
      "Epoch 19/30\n",
      "\u001B[1m 1/31\u001B[0m \u001B[37m━━━━━━━━━━━━━━━━━━━━\u001B[0m \u001B[1m0s\u001B[0m 10ms/step - accuracy: 0.3750 - loss: 0.4446\n",
      "Epoch 19: val_loss improved from 0.20152 to 0.19124, saving model to best_model.keras\n",
      "\u001B[1m31/31\u001B[0m \u001B[32m━━━━━━━━━━━━━━━━━━━━\u001B[0m\u001B[37m\u001B[0m \u001B[1m0s\u001B[0m 1ms/step - accuracy: 0.5805 - loss: 0.2812 - val_accuracy: 0.7101 - val_loss: 0.1912\n",
      "Epoch 20/30\n",
      "\u001B[1m 1/31\u001B[0m \u001B[37m━━━━━━━━━━━━━━━━━━━━\u001B[0m \u001B[1m0s\u001B[0m 10ms/step - accuracy: 0.7500 - loss: 0.2051\n",
      "Epoch 20: val_loss did not improve from 0.19124\n",
      "\u001B[1m31/31\u001B[0m \u001B[32m━━━━━━━━━━━━━━━━━━━━\u001B[0m\u001B[37m\u001B[0m \u001B[1m0s\u001B[0m 967us/step - accuracy: 0.6514 - loss: 0.2563 - val_accuracy: 0.6039 - val_loss: 0.2699\n",
      "Epoch 21/30\n",
      "\u001B[1m 1/31\u001B[0m \u001B[37m━━━━━━━━━━━━━━━━━━━━\u001B[0m \u001B[1m0s\u001B[0m 14ms/step - accuracy: 0.5625 - loss: 0.2737\n",
      "Epoch 21: val_loss did not improve from 0.19124\n",
      "\u001B[1m31/31\u001B[0m \u001B[32m━━━━━━━━━━━━━━━━━━━━\u001B[0m\u001B[37m\u001B[0m \u001B[1m0s\u001B[0m 1ms/step - accuracy: 0.6365 - loss: 0.2470 - val_accuracy: 0.6908 - val_loss: 0.2201\n",
      "Epoch 22/30\n",
      "\u001B[1m 1/31\u001B[0m \u001B[37m━━━━━━━━━━━━━━━━━━━━\u001B[0m \u001B[1m0s\u001B[0m 11ms/step - accuracy: 0.6875 - loss: 0.2519\n",
      "Epoch 22: val_loss did not improve from 0.19124\n",
      "\u001B[1m31/31\u001B[0m \u001B[32m━━━━━━━━━━━━━━━━━━━━\u001B[0m\u001B[37m\u001B[0m \u001B[1m0s\u001B[0m 912us/step - accuracy: 0.6467 - loss: 0.2445 - val_accuracy: 0.6473 - val_loss: 0.2451\n",
      "Epoch 23/30\n",
      "\u001B[1m 1/31\u001B[0m \u001B[37m━━━━━━━━━━━━━━━━━━━━\u001B[0m \u001B[1m0s\u001B[0m 10ms/step - accuracy: 0.2500 - loss: 0.3722\n",
      "Epoch 23: val_loss did not improve from 0.19124\n",
      "\u001B[1m31/31\u001B[0m \u001B[32m━━━━━━━━━━━━━━━━━━━━\u001B[0m\u001B[37m\u001B[0m \u001B[1m0s\u001B[0m 836us/step - accuracy: 0.6170 - loss: 0.2395 - val_accuracy: 0.7101 - val_loss: 0.2104\n",
      "Epoch 24/30\n",
      "\u001B[1m 1/31\u001B[0m \u001B[37m━━━━━━━━━━━━━━━━━━━━\u001B[0m \u001B[1m0s\u001B[0m 10ms/step - accuracy: 0.8750 - loss: 0.1587\n",
      "Epoch 24: val_loss did not improve from 0.19124\n",
      "\u001B[1m31/31\u001B[0m \u001B[32m━━━━━━━━━━━━━━━━━━━━\u001B[0m\u001B[37m\u001B[0m \u001B[1m0s\u001B[0m 830us/step - accuracy: 0.7079 - loss: 0.2109 - val_accuracy: 0.7053 - val_loss: 0.2261\n",
      "Epoch 25/30\n",
      "\u001B[1m 1/31\u001B[0m \u001B[37m━━━━━━━━━━━━━━━━━━━━\u001B[0m \u001B[1m0s\u001B[0m 11ms/step - accuracy: 0.5625 - loss: 0.2844\n",
      "Epoch 25: val_loss did not improve from 0.19124\n",
      "\u001B[1m31/31\u001B[0m \u001B[32m━━━━━━━━━━━━━━━━━━━━\u001B[0m\u001B[37m\u001B[0m \u001B[1m0s\u001B[0m 1ms/step - accuracy: 0.6825 - loss: 0.2262 - val_accuracy: 0.6667 - val_loss: 0.2550\n",
      "Epoch 26/30\n",
      "\u001B[1m 1/31\u001B[0m \u001B[37m━━━━━━━━━━━━━━━━━━━━\u001B[0m \u001B[1m0s\u001B[0m 13ms/step - accuracy: 0.5000 - loss: 0.3353\n",
      "Epoch 26: val_loss did not improve from 0.19124\n",
      "\u001B[1m31/31\u001B[0m \u001B[32m━━━━━━━━━━━━━━━━━━━━\u001B[0m\u001B[37m\u001B[0m \u001B[1m0s\u001B[0m 1ms/step - accuracy: 0.6466 - loss: 0.2464 - val_accuracy: 0.6715 - val_loss: 0.2490\n",
      "Epoch 27/30\n",
      "\u001B[1m 1/31\u001B[0m \u001B[37m━━━━━━━━━━━━━━━━━━━━\u001B[0m \u001B[1m0s\u001B[0m 13ms/step - accuracy: 0.6875 - loss: 0.2194\n",
      "Epoch 27: val_loss did not improve from 0.19124\n",
      "\u001B[1m31/31\u001B[0m \u001B[32m━━━━━━━━━━━━━━━━━━━━\u001B[0m\u001B[37m\u001B[0m \u001B[1m0s\u001B[0m 1ms/step - accuracy: 0.6442 - loss: 0.2250 - val_accuracy: 0.6522 - val_loss: 0.2550\n",
      "Epoch 28/30\n",
      "\u001B[1m 1/31\u001B[0m \u001B[37m━━━━━━━━━━━━━━━━━━━━\u001B[0m \u001B[1m0s\u001B[0m 12ms/step - accuracy: 0.5625 - loss: 0.3140\n",
      "Epoch 28: val_loss did not improve from 0.19124\n",
      "\u001B[1m31/31\u001B[0m \u001B[32m━━━━━━━━━━━━━━━━━━━━\u001B[0m\u001B[37m\u001B[0m \u001B[1m0s\u001B[0m 1ms/step - accuracy: 0.6978 - loss: 0.2175 - val_accuracy: 0.6908 - val_loss: 0.2499\n",
      "Epoch 29/30\n",
      "\u001B[1m 1/31\u001B[0m \u001B[37m━━━━━━━━━━━━━━━━━━━━\u001B[0m \u001B[1m0s\u001B[0m 12ms/step - accuracy: 0.5000 - loss: 0.3613\n",
      "Epoch 29: val_loss did not improve from 0.19124\n",
      "\u001B[1m31/31\u001B[0m \u001B[32m━━━━━━━━━━━━━━━━━━━━\u001B[0m\u001B[37m\u001B[0m \u001B[1m0s\u001B[0m 1ms/step - accuracy: 0.6179 - loss: 0.2511 - val_accuracy: 0.6908 - val_loss: 0.2485\n",
      "Epoch 29: early stopping\n",
      "Restoring model weights from the end of the best epoch: 19.\n"
     ]
    }
   ],
   "execution_count": 28
  },
  {
   "metadata": {},
   "cell_type": "markdown",
   "source": [
    "# 15. matplotlib 를 이용해서 학습 mse, 검증 mse를 그래프로 그리시오.\n",
    "- 1개의 그래프에 학습 mse과 검증 mse 2가지를 모두 표시하세요.\n",
    "- 위 2가지 각각의 범례를 'mse', 'val_mse'로 표시하세요.\n",
    "- 그래프의 타이들은 'Model MSE'로 표시하세요.\n",
    "- X축에는 'Epochs'라고 표시하고 Y축에는 'MSE'라고 표시하세요."
   ],
   "id": "b707e6a0ed6e1671"
  },
  {
   "metadata": {
    "ExecuteTime": {
     "end_time": "2024-08-27T16:06:26.700550Z",
     "start_time": "2024-08-27T16:06:26.621911Z"
    }
   },
   "cell_type": "code",
   "source": [
    "import matplotlib.pyplot as plt\n",
    "\n",
    "mse = history.history['loss']\n",
    "val_mse = history.history['val_loss']\n",
    "\n",
    "epochs = range(1, len(mse) + 1)\n",
    "\n",
    "plt.plot(epochs, mse, 'b', label='Training loss')\n",
    "plt.plot(epochs, val_mse, 'r', label='Validation loss')\n",
    "plt.show()"
   ],
   "id": "ea6db99843f21d61",
   "outputs": [
    {
     "data": {
      "text/plain": [
       "<Figure size 640x480 with 1 Axes>"
      ],
      "image/png": "[encoded data removed]"
     },
     "metadata": {},
     "output_type": "display_data"
    }
   ],
   "execution_count": 32
  }
 ],
 "metadata": {
  "kernelspec": {
   "display_name": "Python 3",
   "language": "python",
   "name": "python3"
  },
  "language_info": {
   "codemirror_mode": {
    "name": "ipython",
    "version": 2
   },
   "file_extension": ".py",
   "mimetype": "text/x-python",
   "name": "python",
   "nbconvert_exporter": "python",
   "pygments_lexer": "ipython2",
   "version": "2.7.6"
  }
 },
 "nbformat": 4,
 "nbformat_minor": 5
}
