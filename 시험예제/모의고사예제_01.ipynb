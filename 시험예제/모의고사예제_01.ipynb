{
 "cells": [
  {
   "metadata": {},
   "cell_type": "markdown",
   "source": "# 1. 사이킷런 라이브러리를 임포트 하시오",
   "id": "cd88cd5ec4dabf9c"
  },
  {
   "metadata": {},
   "cell_type": "markdown",
   "source": [
    "### 데이터 설명\n",
    "학습용 데이터 셋을 활용하여 모델을 학습하고, 테스트용 데이터셋에 대한 생존 여부를 예측합니다. \n",
    "- 학습용 데이터 셋 (train.csv) : 891명의 승객 정보와 생존 여부를 포함한 데이터\n",
    "- 테스트용 데이터 셋 (test.csv) : 418명의 승객 정보를 포함한 데이터, 생존 여부는 누락되어 있습니다. \n",
    "\n",
    "\n",
    "| 컬럼명       | 내용                                                       |\n",
    "| :--------- | :--------------------------------------------------------- |\n",
    "| PassengerId  | 승객의 고유 식별자                                        |\n",
    "| Survived     | 생존 여부 (0: 사망, 1: 생존)                               |\n",
    "| Pclass       | 티켓 등급 (1: 1등석, 2: 2등석, 3: 3등석)                     |\n",
    "| Name         | 승객의 이름                                                |\n",
    "| Sex          | 승객의 성별 (male: 남성, female: 여성)                      |\n",
    "| Age          | 승객의 나이                                                |\n",
    "| SibSp        | 함께 탑승한 형제자매/배우자 수                              |\n",
    "| Parch        | 함께 탑승한 부모/자녀 수                                   |\n",
    "| Ticket       | 티켓 번호                                                  |\n",
    "| Fare         | 지불한 운임 요금                                           |\n",
    "| Cabin        | 객실 번호                                                  |\n",
    "| Embarked     | 탑승 항구 (C: Cherbourg, Q: Queenstown, S: Southampton)     |"
   ],
   "id": "f94f4a91497aefc5"
  },
  {
   "metadata": {
    "ExecuteTime": {
     "end_time": "2024-08-26T06:28:41.270939Z",
     "start_time": "2024-08-26T06:28:40.564675Z"
    }
   },
   "cell_type": "code",
   "source": "import sklearn as sk",
   "id": "4b8659e0257e99fb",
   "outputs": [],
   "execution_count": 1
  },
  {
   "metadata": {},
   "cell_type": "markdown",
   "source": "# 2. 판다스 라이브러리를 임포트 하시오.",
   "id": "b08684c372e75b1a"
  },
  {
   "metadata": {
    "ExecuteTime": {
     "end_time": "2024-08-26T06:28:51.517610Z",
     "start_time": "2024-08-26T06:28:51.348482Z"
    }
   },
   "cell_type": "code",
   "source": "import pandas as pd",
   "id": "af7888752d899119",
   "outputs": [],
   "execution_count": 2
  },
  {
   "metadata": {},
   "cell_type": "markdown",
   "source": "# 3. 로드한 데이터 프레임을 두개로 쪼개시오, 쪼개진 df의 id 컬럼은 동일하게 있어야함",
   "id": "f92268e7779b4593"
  },
  {
   "metadata": {
    "ExecuteTime": {
     "end_time": "2024-08-26T06:42:29.074892Z",
     "start_time": "2024-08-26T06:42:29.064505Z"
    }
   },
   "cell_type": "code",
   "source": [
    "df = pd.read_csv('./dataset/titanic_train.csv')\n",
    "df.head()\n",
    "\n",
    "df_one =  df[['PassengerId', 'Sex', 'Age']]\n",
    "\n",
    "df_two = df[df.columns[~df.columns.isin(['Sex', 'Age'])]]\n",
    "\n",
    "df_one.head(), df_two.head()"
   ],
   "id": "c7fae5a9fb93aee9",
   "outputs": [
    {
     "data": {
      "text/plain": [
       "(   PassengerId     Sex   Age\n",
       " 0            1    male  22.0\n",
       " 1            2  female  38.0\n",
       " 2            3  female  26.0\n",
       " 3            4  female  35.0\n",
       " 4            5    male  35.0,\n",
       "    PassengerId  Survived  Pclass  \\\n",
       " 0            1         0       3   \n",
       " 1            2         1       1   \n",
       " 2            3         1       3   \n",
       " 3            4         1       1   \n",
       " 4            5         0       3   \n",
       " \n",
       "                                                 Name  SibSp  Parch  \\\n",
       " 0                            Braund, Mr. Owen Harris      1      0   \n",
       " 1  Cumings, Mrs. John Bradley (Florence Briggs Th...      1      0   \n",
       " 2                             Heikkinen, Miss. Laina      0      0   \n",
       " 3       Futrelle, Mrs. Jacques Heath (Lily May Peel)      1      0   \n",
       " 4                           Allen, Mr. William Henry      0      0   \n",
       " \n",
       "              Ticket     Fare Cabin Embarked  \n",
       " 0         A/5 21171   7.2500   NaN        S  \n",
       " 1          PC 17599  71.2833   C85        C  \n",
       " 2  STON/O2. 3101282   7.9250   NaN        S  \n",
       " 3            113803  53.1000  C123        S  \n",
       " 4            373450   8.0500   NaN        S  )"
      ]
     },
     "execution_count": 21,
     "metadata": {},
     "output_type": "execute_result"
    }
   ],
   "execution_count": 21
  },
  {
   "metadata": {},
   "cell_type": "markdown",
   "source": "",
   "id": "60bcdfbbb5b49211"
  },
  {
   "metadata": {},
   "cell_type": "markdown",
   "source": "# 4. 쪼개진 df를 합치시오. dataframe의 Merge 사용",
   "id": "2bc7ef1ebe56d35b"
  },
  {
   "metadata": {
    "ExecuteTime": {
     "end_time": "2024-08-26T06:42:08.033719Z",
     "start_time": "2024-08-26T06:42:08.023280Z"
    }
   },
   "cell_type": "code",
   "source": [
    "result = pd.merge(df_one, df_two, on='PassengerId', how='inner')\n",
    "\n",
    "result.head()"
   ],
   "id": "43efe62899005f7e",
   "outputs": [
    {
     "data": {
      "text/plain": [
       "   PassengerId     Sex   Age  Survived  Pclass  \\\n",
       "0            1    male  22.0         0       3   \n",
       "1            2  female  38.0         1       1   \n",
       "2            3  female  26.0         1       3   \n",
       "3            4  female  35.0         1       1   \n",
       "4            5    male  35.0         0       3   \n",
       "\n",
       "                                                Name  SibSp  Parch  \\\n",
       "0                            Braund, Mr. Owen Harris      1      0   \n",
       "1  Cumings, Mrs. John Bradley (Florence Briggs Th...      1      0   \n",
       "2                             Heikkinen, Miss. Laina      0      0   \n",
       "3       Futrelle, Mrs. Jacques Heath (Lily May Peel)      1      0   \n",
       "4                           Allen, Mr. William Henry      0      0   \n",
       "\n",
       "             Ticket     Fare Cabin Embarked  \n",
       "0         A/5 21171   7.2500   NaN        S  \n",
       "1          PC 17599  71.2833   C85        C  \n",
       "2  STON/O2. 3101282   7.9250   NaN        S  \n",
       "3            113803  53.1000  C123        S  \n",
       "4            373450   8.0500   NaN        S  "
      ],
      "text/html": [
       "<div>\n",
       "<style scoped>\n",
       "    .dataframe tbody tr th:only-of-type {\n",
       "        vertical-align: middle;\n",
       "    }\n",
       "\n",
       "    .dataframe tbody tr th {\n",
       "        vertical-align: top;\n",
       "    }\n",
       "\n",
       "    .dataframe thead th {\n",
       "        text-align: right;\n",
       "    }\n",
       "</style>\n",
       "<table border=\"1\" class=\"dataframe\">\n",
       "  <thead>\n",
       "    <tr style=\"text-align: right;\">\n",
       "      <th></th>\n",
       "      <th>PassengerId</th>\n",
       "      <th>Sex</th>\n",
       "      <th>Age</th>\n",
       "      <th>Survived</th>\n",
       "      <th>Pclass</th>\n",
       "      <th>Name</th>\n",
       "      <th>SibSp</th>\n",
       "      <th>Parch</th>\n",
       "      <th>Ticket</th>\n",
       "      <th>Fare</th>\n",
       "      <th>Cabin</th>\n",
       "      <th>Embarked</th>\n",
       "    </tr>\n",
       "  </thead>\n",
       "  <tbody>\n",
       "    <tr>\n",
       "      <th>0</th>\n",
       "      <td>1</td>\n",
       "      <td>male</td>\n",
       "      <td>22.0</td>\n",
       "      <td>0</td>\n",
       "      <td>3</td>\n",
       "      <td>Braund, Mr. Owen Harris</td>\n",
       "      <td>1</td>\n",
       "      <td>0</td>\n",
       "      <td>A/5 21171</td>\n",
       "      <td>7.2500</td>\n",
       "      <td>NaN</td>\n",
       "      <td>S</td>\n",
       "    </tr>\n",
       "    <tr>\n",
       "      <th>1</th>\n",
       "      <td>2</td>\n",
       "      <td>female</td>\n",
       "      <td>38.0</td>\n",
       "      <td>1</td>\n",
       "      <td>1</td>\n",
       "      <td>Cumings, Mrs. John Bradley (Florence Briggs Th...</td>\n",
       "      <td>1</td>\n",
       "      <td>0</td>\n",
       "      <td>PC 17599</td>\n",
       "      <td>71.2833</td>\n",
       "      <td>C85</td>\n",
       "      <td>C</td>\n",
       "    </tr>\n",
       "    <tr>\n",
       "      <th>2</th>\n",
       "      <td>3</td>\n",
       "      <td>female</td>\n",
       "      <td>26.0</td>\n",
       "      <td>1</td>\n",
       "      <td>3</td>\n",
       "      <td>Heikkinen, Miss. Laina</td>\n",
       "      <td>0</td>\n",
       "      <td>0</td>\n",
       "      <td>STON/O2. 3101282</td>\n",
       "      <td>7.9250</td>\n",
       "      <td>NaN</td>\n",
       "      <td>S</td>\n",
       "    </tr>\n",
       "    <tr>\n",
       "      <th>3</th>\n",
       "      <td>4</td>\n",
       "      <td>female</td>\n",
       "      <td>35.0</td>\n",
       "      <td>1</td>\n",
       "      <td>1</td>\n",
       "      <td>Futrelle, Mrs. Jacques Heath (Lily May Peel)</td>\n",
       "      <td>1</td>\n",
       "      <td>0</td>\n",
       "      <td>113803</td>\n",
       "      <td>53.1000</td>\n",
       "      <td>C123</td>\n",
       "      <td>S</td>\n",
       "    </tr>\n",
       "    <tr>\n",
       "      <th>4</th>\n",
       "      <td>5</td>\n",
       "      <td>male</td>\n",
       "      <td>35.0</td>\n",
       "      <td>0</td>\n",
       "      <td>3</td>\n",
       "      <td>Allen, Mr. William Henry</td>\n",
       "      <td>0</td>\n",
       "      <td>0</td>\n",
       "      <td>373450</td>\n",
       "      <td>8.0500</td>\n",
       "      <td>NaN</td>\n",
       "      <td>S</td>\n",
       "    </tr>\n",
       "  </tbody>\n",
       "</table>\n",
       "</div>"
      ]
     },
     "execution_count": 20,
     "metadata": {},
     "output_type": "execute_result"
    }
   ],
   "execution_count": 20
  },
  {
   "metadata": {},
   "cell_type": "markdown",
   "source": "# 5. Pclass 의 분포도를 seaborn countplot 으로 그리시오",
   "id": "eeefe7d7a0ed5786"
  },
  {
   "metadata": {
    "ExecuteTime": {
     "end_time": "2024-08-26T06:45:12.655492Z",
     "start_time": "2024-08-26T06:45:12.172847Z"
    }
   },
   "cell_type": "code",
   "source": [
    "import seaborn as sns\n",
    "\n",
    "sns.countplot(df, x='Pclass')"
   ],
   "id": "8ee422c91b463e13",
   "outputs": [
    {
     "data": {
      "text/plain": [
       "<Axes: xlabel='Pclass', ylabel='count'>"
      ]
     },
     "execution_count": 22,
     "metadata": {},
     "output_type": "execute_result"
    },
    {
     "data": {
      "text/plain": [
       "<Figure size 640x480 with 1 Axes>"
      ],
      "image/png": "[encoded data removed]"
     },
     "metadata": {},
     "output_type": "display_data"
    }
   ],
   "execution_count": 22
  },
  {
   "metadata": {},
   "cell_type": "markdown",
   "source": "# 6. age, pclass의 Joint plot 를 그리시오.",
   "id": "f623b54390acccbd"
  },
  {
   "metadata": {
    "ExecuteTime": {
     "end_time": "2024-08-26T06:51:08.030149Z",
     "start_time": "2024-08-26T06:51:07.852560Z"
    }
   },
   "cell_type": "code",
   "source": "sns.jointplot(df, x='Age', y='SibSp')",
   "id": "ea8cb5e7e845b78b",
   "outputs": [
    {
     "data": {
      "text/plain": [
       "<seaborn.axisgrid.JointGrid at 0x1726c9bd0>"
      ]
     },
     "execution_count": 24,
     "metadata": {},
     "output_type": "execute_result"
    },
    {
     "data": {
      "text/plain": [
       "<Figure size 600x600 with 3 Axes>"
      ],
      "image/png": "[encoded data removed]"
     },
     "metadata": {},
     "output_type": "display_data"
    }
   ],
   "execution_count": 24
  },
  {
   "metadata": {},
   "cell_type": "markdown",
   "source": [
    "# 7. 나이 이상치를 확인, 불필요 컬럼 삭제\n",
    "- 나이가 60세 이상인 데이터 삭제\n",
    "- PassengerId, Ticket, Fare, Cabin, Embarked 컬럼 삭제"
   ],
   "id": "3b56b4dafa0c8283"
  },
  {
   "metadata": {
    "ExecuteTime": {
     "end_time": "2024-08-27T00:33:42.538444Z",
     "start_time": "2024-08-27T00:33:42.530619Z"
    }
   },
   "cell_type": "code",
   "source": [
    "temp_df = df[df['Age'] < 60]\n",
    "\n",
    "temp_df = temp_df.drop(axis=1, columns=['PassengerId', 'Ticket', 'Fare', 'Cabin', 'Embarked', 'Name'])\n",
    "\n",
    "temp_df.head()"
   ],
   "id": "968eea3a4a0be1b2",
   "outputs": [
    {
     "data": {
      "text/plain": [
       "   Survived  Pclass     Sex   Age  SibSp  Parch\n",
       "0         0       3    male  22.0      1      0\n",
       "1         1       1  female  38.0      1      0\n",
       "2         1       3  female  26.0      0      0\n",
       "3         1       1  female  35.0      1      0\n",
       "4         0       3    male  35.0      0      0"
      ],
      "text/html": [
       "<div>\n",
       "<style scoped>\n",
       "    .dataframe tbody tr th:only-of-type {\n",
       "        vertical-align: middle;\n",
       "    }\n",
       "\n",
       "    .dataframe tbody tr th {\n",
       "        vertical-align: top;\n",
       "    }\n",
       "\n",
       "    .dataframe thead th {\n",
       "        text-align: right;\n",
       "    }\n",
       "</style>\n",
       "<table border=\"1\" class=\"dataframe\">\n",
       "  <thead>\n",
       "    <tr style=\"text-align: right;\">\n",
       "      <th></th>\n",
       "      <th>Survived</th>\n",
       "      <th>Pclass</th>\n",
       "      <th>Sex</th>\n",
       "      <th>Age</th>\n",
       "      <th>SibSp</th>\n",
       "      <th>Parch</th>\n",
       "    </tr>\n",
       "  </thead>\n",
       "  <tbody>\n",
       "    <tr>\n",
       "      <th>0</th>\n",
       "      <td>0</td>\n",
       "      <td>3</td>\n",
       "      <td>male</td>\n",
       "      <td>22.0</td>\n",
       "      <td>1</td>\n",
       "      <td>0</td>\n",
       "    </tr>\n",
       "    <tr>\n",
       "      <th>1</th>\n",
       "      <td>1</td>\n",
       "      <td>1</td>\n",
       "      <td>female</td>\n",
       "      <td>38.0</td>\n",
       "      <td>1</td>\n",
       "      <td>0</td>\n",
       "    </tr>\n",
       "    <tr>\n",
       "      <th>2</th>\n",
       "      <td>1</td>\n",
       "      <td>3</td>\n",
       "      <td>female</td>\n",
       "      <td>26.0</td>\n",
       "      <td>0</td>\n",
       "      <td>0</td>\n",
       "    </tr>\n",
       "    <tr>\n",
       "      <th>3</th>\n",
       "      <td>1</td>\n",
       "      <td>1</td>\n",
       "      <td>female</td>\n",
       "      <td>35.0</td>\n",
       "      <td>1</td>\n",
       "      <td>0</td>\n",
       "    </tr>\n",
       "    <tr>\n",
       "      <th>4</th>\n",
       "      <td>0</td>\n",
       "      <td>3</td>\n",
       "      <td>male</td>\n",
       "      <td>35.0</td>\n",
       "      <td>0</td>\n",
       "      <td>0</td>\n",
       "    </tr>\n",
       "  </tbody>\n",
       "</table>\n",
       "</div>"
      ]
     },
     "execution_count": 84,
     "metadata": {},
     "output_type": "execute_result"
    }
   ],
   "execution_count": 84
  },
  {
   "metadata": {},
   "cell_type": "markdown",
   "source": [
    "# 8. 결측치 삭제\n",
    "- 전체 결측치의 갯수 출력\n",
    "- Age의 결측치를 삭제\n",
    "- 전체 결측치를 삭제"
   ],
   "id": "da2f03016b6db930"
  },
  {
   "metadata": {
    "ExecuteTime": {
     "end_time": "2024-08-27T00:34:18.160811Z",
     "start_time": "2024-08-27T00:34:18.153736Z"
    }
   },
   "cell_type": "code",
   "source": [
    "print(df.isnull().sum().sum())\n",
    "\n",
    "sample_df = temp_df.dropna(subset=['Age'])\n",
    "\n",
    "sample_df = temp_df.dropna() \n",
    "\n",
    "print(sample_df.isnull().sum().sum())"
   ],
   "id": "8bcd55518d18c8e4",
   "outputs": [
    {
     "name": "stdout",
     "output_type": "stream",
     "text": [
      "866\n",
      "0\n"
     ]
    }
   ],
   "execution_count": 90
  },
  {
   "metadata": {},
   "cell_type": "markdown",
   "source": "# 9. object 타입 원핫 인코딩",
   "id": "232583079e28b0bb"
  },
  {
   "metadata": {
    "ExecuteTime": {
     "end_time": "2024-08-27T08:41:08.598630Z",
     "start_time": "2024-08-27T08:41:08.572082Z"
    }
   },
   "cell_type": "code",
   "source": [
    "sample_df.info()\n",
    "\n",
    "pd.get_dummies(sample_df, columns=['Sex'], drop_first=True)\n"
   ],
   "id": "c03a96164c28f7b7",
   "outputs": [
    {
     "name": "stdout",
     "output_type": "stream",
     "text": [
      "<class 'pandas.core.frame.DataFrame'>\n",
      "Index: 688 entries, 0 to 890\n",
      "Data columns (total 6 columns):\n",
      " #   Column    Non-Null Count  Dtype  \n",
      "---  ------    --------------  -----  \n",
      " 0   Survived  688 non-null    int64  \n",
      " 1   Pclass    688 non-null    int64  \n",
      " 2   Age       688 non-null    float64\n",
      " 3   SibSp     688 non-null    int64  \n",
      " 4   Parch     688 non-null    int64  \n",
      " 5   Sex_male  688 non-null    bool   \n",
      "dtypes: bool(1), float64(1), int64(4)\n",
      "memory usage: 32.9 KB\n"
     ]
    },
    {
     "ename": "KeyError",
     "evalue": "\"None of [Index(['Sex'], dtype='object')] are in the [columns]\"",
     "output_type": "error",
     "traceback": [
      "\u001B[0;31m---------------------------------------------------------------------------\u001B[0m",
      "\u001B[0;31mKeyError\u001B[0m                                  Traceback (most recent call last)",
      "Cell \u001B[0;32mIn[109], line 3\u001B[0m\n\u001B[1;32m      1\u001B[0m sample_df\u001B[38;5;241m.\u001B[39minfo()\n\u001B[0;32m----> 3\u001B[0m pd\u001B[38;5;241m.\u001B[39mget_dummies(sample_df, columns\u001B[38;5;241m=\u001B[39m[\u001B[38;5;124m'\u001B[39m\u001B[38;5;124mSex\u001B[39m\u001B[38;5;124m'\u001B[39m], drop_first\u001B[38;5;241m=\u001B[39m\u001B[38;5;28;01mTrue\u001B[39;00m)\n",
      "File \u001B[0;32m/opt/anaconda3/envs/aice/lib/python3.11/site-packages/pandas/core/reshape/encoding.py:169\u001B[0m, in \u001B[0;36mget_dummies\u001B[0;34m(data, prefix, prefix_sep, dummy_na, columns, sparse, drop_first, dtype)\u001B[0m\n\u001B[1;32m    167\u001B[0m     \u001B[38;5;28;01mraise\u001B[39;00m \u001B[38;5;167;01mTypeError\u001B[39;00m(\u001B[38;5;124m\"\u001B[39m\u001B[38;5;124mInput must be a list-like for parameter `columns`\u001B[39m\u001B[38;5;124m\"\u001B[39m)\n\u001B[1;32m    168\u001B[0m \u001B[38;5;28;01melse\u001B[39;00m:\n\u001B[0;32m--> 169\u001B[0m     data_to_encode \u001B[38;5;241m=\u001B[39m data[columns]\n\u001B[1;32m    171\u001B[0m \u001B[38;5;66;03m# validate prefixes and separator to avoid silently dropping cols\u001B[39;00m\n\u001B[1;32m    172\u001B[0m \u001B[38;5;28;01mdef\u001B[39;00m \u001B[38;5;21mcheck_len\u001B[39m(item, name: \u001B[38;5;28mstr\u001B[39m):\n",
      "File \u001B[0;32m/opt/anaconda3/envs/aice/lib/python3.11/site-packages/pandas/core/frame.py:4108\u001B[0m, in \u001B[0;36mDataFrame.__getitem__\u001B[0;34m(self, key)\u001B[0m\n\u001B[1;32m   4106\u001B[0m     \u001B[38;5;28;01mif\u001B[39;00m is_iterator(key):\n\u001B[1;32m   4107\u001B[0m         key \u001B[38;5;241m=\u001B[39m \u001B[38;5;28mlist\u001B[39m(key)\n\u001B[0;32m-> 4108\u001B[0m     indexer \u001B[38;5;241m=\u001B[39m \u001B[38;5;28mself\u001B[39m\u001B[38;5;241m.\u001B[39mcolumns\u001B[38;5;241m.\u001B[39m_get_indexer_strict(key, \u001B[38;5;124m\"\u001B[39m\u001B[38;5;124mcolumns\u001B[39m\u001B[38;5;124m\"\u001B[39m)[\u001B[38;5;241m1\u001B[39m]\n\u001B[1;32m   4110\u001B[0m \u001B[38;5;66;03m# take() does not accept boolean indexers\u001B[39;00m\n\u001B[1;32m   4111\u001B[0m \u001B[38;5;28;01mif\u001B[39;00m \u001B[38;5;28mgetattr\u001B[39m(indexer, \u001B[38;5;124m\"\u001B[39m\u001B[38;5;124mdtype\u001B[39m\u001B[38;5;124m\"\u001B[39m, \u001B[38;5;28;01mNone\u001B[39;00m) \u001B[38;5;241m==\u001B[39m \u001B[38;5;28mbool\u001B[39m:\n",
      "File \u001B[0;32m/opt/anaconda3/envs/aice/lib/python3.11/site-packages/pandas/core/indexes/base.py:6200\u001B[0m, in \u001B[0;36mIndex._get_indexer_strict\u001B[0;34m(self, key, axis_name)\u001B[0m\n\u001B[1;32m   6197\u001B[0m \u001B[38;5;28;01melse\u001B[39;00m:\n\u001B[1;32m   6198\u001B[0m     keyarr, indexer, new_indexer \u001B[38;5;241m=\u001B[39m \u001B[38;5;28mself\u001B[39m\u001B[38;5;241m.\u001B[39m_reindex_non_unique(keyarr)\n\u001B[0;32m-> 6200\u001B[0m \u001B[38;5;28mself\u001B[39m\u001B[38;5;241m.\u001B[39m_raise_if_missing(keyarr, indexer, axis_name)\n\u001B[1;32m   6202\u001B[0m keyarr \u001B[38;5;241m=\u001B[39m \u001B[38;5;28mself\u001B[39m\u001B[38;5;241m.\u001B[39mtake(indexer)\n\u001B[1;32m   6203\u001B[0m \u001B[38;5;28;01mif\u001B[39;00m \u001B[38;5;28misinstance\u001B[39m(key, Index):\n\u001B[1;32m   6204\u001B[0m     \u001B[38;5;66;03m# GH 42790 - Preserve name from an Index\u001B[39;00m\n",
      "File \u001B[0;32m/opt/anaconda3/envs/aice/lib/python3.11/site-packages/pandas/core/indexes/base.py:6249\u001B[0m, in \u001B[0;36mIndex._raise_if_missing\u001B[0;34m(self, key, indexer, axis_name)\u001B[0m\n\u001B[1;32m   6247\u001B[0m \u001B[38;5;28;01mif\u001B[39;00m nmissing:\n\u001B[1;32m   6248\u001B[0m     \u001B[38;5;28;01mif\u001B[39;00m nmissing \u001B[38;5;241m==\u001B[39m \u001B[38;5;28mlen\u001B[39m(indexer):\n\u001B[0;32m-> 6249\u001B[0m         \u001B[38;5;28;01mraise\u001B[39;00m \u001B[38;5;167;01mKeyError\u001B[39;00m(\u001B[38;5;124mf\u001B[39m\u001B[38;5;124m\"\u001B[39m\u001B[38;5;124mNone of [\u001B[39m\u001B[38;5;132;01m{\u001B[39;00mkey\u001B[38;5;132;01m}\u001B[39;00m\u001B[38;5;124m] are in the [\u001B[39m\u001B[38;5;132;01m{\u001B[39;00maxis_name\u001B[38;5;132;01m}\u001B[39;00m\u001B[38;5;124m]\u001B[39m\u001B[38;5;124m\"\u001B[39m)\n\u001B[1;32m   6251\u001B[0m     not_found \u001B[38;5;241m=\u001B[39m \u001B[38;5;28mlist\u001B[39m(ensure_index(key)[missing_mask\u001B[38;5;241m.\u001B[39mnonzero()[\u001B[38;5;241m0\u001B[39m]]\u001B[38;5;241m.\u001B[39munique())\n\u001B[1;32m   6252\u001B[0m     \u001B[38;5;28;01mraise\u001B[39;00m \u001B[38;5;167;01mKeyError\u001B[39;00m(\u001B[38;5;124mf\u001B[39m\u001B[38;5;124m\"\u001B[39m\u001B[38;5;132;01m{\u001B[39;00mnot_found\u001B[38;5;132;01m}\u001B[39;00m\u001B[38;5;124m not in index\u001B[39m\u001B[38;5;124m\"\u001B[39m)\n",
      "\u001B[0;31mKeyError\u001B[0m: \"None of [Index(['Sex'], dtype='object')] are in the [columns]\""
     ]
    }
   ],
   "execution_count": 109
  },
  {
   "metadata": {},
   "cell_type": "markdown",
   "source": "# 10. 테스트, 검증셋 분리",
   "id": "104a70f885339509"
  },
  {
   "metadata": {
    "ExecuteTime": {
     "end_time": "2024-08-27T09:28:01.286634Z",
     "start_time": "2024-08-27T09:28:01.282503Z"
    }
   },
   "cell_type": "code",
   "source": [
    "from sklearn.model_selection import train_test_split\n",
    "\n",
    "X = sample_df.drop(columns=['Survived'], axis=1)\n",
    "y = sample_df['Survived']\n",
    "\n",
    "print(X.shape)\n",
    "print(y.shape)\n",
    "\n",
    "X_train, x_valid, Y_train, y_valid = train_test_split(X, y, test_size=0.3, random_state=42)\n"
   ],
   "id": "7780731f9b64e4aa",
   "outputs": [
    {
     "name": "stdout",
     "output_type": "stream",
     "text": [
      "(688, 5)\n",
      "(688,)\n"
     ]
    }
   ],
   "execution_count": 137
  },
  {
   "metadata": {},
   "cell_type": "markdown",
   "source": "# 11. RobustScalar 수행",
   "id": "430b46f3ae87bd32"
  },
  {
   "metadata": {
    "ExecuteTime": {
     "end_time": "2024-08-27T09:28:03.393145Z",
     "start_time": "2024-08-27T09:28:03.381164Z"
    }
   },
   "cell_type": "code",
   "source": [
    "from sklearn.linear_model import LogisticRegression\n",
    "import numpy as np\n",
    "from sklearn.metrics import mean_squared_error\n",
    "\n",
    "clf = LogisticRegression().fit(X_train, Y_train)\n",
    "x_predict = clf.predict(x_valid)\n",
    "\n",
    "print(np.sqrt(mean_squared_error(y_valid, x_predict)))"
   ],
   "id": "ede586fc0f662204",
   "outputs": [
    {
     "name": "stdout",
     "output_type": "stream",
     "text": [
      "0.45577348387004024\n"
     ]
    }
   ],
   "execution_count": 138
  },
  {
   "metadata": {
    "ExecuteTime": {
     "end_time": "2024-08-27T09:28:05.052646Z",
     "start_time": "2024-08-27T09:28:05.043981Z"
    }
   },
   "cell_type": "code",
   "source": [
    "from sklearn.preprocessing import RobustScaler\n",
    "\n",
    "scaler = RobustScaler()\n",
    "X_train_scaled = scaler.fit_transform(X_train)\n",
    "x_test_scaled = scaler.transform(x_valid)\n",
    "\n",
    "clf = LogisticRegression().fit(X_train_scaled, Y_train)\n",
    "y_predict_scaled = clf.predict(x_test_scaled)\n",
    "\n",
    "print(np.sqrt(mean_squared_error(y_valid, y_predict_scaled)))"
   ],
   "id": "2b725ebe756ea763",
   "outputs": [
    {
     "name": "stdout",
     "output_type": "stream",
     "text": [
      "0.45577348387004024\n"
     ]
    }
   ],
   "execution_count": 139
  },
  {
   "metadata": {},
   "cell_type": "markdown",
   "source": "# 12. 의사결정나무, 랜덤포레스트 모델 학습",
   "id": "e4a681cb5b4fa696"
  },
  {
   "metadata": {
    "ExecuteTime": {
     "end_time": "2024-08-27T09:28:06.673952Z",
     "start_time": "2024-08-27T09:28:06.666772Z"
    }
   },
   "cell_type": "code",
   "source": [
    "from sklearn.tree import DecisionTreeClassifier\n",
    "\n",
    "dtc = DecisionTreeClassifier()\n",
    "dtc.fit(X_train, Y_train)\n",
    "baseline = dtc.predict(x_valid)\n",
    "\n",
    "print(dtc.score(X_train, Y_train))"
   ],
   "id": "b6eca74e0ba52362",
   "outputs": [
    {
     "name": "stdout",
     "output_type": "stream",
     "text": [
      "0.9501039501039501\n"
     ]
    }
   ],
   "execution_count": 140
  },
  {
   "metadata": {},
   "cell_type": "markdown",
   "source": "# 13. 모델의 성능 평가. mae 사용, 둘중에 나은 모델 확인",
   "id": "2f43f283610f4440"
  },
  {
   "metadata": {},
   "cell_type": "code",
   "outputs": [],
   "execution_count": null,
   "source": "",
   "id": "3c2ee1f4c91c4663"
  },
  {
   "metadata": {},
   "cell_type": "markdown",
   "source": [
    "# 14. 나이를 예측 하는 딥러닝 모델을 생성 하시오. \n",
    "- Tensorflow framework를 사용하여 딥러닝 모델을 만드세요.\n",
    "- 히든레이어(hidden layer) 2개이상으로 모델을 구성하세요.\n",
    "- dropout 비율 0.2로 Dropout 레이어 1개를 추가해 주세요.\n",
    "- 손실함수는 MSE(Mean Squared Error)를 사용하세요.\n",
    "- 하이퍼파라미터 epochs : 30, batch_size : 16 으로 설정해 주세요.\n",
    "- 각 에포크마다 loss와 metrics 평가하기 위한 데이터로 X_valid, y_valid 사용하세요.\n",
    "- 학습정보는 history 변수에 저장해 주세요. "
   ],
   "id": "dea9b639dc99c78f"
  },
  {
   "metadata": {
    "ExecuteTime": {
     "end_time": "2024-08-26T06:26:24.441650Z",
     "start_time": "2024-08-26T06:26:20.697988Z"
    }
   },
   "cell_type": "code",
   "source": [
    "import tensorflow as tf \n",
    "from tensorflow.keras.models import Sequential, load_model\n",
    "from tensorflow.keras. layers import Dense, Activation, Dropout, BatchNormalization \n",
    "from tensorflow.keras.callbacks import EarlyStopping, ModelCheckpoint \n",
    "from tensorflow. keras.utils import to_categorical\n",
    "\n",
    "tf. random. set_seed (1)\n",
    "\n"
   ],
   "id": "36ee782c9c34ae6b",
   "outputs": [],
   "execution_count": 1
  },
  {
   "metadata": {},
   "cell_type": "markdown",
   "source": [
    "# 15. matpolitlib 를 이용해서 학습 mse, 검증 mse를 그래프로 그리시오.\n",
    "- 1개의 그래프에 학습 mse과 검증 mse 2가지를 모두 표시하세요.\n",
    "- 위 2가지 각각의 범례를 'mse', 'val_mse'로 표시하세요.\n",
    "- 그래프의 타이들은 'Model MSE'로 표시하세요.\n",
    "- X축에는 'Epochs'라고 표시하고 Y축에는 'MSE'라고 표시하세요."
   ],
   "id": "b707e6a0ed6e1671"
  },
  {
   "metadata": {},
   "cell_type": "code",
   "outputs": [],
   "execution_count": null,
   "source": "",
   "id": "ea6db99843f21d61"
  }
 ],
 "metadata": {
  "kernelspec": {
   "display_name": "Python 3",
   "language": "python",
   "name": "python3"
  },
  "language_info": {
   "codemirror_mode": {
    "name": "ipython",
    "version": 2
   },
   "file_extension": ".py",
   "mimetype": "text/x-python",
   "name": "python",
   "nbconvert_exporter": "python",
   "pygments_lexer": "ipython2",
   "version": "2.7.6"
  }
 },
 "nbformat": 4,
 "nbformat_minor": 5
}
