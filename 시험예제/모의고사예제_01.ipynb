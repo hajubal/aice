{
 "cells": [
  {
   "metadata": {},
   "cell_type": "markdown",
   "source": "# 1. 사이킷런 라이브러리를 임포트 하시오",
   "id": "cd88cd5ec4dabf9c"
  },
  {
   "metadata": {},
   "cell_type": "markdown",
   "source": [
    "### 데이터 설명\n",
    "학습용 데이터 셋을 활용하여 모델을 학습하고, 테스트용 데이터셋에 대한 생존 여부를 예측합니다. \n",
    "- 학습용 데이터 셋 (train.csv) : 891명의 승객 정보와 생존 여부를 포함한 데이터\n",
    "- 테스트용 데이터 셋 (test.csv) : 418명의 승객 정보를 포함한 데이터, 생존 여부는 누락되어 있습니다. \n",
    "\n",
    "\n",
    "| 컬럼명       | 내용                                                       |\n",
    "| :--------- | :--------------------------------------------------------- |\n",
    "| PassengerId  | 승객의 고유 식별자                                        |\n",
    "| Survived     | 생존 여부 (0: 사망, 1: 생존)                               |\n",
    "| Pclass       | 티켓 등급 (1: 1등석, 2: 2등석, 3: 3등석)                     |\n",
    "| Name         | 승객의 이름                                                |\n",
    "| Sex          | 승객의 성별 (male: 남성, female: 여성)                      |\n",
    "| Age          | 승객의 나이                                                |\n",
    "| SibSp        | 함께 탑승한 형제자매/배우자 수                              |\n",
    "| Parch        | 함께 탑승한 부모/자녀 수                                   |\n",
    "| Ticket       | 티켓 번호                                                  |\n",
    "| Fare         | 지불한 운임 요금                                           |\n",
    "| Cabin        | 객실 번호                                                  |\n",
    "| Embarked     | 탑승 항구 (C: Cherbourg, Q: Queenstown, S: Southampton)     |"
   ],
   "id": "f94f4a91497aefc5"
  },
  {
   "metadata": {
    "ExecuteTime": {
     "end_time": "2024-09-02T07:46:56.618653Z",
     "start_time": "2024-09-02T07:46:56.615689Z"
    }
   },
   "cell_type": "code",
   "source": "import sklearn as sk",
   "id": "4b8659e0257e99fb",
   "outputs": [],
   "execution_count": 149
  },
  {
   "metadata": {},
   "cell_type": "markdown",
   "source": "# 2. 판다스 라이브러리를 임포트 하시오.",
   "id": "b08684c372e75b1a"
  },
  {
   "metadata": {
    "ExecuteTime": {
     "end_time": "2024-09-02T07:46:56.649741Z",
     "start_time": "2024-09-02T07:46:56.647922Z"
    }
   },
   "cell_type": "code",
   "source": "import pandas as pd",
   "id": "af7888752d899119",
   "outputs": [],
   "execution_count": 150
  },
  {
   "metadata": {},
   "cell_type": "markdown",
   "source": "# 3. 로드한 데이터 프레임을 두개로 쪼개시오, 쪼개진 df의 id 컬럼은 동일하게 있어야함",
   "id": "f92268e7779b4593"
  },
  {
   "metadata": {
    "ExecuteTime": {
     "end_time": "2024-09-02T07:46:56.683896Z",
     "start_time": "2024-09-02T07:46:56.651014Z"
    }
   },
   "cell_type": "code",
   "source": [
    "df = pd.read_csv('./dataset/titanic_train.csv')\n",
    "df.head()\n",
    "\n",
    "df_one =  df[['PassengerId', 'Sex', 'Age']]\n",
    "\n",
    "df_two = df[df.columns[~df.columns.isin(['Sex', 'Age'])]]\n",
    "\n",
    "df_one.head(), df_two.head()"
   ],
   "id": "c7fae5a9fb93aee9",
   "outputs": [
    {
     "data": {
      "text/plain": [
       "(   PassengerId     Sex   Age\n",
       " 0            1    male  22.0\n",
       " 1            2  female  38.0\n",
       " 2            3  female  26.0\n",
       " 3            4  female  35.0\n",
       " 4            5    male  35.0,\n",
       "    PassengerId  Survived  Pclass  \\\n",
       " 0            1         0       3   \n",
       " 1            2         1       1   \n",
       " 2            3         1       3   \n",
       " 3            4         1       1   \n",
       " 4            5         0       3   \n",
       " \n",
       "                                                   Name  SibSp  Parch  \\\n",
       " 0                              Braund, Mr. Owen Harris      1      0   \n",
       " 1  Cumings, Mrs. John Bradley (Florence Briggs Thayer)      1      0   \n",
       " 2                               Heikkinen, Miss. Laina      0      0   \n",
       " 3         Futrelle, Mrs. Jacques Heath (Lily May Peel)      1      0   \n",
       " 4                             Allen, Mr. William Henry      0      0   \n",
       " \n",
       "              Ticket     Fare Cabin Embarked  \n",
       " 0         A/5 21171   7.2500   NaN        S  \n",
       " 1          PC 17599  71.2833   C85        C  \n",
       " 2  STON/O2. 3101282   7.9250   NaN        S  \n",
       " 3            113803  53.1000  C123        S  \n",
       " 4            373450   8.0500   NaN        S  )"
      ]
     },
     "execution_count": 151,
     "metadata": {},
     "output_type": "execute_result"
    }
   ],
   "execution_count": 151
  },
  {
   "metadata": {},
   "cell_type": "markdown",
   "source": "",
   "id": "60bcdfbbb5b49211"
  },
  {
   "metadata": {},
   "cell_type": "markdown",
   "source": "# 4. 쪼개진 df를 합치시오. dataframe의 Merge 사용",
   "id": "2bc7ef1ebe56d35b"
  },
  {
   "metadata": {
    "ExecuteTime": {
     "end_time": "2024-09-02T07:46:56.693456Z",
     "start_time": "2024-09-02T07:46:56.684748Z"
    }
   },
   "cell_type": "code",
   "source": [
    "result = pd.merge(df_one, df_two, on='PassengerId', how='inner')\n",
    "\n",
    "result.head()"
   ],
   "id": "43efe62899005f7e",
   "outputs": [
    {
     "data": {
      "text/plain": [
       "   PassengerId     Sex   Age  Survived  Pclass  \\\n",
       "0            1    male  22.0         0       3   \n",
       "1            2  female  38.0         1       1   \n",
       "2            3  female  26.0         1       3   \n",
       "3            4  female  35.0         1       1   \n",
       "4            5    male  35.0         0       3   \n",
       "\n",
       "                                                  Name  SibSp  Parch  \\\n",
       "0                              Braund, Mr. Owen Harris      1      0   \n",
       "1  Cumings, Mrs. John Bradley (Florence Briggs Thayer)      1      0   \n",
       "2                               Heikkinen, Miss. Laina      0      0   \n",
       "3         Futrelle, Mrs. Jacques Heath (Lily May Peel)      1      0   \n",
       "4                             Allen, Mr. William Henry      0      0   \n",
       "\n",
       "             Ticket     Fare Cabin Embarked  \n",
       "0         A/5 21171   7.2500   NaN        S  \n",
       "1          PC 17599  71.2833   C85        C  \n",
       "2  STON/O2. 3101282   7.9250   NaN        S  \n",
       "3            113803  53.1000  C123        S  \n",
       "4            373450   8.0500   NaN        S  "
      ],
      "text/html": [
       "<div>\n",
       "<style scoped>\n",
       "    .dataframe tbody tr th:only-of-type {\n",
       "        vertical-align: middle;\n",
       "    }\n",
       "\n",
       "    .dataframe tbody tr th {\n",
       "        vertical-align: top;\n",
       "    }\n",
       "\n",
       "    .dataframe thead th {\n",
       "        text-align: right;\n",
       "    }\n",
       "</style>\n",
       "<table border=\"1\" class=\"dataframe\">\n",
       "  <thead>\n",
       "    <tr style=\"text-align: right;\">\n",
       "      <th></th>\n",
       "      <th>PassengerId</th>\n",
       "      <th>Sex</th>\n",
       "      <th>Age</th>\n",
       "      <th>Survived</th>\n",
       "      <th>Pclass</th>\n",
       "      <th>Name</th>\n",
       "      <th>SibSp</th>\n",
       "      <th>Parch</th>\n",
       "      <th>Ticket</th>\n",
       "      <th>Fare</th>\n",
       "      <th>Cabin</th>\n",
       "      <th>Embarked</th>\n",
       "    </tr>\n",
       "  </thead>\n",
       "  <tbody>\n",
       "    <tr>\n",
       "      <th>0</th>\n",
       "      <td>1</td>\n",
       "      <td>male</td>\n",
       "      <td>22.0</td>\n",
       "      <td>0</td>\n",
       "      <td>3</td>\n",
       "      <td>Braund, Mr. Owen Harris</td>\n",
       "      <td>1</td>\n",
       "      <td>0</td>\n",
       "      <td>A/5 21171</td>\n",
       "      <td>7.2500</td>\n",
       "      <td>NaN</td>\n",
       "      <td>S</td>\n",
       "    </tr>\n",
       "    <tr>\n",
       "      <th>1</th>\n",
       "      <td>2</td>\n",
       "      <td>female</td>\n",
       "      <td>38.0</td>\n",
       "      <td>1</td>\n",
       "      <td>1</td>\n",
       "      <td>Cumings, Mrs. John Bradley (Florence Briggs Thayer)</td>\n",
       "      <td>1</td>\n",
       "      <td>0</td>\n",
       "      <td>PC 17599</td>\n",
       "      <td>71.2833</td>\n",
       "      <td>C85</td>\n",
       "      <td>C</td>\n",
       "    </tr>\n",
       "    <tr>\n",
       "      <th>2</th>\n",
       "      <td>3</td>\n",
       "      <td>female</td>\n",
       "      <td>26.0</td>\n",
       "      <td>1</td>\n",
       "      <td>3</td>\n",
       "      <td>Heikkinen, Miss. Laina</td>\n",
       "      <td>0</td>\n",
       "      <td>0</td>\n",
       "      <td>STON/O2. 3101282</td>\n",
       "      <td>7.9250</td>\n",
       "      <td>NaN</td>\n",
       "      <td>S</td>\n",
       "    </tr>\n",
       "    <tr>\n",
       "      <th>3</th>\n",
       "      <td>4</td>\n",
       "      <td>female</td>\n",
       "      <td>35.0</td>\n",
       "      <td>1</td>\n",
       "      <td>1</td>\n",
       "      <td>Futrelle, Mrs. Jacques Heath (Lily May Peel)</td>\n",
       "      <td>1</td>\n",
       "      <td>0</td>\n",
       "      <td>113803</td>\n",
       "      <td>53.1000</td>\n",
       "      <td>C123</td>\n",
       "      <td>S</td>\n",
       "    </tr>\n",
       "    <tr>\n",
       "      <th>4</th>\n",
       "      <td>5</td>\n",
       "      <td>male</td>\n",
       "      <td>35.0</td>\n",
       "      <td>0</td>\n",
       "      <td>3</td>\n",
       "      <td>Allen, Mr. William Henry</td>\n",
       "      <td>0</td>\n",
       "      <td>0</td>\n",
       "      <td>373450</td>\n",
       "      <td>8.0500</td>\n",
       "      <td>NaN</td>\n",
       "      <td>S</td>\n",
       "    </tr>\n",
       "  </tbody>\n",
       "</table>\n",
       "</div>"
      ]
     },
     "execution_count": 152,
     "metadata": {},
     "output_type": "execute_result"
    }
   ],
   "execution_count": 152
  },
  {
   "metadata": {},
   "cell_type": "markdown",
   "source": "# 5. Pclass 의 분포도를 seaborn countplot 으로 그리시오",
   "id": "eeefe7d7a0ed5786"
  },
  {
   "metadata": {
    "ExecuteTime": {
     "end_time": "2024-09-02T07:46:56.805084Z",
     "start_time": "2024-09-02T07:46:56.694265Z"
    }
   },
   "cell_type": "code",
   "source": [
    "import seaborn as sns\n",
    "\n",
    "sns.countplot(df, x='Pclass')"
   ],
   "id": "8ee422c91b463e13",
   "outputs": [
    {
     "data": {
      "text/plain": [
       "<Axes: xlabel='Pclass', ylabel='count'>"
      ]
     },
     "execution_count": 153,
     "metadata": {},
     "output_type": "execute_result"
    },
    {
     "data": {
      "text/plain": [
       "<Figure size 640x480 with 1 Axes>"
      ],
      "image/png": "[encoded data removed]"
     },
     "metadata": {},
     "output_type": "display_data"
    }
   ],
   "execution_count": 153
  },
  {
   "metadata": {},
   "cell_type": "markdown",
   "source": "# 6. age, pclass의 Joint plot 를 그리시오.",
   "id": "f623b54390acccbd"
  },
  {
   "metadata": {
    "ExecuteTime": {
     "end_time": "2024-09-02T07:46:57.008989Z",
     "start_time": "2024-09-02T07:46:56.806506Z"
    }
   },
   "cell_type": "code",
   "source": "sns.jointplot(df, x='Age', y='SibSp')",
   "id": "ea8cb5e7e845b78b",
   "outputs": [
    {
     "data": {
      "text/plain": [
       "<seaborn.axisgrid.JointGrid at 0x3114d0ed0>"
      ]
     },
     "execution_count": 154,
     "metadata": {},
     "output_type": "execute_result"
    },
    {
     "data": {
      "text/plain": [
       "<Figure size 600x600 with 3 Axes>"
      ],
      "image/png": "[encoded data removed]"
     },
     "metadata": {},
     "output_type": "display_data"
    }
   ],
   "execution_count": 154
  },
  {
   "metadata": {},
   "cell_type": "markdown",
   "source": [
    "# 7. 나이 이상치를 확인, 불필요 컬럼 삭제\n",
    "- 나이가 60세 이상인 데이터 삭제\n",
    "- PassengerId, Ticket, Fare, Cabin, Embarked 컬럼 삭제"
   ],
   "id": "3b56b4dafa0c8283"
  },
  {
   "metadata": {
    "ExecuteTime": {
     "end_time": "2024-09-02T07:46:57.014870Z",
     "start_time": "2024-09-02T07:46:57.009629Z"
    }
   },
   "cell_type": "code",
   "source": [
    "temp_df = df[df['Age'] < 60]\n",
    "\n",
    "temp_df = temp_df.drop(axis=1, columns=['PassengerId', 'Ticket', 'Fare', 'Cabin', 'Embarked', 'Name'])\n",
    "\n",
    "temp_df.head()"
   ],
   "id": "968eea3a4a0be1b2",
   "outputs": [
    {
     "data": {
      "text/plain": [
       "   Survived  Pclass     Sex   Age  SibSp  Parch\n",
       "0         0       3    male  22.0      1      0\n",
       "1         1       1  female  38.0      1      0\n",
       "2         1       3  female  26.0      0      0\n",
       "3         1       1  female  35.0      1      0\n",
       "4         0       3    male  35.0      0      0"
      ],
      "text/html": [
       "<div>\n",
       "<style scoped>\n",
       "    .dataframe tbody tr th:only-of-type {\n",
       "        vertical-align: middle;\n",
       "    }\n",
       "\n",
       "    .dataframe tbody tr th {\n",
       "        vertical-align: top;\n",
       "    }\n",
       "\n",
       "    .dataframe thead th {\n",
       "        text-align: right;\n",
       "    }\n",
       "</style>\n",
       "<table border=\"1\" class=\"dataframe\">\n",
       "  <thead>\n",
       "    <tr style=\"text-align: right;\">\n",
       "      <th></th>\n",
       "      <th>Survived</th>\n",
       "      <th>Pclass</th>\n",
       "      <th>Sex</th>\n",
       "      <th>Age</th>\n",
       "      <th>SibSp</th>\n",
       "      <th>Parch</th>\n",
       "    </tr>\n",
       "  </thead>\n",
       "  <tbody>\n",
       "    <tr>\n",
       "      <th>0</th>\n",
       "      <td>0</td>\n",
       "      <td>3</td>\n",
       "      <td>male</td>\n",
       "      <td>22.0</td>\n",
       "      <td>1</td>\n",
       "      <td>0</td>\n",
       "    </tr>\n",
       "    <tr>\n",
       "      <th>1</th>\n",
       "      <td>1</td>\n",
       "      <td>1</td>\n",
       "      <td>female</td>\n",
       "      <td>38.0</td>\n",
       "      <td>1</td>\n",
       "      <td>0</td>\n",
       "    </tr>\n",
       "    <tr>\n",
       "      <th>2</th>\n",
       "      <td>1</td>\n",
       "      <td>3</td>\n",
       "      <td>female</td>\n",
       "      <td>26.0</td>\n",
       "      <td>0</td>\n",
       "      <td>0</td>\n",
       "    </tr>\n",
       "    <tr>\n",
       "      <th>3</th>\n",
       "      <td>1</td>\n",
       "      <td>1</td>\n",
       "      <td>female</td>\n",
       "      <td>35.0</td>\n",
       "      <td>1</td>\n",
       "      <td>0</td>\n",
       "    </tr>\n",
       "    <tr>\n",
       "      <th>4</th>\n",
       "      <td>0</td>\n",
       "      <td>3</td>\n",
       "      <td>male</td>\n",
       "      <td>35.0</td>\n",
       "      <td>0</td>\n",
       "      <td>0</td>\n",
       "    </tr>\n",
       "  </tbody>\n",
       "</table>\n",
       "</div>"
      ]
     },
     "execution_count": 155,
     "metadata": {},
     "output_type": "execute_result"
    }
   ],
   "execution_count": 155
  },
  {
   "metadata": {},
   "cell_type": "markdown",
   "source": [
    "# 8. 결측치 삭제\n",
    "- 전체 결측치의 갯수 출력\n",
    "- Age의 결측치를 삭제\n",
    "- 전체 결측치를 삭제"
   ],
   "id": "da2f03016b6db930"
  },
  {
   "metadata": {
    "ExecuteTime": {
     "end_time": "2024-09-02T07:46:57.019952Z",
     "start_time": "2024-09-02T07:46:57.015451Z"
    }
   },
   "cell_type": "code",
   "source": [
    "print(df.isnull().sum().sum())\n",
    "\n",
    "sample_df = temp_df.dropna(subset=['Age'])\n",
    "\n",
    "sample_df = temp_df.dropna() \n",
    "\n",
    "print(sample_df.isnull().sum().sum())"
   ],
   "id": "8bcd55518d18c8e4",
   "outputs": [
    {
     "name": "stdout",
     "output_type": "stream",
     "text": [
      "866\n",
      "0\n"
     ]
    }
   ],
   "execution_count": 156
  },
  {
   "metadata": {},
   "cell_type": "markdown",
   "source": "# 9. object 타입 원핫 인코딩",
   "id": "232583079e28b0bb"
  },
  {
   "metadata": {
    "ExecuteTime": {
     "end_time": "2024-09-02T07:46:57.026688Z",
     "start_time": "2024-09-02T07:46:57.020656Z"
    }
   },
   "cell_type": "code",
   "source": [
    "sample_df.info()\n",
    "\n",
    "sample_df = pd.get_dummies(sample_df, columns=['Sex'], drop_first=True)\n",
    "\n",
    "sample_df.info()"
   ],
   "id": "c03a96164c28f7b7",
   "outputs": [
    {
     "name": "stdout",
     "output_type": "stream",
     "text": [
      "<class 'pandas.core.frame.DataFrame'>\n",
      "Index: 688 entries, 0 to 890\n",
      "Data columns (total 6 columns):\n",
      " #   Column    Non-Null Count  Dtype  \n",
      "---  ------    --------------  -----  \n",
      " 0   Survived  688 non-null    int64  \n",
      " 1   Pclass    688 non-null    int64  \n",
      " 2   Sex       688 non-null    object \n",
      " 3   Age       688 non-null    float64\n",
      " 4   SibSp     688 non-null    int64  \n",
      " 5   Parch     688 non-null    int64  \n",
      "dtypes: float64(1), int64(4), object(1)\n",
      "memory usage: 37.6+ KB\n",
      "<class 'pandas.core.frame.DataFrame'>\n",
      "Index: 688 entries, 0 to 890\n",
      "Data columns (total 6 columns):\n",
      " #   Column    Non-Null Count  Dtype  \n",
      "---  ------    --------------  -----  \n",
      " 0   Survived  688 non-null    int64  \n",
      " 1   Pclass    688 non-null    int64  \n",
      " 2   Age       688 non-null    float64\n",
      " 3   SibSp     688 non-null    int64  \n",
      " 4   Parch     688 non-null    int64  \n",
      " 5   Sex_male  688 non-null    bool   \n",
      "dtypes: bool(1), float64(1), int64(4)\n",
      "memory usage: 32.9 KB\n"
     ]
    }
   ],
   "execution_count": 157
  },
  {
   "metadata": {},
   "cell_type": "markdown",
   "source": "# 10. 테스트, 검증셋 분리",
   "id": "104a70f885339509"
  },
  {
   "metadata": {
    "ExecuteTime": {
     "end_time": "2024-09-02T07:46:57.033013Z",
     "start_time": "2024-09-02T07:46:57.027331Z"
    }
   },
   "cell_type": "code",
   "source": [
    "from sklearn.model_selection import train_test_split\n",
    "\n",
    "X = sample_df.drop(columns=['Survived'], axis=1)\n",
    "y = sample_df['Survived']\n",
    "\n",
    "print(X.shape)\n",
    "print(y.shape)\n",
    "\n",
    "X_train, x_valid, Y_train, y_valid = train_test_split(X, y, test_size=0.3, random_state=42)\n"
   ],
   "id": "7780731f9b64e4aa",
   "outputs": [
    {
     "name": "stdout",
     "output_type": "stream",
     "text": [
      "(688, 5)\n",
      "(688,)\n"
     ]
    }
   ],
   "execution_count": 158
  },
  {
   "metadata": {},
   "cell_type": "markdown",
   "source": "# 11. RobustScalar 수행",
   "id": "430b46f3ae87bd32"
  },
  {
   "metadata": {
    "ExecuteTime": {
     "end_time": "2024-09-02T07:46:57.047916Z",
     "start_time": "2024-09-02T07:46:57.033828Z"
    }
   },
   "cell_type": "code",
   "source": [
    "from sklearn.linear_model import LogisticRegression\n",
    "import numpy as np\n",
    "from sklearn.metrics import mean_squared_error\n",
    "\n",
    "clf = LogisticRegression().fit(X_train, Y_train)\n",
    "x_predict = clf.predict(x_valid)\n",
    "\n",
    "print(np.sqrt(mean_squared_error(y_valid, x_predict)))"
   ],
   "id": "ede586fc0f662204",
   "outputs": [
    {
     "name": "stdout",
     "output_type": "stream",
     "text": [
      "0.45577348387004024\n"
     ]
    }
   ],
   "execution_count": 159
  },
  {
   "metadata": {
    "ExecuteTime": {
     "end_time": "2024-09-02T07:46:57.055650Z",
     "start_time": "2024-09-02T07:46:57.050154Z"
    }
   },
   "cell_type": "code",
   "source": [
    "from sklearn.preprocessing import RobustScaler\n",
    "\n",
    "scaler = RobustScaler()\n",
    "X_train_scaled = scaler.fit_transform(X_train)\n",
    "x_test_scaled = scaler.transform(x_valid)\n",
    "\n",
    "clf = LogisticRegression().fit(X_train_scaled, Y_train)\n",
    "y_predict_scaled = clf.predict(x_test_scaled)\n",
    "\n",
    "print(np.sqrt(mean_squared_error(y_valid, y_predict_scaled)))"
   ],
   "id": "2b725ebe756ea763",
   "outputs": [
    {
     "name": "stdout",
     "output_type": "stream",
     "text": [
      "0.45577348387004024\n"
     ]
    }
   ],
   "execution_count": 160
  },
  {
   "metadata": {},
   "cell_type": "markdown",
   "source": "# 12. 의사결정나무, 랜덤포레스트 모델 학습",
   "id": "e4a681cb5b4fa696"
  },
  {
   "metadata": {
    "ExecuteTime": {
     "end_time": "2024-09-02T07:46:57.121657Z",
     "start_time": "2024-09-02T07:46:57.056143Z"
    }
   },
   "cell_type": "code",
   "source": [
    "from sklearn.tree import DecisionTreeClassifier\n",
    "import sklearn.metrics as mt\n",
    "\n",
    "dtc = DecisionTreeClassifier(min_samples_split=3, random_state=120, max_depth=5)\n",
    "# dtc = DecisionTreeClassifier()\n",
    "dtc.fit(X_train, Y_train)\n",
    "dtc_baseline = dtc.predict(x_valid)\n",
    "\n",
    "\n",
    "\n",
    "from sklearn.ensemble import RandomForestClassifier\n",
    "\n",
    "rfc = RandomForestClassifier(min_samples_split=3, random_state=120, max_depth=5)\n",
    "rfc.fit(X_train, Y_train)\n",
    "dfc_baseline = rfc.predict(x_valid)\n",
    "\n"
   ],
   "id": "b6eca74e0ba52362",
   "outputs": [],
   "execution_count": 161
  },
  {
   "metadata": {},
   "cell_type": "markdown",
   "source": "# 13. 모델의 성능 평가. accuracy 사용, 둘중에 나은 모델 확인",
   "id": "2f43f283610f4440"
  },
  {
   "metadata": {
    "ExecuteTime": {
     "end_time": "2024-09-02T07:46:57.130675Z",
     "start_time": "2024-09-02T07:46:57.122212Z"
    }
   },
   "cell_type": "code",
   "source": [
    "print(dtc.score(X_train, Y_train))\n",
    "print(mt.accuracy_score(y_valid, dtc_baseline))\n",
    "\n",
    "print(rfc.score(X_train, Y_train))\n",
    "print(mt.accuracy_score(y_valid, dfc_baseline))"
   ],
   "id": "3c2ee1f4c91c4663",
   "outputs": [
    {
     "name": "stdout",
     "output_type": "stream",
     "text": [
      "0.8627858627858628\n",
      "0.821256038647343\n",
      "0.8627858627858628\n",
      "0.7971014492753623\n"
     ]
    }
   ],
   "execution_count": 162
  },
  {
   "metadata": {},
   "cell_type": "markdown",
   "source": [
    "# 14. 나이를 예측 하는 딥러닝 모델을 생성 하시오. \n",
    "- Tensorflow framework를 사용하여 딥러닝 모델을 만드세요.\n",
    "- 히든레이어(hidden layer) 2개이상으로 모델을 구성하세요.\n",
    "- dropout 비율 0.2로 Dropout 레이어 1개를 추가해 주세요.\n",
    "- 손실함수는 MSE(Mean Squared Error)를 사용하세요.\n",
    "- 하이퍼파라미터 epochs : 30, batch_size : 16 으로 설정해 주세요.\n",
    "- 각 에포크마다 loss와 metrics 평가하기 위한 데이터로 X_valid, y_valid 사용하세요.\n",
    "- 학습정보는 history 변수에 저장해 주세요. "
   ],
   "id": "dea9b639dc99c78f"
  },
  {
   "metadata": {
    "ExecuteTime": {
     "end_time": "2024-09-02T07:46:59.549938Z",
     "start_time": "2024-09-02T07:46:57.131224Z"
    }
   },
   "cell_type": "code",
   "source": [
    "import tensorflow as tf \n",
    "from tensorflow.keras.models import Sequential, load_model\n",
    "from tensorflow.keras. layers import Dense, Activation, Dropout, BatchNormalization \n",
    "from tensorflow.keras.callbacks import EarlyStopping, ModelCheckpoint \n",
    "from tensorflow. keras.utils import to_categorical\n",
    "\n",
    "tf.random.set_seed (1)\n",
    "X_train.shape"
   ],
   "id": "36ee782c9c34ae6b",
   "outputs": [
    {
     "data": {
      "text/plain": [
       "(481, 5)"
      ]
     },
     "execution_count": 163,
     "metadata": {},
     "output_type": "execute_result"
    }
   ],
   "execution_count": 163
  },
  {
   "metadata": {
    "ExecuteTime": {
     "end_time": "2024-09-02T07:47:00.826539Z",
     "start_time": "2024-09-02T07:46:59.550623Z"
    }
   },
   "cell_type": "code",
   "source": [
    "initializer = tf.keras.initializers.GlorotUniform(seed=42)\n",
    "\n",
    "model = Sequential()\n",
    "model.add(Dense(32, activation='relu', input_shape=(5,), kernel_initializer=initializer))\n",
    "model.add(Dropout(0.5))\n",
    "model.add(Dense(64, activation='relu'))\n",
    "model.add(Dense(1, activation='sigmoid'))\n",
    "\n",
    "model.summary()\n",
    "\n",
    "model.compile(loss='mse', optimizer='adam', metrics=['accuracy'])\n",
    "\n",
    "es = EarlyStopping(monitor='val_loss', min_delta=0, patience=10, verbose=1, restore_best_weights=True)\n",
    "\n",
    "check_point = ModelCheckpoint('best_model.keras', verbose=1, monitor='val_loss', mode='min', save_best_only=True)\n",
    "\n",
    "history = model.fit(X_train, Y_train, validation_data=(x_valid, y_valid), callbacks=[es, check_point], epochs=30, batch_size=16)\n"
   ],
   "id": "dceaa2cedc6d7237",
   "outputs": [
    {
     "name": "stderr",
     "output_type": "stream",
     "text": [
      "/opt/anaconda3/envs/aice/lib/python3.11/site-packages/keras/src/layers/core/dense.py:87: UserWarning: Do not pass an `input_shape`/`input_dim` argument to a layer. When using Sequential models, prefer using an `Input(shape)` object as the first layer in the model instead.\n",
      "  super().__init__(activity_regularizer=activity_regularizer, **kwargs)\n"
     ]
    },
    {
     "data": {
      "text/plain": [
       "\u001B[1mModel: \"sequential\"\u001B[0m\n"
      ],
      "text/html": [
       "<pre style=\"white-space:pre;overflow-x:auto;line-height:normal;font-family:Menlo,'DejaVu Sans Mono',consolas,'Courier New',monospace\"><span style=\"font-weight: bold\">Model: \"sequential\"</span>\n",
       "</pre>\n"
      ]
     },
     "metadata": {},
     "output_type": "display_data"
    },
    {
     "data": {
      "text/plain": [
       "┏━━━━━━━━━━━━━━━━━━━━━━━━━━━━━━━━━┳━━━━━━━━━━━━━━━━━━━━━━━━┳━━━━━━━━━━━━━━━┓\n",
       "┃\u001B[1m \u001B[0m\u001B[1mLayer (type)                   \u001B[0m\u001B[1m \u001B[0m┃\u001B[1m \u001B[0m\u001B[1mOutput Shape          \u001B[0m\u001B[1m \u001B[0m┃\u001B[1m \u001B[0m\u001B[1m      Param #\u001B[0m\u001B[1m \u001B[0m┃\n",
       "┡━━━━━━━━━━━━━━━━━━━━━━━━━━━━━━━━━╇━━━━━━━━━━━━━━━━━━━━━━━━╇━━━━━━━━━━━━━━━┩\n",
       "│ dense (\u001B[38;5;33mDense\u001B[0m)                   │ (\u001B[38;5;45mNone\u001B[0m, \u001B[38;5;34m32\u001B[0m)             │           \u001B[38;5;34m192\u001B[0m │\n",
       "├─────────────────────────────────┼────────────────────────┼───────────────┤\n",
       "│ dropout (\u001B[38;5;33mDropout\u001B[0m)               │ (\u001B[38;5;45mNone\u001B[0m, \u001B[38;5;34m32\u001B[0m)             │             \u001B[38;5;34m0\u001B[0m │\n",
       "├─────────────────────────────────┼────────────────────────┼───────────────┤\n",
       "│ dense_1 (\u001B[38;5;33mDense\u001B[0m)                 │ (\u001B[38;5;45mNone\u001B[0m, \u001B[38;5;34m64\u001B[0m)             │         \u001B[38;5;34m2,112\u001B[0m │\n",
       "├─────────────────────────────────┼────────────────────────┼───────────────┤\n",
       "│ dense_2 (\u001B[38;5;33mDense\u001B[0m)                 │ (\u001B[38;5;45mNone\u001B[0m, \u001B[38;5;34m1\u001B[0m)              │            \u001B[38;5;34m65\u001B[0m │\n",
       "└─────────────────────────────────┴────────────────────────┴───────────────┘\n"
      ],
      "text/html": [
       "<pre style=\"white-space:pre;overflow-x:auto;line-height:normal;font-family:Menlo,'DejaVu Sans Mono',consolas,'Courier New',monospace\">┏━━━━━━━━━━━━━━━━━━━━━━━━━━━━━━━━━┳━━━━━━━━━━━━━━━━━━━━━━━━┳━━━━━━━━━━━━━━━┓\n",
       "┃<span style=\"font-weight: bold\"> Layer (type)                    </span>┃<span style=\"font-weight: bold\"> Output Shape           </span>┃<span style=\"font-weight: bold\">       Param # </span>┃\n",
       "┡━━━━━━━━━━━━━━━━━━━━━━━━━━━━━━━━━╇━━━━━━━━━━━━━━━━━━━━━━━━╇━━━━━━━━━━━━━━━┩\n",
       "│ dense (<span style=\"color: #0087ff; text-decoration-color: #0087ff\">Dense</span>)                   │ (<span style=\"color: #00d7ff; text-decoration-color: #00d7ff\">None</span>, <span style=\"color: #00af00; text-decoration-color: #00af00\">32</span>)             │           <span style=\"color: #00af00; text-decoration-color: #00af00\">192</span> │\n",
       "├─────────────────────────────────┼────────────────────────┼───────────────┤\n",
       "│ dropout (<span style=\"color: #0087ff; text-decoration-color: #0087ff\">Dropout</span>)               │ (<span style=\"color: #00d7ff; text-decoration-color: #00d7ff\">None</span>, <span style=\"color: #00af00; text-decoration-color: #00af00\">32</span>)             │             <span style=\"color: #00af00; text-decoration-color: #00af00\">0</span> │\n",
       "├─────────────────────────────────┼────────────────────────┼───────────────┤\n",
       "│ dense_1 (<span style=\"color: #0087ff; text-decoration-color: #0087ff\">Dense</span>)                 │ (<span style=\"color: #00d7ff; text-decoration-color: #00d7ff\">None</span>, <span style=\"color: #00af00; text-decoration-color: #00af00\">64</span>)             │         <span style=\"color: #00af00; text-decoration-color: #00af00\">2,112</span> │\n",
       "├─────────────────────────────────┼────────────────────────┼───────────────┤\n",
       "│ dense_2 (<span style=\"color: #0087ff; text-decoration-color: #0087ff\">Dense</span>)                 │ (<span style=\"color: #00d7ff; text-decoration-color: #00d7ff\">None</span>, <span style=\"color: #00af00; text-decoration-color: #00af00\">1</span>)              │            <span style=\"color: #00af00; text-decoration-color: #00af00\">65</span> │\n",
       "└─────────────────────────────────┴────────────────────────┴───────────────┘\n",
       "</pre>\n"
      ]
     },
     "metadata": {},
     "output_type": "display_data"
    },
    {
     "data": {
      "text/plain": [
       "\u001B[1m Total params: \u001B[0m\u001B[38;5;34m2,369\u001B[0m (9.25 KB)\n"
      ],
      "text/html": [
       "<pre style=\"white-space:pre;overflow-x:auto;line-height:normal;font-family:Menlo,'DejaVu Sans Mono',consolas,'Courier New',monospace\"><span style=\"font-weight: bold\"> Total params: </span><span style=\"color: #00af00; text-decoration-color: #00af00\">2,369</span> (9.25 KB)\n",
       "</pre>\n"
      ]
     },
     "metadata": {},
     "output_type": "display_data"
    },
    {
     "data": {
      "text/plain": [
       "\u001B[1m Trainable params: \u001B[0m\u001B[38;5;34m2,369\u001B[0m (9.25 KB)\n"
      ],
      "text/html": [
       "<pre style=\"white-space:pre;overflow-x:auto;line-height:normal;font-family:Menlo,'DejaVu Sans Mono',consolas,'Courier New',monospace\"><span style=\"font-weight: bold\"> Trainable params: </span><span style=\"color: #00af00; text-decoration-color: #00af00\">2,369</span> (9.25 KB)\n",
       "</pre>\n"
      ]
     },
     "metadata": {},
     "output_type": "display_data"
    },
    {
     "data": {
      "text/plain": [
       "\u001B[1m Non-trainable params: \u001B[0m\u001B[38;5;34m0\u001B[0m (0.00 B)\n"
      ],
      "text/html": [
       "<pre style=\"white-space:pre;overflow-x:auto;line-height:normal;font-family:Menlo,'DejaVu Sans Mono',consolas,'Courier New',monospace\"><span style=\"font-weight: bold\"> Non-trainable params: </span><span style=\"color: #00af00; text-decoration-color: #00af00\">0</span> (0.00 B)\n",
       "</pre>\n"
      ]
     },
     "metadata": {},
     "output_type": "display_data"
    },
    {
     "name": "stdout",
     "output_type": "stream",
     "text": [
      "Epoch 1/30\n",
      "\u001B[1m 1/31\u001B[0m \u001B[37m━━━━━━━━━━━━━━━━━━━━\u001B[0m \u001B[1m10s\u001B[0m 361ms/step - accuracy: 0.2500 - loss: 0.6464\n",
      "Epoch 1: val_loss improved from inf to 0.26685, saving model to best_model.keras\n",
      "\u001B[1m31/31\u001B[0m \u001B[32m━━━━━━━━━━━━━━━━━━━━\u001B[0m\u001B[37m\u001B[0m \u001B[1m0s\u001B[0m 3ms/step - accuracy: 0.5187 - loss: 0.3858 - val_accuracy: 0.5845 - val_loss: 0.2669\n",
      "Epoch 2/30\n",
      "\u001B[1m 1/31\u001B[0m \u001B[37m━━━━━━━━━━━━━━━━━━━━\u001B[0m \u001B[1m0s\u001B[0m 10ms/step - accuracy: 0.6250 - loss: 0.2318\n",
      "Epoch 2: val_loss did not improve from 0.26685\n",
      "\u001B[1m31/31\u001B[0m \u001B[32m━━━━━━━━━━━━━━━━━━━━\u001B[0m\u001B[37m\u001B[0m \u001B[1m0s\u001B[0m 956us/step - accuracy: 0.5959 - loss: 0.3092 - val_accuracy: 0.5942 - val_loss: 0.2964\n",
      "Epoch 3/30\n",
      "\u001B[1m 1/31\u001B[0m \u001B[37m━━━━━━━━━━━━━━━━━━━━\u001B[0m \u001B[1m0s\u001B[0m 8ms/step - accuracy: 0.6250 - loss: 0.2119\n",
      "Epoch 3: val_loss improved from 0.26685 to 0.23491, saving model to best_model.keras\n",
      "\u001B[1m31/31\u001B[0m \u001B[32m━━━━━━━━━━━━━━━━━━━━\u001B[0m\u001B[37m\u001B[0m \u001B[1m0s\u001B[0m 1ms/step - accuracy: 0.5692 - loss: 0.3146 - val_accuracy: 0.6329 - val_loss: 0.2349\n",
      "Epoch 4/30\n",
      "\u001B[1m 1/31\u001B[0m \u001B[37m━━━━━━━━━━━━━━━━━━━━\u001B[0m \u001B[1m0s\u001B[0m 9ms/step - accuracy: 0.2500 - loss: 0.5326\n",
      "Epoch 4: val_loss did not improve from 0.23491\n",
      "\u001B[1m31/31\u001B[0m \u001B[32m━━━━━━━━━━━━━━━━━━━━\u001B[0m\u001B[37m\u001B[0m \u001B[1m0s\u001B[0m 912us/step - accuracy: 0.4885 - loss: 0.3720 - val_accuracy: 0.4203 - val_loss: 0.2897\n",
      "Epoch 5/30\n",
      "\u001B[1m 1/31\u001B[0m \u001B[37m━━━━━━━━━━━━━━━━━━━━\u001B[0m \u001B[1m0s\u001B[0m 10ms/step - accuracy: 0.5000 - loss: 0.3788\n",
      "Epoch 5: val_loss did not improve from 0.23491\n",
      "\u001B[1m31/31\u001B[0m \u001B[32m━━━━━━━━━━━━━━━━━━━━\u001B[0m\u001B[37m\u001B[0m \u001B[1m0s\u001B[0m 824us/step - accuracy: 0.5228 - loss: 0.3256 - val_accuracy: 0.4106 - val_loss: 0.2750\n",
      "Epoch 6/30\n",
      "\u001B[1m 1/31\u001B[0m \u001B[37m━━━━━━━━━━━━━━━━━━━━\u001B[0m \u001B[1m0s\u001B[0m 9ms/step - accuracy: 0.2500 - loss: 0.3708\n",
      "Epoch 6: val_loss did not improve from 0.23491\n",
      "\u001B[1m31/31\u001B[0m \u001B[32m━━━━━━━━━━━━━━━━━━━━\u001B[0m\u001B[37m\u001B[0m \u001B[1m0s\u001B[0m 855us/step - accuracy: 0.4787 - loss: 0.3293 - val_accuracy: 0.4444 - val_loss: 0.2773\n",
      "Epoch 7/30\n",
      "\u001B[1m 1/31\u001B[0m \u001B[37m━━━━━━━━━━━━━━━━━━━━\u001B[0m \u001B[1m0s\u001B[0m 9ms/step - accuracy: 0.3750 - loss: 0.3303\n",
      "Epoch 7: val_loss did not improve from 0.23491\n",
      "\u001B[1m31/31\u001B[0m \u001B[32m━━━━━━━━━━━━━━━━━━━━\u001B[0m\u001B[37m\u001B[0m \u001B[1m0s\u001B[0m 885us/step - accuracy: 0.6064 - loss: 0.2705 - val_accuracy: 0.4300 - val_loss: 0.3477\n",
      "Epoch 8/30\n",
      "\u001B[1m 1/31\u001B[0m \u001B[37m━━━━━━━━━━━━━━━━━━━━\u001B[0m \u001B[1m0s\u001B[0m 9ms/step - accuracy: 0.3750 - loss: 0.4697\n",
      "Epoch 8: val_loss did not improve from 0.23491\n",
      "\u001B[1m31/31\u001B[0m \u001B[32m━━━━━━━━━━━━━━━━━━━━\u001B[0m\u001B[37m\u001B[0m \u001B[1m0s\u001B[0m 887us/step - accuracy: 0.5002 - loss: 0.3285 - val_accuracy: 0.4493 - val_loss: 0.3031\n",
      "Epoch 9/30\n",
      "\u001B[1m 1/31\u001B[0m \u001B[37m━━━━━━━━━━━━━━━━━━━━\u001B[0m \u001B[1m0s\u001B[0m 9ms/step - accuracy: 0.6250 - loss: 0.2099\n",
      "Epoch 9: val_loss did not improve from 0.23491\n",
      "\u001B[1m31/31\u001B[0m \u001B[32m━━━━━━━━━━━━━━━━━━━━\u001B[0m\u001B[37m\u001B[0m \u001B[1m0s\u001B[0m 876us/step - accuracy: 0.5588 - loss: 0.2787 - val_accuracy: 0.5411 - val_loss: 0.2635\n",
      "Epoch 10/30\n",
      "\u001B[1m 1/31\u001B[0m \u001B[37m━━━━━━━━━━━━━━━━━━━━\u001B[0m \u001B[1m0s\u001B[0m 10ms/step - accuracy: 0.5625 - loss: 0.3584\n",
      "Epoch 10: val_loss did not improve from 0.23491\n",
      "\u001B[1m31/31\u001B[0m \u001B[32m━━━━━━━━━━━━━━━━━━━━\u001B[0m\u001B[37m\u001B[0m \u001B[1m0s\u001B[0m 859us/step - accuracy: 0.5612 - loss: 0.2944 - val_accuracy: 0.5990 - val_loss: 0.2659\n",
      "Epoch 11/30\n",
      "\u001B[1m 1/31\u001B[0m \u001B[37m━━━━━━━━━━━━━━━━━━━━\u001B[0m \u001B[1m0s\u001B[0m 9ms/step - accuracy: 0.3125 - loss: 0.4383\n",
      "Epoch 11: val_loss improved from 0.23491 to 0.20343, saving model to best_model.keras\n",
      "\u001B[1m31/31\u001B[0m \u001B[32m━━━━━━━━━━━━━━━━━━━━\u001B[0m\u001B[37m\u001B[0m \u001B[1m0s\u001B[0m 1ms/step - accuracy: 0.5237 - loss: 0.3067 - val_accuracy: 0.7150 - val_loss: 0.2034\n",
      "Epoch 12/30\n",
      "\u001B[1m 1/31\u001B[0m \u001B[37m━━━━━━━━━━━━━━━━━━━━\u001B[0m \u001B[1m0s\u001B[0m 9ms/step - accuracy: 0.7500 - loss: 0.2139\n",
      "Epoch 12: val_loss did not improve from 0.20343\n",
      "\u001B[1m31/31\u001B[0m \u001B[32m━━━━━━━━━━━━━━━━━━━━\u001B[0m\u001B[37m\u001B[0m \u001B[1m0s\u001B[0m 874us/step - accuracy: 0.6563 - loss: 0.2596 - val_accuracy: 0.6812 - val_loss: 0.2216\n",
      "Epoch 13/30\n",
      "\u001B[1m 1/31\u001B[0m \u001B[37m━━━━━━━━━━━━━━━━━━━━\u001B[0m \u001B[1m0s\u001B[0m 9ms/step - accuracy: 0.6250 - loss: 0.2726\n",
      "Epoch 13: val_loss did not improve from 0.20343\n",
      "\u001B[1m31/31\u001B[0m \u001B[32m━━━━━━━━━━━━━━━━━━━━\u001B[0m\u001B[37m\u001B[0m \u001B[1m0s\u001B[0m 829us/step - accuracy: 0.6132 - loss: 0.2699 - val_accuracy: 0.4348 - val_loss: 0.3042\n",
      "Epoch 14/30\n",
      "\u001B[1m 1/31\u001B[0m \u001B[37m━━━━━━━━━━━━━━━━━━━━\u001B[0m \u001B[1m0s\u001B[0m 9ms/step - accuracy: 0.5000 - loss: 0.3965\n",
      "Epoch 14: val_loss did not improve from 0.20343\n",
      "\u001B[1m31/31\u001B[0m \u001B[32m━━━━━━━━━━━━━━━━━━━━\u001B[0m\u001B[37m\u001B[0m \u001B[1m0s\u001B[0m 916us/step - accuracy: 0.5785 - loss: 0.2841 - val_accuracy: 0.4541 - val_loss: 0.2793\n",
      "Epoch 15/30\n",
      "\u001B[1m 1/31\u001B[0m \u001B[37m━━━━━━━━━━━━━━━━━━━━\u001B[0m \u001B[1m0s\u001B[0m 9ms/step - accuracy: 0.6250 - loss: 0.2918\n",
      "Epoch 15: val_loss did not improve from 0.20343\n",
      "\u001B[1m31/31\u001B[0m \u001B[32m━━━━━━━━━━━━━━━━━━━━\u001B[0m\u001B[37m\u001B[0m \u001B[1m0s\u001B[0m 874us/step - accuracy: 0.6116 - loss: 0.2648 - val_accuracy: 0.4493 - val_loss: 0.2842\n",
      "Epoch 16/30\n",
      "\u001B[1m 1/31\u001B[0m \u001B[37m━━━━━━━━━━━━━━━━━━━━\u001B[0m \u001B[1m0s\u001B[0m 9ms/step - accuracy: 0.5625 - loss: 0.3043\n",
      "Epoch 16: val_loss did not improve from 0.20343\n",
      "\u001B[1m31/31\u001B[0m \u001B[32m━━━━━━━━━━━━━━━━━━━━\u001B[0m\u001B[37m\u001B[0m \u001B[1m0s\u001B[0m 887us/step - accuracy: 0.6193 - loss: 0.2479 - val_accuracy: 0.6184 - val_loss: 0.2511\n",
      "Epoch 17/30\n",
      "\u001B[1m 1/31\u001B[0m \u001B[37m━━━━━━━━━━━━━━━━━━━━\u001B[0m \u001B[1m0s\u001B[0m 9ms/step - accuracy: 0.9375 - loss: 0.1753\n",
      "Epoch 17: val_loss did not improve from 0.20343\n",
      "\u001B[1m31/31\u001B[0m \u001B[32m━━━━━━━━━━━━━━━━━━━━\u001B[0m\u001B[37m\u001B[0m \u001B[1m0s\u001B[0m 822us/step - accuracy: 0.6377 - loss: 0.2441 - val_accuracy: 0.6667 - val_loss: 0.2338\n",
      "Epoch 18/30\n",
      "\u001B[1m 1/31\u001B[0m \u001B[37m━━━━━━━━━━━━━━━━━━━━\u001B[0m \u001B[1m0s\u001B[0m 9ms/step - accuracy: 0.8125 - loss: 0.1783\n",
      "Epoch 18: val_loss did not improve from 0.20343\n",
      "\u001B[1m31/31\u001B[0m \u001B[32m━━━━━━━━━━━━━━━━━━━━\u001B[0m\u001B[37m\u001B[0m \u001B[1m0s\u001B[0m 887us/step - accuracy: 0.6285 - loss: 0.2370 - val_accuracy: 0.6329 - val_loss: 0.2491\n",
      "Epoch 19/30\n",
      "\u001B[1m 1/31\u001B[0m \u001B[37m━━━━━━━━━━━━━━━━━━━━\u001B[0m \u001B[1m0s\u001B[0m 9ms/step - accuracy: 0.6875 - loss: 0.2801\n",
      "Epoch 19: val_loss did not improve from 0.20343\n",
      "\u001B[1m31/31\u001B[0m \u001B[32m━━━━━━━━━━━━━━━━━━━━\u001B[0m\u001B[37m\u001B[0m \u001B[1m0s\u001B[0m 854us/step - accuracy: 0.6346 - loss: 0.2515 - val_accuracy: 0.6715 - val_loss: 0.2307\n",
      "Epoch 20/30\n",
      "\u001B[1m 1/31\u001B[0m \u001B[37m━━━━━━━━━━━━━━━━━━━━\u001B[0m \u001B[1m0s\u001B[0m 9ms/step - accuracy: 0.6875 - loss: 0.2484\n",
      "Epoch 20: val_loss did not improve from 0.20343\n",
      "\u001B[1m31/31\u001B[0m \u001B[32m━━━━━━━━━━━━━━━━━━━━\u001B[0m\u001B[37m\u001B[0m \u001B[1m0s\u001B[0m 824us/step - accuracy: 0.6816 - loss: 0.2236 - val_accuracy: 0.4541 - val_loss: 0.2738\n",
      "Epoch 21/30\n",
      "\u001B[1m 1/31\u001B[0m \u001B[37m━━━━━━━━━━━━━━━━━━━━\u001B[0m \u001B[1m0s\u001B[0m 9ms/step - accuracy: 0.7500 - loss: 0.2132\n",
      "Epoch 21: val_loss did not improve from 0.20343\n",
      "\u001B[1m31/31\u001B[0m \u001B[32m━━━━━━━━━━━━━━━━━━━━\u001B[0m\u001B[37m\u001B[0m \u001B[1m0s\u001B[0m 877us/step - accuracy: 0.6551 - loss: 0.2247 - val_accuracy: 0.6570 - val_loss: 0.2471\n",
      "Epoch 21: early stopping\n",
      "Restoring model weights from the end of the best epoch: 11.\n"
     ]
    }
   ],
   "execution_count": 164
  },
  {
   "metadata": {},
   "cell_type": "markdown",
   "source": [
    "# 15. matplotlib 를 이용해서 학습 mse, 검증 mse를 그래프로 그리시오.\n",
    "- 1개의 그래프에 학습 mse과 검증 mse 2가지를 모두 표시하세요.\n",
    "- 위 2가지 각각의 범례를 'mse', 'val_mse'로 표시하세요.\n",
    "- 그래프의 타이들은 'Model MSE'로 표시하세요.\n",
    "- X축에는 'Epochs'라고 표시하고 Y축에는 'MSE'라고 표시하세요."
   ],
   "id": "b707e6a0ed6e1671"
  },
  {
   "metadata": {
    "ExecuteTime": {
     "end_time": "2024-09-02T07:50:06.027162Z",
     "start_time": "2024-09-02T07:50:05.943395Z"
    }
   },
   "cell_type": "code",
   "source": [
    "import matplotlib.pyplot as plt\n",
    "\n",
    "mse = history.history['loss']\n",
    "val_mse = history.history['val_loss']\n",
    "\n",
    "epochs = range(1, len(mse) + 1)\n",
    "\n",
    "plt.plot(epochs, mse, 'b', label='mse')\n",
    "plt.plot(epochs, val_mse, 'r', label='val_mse')\n",
    "plt.xlabel('Epochs')\n",
    "plt.ylabel('MSE')\n",
    "plt.title('Model MSE')\n",
    "plt.legend()\n",
    "plt.show()"
   ],
   "id": "ea6db99843f21d61",
   "outputs": [
    {
     "data": {
      "text/plain": [
       "<Figure size 640x480 with 1 Axes>"
      ],
      "image/png": "[encoded data removed]"
     },
     "metadata": {},
     "output_type": "display_data"
    }
   ],
   "execution_count": 167
  }
 ],
 "metadata": {
  "kernelspec": {
   "display_name": "Python 3",
   "language": "python",
   "name": "python3"
  },
  "language_info": {
   "codemirror_mode": {
    "name": "ipython",
    "version": 2
   },
   "file_extension": ".py",
   "mimetype": "text/x-python",
   "name": "python",
   "nbconvert_exporter": "python",
   "pygments_lexer": "ipython2",
   "version": "2.7.6"
  }
 },
 "nbformat": 4,
 "nbformat_minor": 5
}
