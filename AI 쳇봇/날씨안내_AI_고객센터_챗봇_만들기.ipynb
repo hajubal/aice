{
  "nbformat": 4,
  "nbformat_minor": 0,
  "metadata": {
    "colab": {
      "provenance": []
    },
    "kernelspec": {
      "name": "python3",
      "display_name": "Python 3"
    },
    "language_info": {
      "name": "python"
    }
  },
  "cells": [
    {
      "cell_type": "markdown",
      "source": [
        "# [공공데이터 포털 - 기상청_단기예보 ((구)_동네예보) 조회서비스 Open API]를 이용하여 날씨 안내 AI 고객센터 챗봇 만들기"
      ],
      "metadata": {
        "id": "pBq4dJ9buRot"
      }
    },
    {
      "cell_type": "markdown",
      "source": [
        "## Reference : https://www.data.go.kr/tcs/dss/selectApiDataDetailView.do?publicDataPk=15084084"
      ],
      "metadata": {
        "id": "0qn4XmnKgc_Z"
      }
    },
    {
      "cell_type": "markdown",
      "source": [
        "# 초단기실황조회 API (getUltraSrtNcst) 사용법 살펴보기"
      ],
      "metadata": {
        "id": "60BWYBfDvon1"
      }
    },
    {
      "cell_type": "code",
      "source": [
        "decoding_일반_인증키 = '여러분의_Decoding_일반_인증키'"
      ],
      "metadata": {
        "id": "oUGczL8MocK8"
      },
      "execution_count": null,
      "outputs": []
    },
    {
      "cell_type": "code",
      "source": [
        "from datetime import datetime\n",
        "\n",
        "def get_current_date():\n",
        "    current_date = datetime.now().date()\n",
        "    return current_date.strftime(\"%Y%m%d\")\n",
        "\n",
        "def get_current_hour():\n",
        "    now = datetime.now()\n",
        "    return datetime.now().strftime(\"%H%M\")"
      ],
      "metadata": {
        "id": "A9KwfHSrAuw2"
      },
      "execution_count": null,
      "outputs": []
    },
    {
      "cell_type": "code",
      "source": [
        "import requests\n",
        "\n",
        "url = 'http://apis.data.go.kr/1360000/VilageFcstInfoService_2.0/getUltraSrtNcst' # 초단기실황조회\n",
        "params = {\n",
        "    'serviceKey' : decoding_일반_인증키,\n",
        "    'pageNo' : '1',\n",
        "    'numOfRows' : '1000',\n",
        "    'dataType' : 'JSON',\n",
        "    'base_date' : get_current_date(),\n",
        "    'base_time' : get_current_hour(),\n",
        "    'nx' : '55',\n",
        "    'ny' : '127'\n",
        "    }\n",
        "\n",
        "response = requests.get(url, params=params)"
      ],
      "metadata": {
        "id": "fUPa1gSroFvq"
      },
      "execution_count": null,
      "outputs": []
    },
    {
      "cell_type": "code",
      "source": [
        "import json\n",
        "result = json.loads(response.text)\n",
        "result"
      ],
      "metadata": {
        "colab": {
          "base_uri": "https://localhost:8080/"
        },
        "id": "odybyec2NPDk",
        "outputId": "de68d67d-db45-4cba-bf22-b2c2e3c5e68c"
      },
      "execution_count": null,
      "outputs": [
        {
          "output_type": "execute_result",
          "data": {
            "text/plain": [
              "{'response': {'header': {'resultCode': '00', 'resultMsg': 'NORMAL_SERVICE'},\n",
              "  'body': {'dataType': 'JSON',\n",
              "   'items': {'item': [{'baseDate': '20240624',\n",
              "      'baseTime': '0700',\n",
              "      'category': 'PTY',\n",
              "      'nx': 55,\n",
              "      'ny': 127,\n",
              "      'obsrValue': '0'},\n",
              "     {'baseDate': '20240624',\n",
              "      'baseTime': '0700',\n",
              "      'category': 'REH',\n",
              "      'nx': 55,\n",
              "      'ny': 127,\n",
              "      'obsrValue': '95'},\n",
              "     {'baseDate': '20240624',\n",
              "      'baseTime': '0700',\n",
              "      'category': 'RN1',\n",
              "      'nx': 55,\n",
              "      'ny': 127,\n",
              "      'obsrValue': '0'},\n",
              "     {'baseDate': '20240624',\n",
              "      'baseTime': '0700',\n",
              "      'category': 'T1H',\n",
              "      'nx': 55,\n",
              "      'ny': 127,\n",
              "      'obsrValue': '21.9'},\n",
              "     {'baseDate': '20240624',\n",
              "      'baseTime': '0700',\n",
              "      'category': 'UUU',\n",
              "      'nx': 55,\n",
              "      'ny': 127,\n",
              "      'obsrValue': '0.6'},\n",
              "     {'baseDate': '20240624',\n",
              "      'baseTime': '0700',\n",
              "      'category': 'VEC',\n",
              "      'nx': 55,\n",
              "      'ny': 127,\n",
              "      'obsrValue': '211'},\n",
              "     {'baseDate': '20240624',\n",
              "      'baseTime': '0700',\n",
              "      'category': 'VVV',\n",
              "      'nx': 55,\n",
              "      'ny': 127,\n",
              "      'obsrValue': '1'},\n",
              "     {'baseDate': '20240624',\n",
              "      'baseTime': '0700',\n",
              "      'category': 'WSD',\n",
              "      'nx': 55,\n",
              "      'ny': 127,\n",
              "      'obsrValue': '1.2'}]},\n",
              "   'pageNo': 1,\n",
              "   'numOfRows': 1000,\n",
              "   'totalCount': 8}}}"
            ]
          },
          "metadata": {},
          "execution_count": 4
        }
      ]
    },
    {
      "cell_type": "code",
      "source": [
        "weather_enum = {\n",
        "    \"0\": \"맑음\",\n",
        "    \"1\": \"비\",\n",
        "    \"2\": \"비/눈\",\n",
        "    \"3\": \"눈\",\n",
        "    \"5\": \"빗방울\",\n",
        "    \"6\": \"빗방울눈날림\",\n",
        "    \"7\": \"눈날림\"\n",
        "}"
      ],
      "metadata": {
        "id": "IDq_Dl947u52"
      },
      "execution_count": null,
      "outputs": []
    },
    {
      "cell_type": "code",
      "source": [
        "def parse_weather_infomation(result):\n",
        "    for item in result['response']['body']['items']['item']:\n",
        "        if item['category'] == 'PTY':\n",
        "            weather = weather_enum[item['obsrValue']]\n",
        "        if item['category'] == 'REH':\n",
        "            습도 = item['obsrValue']\n",
        "        if item['category'] == 'RN1':\n",
        "            한시간강수량 = item['obsrValue']\n",
        "        if item['category'] == 'T1H':\n",
        "            기온 = item['obsrValue']\n",
        "\n",
        "    return_string = ''\n",
        "    return_string += f'날씨 : {weather}\\n'\n",
        "    return_string += f'습도 : {습도}\\n'\n",
        "    return_string += f'1시간강수량 : {한시간강수량}\\n'\n",
        "    return_string += f'기온 : {기온}\\n'\n",
        "\n",
        "    return return_string"
      ],
      "metadata": {
        "id": "N7Tnamk_aBAa"
      },
      "execution_count": null,
      "outputs": []
    },
    {
      "cell_type": "code",
      "source": [
        "weather_info = parse_weather_infomation(result)\n",
        "print(weather_info)"
      ],
      "metadata": {
        "colab": {
          "base_uri": "https://localhost:8080/"
        },
        "id": "FFXWrzL5aA-e",
        "outputId": "2404d9be-5ec0-4b53-eadf-dca3f864cdbc"
      },
      "execution_count": null,
      "outputs": [
        {
          "output_type": "stream",
          "name": "stdout",
          "text": [
            "날씨 : 맑음\n",
            "습도 : 95\n",
            "1시간강수량 : 0\n",
            "기온 : 21.9\n",
            "\n"
          ]
        }
      ]
    },
    {
      "cell_type": "markdown",
      "source": [
        "# 하나의 함수로 묶기"
      ],
      "metadata": {
        "id": "iTGbRe649HQ-"
      }
    },
    {
      "cell_type": "code",
      "source": [
        "def get_weather_infomation(decoding_일반_인증키, x_position, y_position):\n",
        "    url = 'http://apis.data.go.kr/1360000/VilageFcstInfoService_2.0/getUltraSrtNcst' # 초단기실황조회\n",
        "    params ={\n",
        "              'serviceKey' : decoding_일반_인증키,\n",
        "              'pageNo' : '1',\n",
        "              'numOfRows' : '1000',\n",
        "              'dataType' : 'JSON',\n",
        "              'base_date' : get_current_date(),\n",
        "              'base_time' : get_current_hour(),\n",
        "              'nx' : x_position,\n",
        "              'ny' : y_position\n",
        "             }\n",
        "\n",
        "    response = requests.get(url, params=params)\n",
        "    weather_info = parse_weather_infomation(json.loads(response.text))\n",
        "\n",
        "    return weather_info"
      ],
      "metadata": {
        "id": "7F35yUVW9BVI"
      },
      "execution_count": null,
      "outputs": []
    },
    {
      "cell_type": "code",
      "source": [
        "# 서울특별시\n",
        "x_position = '60'\n",
        "y_position = '127'\n",
        "\n",
        "weather_info = get_weather_infomation(decoding_일반_인증키, x_position, y_position)\n",
        "print(weather_info)"
      ],
      "metadata": {
        "colab": {
          "base_uri": "https://localhost:8080/"
        },
        "id": "2oQJzBD7OLlt",
        "outputId": "a953f3a9-9ad1-476c-f509-201f9391851c"
      },
      "execution_count": null,
      "outputs": [
        {
          "output_type": "stream",
          "name": "stdout",
          "text": [
            "날씨 : 맑음\n",
            "습도 : 83\n",
            "1시간강수량 : 0\n",
            "기온 : 23.6\n",
            "\n"
          ]
        }
      ]
    },
    {
      "cell_type": "markdown",
      "source": [
        "# 예보지점 X 좌표, 예보지점 Y 좌표 얻기"
      ],
      "metadata": {
        "id": "i2qsTtd42dlD"
      }
    },
    {
      "cell_type": "markdown",
      "source": [
        "*   참고문서 - [기상청41_단기예보 조회서비스_오픈API활용가이드_최종.zip] 파일 다운로드후 압축풀기"
      ],
      "metadata": {
        "id": "7Xq3AXqV24Zd"
      }
    },
    {
      "cell_type": "code",
      "source": [
        "import pandas as pd"
      ],
      "metadata": {
        "id": "AK5rwoQyEnuz"
      },
      "execution_count": null,
      "outputs": []
    },
    {
      "cell_type": "code",
      "source": [
        "file_path = '/content/기상청41_단기예보 조회서비스_오픈API활용가이드_격자_위경도(20240101).xlsx'"
      ],
      "metadata": {
        "id": "Nh1-R-lRAnB8"
      },
      "execution_count": null,
      "outputs": []
    },
    {
      "cell_type": "code",
      "source": [
        "# 데이터 프레임으로 읽어오기\n",
        "df = pd.read_excel(file_path)\n",
        "df"
      ],
      "metadata": {
        "id": "qy7Xig5noFjl",
        "colab": {
          "base_uri": "https://localhost:8080/",
          "height": 614
        },
        "outputId": "b085e4cf-1204-4c3b-9a24-4d56e452ad43"
      },
      "execution_count": null,
      "outputs": [
        {
          "output_type": "execute_result",
          "data": {
            "text/plain": [
              "       구분      행정구역코드      1단계  2단계    3단계  격자 X  격자 Y  경도(시)  경도(분)  경도(초)  \\\n",
              "0     kor  1100000000    서울특별시  NaN    NaN    60   127    126     58  48.03   \n",
              "1     kor  1111000000    서울특별시  종로구    NaN    60   127    126     58  53.91   \n",
              "2     kor  1111051500    서울특별시  종로구  청운효자동    60   127    126     58  14.35   \n",
              "3     kor  1111053000    서울특별시  종로구    사직동    60   127    126     58  15.44   \n",
              "4     kor  1111054000    서울특별시  종로구    삼청동    60   127    126     59   2.32   \n",
              "...   ...         ...      ...  ...    ...   ...   ...    ...    ...    ...   \n",
              "3825  kor  5183031000  강원특별자치도  양양군     서면    87   138    128     35  15.55   \n",
              "3826  kor  5183032000  강원특별자치도  양양군    손양면    88   138    128     38  35.76   \n",
              "3827  kor  5183033000  강원특별자치도  양양군    현북면    89   137    128     43  31.15   \n",
              "3828  kor  5183034000  강원특별자치도  양양군    현남면    90   136    128     45  41.79   \n",
              "3829  kor  5183035000  강원특별자치도  양양군    강현면    87   140    128     36  35.28   \n",
              "\n",
              "      위도(시)  위도(분)  위도(초)   경도(초/100)  위도(초/100)      위치업데이트  \n",
              "0        37     33  48.85  126.980008  37.563569         NaN  \n",
              "1        37     34  13.36  126.981642  37.570378         NaN  \n",
              "2        37     35   2.89  126.970652  37.584137         NaN  \n",
              "3        37     34  23.77  126.970956  37.573269         NaN  \n",
              "4        37     34  56.73  126.983978  37.582425         NaN  \n",
              "...     ...    ...    ...         ...        ...         ...  \n",
              "3825     38      4   7.26  128.587653  38.068683  20230611.0  \n",
              "3826     38      3  28.07  128.643267  38.057797  20230611.0  \n",
              "3827     38      0  58.57  128.725319  38.016269  20230611.0  \n",
              "3828     37     57  59.07  128.761608  37.966408  20230611.0  \n",
              "3829     38      8  50.07  128.609800  38.147242  20230611.0  \n",
              "\n",
              "[3830 rows x 16 columns]"
            ],
            "text/html": [
              "\n",
              "  <div id=\"df-08243a8b-82a8-4fc9-8f22-d7b57f62eb7c\" class=\"colab-df-container\">\n",
              "    <div>\n",
              "<style scoped>\n",
              "    .dataframe tbody tr th:only-of-type {\n",
              "        vertical-align: middle;\n",
              "    }\n",
              "\n",
              "    .dataframe tbody tr th {\n",
              "        vertical-align: top;\n",
              "    }\n",
              "\n",
              "    .dataframe thead th {\n",
              "        text-align: right;\n",
              "    }\n",
              "</style>\n",
              "<table border=\"1\" class=\"dataframe\">\n",
              "  <thead>\n",
              "    <tr style=\"text-align: right;\">\n",
              "      <th></th>\n",
              "      <th>구분</th>\n",
              "      <th>행정구역코드</th>\n",
              "      <th>1단계</th>\n",
              "      <th>2단계</th>\n",
              "      <th>3단계</th>\n",
              "      <th>격자 X</th>\n",
              "      <th>격자 Y</th>\n",
              "      <th>경도(시)</th>\n",
              "      <th>경도(분)</th>\n",
              "      <th>경도(초)</th>\n",
              "      <th>위도(시)</th>\n",
              "      <th>위도(분)</th>\n",
              "      <th>위도(초)</th>\n",
              "      <th>경도(초/100)</th>\n",
              "      <th>위도(초/100)</th>\n",
              "      <th>위치업데이트</th>\n",
              "    </tr>\n",
              "  </thead>\n",
              "  <tbody>\n",
              "    <tr>\n",
              "      <th>0</th>\n",
              "      <td>kor</td>\n",
              "      <td>1100000000</td>\n",
              "      <td>서울특별시</td>\n",
              "      <td>NaN</td>\n",
              "      <td>NaN</td>\n",
              "      <td>60</td>\n",
              "      <td>127</td>\n",
              "      <td>126</td>\n",
              "      <td>58</td>\n",
              "      <td>48.03</td>\n",
              "      <td>37</td>\n",
              "      <td>33</td>\n",
              "      <td>48.85</td>\n",
              "      <td>126.980008</td>\n",
              "      <td>37.563569</td>\n",
              "      <td>NaN</td>\n",
              "    </tr>\n",
              "    <tr>\n",
              "      <th>1</th>\n",
              "      <td>kor</td>\n",
              "      <td>1111000000</td>\n",
              "      <td>서울특별시</td>\n",
              "      <td>종로구</td>\n",
              "      <td>NaN</td>\n",
              "      <td>60</td>\n",
              "      <td>127</td>\n",
              "      <td>126</td>\n",
              "      <td>58</td>\n",
              "      <td>53.91</td>\n",
              "      <td>37</td>\n",
              "      <td>34</td>\n",
              "      <td>13.36</td>\n",
              "      <td>126.981642</td>\n",
              "      <td>37.570378</td>\n",
              "      <td>NaN</td>\n",
              "    </tr>\n",
              "    <tr>\n",
              "      <th>2</th>\n",
              "      <td>kor</td>\n",
              "      <td>1111051500</td>\n",
              "      <td>서울특별시</td>\n",
              "      <td>종로구</td>\n",
              "      <td>청운효자동</td>\n",
              "      <td>60</td>\n",
              "      <td>127</td>\n",
              "      <td>126</td>\n",
              "      <td>58</td>\n",
              "      <td>14.35</td>\n",
              "      <td>37</td>\n",
              "      <td>35</td>\n",
              "      <td>2.89</td>\n",
              "      <td>126.970652</td>\n",
              "      <td>37.584137</td>\n",
              "      <td>NaN</td>\n",
              "    </tr>\n",
              "    <tr>\n",
              "      <th>3</th>\n",
              "      <td>kor</td>\n",
              "      <td>1111053000</td>\n",
              "      <td>서울특별시</td>\n",
              "      <td>종로구</td>\n",
              "      <td>사직동</td>\n",
              "      <td>60</td>\n",
              "      <td>127</td>\n",
              "      <td>126</td>\n",
              "      <td>58</td>\n",
              "      <td>15.44</td>\n",
              "      <td>37</td>\n",
              "      <td>34</td>\n",
              "      <td>23.77</td>\n",
              "      <td>126.970956</td>\n",
              "      <td>37.573269</td>\n",
              "      <td>NaN</td>\n",
              "    </tr>\n",
              "    <tr>\n",
              "      <th>4</th>\n",
              "      <td>kor</td>\n",
              "      <td>1111054000</td>\n",
              "      <td>서울특별시</td>\n",
              "      <td>종로구</td>\n",
              "      <td>삼청동</td>\n",
              "      <td>60</td>\n",
              "      <td>127</td>\n",
              "      <td>126</td>\n",
              "      <td>59</td>\n",
              "      <td>2.32</td>\n",
              "      <td>37</td>\n",
              "      <td>34</td>\n",
              "      <td>56.73</td>\n",
              "      <td>126.983978</td>\n",
              "      <td>37.582425</td>\n",
              "      <td>NaN</td>\n",
              "    </tr>\n",
              "    <tr>\n",
              "      <th>...</th>\n",
              "      <td>...</td>\n",
              "      <td>...</td>\n",
              "      <td>...</td>\n",
              "      <td>...</td>\n",
              "      <td>...</td>\n",
              "      <td>...</td>\n",
              "      <td>...</td>\n",
              "      <td>...</td>\n",
              "      <td>...</td>\n",
              "      <td>...</td>\n",
              "      <td>...</td>\n",
              "      <td>...</td>\n",
              "      <td>...</td>\n",
              "      <td>...</td>\n",
              "      <td>...</td>\n",
              "      <td>...</td>\n",
              "    </tr>\n",
              "    <tr>\n",
              "      <th>3825</th>\n",
              "      <td>kor</td>\n",
              "      <td>5183031000</td>\n",
              "      <td>강원특별자치도</td>\n",
              "      <td>양양군</td>\n",
              "      <td>서면</td>\n",
              "      <td>87</td>\n",
              "      <td>138</td>\n",
              "      <td>128</td>\n",
              "      <td>35</td>\n",
              "      <td>15.55</td>\n",
              "      <td>38</td>\n",
              "      <td>4</td>\n",
              "      <td>7.26</td>\n",
              "      <td>128.587653</td>\n",
              "      <td>38.068683</td>\n",
              "      <td>20230611.0</td>\n",
              "    </tr>\n",
              "    <tr>\n",
              "      <th>3826</th>\n",
              "      <td>kor</td>\n",
              "      <td>5183032000</td>\n",
              "      <td>강원특별자치도</td>\n",
              "      <td>양양군</td>\n",
              "      <td>손양면</td>\n",
              "      <td>88</td>\n",
              "      <td>138</td>\n",
              "      <td>128</td>\n",
              "      <td>38</td>\n",
              "      <td>35.76</td>\n",
              "      <td>38</td>\n",
              "      <td>3</td>\n",
              "      <td>28.07</td>\n",
              "      <td>128.643267</td>\n",
              "      <td>38.057797</td>\n",
              "      <td>20230611.0</td>\n",
              "    </tr>\n",
              "    <tr>\n",
              "      <th>3827</th>\n",
              "      <td>kor</td>\n",
              "      <td>5183033000</td>\n",
              "      <td>강원특별자치도</td>\n",
              "      <td>양양군</td>\n",
              "      <td>현북면</td>\n",
              "      <td>89</td>\n",
              "      <td>137</td>\n",
              "      <td>128</td>\n",
              "      <td>43</td>\n",
              "      <td>31.15</td>\n",
              "      <td>38</td>\n",
              "      <td>0</td>\n",
              "      <td>58.57</td>\n",
              "      <td>128.725319</td>\n",
              "      <td>38.016269</td>\n",
              "      <td>20230611.0</td>\n",
              "    </tr>\n",
              "    <tr>\n",
              "      <th>3828</th>\n",
              "      <td>kor</td>\n",
              "      <td>5183034000</td>\n",
              "      <td>강원특별자치도</td>\n",
              "      <td>양양군</td>\n",
              "      <td>현남면</td>\n",
              "      <td>90</td>\n",
              "      <td>136</td>\n",
              "      <td>128</td>\n",
              "      <td>45</td>\n",
              "      <td>41.79</td>\n",
              "      <td>37</td>\n",
              "      <td>57</td>\n",
              "      <td>59.07</td>\n",
              "      <td>128.761608</td>\n",
              "      <td>37.966408</td>\n",
              "      <td>20230611.0</td>\n",
              "    </tr>\n",
              "    <tr>\n",
              "      <th>3829</th>\n",
              "      <td>kor</td>\n",
              "      <td>5183035000</td>\n",
              "      <td>강원특별자치도</td>\n",
              "      <td>양양군</td>\n",
              "      <td>강현면</td>\n",
              "      <td>87</td>\n",
              "      <td>140</td>\n",
              "      <td>128</td>\n",
              "      <td>36</td>\n",
              "      <td>35.28</td>\n",
              "      <td>38</td>\n",
              "      <td>8</td>\n",
              "      <td>50.07</td>\n",
              "      <td>128.609800</td>\n",
              "      <td>38.147242</td>\n",
              "      <td>20230611.0</td>\n",
              "    </tr>\n",
              "  </tbody>\n",
              "</table>\n",
              "<p>3830 rows × 16 columns</p>\n",
              "</div>\n",
              "    <div class=\"colab-df-buttons\">\n",
              "\n",
              "  <div class=\"colab-df-container\">\n",
              "    <button class=\"colab-df-convert\" onclick=\"convertToInteractive('df-08243a8b-82a8-4fc9-8f22-d7b57f62eb7c')\"\n",
              "            title=\"Convert this dataframe to an interactive table.\"\n",
              "            style=\"display:none;\">\n",
              "\n",
              "  <svg xmlns=\"http://www.w3.org/2000/svg\" height=\"24px\" viewBox=\"0 -960 960 960\">\n",
              "    <path d=\"M120-120v-720h720v720H120Zm60-500h600v-160H180v160Zm220 220h160v-160H400v160Zm0 220h160v-160H400v160ZM180-400h160v-160H180v160Zm440 0h160v-160H620v160ZM180-180h160v-160H180v160Zm440 0h160v-160H620v160Z\"/>\n",
              "  </svg>\n",
              "    </button>\n",
              "\n",
              "  <style>\n",
              "    .colab-df-container {\n",
              "      display:flex;\n",
              "      gap: 12px;\n",
              "    }\n",
              "\n",
              "    .colab-df-convert {\n",
              "      background-color: #E8F0FE;\n",
              "      border: none;\n",
              "      border-radius: 50%;\n",
              "      cursor: pointer;\n",
              "      display: none;\n",
              "      fill: #1967D2;\n",
              "      height: 32px;\n",
              "      padding: 0 0 0 0;\n",
              "      width: 32px;\n",
              "    }\n",
              "\n",
              "    .colab-df-convert:hover {\n",
              "      background-color: #E2EBFA;\n",
              "      box-shadow: 0px 1px 2px rgba(60, 64, 67, 0.3), 0px 1px 3px 1px rgba(60, 64, 67, 0.15);\n",
              "      fill: #174EA6;\n",
              "    }\n",
              "\n",
              "    .colab-df-buttons div {\n",
              "      margin-bottom: 4px;\n",
              "    }\n",
              "\n",
              "    [theme=dark] .colab-df-convert {\n",
              "      background-color: #3B4455;\n",
              "      fill: #D2E3FC;\n",
              "    }\n",
              "\n",
              "    [theme=dark] .colab-df-convert:hover {\n",
              "      background-color: #434B5C;\n",
              "      box-shadow: 0px 1px 3px 1px rgba(0, 0, 0, 0.15);\n",
              "      filter: drop-shadow(0px 1px 2px rgba(0, 0, 0, 0.3));\n",
              "      fill: #FFFFFF;\n",
              "    }\n",
              "  </style>\n",
              "\n",
              "    <script>\n",
              "      const buttonEl =\n",
              "        document.querySelector('#df-08243a8b-82a8-4fc9-8f22-d7b57f62eb7c button.colab-df-convert');\n",
              "      buttonEl.style.display =\n",
              "        google.colab.kernel.accessAllowed ? 'block' : 'none';\n",
              "\n",
              "      async function convertToInteractive(key) {\n",
              "        const element = document.querySelector('#df-08243a8b-82a8-4fc9-8f22-d7b57f62eb7c');\n",
              "        const dataTable =\n",
              "          await google.colab.kernel.invokeFunction('convertToInteractive',\n",
              "                                                    [key], {});\n",
              "        if (!dataTable) return;\n",
              "\n",
              "        const docLinkHtml = 'Like what you see? Visit the ' +\n",
              "          '<a target=\"_blank\" href=https://colab.research.google.com/notebooks/data_table.ipynb>data table notebook</a>'\n",
              "          + ' to learn more about interactive tables.';\n",
              "        element.innerHTML = '';\n",
              "        dataTable['output_type'] = 'display_data';\n",
              "        await google.colab.output.renderOutput(dataTable, element);\n",
              "        const docLink = document.createElement('div');\n",
              "        docLink.innerHTML = docLinkHtml;\n",
              "        element.appendChild(docLink);\n",
              "      }\n",
              "    </script>\n",
              "  </div>\n",
              "\n",
              "\n",
              "<div id=\"df-58f24268-6813-4592-92d1-252b53195001\">\n",
              "  <button class=\"colab-df-quickchart\" onclick=\"quickchart('df-58f24268-6813-4592-92d1-252b53195001')\"\n",
              "            title=\"Suggest charts\"\n",
              "            style=\"display:none;\">\n",
              "\n",
              "<svg xmlns=\"http://www.w3.org/2000/svg\" height=\"24px\"viewBox=\"0 0 24 24\"\n",
              "     width=\"24px\">\n",
              "    <g>\n",
              "        <path d=\"M19 3H5c-1.1 0-2 .9-2 2v14c0 1.1.9 2 2 2h14c1.1 0 2-.9 2-2V5c0-1.1-.9-2-2-2zM9 17H7v-7h2v7zm4 0h-2V7h2v10zm4 0h-2v-4h2v4z\"/>\n",
              "    </g>\n",
              "</svg>\n",
              "  </button>\n",
              "\n",
              "<style>\n",
              "  .colab-df-quickchart {\n",
              "      --bg-color: #E8F0FE;\n",
              "      --fill-color: #1967D2;\n",
              "      --hover-bg-color: #E2EBFA;\n",
              "      --hover-fill-color: #174EA6;\n",
              "      --disabled-fill-color: #AAA;\n",
              "      --disabled-bg-color: #DDD;\n",
              "  }\n",
              "\n",
              "  [theme=dark] .colab-df-quickchart {\n",
              "      --bg-color: #3B4455;\n",
              "      --fill-color: #D2E3FC;\n",
              "      --hover-bg-color: #434B5C;\n",
              "      --hover-fill-color: #FFFFFF;\n",
              "      --disabled-bg-color: #3B4455;\n",
              "      --disabled-fill-color: #666;\n",
              "  }\n",
              "\n",
              "  .colab-df-quickchart {\n",
              "    background-color: var(--bg-color);\n",
              "    border: none;\n",
              "    border-radius: 50%;\n",
              "    cursor: pointer;\n",
              "    display: none;\n",
              "    fill: var(--fill-color);\n",
              "    height: 32px;\n",
              "    padding: 0;\n",
              "    width: 32px;\n",
              "  }\n",
              "\n",
              "  .colab-df-quickchart:hover {\n",
              "    background-color: var(--hover-bg-color);\n",
              "    box-shadow: 0 1px 2px rgba(60, 64, 67, 0.3), 0 1px 3px 1px rgba(60, 64, 67, 0.15);\n",
              "    fill: var(--button-hover-fill-color);\n",
              "  }\n",
              "\n",
              "  .colab-df-quickchart-complete:disabled,\n",
              "  .colab-df-quickchart-complete:disabled:hover {\n",
              "    background-color: var(--disabled-bg-color);\n",
              "    fill: var(--disabled-fill-color);\n",
              "    box-shadow: none;\n",
              "  }\n",
              "\n",
              "  .colab-df-spinner {\n",
              "    border: 2px solid var(--fill-color);\n",
              "    border-color: transparent;\n",
              "    border-bottom-color: var(--fill-color);\n",
              "    animation:\n",
              "      spin 1s steps(1) infinite;\n",
              "  }\n",
              "\n",
              "  @keyframes spin {\n",
              "    0% {\n",
              "      border-color: transparent;\n",
              "      border-bottom-color: var(--fill-color);\n",
              "      border-left-color: var(--fill-color);\n",
              "    }\n",
              "    20% {\n",
              "      border-color: transparent;\n",
              "      border-left-color: var(--fill-color);\n",
              "      border-top-color: var(--fill-color);\n",
              "    }\n",
              "    30% {\n",
              "      border-color: transparent;\n",
              "      border-left-color: var(--fill-color);\n",
              "      border-top-color: var(--fill-color);\n",
              "      border-right-color: var(--fill-color);\n",
              "    }\n",
              "    40% {\n",
              "      border-color: transparent;\n",
              "      border-right-color: var(--fill-color);\n",
              "      border-top-color: var(--fill-color);\n",
              "    }\n",
              "    60% {\n",
              "      border-color: transparent;\n",
              "      border-right-color: var(--fill-color);\n",
              "    }\n",
              "    80% {\n",
              "      border-color: transparent;\n",
              "      border-right-color: var(--fill-color);\n",
              "      border-bottom-color: var(--fill-color);\n",
              "    }\n",
              "    90% {\n",
              "      border-color: transparent;\n",
              "      border-bottom-color: var(--fill-color);\n",
              "    }\n",
              "  }\n",
              "</style>\n",
              "\n",
              "  <script>\n",
              "    async function quickchart(key) {\n",
              "      const quickchartButtonEl =\n",
              "        document.querySelector('#' + key + ' button');\n",
              "      quickchartButtonEl.disabled = true;  // To prevent multiple clicks.\n",
              "      quickchartButtonEl.classList.add('colab-df-spinner');\n",
              "      try {\n",
              "        const charts = await google.colab.kernel.invokeFunction(\n",
              "            'suggestCharts', [key], {});\n",
              "      } catch (error) {\n",
              "        console.error('Error during call to suggestCharts:', error);\n",
              "      }\n",
              "      quickchartButtonEl.classList.remove('colab-df-spinner');\n",
              "      quickchartButtonEl.classList.add('colab-df-quickchart-complete');\n",
              "    }\n",
              "    (() => {\n",
              "      let quickchartButtonEl =\n",
              "        document.querySelector('#df-58f24268-6813-4592-92d1-252b53195001 button');\n",
              "      quickchartButtonEl.style.display =\n",
              "        google.colab.kernel.accessAllowed ? 'block' : 'none';\n",
              "    })();\n",
              "  </script>\n",
              "</div>\n",
              "\n",
              "  <div id=\"id_754447b8-d709-44e7-a924-e234b0f90de5\">\n",
              "    <style>\n",
              "      .colab-df-generate {\n",
              "        background-color: #E8F0FE;\n",
              "        border: none;\n",
              "        border-radius: 50%;\n",
              "        cursor: pointer;\n",
              "        display: none;\n",
              "        fill: #1967D2;\n",
              "        height: 32px;\n",
              "        padding: 0 0 0 0;\n",
              "        width: 32px;\n",
              "      }\n",
              "\n",
              "      .colab-df-generate:hover {\n",
              "        background-color: #E2EBFA;\n",
              "        box-shadow: 0px 1px 2px rgba(60, 64, 67, 0.3), 0px 1px 3px 1px rgba(60, 64, 67, 0.15);\n",
              "        fill: #174EA6;\n",
              "      }\n",
              "\n",
              "      [theme=dark] .colab-df-generate {\n",
              "        background-color: #3B4455;\n",
              "        fill: #D2E3FC;\n",
              "      }\n",
              "\n",
              "      [theme=dark] .colab-df-generate:hover {\n",
              "        background-color: #434B5C;\n",
              "        box-shadow: 0px 1px 3px 1px rgba(0, 0, 0, 0.15);\n",
              "        filter: drop-shadow(0px 1px 2px rgba(0, 0, 0, 0.3));\n",
              "        fill: #FFFFFF;\n",
              "      }\n",
              "    </style>\n",
              "    <button class=\"colab-df-generate\" onclick=\"generateWithVariable('df')\"\n",
              "            title=\"Generate code using this dataframe.\"\n",
              "            style=\"display:none;\">\n",
              "\n",
              "  <svg xmlns=\"http://www.w3.org/2000/svg\" height=\"24px\"viewBox=\"0 0 24 24\"\n",
              "       width=\"24px\">\n",
              "    <path d=\"M7,19H8.4L18.45,9,17,7.55,7,17.6ZM5,21V16.75L18.45,3.32a2,2,0,0,1,2.83,0l1.4,1.43a1.91,1.91,0,0,1,.58,1.4,1.91,1.91,0,0,1-.58,1.4L9.25,21ZM18.45,9,17,7.55Zm-12,3A5.31,5.31,0,0,0,4.9,8.1,5.31,5.31,0,0,0,1,6.5,5.31,5.31,0,0,0,4.9,4.9,5.31,5.31,0,0,0,6.5,1,5.31,5.31,0,0,0,8.1,4.9,5.31,5.31,0,0,0,12,6.5,5.46,5.46,0,0,0,6.5,12Z\"/>\n",
              "  </svg>\n",
              "    </button>\n",
              "    <script>\n",
              "      (() => {\n",
              "      const buttonEl =\n",
              "        document.querySelector('#id_754447b8-d709-44e7-a924-e234b0f90de5 button.colab-df-generate');\n",
              "      buttonEl.style.display =\n",
              "        google.colab.kernel.accessAllowed ? 'block' : 'none';\n",
              "\n",
              "      buttonEl.onclick = () => {\n",
              "        google.colab.notebook.generateWithVariable('df');\n",
              "      }\n",
              "      })();\n",
              "    </script>\n",
              "  </div>\n",
              "\n",
              "    </div>\n",
              "  </div>\n"
            ],
            "application/vnd.google.colaboratory.intrinsic+json": {
              "type": "dataframe",
              "variable_name": "df",
              "summary": "{\n  \"name\": \"df\",\n  \"rows\": 3830,\n  \"fields\": [\n    {\n      \"column\": \"\\uad6c\\ubd84\",\n      \"properties\": {\n        \"dtype\": \"category\",\n        \"num_unique_values\": 1,\n        \"samples\": [\n          \"kor\"\n        ],\n        \"semantic_type\": \"\",\n        \"description\": \"\"\n      }\n    },\n    {\n      \"column\": \"\\ud589\\uc815\\uad6c\\uc5ed\\ucf54\\ub4dc\",\n      \"properties\": {\n        \"dtype\": \"number\",\n        \"std\": 1221140690,\n        \"min\": 1100000000,\n        \"max\": 5183035000,\n        \"num_unique_values\": 3830,\n        \"samples\": [\n          4711366500\n        ],\n        \"semantic_type\": \"\",\n        \"description\": \"\"\n      }\n    },\n    {\n      \"column\": \"1\\ub2e8\\uacc4\",\n      \"properties\": {\n        \"dtype\": \"category\",\n        \"num_unique_values\": 18,\n        \"samples\": [\n          \"\\uc11c\\uc6b8\\ud2b9\\ubcc4\\uc2dc\"\n        ],\n        \"semantic_type\": \"\",\n        \"description\": \"\"\n      }\n    },\n    {\n      \"column\": \"2\\ub2e8\\uacc4\",\n      \"properties\": {\n        \"dtype\": \"category\",\n        \"num_unique_values\": 230,\n        \"samples\": [\n          \"\\ud0dc\\ubc31\\uc2dc\"\n        ],\n        \"semantic_type\": \"\",\n        \"description\": \"\"\n      }\n    },\n    {\n      \"column\": \"3\\ub2e8\\uacc4\",\n      \"properties\": {\n        \"dtype\": \"string\",\n        \"num_unique_values\": 3219,\n        \"samples\": [\n          \"\\uc2e0\\uae38\\uc81c5\\ub3d9\"\n        ],\n        \"semantic_type\": \"\",\n        \"description\": \"\"\n      }\n    },\n    {\n      \"column\": \"\\uaca9\\uc790 X\",\n      \"properties\": {\n        \"dtype\": \"number\",\n        \"std\": 15,\n        \"min\": 21,\n        \"max\": 144,\n        \"num_unique_values\": 72,\n        \"samples\": [\n          58\n        ],\n        \"semantic_type\": \"\",\n        \"description\": \"\"\n      }\n    },\n    {\n      \"column\": \"\\uaca9\\uc790 Y\",\n      \"properties\": {\n        \"dtype\": \"number\",\n        \"std\": 23,\n        \"min\": 8,\n        \"max\": 147,\n        \"num_unique_values\": 105,\n        \"samples\": [\n          119\n        ],\n        \"semantic_type\": \"\",\n        \"description\": \"\"\n      }\n    },\n    {\n      \"column\": \"\\uacbd\\ub3c4(\\uc2dc)\",\n      \"properties\": {\n        \"dtype\": \"number\",\n        \"std\": 3,\n        \"min\": 0,\n        \"max\": 131,\n        \"num_unique_values\": 9,\n        \"samples\": [\n          131\n        ],\n        \"semantic_type\": \"\",\n        \"description\": \"\"\n      }\n    },\n    {\n      \"column\": \"\\uacbd\\ub3c4(\\ubd84)\",\n      \"properties\": {\n        \"dtype\": \"number\",\n        \"std\": 19,\n        \"min\": 0,\n        \"max\": 59,\n        \"num_unique_values\": 60,\n        \"samples\": [\n          58\n        ],\n        \"semantic_type\": \"\",\n        \"description\": \"\"\n      }\n    },\n    {\n      \"column\": \"\\uacbd\\ub3c4(\\ucd08)\",\n      \"properties\": {\n        \"dtype\": \"number\",\n        \"std\": 17.214199452493617,\n        \"min\": 0.0,\n        \"max\": 60.0,\n        \"num_unique_values\": 1632,\n        \"samples\": [\n          49.85\n        ],\n        \"semantic_type\": \"\",\n        \"description\": \"\"\n      }\n    },\n    {\n      \"column\": \"\\uc704\\ub3c4(\\uc2dc)\",\n      \"properties\": {\n        \"dtype\": \"number\",\n        \"std\": 1,\n        \"min\": 0,\n        \"max\": 38,\n        \"num_unique_values\": 7,\n        \"samples\": [\n          37\n        ],\n        \"semantic_type\": \"\",\n        \"description\": \"\"\n      }\n    },\n    {\n      \"column\": \"\\uc704\\ub3c4(\\ubd84)\",\n      \"properties\": {\n        \"dtype\": \"number\",\n        \"std\": 15,\n        \"min\": 0,\n        \"max\": 59,\n        \"num_unique_values\": 60,\n        \"samples\": [\n          33\n        ],\n        \"semantic_type\": \"\",\n        \"description\": \"\"\n      }\n    },\n    {\n      \"column\": \"\\uc704\\ub3c4(\\ucd08)\",\n      \"properties\": {\n        \"dtype\": \"number\",\n        \"std\": 17.384521204207662,\n        \"min\": 0.0,\n        \"max\": 59.95,\n        \"num_unique_values\": 2601,\n        \"samples\": [\n          50.42\n        ],\n        \"semantic_type\": \"\",\n        \"description\": \"\"\n      }\n    },\n    {\n      \"column\": \"\\uacbd\\ub3c4(\\ucd08/100)\",\n      \"properties\": {\n        \"dtype\": \"number\",\n        \"std\": 3.0432129474316105,\n        \"min\": 0.0,\n        \"max\": 131.8648471,\n        \"num_unique_values\": 3775,\n        \"samples\": [\n          127.068477777777\n        ],\n        \"semantic_type\": \"\",\n        \"description\": \"\"\n      }\n    },\n    {\n      \"column\": \"\\uc704\\ub3c4(\\ucd08/100)\",\n      \"properties\": {\n        \"dtype\": \"number\",\n        \"std\": 1.3562865913746032,\n        \"min\": 0.0,\n        \"max\": 38.4916444444444,\n        \"num_unique_values\": 3809,\n        \"samples\": [\n          35.1293888888888\n        ],\n        \"semantic_type\": \"\",\n        \"description\": \"\"\n      }\n    },\n    {\n      \"column\": \"\\uc704\\uce58\\uc5c5\\ub370\\uc774\\ud2b8\",\n      \"properties\": {\n        \"dtype\": \"number\",\n        \"std\": 37891.693154148335,\n        \"min\": 20140319.0,\n        \"max\": 20240101.0,\n        \"num_unique_values\": 59,\n        \"samples\": [\n          20140319.0\n        ],\n        \"semantic_type\": \"\",\n        \"description\": \"\"\n      }\n    }\n  ]\n}"
            }
          },
          "metadata": {},
          "execution_count": 13
        }
      ]
    },
    {
      "cell_type": "code",
      "source": [
        "df.columns"
      ],
      "metadata": {
        "colab": {
          "base_uri": "https://localhost:8080/"
        },
        "id": "HCt48MclLIHC",
        "outputId": "e807bf03-024b-4dfe-c0fc-6762eda02f10"
      },
      "execution_count": null,
      "outputs": [
        {
          "output_type": "execute_result",
          "data": {
            "text/plain": [
              "Index(['구분', '행정구역코드', '1단계', '2단계', '3단계', '격자 X', '격자 Y', '경도(시)', '경도(분)',\n",
              "       '경도(초)', '위도(시)', '위도(분)', '위도(초)', '경도(초/100)', '위도(초/100)', '위치업데이트'],\n",
              "      dtype='object')"
            ]
          },
          "metadata": {},
          "execution_count": 14
        }
      ]
    },
    {
      "cell_type": "code",
      "source": [
        "# 예보지점 X 좌표, 예보지점 Y를 얻어오는 함수 정의\n",
        "def get_grid_coordinates(df, level1, level2=None, level3=None):\n",
        "    query = f\"`1단계` == '{level1}'\"\n",
        "    if level2 is not None:\n",
        "        query += f\" and `2단계` == '{level2}'\"\n",
        "    if level3 is not None:\n",
        "        query += f\" and `3단계` == '{level3}'\"\n",
        "\n",
        "    result = df.query(query)\n",
        "    if not result.empty:\n",
        "        grid_x = result.iloc[0]['격자 X']\n",
        "        grid_y = result.iloc[0]['격자 Y']\n",
        "        return grid_x, grid_y\n",
        "    else:\n",
        "        return None, None"
      ],
      "metadata": {
        "id": "mNPJwJY5KT7R"
      },
      "execution_count": null,
      "outputs": []
    },
    {
      "cell_type": "code",
      "source": [
        "# 함수 사용 예시\n",
        "level1 = '서울특별시'\n",
        "level2 = '종로구'\n",
        "level3 = '청운효자동'\n",
        "\n",
        "grid_x, grid_y = get_grid_coordinates(df, level1, level2, level3)\n",
        "print(f\"격자 X: {grid_x}, 격자 Y: {grid_y}\")"
      ],
      "metadata": {
        "colab": {
          "base_uri": "https://localhost:8080/"
        },
        "id": "IN2DDlxeKWPN",
        "outputId": "fb44d0c2-1860-4131-be88-b9f16940a7d3"
      },
      "execution_count": null,
      "outputs": [
        {
          "output_type": "stream",
          "name": "stdout",
          "text": [
            "격자 X: 60, 격자 Y: 127\n"
          ]
        }
      ]
    },
    {
      "cell_type": "code",
      "source": [
        "level1 = '서울특별시'\n",
        "\n",
        "grid_x, grid_y = get_grid_coordinates(df, level1)\n",
        "print(f\"격자 X: {grid_x}, 격자 Y: {grid_y}\")"
      ],
      "metadata": {
        "colab": {
          "base_uri": "https://localhost:8080/"
        },
        "id": "wXz217v4K9yb",
        "outputId": "f921a975-5473-4a27-9a5e-986c65ba3377"
      },
      "execution_count": null,
      "outputs": [
        {
          "output_type": "stream",
          "name": "stdout",
          "text": [
            "격자 X: 60, 격자 Y: 127\n"
          ]
        }
      ]
    },
    {
      "cell_type": "code",
      "source": [
        "# '서울특별시 종로구 청운효자동' 현재 날씨 정보얻기\n",
        "x_poisition = '60'\n",
        "y_poisition = '127'\n",
        "\n",
        "weather_info = get_weather_infomation(decoding_일반_인증키, x_poisition, y_poisition)\n",
        "print(weather_info)"
      ],
      "metadata": {
        "id": "9C1fpKP98Yte",
        "colab": {
          "base_uri": "https://localhost:8080/"
        },
        "outputId": "0eaccc47-7755-4739-b6b7-5ab37fd6669b"
      },
      "execution_count": null,
      "outputs": [
        {
          "output_type": "stream",
          "name": "stdout",
          "text": [
            "날씨 : 맑음\n",
            "습도 : 83\n",
            "1시간강수량 : 0\n",
            "기온 : 23.6\n",
            "\n"
          ]
        }
      ]
    },
    {
      "cell_type": "markdown",
      "source": [
        "# 날씨 안내 AI 고객센터 챗봇 만들기"
      ],
      "metadata": {
        "id": "CcybX75sWIY4"
      }
    },
    {
      "cell_type": "code",
      "source": [
        "!pip install --upgrade --quiet langchain langchainhub langchain-openai"
      ],
      "metadata": {
        "colab": {
          "base_uri": "https://localhost:8080/"
        },
        "id": "EZChE_d7WIMP",
        "outputId": "6c571c73-f84b-407e-bcbe-f50b3ee26ca2"
      },
      "execution_count": null,
      "outputs": [
        {
          "output_type": "stream",
          "name": "stdout",
          "text": [
            "\u001b[2K     \u001b[90m━━━━━━━━━━━━━━━━━━━━━━━━━━━━━━━━━━━━━━━━\u001b[0m \u001b[32m974.6/974.6 kB\u001b[0m \u001b[31m5.3 MB/s\u001b[0m eta \u001b[36m0:00:00\u001b[0m\n",
            "\u001b[2K     \u001b[90m━━━━━━━━━━━━━━━━━━━━━━━━━━━━━━━━━━━━━━━━\u001b[0m \u001b[32m40.3/40.3 kB\u001b[0m \u001b[31m4.7 MB/s\u001b[0m eta \u001b[36m0:00:00\u001b[0m\n",
            "\u001b[2K     \u001b[90m━━━━━━━━━━━━━━━━━━━━━━━━━━━━━━━━━━━━━━━━\u001b[0m \u001b[32m321.8/321.8 kB\u001b[0m \u001b[31m29.8 MB/s\u001b[0m eta \u001b[36m0:00:00\u001b[0m\n",
            "\u001b[2K     \u001b[90m━━━━━━━━━━━━━━━━━━━━━━━━━━━━━━━━━━━━━━━━\u001b[0m \u001b[32m127.1/127.1 kB\u001b[0m \u001b[31m14.3 MB/s\u001b[0m eta \u001b[36m0:00:00\u001b[0m\n",
            "\u001b[2K     \u001b[90m━━━━━━━━━━━━━━━━━━━━━━━━━━━━━━━━━━━━━━━━\u001b[0m \u001b[32m327.4/327.4 kB\u001b[0m \u001b[31m31.3 MB/s\u001b[0m eta \u001b[36m0:00:00\u001b[0m\n",
            "\u001b[2K     \u001b[90m━━━━━━━━━━━━━━━━━━━━━━━━━━━━━━━━━━━━━━━━\u001b[0m \u001b[32m1.1/1.1 MB\u001b[0m \u001b[31m26.3 MB/s\u001b[0m eta \u001b[36m0:00:00\u001b[0m\n",
            "\u001b[2K     \u001b[90m━━━━━━━━━━━━━━━━━━━━━━━━━━━━━━━━━━━━━━━━\u001b[0m \u001b[32m145.0/145.0 kB\u001b[0m \u001b[31m14.9 MB/s\u001b[0m eta \u001b[36m0:00:00\u001b[0m\n",
            "\u001b[2K     \u001b[90m━━━━━━━━━━━━━━━━━━━━━━━━━━━━━━━━━━━━━━━━\u001b[0m \u001b[32m75.6/75.6 kB\u001b[0m \u001b[31m7.9 MB/s\u001b[0m eta \u001b[36m0:00:00\u001b[0m\n",
            "\u001b[2K     \u001b[90m━━━━━━━━━━━━━━━━━━━━━━━━━━━━━━━━━━━━━━━━\u001b[0m \u001b[32m77.9/77.9 kB\u001b[0m \u001b[31m8.6 MB/s\u001b[0m eta \u001b[36m0:00:00\u001b[0m\n",
            "\u001b[2K     \u001b[90m━━━━━━━━━━━━━━━━━━━━━━━━━━━━━━━━━━━━━━━━\u001b[0m \u001b[32m58.3/58.3 kB\u001b[0m \u001b[31m7.1 MB/s\u001b[0m eta \u001b[36m0:00:00\u001b[0m\n",
            "\u001b[?25h"
          ]
        }
      ]
    },
    {
      "cell_type": "markdown",
      "source": [
        "### Decoding 키 환경변수 설정"
      ],
      "metadata": {
        "id": "qHr9GpEDULel"
      }
    },
    {
      "cell_type": "code",
      "source": [
        "import os\n",
        "os.environ[\"decoding_일반_인증키\"] = '여러분의_Decoding_일반_인증키'"
      ],
      "metadata": {
        "id": "jcl3h644b0bx"
      },
      "execution_count": null,
      "outputs": []
    },
    {
      "cell_type": "markdown",
      "source": [
        "### LangSmith 설정"
      ],
      "metadata": {
        "id": "QhdDAHEZURdM"
      }
    },
    {
      "cell_type": "code",
      "source": [
        "from uuid import uuid4\n",
        "\n",
        "unique_id = uuid4().hex[0:8]\n",
        "os.environ[\"LANGCHAIN_TRACING_V2\"] = \"true\"\n",
        "os.environ[\"LANGCHAIN_PROJECT\"] = f\"Weather API Chatbot - {unique_id}\"\n",
        "os.environ[\"LANGCHAIN_ENDPOINT\"] = \"https://api.smith.langchain.com\"\n",
        "os.environ[\"LANGCHAIN_API_KEY\"] = \"여러분의_LANGSMITH_API_KEY\""
      ],
      "metadata": {
        "id": "qlpfHhyHcgYz"
      },
      "execution_count": null,
      "outputs": []
    },
    {
      "cell_type": "code",
      "source": [
        "unique_id"
      ],
      "metadata": {
        "colab": {
          "base_uri": "https://localhost:8080/",
          "height": 36
        },
        "id": "IMSSmrC8GDP8",
        "outputId": "57688448-7e0d-452b-cb04-7bc16bd5334d"
      },
      "execution_count": null,
      "outputs": [
        {
          "output_type": "execute_result",
          "data": {
            "text/plain": [
              "'26c13e84'"
            ],
            "application/vnd.google.colaboratory.intrinsic+json": {
              "type": "string"
            }
          },
          "metadata": {},
          "execution_count": 22
        }
      ]
    },
    {
      "cell_type": "markdown",
      "source": [
        "###  OpenAI API Key 설정"
      ],
      "metadata": {
        "id": "bI9WdMuy5tT6"
      }
    },
    {
      "cell_type": "code",
      "source": [
        "OPENAI_KEY = \"여러분의_OPENAI_API_KEY\""
      ],
      "metadata": {
        "id": "erzNQxj75tUQ"
      },
      "execution_count": null,
      "outputs": []
    },
    {
      "cell_type": "markdown",
      "source": [
        "### LLM 설정"
      ],
      "metadata": {
        "id": "Uj6PBlerUYpR"
      }
    },
    {
      "cell_type": "code",
      "source": [
        "from langchain_openai import ChatOpenAI\n",
        "\n",
        "llm = ChatOpenAI(model=\"gpt-3.5-turbo-0125\", openai_api_key=OPENAI_KEY)"
      ],
      "metadata": {
        "id": "TfrmQ4w2W-Hg"
      },
      "execution_count": null,
      "outputs": []
    },
    {
      "cell_type": "markdown",
      "source": [
        "### Tool 정의"
      ],
      "metadata": {
        "id": "-0LmGrR9UctV"
      }
    },
    {
      "cell_type": "markdown",
      "source": [
        "*   df를 전역변수에서 가져오도록 함수 로직 수정\n"
      ],
      "metadata": {
        "id": "VSBFViwXGKRg"
      }
    },
    {
      "cell_type": "code",
      "source": [
        "# 예보지점 X 좌표, 예보지점 Y를 얻어오는 함수 정의\n",
        "def get_grid_coordinates(level1, level2=None, level3=None):\n",
        "    query = f\"`1단계` == '{level1}'\"\n",
        "    if level2 is not None:\n",
        "        query += f\" and `2단계` == '{level2}'\"\n",
        "    if level3 is not None:\n",
        "        query += f\" and `3단계` == '{level3}'\"\n",
        "\n",
        "    result = df.query(query)\n",
        "    if not result.empty:\n",
        "        grid_x = result.iloc[0]['격자 X']\n",
        "        grid_y = result.iloc[0]['격자 Y']\n",
        "        return grid_x, grid_y\n",
        "    else:\n",
        "        return None, None"
      ],
      "metadata": {
        "id": "NzCFLAazGEpU"
      },
      "execution_count": null,
      "outputs": []
    },
    {
      "cell_type": "code",
      "source": [
        "from langchain_core.tools import tool\n",
        "\n",
        "@tool\n",
        "def get_weather_infomation(level1: str, level2: str = None, level3: str = None) -> str:\n",
        "    \"\"\"Get weather information.\"\"\"\n",
        "    x_position, y_position = get_grid_coordinates(level1, level2, level3)\n",
        "\n",
        "    url = 'http://apis.data.go.kr/1360000/VilageFcstInfoService_2.0/getUltraSrtNcst' # 초단기실황조회\n",
        "    params = {\n",
        "              'serviceKey' : os.environ.get('decoding_일반_인증키'),\n",
        "              'pageNo' : '1',\n",
        "              'numOfRows' : '1000',\n",
        "              'dataType' : 'JSON',\n",
        "              'base_date' : get_current_date(),\n",
        "              'base_time' : get_current_hour(),\n",
        "              'nx' : x_position,\n",
        "              'ny' : y_position\n",
        "             }\n",
        "\n",
        "    response = requests.get(url, params=params)\n",
        "    weather_info = parse_weather_infomation(json.loads(response.text))\n",
        "\n",
        "    return weather_info"
      ],
      "metadata": {
        "id": "0NtZzv8ZYS-X"
      },
      "execution_count": null,
      "outputs": []
    },
    {
      "cell_type": "code",
      "source": [
        "print(get_weather_infomation.name)\n",
        "print(get_weather_infomation.description)\n",
        "print(get_weather_infomation.args)"
      ],
      "metadata": {
        "colab": {
          "base_uri": "https://localhost:8080/"
        },
        "outputId": "b46ae534-842a-4548-accf-82c2c64366dd",
        "id": "91enDwO_YjzC"
      },
      "execution_count": null,
      "outputs": [
        {
          "output_type": "stream",
          "name": "stdout",
          "text": [
            "get_weather_infomation\n",
            "Get weather information.\n",
            "{'level1': {'title': 'Level1', 'type': 'string'}, 'level2': {'title': 'Level2', 'type': 'string'}, 'level3': {'title': 'Level3', 'type': 'string'}}\n"
          ]
        }
      ]
    },
    {
      "cell_type": "code",
      "source": [
        "get_weather_infomation.invoke({\"level1\": '서울특별시'})"
      ],
      "metadata": {
        "colab": {
          "base_uri": "https://localhost:8080/",
          "height": 36
        },
        "id": "N8JlMd1OHA90",
        "outputId": "4cf66407-7b3f-46d4-e1fb-94e92e0e1edb"
      },
      "execution_count": null,
      "outputs": [
        {
          "output_type": "execute_result",
          "data": {
            "text/plain": [
              "'날씨 : 맑음\\n습도 : 83\\n1시간강수량 : 0\\n기온 : 23.6\\n'"
            ],
            "application/vnd.google.colaboratory.intrinsic+json": {
              "type": "string"
            }
          },
          "metadata": {},
          "execution_count": 33
        }
      ]
    },
    {
      "cell_type": "markdown",
      "source": [
        "### tool agent 설정"
      ],
      "metadata": {
        "id": "DZAuX-aTUkKX"
      }
    },
    {
      "cell_type": "code",
      "source": [
        "from langchain import hub\n",
        "from langchain.agents import AgentExecutor, create_tool_calling_agent"
      ],
      "metadata": {
        "id": "8gFuHxLTkGUy"
      },
      "execution_count": null,
      "outputs": []
    },
    {
      "cell_type": "code",
      "source": [
        "# Get the prompt to use - can be replaced with any prompt that includes variables \"agent_scratchpad\" and \"input\"!\n",
        "prompt = hub.pull(\"hwchase17/openai-tools-agent\")\n",
        "prompt.pretty_print()"
      ],
      "metadata": {
        "colab": {
          "base_uri": "https://localhost:8080/"
        },
        "id": "2ijx_bukkGRa",
        "outputId": "0b0c73eb-8a2e-40a4-ab5d-e2da5bc9e6b8"
      },
      "execution_count": null,
      "outputs": [
        {
          "output_type": "stream",
          "name": "stdout",
          "text": [
            "================================\u001b[1m System Message \u001b[0m================================\n",
            "\n",
            "You are a helpful assistant\n",
            "\n",
            "=============================\u001b[1m Messages Placeholder \u001b[0m=============================\n",
            "\n",
            "\u001b[33;1m\u001b[1;3m{chat_history}\u001b[0m\n",
            "\n",
            "================================\u001b[1m Human Message \u001b[0m=================================\n",
            "\n",
            "\u001b[33;1m\u001b[1;3m{input}\u001b[0m\n",
            "\n",
            "=============================\u001b[1m Messages Placeholder \u001b[0m=============================\n",
            "\n",
            "\u001b[33;1m\u001b[1;3m{agent_scratchpad}\u001b[0m\n"
          ]
        }
      ]
    },
    {
      "cell_type": "code",
      "source": [
        "prompt"
      ],
      "metadata": {
        "colab": {
          "base_uri": "https://localhost:8080/"
        },
        "id": "edSBNdQjf7IB",
        "outputId": "b49c7016-2a20-48f2-8b04-80d1640620e0"
      },
      "execution_count": null,
      "outputs": [
        {
          "output_type": "execute_result",
          "data": {
            "text/plain": [
              "ChatPromptTemplate(input_variables=['agent_scratchpad', 'input'], input_types={'chat_history': typing.List[typing.Union[langchain_core.messages.ai.AIMessage, langchain_core.messages.human.HumanMessage, langchain_core.messages.chat.ChatMessage, langchain_core.messages.system.SystemMessage, langchain_core.messages.function.FunctionMessage, langchain_core.messages.tool.ToolMessage]], 'agent_scratchpad': typing.List[typing.Union[langchain_core.messages.ai.AIMessage, langchain_core.messages.human.HumanMessage, langchain_core.messages.chat.ChatMessage, langchain_core.messages.system.SystemMessage, langchain_core.messages.function.FunctionMessage, langchain_core.messages.tool.ToolMessage]]}, metadata={'lc_hub_owner': 'hwchase17', 'lc_hub_repo': 'openai-tools-agent', 'lc_hub_commit_hash': 'c18672812789a3b9697656dd539edf0120285dcae36396d0b548ae42a4ed66f5'}, messages=[SystemMessagePromptTemplate(prompt=PromptTemplate(input_variables=[], template='You are a helpful assistant')), MessagesPlaceholder(variable_name='chat_history', optional=True), HumanMessagePromptTemplate(prompt=PromptTemplate(input_variables=['input'], template='{input}')), MessagesPlaceholder(variable_name='agent_scratchpad')])"
            ]
          },
          "metadata": {},
          "execution_count": 36
        }
      ]
    },
    {
      "cell_type": "code",
      "source": [
        "tools = [get_weather_infomation]"
      ],
      "metadata": {
        "id": "yHPNJ2-jf7DX"
      },
      "execution_count": null,
      "outputs": []
    },
    {
      "cell_type": "code",
      "source": [
        "# Construct the tool calling agent\n",
        "agent = create_tool_calling_agent(llm, tools, prompt)"
      ],
      "metadata": {
        "id": "Me9_F0jrf68n"
      },
      "execution_count": null,
      "outputs": []
    },
    {
      "cell_type": "code",
      "source": [
        "# Create an agent executor by passing in the agent and tools\n",
        "agent_executor = AgentExecutor(agent=agent, tools=tools, verbose=True)"
      ],
      "metadata": {
        "id": "i4-g8_19cIuJ"
      },
      "execution_count": null,
      "outputs": []
    },
    {
      "cell_type": "code",
      "source": [
        "msg_result = agent_executor.invoke(\n",
        "    {\n",
        "        \"input\": \"서울특별시의 날씨를 알려줘\"\n",
        "    }\n",
        ")\n",
        "msg_result"
      ],
      "metadata": {
        "colab": {
          "base_uri": "https://localhost:8080/"
        },
        "id": "k35ORy5ZcIrS",
        "outputId": "ce71ca5b-8541-4afa-e282-aa4e89649507"
      },
      "execution_count": null,
      "outputs": [
        {
          "output_type": "stream",
          "name": "stdout",
          "text": [
            "\n",
            "\n",
            "\u001b[1m> Entering new AgentExecutor chain...\u001b[0m\n",
            "\u001b[32;1m\u001b[1;3m\n",
            "Invoking: `get_weather_infomation` with `{'level1': '서울특별시'}`\n",
            "\n",
            "\n",
            "\u001b[0m\u001b[36;1m\u001b[1;3m날씨 : 맑음\n",
            "습도 : 83\n",
            "1시간강수량 : 0\n",
            "기온 : 23.6\n",
            "\u001b[0m\u001b[32;1m\u001b[1;3m서울특별시의 현재 날씨는 맑으며, 습도는 83%이고 기온은 23.6도입니다. 1시간 강수량은 0입니다.\u001b[0m\n",
            "\n",
            "\u001b[1m> Finished chain.\u001b[0m\n"
          ]
        },
        {
          "output_type": "execute_result",
          "data": {
            "text/plain": [
              "{'input': '서울특별시의 날씨를 알려줘',\n",
              " 'output': '서울특별시의 현재 날씨는 맑으며, 습도는 83%이고 기온은 23.6도입니다. 1시간 강수량은 0입니다.'}"
            ]
          },
          "metadata": {},
          "execution_count": 41
        }
      ]
    },
    {
      "cell_type": "code",
      "source": [
        "msg_result['output']"
      ],
      "metadata": {
        "colab": {
          "base_uri": "https://localhost:8080/",
          "height": 36
        },
        "id": "GyG7N2voG67g",
        "outputId": "7c63a763-bd10-4144-e1eb-0b9673431314"
      },
      "execution_count": null,
      "outputs": [
        {
          "output_type": "execute_result",
          "data": {
            "text/plain": [
              "'서울특별시의 현재 날씨는 맑으며, 습도는 83%이고 기온은 23.6도입니다. 1시간 강수량은 0입니다.'"
            ],
            "application/vnd.google.colaboratory.intrinsic+json": {
              "type": "string"
            }
          },
          "metadata": {},
          "execution_count": 44
        }
      ]
    },
    {
      "cell_type": "code",
      "source": [
        "msg_result = agent_executor.invoke(\n",
        "    {\n",
        "        \"input\": \"서울특별시에 현재 비가 오는지 알려줘\"\n",
        "    }\n",
        ")\n",
        "msg_result"
      ],
      "metadata": {
        "colab": {
          "base_uri": "https://localhost:8080/"
        },
        "id": "8FIYWk1ZkzU5",
        "outputId": "a45e81cb-bdcc-44d8-ff8a-e31da86f83d4"
      },
      "execution_count": null,
      "outputs": [
        {
          "output_type": "stream",
          "name": "stdout",
          "text": [
            "\n",
            "\n",
            "\u001b[1m> Entering new AgentExecutor chain...\u001b[0m\n",
            "\u001b[32;1m\u001b[1;3m\n",
            "Invoking: `get_weather_infomation` with `{'level1': '서울특별시'}`\n",
            "\n",
            "\n",
            "\u001b[0m\u001b[36;1m\u001b[1;3m날씨 : 맑음\n",
            "습도 : 83\n",
            "1시간강수량 : 0\n",
            "기온 : 23.6\n",
            "\u001b[0m\u001b[32;1m\u001b[1;3m서울특별시의 현재 날씨는 맑고, 기온은 23.6도이며 습도는 83%입니다. 1시간 강수량은 0입니다. 현재 비가 오지 않고 있습니다.\u001b[0m\n",
            "\n",
            "\u001b[1m> Finished chain.\u001b[0m\n"
          ]
        },
        {
          "output_type": "execute_result",
          "data": {
            "text/plain": [
              "{'input': '서울특별시에 현재 비가 오는지 알려줘',\n",
              " 'output': '서울특별시의 현재 날씨는 맑고, 기온은 23.6도이며 습도는 83%입니다. 1시간 강수량은 0입니다. 현재 비가 오지 않고 있습니다.'}"
            ]
          },
          "metadata": {},
          "execution_count": 46
        }
      ]
    },
    {
      "cell_type": "code",
      "source": [
        "msg_result['output']"
      ],
      "metadata": {
        "colab": {
          "base_uri": "https://localhost:8080/",
          "height": 36
        },
        "id": "4FMVovIAPxTW",
        "outputId": "fc5492d5-9338-4a8d-fce2-00f92d2f32c7"
      },
      "execution_count": null,
      "outputs": [
        {
          "output_type": "execute_result",
          "data": {
            "text/plain": [
              "'서울특별시의 현재 날씨는 맑고, 기온은 23.6도이며 습도는 83%입니다. 1시간 강수량은 0입니다. 현재 비가 오지 않고 있습니다.'"
            ],
            "application/vnd.google.colaboratory.intrinsic+json": {
              "type": "string"
            }
          },
          "metadata": {},
          "execution_count": 47
        }
      ]
    },
    {
      "cell_type": "code",
      "source": [],
      "metadata": {
        "id": "A7xesySDlH_y"
      },
      "execution_count": null,
      "outputs": []
    },
    {
      "cell_type": "code",
      "source": [],
      "metadata": {
        "id": "sc57x2JjlH8l"
      },
      "execution_count": null,
      "outputs": []
    }
  ]
}