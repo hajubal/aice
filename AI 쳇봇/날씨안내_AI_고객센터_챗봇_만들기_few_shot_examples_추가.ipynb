{
 "nbformat": 4,
 "nbformat_minor": 0,
 "metadata": {
  "colab": {
   "provenance": []
  },
  "kernelspec": {
   "name": "python3",
   "display_name": "Python 3"
  },
  "language_info": {
   "name": "python"
  }
 },
 "cells": [
  {
   "cell_type": "markdown",
   "source": [
    "# [공공데이터 포털 - 기상청_단기예보 ((구)_동네예보) 조회서비스 Open API]를 이용하여 날씨 안내 AI 고객센터 챗봇 만들기 - Few-shot examples 추가"
   ],
   "metadata": {
    "id": "pBq4dJ9buRot"
   }
  },
  {
   "cell_type": "markdown",
   "source": [
    "## Reference : https://www.data.go.kr/tcs/dss/selectApiDataDetailView.do?publicDataPk=15084084"
   ],
   "metadata": {
    "id": "0qn4XmnKgc_Z"
   }
  },
  {
   "cell_type": "markdown",
   "source": [
    "# 초단기실황조회 API (getUltraSrtNcst) 정의"
   ],
   "metadata": {
    "id": "60BWYBfDvon1"
   }
  },
  {
   "cell_type": "code",
   "source": [
    "from datetime import datetime\n",
    "import requests\n",
    "import json"
   ],
   "metadata": {
    "id": "TD5HhEXVhVwW"
   },
   "outputs": [],
   "execution_count": null
  },
  {
   "cell_type": "code",
   "source": [
    "def get_current_date():\n",
    "    current_date = datetime.now().date()\n",
    "    return current_date.strftime(\"%Y%m%d\")\n",
    "\n",
    "def get_current_hour():\n",
    "    now = datetime.now()\n",
    "    return datetime.now().strftime(\"%H%M\")"
   ],
   "metadata": {
    "id": "A9KwfHSrAuw2"
   },
   "outputs": [],
   "execution_count": null
  },
  {
   "cell_type": "code",
   "source": [
    "weather_enum = {\n",
    "    \"0\": \"맑음\",\n",
    "    \"1\": \"비\",\n",
    "    \"2\": \"비/눈\",\n",
    "    \"3\": \"눈\",\n",
    "    \"5\": \"빗방울\",\n",
    "    \"6\": \"빗방울눈날림\",\n",
    "    \"7\": \"눈날림\"\n",
    "}"
   ],
   "metadata": {
    "id": "IDq_Dl947u52"
   },
   "outputs": [],
   "execution_count": null
  },
  {
   "cell_type": "code",
   "source": [
    "def parse_weather_infomation(result):\n",
    "    for item in result['response']['body']['items']['item']:\n",
    "        if item['category'] == 'PTY':\n",
    "            weather = weather_enum[item['obsrValue']]\n",
    "        if item['category'] == 'REH':\n",
    "            습도 = item['obsrValue']\n",
    "        if item['category'] == 'RN1':\n",
    "            한시간강수량 = item['obsrValue']\n",
    "        if item['category'] == 'T1H':\n",
    "            기온 = item['obsrValue']\n",
    "\n",
    "    return_string = ''\n",
    "    return_string += f'날씨 : {weather}\\n'\n",
    "    return_string += f'습도 : {습도}\\n'\n",
    "    return_string += f'1시간강수량 : {한시간강수량}\\n'\n",
    "    return_string += f'기온 : {기온}\\n'\n",
    "\n",
    "    return return_string"
   ],
   "metadata": {
    "id": "N7Tnamk_aBAa"
   },
   "outputs": [],
   "execution_count": null
  },
  {
   "cell_type": "markdown",
   "source": [
    "# 예보지점 X 좌표, 예보지점 Y 좌표 얻기"
   ],
   "metadata": {
    "id": "i2qsTtd42dlD"
   }
  },
  {
   "cell_type": "markdown",
   "source": [
    "*   참고문서 - [기상청41_단기예보 조회서비스_오픈API활용가이드_최종.zip] 파일 다운로드후 압축풀기"
   ],
   "metadata": {
    "id": "7Xq3AXqV24Zd"
   }
  },
  {
   "cell_type": "code",
   "source": [
    "import pandas as pd"
   ],
   "metadata": {
    "id": "AK5rwoQyEnuz"
   },
   "outputs": [],
   "execution_count": null
  },
  {
   "cell_type": "code",
   "source": [
    "file_path = '/content/기상청41_단기예보 조회서비스_오픈API활용가이드_격자_위경도(20240101).xlsx'"
   ],
   "metadata": {
    "id": "Nh1-R-lRAnB8"
   },
   "outputs": [],
   "execution_count": null
  },
  {
   "cell_type": "code",
   "source": [
    "# 데이터 프레임으로 읽어오기\n",
    "df = pd.read_excel(file_path)\n",
    "df"
   ],
   "metadata": {
    "id": "qy7Xig5noFjl",
    "colab": {
     "base_uri": "https://localhost:8080/",
     "height": 892
    },
    "outputId": "4c3f4c55-deb4-402c-e725-cd13f47075a0"
   },
   "outputs": [],
   "execution_count": null
  },
  {
   "cell_type": "code",
   "source": [
    "df.columns"
   ],
   "metadata": {
    "colab": {
     "base_uri": "https://localhost:8080/"
    },
    "id": "HCt48MclLIHC",
    "outputId": "d107eacf-98b5-4dcf-96e9-78b031b96090"
   },
   "outputs": [],
   "execution_count": null
  },
  {
   "cell_type": "markdown",
   "source": [
    "# 날씨 안내 AI 고객센터 챗봇 만들기"
   ],
   "metadata": {
    "id": "CcybX75sWIY4"
   }
  },
  {
   "cell_type": "code",
   "source": [
    "!pip install --upgrade --quiet langchain langchainhub langchain-openai"
   ],
   "metadata": {
    "colab": {
     "base_uri": "https://localhost:8080/"
    },
    "id": "EZChE_d7WIMP",
    "outputId": "8e3e53a2-7627-4177-e943-97a8a12c8aab"
   },
   "outputs": [],
   "execution_count": null
  },
  {
   "cell_type": "markdown",
   "source": [
    "### Decoding 키 환경변수 설정"
   ],
   "metadata": {
    "id": "qHr9GpEDULel"
   }
  },
  {
   "cell_type": "code",
   "source": [
    "import os\n",
    "os.environ[\"decoding_일반_인증키\"] = '여러분의_Decoding_일반_인증키'"
   ],
   "metadata": {
    "id": "jcl3h644b0bx"
   },
   "outputs": [],
   "execution_count": null
  },
  {
   "cell_type": "markdown",
   "source": [
    "### LangSmith 설정"
   ],
   "metadata": {
    "id": "QhdDAHEZURdM"
   }
  },
  {
   "cell_type": "code",
   "source": [
    "from uuid import uuid4\n",
    "\n",
    "unique_id = uuid4().hex[0:8]\n",
    "os.environ[\"LANGCHAIN_TRACING_V2\"] = \"true\"\n",
    "os.environ[\"LANGCHAIN_PROJECT\"] = f\"Weather API Chatbot (Add Few shot examples) - {unique_id}\"\n",
    "os.environ[\"LANGCHAIN_ENDPOINT\"] = \"https://api.smith.langchain.com\"\n",
    "os.environ[\"LANGCHAIN_API_KEY\"] = \"여러분의_LANGSMITH_API_KEY\""
   ],
   "metadata": {
    "id": "qlpfHhyHcgYz"
   },
   "outputs": [],
   "execution_count": null
  },
  {
   "cell_type": "code",
   "source": [
    "unique_id"
   ],
   "metadata": {
    "colab": {
     "base_uri": "https://localhost:8080/",
     "height": 36
    },
    "id": "IMSSmrC8GDP8",
    "outputId": "55c4c3a3-20f4-4f76-ad8e-80594dbb20f0"
   },
   "outputs": [],
   "execution_count": null
  },
  {
   "cell_type": "markdown",
   "source": [
    "###  OpenAI API Key 설정"
   ],
   "metadata": {
    "id": "bI9WdMuy5tT6"
   }
  },
  {
   "cell_type": "code",
   "source": [
    "OPENAI_KEY = \"여러분의_OPENAI_API_KEY\""
   ],
   "metadata": {
    "id": "erzNQxj75tUQ"
   },
   "outputs": [],
   "execution_count": null
  },
  {
   "cell_type": "markdown",
   "source": [
    "### LLM 설정"
   ],
   "metadata": {
    "id": "Uj6PBlerUYpR"
   }
  },
  {
   "cell_type": "code",
   "source": [
    "from langchain_openai import ChatOpenAI\n",
    "\n",
    "llm = ChatOpenAI(model=\"gpt-3.5-turbo-0125\", openai_api_key=OPENAI_KEY)"
   ],
   "metadata": {
    "id": "TfrmQ4w2W-Hg"
   },
   "outputs": [],
   "execution_count": null
  },
  {
   "cell_type": "markdown",
   "source": [
    "### Tool 정의"
   ],
   "metadata": {
    "id": "-0LmGrR9UctV"
   }
  },
  {
   "cell_type": "markdown",
   "source": [
    "*   df를 전역변수에서 가져오도록 함수 로직 수정\n"
   ],
   "metadata": {
    "id": "VSBFViwXGKRg"
   }
  },
  {
   "cell_type": "code",
   "source": [
    "# 예보지점 X 좌표, 예보지점 Y를 얻어오는 함수 정의\n",
    "def get_grid_coordinates(level1, level2=None, level3=None):\n",
    "    query = f\"`1단계` == '{level1}'\"\n",
    "    if level2 is not None:\n",
    "        query += f\" and `2단계` == '{level2}'\"\n",
    "    if level3 is not None:\n",
    "        query += f\" and `3단계` == '{level3}'\"\n",
    "\n",
    "    result = df.query(query)\n",
    "    if not result.empty:\n",
    "        grid_x = result.iloc[0]['격자 X']\n",
    "        grid_y = result.iloc[0]['격자 Y']\n",
    "        return grid_x, grid_y\n",
    "    else:\n",
    "        return None, None"
   ],
   "metadata": {
    "id": "NzCFLAazGEpU"
   },
   "outputs": [],
   "execution_count": null
  },
  {
   "cell_type": "markdown",
   "source": [
    "# level1 지명 보정 함수 작성"
   ],
   "metadata": {
    "id": "5edQipGNn00p"
   }
  },
  {
   "cell_type": "code",
   "source": [
    "def level1_correction(level1):\n",
    "    if level1 in ['서울시', '서울']:\n",
    "        level1 = '서울특별시'\n",
    "    if level1 in ['부산시', '부산']:\n",
    "        level1 = '부산광역시'\n",
    "    if level1 in ['대구시', '대구']:\n",
    "        level1 = '대구광역시'\n",
    "    if level1 in ['인천시', '인천']:\n",
    "        level1 = '인천광역시'\n",
    "    if level1 in ['광주시', '광주']:\n",
    "        level1 = '광주광역시'\n",
    "    if level1 in ['대전시', '대전']:\n",
    "        level1 = '대전광역시'\n",
    "    if level1 in ['울산시', '울산']:\n",
    "        level1 = '울산광역시'\n",
    "    if level1 in ['세종시', '세종']:\n",
    "        level1 = '세종특별자치시'\n",
    "    if level1 in ['제주도', '제주']:\n",
    "        level1 = '제주특별자치도'\n",
    "    if level1 in ['강원도', '강원']:\n",
    "        level1 = '강원특별자치도'\n",
    "\n",
    "    return level1"
   ],
   "metadata": {
    "id": "Sg3Qoa-GnpZN"
   },
   "outputs": [],
   "execution_count": null
  },
  {
   "cell_type": "code",
   "source": [
    "level1_correction('서울')"
   ],
   "metadata": {
    "colab": {
     "base_uri": "https://localhost:8080/",
     "height": 36
    },
    "id": "QoFdg6zio_B0",
    "outputId": "81956c3d-cc40-4031-f248-bee434507c14"
   },
   "outputs": [],
   "execution_count": null
  },
  {
   "cell_type": "code",
   "source": [
    "from langchain_core.tools import tool\n",
    "\n",
    "@tool\n",
    "def get_weather_infomation(level1: str, level2: str = None, level3: str = None) -> str:\n",
    "    \"\"\"Get weather information.\"\"\"\n",
    "    x_position, y_position = get_grid_coordinates(level1_correction(level1), level2, level3)\n",
    "\n",
    "    url = 'http://apis.data.go.kr/1360000/VilageFcstInfoService_2.0/getUltraSrtNcst' # 초단기실황조회\n",
    "    params = {\n",
    "              'serviceKey' : os.environ.get('decoding_일반_인증키'),\n",
    "              'pageNo' : '1',\n",
    "              'numOfRows' : '1000',\n",
    "              'dataType' : 'JSON',\n",
    "              'base_date' : get_current_date(),\n",
    "              'base_time' : get_current_hour(),\n",
    "              'nx' : x_position,\n",
    "              'ny' : y_position\n",
    "             }\n",
    "\n",
    "    response = requests.get(url, params=params)\n",
    "    weather_info = parse_weather_infomation(json.loads(response.text))\n",
    "\n",
    "    return weather_info"
   ],
   "metadata": {
    "id": "0NtZzv8ZYS-X"
   },
   "outputs": [],
   "execution_count": null
  },
  {
   "cell_type": "code",
   "source": [
    "print(get_weather_infomation.name)\n",
    "print(get_weather_infomation.description)\n",
    "print(get_weather_infomation.args)"
   ],
   "metadata": {
    "colab": {
     "base_uri": "https://localhost:8080/"
    },
    "outputId": "1654252f-52c0-4e8b-861a-9076f640b1c5",
    "id": "91enDwO_YjzC"
   },
   "outputs": [],
   "execution_count": null
  },
  {
   "cell_type": "code",
   "source": [
    "get_weather_infomation.invoke({\"level1\": '서울특별시'})"
   ],
   "metadata": {
    "colab": {
     "base_uri": "https://localhost:8080/",
     "height": 36
    },
    "id": "N8JlMd1OHA90",
    "outputId": "107105e2-5054-40b5-b79e-a1634789f9e5"
   },
   "outputs": [],
   "execution_count": null
  },
  {
   "cell_type": "code",
   "source": [
    "get_weather_infomation.invoke({\"level1\": '부산'})"
   ],
   "metadata": {
    "colab": {
     "base_uri": "https://localhost:8080/",
     "height": 36
    },
    "id": "69g5EFpkPAX6",
    "outputId": "b7da9e77-7bf4-42d0-b41d-085214b056a5"
   },
   "outputs": [],
   "execution_count": null
  },
  {
   "cell_type": "markdown",
   "source": [
    "### tool agent 설정"
   ],
   "metadata": {
    "id": "DZAuX-aTUkKX"
   }
  },
  {
   "cell_type": "code",
   "source": [
    "from langchain import hub\n",
    "from langchain.agents import AgentExecutor, create_tool_calling_agent"
   ],
   "metadata": {
    "id": "8gFuHxLTkGUy"
   },
   "outputs": [],
   "execution_count": null
  },
  {
   "cell_type": "code",
   "source": [
    "# Get the prompt to use - can be replaced with any prompt that includes variables \"agent_scratchpad\" and \"input\"!\n",
    "prompt = hub.pull(\"hwchase17/openai-tools-agent\")\n",
    "prompt.pretty_print()"
   ],
   "metadata": {
    "colab": {
     "base_uri": "https://localhost:8080/"
    },
    "id": "2ijx_bukkGRa",
    "outputId": "d53d3c81-22b0-4a68-cf7b-fe4a6c402dc9"
   },
   "outputs": [],
   "execution_count": null
  },
  {
   "cell_type": "code",
   "source": [
    "prompt"
   ],
   "metadata": {
    "colab": {
     "base_uri": "https://localhost:8080/"
    },
    "id": "edSBNdQjf7IB",
    "outputId": "52db5ae6-fff6-4c4f-da72-805536beb1c0"
   },
   "outputs": [],
   "execution_count": null
  },
  {
   "cell_type": "code",
   "source": [
    "tools = [get_weather_infomation]"
   ],
   "metadata": {
    "id": "yHPNJ2-jf7DX"
   },
   "outputs": [],
   "execution_count": null
  },
  {
   "cell_type": "code",
   "source": [
    "# Construct the tool calling agent\n",
    "agent = create_tool_calling_agent(llm, tools, prompt)"
   ],
   "metadata": {
    "id": "Me9_F0jrf68n"
   },
   "outputs": [],
   "execution_count": null
  },
  {
   "cell_type": "code",
   "source": [
    "# Create an agent executor by passing in the agent and tools\n",
    "agent_executor = AgentExecutor(agent=agent, tools=tools, verbose=True)"
   ],
   "metadata": {
    "id": "i4-g8_19cIuJ"
   },
   "outputs": [],
   "execution_count": null
  },
  {
   "cell_type": "markdown",
   "source": [
    "# Few-shot examples 추가"
   ],
   "metadata": {
    "id": "YSNPMWYWZbqS"
   }
  },
  {
   "cell_type": "code",
   "source": [
    "# Using with chat history\n",
    "from langchain_core.messages import HumanMessage, ToolMessage\n",
    "from langchain_core.messages import AIMessage\n",
    "\n",
    "chat_history = [\n",
    "    HumanMessage(\n",
    "        \"서울특별시 종로구 청운효자동의 현재 날씨를 알려줘\", name=\"example_user\"\n",
    "    ),\n",
    "    AIMessage(\n",
    "        \"\",\n",
    "        name=\"example_assistant\",\n",
    "        tool_calls=[\n",
    "            {\"name\": \"get_weather_infomation\", \"args\": {\"level1\": \"서울특별시\", \"level2\": \"종로구\", \"level3\": \"청운효자동\"}, \"id\": \"1\"}\n",
    "        ],\n",
    "    ),\n",
    "    ToolMessage(\"날씨 : 맑음\\n습도 : 83\\n1시간강수량 : 0\\n기온 : 23.6\\n\", tool_call_id=\"1\"),\n",
    "    HumanMessage(\n",
    "        \"제주도에 현재 비가 오는 중이야?\", name=\"example_user\"\n",
    "    ),\n",
    "    AIMessage(\n",
    "        \"\",\n",
    "        name=\"example_assistant\",\n",
    "        tool_calls=[\n",
    "            {\"name\": \"get_weather_infomation\", \"args\": {\"level1\": \"제주도\"}, \"id\": \"2\"}\n",
    "        ],\n",
    "    ),\n",
    "    ToolMessage(\"날씨 : 맑음\\n습도 : 81\\n1시간강수량 : 0\\n기온 : 21.2\\n\", tool_call_id=\"2\"),\n",
    "]"
   ],
   "metadata": {
    "id": "T8tS300hY3pO"
   },
   "outputs": [],
   "execution_count": null
  },
  {
   "cell_type": "code",
   "source": [
    "msg_result = agent_executor.invoke(\n",
    "    {\n",
    "        \"chat_history\": chat_history,\n",
    "        \"input\": \"서울특별시의 영등포구 여의동의 날씨를 알려줘\"\n",
    "    }\n",
    ")\n",
    "msg_result"
   ],
   "metadata": {
    "colab": {
     "base_uri": "https://localhost:8080/"
    },
    "id": "KwnwsRRKK-QZ",
    "outputId": "306bdc88-ffcd-4289-f8e6-d697ea6cc29f"
   },
   "outputs": [],
   "execution_count": null
  },
  {
   "cell_type": "code",
   "source": [
    "msg_result['output']"
   ],
   "metadata": {
    "colab": {
     "base_uri": "https://localhost:8080/",
     "height": 36
    },
    "id": "7m8fyww1Yr5h",
    "outputId": "8fd7f4b9-7234-4b73-e7a4-34d68ed4e8e2"
   },
   "outputs": [],
   "execution_count": null
  },
  {
   "cell_type": "code",
   "source": [
    "msg_result = agent_executor.invoke(\n",
    "    {\n",
    "        \"chat_history\": chat_history,\n",
    "        \"input\": \"대구의 날씨를 알려줘\"\n",
    "    }\n",
    ")\n",
    "msg_result"
   ],
   "metadata": {
    "colab": {
     "base_uri": "https://localhost:8080/"
    },
    "id": "k35ORy5ZcIrS",
    "outputId": "30f93606-6de7-4d66-d384-7b107e044c81"
   },
   "outputs": [],
   "execution_count": null
  },
  {
   "cell_type": "code",
   "source": [
    "msg_result['output']"
   ],
   "metadata": {
    "colab": {
     "base_uri": "https://localhost:8080/",
     "height": 53
    },
    "id": "GyG7N2voG67g",
    "outputId": "502a1928-bfda-458d-be2b-9fba31a3c71b"
   },
   "outputs": [],
   "execution_count": null
  },
  {
   "cell_type": "code",
   "source": [
    "msg_result = agent_executor.invoke(\n",
    "    {\n",
    "        \"chat_history\": chat_history,\n",
    "        \"input\": \"강원도 원주시 행구동에 현재 비가 오는지 알려줘\"\n",
    "    }\n",
    ")\n",
    "msg_result"
   ],
   "metadata": {
    "colab": {
     "base_uri": "https://localhost:8080/"
    },
    "id": "8FIYWk1ZkzU5",
    "outputId": "643b4e4b-b0e2-418b-be24-5e48c0a5678b"
   },
   "outputs": [],
   "execution_count": null
  },
  {
   "cell_type": "code",
   "source": [
    "msg_result['output']"
   ],
   "metadata": {
    "colab": {
     "base_uri": "https://localhost:8080/",
     "height": 36
    },
    "id": "4FMVovIAPxTW",
    "outputId": "9e65b717-304c-4a59-aa98-0d6650bcbb7f"
   },
   "outputs": [],
   "execution_count": null
  },
  {
   "cell_type": "code",
   "source": [],
   "metadata": {
    "id": "A7xesySDlH_y"
   },
   "outputs": [],
   "execution_count": null
  },
  {
   "cell_type": "code",
   "source": [],
   "metadata": {
    "id": "sc57x2JjlH8l"
   },
   "outputs": [],
   "execution_count": null
  }
 ]
}
