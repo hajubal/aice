{
  "nbformat": 4,
  "nbformat_minor": 0,
  "metadata": {
    "colab": {
      "provenance": []
    },
    "kernelspec": {
      "name": "python3",
      "display_name": "Python 3"
    },
    "language_info": {
      "name": "python"
    },
    "widgets": {
      "application/vnd.jupyter.widget-state+json": {
        "731738e283e1415ea97735a89d499d95": {
          "model_module": "@jupyter-widgets/controls",
          "model_name": "HBoxModel",
          "model_module_version": "1.5.0",
          "state": {
            "_dom_classes": [],
            "_model_module": "@jupyter-widgets/controls",
            "_model_module_version": "1.5.0",
            "_model_name": "HBoxModel",
            "_view_count": null,
            "_view_module": "@jupyter-widgets/controls",
            "_view_module_version": "1.5.0",
            "_view_name": "HBoxView",
            "box_style": "",
            "children": [
              "IPY_MODEL_f05f70c32d0a4a238acd841956f5e219",
              "IPY_MODEL_5ec85fc09ba84d3ab7abb60ffff55d6f",
              "IPY_MODEL_5097099bb9ef44ce9b7e41bc16d20023"
            ],
            "layout": "IPY_MODEL_94f32ada18aa469da8752e329cbad56b"
          }
        },
        "f05f70c32d0a4a238acd841956f5e219": {
          "model_module": "@jupyter-widgets/controls",
          "model_name": "HTMLModel",
          "model_module_version": "1.5.0",
          "state": {
            "_dom_classes": [],
            "_model_module": "@jupyter-widgets/controls",
            "_model_module_version": "1.5.0",
            "_model_name": "HTMLModel",
            "_view_count": null,
            "_view_module": "@jupyter-widgets/controls",
            "_view_module_version": "1.5.0",
            "_view_name": "HTMLView",
            "description": "",
            "description_tooltip": null,
            "layout": "IPY_MODEL_d536eb17f8134c56bfe37b87841536dd",
            "placeholder": "​",
            "style": "IPY_MODEL_2896976ebb784d528b40dc75153e2a13",
            "value": "Evaluating: 100%"
          }
        },
        "5ec85fc09ba84d3ab7abb60ffff55d6f": {
          "model_module": "@jupyter-widgets/controls",
          "model_name": "FloatProgressModel",
          "model_module_version": "1.5.0",
          "state": {
            "_dom_classes": [],
            "_model_module": "@jupyter-widgets/controls",
            "_model_module_version": "1.5.0",
            "_model_name": "FloatProgressModel",
            "_view_count": null,
            "_view_module": "@jupyter-widgets/controls",
            "_view_module_version": "1.5.0",
            "_view_name": "ProgressView",
            "bar_style": "success",
            "description": "",
            "description_tooltip": null,
            "layout": "IPY_MODEL_2531c8e638454ac0bb2c1d68015f8de5",
            "max": 3,
            "min": 0,
            "orientation": "horizontal",
            "style": "IPY_MODEL_23b43d1d4b4540cc99ec9d3ac58d5dc3",
            "value": 3
          }
        },
        "5097099bb9ef44ce9b7e41bc16d20023": {
          "model_module": "@jupyter-widgets/controls",
          "model_name": "HTMLModel",
          "model_module_version": "1.5.0",
          "state": {
            "_dom_classes": [],
            "_model_module": "@jupyter-widgets/controls",
            "_model_module_version": "1.5.0",
            "_model_name": "HTMLModel",
            "_view_count": null,
            "_view_module": "@jupyter-widgets/controls",
            "_view_module_version": "1.5.0",
            "_view_name": "HTMLView",
            "description": "",
            "description_tooltip": null,
            "layout": "IPY_MODEL_009735b2f9924596b64ce692d5e12b49",
            "placeholder": "​",
            "style": "IPY_MODEL_95f393e45a2c4c1a807c2bc734551586",
            "value": " 3/3 [00:03&lt;00:00,  1.14it/s]"
          }
        },
        "94f32ada18aa469da8752e329cbad56b": {
          "model_module": "@jupyter-widgets/base",
          "model_name": "LayoutModel",
          "model_module_version": "1.2.0",
          "state": {
            "_model_module": "@jupyter-widgets/base",
            "_model_module_version": "1.2.0",
            "_model_name": "LayoutModel",
            "_view_count": null,
            "_view_module": "@jupyter-widgets/base",
            "_view_module_version": "1.2.0",
            "_view_name": "LayoutView",
            "align_content": null,
            "align_items": null,
            "align_self": null,
            "border": null,
            "bottom": null,
            "display": null,
            "flex": null,
            "flex_flow": null,
            "grid_area": null,
            "grid_auto_columns": null,
            "grid_auto_flow": null,
            "grid_auto_rows": null,
            "grid_column": null,
            "grid_gap": null,
            "grid_row": null,
            "grid_template_areas": null,
            "grid_template_columns": null,
            "grid_template_rows": null,
            "height": null,
            "justify_content": null,
            "justify_items": null,
            "left": null,
            "margin": null,
            "max_height": null,
            "max_width": null,
            "min_height": null,
            "min_width": null,
            "object_fit": null,
            "object_position": null,
            "order": null,
            "overflow": null,
            "overflow_x": null,
            "overflow_y": null,
            "padding": null,
            "right": null,
            "top": null,
            "visibility": null,
            "width": null
          }
        },
        "d536eb17f8134c56bfe37b87841536dd": {
          "model_module": "@jupyter-widgets/base",
          "model_name": "LayoutModel",
          "model_module_version": "1.2.0",
          "state": {
            "_model_module": "@jupyter-widgets/base",
            "_model_module_version": "1.2.0",
            "_model_name": "LayoutModel",
            "_view_count": null,
            "_view_module": "@jupyter-widgets/base",
            "_view_module_version": "1.2.0",
            "_view_name": "LayoutView",
            "align_content": null,
            "align_items": null,
            "align_self": null,
            "border": null,
            "bottom": null,
            "display": null,
            "flex": null,
            "flex_flow": null,
            "grid_area": null,
            "grid_auto_columns": null,
            "grid_auto_flow": null,
            "grid_auto_rows": null,
            "grid_column": null,
            "grid_gap": null,
            "grid_row": null,
            "grid_template_areas": null,
            "grid_template_columns": null,
            "grid_template_rows": null,
            "height": null,
            "justify_content": null,
            "justify_items": null,
            "left": null,
            "margin": null,
            "max_height": null,
            "max_width": null,
            "min_height": null,
            "min_width": null,
            "object_fit": null,
            "object_position": null,
            "order": null,
            "overflow": null,
            "overflow_x": null,
            "overflow_y": null,
            "padding": null,
            "right": null,
            "top": null,
            "visibility": null,
            "width": null
          }
        },
        "2896976ebb784d528b40dc75153e2a13": {
          "model_module": "@jupyter-widgets/controls",
          "model_name": "DescriptionStyleModel",
          "model_module_version": "1.5.0",
          "state": {
            "_model_module": "@jupyter-widgets/controls",
            "_model_module_version": "1.5.0",
            "_model_name": "DescriptionStyleModel",
            "_view_count": null,
            "_view_module": "@jupyter-widgets/base",
            "_view_module_version": "1.2.0",
            "_view_name": "StyleView",
            "description_width": ""
          }
        },
        "2531c8e638454ac0bb2c1d68015f8de5": {
          "model_module": "@jupyter-widgets/base",
          "model_name": "LayoutModel",
          "model_module_version": "1.2.0",
          "state": {
            "_model_module": "@jupyter-widgets/base",
            "_model_module_version": "1.2.0",
            "_model_name": "LayoutModel",
            "_view_count": null,
            "_view_module": "@jupyter-widgets/base",
            "_view_module_version": "1.2.0",
            "_view_name": "LayoutView",
            "align_content": null,
            "align_items": null,
            "align_self": null,
            "border": null,
            "bottom": null,
            "display": null,
            "flex": null,
            "flex_flow": null,
            "grid_area": null,
            "grid_auto_columns": null,
            "grid_auto_flow": null,
            "grid_auto_rows": null,
            "grid_column": null,
            "grid_gap": null,
            "grid_row": null,
            "grid_template_areas": null,
            "grid_template_columns": null,
            "grid_template_rows": null,
            "height": null,
            "justify_content": null,
            "justify_items": null,
            "left": null,
            "margin": null,
            "max_height": null,
            "max_width": null,
            "min_height": null,
            "min_width": null,
            "object_fit": null,
            "object_position": null,
            "order": null,
            "overflow": null,
            "overflow_x": null,
            "overflow_y": null,
            "padding": null,
            "right": null,
            "top": null,
            "visibility": null,
            "width": null
          }
        },
        "23b43d1d4b4540cc99ec9d3ac58d5dc3": {
          "model_module": "@jupyter-widgets/controls",
          "model_name": "ProgressStyleModel",
          "model_module_version": "1.5.0",
          "state": {
            "_model_module": "@jupyter-widgets/controls",
            "_model_module_version": "1.5.0",
            "_model_name": "ProgressStyleModel",
            "_view_count": null,
            "_view_module": "@jupyter-widgets/base",
            "_view_module_version": "1.2.0",
            "_view_name": "StyleView",
            "bar_color": null,
            "description_width": ""
          }
        },
        "009735b2f9924596b64ce692d5e12b49": {
          "model_module": "@jupyter-widgets/base",
          "model_name": "LayoutModel",
          "model_module_version": "1.2.0",
          "state": {
            "_model_module": "@jupyter-widgets/base",
            "_model_module_version": "1.2.0",
            "_model_name": "LayoutModel",
            "_view_count": null,
            "_view_module": "@jupyter-widgets/base",
            "_view_module_version": "1.2.0",
            "_view_name": "LayoutView",
            "align_content": null,
            "align_items": null,
            "align_self": null,
            "border": null,
            "bottom": null,
            "display": null,
            "flex": null,
            "flex_flow": null,
            "grid_area": null,
            "grid_auto_columns": null,
            "grid_auto_flow": null,
            "grid_auto_rows": null,
            "grid_column": null,
            "grid_gap": null,
            "grid_row": null,
            "grid_template_areas": null,
            "grid_template_columns": null,
            "grid_template_rows": null,
            "height": null,
            "justify_content": null,
            "justify_items": null,
            "left": null,
            "margin": null,
            "max_height": null,
            "max_width": null,
            "min_height": null,
            "min_width": null,
            "object_fit": null,
            "object_position": null,
            "order": null,
            "overflow": null,
            "overflow_x": null,
            "overflow_y": null,
            "padding": null,
            "right": null,
            "top": null,
            "visibility": null,
            "width": null
          }
        },
        "95f393e45a2c4c1a807c2bc734551586": {
          "model_module": "@jupyter-widgets/controls",
          "model_name": "DescriptionStyleModel",
          "model_module_version": "1.5.0",
          "state": {
            "_model_module": "@jupyter-widgets/controls",
            "_model_module_version": "1.5.0",
            "_model_name": "DescriptionStyleModel",
            "_view_count": null,
            "_view_module": "@jupyter-widgets/base",
            "_view_module_version": "1.2.0",
            "_view_name": "StyleView",
            "description_width": ""
          }
        }
      }
    }
  },
  "cells": [
    {
      "cell_type": "markdown",
      "source": [
        "# RAGAS 기초 예제 - Faithfulness\n",
        "## 작성자 : AISchool ( http://aischool.ai/%ec%98%a8%eb%9d%bc%ec%9d%b8-%ea%b0%95%ec%9d%98-%ec%b9%b4%ed%85%8c%ea%b3%a0%eb%a6%ac/ )\n",
        "## Reference : https://github.com/explodinggradients/ragas"
      ],
      "metadata": {
        "id": "d-rWmk-QO6dm"
      }
    },
    {
      "cell_type": "code",
      "source": [
        "!pip install ragas langsmith nest_asyncio"
      ],
      "metadata": {
        "colab": {
          "base_uri": "https://localhost:8080/"
        },
        "id": "oxvYpTHUS0ZX",
        "outputId": "bc56137c-65ad-4559-b853-893e0483558c"
      },
      "execution_count": null,
      "outputs": [
        {
          "output_type": "stream",
          "name": "stdout",
          "text": [
            "Collecting ragas\n",
            "  Downloading ragas-0.1.10-py3-none-any.whl (91 kB)\n",
            "\u001b[2K     \u001b[90m━━━━━━━━━━━━━━━━━━━━━━━━━━━━━━━━━━━━━━━━\u001b[0m \u001b[32m91.5/91.5 kB\u001b[0m \u001b[31m835.8 kB/s\u001b[0m eta \u001b[36m0:00:00\u001b[0m\n",
            "\u001b[?25hCollecting langsmith\n",
            "  Downloading langsmith-0.1.83-py3-none-any.whl (127 kB)\n",
            "\u001b[2K     \u001b[90m━━━━━━━━━━━━━━━━━━━━━━━━━━━━━━━━━━━━━━━━\u001b[0m \u001b[32m127.5/127.5 kB\u001b[0m \u001b[31m4.5 MB/s\u001b[0m eta \u001b[36m0:00:00\u001b[0m\n",
            "\u001b[?25hRequirement already satisfied: nest_asyncio in /usr/local/lib/python3.10/dist-packages (1.6.0)\n",
            "Requirement already satisfied: numpy in /usr/local/lib/python3.10/dist-packages (from ragas) (1.25.2)\n",
            "Collecting datasets (from ragas)\n",
            "  Downloading datasets-2.20.0-py3-none-any.whl (547 kB)\n",
            "\u001b[2K     \u001b[90m━━━━━━━━━━━━━━━━━━━━━━━━━━━━━━━━━━━━━━━━\u001b[0m \u001b[32m547.8/547.8 kB\u001b[0m \u001b[31m19.2 MB/s\u001b[0m eta \u001b[36m0:00:00\u001b[0m\n",
            "\u001b[?25hCollecting tiktoken (from ragas)\n",
            "  Downloading tiktoken-0.7.0-cp310-cp310-manylinux_2_17_x86_64.manylinux2014_x86_64.whl (1.1 MB)\n",
            "\u001b[2K     \u001b[90m━━━━━━━━━━━━━━━━━━━━━━━━━━━━━━━━━━━━━━━━\u001b[0m \u001b[32m1.1/1.1 MB\u001b[0m \u001b[31m29.7 MB/s\u001b[0m eta \u001b[36m0:00:00\u001b[0m\n",
            "\u001b[?25hCollecting langchain (from ragas)\n",
            "  Downloading langchain-0.2.6-py3-none-any.whl (975 kB)\n",
            "\u001b[2K     \u001b[90m━━━━━━━━━━━━━━━━━━━━━━━━━━━━━━━━━━━━━━━━\u001b[0m \u001b[32m975.5/975.5 kB\u001b[0m \u001b[31m9.9 MB/s\u001b[0m eta \u001b[36m0:00:00\u001b[0m\n",
            "\u001b[?25hCollecting langchain-core (from ragas)\n",
            "  Downloading langchain_core-0.2.11-py3-none-any.whl (337 kB)\n",
            "\u001b[2K     \u001b[90m━━━━━━━━━━━━━━━━━━━━━━━━━━━━━━━━━━━━━━━━\u001b[0m \u001b[32m337.4/337.4 kB\u001b[0m \u001b[31m19.9 MB/s\u001b[0m eta \u001b[36m0:00:00\u001b[0m\n",
            "\u001b[?25hCollecting langchain-community (from ragas)\n",
            "  Downloading langchain_community-0.2.6-py3-none-any.whl (2.2 MB)\n",
            "\u001b[2K     \u001b[90m━━━━━━━━━━━━━━━━━━━━━━━━━━━━━━━━━━━━━━━━\u001b[0m \u001b[32m2.2/2.2 MB\u001b[0m \u001b[31m53.3 MB/s\u001b[0m eta \u001b[36m0:00:00\u001b[0m\n",
            "\u001b[?25hCollecting langchain-openai (from ragas)\n",
            "  Downloading langchain_openai-0.1.14-py3-none-any.whl (45 kB)\n",
            "\u001b[2K     \u001b[90m━━━━━━━━━━━━━━━━━━━━━━━━━━━━━━━━━━━━━━━━\u001b[0m \u001b[32m45.9/45.9 kB\u001b[0m \u001b[31m4.1 MB/s\u001b[0m eta \u001b[36m0:00:00\u001b[0m\n",
            "\u001b[?25hCollecting openai>1 (from ragas)\n",
            "  Downloading openai-1.35.10-py3-none-any.whl (328 kB)\n",
            "\u001b[2K     \u001b[90m━━━━━━━━━━━━━━━━━━━━━━━━━━━━━━━━━━━━━━━━\u001b[0m \u001b[32m328.3/328.3 kB\u001b[0m \u001b[31m16.6 MB/s\u001b[0m eta \u001b[36m0:00:00\u001b[0m\n",
            "\u001b[?25hCollecting pysbd>=0.3.4 (from ragas)\n",
            "  Downloading pysbd-0.3.4-py3-none-any.whl (71 kB)\n",
            "\u001b[2K     \u001b[90m━━━━━━━━━━━━━━━━━━━━━━━━━━━━━━━━━━━━━━━━\u001b[0m \u001b[32m71.1/71.1 kB\u001b[0m \u001b[31m4.5 MB/s\u001b[0m eta \u001b[36m0:00:00\u001b[0m\n",
            "\u001b[?25hCollecting appdirs (from ragas)\n",
            "  Downloading appdirs-1.4.4-py2.py3-none-any.whl (9.6 kB)\n",
            "Collecting orjson<4.0.0,>=3.9.14 (from langsmith)\n",
            "  Downloading orjson-3.10.6-cp310-cp310-manylinux_2_17_x86_64.manylinux2014_x86_64.whl (141 kB)\n",
            "\u001b[2K     \u001b[90m━━━━━━━━━━━━━━━━━━━━━━━━━━━━━━━━━━━━━━━━\u001b[0m \u001b[32m141.1/141.1 kB\u001b[0m \u001b[31m3.7 MB/s\u001b[0m eta \u001b[36m0:00:00\u001b[0m\n",
            "\u001b[?25hRequirement already satisfied: pydantic<3,>=1 in /usr/local/lib/python3.10/dist-packages (from langsmith) (2.8.0)\n",
            "Requirement already satisfied: requests<3,>=2 in /usr/local/lib/python3.10/dist-packages (from langsmith) (2.31.0)\n",
            "Requirement already satisfied: anyio<5,>=3.5.0 in /usr/local/lib/python3.10/dist-packages (from openai>1->ragas) (3.7.1)\n",
            "Requirement already satisfied: distro<2,>=1.7.0 in /usr/lib/python3/dist-packages (from openai>1->ragas) (1.7.0)\n",
            "Collecting httpx<1,>=0.23.0 (from openai>1->ragas)\n",
            "  Downloading httpx-0.27.0-py3-none-any.whl (75 kB)\n",
            "\u001b[2K     \u001b[90m━━━━━━━━━━━━━━━━━━━━━━━━━━━━━━━━━━━━━━━━\u001b[0m \u001b[32m75.6/75.6 kB\u001b[0m \u001b[31m6.1 MB/s\u001b[0m eta \u001b[36m0:00:00\u001b[0m\n",
            "\u001b[?25hRequirement already satisfied: sniffio in /usr/local/lib/python3.10/dist-packages (from openai>1->ragas) (1.3.1)\n",
            "Requirement already satisfied: tqdm>4 in /usr/local/lib/python3.10/dist-packages (from openai>1->ragas) (4.66.4)\n",
            "Requirement already satisfied: typing-extensions<5,>=4.7 in /usr/local/lib/python3.10/dist-packages (from openai>1->ragas) (4.12.2)\n",
            "Requirement already satisfied: annotated-types>=0.4.0 in /usr/local/lib/python3.10/dist-packages (from pydantic<3,>=1->langsmith) (0.7.0)\n",
            "Requirement already satisfied: pydantic-core==2.20.0 in /usr/local/lib/python3.10/dist-packages (from pydantic<3,>=1->langsmith) (2.20.0)\n",
            "Requirement already satisfied: charset-normalizer<4,>=2 in /usr/local/lib/python3.10/dist-packages (from requests<3,>=2->langsmith) (3.3.2)\n",
            "Requirement already satisfied: idna<4,>=2.5 in /usr/local/lib/python3.10/dist-packages (from requests<3,>=2->langsmith) (3.7)\n",
            "Requirement already satisfied: urllib3<3,>=1.21.1 in /usr/local/lib/python3.10/dist-packages (from requests<3,>=2->langsmith) (2.0.7)\n",
            "Requirement already satisfied: certifi>=2017.4.17 in /usr/local/lib/python3.10/dist-packages (from requests<3,>=2->langsmith) (2024.6.2)\n",
            "Requirement already satisfied: filelock in /usr/local/lib/python3.10/dist-packages (from datasets->ragas) (3.15.4)\n",
            "Collecting pyarrow>=15.0.0 (from datasets->ragas)\n",
            "  Downloading pyarrow-16.1.0-cp310-cp310-manylinux_2_28_x86_64.whl (40.8 MB)\n",
            "\u001b[2K     \u001b[90m━━━━━━━━━━━━━━━━━━━━━━━━━━━━━━━━━━━━━━━━\u001b[0m \u001b[32m40.8/40.8 MB\u001b[0m \u001b[31m13.2 MB/s\u001b[0m eta \u001b[36m0:00:00\u001b[0m\n",
            "\u001b[?25hRequirement already satisfied: pyarrow-hotfix in /usr/local/lib/python3.10/dist-packages (from datasets->ragas) (0.6)\n",
            "Collecting dill<0.3.9,>=0.3.0 (from datasets->ragas)\n",
            "  Downloading dill-0.3.8-py3-none-any.whl (116 kB)\n",
            "\u001b[2K     \u001b[90m━━━━━━━━━━━━━━━━━━━━━━━━━━━━━━━━━━━━━━━━\u001b[0m \u001b[32m116.3/116.3 kB\u001b[0m \u001b[31m8.0 MB/s\u001b[0m eta \u001b[36m0:00:00\u001b[0m\n",
            "\u001b[?25hRequirement already satisfied: pandas in /usr/local/lib/python3.10/dist-packages (from datasets->ragas) (2.0.3)\n",
            "Collecting requests<3,>=2 (from langsmith)\n",
            "  Downloading requests-2.32.3-py3-none-any.whl (64 kB)\n",
            "\u001b[2K     \u001b[90m━━━━━━━━━━━━━━━━━━━━━━━━━━━━━━━━━━━━━━━━\u001b[0m \u001b[32m64.9/64.9 kB\u001b[0m \u001b[31m4.0 MB/s\u001b[0m eta \u001b[36m0:00:00\u001b[0m\n",
            "\u001b[?25hCollecting xxhash (from datasets->ragas)\n",
            "  Downloading xxhash-3.4.1-cp310-cp310-manylinux_2_17_x86_64.manylinux2014_x86_64.whl (194 kB)\n",
            "\u001b[2K     \u001b[90m━━━━━━━━━━━━━━━━━━━━━━━━━━━━━━━━━━━━━━━━\u001b[0m \u001b[32m194.1/194.1 kB\u001b[0m \u001b[31m7.9 MB/s\u001b[0m eta \u001b[36m0:00:00\u001b[0m\n",
            "\u001b[?25hCollecting multiprocess (from datasets->ragas)\n",
            "  Downloading multiprocess-0.70.16-py310-none-any.whl (134 kB)\n",
            "\u001b[2K     \u001b[90m━━━━━━━━━━━━━━━━━━━━━━━━━━━━━━━━━━━━━━━━\u001b[0m \u001b[32m134.8/134.8 kB\u001b[0m \u001b[31m11.1 MB/s\u001b[0m eta \u001b[36m0:00:00\u001b[0m\n",
            "\u001b[?25hRequirement already satisfied: fsspec[http]<=2024.5.0,>=2023.1.0 in /usr/local/lib/python3.10/dist-packages (from datasets->ragas) (2023.6.0)\n",
            "Requirement already satisfied: aiohttp in /usr/local/lib/python3.10/dist-packages (from datasets->ragas) (3.9.5)\n",
            "Requirement already satisfied: huggingface-hub>=0.21.2 in /usr/local/lib/python3.10/dist-packages (from datasets->ragas) (0.23.4)\n",
            "Requirement already satisfied: packaging in /usr/local/lib/python3.10/dist-packages (from datasets->ragas) (24.1)\n",
            "Requirement already satisfied: pyyaml>=5.1 in /usr/local/lib/python3.10/dist-packages (from datasets->ragas) (6.0.1)\n",
            "Requirement already satisfied: SQLAlchemy<3,>=1.4 in /usr/local/lib/python3.10/dist-packages (from langchain->ragas) (2.0.31)\n",
            "Requirement already satisfied: async-timeout<5.0.0,>=4.0.0 in /usr/local/lib/python3.10/dist-packages (from langchain->ragas) (4.0.3)\n",
            "Collecting langchain-text-splitters<0.3.0,>=0.2.0 (from langchain->ragas)\n",
            "  Downloading langchain_text_splitters-0.2.2-py3-none-any.whl (25 kB)\n",
            "Requirement already satisfied: tenacity!=8.4.0,<9.0.0,>=8.1.0 in /usr/local/lib/python3.10/dist-packages (from langchain->ragas) (8.4.2)\n",
            "Collecting jsonpatch<2.0,>=1.33 (from langchain-core->ragas)\n",
            "  Downloading jsonpatch-1.33-py2.py3-none-any.whl (12 kB)\n",
            "Collecting dataclasses-json<0.7,>=0.5.7 (from langchain-community->ragas)\n",
            "  Downloading dataclasses_json-0.6.7-py3-none-any.whl (28 kB)\n",
            "Requirement already satisfied: regex>=2022.1.18 in /usr/local/lib/python3.10/dist-packages (from tiktoken->ragas) (2024.5.15)\n",
            "Requirement already satisfied: aiosignal>=1.1.2 in /usr/local/lib/python3.10/dist-packages (from aiohttp->datasets->ragas) (1.3.1)\n",
            "Requirement already satisfied: attrs>=17.3.0 in /usr/local/lib/python3.10/dist-packages (from aiohttp->datasets->ragas) (23.2.0)\n",
            "Requirement already satisfied: frozenlist>=1.1.1 in /usr/local/lib/python3.10/dist-packages (from aiohttp->datasets->ragas) (1.4.1)\n",
            "Requirement already satisfied: multidict<7.0,>=4.5 in /usr/local/lib/python3.10/dist-packages (from aiohttp->datasets->ragas) (6.0.5)\n",
            "Requirement already satisfied: yarl<2.0,>=1.0 in /usr/local/lib/python3.10/dist-packages (from aiohttp->datasets->ragas) (1.9.4)\n",
            "Requirement already satisfied: exceptiongroup in /usr/local/lib/python3.10/dist-packages (from anyio<5,>=3.5.0->openai>1->ragas) (1.2.1)\n",
            "Collecting marshmallow<4.0.0,>=3.18.0 (from dataclasses-json<0.7,>=0.5.7->langchain-community->ragas)\n",
            "  Downloading marshmallow-3.21.3-py3-none-any.whl (49 kB)\n",
            "\u001b[2K     \u001b[90m━━━━━━━━━━━━━━━━━━━━━━━━━━━━━━━━━━━━━━━━\u001b[0m \u001b[32m49.2/49.2 kB\u001b[0m \u001b[31m2.8 MB/s\u001b[0m eta \u001b[36m0:00:00\u001b[0m\n",
            "\u001b[?25hCollecting typing-inspect<1,>=0.4.0 (from dataclasses-json<0.7,>=0.5.7->langchain-community->ragas)\n",
            "  Downloading typing_inspect-0.9.0-py3-none-any.whl (8.8 kB)\n",
            "Collecting httpcore==1.* (from httpx<1,>=0.23.0->openai>1->ragas)\n",
            "  Downloading httpcore-1.0.5-py3-none-any.whl (77 kB)\n",
            "\u001b[2K     \u001b[90m━━━━━━━━━━━━━━━━━━━━━━━━━━━━━━━━━━━━━━━━\u001b[0m \u001b[32m77.9/77.9 kB\u001b[0m \u001b[31m6.9 MB/s\u001b[0m eta \u001b[36m0:00:00\u001b[0m\n",
            "\u001b[?25hCollecting h11<0.15,>=0.13 (from httpcore==1.*->httpx<1,>=0.23.0->openai>1->ragas)\n",
            "  Downloading h11-0.14.0-py3-none-any.whl (58 kB)\n",
            "\u001b[2K     \u001b[90m━━━━━━━━━━━━━━━━━━━━━━━━━━━━━━━━━━━━━━━━\u001b[0m \u001b[32m58.3/58.3 kB\u001b[0m \u001b[31m5.5 MB/s\u001b[0m eta \u001b[36m0:00:00\u001b[0m\n",
            "\u001b[?25hCollecting jsonpointer>=1.9 (from jsonpatch<2.0,>=1.33->langchain-core->ragas)\n",
            "  Downloading jsonpointer-3.0.0-py2.py3-none-any.whl (7.6 kB)\n",
            "Requirement already satisfied: greenlet!=0.4.17 in /usr/local/lib/python3.10/dist-packages (from SQLAlchemy<3,>=1.4->langchain->ragas) (3.0.3)\n",
            "Requirement already satisfied: python-dateutil>=2.8.2 in /usr/local/lib/python3.10/dist-packages (from pandas->datasets->ragas) (2.8.2)\n",
            "Requirement already satisfied: pytz>=2020.1 in /usr/local/lib/python3.10/dist-packages (from pandas->datasets->ragas) (2023.4)\n",
            "Requirement already satisfied: tzdata>=2022.1 in /usr/local/lib/python3.10/dist-packages (from pandas->datasets->ragas) (2024.1)\n",
            "Requirement already satisfied: six>=1.5 in /usr/local/lib/python3.10/dist-packages (from python-dateutil>=2.8.2->pandas->datasets->ragas) (1.16.0)\n",
            "Collecting mypy-extensions>=0.3.0 (from typing-inspect<1,>=0.4.0->dataclasses-json<0.7,>=0.5.7->langchain-community->ragas)\n",
            "  Downloading mypy_extensions-1.0.0-py3-none-any.whl (4.7 kB)\n",
            "Installing collected packages: appdirs, xxhash, requests, pysbd, pyarrow, orjson, mypy-extensions, marshmallow, jsonpointer, h11, dill, typing-inspect, tiktoken, multiprocess, jsonpatch, httpcore, langsmith, httpx, dataclasses-json, openai, langchain-core, datasets, langchain-text-splitters, langchain-openai, langchain, langchain-community, ragas\n",
            "  Attempting uninstall: requests\n",
            "    Found existing installation: requests 2.31.0\n",
            "    Uninstalling requests-2.31.0:\n",
            "      Successfully uninstalled requests-2.31.0\n",
            "  Attempting uninstall: pyarrow\n",
            "    Found existing installation: pyarrow 14.0.2\n",
            "    Uninstalling pyarrow-14.0.2:\n",
            "      Successfully uninstalled pyarrow-14.0.2\n",
            "\u001b[31mERROR: pip's dependency resolver does not currently take into account all the packages that are installed. This behaviour is the source of the following dependency conflicts.\n",
            "cudf-cu12 24.4.1 requires pyarrow<15.0.0a0,>=14.0.1, but you have pyarrow 16.1.0 which is incompatible.\n",
            "google-colab 1.0.0 requires requests==2.31.0, but you have requests 2.32.3 which is incompatible.\n",
            "ibis-framework 8.0.0 requires pyarrow<16,>=2, but you have pyarrow 16.1.0 which is incompatible.\u001b[0m\u001b[31m\n",
            "\u001b[0mSuccessfully installed appdirs-1.4.4 dataclasses-json-0.6.7 datasets-2.20.0 dill-0.3.8 h11-0.14.0 httpcore-1.0.5 httpx-0.27.0 jsonpatch-1.33 jsonpointer-3.0.0 langchain-0.2.6 langchain-community-0.2.6 langchain-core-0.2.11 langchain-openai-0.1.14 langchain-text-splitters-0.2.2 langsmith-0.1.83 marshmallow-3.21.3 multiprocess-0.70.16 mypy-extensions-1.0.0 openai-1.35.10 orjson-3.10.6 pyarrow-16.1.0 pysbd-0.3.4 ragas-0.1.10 requests-2.32.3 tiktoken-0.7.0 typing-inspect-0.9.0 xxhash-3.4.1\n"
          ]
        }
      ]
    },
    {
      "cell_type": "code",
      "source": [
        "import nest_asyncio"
      ],
      "metadata": {
        "id": "KCHjFhvsS76F"
      },
      "execution_count": null,
      "outputs": []
    },
    {
      "cell_type": "code",
      "source": [
        "# Apply nest_asyncio to allow nested event loops\n",
        "nest_asyncio.apply()"
      ],
      "metadata": {
        "id": "WYcT2VrYU8G2"
      },
      "execution_count": null,
      "outputs": []
    },
    {
      "cell_type": "markdown",
      "source": [
        "# API Key 설정"
      ],
      "metadata": {
        "id": "r-3k-Jl2EVt5"
      }
    },
    {
      "cell_type": "code",
      "source": [
        "import os\n",
        "os.environ[\"OPENAI_API_KEY\"] = \"여러분의_OPENAI_API_KEY\""
      ],
      "metadata": {
        "id": "rjjhCrurS836"
      },
      "execution_count": null,
      "outputs": []
    },
    {
      "cell_type": "code",
      "source": [
        "from uuid import uuid4\n",
        "\n",
        "unique_id = uuid4().hex[0:8]\n",
        "\n",
        "os.environ[\"LANGCHAIN_TRACING_V2\"] = \"true\"\n",
        "os.environ[\"LANGCHAIN_PROJECT\"] = f\"RAGAS Example - {unique_id}\"\n",
        "os.environ[\"LANGCHAIN_ENDPOINT\"] = \"https://api.smith.langchain.com\"\n",
        "os.environ[\"LANGCHAIN_API_KEY\"] = \"여러분의_LANGSMITH_API_KEY\""
      ],
      "metadata": {
        "id": "ip_9d8wuzCZ2"
      },
      "execution_count": null,
      "outputs": []
    },
    {
      "cell_type": "code",
      "source": [
        "unique_id"
      ],
      "metadata": {
        "colab": {
          "base_uri": "https://localhost:8080/",
          "height": 36
        },
        "id": "UsF5naHhFYeG",
        "outputId": "d610fb50-079c-49d2-a2af-3cc9e9c0a635"
      },
      "execution_count": null,
      "outputs": [
        {
          "output_type": "execute_result",
          "data": {
            "text/plain": [
              "'42dafdd6'"
            ],
            "application/vnd.google.colaboratory.intrinsic+json": {
              "type": "string"
            }
          },
          "metadata": {},
          "execution_count": 11
        }
      ]
    },
    {
      "cell_type": "markdown",
      "source": [
        "# 1. Faithfulness 성능 측정\n",
        "## Reference : https://docs.ragas.io/en/stable/concepts/metrics/faithfulness.html#"
      ],
      "metadata": {
        "id": "bYqfLXPnFLPd"
      }
    },
    {
      "cell_type": "code",
      "source": [
        "from ragas.metrics import context_precision, answer_relevancy, faithfulness\n",
        "from ragas import evaluate"
      ],
      "metadata": {
        "id": "TVZv2TzZFgUd"
      },
      "execution_count": null,
      "outputs": []
    },
    {
      "cell_type": "code",
      "source": [
        "from datasets import Dataset\n",
        "\n",
        "data_samples = {\n",
        "    'question': ['Where and when was Einstein born?', 'Where and when was Einstein born?', 'Who won the most super bowls?'],\n",
        "    'answer': ['Einstein was born in Germany on 14th March 1879.', 'Einstein was born in Germany on 20th March 1879.', 'The most super bowls have been won by The New England Patriots'],\n",
        "    'contexts' : [['Albert Einstein (born 14 March 1879) was a German-born theoretical physicist, widely held to be one of the greatest and most influential scientists of all time'],['Albert Einstein (born 14 March 1879) was a German-born theoretical physicist, widely held to be one of the greatest and most influential scientists of all time'],\n",
        "    ['The Green Bay Packers...Green Bay, Wisconsin.','The Packers compete...Football Conference']],\n",
        "}\n",
        "dataset = Dataset.from_dict(data_samples)"
      ],
      "metadata": {
        "id": "qaRIqloCzTwJ"
      },
      "execution_count": null,
      "outputs": []
    },
    {
      "cell_type": "code",
      "source": [
        "dataset"
      ],
      "metadata": {
        "colab": {
          "base_uri": "https://localhost:8080/"
        },
        "id": "W78n1aAp32Dl",
        "outputId": "f196fa82-eaa3-4094-ba83-a7fe1a4ee7b6"
      },
      "execution_count": null,
      "outputs": [
        {
          "output_type": "execute_result",
          "data": {
            "text/plain": [
              "Dataset({\n",
              "    features: ['question', 'answer', 'contexts'],\n",
              "    num_rows: 3\n",
              "})"
            ]
          },
          "metadata": {},
          "execution_count": 8
        }
      ]
    },
    {
      "cell_type": "code",
      "source": [
        "result = evaluate(\n",
        "    dataset,\n",
        "    metrics=[faithfulness],\n",
        ")\n",
        "\n",
        "result"
      ],
      "metadata": {
        "colab": {
          "base_uri": "https://localhost:8080/",
          "height": 67,
          "referenced_widgets": [
            "731738e283e1415ea97735a89d499d95",
            "f05f70c32d0a4a238acd841956f5e219",
            "5ec85fc09ba84d3ab7abb60ffff55d6f",
            "5097099bb9ef44ce9b7e41bc16d20023",
            "94f32ada18aa469da8752e329cbad56b",
            "d536eb17f8134c56bfe37b87841536dd",
            "2896976ebb784d528b40dc75153e2a13",
            "2531c8e638454ac0bb2c1d68015f8de5",
            "23b43d1d4b4540cc99ec9d3ac58d5dc3",
            "009735b2f9924596b64ce692d5e12b49",
            "95f393e45a2c4c1a807c2bc734551586"
          ]
        },
        "id": "nJ94l8cwzKeB",
        "outputId": "bae06c58-3a1b-4294-84c3-4e859978123e"
      },
      "execution_count": null,
      "outputs": [
        {
          "output_type": "display_data",
          "data": {
            "text/plain": [
              "Evaluating:   0%|          | 0/3 [00:00<?, ?it/s]"
            ],
            "application/vnd.jupyter.widget-view+json": {
              "version_major": 2,
              "version_minor": 0,
              "model_id": "731738e283e1415ea97735a89d499d95"
            }
          },
          "metadata": {}
        },
        {
          "output_type": "execute_result",
          "data": {
            "text/plain": [
              "{'faithfulness': 0.5000}"
            ]
          },
          "metadata": {},
          "execution_count": 9
        }
      ]
    },
    {
      "cell_type": "code",
      "source": [
        "result"
      ],
      "metadata": {
        "colab": {
          "base_uri": "https://localhost:8080/"
        },
        "id": "bTHXdmB3zKa4",
        "outputId": "4f868fad-d741-429d-9c40-b8988f9a0907"
      },
      "execution_count": null,
      "outputs": [
        {
          "output_type": "execute_result",
          "data": {
            "text/plain": [
              "{'faithfulness': 0.5000}"
            ]
          },
          "metadata": {},
          "execution_count": 10
        }
      ]
    },
    {
      "cell_type": "markdown",
      "source": [
        "# Faithfulness 측정 프롬프트 살펴보기"
      ],
      "metadata": {
        "id": "Q8Zh1HAeF2sI"
      }
    },
    {
      "cell_type": "code",
      "source": [
        "# question: Where and when was Einstein born?\n",
        "# answer: Einstein was born in Germany on 14th March 1879.\n",
        "# contexts:\n",
        "#   - Albert Einstein (born 14 March 1879) was a German-born theoretical physicist,\n",
        "# widely held to be one of the greatest and most influential scientists of all time"
      ],
      "metadata": {
        "id": "TcvfS6UPJe16"
      },
      "execution_count": null,
      "outputs": []
    },
    {
      "cell_type": "code",
      "source": [
        "# output: 1"
      ],
      "metadata": {
        "id": "zdxjoSS5Jh9r"
      },
      "execution_count": null,
      "outputs": []
    },
    {
      "cell_type": "markdown",
      "source": [
        "# 1단계 - 문장의 주장(Claims) 분석"
      ],
      "metadata": {
        "id": "IfTtlEIOJCdn"
      }
    },
    {
      "cell_type": "code",
      "source": [
        "# Given a question, an answer, and sentences from the answer analyze the complexity of each sentence given under 'sentences' and break down each sentence into one or more fully understandable statements while also ensuring no pronouns are used in each statement. Format the outputs in JSON.\n",
        "\n",
        "# The output should be a well-formatted JSON instance that conforms to the JSON schema below.\n",
        "\n",
        "# As an example, for the schema {\"properties\": {\"foo\": {\"title\": \"Foo\", \"description\": \"a list of strings\", \"type\": \"array\", \"items\": {\"type\": \"string\"}}}, \"required\": [\"foo\"]}\n",
        "# the object {\"foo\": [\"bar\", \"baz\"]} is a well-formatted instance of the schema. The object {\"properties\": {\"foo\": [\"bar\", \"baz\"]}} is not well-formatted.\n",
        "\n",
        "# Here is the output JSON schema:\n",
        "# ```\n",
        "# {\"type\": \"array\", \"items\": {\"$ref\": \"#/definitions/Statements\"}, \"definitions\": {\"Statements\": {\"title\": \"Statements\", \"type\": \"object\", \"properties\": {\"sentence_index\": {\"title\": \"Sentence Index\", \"description\": \"Index of the sentence from the statement list\", \"type\": \"integer\"}, \"simpler_statements\": {\"title\": \"Simpler Statements\", \"description\": \"the simpler statements\", \"type\": \"array\", \"items\": {\"type\": \"string\"}}}, \"required\": [\"sentence_index\", \"simpler_statements\"]}}}\n",
        "# ```\n",
        "\n",
        "# Do not return any preamble or explanations, return only a pure JSON string surrounded by triple backticks (```).\n",
        "\n",
        "# Examples:\n",
        "\n",
        "# question: \"Who was Albert Einstein and what is he best known for?\"\n",
        "# answer: \"He was a German-born theoretical physicist, widely acknowledged to be one of the greatest and most influential physicists of all time. He was best known for developing the theory of relativity, he also made important contributions to the development of the theory of quantum mechanics.\"\n",
        "# sentences: \"\\n        0:He was a German-born theoretical physicist, widely acknowledged to be one of the greatest and most influential physicists of all time. \\n        1:He was best known for developing the theory of relativity, he also made important contributions to the development of the theory of quantum mechanics.\\n        \"\n",
        "# analysis: ```[{\"sentence_index\": 0, \"simpler_statements\": [\"Albert Einstein was a German-born theoretical physicist.\", \"Albert Einstein is recognized as one of the greatest and most influential physicists of all time.\"]}, {\"sentence_index\": 1, \"simpler_statements\": [\"Albert Einstein was best known for developing the theory of relativity.\", \"Albert Einstein also made important contributions to the development of the theory of quantum mechanics.\"]}]```\n",
        "\n",
        "# Your actual task:\n",
        "\n",
        "# question: Where and when was Einstein born?\n",
        "# answer: Einstein was born in Germany on 14th March 1879.\n",
        "# sentences: 0:Einstein was born in Germany on 14th March 1879.\n",
        "# analysis:\n"
      ],
      "metadata": {
        "id": "NGNTxsNozKYI"
      },
      "execution_count": null,
      "outputs": []
    },
    {
      "cell_type": "code",
      "source": [
        "# 질문, 답변, 그리고 '문장들' 아래에 있는 답변에서 추출한 문장을 주어지면,\n",
        "# 각 문장의 복잡성을 분석하고 각 문장을 하나 이상의 완전히 이해 가능한 문장으로 분해하십시오.\n",
        "# 또한 각 문장에 대명사가 사용되지 않도록 하십시오. 출력 형식은 JSON으로 하십시오.\n",
        "\n",
        "# 출력은 아래 JSON 스키마를 따르는 잘 형식화된 JSON 인스턴스여야 합니다.\n",
        "\n",
        "# 예를 들어, 스키마가 {\"properties\": {\"foo\": {\"title\": \"Foo\", \"description\":\n",
        "# \"a list of strings\", \"type\": \"array\", \"items\": {\"type\": \"string\"}}},\n",
        "# \"required\": [\"foo\"]}인 경우,\n",
        "# 객체 {\"foo\": [\"bar\", \"baz\"]}는 스키마에 잘 형식화된 인스턴스입니다.\n",
        "# 객체 {\"properties\": {\"foo\": [\"bar\", \"baz\"]}}는 잘 형식화된 인스턴스가 아닙니다.\n",
        "\n",
        "# 다음은 출력 JSON 스키마입니다:\n",
        "# ```\n",
        "# {\"type\": \"array\", \"items\": {\"$ref\": \"#/definitions/Statements\"},\n",
        "# \"definitions\": {\"Statements\": {\"title\": \"Statements\", \"type\": \"object\",\n",
        "# \"properties\": {\"sentence_index\": {\"title\": \"Sentence Index\",\n",
        "# \"description\": \"Index of the sentence from the statement list\", \"type\": \"integer\"},\n",
        "# \"simpler_statements\": {\"title\": \"Simpler Statements\",\n",
        "# \"description\": \"the simpler statements\", \"type\": \"array\", \"items\": {\"type\": \"string\"}}},\n",
        "# \"required\": [\"sentence_index\", \"simpler_statements\"]}}}\n",
        "# ```\n",
        "\n",
        "# 어떠한 서문이나 설명 없이, 삼중 백틱(```)으로 둘러싸인 순수 JSON 문자열만 반환하십시오.\n",
        "\n",
        "# Examples:\n",
        "\n",
        "# 질문: \"알베르트 아인슈타인은 누구이며 무엇으로 가장 잘 알려져 있습니까?\"\n",
        "# 답변: \"그는 독일 태생의 이론 물리학자로, 역사상 가장 위대하고 영향력 있는 물리학자 중 한 명으로 널리 인정받고 있습니다.\n",
        "# 그는 상대성 이론을 개발한 것으로 가장 잘 알려져 있으며, 양자 역학 이론의 발전에도 중요한 기여를 했습니다.\"\n",
        "# 문장들: \"\\n        0:그는 독일 태생의 이론 물리학자로, 역사상 가장 위대하고 영향력 있는 물리학자 중 한 명으로 널리 인정받고 있습니다. \\n\n",
        "# 1:그는 상대성 이론을 개발한 것으로 가장 잘 알려져 있으며, 양자 역학 이론의 발전에도 중요한 기여를 했습니다.\\n        \"\n",
        "# 분석: ```[{\"sentence_index\": 0, \"simpler_statements\": [\"알베르트 아인슈타인은 독일 태생의 이론 물리학자였습니다.\",\n",
        "# \"알베르트 아인슈타인은 역사상 가장 위대하고 영향력 있는 물리학자 중 한 명으로 인정받고 있습니다.\"]},\n",
        "# {\"sentence_index\": 1, \"simpler_statements\": [\"알베르트 아인슈타인은 상대성 이론을 개발한 것으로 가장 잘 알려져 있습니다.\",\n",
        "# \"알베르트 아인슈타인은 양자 역학 이론의 발전에도 중요한 기여를 했습니다.\"]}]```\n",
        "\n",
        "# Your actual task:\n",
        "\n",
        "# question: Where and when was Einstein born?\n",
        "# answer: Einstein was born in Germany on 14th March 1879.\n",
        "# sentences: 0:Einstein was born in Germany on 14th March 1879.\n",
        "# analysis:"
      ],
      "metadata": {
        "id": "do464OptXZUG"
      },
      "execution_count": null,
      "outputs": []
    },
    {
      "cell_type": "code",
      "source": [
        "# ```[{\"sentence_index\": 0,\n",
        "# \"simpler_statements\": [\"Einstein was born in Germany.\", \"Einstein was born on 14th March 1879.\"]}]```"
      ],
      "metadata": {
        "id": "1-mZuofoXZRE"
      },
      "execution_count": null,
      "outputs": []
    },
    {
      "cell_type": "markdown",
      "source": [
        "## 2단계 - 각 주장의 Faithfulness 측정"
      ],
      "metadata": {
        "id": "s3oH_7OKJEEr"
      }
    },
    {
      "cell_type": "code",
      "source": [
        "# Your task is to judge the faithfulness of a series of statements based on a given context. For each statement you must return verdict as 1 if the statement can be directly inferred based on the context or 0 if the statement can not be directly inferred based on the context.\n",
        "\n",
        "# The output should be a well-formatted JSON instance that conforms to the JSON schema below.\n",
        "\n",
        "# As an example, for the schema {\"properties\": {\"foo\": {\"title\": \"Foo\", \"description\": \"a list of strings\", \"type\": \"array\", \"items\": {\"type\": \"string\"}}}, \"required\": [\"foo\"]}\n",
        "# the object {\"foo\": [\"bar\", \"baz\"]} is a well-formatted instance of the schema. The object {\"properties\": {\"foo\": [\"bar\", \"baz\"]}} is not well-formatted.\n",
        "\n",
        "# Here is the output JSON schema:\n",
        "# ```\n",
        "# {\"type\": \"array\", \"items\": {\"$ref\": \"#/definitions/StatementFaithfulnessAnswer\"}, \"definitions\": {\"StatementFaithfulnessAnswer\": {\"title\": \"StatementFaithfulnessAnswer\", \"type\": \"object\", \"properties\": {\"statement\": {\"title\": \"Statement\", \"description\": \"the original statement, word-by-word\", \"type\": \"string\"}, \"reason\": {\"title\": \"Reason\", \"description\": \"the reason of the verdict\", \"type\": \"string\"}, \"verdict\": {\"title\": \"Verdict\", \"description\": \"the verdict(0/1) of the faithfulness.\", \"type\": \"integer\"}}, \"required\": [\"statement\", \"reason\", \"verdict\"]}}}\n",
        "# ```\n",
        "\n",
        "# Do not return any preamble or explanations, return only a pure JSON string surrounded by triple backticks (```).\n",
        "\n",
        "# Examples:\n",
        "\n",
        "# context: \"John is a student at XYZ University. He is pursuing a degree in Computer Science. He is enrolled in several courses this semester, including Data Structures, Algorithms, and Database Management. John is a diligent student and spends a significant amount of time studying and completing assignments. He often stays late in the library to work on his projects.\"\n",
        "# statements: ```[\"John is majoring in Biology.\", \"John is taking a course on Artificial Intelligence.\", \"John is a dedicated student.\", \"John has a part-time job.\"]```\n",
        "# answer: ```[{\"statement\": \"John is majoring in Biology.\", \"reason\": \"John's major is explicitly mentioned as Computer Science. There is no information suggesting he is majoring in Biology.\", \"verdict\": 0}, {\"statement\": \"John is taking a course on Artificial Intelligence.\", \"reason\": \"The context mentions the courses John is currently enrolled in, and Artificial Intelligence is not mentioned. Therefore, it cannot be deduced that John is taking a course on AI.\", \"verdict\": 0}, {\"statement\": \"John is a dedicated student.\", \"reason\": \"The context states that he spends a significant amount of time studying and completing assignments. Additionally, it mentions that he often stays late in the library to work on his projects, which implies dedication.\", \"verdict\": 1}, {\"statement\": \"John has a part-time job.\", \"reason\": \"There is no information given in the context about John having a part-time job.\", \"verdict\": 0}]```\n",
        "\n",
        "# context: \"Photosynthesis is a process used by plants, algae, and certain bacteria to convert light energy into chemical energy.\"\n",
        "# statements: ```[\"Albert Einstein was a genius.\"]```\n",
        "# answer: ```[{\"statement\": \"Albert Einstein was a genius.\", \"reason\": \"The context and statement are unrelated\", \"verdict\": 0}]```\n",
        "\n",
        "# Your actual task:\n",
        "\n",
        "# context: Albert Einstein (born 14 March 1879) was a German-born theoretical physicist, widely held to be one of the greatest and most influential scientists of all time\n",
        "# statements: [\"Einstein was born in Germany.\", \"Einstein was born on 14th March 1879.\"]\n",
        "# answer:\n"
      ],
      "metadata": {
        "id": "qcTKg5S3UNUA"
      },
      "execution_count": null,
      "outputs": []
    },
    {
      "cell_type": "code",
      "source": [
        "# 당신의 임무는 주어진 문맥을 바탕으로 일련의 진술의 신뢰성(faithfulness)을 판단하는 것입니다.\n",
        "# 각 진술에 대해 해당 진술이 문맥을 바탕으로 직접적으로 추론될 수 있다면 판결을 1로 반환하고,\n",
        "# 문맥을 바탕으로 직접적으로 추론할 수 없다면 판결을 0으로 반환해야 합니다.\n",
        "\n",
        "# 출력은 아래 JSON 스키마를 따르는 잘 형식화된 JSON 인스턴스여야 합니다.\n",
        "\n",
        "# 예를 들어, 스키마가 {\"properties\": {\"foo\": {\"title\": \"Foo\", \"description\":\n",
        "# \"a list of strings\", \"type\": \"array\", \"items\": {\"type\": \"string\"}}},\n",
        "# \"required\": [\"foo\"]}인 경우, 객체 {\"foo\": [\"bar\", \"baz\"]}는 스키마에 잘 형식화된 인스턴스입니다.\n",
        "# 객체 {\"properties\": {\"foo\": [\"bar\", \"baz\"]}}는 잘 형식화된 인스턴스가 아닙니다.\n",
        "\n",
        "# 다음은 출력 JSON 스키마입니다:\n",
        "# ```\n",
        "# {\"type\": \"array\", \"items\": {\"$ref\": \"#/definitions/StatementFaithfulnessAnswer\"},\n",
        "# \"definitions\": {\"StatementFaithfulnessAnswer\": {\"title\": \"StatementFaithfulnessAnswer\",\n",
        "# \"type\": \"object\", \"properties\": {\"statement\": {\"title\": \"Statement\",\n",
        "# \"description\": \"the original statement, word-by-word\", \"type\": \"string\"},\n",
        "# \"reason\": {\"title\": \"Reason\", \"description\": \"the reason of the verdict\", \"type\": \"string\"},\n",
        "# \"verdict\": {\"title\": \"Verdict\", \"description\": \"the verdict(0/1) of the faithfulness.\", \"type\": \"integer\"}},\n",
        "# \"required\": [\"statement\", \"reason\", \"verdict\"]}}}\n",
        "# ```\n",
        "\n",
        "# 어떠한 서문이나 설명 없이, 삼중 백틱(```)으로 둘러싸인 순수 JSON 문자열만 반환하십시오.\n",
        "\n",
        "# Examples:\n",
        "\n",
        "# 문맥: \"John은 XYZ 대학의 학생입니다. 그는 컴퓨터 과학 학위를 추구하고 있습니다.\n",
        "# 이번 학기에 데이터 구조, 알고리즘, 데이터베이스 관리 등 여러 과목을 수강하고 있습니다.\n",
        "# John은 성실한 학생으로 공부하고 과제를 완료하는 데 상당한 시간을 보냅니다. 그는 종종 도서관에 늦게까지 남아 프로젝트를 작업합니다.\"\n",
        "# 진술들: ```[\"John은 생물학을 전공하고 있습니다.\",\n",
        "# \"John은 인공지능 과목을 수강하고 있습니다.\",\n",
        "# \"John은 헌신적인 학생입니다.\",\n",
        "# \"John은 아르바이트를 하고 있습니다.\"]```\n",
        "# 답변: ```[{\"진술\": \"John은 생물학을 전공하고 있습니다.\",\n",
        "# \"이유\": \"John의 전공이 컴퓨터 과학으로 명시되어 있습니다. 그가 생물학을 전공하고 있다는 정보는 없습니다.\",\n",
        "# \"판결\": 0},\n",
        "# {\"진술\": \"John은 인공지능 과목을 수강하고 있습니다.\",\n",
        "# \"이유\": \"문맥에서 John이 현재 수강 중인 과목이 언급되어 있으며, 인공지능은 언급되지 않았습니다.\n",
        "# 따라서 John이 인공지능 과목을 수강하고 있다고 추론할 수 없습니다.\", \"판결\": 0},\n",
        "# {\"진술\": \"John은 헌신적인 학생입니다.\", \"이유\": \"문맥에서 그는 공부하고 과제를 완료하는 데 상당한 시간을 보낸다고 명시되어 있습니다.\n",
        "# 또한, 그는 종종 도서관에 늦게까지 남아 프로젝트를 작업한다고 언급되어 있어 헌신을 암시합니다.\", \"판결\": 1},\n",
        "# {\"진술\": \"John은 아르바이트를 하고 있습니다.\",\n",
        "# \"이유\": \"문맥에서는 John이 아르바이트를 하고 있다는 정보가 주어지지 않았습니다.\", \"판결\": 0}]```\n",
        "\n",
        "# 문맥: \"광합성은 식물, 조류 및 특정 박테리아가 빛 에너지를 화학 에너지로 전환하는 데 사용하는 과정입니다.\"\n",
        "# 진술들: ```[\"알베르트 아인슈타인은 천재였습니다.\"]```\n",
        "# 답변: ```[{\"진술\": \"알베르트 아인슈타인은 천재였습니다.\", \"이유\": \"문맥과 진술이 관련이 없습니다.\", \"판결\": 0}]```\n",
        "\n",
        "# Your actual task:\n",
        "\n",
        "# context: Albert Einstein (born 14 March 1879) was a German-born theoretical physicist,\n",
        "# widely held to be one of the greatest and most influential scientists of all time\n",
        "# statements: [\"Einstein was born in Germany.\", \"Einstein was born on 14th March 1879.\"]\n",
        "# answer:"
      ],
      "metadata": {
        "id": "gbz_C-88K5QS"
      },
      "execution_count": null,
      "outputs": []
    },
    {
      "cell_type": "code",
      "source": [
        "# ```\n",
        "# [{\"statement\": \"Einstein was born in Germany.\",\n",
        "# \"reason\": \"The context explicitly states that Einstein was German-born, confirming that he was indeed born in Germany.\", \"verdict\": 1},\n",
        "# {\"statement\": \"Einstein was born on 14th March 1879.\",\n",
        "# \"reason\": \"The context provides the exact date of Einstein's birth as 14th March 1879, confirming the statement.\", \"verdict\": 1}]\n",
        "# ```"
      ],
      "metadata": {
        "id": "eoeK0d5jJSh0"
      },
      "execution_count": null,
      "outputs": []
    },
    {
      "cell_type": "code",
      "source": [
        "# [{\"진술\": \"아인슈타인은 독일에서 태어났습니다.\",\n",
        "# \"이유\": \"문맥에서 아인슈타인이 독일 태생이라고 명시하고 있어, 그가 실제로 독일에서 태어났음을 확인합니다.\", \"판결\": 1},\n",
        "# {\"진술\": \"아인슈타인은 1879년 3월 14일에 태어났습니다.\",\n",
        "# \"이유\": \"문맥에서 아인슈타인의 출생 날짜를 1879년 3월 14일로 명시하여 진술을 확인합니다.\", \"판결\": 1}]"
      ],
      "metadata": {
        "id": "x2PegnJmUOCN"
      },
      "execution_count": null,
      "outputs": []
    },
    {
      "cell_type": "code",
      "source": [],
      "metadata": {
        "id": "68GTwNQgUs4C"
      },
      "execution_count": null,
      "outputs": []
    },
    {
      "cell_type": "code",
      "source": [],
      "metadata": {
        "id": "glZUPwqKUs1B"
      },
      "execution_count": null,
      "outputs": []
    }
  ]
}