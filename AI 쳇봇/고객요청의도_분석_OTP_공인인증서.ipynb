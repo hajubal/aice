{
 "nbformat": 4,
 "nbformat_minor": 0,
 "metadata": {
  "colab": {
   "provenance": []
  },
  "kernelspec": {
   "name": "python3",
   "display_name": "Python 3 (ipykernel)",
   "language": "python"
  },
  "language_info": {
   "name": "python"
  }
 },
 "cells": [
  {
   "cell_type": "markdown",
   "source": [
    "# 고객요청의도 분석하기 (OTP, 공인인증서)\n",
    "## 작성자 : AISchool ( http://aischool.ai/%ec%98%a8%eb%9d%bc%ec%9d%b8-%ea%b0%95%ec%9d%98-%ec%b9%b4%ed%85%8c%ea%b3%a0%eb%a6%ac/ )\n",
    "## 민원(콜센터) 질의-응답 데이터 다운받기 : https://www.aihub.or.kr/aihubdata/data/view.do?currMenu=115&topMenu=100&aihubDataSe=data&dataSetSn=98"
   ],
   "metadata": {
    "id": "d-rWmk-QO6dm"
   }
  },
  {
   "cell_type": "markdown",
   "source": [
    "# LangChain 라이브러리 설치"
   ],
   "metadata": {
    "id": "4hniXcElvMif"
   }
  },
  {
   "cell_type": "code",
   "source": [
    "!pip install langchain openai chromadb tiktoken pypdf unstructured sentence-transformers langchain-community"
   ],
   "metadata": {
    "id": "FSTi00anFGqf",
    "colab": {
     "base_uri": "https://localhost:8080/"
    },
    "outputId": "43dd2c4e-f2ae-4648-f3ae-3b05aa7b16ea",
    "jupyter": {
     "is_executing": true
    },
    "ExecuteTime": {
     "start_time": "2024-09-24T13:19:10.766732Z"
    }
   },
   "outputs": [],
   "execution_count": null
  },
  {
   "cell_type": "code",
   "source": [
    "import pandas as pd"
   ],
   "metadata": {
    "id": "1q6NueVj3v21"
   },
   "outputs": [],
   "execution_count": null
  },
  {
   "cell_type": "markdown",
   "source": [
    "# 데이터 읽어오기"
   ],
   "metadata": {
    "id": "oeSTTNew3t7A"
   }
  },
  {
   "cell_type": "code",
   "metadata": {
    "colab": {
     "base_uri": "https://localhost:8080/",
     "height": 979
    },
    "id": "awslZnLt2ju4",
    "outputId": "7aaac045-16af-4c5a-b746-f35c85bc7707"
   },
   "source": [
    "json_file_path = '민원(콜센터) 질의응답_금융보험_사고 및 보상 문의_Training.json'\n",
    "df = pd.read_json(json_file_path)\n",
    "df"
   ],
   "outputs": [],
   "execution_count": null
  },
  {
   "cell_type": "code",
   "source": [
    "len(df)"
   ],
   "metadata": {
    "colab": {
     "base_uri": "https://localhost:8080/"
    },
    "id": "9vpj4ZIM7wCn",
    "outputId": "6b6d3d19-94b5-45f3-e9d0-4d1542c53b83"
   },
   "outputs": [],
   "execution_count": null
  },
  {
   "cell_type": "code",
   "source": [
    "df.columns"
   ],
   "metadata": {
    "colab": {
     "base_uri": "https://localhost:8080/"
    },
    "id": "b-g513XS4_Kf",
    "outputId": "05f66519-6bda-4d85-9be0-25a4ed26a6ac"
   },
   "outputs": [],
   "execution_count": null
  },
  {
   "cell_type": "markdown",
   "source": [
    "# 각 column별 unique한 값 확인하기"
   ],
   "metadata": {
    "id": "mZxAFUjnVOXZ"
   }
  },
  {
   "cell_type": "code",
   "source": [
    "도메인_리스트 = df['도메인'].unique()\n",
    "for idx, 도메인 in enumerate(도메인_리스트):\n",
    "  print(idx, 도메인)"
   ],
   "metadata": {
    "colab": {
     "base_uri": "https://localhost:8080/"
    },
    "outputId": "1e27f067-1511-44f3-8b56-0a74e1b43a1a",
    "id": "AWRsLzkN8E-v"
   },
   "outputs": [],
   "execution_count": null
  },
  {
   "cell_type": "code",
   "source": [
    "카테고리_리스트 = df['카테고리'].unique()\n",
    "for idx, 카테고리 in enumerate(카테고리_리스트):\n",
    "  print(idx, 카테고리)"
   ],
   "metadata": {
    "colab": {
     "base_uri": "https://localhost:8080/"
    },
    "outputId": "213f7a70-8b3f-4f97-edd9-b0ec67a33a34",
    "id": "Ir15Bu3882B4"
   },
   "outputs": [],
   "execution_count": null
  },
  {
   "cell_type": "code",
   "source": [
    "대화셋일련번호_리스트 = df['대화셋일련번호'].unique()\n",
    "for idx, 대화셋일련번호 in enumerate(대화셋일련번호_리스트):\n",
    "  print(idx, 대화셋일련번호)"
   ],
   "metadata": {
    "colab": {
     "base_uri": "https://localhost:8080/"
    },
    "id": "HfcgZwIx5ba0",
    "outputId": "16799d48-a935-469e-dfef-6ebea8b93237"
   },
   "outputs": [],
   "execution_count": null
  },
  {
   "cell_type": "code",
   "source": [
    "화자_리스트 = df['화자'].unique()\n",
    "for idx, 화자 in enumerate(화자_리스트):\n",
    "  print(idx, 화자)"
   ],
   "metadata": {
    "colab": {
     "base_uri": "https://localhost:8080/"
    },
    "outputId": "dcae21d6-dd64-4c0d-e885-e866786a557c",
    "id": "N8iX3p379Njh"
   },
   "outputs": [],
   "execution_count": null
  },
  {
   "cell_type": "code",
   "source": [
    "문장번호_리스트 = df['문장번호'].unique()\n",
    "for idx, 문장번호 in enumerate(문장번호_리스트):\n",
    "  print(idx, 문장번호)"
   ],
   "metadata": {
    "colab": {
     "base_uri": "https://localhost:8080/"
    },
    "outputId": "3865085b-7108-44b0-e87e-288ab4aaee8d",
    "id": "PxEKUYhu90Vj"
   },
   "outputs": [],
   "execution_count": null
  },
  {
   "cell_type": "code",
   "source": [
    "고객의도_리스트 = df['고객의도'].unique()\n",
    "for idx, 고객의도 in enumerate(고객의도_리스트):\n",
    "  print(idx, 고객의도)"
   ],
   "metadata": {
    "colab": {
     "base_uri": "https://localhost:8080/"
    },
    "outputId": "947ed335-168a-41fa-8ba9-5d72eaf38560",
    "id": "NWYz_TUo-IPU"
   },
   "outputs": [],
   "execution_count": null
  },
  {
   "cell_type": "code",
   "source": [
    "상담사의도_리스트 = df['상담사의도'].unique()\n",
    "for idx, 상담사의도 in enumerate(상담사의도_리스트):\n",
    "  print(idx, 상담사의도)"
   ],
   "metadata": {
    "colab": {
     "base_uri": "https://localhost:8080/"
    },
    "id": "9-RpEOu0CNNg",
    "outputId": "6ab2a6cf-1964-4a13-dc09-fbd47c330ce3"
   },
   "outputs": [],
   "execution_count": null
  },
  {
   "cell_type": "code",
   "source": [
    "QA_리스트 = df['QA'].unique()\n",
    "for idx, QA in enumerate(QA_리스트):\n",
    "  print(idx, QA)"
   ],
   "metadata": {
    "colab": {
     "base_uri": "https://localhost:8080/"
    },
    "id": "AzY57LQ9GVy6",
    "outputId": "b3369451-e482-4616-a1a6-b96b26b4fd44"
   },
   "outputs": [],
   "execution_count": null
  },
  {
   "cell_type": "code",
   "source": [
    "고객질문_요청_리스트 = df['고객질문(요청)'].unique()\n",
    "for idx, 고객질문_요청 in enumerate(고객질문_요청_리스트):\n",
    "  print(idx, 고객질문_요청)"
   ],
   "metadata": {
    "colab": {
     "base_uri": "https://localhost:8080/"
    },
    "id": "zHyx6lJdHEGo",
    "outputId": "a94eb1e8-bedd-4612-908d-37d6900988dc"
   },
   "outputs": [],
   "execution_count": null
  },
  {
   "cell_type": "code",
   "source": [
    "상담사질문_요청_리스트 = df['상담사질문(요청)'].unique()\n",
    "for idx, 상담사질문_요청 in enumerate(상담사질문_요청_리스트):\n",
    "  print(idx, 상담사질문_요청)"
   ],
   "metadata": {
    "colab": {
     "base_uri": "https://localhost:8080/"
    },
    "id": "Y8SsYmPfHNle",
    "outputId": "64132cb2-7710-406d-dda9-1f0a74553622"
   },
   "outputs": [],
   "execution_count": null
  },
  {
   "cell_type": "code",
   "source": [
    "고객답변_리스트 = df['고객답변'].unique()\n",
    "for idx, 고객답변 in enumerate(고객답변_리스트):\n",
    "  print(idx, 고객답변)"
   ],
   "metadata": {
    "colab": {
     "base_uri": "https://localhost:8080/"
    },
    "id": "Dh1tbKDAIuTV",
    "outputId": "35c5d06c-f948-4740-e165-55551a4ba9c6"
   },
   "outputs": [],
   "execution_count": null
  },
  {
   "cell_type": "code",
   "source": [
    "상담사답변_리스트 = df['상담사답변'].unique()\n",
    "for idx, 상담사답변 in enumerate(상담사답변_리스트):\n",
    "  print(idx, 상담사답변)"
   ],
   "metadata": {
    "colab": {
     "base_uri": "https://localhost:8080/"
    },
    "id": "KBvG-TkGI21l",
    "outputId": "f7b0218c-1811-4120-f09c-2422950e3cd1"
   },
   "outputs": [],
   "execution_count": null
  },
  {
   "cell_type": "code",
   "source": [
    "개체명_리스트 = df['개체명 '].unique()\n",
    "for idx, 개체명 in enumerate(개체명_리스트):\n",
    "  print(idx, 개체명)"
   ],
   "metadata": {
    "colab": {
     "base_uri": "https://localhost:8080/"
    },
    "id": "f1jfzl-uI2y2",
    "outputId": "3143fd69-eac7-454b-9dbd-54759d918e13"
   },
   "outputs": [],
   "execution_count": null
  },
  {
   "cell_type": "code",
   "source": [
    "용어사전_리스트 = df['용어사전'].unique()\n",
    "for idx, 용어사전 in enumerate(용어사전_리스트):\n",
    "  print(idx, 용어사전)"
   ],
   "metadata": {
    "colab": {
     "base_uri": "https://localhost:8080/"
    },
    "id": "tAhal8Y6FtQF",
    "outputId": "ae498d83-9838-43e9-91c5-a67dc841f773"
   },
   "outputs": [],
   "execution_count": null
  },
  {
   "cell_type": "code",
   "source": [
    "지식베이스_리스트 = df['지식베이스'].unique()\n",
    "for idx, 지식베이스 in enumerate(지식베이스_리스트):\n",
    "  print(idx, 지식베이스)"
   ],
   "metadata": {
    "colab": {
     "base_uri": "https://localhost:8080/"
    },
    "id": "tEq_OnGkK5i5",
    "outputId": "013b172e-3489-469b-80e8-a347e01a645f"
   },
   "outputs": [],
   "execution_count": null
  },
  {
   "cell_type": "markdown",
   "source": [
    "# '고객의도' 종류 확인하기"
   ],
   "metadata": {
    "id": "4Tan5FDTz64-"
   }
  },
  {
   "cell_type": "code",
   "source": [
    "고객의도_리스트 = df['고객의도'].unique()\n",
    "for idx, 고객의도 in enumerate(고객의도_리스트):\n",
    "  print(idx, 고객의도)"
   ],
   "metadata": {
    "colab": {
     "base_uri": "https://localhost:8080/"
    },
    "id": "MMTAU_ZBz6lA",
    "outputId": "5919304d-0ed8-4ac7-84cb-90332c85fcae"
   },
   "outputs": [],
   "execution_count": null
  },
  {
   "cell_type": "markdown",
   "source": [
    "# 고객의도가 'OTP'와 관련된 데이터만 필터링하기"
   ],
   "metadata": {
    "id": "Rns6OqlRV0aU"
   }
  },
  {
   "cell_type": "code",
   "source": [
    "OTP_키워드_포함_고객의도_리스트 = [의도 for 의도 in 고객의도_리스트 if 'OTP' in 의도]\n",
    "OTP_키워드_포함_고객의도_리스트"
   ],
   "metadata": {
    "colab": {
     "base_uri": "https://localhost:8080/"
    },
    "id": "Am4GWBJ3Vqze",
    "outputId": "dd139dd4-a51e-4225-a227-5489e21d6638"
   },
   "outputs": [],
   "execution_count": null
  },
  {
   "cell_type": "code",
   "source": [
    "filtered_df = df[(df['고객의도'] == 'OTP분실') & (df['문장번호'] == 1)]\n",
    "filtered_df"
   ],
   "metadata": {
    "colab": {
     "base_uri": "https://localhost:8080/",
     "height": 414
    },
    "id": "bc45pr_jcmHn",
    "outputId": "0f0deb2e-fbe9-48db-da2a-100ed5e60579"
   },
   "outputs": [],
   "execution_count": null
  },
  {
   "cell_type": "code",
   "source": [
    "filtered_df = df[(df['고객의도'] == 'OTP교체') & (df['문장번호'] == 1)]\n",
    "filtered_df"
   ],
   "metadata": {
    "colab": {
     "base_uri": "https://localhost:8080/",
     "height": 133
    },
    "id": "jiErzsCN2qIy",
    "outputId": "049c9cde-a460-44ee-9b8d-ed0958643dbf"
   },
   "outputs": [],
   "execution_count": null
  },
  {
   "cell_type": "code",
   "source": [
    "filtered_df = df[(df['고객의도'] == 'OTP오류') & (df['문장번호'] == 1)]\n",
    "filtered_df"
   ],
   "metadata": {
    "colab": {
     "base_uri": "https://localhost:8080/",
     "height": 150
    },
    "id": "L3yCwnp45BTt",
    "outputId": "11e6163b-eae1-4fb0-fcf2-e4d8c76faf82"
   },
   "outputs": [],
   "execution_count": null
  },
  {
   "cell_type": "code",
   "source": [
    "filtered_df = df[(df['고객의도'] == '타행 OTP 등록') & (df['문장번호'] == 1)]\n",
    "filtered_df"
   ],
   "metadata": {
    "colab": {
     "base_uri": "https://localhost:8080/",
     "height": 334
    },
    "id": "6jtDeJh_5HdD",
    "outputId": "7bc4bf44-044c-48c2-d01a-989a5f8c1bbb"
   },
   "outputs": [],
   "execution_count": null
  },
  {
   "cell_type": "code",
   "source": [
    "filtered_df = df[(df['고객의도'] == 'OTP 분실') & (df['문장번호'] == 1)]\n",
    "filtered_df"
   ],
   "metadata": {
    "colab": {
     "base_uri": "https://localhost:8080/",
     "height": 115
    },
    "id": "TurZT-SR73xC",
    "outputId": "8e594bd4-a4c9-4618-9f47-73dc71d4c555"
   },
   "outputs": [],
   "execution_count": null
  },
  {
   "cell_type": "code",
   "source": [
    "filtered_df = df[(df['고객의도'] == 'OTP 보안카드 변경') & (df['문장번호'] == 1)]\n",
    "filtered_df"
   ],
   "metadata": {
    "colab": {
     "base_uri": "https://localhost:8080/",
     "height": 185
    },
    "id": "b4YZbiZa5HXz",
    "outputId": "46ce4ad1-cd46-4e4d-c968-d0345470aa41"
   },
   "outputs": [],
   "execution_count": null
  },
  {
   "cell_type": "code",
   "source": [
    "filtered_df = df[(df['고객의도'] == 'OTP 보안카드 이체한도') & (df['문장번호'] == 1)]\n",
    "filtered_df"
   ],
   "metadata": {
    "colab": {
     "base_uri": "https://localhost:8080/",
     "height": 150
    },
    "id": "tSzXjPAZ9DxY",
    "outputId": "b47fc8b7-7528-4874-981f-186258e8668d"
   },
   "outputs": [],
   "execution_count": null
  },
  {
   "cell_type": "code",
   "source": [
    "filtered_df = df[(df['고객의도'] == 'OTP 오류') & (df['문장번호'] == 1)]\n",
    "filtered_df"
   ],
   "metadata": {
    "colab": {
     "base_uri": "https://localhost:8080/",
     "height": 133
    },
    "id": "o6TIlfqZ9DuI",
    "outputId": "06589d31-7daa-4237-920b-380564ee3cd5"
   },
   "outputs": [],
   "execution_count": null
  },
  {
   "cell_type": "markdown",
   "source": [
    "# 고객의도가 '공인인증서'와 관련된 데이터만 필터링하기"
   ],
   "metadata": {
    "id": "9pfedOFOz34v"
   }
  },
  {
   "cell_type": "code",
   "source": [
    "공인인증서_키워드_포함_고객의도_리스트 = [의도 for 의도 in 고객의도_리스트 if '공인인증서' in 의도]\n",
    "공인인증서_키워드_포함_고객의도_리스트"
   ],
   "metadata": {
    "colab": {
     "base_uri": "https://localhost:8080/"
    },
    "id": "WvoZYtz_UwEk",
    "outputId": "a6ff8323-c90d-415b-c60f-09b781de2967"
   },
   "outputs": [],
   "execution_count": null
  },
  {
   "cell_type": "code",
   "source": [
    "filtered_df = df[(df['고객의도'] == '공인인증서') & (df['문장번호'] == 1)]\n",
    "filtered_df"
   ],
   "metadata": {
    "colab": {
     "base_uri": "https://localhost:8080/",
     "height": 768
    },
    "id": "LhhfFGmC5HOJ",
    "outputId": "792897d1-4074-4ed8-cce0-70b45430d52f"
   },
   "outputs": [],
   "execution_count": null
  },
  {
   "cell_type": "code",
   "source": [
    "filtered_df = df[(df['고객의도'] == '공인인증서오류') & (df['문장번호'] == 1)]\n",
    "filtered_df"
   ],
   "metadata": {
    "colab": {
     "base_uri": "https://localhost:8080/",
     "height": 150
    },
    "id": "V6K2lzZA0XZc",
    "outputId": "567d8adb-2ed5-46e9-f551-4e69877a82e0"
   },
   "outputs": [],
   "execution_count": null
  },
  {
   "cell_type": "code",
   "source": [
    "filtered_df = df[(df['고객의도'] == '스마트폰 공인인증서 복사') & (df['문장번호'] == 1)]\n",
    "filtered_df"
   ],
   "metadata": {
    "colab": {
     "base_uri": "https://localhost:8080/",
     "height": 150
    },
    "id": "nSxznJ6r0cfd",
    "outputId": "0c4a340a-d5db-4c2a-873e-180cf97c427b"
   },
   "outputs": [],
   "execution_count": null
  },
  {
   "cell_type": "code",
   "source": [
    "filtered_df = df[(df['고객의도'] == '공인인증서 자택 직장병용') & (df['문장번호'] == 1)]\n",
    "filtered_df"
   ],
   "metadata": {
    "colab": {
     "base_uri": "https://localhost:8080/",
     "height": 150
    },
    "id": "z9h2--FH0kfK",
    "outputId": "12a945b9-063c-4a23-cd01-80b53858b326"
   },
   "outputs": [],
   "execution_count": null
  },
  {
   "cell_type": "code",
   "source": [
    "filtered_df = df[(df['고객의도'] == '증권사 공인인증서') & (df['문장번호'] == 1)]\n",
    "filtered_df"
   ],
   "metadata": {
    "colab": {
     "base_uri": "https://localhost:8080/",
     "height": 150
    },
    "id": "Zy0P4Lnm0kaL",
    "outputId": "50def0ad-4631-43c7-fd9d-c1366143168c"
   },
   "outputs": [],
   "execution_count": null
  },
  {
   "cell_type": "code",
   "source": [
    "filtered_df = df[(df['고객의도'] == '공인인증서 분실') & (df['문장번호'] == 1)]\n",
    "filtered_df"
   ],
   "metadata": {
    "colab": {
     "base_uri": "https://localhost:8080/",
     "height": 216
    },
    "id": "spiR4eW_0kVl",
    "outputId": "2b7258db-d004-4cf9-ca88-79ea0991b920"
   },
   "outputs": [],
   "execution_count": null
  },
  {
   "cell_type": "code",
   "source": [
    "filtered_df = df[(df['고객의도'] == '일반 공인인증서와 범용 공인인증서 병용') & (df['문장번호'] == 1)]\n",
    "filtered_df"
   ],
   "metadata": {
    "colab": {
     "base_uri": "https://localhost:8080/",
     "height": 185
    },
    "id": "JP691Vfp0XRu",
    "outputId": "941cffba-87ec-4af7-f768-a492dcc06553"
   },
   "outputs": [],
   "execution_count": null
  },
  {
   "cell_type": "code",
   "source": [
    "filtered_df = df[(df['고객의도'] == '공인인증서 USB 분실') & (df['문장번호'] == 1)]\n",
    "filtered_df"
   ],
   "metadata": {
    "colab": {
     "base_uri": "https://localhost:8080/",
     "height": 150
    },
    "id": "kZ2R_-X80S51",
    "outputId": "d103b11d-83c2-4bf2-f54b-03e55d1b1893"
   },
   "outputs": [],
   "execution_count": null
  },
  {
   "cell_type": "code",
   "source": [
    "filtered_df = df[(df['고객의도'] == '공인인증서 폐지') & (df['문장번호'] == 1)]\n",
    "filtered_df"
   ],
   "metadata": {
    "colab": {
     "base_uri": "https://localhost:8080/",
     "height": 150
    },
    "id": "dhsT4vM10S1k",
    "outputId": "34fa6484-6c52-418d-d88b-ccbaf421261e"
   },
   "outputs": [],
   "execution_count": null
  },
  {
   "cell_type": "code",
   "source": [],
   "metadata": {
    "id": "en5JwQA1z-_o"
   },
   "outputs": [],
   "execution_count": null
  },
  {
   "cell_type": "markdown",
   "source": [
    "# 사용자 질문으로부터 '고객요청의도' 추출하기"
   ],
   "metadata": {
    "id": "UQcDS-Bu5XhS"
   }
  },
  {
   "cell_type": "markdown",
   "source": [
    "##  OpenAI API Key 설정"
   ],
   "metadata": {
    "id": "bI9WdMuy5tT6"
   }
  },
  {
   "cell_type": "code",
   "source": [
    "OPENAI_KEY = \"여러분의_OPENAI_API_KEY\""
   ],
   "metadata": {
    "id": "erzNQxj75tUQ"
   },
   "outputs": [],
   "execution_count": null
  },
  {
   "cell_type": "code",
   "source": [
    "from langchain.chat_models import ChatOpenAI\n",
    "\n",
    "llm = ChatOpenAI(model_name=\"gpt-4o\", temperature=0, openai_api_key=OPENAI_KEY)"
   ],
   "metadata": {
    "id": "JAhQlfz45tUQ",
    "colab": {
     "base_uri": "https://localhost:8080/"
    },
    "outputId": "7f7a63d4-da72-47ea-f9da-d4811f135869"
   },
   "outputs": [],
   "execution_count": null
  },
  {
   "cell_type": "markdown",
   "source": [
    "# create_tagging_chain으로 고객 요청의도 추출하기"
   ],
   "metadata": {
    "id": "mXzK5o-E6CGE"
   }
  },
  {
   "cell_type": "code",
   "source": [
    "from langchain.chains import create_tagging_chain\n",
    "\n",
    "# 고객요청의도 추출을 위한 schema 설정\n",
    "schema = {\n",
    "    \"properties\": {\n",
    "        \"고객요청의도\": {\n",
    "            \"type\": \"string\",\n",
    "            \"enum\": ['OTP',\n",
    "                     '공인인증서'\n",
    "            ]\n",
    "        }\n",
    "    }\n",
    "}\n",
    "chain = create_tagging_chain(schema, llm)"
   ],
   "metadata": {
    "id": "0z7KuVbJ1rsC"
   },
   "outputs": [],
   "execution_count": null
  },
  {
   "cell_type": "code",
   "source": [
    "chain_run_result = chain.run(\"공인인증서 폐지는 언제부터 실시되나요?\")\n",
    "chain_run_result"
   ],
   "metadata": {
    "colab": {
     "base_uri": "https://localhost:8080/"
    },
    "id": "4s7XVFhw16uM",
    "outputId": "d463ec76-c0f3-4bca-af3b-fe11077654ca"
   },
   "outputs": [],
   "execution_count": null
  },
  {
   "cell_type": "code",
   "source": [
    "chain_run_result = chain.run(\"제 OTP가 에러가 났는데 어떻게 하죠?\")\n",
    "chain_run_result"
   ],
   "metadata": {
    "id": "0LqdxFIa8Gsb",
    "colab": {
     "base_uri": "https://localhost:8080/"
    },
    "outputId": "6646ecae-a753-4ad2-8a70-0a51fe412cc6"
   },
   "outputs": [],
   "execution_count": null
  },
  {
   "cell_type": "code",
   "source": [
    "chain_run_result = chain.run(\"안녕하세요 S은행이죠?\")\n",
    "chain_run_result"
   ],
   "metadata": {
    "id": "byjprQQ92LlL",
    "colab": {
     "base_uri": "https://localhost:8080/"
    },
    "outputId": "1ec74880-39c7-44a5-e90d-424c60ef8fb4"
   },
   "outputs": [],
   "execution_count": null
  },
  {
   "cell_type": "code",
   "source": [],
   "metadata": {
    "id": "Z8Ex1jot2Lgs"
   },
   "outputs": [],
   "execution_count": null
  },
  {
   "cell_type": "code",
   "source": [],
   "metadata": {
    "id": "AqowkaH_S2a9"
   },
   "outputs": [],
   "execution_count": null
  }
 ]
}
