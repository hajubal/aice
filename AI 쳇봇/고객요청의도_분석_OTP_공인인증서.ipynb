{
 "nbformat": 4,
 "nbformat_minor": 0,
 "metadata": {
  "colab": {
   "provenance": []
  },
  "kernelspec": {
   "name": "python3",
   "display_name": "Python 3 (ipykernel)",
   "language": "python"
  },
  "language_info": {
   "name": "python"
  }
 },
 "cells": [
  {
   "cell_type": "markdown",
   "source": [
    "# 고객요청의도 분석하기 (OTP, 공인인증서)\n",
    "## 작성자 : AISchool ( http://aischool.ai/%ec%98%a8%eb%9d%bc%ec%9d%b8-%ea%b0%95%ec%9d%98-%ec%b9%b4%ed%85%8c%ea%b3%a0%eb%a6%ac/ )\n",
    "## 민원(콜센터) 질의-응답 데이터 다운받기 : https://www.aihub.or.kr/aihubdata/data/view.do?currMenu=115&topMenu=100&aihubDataSe=data&dataSetSn=98"
   ],
   "metadata": {
    "id": "d-rWmk-QO6dm"
   }
  },
  {
   "cell_type": "markdown",
   "source": [
    "# LangChain 라이브러리 설치"
   ],
   "metadata": {
    "id": "4hniXcElvMif"
   }
  },
  {
   "cell_type": "code",
   "source": "!pip install langchain openai chromadb tiktoken pypdf unstructured sentence-transformers langchain-community pandas",
   "metadata": {
    "id": "FSTi00anFGqf",
    "colab": {
     "base_uri": "https://localhost:8080/"
    },
    "outputId": "43dd2c4e-f2ae-4648-f3ae-3b05aa7b16ea",
    "ExecuteTime": {
     "end_time": "2024-09-24T16:37:06.869294Z",
     "start_time": "2024-09-24T16:36:55.057066Z"
    }
   },
   "outputs": [
    {
     "name": "stderr",
     "output_type": "stream",
     "text": [
      "\n",
      "[notice] A new release of pip is available: 23.2.1 -> 24.2\n",
      "[notice] To update, run: python.exe -m pip install --upgrade pip\n"
     ]
    },
    {
     "name": "stdout",
     "output_type": "stream",
     "text": [
      "Requirement already satisfied: langchain in c:\\users\\hajub\\pycharmprojects\\aice\\venv\\lib\\site-packages (0.3.0)\n",
      "Requirement already satisfied: openai in c:\\users\\hajub\\pycharmprojects\\aice\\venv\\lib\\site-packages (1.47.1)\n",
      "Requirement already satisfied: chromadb in c:\\users\\hajub\\pycharmprojects\\aice\\venv\\lib\\site-packages (0.5.7)\n",
      "Requirement already satisfied: tiktoken in c:\\users\\hajub\\pycharmprojects\\aice\\venv\\lib\\site-packages (0.7.0)\n",
      "Requirement already satisfied: pypdf in c:\\users\\hajub\\pycharmprojects\\aice\\venv\\lib\\site-packages (5.0.0)\n",
      "Requirement already satisfied: unstructured in c:\\users\\hajub\\pycharmprojects\\aice\\venv\\lib\\site-packages (0.15.13)\n",
      "Requirement already satisfied: sentence-transformers in c:\\users\\hajub\\pycharmprojects\\aice\\venv\\lib\\site-packages (3.1.1)\n",
      "Requirement already satisfied: langchain-community in c:\\users\\hajub\\pycharmprojects\\aice\\venv\\lib\\site-packages (0.3.0)\n",
      "Collecting pandas\n",
      "  Obtaining dependency information for pandas from https://files.pythonhosted.org/packages/29/d4/1244ab8edf173a10fd601f7e13b9566c1b525c4f365d6bee918e68381889/pandas-2.2.3-cp312-cp312-win_amd64.whl.metadata\n",
      "  Downloading pandas-2.2.3-cp312-cp312-win_amd64.whl.metadata (19 kB)\n",
      "Requirement already satisfied: PyYAML>=5.3 in c:\\users\\hajub\\pycharmprojects\\aice\\venv\\lib\\site-packages (from langchain) (6.0.2)\n",
      "Requirement already satisfied: SQLAlchemy<3,>=1.4 in c:\\users\\hajub\\pycharmprojects\\aice\\venv\\lib\\site-packages (from langchain) (2.0.35)\n",
      "Requirement already satisfied: aiohttp<4.0.0,>=3.8.3 in c:\\users\\hajub\\pycharmprojects\\aice\\venv\\lib\\site-packages (from langchain) (3.10.5)\n",
      "Requirement already satisfied: langchain-core<0.4.0,>=0.3.0 in c:\\users\\hajub\\pycharmprojects\\aice\\venv\\lib\\site-packages (from langchain) (0.3.5)\n",
      "Requirement already satisfied: langchain-text-splitters<0.4.0,>=0.3.0 in c:\\users\\hajub\\pycharmprojects\\aice\\venv\\lib\\site-packages (from langchain) (0.3.0)\n",
      "Requirement already satisfied: langsmith<0.2.0,>=0.1.17 in c:\\users\\hajub\\pycharmprojects\\aice\\venv\\lib\\site-packages (from langchain) (0.1.126)\n",
      "Requirement already satisfied: numpy<2.0.0,>=1.26.0 in c:\\users\\hajub\\pycharmprojects\\aice\\venv\\lib\\site-packages (from langchain) (1.26.4)\n",
      "Requirement already satisfied: pydantic<3.0.0,>=2.7.4 in c:\\users\\hajub\\pycharmprojects\\aice\\venv\\lib\\site-packages (from langchain) (2.9.2)\n",
      "Requirement already satisfied: requests<3,>=2 in c:\\users\\hajub\\pycharmprojects\\aice\\venv\\lib\\site-packages (from langchain) (2.32.3)\n",
      "Requirement already satisfied: tenacity!=8.4.0,<9.0.0,>=8.1.0 in c:\\users\\hajub\\pycharmprojects\\aice\\venv\\lib\\site-packages (from langchain) (8.5.0)\n",
      "Requirement already satisfied: anyio<5,>=3.5.0 in c:\\users\\hajub\\pycharmprojects\\aice\\venv\\lib\\site-packages (from openai) (4.6.0)\n",
      "Requirement already satisfied: distro<2,>=1.7.0 in c:\\users\\hajub\\pycharmprojects\\aice\\venv\\lib\\site-packages (from openai) (1.9.0)\n",
      "Requirement already satisfied: httpx<1,>=0.23.0 in c:\\users\\hajub\\pycharmprojects\\aice\\venv\\lib\\site-packages (from openai) (0.27.2)\n",
      "Requirement already satisfied: jiter<1,>=0.4.0 in c:\\users\\hajub\\pycharmprojects\\aice\\venv\\lib\\site-packages (from openai) (0.5.0)\n",
      "Requirement already satisfied: sniffio in c:\\users\\hajub\\pycharmprojects\\aice\\venv\\lib\\site-packages (from openai) (1.3.1)\n",
      "Requirement already satisfied: tqdm>4 in c:\\users\\hajub\\pycharmprojects\\aice\\venv\\lib\\site-packages (from openai) (4.66.5)\n",
      "Requirement already satisfied: typing-extensions<5,>=4.11 in c:\\users\\hajub\\pycharmprojects\\aice\\venv\\lib\\site-packages (from openai) (4.12.2)\n",
      "Requirement already satisfied: build>=1.0.3 in c:\\users\\hajub\\pycharmprojects\\aice\\venv\\lib\\site-packages (from chromadb) (1.2.2)\n",
      "Requirement already satisfied: chroma-hnswlib==0.7.6 in c:\\users\\hajub\\pycharmprojects\\aice\\venv\\lib\\site-packages (from chromadb) (0.7.6)\n",
      "Requirement already satisfied: fastapi>=0.95.2 in c:\\users\\hajub\\pycharmprojects\\aice\\venv\\lib\\site-packages (from chromadb) (0.115.0)\n",
      "Requirement already satisfied: uvicorn[standard]>=0.18.3 in c:\\users\\hajub\\pycharmprojects\\aice\\venv\\lib\\site-packages (from chromadb) (0.30.6)\n",
      "Requirement already satisfied: posthog>=2.4.0 in c:\\users\\hajub\\pycharmprojects\\aice\\venv\\lib\\site-packages (from chromadb) (3.6.6)\n",
      "Requirement already satisfied: onnxruntime>=1.14.1 in c:\\users\\hajub\\pycharmprojects\\aice\\venv\\lib\\site-packages (from chromadb) (1.19.2)\n",
      "Requirement already satisfied: opentelemetry-api>=1.2.0 in c:\\users\\hajub\\pycharmprojects\\aice\\venv\\lib\\site-packages (from chromadb) (1.27.0)\n",
      "Requirement already satisfied: opentelemetry-exporter-otlp-proto-grpc>=1.2.0 in c:\\users\\hajub\\pycharmprojects\\aice\\venv\\lib\\site-packages (from chromadb) (1.27.0)\n",
      "Requirement already satisfied: opentelemetry-instrumentation-fastapi>=0.41b0 in c:\\users\\hajub\\pycharmprojects\\aice\\venv\\lib\\site-packages (from chromadb) (0.48b0)\n",
      "Requirement already satisfied: opentelemetry-sdk>=1.2.0 in c:\\users\\hajub\\pycharmprojects\\aice\\venv\\lib\\site-packages (from chromadb) (1.27.0)\n",
      "Requirement already satisfied: tokenizers>=0.13.2 in c:\\users\\hajub\\pycharmprojects\\aice\\venv\\lib\\site-packages (from chromadb) (0.19.1)\n",
      "Requirement already satisfied: pypika>=0.48.9 in c:\\users\\hajub\\pycharmprojects\\aice\\venv\\lib\\site-packages (from chromadb) (0.48.9)\n",
      "Requirement already satisfied: overrides>=7.3.1 in c:\\users\\hajub\\pycharmprojects\\aice\\venv\\lib\\site-packages (from chromadb) (7.7.0)\n",
      "Requirement already satisfied: importlib-resources in c:\\users\\hajub\\pycharmprojects\\aice\\venv\\lib\\site-packages (from chromadb) (6.4.5)\n",
      "Requirement already satisfied: grpcio>=1.58.0 in c:\\users\\hajub\\pycharmprojects\\aice\\venv\\lib\\site-packages (from chromadb) (1.66.1)\n",
      "Requirement already satisfied: bcrypt>=4.0.1 in c:\\users\\hajub\\pycharmprojects\\aice\\venv\\lib\\site-packages (from chromadb) (4.2.0)\n",
      "Requirement already satisfied: typer>=0.9.0 in c:\\users\\hajub\\pycharmprojects\\aice\\venv\\lib\\site-packages (from chromadb) (0.12.5)\n",
      "Requirement already satisfied: kubernetes>=28.1.0 in c:\\users\\hajub\\pycharmprojects\\aice\\venv\\lib\\site-packages (from chromadb) (31.0.0)\n",
      "Requirement already satisfied: mmh3>=4.0.1 in c:\\users\\hajub\\pycharmprojects\\aice\\venv\\lib\\site-packages (from chromadb) (5.0.1)\n",
      "Requirement already satisfied: orjson>=3.9.12 in c:\\users\\hajub\\pycharmprojects\\aice\\venv\\lib\\site-packages (from chromadb) (3.10.7)\n",
      "Requirement already satisfied: rich>=10.11.0 in c:\\users\\hajub\\pycharmprojects\\aice\\venv\\lib\\site-packages (from chromadb) (13.8.1)\n",
      "Requirement already satisfied: regex>=2022.1.18 in c:\\users\\hajub\\pycharmprojects\\aice\\venv\\lib\\site-packages (from tiktoken) (2024.9.11)\n",
      "Requirement already satisfied: chardet in c:\\users\\hajub\\pycharmprojects\\aice\\venv\\lib\\site-packages (from unstructured) (5.2.0)\n",
      "Requirement already satisfied: filetype in c:\\users\\hajub\\pycharmprojects\\aice\\venv\\lib\\site-packages (from unstructured) (1.2.0)\n",
      "Requirement already satisfied: python-magic in c:\\users\\hajub\\pycharmprojects\\aice\\venv\\lib\\site-packages (from unstructured) (0.4.27)\n",
      "Requirement already satisfied: lxml in c:\\users\\hajub\\pycharmprojects\\aice\\venv\\lib\\site-packages (from unstructured) (5.3.0)\n",
      "Requirement already satisfied: nltk in c:\\users\\hajub\\pycharmprojects\\aice\\venv\\lib\\site-packages (from unstructured) (3.9.1)\n",
      "Requirement already satisfied: tabulate in c:\\users\\hajub\\pycharmprojects\\aice\\venv\\lib\\site-packages (from unstructured) (0.9.0)\n",
      "Requirement already satisfied: beautifulsoup4 in c:\\users\\hajub\\pycharmprojects\\aice\\venv\\lib\\site-packages (from unstructured) (4.12.3)\n",
      "Requirement already satisfied: emoji in c:\\users\\hajub\\pycharmprojects\\aice\\venv\\lib\\site-packages (from unstructured) (2.13.2)\n",
      "Requirement already satisfied: dataclasses-json in c:\\users\\hajub\\pycharmprojects\\aice\\venv\\lib\\site-packages (from unstructured) (0.6.7)\n",
      "Requirement already satisfied: python-iso639 in c:\\users\\hajub\\pycharmprojects\\aice\\venv\\lib\\site-packages (from unstructured) (2024.4.27)\n",
      "Requirement already satisfied: langdetect in c:\\users\\hajub\\pycharmprojects\\aice\\venv\\lib\\site-packages (from unstructured) (1.0.9)\n",
      "Requirement already satisfied: rapidfuzz in c:\\users\\hajub\\pycharmprojects\\aice\\venv\\lib\\site-packages (from unstructured) (3.10.0)\n",
      "Requirement already satisfied: backoff in c:\\users\\hajub\\pycharmprojects\\aice\\venv\\lib\\site-packages (from unstructured) (2.2.1)\n",
      "Requirement already satisfied: unstructured-client in c:\\users\\hajub\\pycharmprojects\\aice\\venv\\lib\\site-packages (from unstructured) (0.25.9)\n",
      "Requirement already satisfied: wrapt in c:\\users\\hajub\\pycharmprojects\\aice\\venv\\lib\\site-packages (from unstructured) (1.16.0)\n",
      "Requirement already satisfied: psutil in c:\\users\\hajub\\pycharmprojects\\aice\\venv\\lib\\site-packages (from unstructured) (6.0.0)\n",
      "Requirement already satisfied: python-oxmsg in c:\\users\\hajub\\pycharmprojects\\aice\\venv\\lib\\site-packages (from unstructured) (0.0.1)\n",
      "Requirement already satisfied: transformers<5.0.0,>=4.38.0 in c:\\users\\hajub\\pycharmprojects\\aice\\venv\\lib\\site-packages (from sentence-transformers) (4.44.2)\n",
      "Requirement already satisfied: torch>=1.11.0 in c:\\users\\hajub\\pycharmprojects\\aice\\venv\\lib\\site-packages (from sentence-transformers) (2.4.1)\n",
      "Requirement already satisfied: scikit-learn in c:\\users\\hajub\\pycharmprojects\\aice\\venv\\lib\\site-packages (from sentence-transformers) (1.5.2)\n",
      "Requirement already satisfied: scipy in c:\\users\\hajub\\pycharmprojects\\aice\\venv\\lib\\site-packages (from sentence-transformers) (1.14.1)\n",
      "Requirement already satisfied: huggingface-hub>=0.19.3 in c:\\users\\hajub\\pycharmprojects\\aice\\venv\\lib\\site-packages (from sentence-transformers) (0.25.1)\n",
      "Requirement already satisfied: Pillow in c:\\users\\hajub\\pycharmprojects\\aice\\venv\\lib\\site-packages (from sentence-transformers) (10.4.0)\n",
      "Requirement already satisfied: pydantic-settings<3.0.0,>=2.4.0 in c:\\users\\hajub\\pycharmprojects\\aice\\venv\\lib\\site-packages (from langchain-community) (2.5.2)\n",
      "Requirement already satisfied: python-dateutil>=2.8.2 in c:\\users\\hajub\\pycharmprojects\\aice\\venv\\lib\\site-packages (from pandas) (2.9.0.post0)\n",
      "Collecting pytz>=2020.1 (from pandas)\n",
      "  Obtaining dependency information for pytz>=2020.1 from https://files.pythonhosted.org/packages/11/c3/005fcca25ce078d2cc29fd559379817424e94885510568bc1bc53d7d5846/pytz-2024.2-py2.py3-none-any.whl.metadata\n",
      "  Downloading pytz-2024.2-py2.py3-none-any.whl.metadata (22 kB)\n",
      "Collecting tzdata>=2022.7 (from pandas)\n",
      "  Obtaining dependency information for tzdata>=2022.7 from https://files.pythonhosted.org/packages/a6/ab/7e5f53c3b9d14972843a647d8d7a853969a58aecc7559cb3267302c94774/tzdata-2024.2-py2.py3-none-any.whl.metadata\n",
      "  Downloading tzdata-2024.2-py2.py3-none-any.whl.metadata (1.4 kB)\n",
      "Requirement already satisfied: aiohappyeyeballs>=2.3.0 in c:\\users\\hajub\\pycharmprojects\\aice\\venv\\lib\\site-packages (from aiohttp<4.0.0,>=3.8.3->langchain) (2.4.0)\n",
      "Requirement already satisfied: aiosignal>=1.1.2 in c:\\users\\hajub\\pycharmprojects\\aice\\venv\\lib\\site-packages (from aiohttp<4.0.0,>=3.8.3->langchain) (1.3.1)\n",
      "Requirement already satisfied: attrs>=17.3.0 in c:\\users\\hajub\\pycharmprojects\\aice\\venv\\lib\\site-packages (from aiohttp<4.0.0,>=3.8.3->langchain) (24.2.0)\n",
      "Requirement already satisfied: frozenlist>=1.1.1 in c:\\users\\hajub\\pycharmprojects\\aice\\venv\\lib\\site-packages (from aiohttp<4.0.0,>=3.8.3->langchain) (1.4.1)\n",
      "Requirement already satisfied: multidict<7.0,>=4.5 in c:\\users\\hajub\\pycharmprojects\\aice\\venv\\lib\\site-packages (from aiohttp<4.0.0,>=3.8.3->langchain) (6.1.0)\n",
      "Requirement already satisfied: yarl<2.0,>=1.0 in c:\\users\\hajub\\pycharmprojects\\aice\\venv\\lib\\site-packages (from aiohttp<4.0.0,>=3.8.3->langchain) (1.12.1)\n",
      "Requirement already satisfied: idna>=2.8 in c:\\users\\hajub\\pycharmprojects\\aice\\venv\\lib\\site-packages (from anyio<5,>=3.5.0->openai) (3.10)\n",
      "Requirement already satisfied: packaging>=19.1 in c:\\users\\hajub\\pycharmprojects\\aice\\venv\\lib\\site-packages (from build>=1.0.3->chromadb) (24.1)\n",
      "Requirement already satisfied: pyproject_hooks in c:\\users\\hajub\\pycharmprojects\\aice\\venv\\lib\\site-packages (from build>=1.0.3->chromadb) (1.1.0)\n",
      "Requirement already satisfied: colorama in c:\\users\\hajub\\pycharmprojects\\aice\\venv\\lib\\site-packages (from build>=1.0.3->chromadb) (0.4.6)\n",
      "Requirement already satisfied: marshmallow<4.0.0,>=3.18.0 in c:\\users\\hajub\\pycharmprojects\\aice\\venv\\lib\\site-packages (from dataclasses-json->unstructured) (3.22.0)\n",
      "Requirement already satisfied: typing-inspect<1,>=0.4.0 in c:\\users\\hajub\\pycharmprojects\\aice\\venv\\lib\\site-packages (from dataclasses-json->unstructured) (0.9.0)\n",
      "Requirement already satisfied: starlette<0.39.0,>=0.37.2 in c:\\users\\hajub\\pycharmprojects\\aice\\venv\\lib\\site-packages (from fastapi>=0.95.2->chromadb) (0.38.6)\n",
      "Requirement already satisfied: certifi in c:\\users\\hajub\\pycharmprojects\\aice\\venv\\lib\\site-packages (from httpx<1,>=0.23.0->openai) (2024.8.30)\n",
      "Requirement already satisfied: httpcore==1.* in c:\\users\\hajub\\pycharmprojects\\aice\\venv\\lib\\site-packages (from httpx<1,>=0.23.0->openai) (1.0.5)\n",
      "Requirement already satisfied: h11<0.15,>=0.13 in c:\\users\\hajub\\pycharmprojects\\aice\\venv\\lib\\site-packages (from httpcore==1.*->httpx<1,>=0.23.0->openai) (0.14.0)\n",
      "Requirement already satisfied: filelock in c:\\users\\hajub\\pycharmprojects\\aice\\venv\\lib\\site-packages (from huggingface-hub>=0.19.3->sentence-transformers) (3.16.1)\n",
      "Requirement already satisfied: fsspec>=2023.5.0 in c:\\users\\hajub\\pycharmprojects\\aice\\venv\\lib\\site-packages (from huggingface-hub>=0.19.3->sentence-transformers) (2024.9.0)\n",
      "Requirement already satisfied: six>=1.9.0 in c:\\users\\hajub\\pycharmprojects\\aice\\venv\\lib\\site-packages (from kubernetes>=28.1.0->chromadb) (1.16.0)\n",
      "Requirement already satisfied: google-auth>=1.0.1 in c:\\users\\hajub\\pycharmprojects\\aice\\venv\\lib\\site-packages (from kubernetes>=28.1.0->chromadb) (2.35.0)\n",
      "Requirement already satisfied: websocket-client!=0.40.0,!=0.41.*,!=0.42.*,>=0.32.0 in c:\\users\\hajub\\pycharmprojects\\aice\\venv\\lib\\site-packages (from kubernetes>=28.1.0->chromadb) (1.8.0)\n",
      "Requirement already satisfied: requests-oauthlib in c:\\users\\hajub\\pycharmprojects\\aice\\venv\\lib\\site-packages (from kubernetes>=28.1.0->chromadb) (2.0.0)\n",
      "Requirement already satisfied: oauthlib>=3.2.2 in c:\\users\\hajub\\pycharmprojects\\aice\\venv\\lib\\site-packages (from kubernetes>=28.1.0->chromadb) (3.2.2)\n",
      "Requirement already satisfied: urllib3>=1.24.2 in c:\\users\\hajub\\pycharmprojects\\aice\\venv\\lib\\site-packages (from kubernetes>=28.1.0->chromadb) (2.2.3)\n",
      "Requirement already satisfied: durationpy>=0.7 in c:\\users\\hajub\\pycharmprojects\\aice\\venv\\lib\\site-packages (from kubernetes>=28.1.0->chromadb) (0.7)\n",
      "Requirement already satisfied: jsonpatch<2.0,>=1.33 in c:\\users\\hajub\\pycharmprojects\\aice\\venv\\lib\\site-packages (from langchain-core<0.4.0,>=0.3.0->langchain) (1.33)\n",
      "Requirement already satisfied: coloredlogs in c:\\users\\hajub\\pycharmprojects\\aice\\venv\\lib\\site-packages (from onnxruntime>=1.14.1->chromadb) (15.0.1)\n",
      "Requirement already satisfied: flatbuffers in c:\\users\\hajub\\pycharmprojects\\aice\\venv\\lib\\site-packages (from onnxruntime>=1.14.1->chromadb) (24.3.25)\n",
      "Requirement already satisfied: protobuf in c:\\users\\hajub\\pycharmprojects\\aice\\venv\\lib\\site-packages (from onnxruntime>=1.14.1->chromadb) (4.25.5)\n",
      "Requirement already satisfied: sympy in c:\\users\\hajub\\pycharmprojects\\aice\\venv\\lib\\site-packages (from onnxruntime>=1.14.1->chromadb) (1.13.3)\n",
      "Requirement already satisfied: deprecated>=1.2.6 in c:\\users\\hajub\\pycharmprojects\\aice\\venv\\lib\\site-packages (from opentelemetry-api>=1.2.0->chromadb) (1.2.14)\n",
      "Requirement already satisfied: importlib-metadata<=8.4.0,>=6.0 in c:\\users\\hajub\\pycharmprojects\\aice\\venv\\lib\\site-packages (from opentelemetry-api>=1.2.0->chromadb) (8.4.0)\n",
      "Requirement already satisfied: googleapis-common-protos~=1.52 in c:\\users\\hajub\\pycharmprojects\\aice\\venv\\lib\\site-packages (from opentelemetry-exporter-otlp-proto-grpc>=1.2.0->chromadb) (1.65.0)\n",
      "Requirement already satisfied: opentelemetry-exporter-otlp-proto-common==1.27.0 in c:\\users\\hajub\\pycharmprojects\\aice\\venv\\lib\\site-packages (from opentelemetry-exporter-otlp-proto-grpc>=1.2.0->chromadb) (1.27.0)\n",
      "Requirement already satisfied: opentelemetry-proto==1.27.0 in c:\\users\\hajub\\pycharmprojects\\aice\\venv\\lib\\site-packages (from opentelemetry-exporter-otlp-proto-grpc>=1.2.0->chromadb) (1.27.0)\n",
      "Requirement already satisfied: opentelemetry-instrumentation-asgi==0.48b0 in c:\\users\\hajub\\pycharmprojects\\aice\\venv\\lib\\site-packages (from opentelemetry-instrumentation-fastapi>=0.41b0->chromadb) (0.48b0)\n",
      "Requirement already satisfied: opentelemetry-instrumentation==0.48b0 in c:\\users\\hajub\\pycharmprojects\\aice\\venv\\lib\\site-packages (from opentelemetry-instrumentation-fastapi>=0.41b0->chromadb) (0.48b0)\n",
      "Requirement already satisfied: opentelemetry-semantic-conventions==0.48b0 in c:\\users\\hajub\\pycharmprojects\\aice\\venv\\lib\\site-packages (from opentelemetry-instrumentation-fastapi>=0.41b0->chromadb) (0.48b0)\n",
      "Requirement already satisfied: opentelemetry-util-http==0.48b0 in c:\\users\\hajub\\pycharmprojects\\aice\\venv\\lib\\site-packages (from opentelemetry-instrumentation-fastapi>=0.41b0->chromadb) (0.48b0)\n",
      "Requirement already satisfied: setuptools>=16.0 in c:\\users\\hajub\\pycharmprojects\\aice\\venv\\lib\\site-packages (from opentelemetry-instrumentation==0.48b0->opentelemetry-instrumentation-fastapi>=0.41b0->chromadb) (75.1.0)\n",
      "Requirement already satisfied: asgiref~=3.0 in c:\\users\\hajub\\pycharmprojects\\aice\\venv\\lib\\site-packages (from opentelemetry-instrumentation-asgi==0.48b0->opentelemetry-instrumentation-fastapi>=0.41b0->chromadb) (3.8.1)\n",
      "Requirement already satisfied: monotonic>=1.5 in c:\\users\\hajub\\pycharmprojects\\aice\\venv\\lib\\site-packages (from posthog>=2.4.0->chromadb) (1.6)\n",
      "Requirement already satisfied: annotated-types>=0.6.0 in c:\\users\\hajub\\pycharmprojects\\aice\\venv\\lib\\site-packages (from pydantic<3.0.0,>=2.7.4->langchain) (0.7.0)\n",
      "Requirement already satisfied: pydantic-core==2.23.4 in c:\\users\\hajub\\pycharmprojects\\aice\\venv\\lib\\site-packages (from pydantic<3.0.0,>=2.7.4->langchain) (2.23.4)\n",
      "Requirement already satisfied: python-dotenv>=0.21.0 in c:\\users\\hajub\\pycharmprojects\\aice\\venv\\lib\\site-packages (from pydantic-settings<3.0.0,>=2.4.0->langchain-community) (1.0.1)\n",
      "Requirement already satisfied: charset-normalizer<4,>=2 in c:\\users\\hajub\\pycharmprojects\\aice\\venv\\lib\\site-packages (from requests<3,>=2->langchain) (3.3.2)\n",
      "Requirement already satisfied: markdown-it-py>=2.2.0 in c:\\users\\hajub\\pycharmprojects\\aice\\venv\\lib\\site-packages (from rich>=10.11.0->chromadb) (3.0.0)\n",
      "Requirement already satisfied: pygments<3.0.0,>=2.13.0 in c:\\users\\hajub\\pycharmprojects\\aice\\venv\\lib\\site-packages (from rich>=10.11.0->chromadb) (2.18.0)\n",
      "Requirement already satisfied: greenlet!=0.4.17 in c:\\users\\hajub\\pycharmprojects\\aice\\venv\\lib\\site-packages (from SQLAlchemy<3,>=1.4->langchain) (3.1.1)\n",
      "Requirement already satisfied: networkx in c:\\users\\hajub\\pycharmprojects\\aice\\venv\\lib\\site-packages (from torch>=1.11.0->sentence-transformers) (3.3)\n",
      "Requirement already satisfied: jinja2 in c:\\users\\hajub\\pycharmprojects\\aice\\venv\\lib\\site-packages (from torch>=1.11.0->sentence-transformers) (3.1.4)\n",
      "Requirement already satisfied: safetensors>=0.4.1 in c:\\users\\hajub\\pycharmprojects\\aice\\venv\\lib\\site-packages (from transformers<5.0.0,>=4.38.0->sentence-transformers) (0.4.5)\n",
      "Requirement already satisfied: click>=8.0.0 in c:\\users\\hajub\\pycharmprojects\\aice\\venv\\lib\\site-packages (from typer>=0.9.0->chromadb) (8.1.7)\n",
      "Requirement already satisfied: shellingham>=1.3.0 in c:\\users\\hajub\\pycharmprojects\\aice\\venv\\lib\\site-packages (from typer>=0.9.0->chromadb) (1.5.4)\n",
      "Requirement already satisfied: httptools>=0.5.0 in c:\\users\\hajub\\pycharmprojects\\aice\\venv\\lib\\site-packages (from uvicorn[standard]>=0.18.3->chromadb) (0.6.1)\n",
      "Requirement already satisfied: watchfiles>=0.13 in c:\\users\\hajub\\pycharmprojects\\aice\\venv\\lib\\site-packages (from uvicorn[standard]>=0.18.3->chromadb) (0.24.0)\n",
      "Requirement already satisfied: websockets>=10.4 in c:\\users\\hajub\\pycharmprojects\\aice\\venv\\lib\\site-packages (from uvicorn[standard]>=0.18.3->chromadb) (13.1)\n",
      "Requirement already satisfied: soupsieve>1.2 in c:\\users\\hajub\\pycharmprojects\\aice\\venv\\lib\\site-packages (from beautifulsoup4->unstructured) (2.6)\n",
      "Requirement already satisfied: joblib in c:\\users\\hajub\\pycharmprojects\\aice\\venv\\lib\\site-packages (from nltk->unstructured) (1.4.2)\n",
      "Requirement already satisfied: olefile in c:\\users\\hajub\\pycharmprojects\\aice\\venv\\lib\\site-packages (from python-oxmsg->unstructured) (0.47)\n",
      "Requirement already satisfied: threadpoolctl>=3.1.0 in c:\\users\\hajub\\pycharmprojects\\aice\\venv\\lib\\site-packages (from scikit-learn->sentence-transformers) (3.5.0)\n",
      "Requirement already satisfied: cryptography>=3.1 in c:\\users\\hajub\\pycharmprojects\\aice\\venv\\lib\\site-packages (from unstructured-client->unstructured) (43.0.1)\n",
      "Requirement already satisfied: deepdiff>=6.0 in c:\\users\\hajub\\pycharmprojects\\aice\\venv\\lib\\site-packages (from unstructured-client->unstructured) (8.0.1)\n",
      "Requirement already satisfied: jsonpath-python>=1.0.6 in c:\\users\\hajub\\pycharmprojects\\aice\\venv\\lib\\site-packages (from unstructured-client->unstructured) (1.0.6)\n",
      "Requirement already satisfied: mypy-extensions>=1.0.0 in c:\\users\\hajub\\pycharmprojects\\aice\\venv\\lib\\site-packages (from unstructured-client->unstructured) (1.0.0)\n",
      "Requirement already satisfied: nest-asyncio>=1.6.0 in c:\\users\\hajub\\pycharmprojects\\aice\\venv\\lib\\site-packages (from unstructured-client->unstructured) (1.6.0)\n",
      "Requirement already satisfied: requests-toolbelt>=1.0.0 in c:\\users\\hajub\\pycharmprojects\\aice\\venv\\lib\\site-packages (from unstructured-client->unstructured) (1.0.0)\n",
      "Requirement already satisfied: cffi>=1.12 in c:\\users\\hajub\\pycharmprojects\\aice\\venv\\lib\\site-packages (from cryptography>=3.1->unstructured-client->unstructured) (1.17.1)\n",
      "Requirement already satisfied: orderly-set==5.2.2 in c:\\users\\hajub\\pycharmprojects\\aice\\venv\\lib\\site-packages (from deepdiff>=6.0->unstructured-client->unstructured) (5.2.2)\n",
      "Requirement already satisfied: cachetools<6.0,>=2.0.0 in c:\\users\\hajub\\pycharmprojects\\aice\\venv\\lib\\site-packages (from google-auth>=1.0.1->kubernetes>=28.1.0->chromadb) (5.5.0)\n",
      "Requirement already satisfied: pyasn1-modules>=0.2.1 in c:\\users\\hajub\\pycharmprojects\\aice\\venv\\lib\\site-packages (from google-auth>=1.0.1->kubernetes>=28.1.0->chromadb) (0.4.1)\n",
      "Requirement already satisfied: rsa<5,>=3.1.4 in c:\\users\\hajub\\pycharmprojects\\aice\\venv\\lib\\site-packages (from google-auth>=1.0.1->kubernetes>=28.1.0->chromadb) (4.9)\n",
      "Requirement already satisfied: zipp>=0.5 in c:\\users\\hajub\\pycharmprojects\\aice\\venv\\lib\\site-packages (from importlib-metadata<=8.4.0,>=6.0->opentelemetry-api>=1.2.0->chromadb) (3.20.2)\n",
      "Requirement already satisfied: jsonpointer>=1.9 in c:\\users\\hajub\\pycharmprojects\\aice\\venv\\lib\\site-packages (from jsonpatch<2.0,>=1.33->langchain-core<0.4.0,>=0.3.0->langchain) (3.0.0)\n",
      "Requirement already satisfied: mdurl~=0.1 in c:\\users\\hajub\\pycharmprojects\\aice\\venv\\lib\\site-packages (from markdown-it-py>=2.2.0->rich>=10.11.0->chromadb) (0.1.2)\n",
      "Requirement already satisfied: humanfriendly>=9.1 in c:\\users\\hajub\\pycharmprojects\\aice\\venv\\lib\\site-packages (from coloredlogs->onnxruntime>=1.14.1->chromadb) (10.0)\n",
      "Requirement already satisfied: MarkupSafe>=2.0 in c:\\users\\hajub\\pycharmprojects\\aice\\venv\\lib\\site-packages (from jinja2->torch>=1.11.0->sentence-transformers) (2.1.5)\n",
      "Requirement already satisfied: mpmath<1.4,>=1.1.0 in c:\\users\\hajub\\pycharmprojects\\aice\\venv\\lib\\site-packages (from sympy->onnxruntime>=1.14.1->chromadb) (1.3.0)\n",
      "Requirement already satisfied: pycparser in c:\\users\\hajub\\pycharmprojects\\aice\\venv\\lib\\site-packages (from cffi>=1.12->cryptography>=3.1->unstructured-client->unstructured) (2.22)\n",
      "Requirement already satisfied: pyreadline3 in c:\\users\\hajub\\pycharmprojects\\aice\\venv\\lib\\site-packages (from humanfriendly>=9.1->coloredlogs->onnxruntime>=1.14.1->chromadb) (3.5.4)\n",
      "Requirement already satisfied: pyasn1<0.7.0,>=0.4.6 in c:\\users\\hajub\\pycharmprojects\\aice\\venv\\lib\\site-packages (from pyasn1-modules>=0.2.1->google-auth>=1.0.1->kubernetes>=28.1.0->chromadb) (0.6.1)\n",
      "Downloading pandas-2.2.3-cp312-cp312-win_amd64.whl (11.5 MB)\n",
      "   ---------------------------------------- 0.0/11.5 MB ? eta -:--:--\n",
      "   - -------------------------------------- 0.3/11.5 MB 10.2 MB/s eta 0:00:02\n",
      "   -- ------------------------------------- 0.9/11.5 MB 10.9 MB/s eta 0:00:01\n",
      "   ---- ----------------------------------- 1.4/11.5 MB 11.3 MB/s eta 0:00:01\n",
      "   ------ --------------------------------- 2.0/11.5 MB 11.4 MB/s eta 0:00:01\n",
      "   -------- ------------------------------- 2.5/11.5 MB 11.4 MB/s eta 0:00:01\n",
      "   ---------- ----------------------------- 3.1/11.5 MB 11.5 MB/s eta 0:00:01\n",
      "   ------------ --------------------------- 3.6/11.5 MB 11.5 MB/s eta 0:00:01\n",
      "   -------------- ------------------------- 4.2/11.5 MB 11.6 MB/s eta 0:00:01\n",
      "   ---------------- ----------------------- 4.7/11.5 MB 11.6 MB/s eta 0:00:01\n",
      "   ------------------ --------------------- 5.3/11.5 MB 11.6 MB/s eta 0:00:01\n",
      "   -------------------- ------------------- 5.8/11.5 MB 11.6 MB/s eta 0:00:01\n",
      "   ---------------------- ----------------- 6.4/11.5 MB 11.6 MB/s eta 0:00:01\n",
      "   ------------------------ --------------- 6.9/11.5 MB 11.6 MB/s eta 0:00:01\n",
      "   ------------------------- -------------- 7.5/11.5 MB 11.6 MB/s eta 0:00:01\n",
      "   --------------------------- ------------ 8.0/11.5 MB 11.7 MB/s eta 0:00:01\n",
      "   ----------------------------- ---------- 8.6/11.5 MB 11.7 MB/s eta 0:00:01\n",
      "   ------------------------------- -------- 9.1/11.5 MB 11.7 MB/s eta 0:00:01\n",
      "   --------------------------------- ------ 9.7/11.5 MB 11.7 MB/s eta 0:00:01\n",
      "   ----------------------------------- ---- 10.2/11.5 MB 11.7 MB/s eta 0:00:01\n",
      "   ------------------------------------- -- 10.8/11.5 MB 11.7 MB/s eta 0:00:01\n",
      "   ---------------------------------------  11.3/11.5 MB 11.7 MB/s eta 0:00:01\n",
      "   ---------------------------------------- 11.5/11.5 MB 11.5 MB/s eta 0:00:00\n",
      "Downloading pytz-2024.2-py2.py3-none-any.whl (508 kB)\n",
      "   ---------------------------------------- 0.0/508.0 kB ? eta -:--:--\n",
      "   ---------------------------------- ----- 440.3/508.0 kB 9.2 MB/s eta 0:00:01\n",
      "   --------------------------------------- 508.0/508.0 kB 10.6 MB/s eta 0:00:00\n",
      "Downloading tzdata-2024.2-py2.py3-none-any.whl (346 kB)\n",
      "   ---------------------------------------- 0.0/346.6 kB ? eta -:--:--\n",
      "   --------------------------------------- 346.6/346.6 kB 10.5 MB/s eta 0:00:00\n",
      "Installing collected packages: pytz, tzdata, pandas\n",
      "Successfully installed pandas-2.2.3 pytz-2024.2 tzdata-2024.2\n"
     ]
    }
   ],
   "execution_count": 3
  },
  {
   "cell_type": "code",
   "source": [
    "import pandas as pd"
   ],
   "metadata": {
    "id": "1q6NueVj3v21",
    "ExecuteTime": {
     "end_time": "2024-09-24T16:09:05.665579Z",
     "start_time": "2024-09-24T16:09:05.479163Z"
    }
   },
   "outputs": [
    {
     "ename": "ModuleNotFoundError",
     "evalue": "No module named 'pandas'",
     "output_type": "error",
     "traceback": [
      "\u001B[1;31m---------------------------------------------------------------------------\u001B[0m",
      "\u001B[1;31mModuleNotFoundError\u001B[0m                       Traceback (most recent call last)",
      "Cell \u001B[1;32mIn[2], line 1\u001B[0m\n\u001B[1;32m----> 1\u001B[0m \u001B[38;5;28;01mimport\u001B[39;00m \u001B[38;5;21;01mpandas\u001B[39;00m \u001B[38;5;28;01mas\u001B[39;00m \u001B[38;5;21;01mpd\u001B[39;00m\n",
      "\u001B[1;31mModuleNotFoundError\u001B[0m: No module named 'pandas'"
     ]
    }
   ],
   "execution_count": 2
  },
  {
   "cell_type": "markdown",
   "source": [
    "# 데이터 읽어오기"
   ],
   "metadata": {
    "id": "oeSTTNew3t7A"
   }
  },
  {
   "cell_type": "code",
   "metadata": {
    "colab": {
     "base_uri": "https://localhost:8080/",
     "height": 979
    },
    "id": "awslZnLt2ju4",
    "outputId": "7aaac045-16af-4c5a-b746-f35c85bc7707"
   },
   "source": [
    "json_file_path = '민원(콜센터) 질의응답_금융보험_사고 및 보상 문의_Training.json'\n",
    "df = pd.read_json(json_file_path)\n",
    "df"
   ],
   "outputs": [],
   "execution_count": null
  },
  {
   "cell_type": "code",
   "source": [
    "len(df)"
   ],
   "metadata": {
    "colab": {
     "base_uri": "https://localhost:8080/"
    },
    "id": "9vpj4ZIM7wCn",
    "outputId": "6b6d3d19-94b5-45f3-e9d0-4d1542c53b83"
   },
   "outputs": [],
   "execution_count": null
  },
  {
   "cell_type": "code",
   "source": [
    "df.columns"
   ],
   "metadata": {
    "colab": {
     "base_uri": "https://localhost:8080/"
    },
    "id": "b-g513XS4_Kf",
    "outputId": "05f66519-6bda-4d85-9be0-25a4ed26a6ac"
   },
   "outputs": [],
   "execution_count": null
  },
  {
   "cell_type": "markdown",
   "source": [
    "# 각 column별 unique한 값 확인하기"
   ],
   "metadata": {
    "id": "mZxAFUjnVOXZ"
   }
  },
  {
   "cell_type": "code",
   "source": [
    "도메인_리스트 = df['도메인'].unique()\n",
    "for idx, 도메인 in enumerate(도메인_리스트):\n",
    "  print(idx, 도메인)"
   ],
   "metadata": {
    "colab": {
     "base_uri": "https://localhost:8080/"
    },
    "outputId": "1e27f067-1511-44f3-8b56-0a74e1b43a1a",
    "id": "AWRsLzkN8E-v"
   },
   "outputs": [],
   "execution_count": null
  },
  {
   "cell_type": "code",
   "source": [
    "카테고리_리스트 = df['카테고리'].unique()\n",
    "for idx, 카테고리 in enumerate(카테고리_리스트):\n",
    "  print(idx, 카테고리)"
   ],
   "metadata": {
    "colab": {
     "base_uri": "https://localhost:8080/"
    },
    "outputId": "213f7a70-8b3f-4f97-edd9-b0ec67a33a34",
    "id": "Ir15Bu3882B4"
   },
   "outputs": [],
   "execution_count": null
  },
  {
   "cell_type": "code",
   "source": [
    "대화셋일련번호_리스트 = df['대화셋일련번호'].unique()\n",
    "for idx, 대화셋일련번호 in enumerate(대화셋일련번호_리스트):\n",
    "  print(idx, 대화셋일련번호)"
   ],
   "metadata": {
    "colab": {
     "base_uri": "https://localhost:8080/"
    },
    "id": "HfcgZwIx5ba0",
    "outputId": "16799d48-a935-469e-dfef-6ebea8b93237"
   },
   "outputs": [],
   "execution_count": null
  },
  {
   "cell_type": "code",
   "source": [
    "화자_리스트 = df['화자'].unique()\n",
    "for idx, 화자 in enumerate(화자_리스트):\n",
    "  print(idx, 화자)"
   ],
   "metadata": {
    "colab": {
     "base_uri": "https://localhost:8080/"
    },
    "outputId": "dcae21d6-dd64-4c0d-e885-e866786a557c",
    "id": "N8iX3p379Njh"
   },
   "outputs": [],
   "execution_count": null
  },
  {
   "cell_type": "code",
   "source": [
    "문장번호_리스트 = df['문장번호'].unique()\n",
    "for idx, 문장번호 in enumerate(문장번호_리스트):\n",
    "  print(idx, 문장번호)"
   ],
   "metadata": {
    "colab": {
     "base_uri": "https://localhost:8080/"
    },
    "outputId": "3865085b-7108-44b0-e87e-288ab4aaee8d",
    "id": "PxEKUYhu90Vj"
   },
   "outputs": [],
   "execution_count": null
  },
  {
   "cell_type": "code",
   "source": [
    "고객의도_리스트 = df['고객의도'].unique()\n",
    "for idx, 고객의도 in enumerate(고객의도_리스트):\n",
    "  print(idx, 고객의도)"
   ],
   "metadata": {
    "colab": {
     "base_uri": "https://localhost:8080/"
    },
    "outputId": "947ed335-168a-41fa-8ba9-5d72eaf38560",
    "id": "NWYz_TUo-IPU"
   },
   "outputs": [],
   "execution_count": null
  },
  {
   "cell_type": "code",
   "source": [
    "상담사의도_리스트 = df['상담사의도'].unique()\n",
    "for idx, 상담사의도 in enumerate(상담사의도_리스트):\n",
    "  print(idx, 상담사의도)"
   ],
   "metadata": {
    "colab": {
     "base_uri": "https://localhost:8080/"
    },
    "id": "9-RpEOu0CNNg",
    "outputId": "6ab2a6cf-1964-4a13-dc09-fbd47c330ce3"
   },
   "outputs": [],
   "execution_count": null
  },
  {
   "cell_type": "code",
   "source": [
    "QA_리스트 = df['QA'].unique()\n",
    "for idx, QA in enumerate(QA_리스트):\n",
    "  print(idx, QA)"
   ],
   "metadata": {
    "colab": {
     "base_uri": "https://localhost:8080/"
    },
    "id": "AzY57LQ9GVy6",
    "outputId": "b3369451-e482-4616-a1a6-b96b26b4fd44"
   },
   "outputs": [],
   "execution_count": null
  },
  {
   "cell_type": "code",
   "source": [
    "고객질문_요청_리스트 = df['고객질문(요청)'].unique()\n",
    "for idx, 고객질문_요청 in enumerate(고객질문_요청_리스트):\n",
    "  print(idx, 고객질문_요청)"
   ],
   "metadata": {
    "colab": {
     "base_uri": "https://localhost:8080/"
    },
    "id": "zHyx6lJdHEGo",
    "outputId": "a94eb1e8-bedd-4612-908d-37d6900988dc"
   },
   "outputs": [],
   "execution_count": null
  },
  {
   "cell_type": "code",
   "source": [
    "상담사질문_요청_리스트 = df['상담사질문(요청)'].unique()\n",
    "for idx, 상담사질문_요청 in enumerate(상담사질문_요청_리스트):\n",
    "  print(idx, 상담사질문_요청)"
   ],
   "metadata": {
    "colab": {
     "base_uri": "https://localhost:8080/"
    },
    "id": "Y8SsYmPfHNle",
    "outputId": "64132cb2-7710-406d-dda9-1f0a74553622"
   },
   "outputs": [],
   "execution_count": null
  },
  {
   "cell_type": "code",
   "source": [
    "고객답변_리스트 = df['고객답변'].unique()\n",
    "for idx, 고객답변 in enumerate(고객답변_리스트):\n",
    "  print(idx, 고객답변)"
   ],
   "metadata": {
    "colab": {
     "base_uri": "https://localhost:8080/"
    },
    "id": "Dh1tbKDAIuTV",
    "outputId": "35c5d06c-f948-4740-e165-55551a4ba9c6"
   },
   "outputs": [],
   "execution_count": null
  },
  {
   "cell_type": "code",
   "source": [
    "상담사답변_리스트 = df['상담사답변'].unique()\n",
    "for idx, 상담사답변 in enumerate(상담사답변_리스트):\n",
    "  print(idx, 상담사답변)"
   ],
   "metadata": {
    "colab": {
     "base_uri": "https://localhost:8080/"
    },
    "id": "KBvG-TkGI21l",
    "outputId": "f7b0218c-1811-4120-f09c-2422950e3cd1"
   },
   "outputs": [],
   "execution_count": null
  },
  {
   "cell_type": "code",
   "source": [
    "개체명_리스트 = df['개체명 '].unique()\n",
    "for idx, 개체명 in enumerate(개체명_리스트):\n",
    "  print(idx, 개체명)"
   ],
   "metadata": {
    "colab": {
     "base_uri": "https://localhost:8080/"
    },
    "id": "f1jfzl-uI2y2",
    "outputId": "3143fd69-eac7-454b-9dbd-54759d918e13"
   },
   "outputs": [],
   "execution_count": null
  },
  {
   "cell_type": "code",
   "source": [
    "용어사전_리스트 = df['용어사전'].unique()\n",
    "for idx, 용어사전 in enumerate(용어사전_리스트):\n",
    "  print(idx, 용어사전)"
   ],
   "metadata": {
    "colab": {
     "base_uri": "https://localhost:8080/"
    },
    "id": "tAhal8Y6FtQF",
    "outputId": "ae498d83-9838-43e9-91c5-a67dc841f773"
   },
   "outputs": [],
   "execution_count": null
  },
  {
   "cell_type": "code",
   "source": [
    "지식베이스_리스트 = df['지식베이스'].unique()\n",
    "for idx, 지식베이스 in enumerate(지식베이스_리스트):\n",
    "  print(idx, 지식베이스)"
   ],
   "metadata": {
    "colab": {
     "base_uri": "https://localhost:8080/"
    },
    "id": "tEq_OnGkK5i5",
    "outputId": "013b172e-3489-469b-80e8-a347e01a645f"
   },
   "outputs": [],
   "execution_count": null
  },
  {
   "cell_type": "markdown",
   "source": [
    "# '고객의도' 종류 확인하기"
   ],
   "metadata": {
    "id": "4Tan5FDTz64-"
   }
  },
  {
   "cell_type": "code",
   "source": [
    "고객의도_리스트 = df['고객의도'].unique()\n",
    "for idx, 고객의도 in enumerate(고객의도_리스트):\n",
    "  print(idx, 고객의도)"
   ],
   "metadata": {
    "colab": {
     "base_uri": "https://localhost:8080/"
    },
    "id": "MMTAU_ZBz6lA",
    "outputId": "5919304d-0ed8-4ac7-84cb-90332c85fcae"
   },
   "outputs": [],
   "execution_count": null
  },
  {
   "cell_type": "markdown",
   "source": [
    "# 고객의도가 'OTP'와 관련된 데이터만 필터링하기"
   ],
   "metadata": {
    "id": "Rns6OqlRV0aU"
   }
  },
  {
   "cell_type": "code",
   "source": [
    "OTP_키워드_포함_고객의도_리스트 = [의도 for 의도 in 고객의도_리스트 if 'OTP' in 의도]\n",
    "OTP_키워드_포함_고객의도_리스트"
   ],
   "metadata": {
    "colab": {
     "base_uri": "https://localhost:8080/"
    },
    "id": "Am4GWBJ3Vqze",
    "outputId": "dd139dd4-a51e-4225-a227-5489e21d6638"
   },
   "outputs": [],
   "execution_count": null
  },
  {
   "cell_type": "code",
   "source": [
    "filtered_df = df[(df['고객의도'] == 'OTP분실') & (df['문장번호'] == 1)]\n",
    "filtered_df"
   ],
   "metadata": {
    "colab": {
     "base_uri": "https://localhost:8080/",
     "height": 414
    },
    "id": "bc45pr_jcmHn",
    "outputId": "0f0deb2e-fbe9-48db-da2a-100ed5e60579"
   },
   "outputs": [],
   "execution_count": null
  },
  {
   "cell_type": "code",
   "source": [
    "filtered_df = df[(df['고객의도'] == 'OTP교체') & (df['문장번호'] == 1)]\n",
    "filtered_df"
   ],
   "metadata": {
    "colab": {
     "base_uri": "https://localhost:8080/",
     "height": 133
    },
    "id": "jiErzsCN2qIy",
    "outputId": "049c9cde-a460-44ee-9b8d-ed0958643dbf"
   },
   "outputs": [],
   "execution_count": null
  },
  {
   "cell_type": "code",
   "source": [
    "filtered_df = df[(df['고객의도'] == 'OTP오류') & (df['문장번호'] == 1)]\n",
    "filtered_df"
   ],
   "metadata": {
    "colab": {
     "base_uri": "https://localhost:8080/",
     "height": 150
    },
    "id": "L3yCwnp45BTt",
    "outputId": "11e6163b-eae1-4fb0-fcf2-e4d8c76faf82"
   },
   "outputs": [],
   "execution_count": null
  },
  {
   "cell_type": "code",
   "source": [
    "filtered_df = df[(df['고객의도'] == '타행 OTP 등록') & (df['문장번호'] == 1)]\n",
    "filtered_df"
   ],
   "metadata": {
    "colab": {
     "base_uri": "https://localhost:8080/",
     "height": 334
    },
    "id": "6jtDeJh_5HdD",
    "outputId": "7bc4bf44-044c-48c2-d01a-989a5f8c1bbb"
   },
   "outputs": [],
   "execution_count": null
  },
  {
   "cell_type": "code",
   "source": [
    "filtered_df = df[(df['고객의도'] == 'OTP 분실') & (df['문장번호'] == 1)]\n",
    "filtered_df"
   ],
   "metadata": {
    "colab": {
     "base_uri": "https://localhost:8080/",
     "height": 115
    },
    "id": "TurZT-SR73xC",
    "outputId": "8e594bd4-a4c9-4618-9f47-73dc71d4c555"
   },
   "outputs": [],
   "execution_count": null
  },
  {
   "cell_type": "code",
   "source": [
    "filtered_df = df[(df['고객의도'] == 'OTP 보안카드 변경') & (df['문장번호'] == 1)]\n",
    "filtered_df"
   ],
   "metadata": {
    "colab": {
     "base_uri": "https://localhost:8080/",
     "height": 185
    },
    "id": "b4YZbiZa5HXz",
    "outputId": "46ce4ad1-cd46-4e4d-c968-d0345470aa41"
   },
   "outputs": [],
   "execution_count": null
  },
  {
   "cell_type": "code",
   "source": [
    "filtered_df = df[(df['고객의도'] == 'OTP 보안카드 이체한도') & (df['문장번호'] == 1)]\n",
    "filtered_df"
   ],
   "metadata": {
    "colab": {
     "base_uri": "https://localhost:8080/",
     "height": 150
    },
    "id": "tSzXjPAZ9DxY",
    "outputId": "b47fc8b7-7528-4874-981f-186258e8668d"
   },
   "outputs": [],
   "execution_count": null
  },
  {
   "cell_type": "code",
   "source": [
    "filtered_df = df[(df['고객의도'] == 'OTP 오류') & (df['문장번호'] == 1)]\n",
    "filtered_df"
   ],
   "metadata": {
    "colab": {
     "base_uri": "https://localhost:8080/",
     "height": 133
    },
    "id": "o6TIlfqZ9DuI",
    "outputId": "06589d31-7daa-4237-920b-380564ee3cd5"
   },
   "outputs": [],
   "execution_count": null
  },
  {
   "cell_type": "markdown",
   "source": [
    "# 고객의도가 '공인인증서'와 관련된 데이터만 필터링하기"
   ],
   "metadata": {
    "id": "9pfedOFOz34v"
   }
  },
  {
   "cell_type": "code",
   "source": [
    "공인인증서_키워드_포함_고객의도_리스트 = [의도 for 의도 in 고객의도_리스트 if '공인인증서' in 의도]\n",
    "공인인증서_키워드_포함_고객의도_리스트"
   ],
   "metadata": {
    "colab": {
     "base_uri": "https://localhost:8080/"
    },
    "id": "WvoZYtz_UwEk",
    "outputId": "a6ff8323-c90d-415b-c60f-09b781de2967"
   },
   "outputs": [],
   "execution_count": null
  },
  {
   "cell_type": "code",
   "source": [
    "filtered_df = df[(df['고객의도'] == '공인인증서') & (df['문장번호'] == 1)]\n",
    "filtered_df"
   ],
   "metadata": {
    "colab": {
     "base_uri": "https://localhost:8080/",
     "height": 768
    },
    "id": "LhhfFGmC5HOJ",
    "outputId": "792897d1-4074-4ed8-cce0-70b45430d52f"
   },
   "outputs": [],
   "execution_count": null
  },
  {
   "cell_type": "code",
   "source": [
    "filtered_df = df[(df['고객의도'] == '공인인증서오류') & (df['문장번호'] == 1)]\n",
    "filtered_df"
   ],
   "metadata": {
    "colab": {
     "base_uri": "https://localhost:8080/",
     "height": 150
    },
    "id": "V6K2lzZA0XZc",
    "outputId": "567d8adb-2ed5-46e9-f551-4e69877a82e0"
   },
   "outputs": [],
   "execution_count": null
  },
  {
   "cell_type": "code",
   "source": [
    "filtered_df = df[(df['고객의도'] == '스마트폰 공인인증서 복사') & (df['문장번호'] == 1)]\n",
    "filtered_df"
   ],
   "metadata": {
    "colab": {
     "base_uri": "https://localhost:8080/",
     "height": 150
    },
    "id": "nSxznJ6r0cfd",
    "outputId": "0c4a340a-d5db-4c2a-873e-180cf97c427b"
   },
   "outputs": [],
   "execution_count": null
  },
  {
   "cell_type": "code",
   "source": [
    "filtered_df = df[(df['고객의도'] == '공인인증서 자택 직장병용') & (df['문장번호'] == 1)]\n",
    "filtered_df"
   ],
   "metadata": {
    "colab": {
     "base_uri": "https://localhost:8080/",
     "height": 150
    },
    "id": "z9h2--FH0kfK",
    "outputId": "12a945b9-063c-4a23-cd01-80b53858b326"
   },
   "outputs": [],
   "execution_count": null
  },
  {
   "cell_type": "code",
   "source": [
    "filtered_df = df[(df['고객의도'] == '증권사 공인인증서') & (df['문장번호'] == 1)]\n",
    "filtered_df"
   ],
   "metadata": {
    "colab": {
     "base_uri": "https://localhost:8080/",
     "height": 150
    },
    "id": "Zy0P4Lnm0kaL",
    "outputId": "50def0ad-4631-43c7-fd9d-c1366143168c"
   },
   "outputs": [],
   "execution_count": null
  },
  {
   "cell_type": "code",
   "source": [
    "filtered_df = df[(df['고객의도'] == '공인인증서 분실') & (df['문장번호'] == 1)]\n",
    "filtered_df"
   ],
   "metadata": {
    "colab": {
     "base_uri": "https://localhost:8080/",
     "height": 216
    },
    "id": "spiR4eW_0kVl",
    "outputId": "2b7258db-d004-4cf9-ca88-79ea0991b920"
   },
   "outputs": [],
   "execution_count": null
  },
  {
   "cell_type": "code",
   "source": [
    "filtered_df = df[(df['고객의도'] == '일반 공인인증서와 범용 공인인증서 병용') & (df['문장번호'] == 1)]\n",
    "filtered_df"
   ],
   "metadata": {
    "colab": {
     "base_uri": "https://localhost:8080/",
     "height": 185
    },
    "id": "JP691Vfp0XRu",
    "outputId": "941cffba-87ec-4af7-f768-a492dcc06553"
   },
   "outputs": [],
   "execution_count": null
  },
  {
   "cell_type": "code",
   "source": [
    "filtered_df = df[(df['고객의도'] == '공인인증서 USB 분실') & (df['문장번호'] == 1)]\n",
    "filtered_df"
   ],
   "metadata": {
    "colab": {
     "base_uri": "https://localhost:8080/",
     "height": 150
    },
    "id": "kZ2R_-X80S51",
    "outputId": "d103b11d-83c2-4bf2-f54b-03e55d1b1893"
   },
   "outputs": [],
   "execution_count": null
  },
  {
   "cell_type": "code",
   "source": [
    "filtered_df = df[(df['고객의도'] == '공인인증서 폐지') & (df['문장번호'] == 1)]\n",
    "filtered_df"
   ],
   "metadata": {
    "colab": {
     "base_uri": "https://localhost:8080/",
     "height": 150
    },
    "id": "dhsT4vM10S1k",
    "outputId": "34fa6484-6c52-418d-d88b-ccbaf421261e"
   },
   "outputs": [],
   "execution_count": null
  },
  {
   "cell_type": "code",
   "source": [],
   "metadata": {
    "id": "en5JwQA1z-_o"
   },
   "outputs": [],
   "execution_count": null
  },
  {
   "cell_type": "markdown",
   "source": [
    "# 사용자 질문으로부터 '고객요청의도' 추출하기"
   ],
   "metadata": {
    "id": "UQcDS-Bu5XhS"
   }
  },
  {
   "cell_type": "markdown",
   "source": [
    "##  OpenAI API Key 설정"
   ],
   "metadata": {
    "id": "bI9WdMuy5tT6"
   }
  },
  {
   "cell_type": "code",
   "source": [
    "OPENAI_KEY = \"여러분의_OPENAI_API_KEY\""
   ],
   "metadata": {
    "id": "erzNQxj75tUQ"
   },
   "outputs": [],
   "execution_count": null
  },
  {
   "cell_type": "code",
   "source": [
    "from langchain.chat_models import ChatOpenAI\n",
    "\n",
    "llm = ChatOpenAI(model_name=\"gpt-4o\", temperature=0, openai_api_key=OPENAI_KEY)"
   ],
   "metadata": {
    "id": "JAhQlfz45tUQ",
    "colab": {
     "base_uri": "https://localhost:8080/"
    },
    "outputId": "7f7a63d4-da72-47ea-f9da-d4811f135869"
   },
   "outputs": [],
   "execution_count": null
  },
  {
   "cell_type": "markdown",
   "source": [
    "# create_tagging_chain으로 고객 요청의도 추출하기"
   ],
   "metadata": {
    "id": "mXzK5o-E6CGE"
   }
  },
  {
   "cell_type": "code",
   "source": [
    "from langchain.chains import create_tagging_chain\n",
    "\n",
    "# 고객요청의도 추출을 위한 schema 설정\n",
    "schema = {\n",
    "    \"properties\": {\n",
    "        \"고객요청의도\": {\n",
    "            \"type\": \"string\",\n",
    "            \"enum\": ['OTP',\n",
    "                     '공인인증서'\n",
    "            ]\n",
    "        }\n",
    "    }\n",
    "}\n",
    "chain = create_tagging_chain(schema, llm)"
   ],
   "metadata": {
    "id": "0z7KuVbJ1rsC"
   },
   "outputs": [],
   "execution_count": null
  },
  {
   "cell_type": "code",
   "source": [
    "chain_run_result = chain.run(\"공인인증서 폐지는 언제부터 실시되나요?\")\n",
    "chain_run_result"
   ],
   "metadata": {
    "colab": {
     "base_uri": "https://localhost:8080/"
    },
    "id": "4s7XVFhw16uM",
    "outputId": "d463ec76-c0f3-4bca-af3b-fe11077654ca"
   },
   "outputs": [],
   "execution_count": null
  },
  {
   "cell_type": "code",
   "source": [
    "chain_run_result = chain.run(\"제 OTP가 에러가 났는데 어떻게 하죠?\")\n",
    "chain_run_result"
   ],
   "metadata": {
    "id": "0LqdxFIa8Gsb",
    "colab": {
     "base_uri": "https://localhost:8080/"
    },
    "outputId": "6646ecae-a753-4ad2-8a70-0a51fe412cc6"
   },
   "outputs": [],
   "execution_count": null
  },
  {
   "cell_type": "code",
   "source": [
    "chain_run_result = chain.run(\"안녕하세요 S은행이죠?\")\n",
    "chain_run_result"
   ],
   "metadata": {
    "id": "byjprQQ92LlL",
    "colab": {
     "base_uri": "https://localhost:8080/"
    },
    "outputId": "1ec74880-39c7-44a5-e90d-424c60ef8fb4"
   },
   "outputs": [],
   "execution_count": null
  },
  {
   "cell_type": "code",
   "source": [],
   "metadata": {
    "id": "Z8Ex1jot2Lgs"
   },
   "outputs": [],
   "execution_count": null
  },
  {
   "cell_type": "code",
   "source": [],
   "metadata": {
    "id": "AqowkaH_S2a9"
   },
   "outputs": [],
   "execution_count": null
  }
 ]
}
