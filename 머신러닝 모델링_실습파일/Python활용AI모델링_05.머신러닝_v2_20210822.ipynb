{
 "cells": [
  {
   "cell_type": "markdown",
   "metadata": {},
   "source": [
    "# [실습] Python을 활용한 AI 모델링 - 머신러닝 파트\n",
    "+ 이번시간에는 Python을 활용한 AI 모델링에서 머신러닝에 대해 실습해 보겠습니다.\n",
    "+ 머신러닝 모델에는 아래와 같이 모델들이 있습니다.\n",
    " + 단일 분류예측 모델 : LogisticRegression, KNN, DecisionTree\n",
    " + 앙상블(Ensemble) 모델 : RandomForest, XGBoost, LGBM, Stacking, Weighted Blending\n",
    "\n",
    "+ 솔직히, 머신러닝이 딥러닝보다 코딩하기 쉽습니다. 4줄 템플릿에 맞쳐 코딩하면 되기 때문입니다.\n",
    "+ 그래도, 한가지 당부 드리고 싶은 말은 \"백문이불여일타\" 입니다. \n",
    "+ 이론보다 실습이 더 많은 시간과 노력이 투자 되어야 합니다."
   ]
  },
  {
   "cell_type": "markdown",
   "metadata": {},
   "source": [
    "## 학습목차\n",
    "1. 실습을 위한 KT AIDU 환경변수 설정\n",
    "2. 머신러닝 모델 프로세스\n",
    " - 데이터 가져오기\n",
    " - 데이터 전처리\n",
    " - Train, Test 데이터셋 분할\n",
    " - 데이터 정규화\n",
    " - 단일 분류예측 모델 : LogisticRegression, KNN, DecisionTree\n",
    " - 앙상블(Ensemble) 모델 : RandomForest, XGBoost, LGBM, Stacking, Weighted Blending\n"
   ]
  },
  {
   "cell_type": "markdown",
   "metadata": {
    "id": "jnqYDATsRdyk"
   },
   "source": [
    "# \n",
    "# 1. 실습을 위한 KT AIDU 환경변수 설정"
   ]
  },
  {
   "cell_type": "code",
   "execution_count": 1,
   "metadata": {},
   "outputs": [],
   "source": [
    "# 코드실행시 경고 메시지 무시\n",
    "\n",
    "import warnings\n",
    "warnings.filterwarnings(action='ignore') "
   ]
  },
  {
   "cell_type": "markdown",
   "metadata": {},
   "source": [
    "##### AIDU 라이브러리 임포트"
   ]
  },
  {
   "cell_type": "code",
   "execution_count": 2,
   "metadata": {},
   "outputs": [],
   "source": [
    "from aicentro.session import Session\n",
    "from aicentro.framework.keras import Keras as AiduFrm\n",
    "\n",
    "aidu_session = Session(verify=False)\n",
    "aidu_framework = AiduFrm(session=aidu_session)"
   ]
  },
  {
   "cell_type": "markdown",
   "metadata": {},
   "source": [
    "##### AIDU 디렉토리 환경변수\n",
    "\n",
    "- data 경로:         aidu_framework.config.data_dir"
   ]
  },
  {
   "cell_type": "code",
   "execution_count": 3,
   "metadata": {},
   "outputs": [
    {
     "data": {
      "text/plain": [
       "'/aihub/data'"
      ]
     },
     "execution_count": 3,
     "metadata": {},
     "output_type": "execute_result"
    }
   ],
   "source": [
    "# aidu_framework.config.data_dir 내용 확인\n",
    "aidu_framework.config.data_dir"
   ]
  },
  {
   "cell_type": "markdown",
   "metadata": {},
   "source": [
    "# \n",
    "# 2. 머신러닝 모델 프로세스\n",
    "① 라이브러리 임포트(import)  \n",
    "② 데이터 가져오기(Loading the data)  \n",
    "③ 탐색적 데이터 분석(Exploratory Data Analysis)  \n",
    "④ 데이터 전처리(Data PreProcessing) : 데이터타입 변환, Null 데이터 처리, 누락데이터 처리, \n",
    "더미특성 생성, 특성 추출 (feature engineering) 등  \n",
    "⑤ Train, Test  데이터셋 분할  \n",
    "⑥ 데이터 정규화(Normalizing the Data)  \n",
    "⑦ 모델 개발(Creating the Model)  \n",
    "⑧ 모델 성능 평가"
   ]
  },
  {
   "cell_type": "markdown",
   "metadata": {},
   "source": [
    "## ① 라이브러리 임포트"
   ]
  },
  {
   "cell_type": "markdown",
   "metadata": {},
   "source": [
    "##### 필요 라이브러리 임포트"
   ]
  },
  {
   "cell_type": "code",
   "execution_count": 4,
   "metadata": {},
   "outputs": [],
   "source": [
    "import numpy as np\n",
    "import pandas as pd\n",
    "import matplotlib.pyplot as plt"
   ]
  },
  {
   "cell_type": "markdown",
   "metadata": {},
   "source": [
    "## ② 데이터 로드"
   ]
  },
  {
   "cell_type": "markdown",
   "metadata": {},
   "source": [
    "#### cust_data.csv 파일 컬럼명\n",
    "+ 고객등급(cust_class), 성별(sex_type), 나이(age), 사용서비스수(efct_svc_count), 서비스중지여부 (dt_stop_yn), 미납여부(npay_yn)\n",
    "+ 3개월 평균 요금(r3m_avg_bill_amt), A서비스 3개월 평균요금(r3m_A_avg_arpu_amt), B서비스 3개월 평균요금(r3m_B_avg_arpu_amt), 해지여부(termination_yn)"
   ]
  },
  {
   "cell_type": "code",
   "execution_count": 5,
   "metadata": {},
   "outputs": [],
   "source": [
    "# cust_data.csv 파일 읽기\n",
    "df = pd.read_csv(aidu_framework.config.data_dir + '/cust_data.csv')"
   ]
  },
  {
   "cell_type": "markdown",
   "metadata": {},
   "source": [
    "## ③ 데이터 분석"
   ]
  },
  {
   "cell_type": "code",
   "execution_count": 6,
   "metadata": {},
   "outputs": [
    {
     "name": "stdout",
     "output_type": "stream",
     "text": [
      "<class 'pandas.core.frame.DataFrame'>\n",
      "RangeIndex: 7814 entries, 0 to 7813\n",
      "Data columns (total 12 columns):\n",
      " #   Column       Non-Null Count  Dtype  \n",
      "---  ------       --------------  -----  \n",
      " 0   class        7814 non-null   object \n",
      " 1   sex          7814 non-null   object \n",
      " 2   age          7814 non-null   int64  \n",
      " 3   service      7814 non-null   int64  \n",
      " 4   stop         7814 non-null   object \n",
      " 5   npay         7814 non-null   object \n",
      " 6   avg_bill     7814 non-null   float64\n",
      " 7   A_bill       7814 non-null   float64\n",
      " 8   B_bill       7814 non-null   float64\n",
      " 9   termination  7814 non-null   object \n",
      " 10  by_age       7814 non-null   int64  \n",
      " 11  bill_rating  7814 non-null   object \n",
      "dtypes: float64(3), int64(3), object(6)\n",
      "memory usage: 732.7+ KB\n"
     ]
    }
   ],
   "source": [
    "# 12컬럼, 7814 라인\n",
    "df.info()"
   ]
  },
  {
   "cell_type": "code",
   "execution_count": 7,
   "metadata": {},
   "outputs": [
    {
     "data": {
      "text/html": [
       "<div>\n",
       "<style scoped>\n",
       "    .dataframe tbody tr th:only-of-type {\n",
       "        vertical-align: middle;\n",
       "    }\n",
       "\n",
       "    .dataframe tbody tr th {\n",
       "        vertical-align: top;\n",
       "    }\n",
       "\n",
       "    .dataframe thead th {\n",
       "        text-align: right;\n",
       "    }\n",
       "</style>\n",
       "<table border=\"1\" class=\"dataframe\">\n",
       "  <thead>\n",
       "    <tr style=\"text-align: right;\">\n",
       "      <th></th>\n",
       "      <th>class</th>\n",
       "      <th>sex</th>\n",
       "      <th>age</th>\n",
       "      <th>service</th>\n",
       "      <th>stop</th>\n",
       "      <th>npay</th>\n",
       "      <th>avg_bill</th>\n",
       "      <th>A_bill</th>\n",
       "      <th>B_bill</th>\n",
       "      <th>termination</th>\n",
       "      <th>by_age</th>\n",
       "      <th>bill_rating</th>\n",
       "    </tr>\n",
       "  </thead>\n",
       "  <tbody>\n",
       "    <tr>\n",
       "      <th>7809</th>\n",
       "      <td>C</td>\n",
       "      <td>M</td>\n",
       "      <td>76</td>\n",
       "      <td>1</td>\n",
       "      <td>N</td>\n",
       "      <td>N</td>\n",
       "      <td>1860.0000</td>\n",
       "      <td>1716.000000</td>\n",
       "      <td>0.0000</td>\n",
       "      <td>N</td>\n",
       "      <td>75</td>\n",
       "      <td>low</td>\n",
       "    </tr>\n",
       "    <tr>\n",
       "      <th>7810</th>\n",
       "      <td>C</td>\n",
       "      <td>F</td>\n",
       "      <td>15</td>\n",
       "      <td>1</td>\n",
       "      <td>N</td>\n",
       "      <td>Y</td>\n",
       "      <td>1296.0999</td>\n",
       "      <td>194.414985</td>\n",
       "      <td>643.1001</td>\n",
       "      <td>N</td>\n",
       "      <td>15</td>\n",
       "      <td>low</td>\n",
       "    </tr>\n",
       "    <tr>\n",
       "      <th>7811</th>\n",
       "      <td>G</td>\n",
       "      <td>M</td>\n",
       "      <td>12</td>\n",
       "      <td>1</td>\n",
       "      <td>N</td>\n",
       "      <td>N</td>\n",
       "      <td>13799.6666</td>\n",
       "      <td>2069.949990</td>\n",
       "      <td>10605.9266</td>\n",
       "      <td>N</td>\n",
       "      <td>10</td>\n",
       "      <td>midhigh</td>\n",
       "    </tr>\n",
       "    <tr>\n",
       "      <th>7812</th>\n",
       "      <td>C</td>\n",
       "      <td>F</td>\n",
       "      <td>40</td>\n",
       "      <td>0</td>\n",
       "      <td>N</td>\n",
       "      <td>N</td>\n",
       "      <td>3140.0000</td>\n",
       "      <td>942.000000</td>\n",
       "      <td>1884.0000</td>\n",
       "      <td>Y</td>\n",
       "      <td>40</td>\n",
       "      <td>low</td>\n",
       "    </tr>\n",
       "    <tr>\n",
       "      <th>7813</th>\n",
       "      <td>C</td>\n",
       "      <td>F</td>\n",
       "      <td>59</td>\n",
       "      <td>1</td>\n",
       "      <td>N</td>\n",
       "      <td>N</td>\n",
       "      <td>2436.9000</td>\n",
       "      <td>365.535000</td>\n",
       "      <td>1839.9000</td>\n",
       "      <td>N</td>\n",
       "      <td>55</td>\n",
       "      <td>low</td>\n",
       "    </tr>\n",
       "  </tbody>\n",
       "</table>\n",
       "</div>"
      ],
      "text/plain": [
       "     class sex  age  service stop npay    avg_bill       A_bill      B_bill  \\\n",
       "7809     C   M   76        1    N    N   1860.0000  1716.000000      0.0000   \n",
       "7810     C   F   15        1    N    Y   1296.0999   194.414985    643.1001   \n",
       "7811     G   M   12        1    N    N  13799.6666  2069.949990  10605.9266   \n",
       "7812     C   F   40        0    N    N   3140.0000   942.000000   1884.0000   \n",
       "7813     C   F   59        1    N    N   2436.9000   365.535000   1839.9000   \n",
       "\n",
       "     termination  by_age bill_rating  \n",
       "7809           N      75         low  \n",
       "7810           N      15         low  \n",
       "7811           N      10     midhigh  \n",
       "7812           Y      40         low  \n",
       "7813           N      55         low  "
      ]
     },
     "execution_count": 7,
     "metadata": {},
     "output_type": "execute_result"
    }
   ],
   "source": [
    "df.tail()"
   ]
  },
  {
   "cell_type": "code",
   "execution_count": 8,
   "metadata": {},
   "outputs": [
    {
     "data": {
      "text/plain": [
       "<matplotlib.axes._subplots.AxesSubplot at 0x7f7c221d7240>"
      ]
     },
     "execution_count": 8,
     "metadata": {},
     "output_type": "execute_result"
    },
    {
     "data": {
      "image/png": "[encoded data removed]",
      "text/plain": [
       "<Figure size 432x288 with 1 Axes>"
      ]
     },
     "metadata": {
      "needs_background": "light"
     },
     "output_type": "display_data"
    }
   ],
   "source": [
    "# termination 레이블 불균형 \n",
    "df['termination'].value_counts().plot(kind='bar')"
   ]
  },
  {
   "cell_type": "markdown",
   "metadata": {},
   "source": [
    "## ④ 데이터 전처리"
   ]
  },
  {
   "cell_type": "markdown",
   "metadata": {},
   "source": [
    "+ Object 컬럼에 대해 Pandas get_dummies 함수 활용하여 One-Hot-Encoding"
   ]
  },
  {
   "cell_type": "code",
   "execution_count": 9,
   "metadata": {},
   "outputs": [],
   "source": [
    "cal_cols = ['class', 'sex', 'stop', 'npay', 'termination', 'bill_rating']"
   ]
  },
  {
   "cell_type": "code",
   "execution_count": 10,
   "metadata": {},
   "outputs": [],
   "source": [
    "df1 = pd.get_dummies(data=df, columns=cal_cols, drop_first=True)"
   ]
  },
  {
   "cell_type": "code",
   "execution_count": 11,
   "metadata": {},
   "outputs": [
    {
     "name": "stdout",
     "output_type": "stream",
     "text": [
      "<class 'pandas.core.frame.DataFrame'>\n",
      "RangeIndex: 7814 entries, 0 to 7813\n",
      "Data columns (total 19 columns):\n",
      " #   Column               Non-Null Count  Dtype  \n",
      "---  ------               --------------  -----  \n",
      " 0   age                  7814 non-null   int64  \n",
      " 1   service              7814 non-null   int64  \n",
      " 2   avg_bill             7814 non-null   float64\n",
      " 3   A_bill               7814 non-null   float64\n",
      " 4   B_bill               7814 non-null   float64\n",
      " 5   by_age               7814 non-null   int64  \n",
      " 6   class_D              7814 non-null   uint8  \n",
      " 7   class_E              7814 non-null   uint8  \n",
      " 8   class_F              7814 non-null   uint8  \n",
      " 9   class_G              7814 non-null   uint8  \n",
      " 10  class_H              7814 non-null   uint8  \n",
      " 11  sex_M                7814 non-null   uint8  \n",
      " 12  stop_Y               7814 non-null   uint8  \n",
      " 13  npay_Y               7814 non-null   uint8  \n",
      " 14  termination_Y        7814 non-null   uint8  \n",
      " 15  bill_rating_low      7814 non-null   uint8  \n",
      " 16  bill_rating_lowmid   7814 non-null   uint8  \n",
      " 17  bill_rating_mid      7814 non-null   uint8  \n",
      " 18  bill_rating_midhigh  7814 non-null   uint8  \n",
      "dtypes: float64(3), int64(3), uint8(13)\n",
      "memory usage: 465.6 KB\n"
     ]
    }
   ],
   "source": [
    "# 19컬럼, 7814 라인\n",
    "df1.info()"
   ]
  },
  {
   "cell_type": "markdown",
   "metadata": {},
   "source": [
    "## ⑤ Train, Test  데이터셋 분할"
   ]
  },
  {
   "cell_type": "code",
   "execution_count": 12,
   "metadata": {},
   "outputs": [],
   "source": [
    "from sklearn.model_selection import train_test_split"
   ]
  },
  {
   "cell_type": "code",
   "execution_count": 13,
   "metadata": {},
   "outputs": [],
   "source": [
    "X = df1.drop('termination_Y', axis=1).values\n",
    "y = df1['termination_Y'].values"
   ]
  },
  {
   "cell_type": "code",
   "execution_count": 14,
   "metadata": {},
   "outputs": [],
   "source": [
    "X_train, X_test, y_train, y_test = train_test_split(X, y, \n",
    "                                                    test_size=0.3, \n",
    "                                                    stratify=y,\n",
    "                                                    random_state=42)"
   ]
  },
  {
   "cell_type": "code",
   "execution_count": 15,
   "metadata": {},
   "outputs": [
    {
     "data": {
      "text/plain": [
       "(5469, 18)"
      ]
     },
     "execution_count": 15,
     "metadata": {},
     "output_type": "execute_result"
    }
   ],
   "source": [
    "X_train.shape"
   ]
  },
  {
   "cell_type": "code",
   "execution_count": 16,
   "metadata": {},
   "outputs": [
    {
     "data": {
      "text/plain": [
       "(5469,)"
      ]
     },
     "execution_count": 16,
     "metadata": {},
     "output_type": "execute_result"
    }
   ],
   "source": [
    "y_train.shape"
   ]
  },
  {
   "cell_type": "markdown",
   "metadata": {},
   "source": [
    "## ⑥ 데이터 정규화/스케일링(Normalizing/Scaling)"
   ]
  },
  {
   "cell_type": "code",
   "execution_count": 17,
   "metadata": {},
   "outputs": [
    {
     "data": {
      "text/html": [
       "<div>\n",
       "<style scoped>\n",
       "    .dataframe tbody tr th:only-of-type {\n",
       "        vertical-align: middle;\n",
       "    }\n",
       "\n",
       "    .dataframe tbody tr th {\n",
       "        vertical-align: top;\n",
       "    }\n",
       "\n",
       "    .dataframe thead th {\n",
       "        text-align: right;\n",
       "    }\n",
       "</style>\n",
       "<table border=\"1\" class=\"dataframe\">\n",
       "  <thead>\n",
       "    <tr style=\"text-align: right;\">\n",
       "      <th></th>\n",
       "      <th>age</th>\n",
       "      <th>service</th>\n",
       "      <th>avg_bill</th>\n",
       "      <th>A_bill</th>\n",
       "      <th>B_bill</th>\n",
       "      <th>by_age</th>\n",
       "      <th>class_D</th>\n",
       "      <th>class_E</th>\n",
       "      <th>class_F</th>\n",
       "      <th>class_G</th>\n",
       "      <th>class_H</th>\n",
       "      <th>sex_M</th>\n",
       "      <th>stop_Y</th>\n",
       "      <th>npay_Y</th>\n",
       "      <th>termination_Y</th>\n",
       "      <th>bill_rating_low</th>\n",
       "      <th>bill_rating_lowmid</th>\n",
       "      <th>bill_rating_mid</th>\n",
       "      <th>bill_rating_midhigh</th>\n",
       "    </tr>\n",
       "  </thead>\n",
       "  <tbody>\n",
       "    <tr>\n",
       "      <th>7809</th>\n",
       "      <td>76</td>\n",
       "      <td>1</td>\n",
       "      <td>1860.0000</td>\n",
       "      <td>1716.000000</td>\n",
       "      <td>0.0000</td>\n",
       "      <td>75</td>\n",
       "      <td>0</td>\n",
       "      <td>0</td>\n",
       "      <td>0</td>\n",
       "      <td>0</td>\n",
       "      <td>0</td>\n",
       "      <td>1</td>\n",
       "      <td>0</td>\n",
       "      <td>0</td>\n",
       "      <td>0</td>\n",
       "      <td>1</td>\n",
       "      <td>0</td>\n",
       "      <td>0</td>\n",
       "      <td>0</td>\n",
       "    </tr>\n",
       "    <tr>\n",
       "      <th>7810</th>\n",
       "      <td>15</td>\n",
       "      <td>1</td>\n",
       "      <td>1296.0999</td>\n",
       "      <td>194.414985</td>\n",
       "      <td>643.1001</td>\n",
       "      <td>15</td>\n",
       "      <td>0</td>\n",
       "      <td>0</td>\n",
       "      <td>0</td>\n",
       "      <td>0</td>\n",
       "      <td>0</td>\n",
       "      <td>0</td>\n",
       "      <td>0</td>\n",
       "      <td>1</td>\n",
       "      <td>0</td>\n",
       "      <td>1</td>\n",
       "      <td>0</td>\n",
       "      <td>0</td>\n",
       "      <td>0</td>\n",
       "    </tr>\n",
       "    <tr>\n",
       "      <th>7811</th>\n",
       "      <td>12</td>\n",
       "      <td>1</td>\n",
       "      <td>13799.6666</td>\n",
       "      <td>2069.949990</td>\n",
       "      <td>10605.9266</td>\n",
       "      <td>10</td>\n",
       "      <td>0</td>\n",
       "      <td>0</td>\n",
       "      <td>0</td>\n",
       "      <td>1</td>\n",
       "      <td>0</td>\n",
       "      <td>1</td>\n",
       "      <td>0</td>\n",
       "      <td>0</td>\n",
       "      <td>0</td>\n",
       "      <td>0</td>\n",
       "      <td>0</td>\n",
       "      <td>0</td>\n",
       "      <td>1</td>\n",
       "    </tr>\n",
       "    <tr>\n",
       "      <th>7812</th>\n",
       "      <td>40</td>\n",
       "      <td>0</td>\n",
       "      <td>3140.0000</td>\n",
       "      <td>942.000000</td>\n",
       "      <td>1884.0000</td>\n",
       "      <td>40</td>\n",
       "      <td>0</td>\n",
       "      <td>0</td>\n",
       "      <td>0</td>\n",
       "      <td>0</td>\n",
       "      <td>0</td>\n",
       "      <td>0</td>\n",
       "      <td>0</td>\n",
       "      <td>0</td>\n",
       "      <td>1</td>\n",
       "      <td>1</td>\n",
       "      <td>0</td>\n",
       "      <td>0</td>\n",
       "      <td>0</td>\n",
       "    </tr>\n",
       "    <tr>\n",
       "      <th>7813</th>\n",
       "      <td>59</td>\n",
       "      <td>1</td>\n",
       "      <td>2436.9000</td>\n",
       "      <td>365.535000</td>\n",
       "      <td>1839.9000</td>\n",
       "      <td>55</td>\n",
       "      <td>0</td>\n",
       "      <td>0</td>\n",
       "      <td>0</td>\n",
       "      <td>0</td>\n",
       "      <td>0</td>\n",
       "      <td>0</td>\n",
       "      <td>0</td>\n",
       "      <td>0</td>\n",
       "      <td>0</td>\n",
       "      <td>1</td>\n",
       "      <td>0</td>\n",
       "      <td>0</td>\n",
       "      <td>0</td>\n",
       "    </tr>\n",
       "  </tbody>\n",
       "</table>\n",
       "</div>"
      ],
      "text/plain": [
       "      age  service    avg_bill       A_bill      B_bill  by_age  class_D  \\\n",
       "7809   76        1   1860.0000  1716.000000      0.0000      75        0   \n",
       "7810   15        1   1296.0999   194.414985    643.1001      15        0   \n",
       "7811   12        1  13799.6666  2069.949990  10605.9266      10        0   \n",
       "7812   40        0   3140.0000   942.000000   1884.0000      40        0   \n",
       "7813   59        1   2436.9000   365.535000   1839.9000      55        0   \n",
       "\n",
       "      class_E  class_F  class_G  class_H  sex_M  stop_Y  npay_Y  \\\n",
       "7809        0        0        0        0      1       0       0   \n",
       "7810        0        0        0        0      0       0       1   \n",
       "7811        0        0        1        0      1       0       0   \n",
       "7812        0        0        0        0      0       0       0   \n",
       "7813        0        0        0        0      0       0       0   \n",
       "\n",
       "      termination_Y  bill_rating_low  bill_rating_lowmid  bill_rating_mid  \\\n",
       "7809              0                1                   0                0   \n",
       "7810              0                1                   0                0   \n",
       "7811              0                0                   0                0   \n",
       "7812              1                1                   0                0   \n",
       "7813              0                1                   0                0   \n",
       "\n",
       "      bill_rating_midhigh  \n",
       "7809                    0  \n",
       "7810                    0  \n",
       "7811                    1  \n",
       "7812                    0  \n",
       "7813                    0  "
      ]
     },
     "execution_count": 17,
     "metadata": {},
     "output_type": "execute_result"
    }
   ],
   "source": [
    "# 숫자 분포 이루어진 컬럼 확인\n",
    "df1.tail()"
   ]
  },
  {
   "cell_type": "code",
   "execution_count": 18,
   "metadata": {},
   "outputs": [],
   "source": [
    "from sklearn.preprocessing import MinMaxScaler"
   ]
  },
  {
   "cell_type": "code",
   "execution_count": 19,
   "metadata": {},
   "outputs": [],
   "source": [
    "scaler = MinMaxScaler()\n",
    "X_train = scaler.fit_transform(X_train)\n",
    "X_test = scaler.transform(X_test)"
   ]
  },
  {
   "cell_type": "code",
   "execution_count": 20,
   "metadata": {},
   "outputs": [
    {
     "data": {
      "text/plain": [
       "(array([[0.38      , 0.33333333, 0.4295439 , 0.06384702, 0.41944434,\n",
       "         0.4       , 0.        , 0.        , 0.        , 0.        ,\n",
       "         1.        , 1.        , 0.        , 1.        , 0.        ,\n",
       "         0.        , 0.        , 1.        ],\n",
       "        [0.58      , 0.11111111, 0.20111297, 0.38498933, 0.        ,\n",
       "         0.6       , 1.        , 0.        , 0.        , 0.        ,\n",
       "         0.        , 1.        , 0.        , 0.        , 0.        ,\n",
       "         1.        , 0.        , 0.        ]]),\n",
       " array([0, 0], dtype=uint8))"
      ]
     },
     "execution_count": 20,
     "metadata": {},
     "output_type": "execute_result"
    }
   ],
   "source": [
    "X_train[:2], y_train[:2]"
   ]
  },
  {
   "cell_type": "markdown",
   "metadata": {},
   "source": [
    "+ 모델 입력갯수, 출력갯수 확인"
   ]
  },
  {
   "cell_type": "code",
   "execution_count": 21,
   "metadata": {},
   "outputs": [
    {
     "data": {
      "text/plain": [
       "(5469, 18)"
      ]
     },
     "execution_count": 21,
     "metadata": {},
     "output_type": "execute_result"
    }
   ],
   "source": [
    "X_train.shape"
   ]
  },
  {
   "cell_type": "code",
   "execution_count": 22,
   "metadata": {},
   "outputs": [
    {
     "data": {
      "text/plain": [
       "(5469,)"
      ]
     },
     "execution_count": 22,
     "metadata": {},
     "output_type": "execute_result"
    }
   ],
   "source": [
    "y_train.shape"
   ]
  },
  {
   "cell_type": "markdown",
   "metadata": {},
   "source": [
    "## ⑦ 모델 개발"
   ]
  },
  {
   "cell_type": "markdown",
   "metadata": {
    "id": "Yt9pqvyOGW0N"
   },
   "source": [
    "#### 모델별 바차트 그려주고 성능 확인을 위한 함수"
   ]
  },
  {
   "cell_type": "code",
   "execution_count": 23,
   "metadata": {
    "colab": {
     "base_uri": "https://localhost:8080/"
    },
    "id": "gwA1iqfDGWkw",
    "outputId": "22dc39f7-9d25-4190-88e1-29a4d28635d4"
   },
   "outputs": [],
   "source": [
    "# 모델별로 Accuracy 점수 저장\n",
    "# 모델 Accuracy 점수 순서대로 바차트를 그려 모델별로 성능 확인 가능\n",
    "\n",
    "from sklearn.metrics import accuracy_score\n",
    "\n",
    "my_predictions = {}\n",
    "\n",
    "colors = ['r', 'c', 'm', 'y', 'k', 'khaki', 'teal', 'orchid', 'sandybrown',\n",
    "          'greenyellow', 'dodgerblue', 'deepskyblue', 'rosybrown', 'firebrick',\n",
    "          'deeppink', 'crimson', 'salmon', 'darkred', 'olivedrab', 'olive', \n",
    "          'forestgreen', 'royalblue', 'indigo', 'navy', 'mediumpurple', 'chocolate',\n",
    "          'gold', 'darkorange', 'seagreen', 'turquoise', 'steelblue', 'slategray', \n",
    "          'peru', 'midnightblue', 'slateblue', 'dimgray', 'cadetblue', 'tomato'\n",
    "         ]\n",
    "\n",
    "# 모델명, 예측값, 실제값을 주면 위의 plot_predictions 함수 호출하여 Scatter 그래프 그리며\n",
    "# 모델별 MSE값을 Bar chart로 그려줌\n",
    "def accuracy_eval(name_, pred, actual):\n",
    "    global predictions\n",
    "    global colors\n",
    "\n",
    "    plt.figure(figsize=(12, 9))\n",
    "\n",
    "    acc = accuracy_score(actual, pred)\n",
    "    my_predictions[name_] = acc * 100\n",
    "\n",
    "    y_value = sorted(my_predictions.items(), key=lambda x: x[1], reverse=True)\n",
    "    \n",
    "    df = pd.DataFrame(y_value, columns=['model', 'accuracy'])\n",
    "    print(df)\n",
    "   \n",
    "    length = len(df)\n",
    "    \n",
    "    plt.figure(figsize=(10, length))\n",
    "    ax = plt.subplot()\n",
    "    ax.set_yticks(np.arange(len(df)))\n",
    "    ax.set_yticklabels(df['model'], fontsize=15)\n",
    "    bars = ax.barh(np.arange(len(df)), df['accuracy'])\n",
    "    \n",
    "    for i, v in enumerate(df['accuracy']):\n",
    "        idx = np.random.choice(len(colors))\n",
    "        bars[i].set_color(colors[idx])\n",
    "        ax.text(v + 2, i, str(round(v, 3)), color='k', fontsize=15, fontweight='bold')\n",
    "        \n",
    "    plt.title('accuracy', fontsize=18)\n",
    "    plt.xlim(0, 100)\n",
    "    \n",
    "    plt.show()"
   ]
  },
  {
   "cell_type": "markdown",
   "metadata": {},
   "source": [
    "###  \n",
    "### 1) 로지스틱 회귀 (LogisticRegression, 분류)"
   ]
  },
  {
   "cell_type": "code",
   "execution_count": 24,
   "metadata": {},
   "outputs": [],
   "source": [
    "from sklearn.linear_model import LogisticRegression\n",
    "from sklearn.metrics import confusion_matrix \n",
    "from sklearn.metrics import accuracy_score, precision_score, recall_score, f1_score\n",
    "from sklearn.metrics import classification_report"
   ]
  },
  {
   "cell_type": "code",
   "execution_count": 25,
   "metadata": {},
   "outputs": [
    {
     "data": {
      "text/plain": [
       "LogisticRegression(max_iter=2000)"
      ]
     },
     "execution_count": 25,
     "metadata": {},
     "output_type": "execute_result"
    }
   ],
   "source": [
    "lg = LogisticRegression(C=1.0,max_iter=2000)\n",
    "lg.fit(X_train, y_train)"
   ]
  },
  {
   "cell_type": "code",
   "execution_count": 26,
   "metadata": {},
   "outputs": [
    {
     "data": {
      "text/plain": [
       "0.929637526652452"
      ]
     },
     "execution_count": 26,
     "metadata": {},
     "output_type": "execute_result"
    }
   ],
   "source": [
    "# 분류기 성능 평가(score)\n",
    "lg.score(X_test, y_test)"
   ]
  },
  {
   "cell_type": "markdown",
   "metadata": {},
   "source": [
    "- 분류기 성능 평가 지표"
   ]
  },
  {
   "cell_type": "code",
   "execution_count": 27,
   "metadata": {},
   "outputs": [],
   "source": [
    "lg_pred = lg.predict(X_test)"
   ]
  },
  {
   "cell_type": "code",
   "execution_count": 28,
   "metadata": {},
   "outputs": [
    {
     "data": {
      "text/plain": [
       "array([[2098,   11],\n",
       "       [ 154,   82]])"
      ]
     },
     "execution_count": 28,
     "metadata": {},
     "output_type": "execute_result"
    }
   ],
   "source": [
    "# 오차행렬\n",
    "# TN  FP\n",
    "# FN  TP\n",
    "\n",
    "confusion_matrix(y_test, lg_pred) "
   ]
  },
  {
   "cell_type": "code",
   "execution_count": 29,
   "metadata": {},
   "outputs": [
    {
     "data": {
      "text/plain": [
       "0.929637526652452"
      ]
     },
     "execution_count": 29,
     "metadata": {},
     "output_type": "execute_result"
    }
   ],
   "source": [
    "# 정확도 : 굉장히 높다\n",
    "accuracy_score(y_test, lg_pred)  "
   ]
  },
  {
   "cell_type": "code",
   "execution_count": 30,
   "metadata": {},
   "outputs": [
    {
     "data": {
      "text/plain": [
       "0.8817204301075269"
      ]
     },
     "execution_count": 30,
     "metadata": {},
     "output_type": "execute_result"
    }
   ],
   "source": [
    "# 정밀도\n",
    "precision_score(y_test, lg_pred) "
   ]
  },
  {
   "cell_type": "code",
   "execution_count": 31,
   "metadata": {},
   "outputs": [
    {
     "data": {
      "text/plain": [
       "0.3474576271186441"
      ]
     },
     "execution_count": 31,
     "metadata": {},
     "output_type": "execute_result"
    }
   ],
   "source": [
    "# 재현율 : 굉장히 낮다.\n",
    "recall_score(y_test, lg_pred)  "
   ]
  },
  {
   "cell_type": "code",
   "execution_count": 32,
   "metadata": {},
   "outputs": [
    {
     "data": {
      "text/plain": [
       "0.4984802431610942"
      ]
     },
     "execution_count": 32,
     "metadata": {},
     "output_type": "execute_result"
    }
   ],
   "source": [
    "# 정밀도 + 재현율\n",
    "f1_score(y_test, lg_pred) "
   ]
  },
  {
   "cell_type": "code",
   "execution_count": 33,
   "metadata": {},
   "outputs": [
    {
     "name": "stdout",
     "output_type": "stream",
     "text": [
      "              precision    recall  f1-score   support\n",
      "\n",
      "           0       0.93      0.99      0.96      2109\n",
      "           1       0.88      0.35      0.50       236\n",
      "\n",
      "    accuracy                           0.93      2345\n",
      "   macro avg       0.91      0.67      0.73      2345\n",
      "weighted avg       0.93      0.93      0.92      2345\n",
      "\n"
     ]
    }
   ],
   "source": [
    "print(classification_report(y_test, lg_pred))"
   ]
  },
  {
   "cell_type": "code",
   "execution_count": 34,
   "metadata": {},
   "outputs": [
    {
     "name": "stdout",
     "output_type": "stream",
     "text": [
      "                model   accuracy\n",
      "0  LogisticRegression  92.963753\n"
     ]
    },
    {
     "data": {
      "text/plain": [
       "<Figure size 864x648 with 0 Axes>"
      ]
     },
     "metadata": {},
     "output_type": "display_data"
    },
    {
     "data": {
      "image/png": "[encoded data removed]",
      "text/plain": [
       "<Figure size 720x72 with 1 Axes>"
      ]
     },
     "metadata": {
      "needs_background": "light"
     },
     "output_type": "display_data"
    }
   ],
   "source": [
    "accuracy_eval('LogisticRegression', lg_pred, y_test)"
   ]
  },
  {
   "cell_type": "markdown",
   "metadata": {},
   "source": [
    "###   \n",
    "### 2) KNN (K-Nearest Neighbor)"
   ]
  },
  {
   "cell_type": "code",
   "execution_count": 35,
   "metadata": {},
   "outputs": [],
   "source": [
    "from sklearn.neighbors import KNeighborsClassifier"
   ]
  },
  {
   "cell_type": "code",
   "execution_count": 36,
   "metadata": {},
   "outputs": [
    {
     "data": {
      "text/plain": [
       "KNeighborsClassifier()"
      ]
     },
     "execution_count": 36,
     "metadata": {},
     "output_type": "execute_result"
    }
   ],
   "source": [
    "knn = KNeighborsClassifier(n_neighbors=5)\n",
    "knn.fit(X_train, y_train)"
   ]
  },
  {
   "cell_type": "code",
   "execution_count": 37,
   "metadata": {},
   "outputs": [],
   "source": [
    "knn_pred = knn.predict(X_test)"
   ]
  },
  {
   "cell_type": "code",
   "execution_count": 38,
   "metadata": {},
   "outputs": [
    {
     "name": "stdout",
     "output_type": "stream",
     "text": [
      "                model   accuracy\n",
      "0  K-Nearest Neighbor  94.712154\n",
      "1  LogisticRegression  92.963753\n"
     ]
    },
    {
     "data": {
      "text/plain": [
       "<Figure size 864x648 with 0 Axes>"
      ]
     },
     "metadata": {},
     "output_type": "display_data"
    },
    {
     "data": {
      "image/png": "[encoded data removed]",
      "text/plain": [
       "<Figure size 720x144 with 1 Axes>"
      ]
     },
     "metadata": {
      "needs_background": "light"
     },
     "output_type": "display_data"
    }
   ],
   "source": [
    "accuracy_eval('K-Nearest Neighbor', knn_pred, y_test)"
   ]
  },
  {
   "cell_type": "markdown",
   "metadata": {},
   "source": [
    "###  \n",
    "### 3) 결정트리(DecisionTree)"
   ]
  },
  {
   "cell_type": "code",
   "execution_count": 39,
   "metadata": {},
   "outputs": [],
   "source": [
    "from sklearn.tree import DecisionTreeClassifier"
   ]
  },
  {
   "cell_type": "code",
   "execution_count": 40,
   "metadata": {},
   "outputs": [
    {
     "data": {
      "text/plain": [
       "DecisionTreeClassifier(max_depth=10, random_state=42)"
      ]
     },
     "execution_count": 40,
     "metadata": {},
     "output_type": "execute_result"
    }
   ],
   "source": [
    "dt = DecisionTreeClassifier(max_depth=10, random_state=42)\n",
    "dt.fit(X_train, y_train)"
   ]
  },
  {
   "cell_type": "code",
   "execution_count": 41,
   "metadata": {},
   "outputs": [],
   "source": [
    "dt_pred = dt.predict(X_test)"
   ]
  },
  {
   "cell_type": "code",
   "execution_count": 42,
   "metadata": {
    "scrolled": true
   },
   "outputs": [
    {
     "name": "stdout",
     "output_type": "stream",
     "text": [
      "                model   accuracy\n",
      "0        DecisionTree  97.313433\n",
      "1  K-Nearest Neighbor  94.712154\n",
      "2  LogisticRegression  92.963753\n"
     ]
    },
    {
     "data": {
      "text/plain": [
       "<Figure size 864x648 with 0 Axes>"
      ]
     },
     "metadata": {},
     "output_type": "display_data"
    },
    {
     "data": {
      "image/png": "[encoded data removed]",
      "text/plain": [
       "<Figure size 720x216 with 1 Axes>"
      ]
     },
     "metadata": {
      "needs_background": "light"
     },
     "output_type": "display_data"
    }
   ],
   "source": [
    "accuracy_eval('DecisionTree', dt_pred, y_test)"
   ]
  },
  {
   "cell_type": "markdown",
   "metadata": {
    "id": "5Y_f-BWX6CCA"
   },
   "source": [
    "### \n",
    "### **앙상블 기법의 종류**\n",
    "- 배깅 (Bagging): 여러개의 DecisionTree 활용하고 샘플 중복 생성을 통해 결과 도출. RandomForest\n",
    "- 부스팅 (Boosting): 약한 학습기를 순차적으로 학습을 하되, 이전 학습에 대하여 잘못 예측된 데이터에 가중치를 부여해 오차를 보완해 나가는 방식. XGBoost, LGBM\n",
    "- 스태킹 (Stacking): 여러 모델을 기반으로 예측된 결과를 통해 Final 학습기(meta 모델)이 다시 한번 예측"
   ]
  },
  {
   "cell_type": "markdown",
   "metadata": {},
   "source": [
    "![앙상블](https://teddylee777.github.io/images/2019-12-18/image-20191217144823555.png)"
   ]
  },
  {
   "cell_type": "markdown",
   "metadata": {},
   "source": [
    "###  \n",
    "### 4) 랜덤포레스트(RandomForest)\n",
    "+ Bagging 대표적인 모델로써, 훈련셋트를 무작위로 각기 다른 서브셋으로 데이터셋을 만들고\n",
    "+ 여러개의 DecisonTree로 학습하고 다수결로 결정하는 모델"
   ]
  },
  {
   "cell_type": "markdown",
   "metadata": {
    "id": "NpOEkIoCAdFd"
   },
   "source": [
    "**주요 Hyperparameter**\n",
    "- random_state: 랜덤 시드 고정 값. 고정해두고 튜닝할 것!\n",
    "- n_jobs: CPU 사용 갯수\n",
    "- max_depth: 깊어질 수 있는 최대 깊이. 과대적합 방지용\n",
    "- n_estimators: 앙상블하는 트리의 갯수\n",
    "- max_features: 최대로 사용할 feature의 갯수. 과대적합 방지용\n",
    "- min_samples_split: 트리가 분할할 때 최소 샘플의 갯수. default=2. 과대적합 방지용"
   ]
  },
  {
   "cell_type": "code",
   "execution_count": 43,
   "metadata": {},
   "outputs": [],
   "source": [
    "from sklearn.ensemble import RandomForestClassifier"
   ]
  },
  {
   "cell_type": "code",
   "execution_count": 44,
   "metadata": {},
   "outputs": [
    {
     "data": {
      "text/plain": [
       "RandomForestClassifier(n_estimators=3, random_state=42)"
      ]
     },
     "execution_count": 44,
     "metadata": {},
     "output_type": "execute_result"
    }
   ],
   "source": [
    "rfc = RandomForestClassifier(n_estimators=3, random_state=42)\n",
    "rfc.fit(X_train, y_train)"
   ]
  },
  {
   "cell_type": "code",
   "execution_count": 45,
   "metadata": {
    "id": "yd3AA9mFa_0n"
   },
   "outputs": [],
   "source": [
    "rfc_pred = rfc.predict(X_test)"
   ]
  },
  {
   "cell_type": "code",
   "execution_count": 46,
   "metadata": {
    "colab": {
     "base_uri": "https://localhost:8080/",
     "height": 1000
    },
    "id": "-RkzXSShS6ks",
    "outputId": "eaec818c-5fc2-4b39-fecf-5b1b2895ccad"
   },
   "outputs": [
    {
     "name": "stdout",
     "output_type": "stream",
     "text": [
      "                   model   accuracy\n",
      "0  RandomForest Ensemble  97.611940\n",
      "1           DecisionTree  97.313433\n",
      "2     K-Nearest Neighbor  94.712154\n",
      "3     LogisticRegression  92.963753\n"
     ]
    },
    {
     "data": {
      "text/plain": [
       "<Figure size 864x648 with 0 Axes>"
      ]
     },
     "metadata": {},
     "output_type": "display_data"
    },
    {
     "data": {
      "image/png": "[encoded data removed]",
      "text/plain": [
       "<Figure size 720x288 with 1 Axes>"
      ]
     },
     "metadata": {
      "needs_background": "light"
     },
     "output_type": "display_data"
    }
   ],
   "source": [
    "accuracy_eval('RandomForest Ensemble', rfc_pred, y_test)"
   ]
  },
  {
   "cell_type": "markdown",
   "metadata": {},
   "source": [
    "###  \n",
    "### 5) XGBoost\n",
    "+ 여러개의 DecisionTree를 결합하여 Strong Learner 만드는 Boosting 앙상블 기법\n",
    "+ Kaggle 대회에서 자주 사용하는 모델이다."
   ]
  },
  {
   "cell_type": "markdown",
   "metadata": {
    "id": "xw17wJya85Ms"
   },
   "source": [
    "**주요 특징**\n",
    "- scikit-learn 패키지가 아닙니다.\n",
    "- 성능이 우수함\n",
    "- GBM보다는 빠르고 성능도 향상되었습니다.\n",
    "- 여전히 학습시간이 매우 느리다"
   ]
  },
  {
   "cell_type": "markdown",
   "metadata": {
    "id": "-fAjfIX9Jpcx"
   },
   "source": [
    "**주요 Hyperparameter**\n",
    "- random_state: 랜덤 시드 고정 값. 고정해두고 튜닝할 것!\n",
    "- n_jobs: CPU 사용 갯수\n",
    "- learning_rate: 학습율. 너무 큰 학습율은 성능을 떨어뜨리고, 너무 작은 학습율은 학습이 느리다. 적절한 값을 찾아야함. n_estimators와 같이 튜닝. default=0.1\n",
    "- n_estimators: 부스팅 스테이지 수. (랜덤포레스트 트리의 갯수 설정과 비슷한 개념). default=100\n",
    "- max_depth: 트리의 깊이. 과대적합 방지용. default=3. \n",
    "- subsample: 샘플 사용 비율. 과대적합 방지용. default=1.0\n",
    "- max_features: 최대로 사용할 feature의 비율. 과대적합 방지용. default=1.0"
   ]
  },
  {
   "cell_type": "code",
   "execution_count": 47,
   "metadata": {},
   "outputs": [
    {
     "name": "stdout",
     "output_type": "stream",
     "text": [
      "Looking in indexes: http://mirror.kakao.com/pypi/simple\n",
      "Collecting xgboost\n",
      "  Downloading http://mirror.kakao.com/pypi/packages/bb/35/169eec194bf1f9ef52ed670f5032ef2abaf6ed285cfadcb4b6026b800fc9/xgboost-1.4.2-py3-none-manylinux2010_x86_64.whl (166.7 MB)\n",
      "\u001b[K     |████████████████████████████████| 166.7 MB 93.5 MB/s eta 0:00:011 MB 19.7 MB/s eta 0:00:09                       | 14.3 MB 19.7 MB/s eta 0:00:08 MB 19.7 MB/s eta 0:00:08 |████▊                           | 24.5 MB 19.7 MB/s eta 0:00:08         | 31.5 MB 19.7 MB/s eta 0:00:07                | 39.0 MB 19.7 MB/s eta 0:00:07                | 42.2 MB 19.7 MB/s eta 0:00:0707    |██████████▎                     | 53.8 MB 19.7 MB/s eta 0:00:06/s eta 0:00:069.7 MB/s eta 0:00:05█████████                 | 77.8 MB 106.1 MB/s eta 0:00:01��█████████████▍              | 90.7 MB 106.1 MB/s eta 0:00:01MB/s eta 0:00:01�███████▉            | 103.3 MB 106.1 MB/s eta 0:00:01��████████████████████           | 109.3 MB 106.1 MB/s eta 0:00:01ta 0:00:01��███████████████▍        | 121.9 MB 106.1 MB/s eta 0:00:01��███████▏     | 136.4 MB 106.1 MB/s eta 0:00:01 MB 106.1 MB/s eta 0:00:01ta 0:00:01�█▉ | 160.8 MB 93.5 MB/s eta 0:00:01\n",
      "\u001b[?25hRequirement already satisfied: scipy in /usr/local/lib/python3.6/dist-packages (from xgboost) (1.4.1)\n",
      "Requirement already satisfied: numpy in /usr/local/lib/python3.6/dist-packages (from xgboost) (1.16.4)\n",
      "Installing collected packages: xgboost\n",
      "Successfully installed xgboost-1.4.2\n",
      "\u001b[33mWARNING: You are using pip version 20.1; however, version 21.2.4 is available.\n",
      "You should consider upgrading via the '/usr/bin/python3 -m pip install --upgrade pip' command.\u001b[0m\n"
     ]
    }
   ],
   "source": [
    "!pip install xgboost"
   ]
  },
  {
   "cell_type": "code",
   "execution_count": 48,
   "metadata": {},
   "outputs": [],
   "source": [
    "from xgboost import XGBClassifier"
   ]
  },
  {
   "cell_type": "code",
   "execution_count": 49,
   "metadata": {},
   "outputs": [
    {
     "name": "stdout",
     "output_type": "stream",
     "text": [
      "[10:21:21] WARNING: ../src/learner.cc:1095: Starting in XGBoost 1.3.0, the default evaluation metric used with the objective 'binary:logistic' was changed from 'error' to 'logloss'. Explicitly set eval_metric if you'd like to restore the old behavior.\n"
     ]
    },
    {
     "data": {
      "text/plain": [
       "XGBClassifier(base_score=0.5, booster='gbtree', colsample_bylevel=1,\n",
       "              colsample_bynode=1, colsample_bytree=1, gamma=0, gpu_id=-1,\n",
       "              importance_type='gain', interaction_constraints='',\n",
       "              learning_rate=0.300000012, max_delta_step=0, max_depth=6,\n",
       "              min_child_weight=1, missing=nan, monotone_constraints='()',\n",
       "              n_estimators=3, n_jobs=64, num_parallel_tree=1, random_state=42,\n",
       "              reg_alpha=0, reg_lambda=1, scale_pos_weight=1, subsample=1,\n",
       "              tree_method='exact', validate_parameters=1, verbosity=None)"
      ]
     },
     "execution_count": 49,
     "metadata": {},
     "output_type": "execute_result"
    }
   ],
   "source": [
    "xgb = XGBClassifier(n_estimators=3, random_state=42)  # 10초 소요\n",
    "xgb.fit(X_train, y_train)"
   ]
  },
  {
   "cell_type": "code",
   "execution_count": 50,
   "metadata": {},
   "outputs": [],
   "source": [
    "xgb_pred = xgb.predict(X_test)"
   ]
  },
  {
   "cell_type": "code",
   "execution_count": 51,
   "metadata": {},
   "outputs": [
    {
     "name": "stdout",
     "output_type": "stream",
     "text": [
      "                   model   accuracy\n",
      "0                XGBoost  97.825160\n",
      "1  RandomForest Ensemble  97.611940\n",
      "2           DecisionTree  97.313433\n",
      "3     K-Nearest Neighbor  94.712154\n",
      "4     LogisticRegression  92.963753\n"
     ]
    },
    {
     "data": {
      "text/plain": [
       "<Figure size 864x648 with 0 Axes>"
      ]
     },
     "metadata": {},
     "output_type": "display_data"
    },
    {
     "data": {
      "image/png": "[encoded data removed]",
      "text/plain": [
       "<Figure size 720x360 with 1 Axes>"
      ]
     },
     "metadata": {
      "needs_background": "light"
     },
     "output_type": "display_data"
    }
   ],
   "source": [
    "accuracy_eval('XGBoost', xgb_pred, y_test)"
   ]
  },
  {
   "cell_type": "markdown",
   "metadata": {},
   "source": [
    "###  \n",
    "### 6) Light GBM\n",
    "+ XGBoost와 함께 주목받는 DecisionTree 알고리즘 기반의 Boosting 앙상블 기법\n",
    "+ XGBoost에 비해 학습시간이 짧은 편이다."
   ]
  },
  {
   "cell_type": "markdown",
   "metadata": {
    "id": "Unk2_LocLD_I"
   },
   "source": [
    "**주요 특징**\n",
    "- scikit-learn 패키지가 아닙니다.\n",
    "- 성능이 우수함\n",
    "- 속도도 매우 빠릅니다."
   ]
  },
  {
   "cell_type": "markdown",
   "metadata": {
    "id": "GaKdEHJpLrm4"
   },
   "source": [
    "**주요 Hyperparameter**\n",
    "- random_state: 랜덤 시드 고정 값. 고정해두고 튜닝할 것!\n",
    "- n_jobs: CPU 사용 갯수\n",
    "- learning_rate: 학습율. 너무 큰 학습율은 성능을 떨어뜨리고, 너무 작은 학습율은 학습이 느리다. 적절한 값을 찾아야함. n_estimators와 같이 튜닝. default=0.1\n",
    "- n_estimators: 부스팅 스테이지 수. (랜덤포레스트 트리의 갯수 설정과 비슷한 개념). default=100\n",
    "- max_depth: 트리의 깊이. 과대적합 방지용. default=3. \n",
    "- colsample_bytree: 샘플 사용 비율 (max_features와 비슷한 개념). 과대적합 방지용. default=1.0"
   ]
  },
  {
   "cell_type": "code",
   "execution_count": 52,
   "metadata": {},
   "outputs": [
    {
     "name": "stdout",
     "output_type": "stream",
     "text": [
      "Looking in indexes: http://mirror.kakao.com/pypi/simple\n",
      "Collecting lightgbm\n",
      "  Downloading http://mirror.kakao.com/pypi/packages/18/b2/fff8370f48549ce223f929fe8cab4ee6bf285a41f86037d91312b48ed95b/lightgbm-3.2.1-py3-none-manylinux1_x86_64.whl (2.0 MB)\n",
      "\u001b[K     |████████████████████████████████| 2.0 MB 21.6 MB/s eta 0:00:01\n",
      "\u001b[?25hRequirement already satisfied: scipy in /usr/local/lib/python3.6/dist-packages (from lightgbm) (1.4.1)\n",
      "Requirement already satisfied: numpy in /usr/local/lib/python3.6/dist-packages (from lightgbm) (1.16.4)\n",
      "Requirement already satisfied: scikit-learn!=0.22.0 in /usr/local/lib/python3.6/dist-packages (from lightgbm) (0.23.1)\n",
      "Requirement already satisfied: wheel in /usr/lib/python3/dist-packages (from lightgbm) (0.30.0)\n",
      "Requirement already satisfied: threadpoolctl>=2.0.0 in /usr/local/lib/python3.6/dist-packages (from scikit-learn!=0.22.0->lightgbm) (2.1.0)\n",
      "Requirement already satisfied: joblib>=0.11 in /usr/local/lib/python3.6/dist-packages (from scikit-learn!=0.22.0->lightgbm) (0.15.1)\n",
      "Installing collected packages: lightgbm\n",
      "Successfully installed lightgbm-3.2.1\n",
      "\u001b[33mWARNING: You are using pip version 20.1; however, version 21.2.4 is available.\n",
      "You should consider upgrading via the '/usr/bin/python3 -m pip install --upgrade pip' command.\u001b[0m\n"
     ]
    }
   ],
   "source": [
    "!pip install lightgbm"
   ]
  },
  {
   "cell_type": "code",
   "execution_count": 53,
   "metadata": {},
   "outputs": [],
   "source": [
    "from lightgbm import LGBMClassifier"
   ]
  },
  {
   "cell_type": "code",
   "execution_count": 54,
   "metadata": {},
   "outputs": [
    {
     "data": {
      "text/plain": [
       "LGBMClassifier(n_estimators=3, random_state=42)"
      ]
     },
     "execution_count": 54,
     "metadata": {},
     "output_type": "execute_result"
    }
   ],
   "source": [
    "lgbm = LGBMClassifier(n_estimators=3, random_state=42)   # 1분 소요\n",
    "lgbm.fit(X_train, y_train)"
   ]
  },
  {
   "cell_type": "code",
   "execution_count": 55,
   "metadata": {},
   "outputs": [],
   "source": [
    "lgbm_pred = lgbm.predict(X_test)"
   ]
  },
  {
   "cell_type": "code",
   "execution_count": 56,
   "metadata": {},
   "outputs": [
    {
     "name": "stdout",
     "output_type": "stream",
     "text": [
      "                   model   accuracy\n",
      "0                XGBoost  97.825160\n",
      "1  RandomForest Ensemble  97.611940\n",
      "2           DecisionTree  97.313433\n",
      "3     K-Nearest Neighbor  94.712154\n",
      "4     LogisticRegression  92.963753\n",
      "5                   LGBM  89.936034\n"
     ]
    },
    {
     "data": {
      "text/plain": [
       "<Figure size 864x648 with 0 Axes>"
      ]
     },
     "metadata": {},
     "output_type": "display_data"
    },
    {
     "data": {
      "image/png": "[encoded data removed]",
      "text/plain": [
       "<Figure size 720x432 with 1 Axes>"
      ]
     },
     "metadata": {
      "needs_background": "light"
     },
     "output_type": "display_data"
    }
   ],
   "source": [
    "accuracy_eval('LGBM', lgbm_pred, y_test)"
   ]
  },
  {
   "cell_type": "markdown",
   "metadata": {
    "id": "fCQyRaTsNYbX"
   },
   "source": [
    "### 7) Stacking"
   ]
  },
  {
   "cell_type": "markdown",
   "metadata": {
    "id": "F-kKF3g9Qw95"
   },
   "source": [
    "개별 모델이 예측한 데이터를 기반으로 **final_estimator** 종합하여 예측을 수행합니다.\n",
    "- 성능을 극으로 끌어올릴 때 활용하기도 합니다.\n",
    "- 과대적합을 유발할 수 있습니다. (특히, 데이터셋이 적은 경우)"
   ]
  },
  {
   "cell_type": "code",
   "execution_count": 57,
   "metadata": {
    "id": "DA0HqTLSK7fZ"
   },
   "outputs": [],
   "source": [
    "from sklearn.ensemble import StackingRegressor, StackingClassifier"
   ]
  },
  {
   "cell_type": "code",
   "execution_count": 58,
   "metadata": {
    "id": "hW_QeDoyNViP"
   },
   "outputs": [],
   "source": [
    "stack_models = [\n",
    "    ('LogisticRegression', lg), \n",
    "    ('KNN', knn), \n",
    "    ('DecisionTree', dt),\n",
    "]"
   ]
  },
  {
   "cell_type": "code",
   "execution_count": 59,
   "metadata": {
    "id": "UFD0xCsyNN9M"
   },
   "outputs": [],
   "source": [
    "# stack_models로 선언된 모델(LogisticRegression,KNN,DecisionTree)의 예측결과를 최종 meta_model(final_estimator)을 RandomForest(rfc) 사용하여 분류 예측 \n",
    "stacking = StackingClassifier(stack_models, final_estimator=rfc, n_jobs=-1)"
   ]
  },
  {
   "cell_type": "code",
   "execution_count": 60,
   "metadata": {},
   "outputs": [
    {
     "data": {
      "text/plain": [
       "StackingClassifier(estimators=[('LogisticRegression',\n",
       "                                LogisticRegression(max_iter=2000)),\n",
       "                               ('KNN', KNeighborsClassifier()),\n",
       "                               ('DecisionTree',\n",
       "                                DecisionTreeClassifier(max_depth=10,\n",
       "                                                       random_state=42))],\n",
       "                   final_estimator=RandomForestClassifier(n_estimators=3,\n",
       "                                                          random_state=42),\n",
       "                   n_jobs=-1)"
      ]
     },
     "execution_count": 60,
     "metadata": {},
     "output_type": "execute_result"
    }
   ],
   "source": [
    "stacking.fit(X_train, y_train)   # 1분 20초 소요"
   ]
  },
  {
   "cell_type": "code",
   "execution_count": 61,
   "metadata": {
    "colab": {
     "base_uri": "https://localhost:8080/",
     "height": 1000
    },
    "id": "wGI-q5hcOome",
    "outputId": "ec24b407-fac8-4bd3-f092-0eafd142747f"
   },
   "outputs": [],
   "source": [
    "stacking_pred = stacking.predict(X_test)"
   ]
  },
  {
   "cell_type": "code",
   "execution_count": 62,
   "metadata": {},
   "outputs": [
    {
     "name": "stdout",
     "output_type": "stream",
     "text": [
      "                   model   accuracy\n",
      "0                XGBoost  97.825160\n",
      "1  RandomForest Ensemble  97.611940\n",
      "2           DecisionTree  97.313433\n",
      "3      Stacking Ensemble  96.247335\n",
      "4     K-Nearest Neighbor  94.712154\n",
      "5     LogisticRegression  92.963753\n",
      "6                   LGBM  89.936034\n"
     ]
    },
    {
     "data": {
      "text/plain": [
       "<Figure size 864x648 with 0 Axes>"
      ]
     },
     "metadata": {},
     "output_type": "display_data"
    },
    {
     "data": {
      "image/png": "[encoded data removed]",
      "text/plain": [
       "<Figure size 720x504 with 1 Axes>"
      ]
     },
     "metadata": {
      "needs_background": "light"
     },
     "output_type": "display_data"
    }
   ],
   "source": [
    "accuracy_eval('Stacking Ensemble', stacking_pred, y_test)"
   ]
  },
  {
   "cell_type": "markdown",
   "metadata": {
    "id": "X284iz5vRa7A"
   },
   "source": [
    "### 8) Weighted Blending"
   ]
  },
  {
   "cell_type": "markdown",
   "metadata": {
    "id": "wMB3W6tXRdl2"
   },
   "source": [
    "각 모델의 예측값에 대하여 weight를 곱하여 최종 output 계산\n",
    "- 모델에 대한 가중치를 조절하여, 최종 output을 산출합니다.\n",
    "- **가중치의 합은 1.0**이 되도록 합니다."
   ]
  },
  {
   "cell_type": "code",
   "execution_count": 63,
   "metadata": {
    "id": "M6ayGpgWRhu1"
   },
   "outputs": [],
   "source": [
    "final_outputs = {\n",
    "    'DecisionTree': dt_pred, \n",
    "    'randomforest': rfc_pred, \n",
    "    'xgb': xgb_pred, \n",
    "    'lgbm': lgbm_pred,\n",
    "    'stacking': stacking_pred,\n",
    "}"
   ]
  },
  {
   "cell_type": "code",
   "execution_count": 64,
   "metadata": {
    "id": "qinsFfubSHad"
   },
   "outputs": [],
   "source": [
    "final_prediction=\\\n",
    "final_outputs['DecisionTree'] * 0.1\\\n",
    "+final_outputs['randomforest'] * 0.2\\\n",
    "+final_outputs['xgb'] * 0.25\\\n",
    "+final_outputs['lgbm'] * 0.15\\\n",
    "+final_outputs['stacking'] * 0.3\\"
   ]
  },
  {
   "cell_type": "code",
   "execution_count": 65,
   "metadata": {},
   "outputs": [],
   "source": [
    "# 가중치 계산값이 0.5 초과하면 1, 그렇지 않으면 0\n",
    "final_prediction = np.where(final_prediction > 0.5, 1, 0)"
   ]
  },
  {
   "cell_type": "code",
   "execution_count": 66,
   "metadata": {
    "colab": {
     "base_uri": "https://localhost:8080/",
     "height": 1000
    },
    "id": "_CcJWidqSHQI",
    "outputId": "d4eff17f-242e-4f85-d697-5860750693bc"
   },
   "outputs": [
    {
     "name": "stdout",
     "output_type": "stream",
     "text": [
      "                   model   accuracy\n",
      "0                XGBoost  97.825160\n",
      "1      Weighted Blending  97.697228\n",
      "2  RandomForest Ensemble  97.611940\n",
      "3           DecisionTree  97.313433\n",
      "4      Stacking Ensemble  96.247335\n",
      "5     K-Nearest Neighbor  94.712154\n",
      "6     LogisticRegression  92.963753\n",
      "7                   LGBM  89.936034\n"
     ]
    },
    {
     "data": {
      "text/plain": [
       "<Figure size 864x648 with 0 Axes>"
      ]
     },
     "metadata": {},
     "output_type": "display_data"
    },
    {
     "data": {
      "image/png": "[encoded data removed]",
      "text/plain": [
       "<Figure size 720x576 with 1 Axes>"
      ]
     },
     "metadata": {
      "needs_background": "light"
     },
     "output_type": "display_data"
    }
   ],
   "source": [
    "accuracy_eval('Weighted Blending', final_prediction, y_test)"
   ]
  },
  {
   "cell_type": "code",
   "execution_count": null,
   "metadata": {},
   "outputs": [],
   "source": []
  },
  {
   "cell_type": "code",
   "execution_count": null,
   "metadata": {},
   "outputs": [],
   "source": []
  },
  {
   "cell_type": "markdown",
   "metadata": {},
   "source": [
    "## 배운 내용 정리\n",
    "1. 머신러닝 모델 프로세스 <br>\n",
    "① 라이브러리 임포트(import)  \n",
    "② 데이터 가져오기(Loading the data)  \n",
    "③ 탐색적 데이터 분석(Exploratory Data Analysis)  \n",
    "④ 데이터 전처리(Data PreProcessing) : 데이터타입 변환, Null 데이터 처리, 누락데이터 처리, \n",
    "더미특성 생성, 특성 추출 (feature engineering) 등  \n",
    "⑤ Train, Test  데이터셋 분할  \n",
    "⑥ 데이터 정규화(Normalizing the Data)  \n",
    "⑦ 모델 개발(Creating the Model)  \n",
    "⑧ 모델 성능 평가\n",
    "2. 평가 지표 활용 : 모델별 성능 확인을 위한 함수 (가져다 쓰면 된다)\n",
    "3. 단일 회귀예측 모델 : LogisticRegression, KNN, DecisionTree\n",
    "4. 앙상블 (Ensemble) : RandomForest, XGBoost, LGBM, Stacking, Weighted Blending"
   ]
  }
 ],
 "metadata": {
  "colab": {
   "collapsed_sections": [],
   "name": "003.앙상블(Ensemble)-Voting,Bagging,Boosting,Stacking.ipynb",
   "provenance": [],
   "toc_visible": true
  },
  "kernelspec": {
   "display_name": "Python 3",
   "language": "python",
   "name": "python3"
  },
  "language_info": {
   "codemirror_mode": {
    "name": "ipython",
    "version": 3
   },
   "file_extension": ".py",
   "mimetype": "text/x-python",
   "name": "python",
   "nbconvert_exporter": "python",
   "pygments_lexer": "ipython3",
   "version": "3.6.9"
  }
 },
 "nbformat": 4,
 "nbformat_minor": 4
}