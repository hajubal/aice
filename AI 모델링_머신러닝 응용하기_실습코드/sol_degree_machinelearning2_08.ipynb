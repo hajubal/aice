{
 "cells": [
  {
   "attachments": {},
   "cell_type": "markdown",
   "id": "7d8fbd74",
   "metadata": {},
   "source": [
    "## 머신러닝 응용\n",
    "\n",
    "## 08. 미니 프로젝트"
   ]
  },
  {
   "attachments": {},
   "cell_type": "markdown",
   "id": "4dbe8d19",
   "metadata": {},
   "source": [
    "<img src = \"https://images.unsplash.com/photo-1499310392581-322cec0355a6?ixlib=rb-4.0.3&ixid=M3wxMjA3fDB8MHxwaG90by1wYWdlfHx8fGVufDB8fHx8fA%3D%3D&auto=format&fit=crop&w=1548&q=80\" width=80% align=\"center\"/>\n",
    "\n",
    "<div align=\"right\">사진: <a href=\"https://unsplash.com/ko/%EC%82%AC%EC%A7%84/5Za2sS955yg?utm_source=unsplash&utm_medium=referral&utm_content=creditCopyText\">Unsplash</a>의<a href=\"https://unsplash.com/@plhnk?utm_source=unsplash&utm_medium=referral&utm_content=creditCopyText\">Paul Hanaoka</a>\n",
    "  \n",
    "  </div>"
   ]
  },
  {
   "attachments": {},
   "cell_type": "markdown",
   "id": "56c18af6",
   "metadata": {},
   "source": [
    "### 문제 설명\n",
    "여러분은 캘리포니아의 주택 가격을 예측하는 것을 목표로 하고 있습니다. <br> \n",
    "사이킷런의 캘리포니아 주택 가격 데이터셋을 활용하여, 주택 가격을 예측하는 머신러닝 앙상블 모델을 개발해야 합니다.  "
   ]
  },
  {
   "attachments": {},
   "cell_type": "markdown",
   "id": "bedc7fee",
   "metadata": {},
   "source": [
    "### 파일 설명\n",
    "데이터 파일은 세개가 있습니다. \n",
    "- 학습 데이터 : train.csv\n",
    "- 예측 데이터 : test.csv ('target'을 제외한 'feature' 정보만 포함한 실제로 예측해야 되는 데이터)\n",
    "- 실제 데이터 : actual_value.csv ('test.csv'의 실제 정답 데이터)\n",
    "\n",
    "⛔️ 주의 사항 : 모델 학습 시에는 학습 데이터('train.csv') 외에는 사용하면 안됩니다.\n",
    "\n",
    "### 데이터 설명\n",
    "주어진 데이터에는 다양한 특성들이 포함되어 있습니다. 몇 가지 일반적인 특성은 다음과 같습니다.\n",
    "\n",
    "[Feature]\n",
    "- MedInc : 해당 지역의 중간 소득\n",
    "- HouseAge : 해당 지역의 주택 연식 중간값\n",
    "- AveRooms : 해당 지역의 평균 방 개수\n",
    "- AveBedrms : 해당 지역의 평균 침실 개수\n",
    "- Population : 해당 지역의 인구 수\n",
    "- AveOccup : 해당 지역의 평균 입주자 수\n",
    "- Latitude : 해당 지역의 위도\n",
    "- Longitude : 해당 지역의 경도\n",
    "\n",
    "[Target]\n",
    "- MEDV : 주택 가격 중간값 (단위 1,000달러)\n",
    "\n",
    "### 평가 지표\n",
    "가격 예측 모델의 성능은 Root Mean Squared Error (RMSE)를 기준으로 측정됩니다. 참가자들은 주어진 훈련 데이터를 활용하여 모델을 학습시킨 후, 테스트 데이터에 대한 가격 예측을 수행합니다. "
   ]
  },
  {
   "cell_type": "code",
   "id": "199e38b9",
   "metadata": {
    "ExecuteTime": {
     "end_time": "2024-08-30T04:10:44.117340Z",
     "start_time": "2024-08-30T04:10:44.115691Z"
    }
   },
   "source": [
    "import warnings\n",
    "warnings.filterwarnings(action='ignore')"
   ],
   "outputs": [],
   "execution_count": 1
  },
  {
   "attachments": {},
   "cell_type": "markdown",
   "id": "f50278f2",
   "metadata": {},
   "source": [
    "#### <font color='red'>Q1</font>  데이터 셋을 불러오고, 데이터 셋의 크기, 변수의 개수 등을 파악하세요.\n",
    "> 데이터 파일명 :\"train.csv\" "
   ]
  },
  {
   "cell_type": "code",
   "id": "312d51a8",
   "metadata": {
    "scrolled": false,
    "ExecuteTime": {
     "end_time": "2024-08-30T04:10:44.134797Z",
     "start_time": "2024-08-30T04:10:44.118130Z"
    }
   },
   "source": [
    "# 여기에 작성하세요.\n",
    "import pandas as pd\n",
    "\n",
    "df = pd.read_csv(\"./data/train.csv\")\n",
    "\n",
    "df.head()\n"
   ],
   "outputs": [
    {
     "data": {
      "text/plain": [
       "   MedInc  HouseAge  AveRooms  AveBedrms  Population  AveOccup  Latitude  \\\n",
       "0  3.2596      33.0  5.017657   1.006421      2300.0  3.691814     32.71   \n",
       "1  3.8125      49.0  4.473545   1.041005      1314.0  1.738095     33.77   \n",
       "2  4.1563       4.0  5.645833   0.985119       915.0  2.723214     34.66   \n",
       "3  1.9425      36.0  4.002817   1.033803      1418.0  3.994366     32.69   \n",
       "4  3.5542      43.0  6.268421   1.134211       874.0  2.300000     36.78   \n",
       "\n",
       "   Longitude   MEDV  \n",
       "0    -117.03  1.030  \n",
       "1    -118.16  3.821  \n",
       "2    -120.48  1.726  \n",
       "3    -117.11  0.934  \n",
       "4    -119.80  0.965  "
      ],
      "text/html": [
       "<div>\n",
       "<style scoped>\n",
       "    .dataframe tbody tr th:only-of-type {\n",
       "        vertical-align: middle;\n",
       "    }\n",
       "\n",
       "    .dataframe tbody tr th {\n",
       "        vertical-align: top;\n",
       "    }\n",
       "\n",
       "    .dataframe thead th {\n",
       "        text-align: right;\n",
       "    }\n",
       "</style>\n",
       "<table border=\"1\" class=\"dataframe\">\n",
       "  <thead>\n",
       "    <tr style=\"text-align: right;\">\n",
       "      <th></th>\n",
       "      <th>MedInc</th>\n",
       "      <th>HouseAge</th>\n",
       "      <th>AveRooms</th>\n",
       "      <th>AveBedrms</th>\n",
       "      <th>Population</th>\n",
       "      <th>AveOccup</th>\n",
       "      <th>Latitude</th>\n",
       "      <th>Longitude</th>\n",
       "      <th>MEDV</th>\n",
       "    </tr>\n",
       "  </thead>\n",
       "  <tbody>\n",
       "    <tr>\n",
       "      <th>0</th>\n",
       "      <td>3.2596</td>\n",
       "      <td>33.0</td>\n",
       "      <td>5.017657</td>\n",
       "      <td>1.006421</td>\n",
       "      <td>2300.0</td>\n",
       "      <td>3.691814</td>\n",
       "      <td>32.71</td>\n",
       "      <td>-117.03</td>\n",
       "      <td>1.030</td>\n",
       "    </tr>\n",
       "    <tr>\n",
       "      <th>1</th>\n",
       "      <td>3.8125</td>\n",
       "      <td>49.0</td>\n",
       "      <td>4.473545</td>\n",
       "      <td>1.041005</td>\n",
       "      <td>1314.0</td>\n",
       "      <td>1.738095</td>\n",
       "      <td>33.77</td>\n",
       "      <td>-118.16</td>\n",
       "      <td>3.821</td>\n",
       "    </tr>\n",
       "    <tr>\n",
       "      <th>2</th>\n",
       "      <td>4.1563</td>\n",
       "      <td>4.0</td>\n",
       "      <td>5.645833</td>\n",
       "      <td>0.985119</td>\n",
       "      <td>915.0</td>\n",
       "      <td>2.723214</td>\n",
       "      <td>34.66</td>\n",
       "      <td>-120.48</td>\n",
       "      <td>1.726</td>\n",
       "    </tr>\n",
       "    <tr>\n",
       "      <th>3</th>\n",
       "      <td>1.9425</td>\n",
       "      <td>36.0</td>\n",
       "      <td>4.002817</td>\n",
       "      <td>1.033803</td>\n",
       "      <td>1418.0</td>\n",
       "      <td>3.994366</td>\n",
       "      <td>32.69</td>\n",
       "      <td>-117.11</td>\n",
       "      <td>0.934</td>\n",
       "    </tr>\n",
       "    <tr>\n",
       "      <th>4</th>\n",
       "      <td>3.5542</td>\n",
       "      <td>43.0</td>\n",
       "      <td>6.268421</td>\n",
       "      <td>1.134211</td>\n",
       "      <td>874.0</td>\n",
       "      <td>2.300000</td>\n",
       "      <td>36.78</td>\n",
       "      <td>-119.80</td>\n",
       "      <td>0.965</td>\n",
       "    </tr>\n",
       "  </tbody>\n",
       "</table>\n",
       "</div>"
      ]
     },
     "execution_count": 2,
     "metadata": {},
     "output_type": "execute_result"
    }
   ],
   "execution_count": 2
  },
  {
   "cell_type": "code",
   "id": "8943147a",
   "metadata": {
    "ExecuteTime": {
     "end_time": "2024-08-30T04:10:44.139746Z",
     "start_time": "2024-08-30T04:10:44.135369Z"
    }
   },
   "source": [
    "df.info()"
   ],
   "outputs": [
    {
     "name": "stdout",
     "output_type": "stream",
     "text": [
      "<class 'pandas.core.frame.DataFrame'>\n",
      "RangeIndex: 16512 entries, 0 to 16511\n",
      "Data columns (total 9 columns):\n",
      " #   Column      Non-Null Count  Dtype  \n",
      "---  ------      --------------  -----  \n",
      " 0   MedInc      16512 non-null  float64\n",
      " 1   HouseAge    16512 non-null  float64\n",
      " 2   AveRooms    16512 non-null  float64\n",
      " 3   AveBedrms   16512 non-null  float64\n",
      " 4   Population  16512 non-null  float64\n",
      " 5   AveOccup    16512 non-null  float64\n",
      " 6   Latitude    16512 non-null  float64\n",
      " 7   Longitude   16512 non-null  float64\n",
      " 8   MEDV        16512 non-null  float64\n",
      "dtypes: float64(9)\n",
      "memory usage: 1.1 MB\n"
     ]
    }
   ],
   "execution_count": 3
  },
  {
   "attachments": {},
   "cell_type": "markdown",
   "id": "4cf55e02",
   "metadata": {},
   "source": [
    "---"
   ]
  },
  {
   "attachments": {},
   "cell_type": "markdown",
   "id": "849ea585",
   "metadata": {},
   "source": [
    "#### <font color='red'>Q2</font> 데이터셋을 학습 데이터와 검증용 데이터로 분할하세요. \n",
    "> 데이터 분리 시 옵션은 자유롭게 설정하셔도 무관합니다."
   ]
  },
  {
   "cell_type": "code",
   "id": "8898feed",
   "metadata": {
    "ExecuteTime": {
     "end_time": "2024-08-30T04:10:44.278223Z",
     "start_time": "2024-08-30T04:10:44.140470Z"
    }
   },
   "source": [
    "# 여기에 작성하세요.\n",
    "from sklearn.model_selection import train_test_split\n",
    "\n",
    "x = df.drop(columns=['MEDV'])\n",
    "y = df['MEDV']\n",
    "\n",
    "x_train, x_test, y_train, y_test = train_test_split(x, y, test_size=0.2, random_state=42)\n"
   ],
   "outputs": [],
   "execution_count": 4
  },
  {
   "attachments": {},
   "cell_type": "markdown",
   "id": "7633801e",
   "metadata": {},
   "source": [
    "#### <font color='red'>Q3</font> Feature('train_x', 'test_x') 데이터 정규화 작업을 진행합니다. \n",
    "> 데이터 정규화는 MinMaxScaler를 사용하면 쉽게 할 수 있습니다. \n",
    "\n",
    "**📌 <font color='red'>주의사항</font>**<br>\n",
    "- 정규화 작업은 Target을 제외한 Feature만 합니다. \n",
    "- Test 데이터를 정규화 작업 시 사용하면 안됩니다."
   ]
  },
  {
   "cell_type": "code",
   "id": "3b563200",
   "metadata": {
    "ExecuteTime": {
     "end_time": "2024-08-30T04:10:44.282697Z",
     "start_time": "2024-08-30T04:10:44.278915Z"
    }
   },
   "source": [
    "from sklearn.preprocessing import MinMaxScaler\n",
    "\n",
    "scaler = MinMaxScaler()\n",
    "x_train = scaler.fit_transform(x_train)\n",
    "x_test = scaler.transform(x_test)"
   ],
   "outputs": [],
   "execution_count": 5
  },
  {
   "attachments": {},
   "cell_type": "markdown",
   "id": "b521d14c",
   "metadata": {},
   "source": [
    "#### <font color='red'>Q4</font>  앙상블 모델을 만들어 보세요. (Random Forest모델, XGBoost 모델 등)"
   ]
  },
  {
   "cell_type": "code",
   "id": "230918c5",
   "metadata": {
    "ExecuteTime": {
     "end_time": "2024-08-30T04:10:44.381056Z",
     "start_time": "2024-08-30T04:10:44.283383Z"
    }
   },
   "source": [
    "# 여기에 작성하세요.\n",
    "from sklearn.ensemble import RandomForestRegressor\n",
    "from xgboost import XGBRegressor\n",
    "\n",
    "model_rf = RandomForestRegressor(random_state=42)\n",
    "model_xgb = XGBRegressor(random_state=42)"
   ],
   "outputs": [],
   "execution_count": 6
  },
  {
   "attachments": {},
   "cell_type": "markdown",
   "id": "90e51c80",
   "metadata": {},
   "source": [
    "#### <font color='red'>Q5</font>  모델을 평가하고, 각 알고리즘의 성능을 비교해 보세요. "
   ]
  },
  {
   "cell_type": "code",
   "id": "46e29b7e",
   "metadata": {
    "scrolled": true,
    "ExecuteTime": {
     "end_time": "2024-08-30T04:10:50.941785Z",
     "start_time": "2024-08-30T04:10:44.381776Z"
    }
   },
   "source": [
    "# 여기에 작성하세요.\n",
    "model_rf.fit(x_train, y_train)\n",
    "model_xgb.fit(x_train, y_train)\n",
    "\n",
    "y_pred_rf = model_rf.predict(x_test)\n",
    "y_pred_xgb = model_xgb.predict(x_test)\n"
   ],
   "outputs": [],
   "execution_count": 7
  },
  {
   "cell_type": "code",
   "id": "ca38c75d",
   "metadata": {
    "scrolled": true,
    "ExecuteTime": {
     "end_time": "2024-08-30T04:10:50.945506Z",
     "start_time": "2024-08-30T04:10:50.942589Z"
    }
   },
   "source": [
    "from sklearn.metrics import mean_squared_error\n",
    "\n",
    "print(\"Random Forest RMSE : \", mean_squared_error(y_test, y_pred_rf)**(1/2))\n",
    "print(\"XGB RMSE : \", mean_squared_error(y_test, y_pred_xgb)**(1/2))\n",
    "\n"
   ],
   "outputs": [
    {
     "name": "stdout",
     "output_type": "stream",
     "text": [
      "Random Forest RMSE :  0.5274174991657515\n",
      "XGB RMSE :  0.48483953639573385\n"
     ]
    }
   ],
   "execution_count": 8
  },
  {
   "attachments": {},
   "cell_type": "markdown",
   "id": "fb7180b2",
   "metadata": {},
   "source": [
    "#### <font color='red'>Q6</font>  성능이 좋은 모델의 특성 중요도를 확인해 보세요."
   ]
  },
  {
   "cell_type": "code",
   "id": "b0fafe01",
   "metadata": {
    "ExecuteTime": {
     "end_time": "2024-08-30T04:10:51.070261Z",
     "start_time": "2024-08-30T04:10:50.946341Z"
    }
   },
   "source": [
    "import matplotlib.pyplot as plt\n",
    "import seaborn as sns\n",
    "\n",
    "# Random Forest 모델 특성 중요도 추출\n",
    "importances = model_xgb.feature_importances_\n",
    "\n",
    "# 특성 중요도를 데이터프레임으로 변환\n",
    "feature_importances = pd.DataFrame({'Feature': x.columns, \n",
    "                                    'Importance': importances})\n",
    "\n",
    "# 특성 중요도를 내림차순으로 정렬\n",
    "feature_importances = feature_importances.sort_values('Importance', ascending=False)\n",
    "\n",
    "# 차트 그리기\n",
    "plt.figure(figsize=(10, 6))\n",
    "sns.barplot(x='Importance', y='Feature', data=feature_importances)\n",
    "plt.xlabel('Importance')\n",
    "plt.ylabel('Features')\n",
    "plt.title('Feature Importance')\n",
    "plt.show()"
   ],
   "outputs": [
    {
     "data": {
      "text/plain": [
       "<Figure size 1000x600 with 1 Axes>"
      ],
      "image/png": "[encoded data removed]"
     },
     "metadata": {},
     "output_type": "display_data"
    }
   ],
   "execution_count": 9
  },
  {
   "attachments": {},
   "cell_type": "markdown",
   "id": "cd7c64a8",
   "metadata": {},
   "source": [
    "#### <font color='red'>Q7</font>  하이퍼 파라미터를 조정하여 성능을 개선해 보세요.\n",
    "> - learning_rate : 학습률<br>\n",
    "> 학습률이 작을수록 과적합의 위험을 줄여주고, 모델의 안정성을 높일 수 있으나, 너무 작은 학습률은 학습에 많은 시간이 소요됩니다.\n",
    "> - n_estimators : 의사 결정 트리의 개수<br> \n",
    "> 일반적으로 더 많은 트리를 사용할수록 모델의 성능이 향상되지만, 학습 속도는 느려집니다. 이 값을 적절히 조정하여 과적합과 학습 시간 사이의 균형을 맞추어야 합니다.<br>"
   ]
  },
  {
   "cell_type": "code",
   "id": "745775fb",
   "metadata": {
    "ExecuteTime": {
     "end_time": "2024-08-30T04:10:52.135893Z",
     "start_time": "2024-08-30T04:10:51.110821Z"
    }
   },
   "source": [
    "model_xgb2 = XGBRegressor(random_state=42, learning_rate=0.1, n_estimators=1000)\n",
    "model_xgb2.fit(x_train, y_train)\n",
    "\n",
    "y_pred_xgb2 = model_xgb2.predict(x_test)\n",
    "print(\"XGB RMSE : \", mean_squared_error(y_test, y_pred_xgb2)**(1/2))"
   ],
   "outputs": [
    {
     "name": "stdout",
     "output_type": "stream",
     "text": [
      "XGB RMSE :  0.468354945766048\n"
     ]
    }
   ],
   "execution_count": 10
  },
  {
   "attachments": {},
   "cell_type": "markdown",
   "id": "81dfa245",
   "metadata": {},
   "source": [
    "#### <font color='red'>Q8</font> 성능이 좋은 모델을 선정하여 테스트 데이터를 불러와서 예측해 보세요.\n",
    "> 테스트 파일명 : \"test.csv\"\n",
    "\n",
    "**📌 <font color='red'>주의사항</font>**<br>\n",
    "- 불러온 데이터는 학습한 모델에 맞게 예측하기 위해 학습 시 사용한 scaler(MinMaxSclaer)에 맞춰 정규화 작업을 해야 합니다."
   ]
  },
  {
   "cell_type": "code",
   "id": "31fbe961",
   "metadata": {
    "ExecuteTime": {
     "end_time": "2024-08-30T04:10:52.152205Z",
     "start_time": "2024-08-30T04:10:52.136797Z"
    }
   },
   "source": [
    "# 여기에 작성하세요.\n",
    "test = pd.read_csv(\"./data/test.csv\")\n",
    "\n",
    "# 학습 데이터 기준으로 Feature 스케일링 작업\n",
    "test = scaler.transform(test)\n",
    "\n",
    "y_pred = model_xgb2.predict(test)"
   ],
   "outputs": [],
   "execution_count": 11
  },
  {
   "attachments": {},
   "cell_type": "markdown",
   "id": "20cd8586",
   "metadata": {},
   "source": [
    "#### <font color='red'>Q9</font> 정답 데이터를 불러와서 테스트 데이터로 예측한 결과의 RMSE를 확인하세요.\n",
    "> 정답 파일명 : \"actual_value.csv\""
   ]
  },
  {
   "cell_type": "code",
   "id": "c38dc0a7",
   "metadata": {
    "ExecuteTime": {
     "end_time": "2024-08-30T04:10:52.156274Z",
     "start_time": "2024-08-30T04:10:52.153072Z"
    }
   },
   "source": [
    "# 여기에 작성하세요.\n",
    "y_actual = pd.read_csv(\"./data/actual_value.csv\")"
   ],
   "outputs": [],
   "execution_count": 12
  },
  {
   "cell_type": "code",
   "id": "eb27409e",
   "metadata": {
    "ExecuteTime": {
     "end_time": "2024-08-30T04:10:52.159955Z",
     "start_time": "2024-08-30T04:10:52.157039Z"
    }
   },
   "source": [
    "# 여기에 작성하세요.\n",
    "print(\"XGB RMSE : \", mean_squared_error(y_actual, y_pred)**(1/2))"
   ],
   "outputs": [
    {
     "name": "stdout",
     "output_type": "stream",
     "text": [
      "XGB RMSE :  0.44971888695535894\n"
     ]
    }
   ],
   "execution_count": 13
  },
  {
   "attachments": {},
   "cell_type": "markdown",
   "id": "3b17770f",
   "metadata": {},
   "source": [
    "---"
   ]
  }
 ],
 "metadata": {
  "kernelspec": {
   "display_name": "Python 3 (ipykernel)",
   "language": "python",
   "name": "python3"
  },
  "language_info": {
   "codemirror_mode": {
    "name": "ipython",
    "version": 3
   },
   "file_extension": ".py",
   "mimetype": "text/x-python",
   "name": "python",
   "nbconvert_exporter": "python",
   "pygments_lexer": "ipython3",
   "version": "3.10.10"
  }
 },
 "nbformat": 4,
 "nbformat_minor": 5
}
