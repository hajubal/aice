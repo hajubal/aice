{
 "cells": [
  {
   "cell_type": "markdown",
   "id": "7d8fbd74",
   "metadata": {},
   "source": [
    "## 머신러닝 응용\n",
    "\n",
    "## 08. 미니 프로젝트"
   ]
  },
  {
   "cell_type": "markdown",
   "id": "4dbe8d19",
   "metadata": {},
   "source": [
    "<img src = \"https://images.unsplash.com/photo-1499310392581-322cec0355a6?ixlib=rb-4.0.3&ixid=M3wxMjA3fDB8MHxwaG90by1wYWdlfHx8fGVufDB8fHx8fA%3D%3D&auto=format&fit=crop&w=1548&q=80\" width=80% align=\"center\"/>\n",
    "\n",
    "<div align=\"right\">사진: <a href=\"https://unsplash.com/ko/%EC%82%AC%EC%A7%84/5Za2sS955yg?utm_source=unsplash&utm_medium=referral&utm_content=creditCopyText\">Unsplash</a>의<a href=\"https://unsplash.com/@plhnk?utm_source=unsplash&utm_medium=referral&utm_content=creditCopyText\">Paul Hanaoka</a>\n",
    "  \n",
    "  </div>"
   ]
  },
  {
   "cell_type": "markdown",
   "id": "56c18af6",
   "metadata": {},
   "source": [
    "### 문제 설명\n",
    "여러분은 캘리포니아의 주택 가격을 예측하는 것을 목표로 하고 있습니다. <br> \n",
    "사이킷런의 캘리포니아 주택 가격 데이터셋을 활용하여, 주택 가격을 예측하는 머신러닝 앙상블 모델을 개발해야 합니다.  "
   ]
  },
  {
   "cell_type": "markdown",
   "id": "bedc7fee",
   "metadata": {},
   "source": [
    "### 파일 설명\n",
    "데이터 파일은 세개가 있습니다. \n",
    "- 학습 데이터 : train.csv\n",
    "- 예측 데이터 : test.csv ('target'을 제외한 'feature' 정보만 포함한 실제로 예측해야 되는 데이터)\n",
    "- 실제 데이터 : actual_value.csv ('test.csv'의 실제 정답 데이터)\n",
    "\n",
    "⛔️ 주의 사항 : 모델 학습 시에는 학습 데이터('train.csv') 외에는 사용하면 안됩니다.\n",
    "\n",
    "### 데이터 설명\n",
    "주어진 데이터에는 다양한 특성들이 포함되어 있습니다. 몇 가지 일반적인 특성은 다음과 같습니다.\n",
    "\n",
    "[Feature]\n",
    "- MedInc : 해당 지역의 중간 소득\n",
    "- HouseAge : 해당 지역의 주택 연식 중간값\n",
    "- AveRooms : 해당 지역의 평균 방 개수\n",
    "- AveBedrms : 해당 지역의 평균 침실 개수\n",
    "- Population : 해당 지역의 인구 수\n",
    "- AveOccup : 해당 지역의 평균 입주자 수\n",
    "- Latitude : 해당 지역의 위도\n",
    "- Longitude : 해당 지역의 경도\n",
    "\n",
    "[Target]\n",
    "- MEDV : 주택 가격 중간값 (단위 1,000달러)\n",
    "\n",
    "### 평가 지표\n",
    "가격 예측 모델의 성능은 Root Mean Squared Error (RMSE)를 기준으로 측정됩니다. 참가자들은 주어진 훈련 데이터를 활용하여 모델을 학습시킨 후, 테스트 데이터에 대한 가격 예측을 수행합니다. "
   ]
  },
  {
   "cell_type": "code",
   "id": "199e38b9",
   "metadata": {
    "ExecuteTime": {
     "end_time": "2024-08-30T01:28:33.244483Z",
     "start_time": "2024-08-30T01:28:33.241680Z"
    }
   },
   "source": [
    "import warnings\n",
    "warnings.filterwarnings(action='ignore')"
   ],
   "outputs": [],
   "execution_count": 21
  },
  {
   "cell_type": "markdown",
   "id": "f50278f2",
   "metadata": {},
   "source": [
    "#### <font color='red'>Q1</font>  데이터 셋을 불러오고, 데이터 셋의 크기, 변수의 개수 등을 파악하세요.\n",
    "> 데이터 파일명 :\"train.csv\" "
   ]
  },
  {
   "cell_type": "code",
   "id": "312d51a8",
   "metadata": {
    "scrolled": false,
    "ExecuteTime": {
     "end_time": "2024-08-30T01:20:40.213604Z",
     "start_time": "2024-08-30T01:20:40.200751Z"
    }
   },
   "source": [
    "# 여기에 작성하세요.\n",
    "import pandas as pd\n",
    "\n",
    "df = pd.read_csv('./data/train.csv')\n",
    "# df.info()\n",
    "print(df.size)\n",
    "print(df.columns)\n",
    "print(type(df.columns))\n",
    "\n",
    "df.info()"
   ],
   "outputs": [
    {
     "name": "stdout",
     "output_type": "stream",
     "text": [
      "148608\n",
      "Index(['MedInc', 'HouseAge', 'AveRooms', 'AveBedrms', 'Population', 'AveOccup',\n",
      "       'Latitude', 'Longitude', 'MEDV'],\n",
      "      dtype='object')\n",
      "<class 'pandas.core.indexes.base.Index'>\n",
      "<class 'pandas.core.frame.DataFrame'>\n",
      "RangeIndex: 16512 entries, 0 to 16511\n",
      "Data columns (total 9 columns):\n",
      " #   Column      Non-Null Count  Dtype  \n",
      "---  ------      --------------  -----  \n",
      " 0   MedInc      16512 non-null  float64\n",
      " 1   HouseAge    16512 non-null  float64\n",
      " 2   AveRooms    16512 non-null  float64\n",
      " 3   AveBedrms   16512 non-null  float64\n",
      " 4   Population  16512 non-null  float64\n",
      " 5   AveOccup    16512 non-null  float64\n",
      " 6   Latitude    16512 non-null  float64\n",
      " 7   Longitude   16512 non-null  float64\n",
      " 8   MEDV        16512 non-null  float64\n",
      "dtypes: float64(9)\n",
      "memory usage: 1.1 MB\n"
     ]
    }
   ],
   "execution_count": 15
  },
  {
   "cell_type": "markdown",
   "id": "4cf55e02",
   "metadata": {},
   "source": [
    "---"
   ]
  },
  {
   "cell_type": "markdown",
   "id": "849ea585",
   "metadata": {},
   "source": [
    "#### <font color='red'>Q2</font> 데이터셋을 학습 데이터와 검증용 데이터로 분할하세요. \n",
    "> 데이터 분리 시 옵션은 자유롭게 설정하셔도 무관합니다."
   ]
  },
  {
   "cell_type": "code",
   "id": "8898feed",
   "metadata": {
    "ExecuteTime": {
     "end_time": "2024-08-30T01:28:11.762406Z",
     "start_time": "2024-08-30T01:28:11.757037Z"
    }
   },
   "source": [
    "# 여기에 작성하세요.\n",
    "from sklearn.model_selection import train_test_split\n",
    "\n",
    "X = df.drop(columns=['MEDV'])\n",
    "y = df['MEDV']\n",
    "\n",
    "X_train, x_valid, Y_train, y_valid = train_test_split(X, y, test_size=0.3)\n"
   ],
   "outputs": [],
   "execution_count": 19
  },
  {
   "cell_type": "markdown",
   "id": "7633801e",
   "metadata": {},
   "source": [
    "#### <font color='red'>Q3</font> Feature('train_x', 'test_x') 데이터 정규화 작업을 진행합니다. \n",
    "> 데이터 정규화는 MinMaxScaler를 사용하면 쉽게 할 수 있습니다. \n",
    "\n",
    "**📌 <font color='red'>주의사항</font>**<br>\n",
    "- 정규화 작업은 Target을 제외한 Feature만 합니다. \n",
    "- Test 데이터를 정규화 작업 시 사용하면 안됩니다."
   ]
  },
  {
   "cell_type": "code",
   "id": "3b563200",
   "metadata": {
    "ExecuteTime": {
     "end_time": "2024-08-30T01:29:06.069906Z",
     "start_time": "2024-08-30T01:29:06.063414Z"
    }
   },
   "source": [
    "# 여기에 작성하세요.\n",
    "\n",
    "from sklearn.preprocessing import MinMaxScaler\n",
    "\n",
    "mms = MinMaxScaler()\n",
    "\n",
    "X_train_scaler = mms.fit_transform(X_train)\n",
    "x_valid_scaler = mms.transform(x_valid)\n"
   ],
   "outputs": [],
   "execution_count": 23
  },
  {
   "cell_type": "markdown",
   "id": "b521d14c",
   "metadata": {},
   "source": [
    "#### <font color='red'>Q4</font>  앙상블 모델을 만들어 보세요. (Random Forest모델, XGBoost 모델 등)"
   ]
  },
  {
   "cell_type": "code",
   "id": "230918c5",
   "metadata": {
    "ExecuteTime": {
     "end_time": "2024-08-30T04:13:10.302388Z",
     "start_time": "2024-08-30T04:13:04.575786Z"
    }
   },
   "source": [
    "# 여기에 작성하세요.\n",
    "\n",
    "from sklearn.ensemble import RandomForestRegressor\n",
    "from xgboost import XGBRegressor\n",
    "\n",
    "rf = RandomForestRegressor(random_state=42)\n",
    "rf.fit(X_train, Y_train)\n",
    "\n",
    "rf_baseline = rf.predict(x_valid)\n",
    "\n",
    "xgb = XGBRegressor(random_state=42)\n",
    "xgb.fit(X_train, Y_train)\n",
    "\n",
    "xgb_baseline = xgb.predict(x_valid)"
   ],
   "outputs": [],
   "execution_count": 47
  },
  {
   "cell_type": "markdown",
   "id": "90e51c80",
   "metadata": {},
   "source": [
    "#### <font color='red'>Q5</font>  모델을 평가하고, 각 알고리즘의 성능을 비교해 보세요. "
   ]
  },
  {
   "cell_type": "code",
   "id": "46e29b7e",
   "metadata": {
    "scrolled": true,
    "ExecuteTime": {
     "end_time": "2024-08-30T04:13:18.622481Z",
     "start_time": "2024-08-30T04:13:18.616800Z"
    }
   },
   "source": [
    "# 여기에 작성하세요.\n",
    "\n",
    "from sklearn.metrics import mean_absolute_error\n",
    "\n",
    "print('Random forest: ', mean_absolute_error(rf_baseline, y_valid))\n",
    "print('XGB: ', mean_absolute_error(xgb_baseline, y_valid))\n"
   ],
   "outputs": [
    {
     "name": "stdout",
     "output_type": "stream",
     "text": [
      "Random forest:  0.3440011297133631\n",
      "XGB:  0.31641210993777946\n"
     ]
    }
   ],
   "execution_count": 49
  },
  {
   "cell_type": "markdown",
   "id": "c6c3feb9",
   "metadata": {},
   "source": [
    "#### <font color='red'>Q6</font>  성능이 좋은 모델의 특성 중요도를 확인해 보세요."
   ]
  },
  {
   "cell_type": "code",
   "id": "b0fafe01",
   "metadata": {
    "ExecuteTime": {
     "end_time": "2024-08-30T04:08:57.689573Z",
     "start_time": "2024-08-30T04:08:57.619550Z"
    }
   },
   "source": [
    "# 여기에 작성하세요.\n",
    "import matplotlib.pyplot as plt\n",
    "import seaborn as sns\n",
    "\n",
    "importance = rf.feature_importances_\n",
    "\n",
    "feature_importance = pd.DataFrame({'Feature': X.columns, 'Importance': importance})\n",
    "\n",
    "feature_importance = feature_importance.sort_values('Importance', ascending=False)\n",
    "\n",
    "plt.figure(figsize=(10, 6))\n",
    "sns.barplot(x='Importance', y='Feature', data=feature_importance)\n",
    "plt.xlabel('Importance')\n",
    "plt.ylabel('Features')\n",
    "plt.title('Feature Importance')\n",
    "plt.show()"
   ],
   "outputs": [
    {
     "data": {
      "text/plain": [
       "<Figure size 1000x600 with 1 Axes>"
      ],
      "image/png": "[encoded data removed]"
     },
     "metadata": {},
     "output_type": "display_data"
    }
   ],
   "execution_count": 41
  },
  {
   "cell_type": "markdown",
   "id": "cd7c64a8",
   "metadata": {},
   "source": [
    "#### <font color='red'>Q7</font>  하이퍼 파라미터를 조정하여 성능을 개선해 보세요.\n",
    "> - learning_rate : 학습률<br>\n",
    "> 학습률이 작을수록 과적합의 위험을 줄여주고, 모델의 안정성을 높일 수 있으나, 너무 작은 학습률은 학습에 많은 시간이 소요됩니다.\n",
    "> - n_estimators : 의사 결정 트리의 개수<br> \n",
    "> 일반적으로 더 많은 트리를 사용할수록 모델의 성능이 향상되지만, 학습 속도는 느려집니다. 이 값을 적절히 조정하여 과적합과 학습 시간 사이의 균형을 맞추어야 합니다.<br>"
   ]
  },
  {
   "cell_type": "code",
   "id": "745775fb",
   "metadata": {
    "ExecuteTime": {
     "end_time": "2024-08-30T04:34:27.364869Z",
     "start_time": "2024-08-30T04:34:27.283494Z"
    }
   },
   "source": [
    "# 여기에 작성하세요.\n",
    "\n",
    "xgb = XGBRegressor(n_estimators=100, learning_rate=0.1, max_depth=5)\n",
    "xgb.fit(X_train, Y_train)\n",
    "xgb_baseline = xgb.predict(x_valid)\n",
    "\n",
    "print('XGB: ', mean_absolute_error(xgb_baseline, y_valid))"
   ],
   "outputs": [
    {
     "name": "stdout",
     "output_type": "stream",
     "text": [
      "XGB:  0.33452874241881664\n"
     ]
    }
   ],
   "execution_count": 78
  },
  {
   "cell_type": "markdown",
   "id": "81dfa245",
   "metadata": {},
   "source": [
    "#### <font color='red'>Q8</font> 성능이 좋은 모델을 선정하여 테스트 데이터를 불러와서 예측해 보세요.\n",
    "> 테스트 파일명 : \"test.csv\"\n",
    "\n",
    "**📌 <font color='red'>주의사항</font>**<br>\n",
    "- 불러온 데이터는 학습한 모델에 맞게 예측하기 위해 학습 시 사용한 scaler(MinMaxSclaer)에 맞춰 정규화 작업을 해야 합니다."
   ]
  },
  {
   "cell_type": "code",
   "id": "31fbe961",
   "metadata": {
    "ExecuteTime": {
     "end_time": "2024-08-30T04:34:32.299791Z",
     "start_time": "2024-08-30T04:34:32.289778Z"
    }
   },
   "source": [
    "# 여기에 작성하세요.\n",
    "\n",
    "test_df = pd.read_csv('./data/test.csv')\n",
    "\n",
    "test_df = mms.transform(test_df)\n",
    "test_baseline = xgb.predict(test_df)"
   ],
   "outputs": [],
   "execution_count": 79
  },
  {
   "cell_type": "markdown",
   "id": "20cd8586",
   "metadata": {},
   "source": [
    "#### <font color='red'>Q9</font> 정답 데이터를 불러와서 테스트 데이터로 예측한 결과의 f1 score를 확인하세요.\n",
    "> 정답 파일명 : \"actual_value.csv\""
   ]
  },
  {
   "cell_type": "code",
   "id": "eb27409e",
   "metadata": {
    "ExecuteTime": {
     "end_time": "2024-08-30T04:34:45.241930Z",
     "start_time": "2024-08-30T04:34:45.235987Z"
    }
   },
   "source": [
    "# 여기에 작성하세요.\n",
    "actual = pd.read_csv('./data/actual_value.csv')\n",
    "\n",
    "score = mean_absolute_error(actual, test_baseline)\n",
    "print(score)"
   ],
   "outputs": [
    {
     "name": "stdout",
     "output_type": "stream",
     "text": [
      "1.026381075900377\n"
     ]
    }
   ],
   "execution_count": 81
  },
  {
   "cell_type": "markdown",
   "id": "3b17770f",
   "metadata": {},
   "source": [
    "---"
   ]
  }
 ],
 "metadata": {
  "kernelspec": {
   "display_name": "Python 3 (ipykernel)",
   "language": "python",
   "name": "python3"
  },
  "language_info": {
   "codemirror_mode": {
    "name": "ipython",
    "version": 3
   },
   "file_extension": ".py",
   "mimetype": "text/x-python",
   "name": "python",
   "nbconvert_exporter": "python",
   "pygments_lexer": "ipython3",
   "version": "3.10.9"
  }
 },
 "nbformat": 4,
 "nbformat_minor": 5
}
